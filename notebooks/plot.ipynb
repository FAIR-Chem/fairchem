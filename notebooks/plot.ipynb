{
    "cells": [
        {
            "cell_type": "code",
            "execution_count": 1,
            "metadata": {},
            "outputs": [],
            "source": [
                "import torch\n",
                "from pathlib import Path\n",
                "import sys\n",
                "import ocpmodels\n",
                "import numpy as np\n",
                "\n",
                "from ocpmodels.common.utils import (\n",
                "    build_config,\n",
                "    create_grid,\n",
                "    save_experiment_log,\n",
                "    setup_imports,\n",
                "    setup_logging,\n",
                ")\n",
                "from ocpmodels.common.flags import flags\n",
                "from ocpmodels.common.registry import registry"
            ]
        },
        {
            "cell_type": "code",
            "execution_count": 79,
            "metadata": {},
            "outputs": [],
            "source": [
                "sys.argv.append(\"--mode=train\")\n",
                "sys.argv.append(\"--config=configs/is2re/10k/schnet/schnet.yml\")\n",
                "setup_logging()"
            ]
        },
        {
            "cell_type": "code",
            "execution_count": 80,
            "metadata": {},
            "outputs": [],
            "source": [
                "parser = flags.get_parser()\n",
                "args, override_args = parser.parse_known_args()\n",
                "config = build_config(args, override_args)"
            ]
        },
        {
            "cell_type": "code",
            "execution_count": 81,
            "metadata": {},
            "outputs": [
                {
                    "data": {
                        "text/plain": [
                            "[{'src': '/network/projects/_groups/ocp/oc20/is2re/10k/train/data.lmdb',\n",
                            "  'normalize_labels': True,\n",
                            "  'target_mean': -1.525913953781128,\n",
                            "  'target_std': 2.279365062713623},\n",
                            " {'src': '/network/projects/_groups/ocp/oc20/is2re/all/val_id/data.lmdb'}]"
                        ]
                    },
                    "execution_count": 81,
                    "metadata": {},
                    "output_type": "execute_result"
                }
            ],
            "source": [
                "config[\"dataset\"]"
            ]
        },
        {
            "cell_type": "code",
            "execution_count": 82,
            "metadata": {},
            "outputs": [],
            "source": [
                "config[\"optim\"][\"num_workers\"] = 4\n",
                "config[\"optim\"][\"batch_size\"] = 10"
            ]
        },
        {
            "cell_type": "code",
            "execution_count": 83,
            "metadata": {},
            "outputs": [
                {
                    "data": {
                        "text/plain": [
                            "'energy'"
                        ]
                    },
                    "execution_count": 83,
                    "metadata": {},
                    "output_type": "execute_result"
                }
            ],
            "source": [
                "config.get(\"trainer\", \"energy\")"
            ]
        },
        {
            "cell_type": "code",
            "execution_count": 84,
            "metadata": {},
            "outputs": [
                {
                    "name": "stdout",
                    "output_type": "stream",
                    "text": [
                        "amp: false\n",
                        "cmd:\n",
                        "  checkpoint_dir: /network/scratch/a/alexandre.duval/ocp/runs/1870990/checkpoints\n",
                        "  commit: 7ae0b32\n",
                        "  identifier: ''\n",
                        "  logs_dir: /network/scratch/a/alexandre.duval/ocp/runs/1870990/logs\n",
                        "  print_every: 1000\n",
                        "  results_dir: /network/scratch/a/alexandre.duval/ocp/runs/1870990/results\n",
                        "  seed: 0\n",
                        "  timestamp_id: 2022-05-30-17-43-28\n",
                        "data_split: null\n",
                        "dataset:\n",
                        "  normalize_labels: true\n",
                        "  src: /network/projects/_groups/ocp/oc20/is2re/10k/train/data.lmdb\n",
                        "  target_mean: -1.525913953781128\n",
                        "  target_std: 2.279365062713623\n",
                        "gpus: 1\n",
                        "logger: wandb\n",
                        "model: schnet\n",
                        "model_attributes:\n",
                        "  cutoff: 6.0\n",
                        "  hidden_channels: 256\n",
                        "  num_filters: 128\n",
                        "  num_gaussians: 100\n",
                        "  num_interactions: 3\n",
                        "  regress_forces: false\n",
                        "  use_pbc: true\n",
                        "note: ''\n",
                        "optim:\n",
                        "  batch_size: 10\n",
                        "  eval_batch_size: 64\n",
                        "  lr_gamma: 0.1\n",
                        "  lr_initial: 0.005\n",
                        "  lr_milestones:\n",
                        "  - 1562\n",
                        "  - 2343\n",
                        "  - 3125\n",
                        "  max_epochs: 20\n",
                        "  num_workers: 4\n",
                        "  warmup_factor: 0.2\n",
                        "  warmup_steps: 468\n",
                        "run_dir: !!python/object/apply:pathlib.PosixPath\n",
                        "- /\n",
                        "- network\n",
                        "- scratch\n",
                        "- a\n",
                        "- alexandre.duval\n",
                        "- ocp\n",
                        "- runs\n",
                        "- '1870990'\n",
                        "slurm: {}\n",
                        "task:\n",
                        "  dataset: single_point_lmdb\n",
                        "  description: Relaxed state energy prediction from initial structure.\n",
                        "  labels:\n",
                        "  - relaxed energy\n",
                        "  metric: mae\n",
                        "  type: regression\n",
                        "val_dataset:\n",
                        "  src: /network/projects/_groups/ocp/oc20/is2re/all/val_id/data.lmdb\n",
                        "\n",
                        "2022-05-30 17:44:12 (INFO): Loading dataset: single_point_lmdb\n",
                        "2022-05-30 17:44:12 (INFO): Loading model: schnet\n",
                        "2022-05-30 17:44:12 (INFO): Loaded SchNetWrap with 541697 parameters.\n"
                    ]
                },
                {
                    "name": "stderr",
                    "output_type": "stream",
                    "text": [
                        "/home/mila/a/alexandre.duval/.conda/envs/ocp/lib/python3.8/site-packages/torch/utils/data/dataloader.py:487: UserWarning: This DataLoader will create 4 worker processes in total. Our suggested max number of worker in current system is 2, which is smaller than what this DataLoader is going to create. Please be aware that excessive worker creation might get DataLoader running slow or even freeze, lower the worker number to avoid potential slowness/freeze if necessary.\n",
                        "  warnings.warn(_create_warning_msg(\n"
                    ]
                }
            ],
            "source": [
                "setup_imports()\n",
                "trainer = registry.get_trainer_class(config.get(\"trainer\", \"energy\"))(\n",
                "                task=config[\"task\"],\n",
                "                model=config[\"model\"],\n",
                "                dataset=config[\"dataset\"],\n",
                "                optimizer=config[\"optim\"],\n",
                "                identifier=config[\"identifier\"],\n",
                "                timestamp_id=config.get(\"timestamp_id\", None),\n",
                "                run_dir=config.get(\"run_dir\", \"./\"),\n",
                "                is_debug=True,\n",
                "                print_every=config.get(\"print_every\", 10),\n",
                "                seed=config.get(\"seed\", 0),\n",
                "                logger=config.get(\"logger\", \"tensorboard\"),\n",
                "                local_rank=config[\"local_rank\"],\n",
                "                amp=config.get(\"amp\", False),\n",
                "                cpu=config.get(\"cpu\", False),\n",
                "                slurm=config.get(\"slurm\", {}),\n",
                "            )"
            ]
        },
        {
            "cell_type": "code",
            "execution_count": 85,
            "metadata": {},
            "outputs": [],
            "source": [
                "task = registry.get_task_class(config[\"mode\"])(config)\n",
                "task.setup(trainer)\n",
                "for batch in trainer.train_loader:\n",
                "    break\n",
                "b = batch[0]"
            ]
        },
        {
            "cell_type": "code",
            "execution_count": 86,
            "metadata": {},
            "outputs": [
                {
                    "name": "stderr",
                    "output_type": "stream",
                    "text": [
                        " 60%|██████    | 603/1000 [00:17<00:10, 38.04it/s]Exception ignored in: <function _MultiProcessingDataLoaderIter.__del__ at 0x7f14e7fd13a0>\n",
                        "Traceback (most recent call last):\n",
                        "  File \"/home/mila/a/alexandre.duval/.conda/envs/ocp/lib/python3.8/site-packages/torch/utils/data/dataloader.py\", line 1358, in __del__\n",
                        "    self._shutdown_workers()\n",
                        "  File \"/home/mila/a/alexandre.duval/.conda/envs/ocp/lib/python3.8/site-packages/torch/utils/data/dataloader.py\", line 1341, in _shutdown_workers\n",
                        "    if w.is_alive():\n",
                        "  File \"/home/mila/a/alexandre.duval/.conda/envs/ocp/lib/python3.8/multiprocessing/process.py\", line 160, in is_alive\n",
                        "    assert self._parent_pid == os.getpid(), 'can only test a child process'\n",
                        "AssertionError: can only test a child process\n",
                        " 61%|██████    | 607/1000 [00:18<00:22, 17.14it/s]Exception ignored in: <function _MultiProcessingDataLoaderIter.__del__ at 0x7f14e7fd13a0>Exception ignored in: \n",
                        "<function _MultiProcessingDataLoaderIter.__del__ at 0x7f14e7fd13a0>Traceback (most recent call last):\n",
                        "\n",
                        "  File \"/home/mila/a/alexandre.duval/.conda/envs/ocp/lib/python3.8/site-packages/torch/utils/data/dataloader.py\", line 1358, in __del__\n",
                        "Traceback (most recent call last):\n",
                        "      File \"/home/mila/a/alexandre.duval/.conda/envs/ocp/lib/python3.8/site-packages/torch/utils/data/dataloader.py\", line 1358, in __del__\n",
                        "self._shutdown_workers()    \n",
                        "  File \"/home/mila/a/alexandre.duval/.conda/envs/ocp/lib/python3.8/site-packages/torch/utils/data/dataloader.py\", line 1341, in _shutdown_workers\n",
                        "self._shutdown_workers()    \n",
                        "  File \"/home/mila/a/alexandre.duval/.conda/envs/ocp/lib/python3.8/site-packages/torch/utils/data/dataloader.py\", line 1341, in _shutdown_workers\n",
                        "if w.is_alive():\n",
                        "      File \"/home/mila/a/alexandre.duval/.conda/envs/ocp/lib/python3.8/multiprocessing/process.py\", line 160, in is_alive\n",
                        "if w.is_alive():\n",
                        "  File \"/home/mila/a/alexandre.duval/.conda/envs/ocp/lib/python3.8/multiprocessing/process.py\", line 160, in is_alive\n",
                        "    assert self._parent_pid == os.getpid(), 'can only test a child process'\n",
                        "AssertionError    : assert self._parent_pid == os.getpid(), 'can only test a child process'can only test a child process\n",
                        "\n",
                        "AssertionError: can only test a child process\n",
                        "Exception ignored in: <function _MultiProcessingDataLoaderIter.__del__ at 0x7f14e7fd13a0>\n",
                        "Traceback (most recent call last):\n",
                        "  File \"/home/mila/a/alexandre.duval/.conda/envs/ocp/lib/python3.8/site-packages/torch/utils/data/dataloader.py\", line 1358, in __del__\n",
                        "    self._shutdown_workers()\n",
                        "  File \"/home/mila/a/alexandre.duval/.conda/envs/ocp/lib/python3.8/site-packages/torch/utils/data/dataloader.py\", line 1341, in _shutdown_workers\n",
                        "    if w.is_alive():\n",
                        "  File \"/home/mila/a/alexandre.duval/.conda/envs/ocp/lib/python3.8/multiprocessing/process.py\", line 160, in is_alive\n",
                        "    assert self._parent_pid == os.getpid(), 'can only test a child process'\n",
                        "AssertionError: can only test a child process\n",
                        " 66%|██████▌   | 658/1000 [00:20<00:21, 16.20it/s]Exception ignored in: <function _MultiProcessingDataLoaderIter.__del__ at 0x7f14e7fd13a0>\n",
                        "Traceback (most recent call last):\n",
                        "  File \"/home/mila/a/alexandre.duval/.conda/envs/ocp/lib/python3.8/site-packages/torch/utils/data/dataloader.py\", line 1358, in __del__\n",
                        "    self._shutdown_workers()\n",
                        "  File \"/home/mila/a/alexandre.duval/.conda/envs/ocp/lib/python3.8/site-packages/torch/utils/data/dataloader.py\", line 1341, in _shutdown_workers\n",
                        "    if w.is_alive():\n",
                        "  File \"/home/mila/a/alexandre.duval/.conda/envs/ocp/lib/python3.8/multiprocessing/process.py\", line 160, in is_alive\n",
                        "    assert self._parent_pid == os.getpid(), 'can only test a child process'\n",
                        " 66%|██████▌   | 661/1000 [00:20<00:19, 17.32it/s]AssertionErrorException ignored in: : <function _MultiProcessingDataLoaderIter.__del__ at 0x7f14e7fd13a0>\n",
                        "can only test a child processTraceback (most recent call last):\n",
                        "\n",
                        "  File \"/home/mila/a/alexandre.duval/.conda/envs/ocp/lib/python3.8/site-packages/torch/utils/data/dataloader.py\", line 1358, in __del__\n",
                        "    self._shutdown_workers()Exception ignored in: <function _MultiProcessingDataLoaderIter.__del__ at 0x7f14e7fd13a0>\n",
                        "  File \"/home/mila/a/alexandre.duval/.conda/envs/ocp/lib/python3.8/site-packages/torch/utils/data/dataloader.py\", line 1341, in _shutdown_workers\n",
                        "\n",
                        "Traceback (most recent call last):\n",
                        "      File \"/home/mila/a/alexandre.duval/.conda/envs/ocp/lib/python3.8/site-packages/torch/utils/data/dataloader.py\", line 1358, in __del__\n",
                        "if w.is_alive():    \n",
                        "  File \"/home/mila/a/alexandre.duval/.conda/envs/ocp/lib/python3.8/multiprocessing/process.py\", line 160, in is_alive\n",
                        "self._shutdown_workers()\n",
                        "  File \"/home/mila/a/alexandre.duval/.conda/envs/ocp/lib/python3.8/site-packages/torch/utils/data/dataloader.py\", line 1341, in _shutdown_workers\n",
                        "    assert self._parent_pid == os.getpid(), 'can only test a child process'\n",
                        "    AssertionErrorif w.is_alive():\n",
                        ": can only test a child process\n",
                        "  File \"/home/mila/a/alexandre.duval/.conda/envs/ocp/lib/python3.8/multiprocessing/process.py\", line 160, in is_alive\n",
                        "Exception ignored in: <function _MultiProcessingDataLoaderIter.__del__ at 0x7f14e7fd13a0>    assert self._parent_pid == os.getpid(), 'can only test a child process'\n",
                        "Traceback (most recent call last):\n",
                        "\n",
                        "  File \"/home/mila/a/alexandre.duval/.conda/envs/ocp/lib/python3.8/site-packages/torch/utils/data/dataloader.py\", line 1358, in __del__\n",
                        "AssertionError:     can only test a child processself._shutdown_workers()\n",
                        "\n",
                        "  File \"/home/mila/a/alexandre.duval/.conda/envs/ocp/lib/python3.8/site-packages/torch/utils/data/dataloader.py\", line 1341, in _shutdown_workers\n",
                        "    if w.is_alive():\n",
                        "  File \"/home/mila/a/alexandre.duval/.conda/envs/ocp/lib/python3.8/multiprocessing/process.py\", line 160, in is_alive\n",
                        "    assert self._parent_pid == os.getpid(), 'can only test a child process'\n",
                        "AssertionError: can only test a child process\n",
                        "100%|██████████| 1000/1000 [00:30<00:00, 33.20it/s]"
                    ]
                },
                {
                    "name": "stdout",
                    "output_type": "stream",
                    "text": [
                        "set of atoms used:  {1.0, 5.0, 6.0, 7.0, 8.0, 11.0, 13.0, 14.0, 15.0, 16.0, 17.0, 19.0, 20.0, 21.0, 22.0, 23.0, 24.0, 25.0, 26.0, 27.0, 28.0, 29.0, 30.0, 31.0, 32.0, 33.0, 34.0, 37.0, 38.0, 39.0, 40.0, 41.0, 42.0, 43.0, 44.0, 45.0, 46.0, 47.0, 48.0, 49.0, 50.0, 51.0, 52.0, 55.0, 72.0, 73.0, 74.0, 75.0, 76.0, 77.0, 78.0, 79.0, 80.0, 81.0, 82.0, 83.0}\n",
                        "number of atoms used: 56\n",
                        "frequencies: [(5.0, 672), (55.0, 2657), (37.0, 3817), (81.0, 4110), (80.0, 4246), (75.0, 4745), (48.0, 4827), (82.0, 5266), (83.0, 5668), (76.0, 5695), (19.0, 5996), (43.0, 6886), (17.0, 7958), (74.0, 8021), (38.0, 8627), (47.0, 8659), (8.0, 8821), (25.0, 8934), (11.0, 8945), (26.0, 9413), (79.0, 9493), (24.0, 9581), (51.0, 10475), (77.0, 10707), (50.0, 12207), (39.0, 12324), (42.0, 12460), (21.0, 12566), (27.0, 12656), (49.0, 12689), (29.0, 13369), (44.0, 13590), (41.0, 13828), (20.0, 15081), (30.0, 15240), (23.0, 15519), (32.0, 16003), (52.0, 16697), (6.0, 17186), (73.0, 17509), (33.0, 17618), (78.0, 18328), (45.0, 18393), (7.0, 18601), (40.0, 19278), (28.0, 20182), (31.0, 20561), (72.0, 21621), (34.0, 22086), (46.0, 22249), (15.0, 22780), (14.0, 27818), (1.0, 32164), (13.0, 33466), (22.0, 33597), (16.0, 38878)]\n"
                    ]
                },
                {
                    "name": "stderr",
                    "output_type": "stream",
                    "text": [
                        "\n"
                    ]
                }
            ],
            "source": [
                "# Statistics on atoms seen in the dataset\n",
                "from collections import Counter\n",
                "from tqdm import tqdm\n",
                "l = []\n",
                "for batch in tqdm(trainer.train_loader): \n",
                "    l += batch[0].atomic_numbers.tolist()\n",
                "dico = dict(Counter(l))\n",
                "dico = sorted(dico.items(), key= lambda x: x[1], reverse=False)\n",
                "print('set of atoms used: ', set(l))\n",
                "print('number of atoms used:', len(set(l)))\n",
                "print('frequencies:', dico)\n",
                "\n",
                "# # Validation set\n",
                "# l_bis = []\n",
                "# for batch in tqdm(trainer.val_loader): \n",
                "#     l_bis += batch[0].atomic_numbers.unique().tolist()\n",
                "# print('set of atoms used: ', set(l_bis))\n",
                "# print(len(set(l_bis)))"
            ]
        },
        {
            "cell_type": "markdown",
            "metadata": {},
            "source": [
                "# Continue comprehension of batch"
            ]
        },
        {
            "cell_type": "code",
            "execution_count": 29,
            "metadata": {},
            "outputs": [
                {
                    "name": "stdout",
                    "output_type": "stream",
                    "text": [
                        "Distances are equal to ||x_i-x_j||\n",
                        "tensor(2.9223)\n",
                        "tensor(2.9223)\n"
                    ]
                }
            ],
            "source": [
                "print(\"Distances are equal to ||x_i-x_j||\")\n",
                "print(b.distances[0])\n",
                "print( torch.norm(b.pos[b.edge_index[0,0]] - b.pos[b.edge_index[1,0]] ))"
            ]
        },
        {
            "cell_type": "code",
            "execution_count": 30,
            "metadata": {},
            "outputs": [
                {
                    "name": "stdout",
                    "output_type": "stream",
                    "text": [
                        "The proportion of fixed atoms is: \n",
                        "0.6363636363636364\n"
                    ]
                }
            ],
            "source": [
                "print(\"The proportion of fixed atoms is: \")\n",
                "print((b.fixed==1).nonzero().shape[0] / b.atomic_numbers.shape[0])\n"
            ]
        },
        {
            "cell_type": "code",
            "execution_count": 31,
            "metadata": {},
            "outputs": [
                {
                    "data": {
                        "text/plain": [
                            "tensor([  0,  40,  95, 138, 194, 272, 383, 453, 516, 583, 682])"
                        ]
                    },
                    "execution_count": 31,
                    "metadata": {},
                    "output_type": "execute_result"
                }
            ],
            "source": [
                "b.ptr"
            ]
        },
        {
            "cell_type": "code",
            "execution_count": 32,
            "metadata": {},
            "outputs": [
                {
                    "name": "stdout",
                    "output_type": "stream",
                    "text": [
                        "we observe the atomic numbers & tags of the second graph of the batch:\n",
                        "tensor([39., 39., 39., 39., 39., 39., 39., 39., 14., 14., 14., 14., 14., 14.,\n",
                        "        14., 14., 14., 14., 14., 14., 14., 14., 14., 14., 78., 78., 78., 78.,\n",
                        "        78., 78., 78., 78., 78., 78., 78., 78., 78., 78., 78., 78.,  6.,  6.,\n",
                        "         1.])\n",
                        "tensor([1, 0, 1, 0, 1, 0, 1, 0, 0, 1, 0, 0, 0, 1, 0, 0, 0, 1, 0, 0, 0, 1, 0, 0,\n",
                        "        0, 0, 0, 0, 0, 0, 0, 0, 0, 0, 0, 0, 0, 0, 0, 0, 2, 2, 2])\n"
                    ]
                }
            ],
            "source": [
                "print(\"we observe the atomic numbers & tags of the second graph of the batch:\")\n",
                "print(b.atomic_numbers[b.ptr[2]:b.ptr[3]])\n",
                "print(b.tags[b.ptr[2]:b.ptr[3]])"
            ]
        },
        {
            "cell_type": "code",
            "execution_count": 33,
            "metadata": {},
            "outputs": [
                {
                    "name": "stdout",
                    "output_type": "stream",
                    "text": [
                        "Is the edge_index matrix an ordered concatenation of individual graph edge_index matrix ? Meaning that we could take edge_index[b.natoms[0]:b.natoms[1]] and get exactly the second graph edges.\n",
                        "Answer: YES\n"
                    ]
                }
            ],
            "source": [
                "print(\"Is the edge_index matrix an ordered concatenation of individual graph edge_index matrix ? Meaning that we could take edge_index[b.natoms[0]:b.natoms[1]] and get exactly the second graph edges.\")\n",
                "print(\"Answer: YES\")\n",
                "for ind in range(b.sid.shape[0]): \n",
                "    node_indices = (b.batch==ind).nonzero().T[0]\n",
                "    edges = b.edge_index[:,b.neighbors[:ind].sum():b.neighbors[:ind+1].sum()]\n",
                "    node_list_from_edges = edges.reshape(1,-1).squeeze().tolist()\n",
                "    if not set(node_list_from_edges).issubset(node_indices.tolist()): \n",
                "        print('Condition not satisfied')"
            ]
        },
        {
            "cell_type": "markdown",
            "metadata": {},
            "source": [
                "# Visualisation and explore cell offsets further"
            ]
        },
        {
            "cell_type": "code",
            "execution_count": 34,
            "metadata": {},
            "outputs": [],
            "source": [
                "# Import libraries\n",
                "from torch_geometric.utils.convert import to_networkx\n",
                "import networkx as nx\n",
                "import plotly.graph_objs as go\n",
                "\n",
                "# Graph\n",
                "graph_id = 0\n",
                "g = b[graph_id]\n",
                "G = to_networkx(g)\n"
            ]
        },
        {
            "cell_type": "code",
            "execution_count": 35,
            "metadata": {},
            "outputs": [
                {
                    "name": "stdout",
                    "output_type": "stream",
                    "text": [
                        "all nodes are/have offset neighbours\n",
                        "40\n"
                    ]
                }
            ],
            "source": [
                "print('all nodes are/have offset neighbours')\n",
                "prop_nonzero_cell_offsets = g.cell_offsets.nonzero().shape[0] / g.edge_index.shape[1]\n",
                "edge_with_nonzero_cell_offsets = g.edge_index[:, g.cell_offsets.nonzero()[:,0]]\n",
                "print(len(set(edge_with_nonzero_cell_offsets.reshape(-1).tolist()))) # all nodes have/are offset neighbours"
            ]
        },
        {
            "cell_type": "code",
            "execution_count": 36,
            "metadata": {},
            "outputs": [
                {
                    "name": "stdout",
                    "output_type": "stream",
                    "text": [
                        "Study offsets neighbours of node 0 in first graph of the batch\n",
                        "offset neighbours are a subset of its neighbors\n"
                    ]
                }
            ],
            "source": [
                "print('Study offsets neighbours of node 0 in first graph of the batch')\n",
                "offsets_neighbours_of_node0 = edge_with_nonzero_cell_offsets[:, :20][0,:].tolist()\n",
                "set(offsets_neighbours_of_node0).issubset(list(G.neighbors(0)))\n",
                "print('offset neighbours are a subset of its neighbors')"
            ]
        },
        {
            "cell_type": "code",
            "execution_count": 37,
            "metadata": {},
            "outputs": [
                {
                    "name": "stdout",
                    "output_type": "stream",
                    "text": [
                        "Offset neighbours are always a subset of neighbours node, for the first graph of the batch\n"
                    ]
                }
            ],
            "source": [
                "print(\n",
                "    \"Offset neighbours are always a subset of neighbours node, for the first graph of the batch\"\n",
                ")\n",
                "\n",
                "edge_with_nonzero_cell_offsets = g.edge_index[:, g.cell_offsets.nonzero()[:, 0]]\n",
                "for ind in range(b.natoms[0]):\n",
                "    neighbours = (edge_with_nonzero_cell_offsets[1, :] == ind).nonzero().T[0].tolist()\n",
                "    offset_neighbours = edge_with_nonzero_cell_offsets[:, neighbours][0, :].tolist()\n",
                "    if not set(offset_neighbours).issubset(list(G.neighbors(ind))):\n",
                "        print(\"Offset neighbours are not a subset of neighbours\")\n"
            ]
        },
        {
            "cell_type": "code",
            "execution_count": 38,
            "metadata": {},
            "outputs": [
                {
                    "name": "stdout",
                    "output_type": "stream",
                    "text": [
                        "Visualise the graph with networkx\n",
                        "But this graph does not take into consideration node positions\n"
                    ]
                },
                {
                    "data": {
                        "image/png": "[encoded data removed]",
                        "text/plain": [
                            "<Figure size 432x288 with 1 Axes>"
                        ]
                    },
                    "metadata": {},
                    "output_type": "display_data"
                }
            ],
            "source": [
                "print('Visualise the graph with networkx')\n",
                "nx.draw(G, with_labels = True)\n",
                "print('But this graph does not take into consideration node positions')"
            ]
        },
        {
            "cell_type": "code",
            "execution_count": 39,
            "metadata": {},
            "outputs": [
                {
                    "name": "stdout",
                    "output_type": "stream",
                    "text": [
                        "Try 3D plots in networkx with atom positions\n",
                        "Networkx does not allow 3D positions\n"
                    ]
                }
            ],
            "source": [
                "print('Try 3D plots in networkx with atom positions')\n",
                "# dico = {}\n",
                "# for atom in atoms: \n",
                "#     dico[atom.item()] = b.pos[atom]\n",
                "# pos = nx.spring_layout(G, dim=3)\n",
                "# nx.draw(G, with_labels = True, pos=pos)\n",
                "print('Networkx does not allow 3D positions')\n",
                "\n",
                "# See ressource https://www.westgrid.ca/files/3Dgraphs-WestGridWebinar-May24.2016.pdf"
            ]
        },
        {
            "cell_type": "code",
            "execution_count": 40,
            "metadata": {},
            "outputs": [
                {
                    "data": {
                        "application/vnd.plotly.v1+json": {
                            "config": {
                                "plotlyServerURL": "https://plot.ly"
                            },
                            "data": [
                                {
                                    "marker": {
                                        "color": [
                                            0,
                                            1,
                                            0,
                                            0,
                                            0,
                                            1,
                                            1,
                                            0,
                                            0,
                                            0,
                                            0,
                                            1,
                                            1,
                                            0,
                                            1,
                                            0,
                                            1,
                                            0,
                                            0,
                                            0,
                                            1,
                                            1,
                                            0,
                                            0,
                                            0,
                                            1,
                                            0,
                                            0,
                                            0,
                                            1,
                                            1,
                                            0,
                                            0,
                                            0,
                                            0,
                                            1,
                                            2,
                                            2,
                                            2,
                                            2
                                        ],
                                        "colorscale": [
                                            [
                                                0,
                                                "#440154"
                                            ],
                                            [
                                                0.1111111111111111,
                                                "#482878"
                                            ],
                                            [
                                                0.2222222222222222,
                                                "#3e4989"
                                            ],
                                            [
                                                0.3333333333333333,
                                                "#31688e"
                                            ],
                                            [
                                                0.4444444444444444,
                                                "#26828e"
                                            ],
                                            [
                                                0.5555555555555556,
                                                "#1f9e89"
                                            ],
                                            [
                                                0.6666666666666666,
                                                "#35b779"
                                            ],
                                            [
                                                0.7777777777777778,
                                                "#6ece58"
                                            ],
                                            [
                                                0.8888888888888888,
                                                "#b5de2b"
                                            ],
                                            [
                                                1,
                                                "#fde725"
                                            ]
                                        ],
                                        "size": 12
                                    },
                                    "mode": "markers+text",
                                    "text": [
                                        0,
                                        1,
                                        2,
                                        3,
                                        4,
                                        5,
                                        6,
                                        7,
                                        8,
                                        9,
                                        10,
                                        11,
                                        12,
                                        13,
                                        14,
                                        15,
                                        16,
                                        17,
                                        18,
                                        19,
                                        20,
                                        21,
                                        22,
                                        23,
                                        24,
                                        25,
                                        26,
                                        27,
                                        28,
                                        29,
                                        30,
                                        31,
                                        32,
                                        33,
                                        34,
                                        35,
                                        36,
                                        37,
                                        38,
                                        39
                                    ],
                                    "textfont": {
                                        "size": 9
                                    },
                                    "type": "scatter3d",
                                    "x": [
                                        6.371547222137451,
                                        9.995777130126953,
                                        2.747317314147949,
                                        8.183662414550781,
                                        0.9352022409439087,
                                        4.559432506561279,
                                        -2.747317314147949,
                                        0.8769128322601318,
                                        4.501142978668213,
                                        6.313258171081543,
                                        -0.9352023005485535,
                                        2.689028024673462,
                                        -1.4626051187515259,
                                        2.1616251468658447,
                                        5.785855293273926,
                                        -3.2747199535369873,
                                        0.3495100140571594,
                                        3.9737401008605957,
                                        5.086834907531738,
                                        8.711065292358398,
                                        1.4626049995422363,
                                        6.898950099945068,
                                        10.52318000793457,
                                        3.2747201919555664,
                                        7.0749406814575195,
                                        -0.17351983487606049,
                                        3.4507102966308594,
                                        -1.9856349229812622,
                                        1.6385953426361084,
                                        5.2628254890441895,
                                        7.421979904174805,
                                        0.1735198050737381,
                                        3.7977499961853027,
                                        5.609865188598633,
                                        9.234095573425293,
                                        1.9856349229812622,
                                        8.298834800720215,
                                        8.543374061584473,
                                        8.665401458740234,
                                        8.593488693237305
                                    ],
                                    "y": [
                                        1.4460099935531616,
                                        1.4460099935531616,
                                        1.4460099935531616,
                                        2.221095323562622,
                                        2.221095323562622,
                                        2.221095323562622,
                                        5.888200759887695,
                                        5.888200759887695,
                                        5.888200759887695,
                                        5.113115310668945,
                                        5.113115310668945,
                                        5.113115310668945,
                                        4.154236316680908,
                                        4.154236316680908,
                                        4.154236316680908,
                                        6.847079753875732,
                                        6.847079753875732,
                                        6.847079753875732,
                                        3.1799745559692383,
                                        3.1799745559692383,
                                        3.1799745559692383,
                                        0.48713088035583496,
                                        0.48713088035583496,
                                        0.48713088035583496,
                                        4.409692287445068,
                                        4.409692287445068,
                                        4.409692287445068,
                                        6.591623783111572,
                                        6.591623783111572,
                                        6.591623783111572,
                                        2.924518585205078,
                                        2.924518585205078,
                                        2.924518585205078,
                                        0.7425868511199951,
                                        0.7425868511199951,
                                        0.7425868511199951,
                                        1.5586717128753662,
                                        2.2468039989471436,
                                        1.6635432243347168,
                                        3.314473867416382
                                    ],
                                    "z": [
                                        16.552318572998047,
                                        18.76727867126465,
                                        14.337358474731445,
                                        13.587244033813477,
                                        17.302433013916016,
                                        19.517393112182617,
                                        19.255401611328125,
                                        13.3252534866333,
                                        15.540214538574219,
                                        12.575139999389648,
                                        16.290328979492188,
                                        18.50528907775879,
                                        21.225845336914062,
                                        15.295697212219238,
                                        17.510658264160156,
                                        16.04581069946289,
                                        18.260770797729492,
                                        12.330622673034668,
                                        14.58187484741211,
                                        16.79683494567871,
                                        20.51202392578125,
                                        19.76190948486328,
                                        13.831761360168457,
                                        17.54694938659668,
                                        15.40139102935791,
                                        19.116579055786133,
                                        13.186430931091309,
                                        13.936544418334961,
                                        16.151504516601562,
                                        18.366464614868164,
                                        18.90610122680664,
                                        14.476181030273438,
                                        16.69114112854004,
                                        13.726067543029785,
                                        15.941027641296387,
                                        19.65621566772461,
                                        20.783090591430664,
                                        22.116159439086914,
                                        23.00487518310547,
                                        22.165855407714844
                                    ]
                                }
                            ],
                            "layout": {
                                "height": 700,
                                "template": {
                                    "data": {
                                        "bar": [
                                            {
                                                "error_x": {
                                                    "color": "#2a3f5f"
                                                },
                                                "error_y": {
                                                    "color": "#2a3f5f"
                                                },
                                                "marker": {
                                                    "line": {
                                                        "color": "#E5ECF6",
                                                        "width": 0.5
                                                    },
                                                    "pattern": {
                                                        "fillmode": "overlay",
                                                        "size": 10,
                                                        "solidity": 0.2
                                                    }
                                                },
                                                "type": "bar"
                                            }
                                        ],
                                        "barpolar": [
                                            {
                                                "marker": {
                                                    "line": {
                                                        "color": "#E5ECF6",
                                                        "width": 0.5
                                                    },
                                                    "pattern": {
                                                        "fillmode": "overlay",
                                                        "size": 10,
                                                        "solidity": 0.2
                                                    }
                                                },
                                                "type": "barpolar"
                                            }
                                        ],
                                        "carpet": [
                                            {
                                                "aaxis": {
                                                    "endlinecolor": "#2a3f5f",
                                                    "gridcolor": "white",
                                                    "linecolor": "white",
                                                    "minorgridcolor": "white",
                                                    "startlinecolor": "#2a3f5f"
                                                },
                                                "baxis": {
                                                    "endlinecolor": "#2a3f5f",
                                                    "gridcolor": "white",
                                                    "linecolor": "white",
                                                    "minorgridcolor": "white",
                                                    "startlinecolor": "#2a3f5f"
                                                },
                                                "type": "carpet"
                                            }
                                        ],
                                        "choropleth": [
                                            {
                                                "colorbar": {
                                                    "outlinewidth": 0,
                                                    "ticks": ""
                                                },
                                                "type": "choropleth"
                                            }
                                        ],
                                        "contour": [
                                            {
                                                "colorbar": {
                                                    "outlinewidth": 0,
                                                    "ticks": ""
                                                },
                                                "colorscale": [
                                                    [
                                                        0,
                                                        "#0d0887"
                                                    ],
                                                    [
                                                        0.1111111111111111,
                                                        "#46039f"
                                                    ],
                                                    [
                                                        0.2222222222222222,
                                                        "#7201a8"
                                                    ],
                                                    [
                                                        0.3333333333333333,
                                                        "#9c179e"
                                                    ],
                                                    [
                                                        0.4444444444444444,
                                                        "#bd3786"
                                                    ],
                                                    [
                                                        0.5555555555555556,
                                                        "#d8576b"
                                                    ],
                                                    [
                                                        0.6666666666666666,
                                                        "#ed7953"
                                                    ],
                                                    [
                                                        0.7777777777777778,
                                                        "#fb9f3a"
                                                    ],
                                                    [
                                                        0.8888888888888888,
                                                        "#fdca26"
                                                    ],
                                                    [
                                                        1,
                                                        "#f0f921"
                                                    ]
                                                ],
                                                "type": "contour"
                                            }
                                        ],
                                        "contourcarpet": [
                                            {
                                                "colorbar": {
                                                    "outlinewidth": 0,
                                                    "ticks": ""
                                                },
                                                "type": "contourcarpet"
                                            }
                                        ],
                                        "heatmap": [
                                            {
                                                "colorbar": {
                                                    "outlinewidth": 0,
                                                    "ticks": ""
                                                },
                                                "colorscale": [
                                                    [
                                                        0,
                                                        "#0d0887"
                                                    ],
                                                    [
                                                        0.1111111111111111,
                                                        "#46039f"
                                                    ],
                                                    [
                                                        0.2222222222222222,
                                                        "#7201a8"
                                                    ],
                                                    [
                                                        0.3333333333333333,
                                                        "#9c179e"
                                                    ],
                                                    [
                                                        0.4444444444444444,
                                                        "#bd3786"
                                                    ],
                                                    [
                                                        0.5555555555555556,
                                                        "#d8576b"
                                                    ],
                                                    [
                                                        0.6666666666666666,
                                                        "#ed7953"
                                                    ],
                                                    [
                                                        0.7777777777777778,
                                                        "#fb9f3a"
                                                    ],
                                                    [
                                                        0.8888888888888888,
                                                        "#fdca26"
                                                    ],
                                                    [
                                                        1,
                                                        "#f0f921"
                                                    ]
                                                ],
                                                "type": "heatmap"
                                            }
                                        ],
                                        "heatmapgl": [
                                            {
                                                "colorbar": {
                                                    "outlinewidth": 0,
                                                    "ticks": ""
                                                },
                                                "colorscale": [
                                                    [
                                                        0,
                                                        "#0d0887"
                                                    ],
                                                    [
                                                        0.1111111111111111,
                                                        "#46039f"
                                                    ],
                                                    [
                                                        0.2222222222222222,
                                                        "#7201a8"
                                                    ],
                                                    [
                                                        0.3333333333333333,
                                                        "#9c179e"
                                                    ],
                                                    [
                                                        0.4444444444444444,
                                                        "#bd3786"
                                                    ],
                                                    [
                                                        0.5555555555555556,
                                                        "#d8576b"
                                                    ],
                                                    [
                                                        0.6666666666666666,
                                                        "#ed7953"
                                                    ],
                                                    [
                                                        0.7777777777777778,
                                                        "#fb9f3a"
                                                    ],
                                                    [
                                                        0.8888888888888888,
                                                        "#fdca26"
                                                    ],
                                                    [
                                                        1,
                                                        "#f0f921"
                                                    ]
                                                ],
                                                "type": "heatmapgl"
                                            }
                                        ],
                                        "histogram": [
                                            {
                                                "marker": {
                                                    "pattern": {
                                                        "fillmode": "overlay",
                                                        "size": 10,
                                                        "solidity": 0.2
                                                    }
                                                },
                                                "type": "histogram"
                                            }
                                        ],
                                        "histogram2d": [
                                            {
                                                "colorbar": {
                                                    "outlinewidth": 0,
                                                    "ticks": ""
                                                },
                                                "colorscale": [
                                                    [
                                                        0,
                                                        "#0d0887"
                                                    ],
                                                    [
                                                        0.1111111111111111,
                                                        "#46039f"
                                                    ],
                                                    [
                                                        0.2222222222222222,
                                                        "#7201a8"
                                                    ],
                                                    [
                                                        0.3333333333333333,
                                                        "#9c179e"
                                                    ],
                                                    [
                                                        0.4444444444444444,
                                                        "#bd3786"
                                                    ],
                                                    [
                                                        0.5555555555555556,
                                                        "#d8576b"
                                                    ],
                                                    [
                                                        0.6666666666666666,
                                                        "#ed7953"
                                                    ],
                                                    [
                                                        0.7777777777777778,
                                                        "#fb9f3a"
                                                    ],
                                                    [
                                                        0.8888888888888888,
                                                        "#fdca26"
                                                    ],
                                                    [
                                                        1,
                                                        "#f0f921"
                                                    ]
                                                ],
                                                "type": "histogram2d"
                                            }
                                        ],
                                        "histogram2dcontour": [
                                            {
                                                "colorbar": {
                                                    "outlinewidth": 0,
                                                    "ticks": ""
                                                },
                                                "colorscale": [
                                                    [
                                                        0,
                                                        "#0d0887"
                                                    ],
                                                    [
                                                        0.1111111111111111,
                                                        "#46039f"
                                                    ],
                                                    [
                                                        0.2222222222222222,
                                                        "#7201a8"
                                                    ],
                                                    [
                                                        0.3333333333333333,
                                                        "#9c179e"
                                                    ],
                                                    [
                                                        0.4444444444444444,
                                                        "#bd3786"
                                                    ],
                                                    [
                                                        0.5555555555555556,
                                                        "#d8576b"
                                                    ],
                                                    [
                                                        0.6666666666666666,
                                                        "#ed7953"
                                                    ],
                                                    [
                                                        0.7777777777777778,
                                                        "#fb9f3a"
                                                    ],
                                                    [
                                                        0.8888888888888888,
                                                        "#fdca26"
                                                    ],
                                                    [
                                                        1,
                                                        "#f0f921"
                                                    ]
                                                ],
                                                "type": "histogram2dcontour"
                                            }
                                        ],
                                        "mesh3d": [
                                            {
                                                "colorbar": {
                                                    "outlinewidth": 0,
                                                    "ticks": ""
                                                },
                                                "type": "mesh3d"
                                            }
                                        ],
                                        "parcoords": [
                                            {
                                                "line": {
                                                    "colorbar": {
                                                        "outlinewidth": 0,
                                                        "ticks": ""
                                                    }
                                                },
                                                "type": "parcoords"
                                            }
                                        ],
                                        "pie": [
                                            {
                                                "automargin": true,
                                                "type": "pie"
                                            }
                                        ],
                                        "scatter": [
                                            {
                                                "marker": {
                                                    "colorbar": {
                                                        "outlinewidth": 0,
                                                        "ticks": ""
                                                    }
                                                },
                                                "type": "scatter"
                                            }
                                        ],
                                        "scatter3d": [
                                            {
                                                "line": {
                                                    "colorbar": {
                                                        "outlinewidth": 0,
                                                        "ticks": ""
                                                    }
                                                },
                                                "marker": {
                                                    "colorbar": {
                                                        "outlinewidth": 0,
                                                        "ticks": ""
                                                    }
                                                },
                                                "type": "scatter3d"
                                            }
                                        ],
                                        "scattercarpet": [
                                            {
                                                "marker": {
                                                    "colorbar": {
                                                        "outlinewidth": 0,
                                                        "ticks": ""
                                                    }
                                                },
                                                "type": "scattercarpet"
                                            }
                                        ],
                                        "scattergeo": [
                                            {
                                                "marker": {
                                                    "colorbar": {
                                                        "outlinewidth": 0,
                                                        "ticks": ""
                                                    }
                                                },
                                                "type": "scattergeo"
                                            }
                                        ],
                                        "scattergl": [
                                            {
                                                "marker": {
                                                    "colorbar": {
                                                        "outlinewidth": 0,
                                                        "ticks": ""
                                                    }
                                                },
                                                "type": "scattergl"
                                            }
                                        ],
                                        "scattermapbox": [
                                            {
                                                "marker": {
                                                    "colorbar": {
                                                        "outlinewidth": 0,
                                                        "ticks": ""
                                                    }
                                                },
                                                "type": "scattermapbox"
                                            }
                                        ],
                                        "scatterpolar": [
                                            {
                                                "marker": {
                                                    "colorbar": {
                                                        "outlinewidth": 0,
                                                        "ticks": ""
                                                    }
                                                },
                                                "type": "scatterpolar"
                                            }
                                        ],
                                        "scatterpolargl": [
                                            {
                                                "marker": {
                                                    "colorbar": {
                                                        "outlinewidth": 0,
                                                        "ticks": ""
                                                    }
                                                },
                                                "type": "scatterpolargl"
                                            }
                                        ],
                                        "scatterternary": [
                                            {
                                                "marker": {
                                                    "colorbar": {
                                                        "outlinewidth": 0,
                                                        "ticks": ""
                                                    }
                                                },
                                                "type": "scatterternary"
                                            }
                                        ],
                                        "surface": [
                                            {
                                                "colorbar": {
                                                    "outlinewidth": 0,
                                                    "ticks": ""
                                                },
                                                "colorscale": [
                                                    [
                                                        0,
                                                        "#0d0887"
                                                    ],
                                                    [
                                                        0.1111111111111111,
                                                        "#46039f"
                                                    ],
                                                    [
                                                        0.2222222222222222,
                                                        "#7201a8"
                                                    ],
                                                    [
                                                        0.3333333333333333,
                                                        "#9c179e"
                                                    ],
                                                    [
                                                        0.4444444444444444,
                                                        "#bd3786"
                                                    ],
                                                    [
                                                        0.5555555555555556,
                                                        "#d8576b"
                                                    ],
                                                    [
                                                        0.6666666666666666,
                                                        "#ed7953"
                                                    ],
                                                    [
                                                        0.7777777777777778,
                                                        "#fb9f3a"
                                                    ],
                                                    [
                                                        0.8888888888888888,
                                                        "#fdca26"
                                                    ],
                                                    [
                                                        1,
                                                        "#f0f921"
                                                    ]
                                                ],
                                                "type": "surface"
                                            }
                                        ],
                                        "table": [
                                            {
                                                "cells": {
                                                    "fill": {
                                                        "color": "#EBF0F8"
                                                    },
                                                    "line": {
                                                        "color": "white"
                                                    }
                                                },
                                                "header": {
                                                    "fill": {
                                                        "color": "#C8D4E3"
                                                    },
                                                    "line": {
                                                        "color": "white"
                                                    }
                                                },
                                                "type": "table"
                                            }
                                        ]
                                    },
                                    "layout": {
                                        "annotationdefaults": {
                                            "arrowcolor": "#2a3f5f",
                                            "arrowhead": 0,
                                            "arrowwidth": 1
                                        },
                                        "autotypenumbers": "strict",
                                        "coloraxis": {
                                            "colorbar": {
                                                "outlinewidth": 0,
                                                "ticks": ""
                                            }
                                        },
                                        "colorscale": {
                                            "diverging": [
                                                [
                                                    0,
                                                    "#8e0152"
                                                ],
                                                [
                                                    0.1,
                                                    "#c51b7d"
                                                ],
                                                [
                                                    0.2,
                                                    "#de77ae"
                                                ],
                                                [
                                                    0.3,
                                                    "#f1b6da"
                                                ],
                                                [
                                                    0.4,
                                                    "#fde0ef"
                                                ],
                                                [
                                                    0.5,
                                                    "#f7f7f7"
                                                ],
                                                [
                                                    0.6,
                                                    "#e6f5d0"
                                                ],
                                                [
                                                    0.7,
                                                    "#b8e186"
                                                ],
                                                [
                                                    0.8,
                                                    "#7fbc41"
                                                ],
                                                [
                                                    0.9,
                                                    "#4d9221"
                                                ],
                                                [
                                                    1,
                                                    "#276419"
                                                ]
                                            ],
                                            "sequential": [
                                                [
                                                    0,
                                                    "#0d0887"
                                                ],
                                                [
                                                    0.1111111111111111,
                                                    "#46039f"
                                                ],
                                                [
                                                    0.2222222222222222,
                                                    "#7201a8"
                                                ],
                                                [
                                                    0.3333333333333333,
                                                    "#9c179e"
                                                ],
                                                [
                                                    0.4444444444444444,
                                                    "#bd3786"
                                                ],
                                                [
                                                    0.5555555555555556,
                                                    "#d8576b"
                                                ],
                                                [
                                                    0.6666666666666666,
                                                    "#ed7953"
                                                ],
                                                [
                                                    0.7777777777777778,
                                                    "#fb9f3a"
                                                ],
                                                [
                                                    0.8888888888888888,
                                                    "#fdca26"
                                                ],
                                                [
                                                    1,
                                                    "#f0f921"
                                                ]
                                            ],
                                            "sequentialminus": [
                                                [
                                                    0,
                                                    "#0d0887"
                                                ],
                                                [
                                                    0.1111111111111111,
                                                    "#46039f"
                                                ],
                                                [
                                                    0.2222222222222222,
                                                    "#7201a8"
                                                ],
                                                [
                                                    0.3333333333333333,
                                                    "#9c179e"
                                                ],
                                                [
                                                    0.4444444444444444,
                                                    "#bd3786"
                                                ],
                                                [
                                                    0.5555555555555556,
                                                    "#d8576b"
                                                ],
                                                [
                                                    0.6666666666666666,
                                                    "#ed7953"
                                                ],
                                                [
                                                    0.7777777777777778,
                                                    "#fb9f3a"
                                                ],
                                                [
                                                    0.8888888888888888,
                                                    "#fdca26"
                                                ],
                                                [
                                                    1,
                                                    "#f0f921"
                                                ]
                                            ]
                                        },
                                        "colorway": [
                                            "#636efa",
                                            "#EF553B",
                                            "#00cc96",
                                            "#ab63fa",
                                            "#FFA15A",
                                            "#19d3f3",
                                            "#FF6692",
                                            "#B6E880",
                                            "#FF97FF",
                                            "#FECB52"
                                        ],
                                        "font": {
                                            "color": "#2a3f5f"
                                        },
                                        "geo": {
                                            "bgcolor": "white",
                                            "lakecolor": "white",
                                            "landcolor": "#E5ECF6",
                                            "showlakes": true,
                                            "showland": true,
                                            "subunitcolor": "white"
                                        },
                                        "hoverlabel": {
                                            "align": "left"
                                        },
                                        "hovermode": "closest",
                                        "mapbox": {
                                            "style": "light"
                                        },
                                        "paper_bgcolor": "white",
                                        "plot_bgcolor": "#E5ECF6",
                                        "polar": {
                                            "angularaxis": {
                                                "gridcolor": "white",
                                                "linecolor": "white",
                                                "ticks": ""
                                            },
                                            "bgcolor": "#E5ECF6",
                                            "radialaxis": {
                                                "gridcolor": "white",
                                                "linecolor": "white",
                                                "ticks": ""
                                            }
                                        },
                                        "scene": {
                                            "xaxis": {
                                                "backgroundcolor": "#E5ECF6",
                                                "gridcolor": "white",
                                                "gridwidth": 2,
                                                "linecolor": "white",
                                                "showbackground": true,
                                                "ticks": "",
                                                "zerolinecolor": "white"
                                            },
                                            "yaxis": {
                                                "backgroundcolor": "#E5ECF6",
                                                "gridcolor": "white",
                                                "gridwidth": 2,
                                                "linecolor": "white",
                                                "showbackground": true,
                                                "ticks": "",
                                                "zerolinecolor": "white"
                                            },
                                            "zaxis": {
                                                "backgroundcolor": "#E5ECF6",
                                                "gridcolor": "white",
                                                "gridwidth": 2,
                                                "linecolor": "white",
                                                "showbackground": true,
                                                "ticks": "",
                                                "zerolinecolor": "white"
                                            }
                                        },
                                        "shapedefaults": {
                                            "line": {
                                                "color": "#2a3f5f"
                                            }
                                        },
                                        "ternary": {
                                            "aaxis": {
                                                "gridcolor": "white",
                                                "linecolor": "white",
                                                "ticks": ""
                                            },
                                            "baxis": {
                                                "gridcolor": "white",
                                                "linecolor": "white",
                                                "ticks": ""
                                            },
                                            "bgcolor": "#E5ECF6",
                                            "caxis": {
                                                "gridcolor": "white",
                                                "linecolor": "white",
                                                "ticks": ""
                                            }
                                        },
                                        "title": {
                                            "x": 0.05
                                        },
                                        "xaxis": {
                                            "automargin": true,
                                            "gridcolor": "white",
                                            "linecolor": "white",
                                            "ticks": "",
                                            "title": {
                                                "standoff": 15
                                            },
                                            "zerolinecolor": "white",
                                            "zerolinewidth": 2
                                        },
                                        "yaxis": {
                                            "automargin": true,
                                            "gridcolor": "white",
                                            "linecolor": "white",
                                            "ticks": "",
                                            "title": {
                                                "standoff": 15
                                            },
                                            "zerolinecolor": "white",
                                            "zerolinewidth": 2
                                        }
                                    }
                                },
                                "title": {
                                    "text": "3D plot of one adslab"
                                },
                                "width": 900
                            }
                        },
                        "text/html": [
                            "<div>                            <div id=\"684ac321-6eb7-4750-956c-b88205472e62\" class=\"plotly-graph-div\" style=\"height:700px; width:900px;\"></div>            <script type=\"text/javascript\">                require([\"plotly\"], function(Plotly) {                    window.PLOTLYENV=window.PLOTLYENV || {};                                    if (document.getElementById(\"684ac321-6eb7-4750-956c-b88205472e62\")) {                    Plotly.newPlot(                        \"684ac321-6eb7-4750-956c-b88205472e62\",                        [{\"marker\":{\"color\":[0,1,0,0,0,1,1,0,0,0,0,1,1,0,1,0,1,0,0,0,1,1,0,0,0,1,0,0,0,1,1,0,0,0,0,1,2,2,2,2],\"colorscale\":[[0.0,\"#440154\"],[0.1111111111111111,\"#482878\"],[0.2222222222222222,\"#3e4989\"],[0.3333333333333333,\"#31688e\"],[0.4444444444444444,\"#26828e\"],[0.5555555555555556,\"#1f9e89\"],[0.6666666666666666,\"#35b779\"],[0.7777777777777778,\"#6ece58\"],[0.8888888888888888,\"#b5de2b\"],[1.0,\"#fde725\"]],\"size\":12},\"mode\":\"markers+text\",\"text\":[0.0,1.0,2.0,3.0,4.0,5.0,6.0,7.0,8.0,9.0,10.0,11.0,12.0,13.0,14.0,15.0,16.0,17.0,18.0,19.0,20.0,21.0,22.0,23.0,24.0,25.0,26.0,27.0,28.0,29.0,30.0,31.0,32.0,33.0,34.0,35.0,36.0,37.0,38.0,39.0],\"textfont\":{\"size\":9},\"x\":[6.371547222137451,9.995777130126953,2.747317314147949,8.183662414550781,0.9352022409439087,4.559432506561279,-2.747317314147949,0.8769128322601318,4.501142978668213,6.313258171081543,-0.9352023005485535,2.689028024673462,-1.4626051187515259,2.1616251468658447,5.785855293273926,-3.2747199535369873,0.3495100140571594,3.9737401008605957,5.086834907531738,8.711065292358398,1.4626049995422363,6.898950099945068,10.52318000793457,3.2747201919555664,7.0749406814575195,-0.17351983487606049,3.4507102966308594,-1.9856349229812622,1.6385953426361084,5.2628254890441895,7.421979904174805,0.1735198050737381,3.7977499961853027,5.609865188598633,9.234095573425293,1.9856349229812622,8.298834800720215,8.543374061584473,8.665401458740234,8.593488693237305],\"y\":[1.4460099935531616,1.4460099935531616,1.4460099935531616,2.221095323562622,2.221095323562622,2.221095323562622,5.888200759887695,5.888200759887695,5.888200759887695,5.113115310668945,5.113115310668945,5.113115310668945,4.154236316680908,4.154236316680908,4.154236316680908,6.847079753875732,6.847079753875732,6.847079753875732,3.1799745559692383,3.1799745559692383,3.1799745559692383,0.48713088035583496,0.48713088035583496,0.48713088035583496,4.409692287445068,4.409692287445068,4.409692287445068,6.591623783111572,6.591623783111572,6.591623783111572,2.924518585205078,2.924518585205078,2.924518585205078,0.7425868511199951,0.7425868511199951,0.7425868511199951,1.5586717128753662,2.2468039989471436,1.6635432243347168,3.314473867416382],\"z\":[16.552318572998047,18.76727867126465,14.337358474731445,13.587244033813477,17.302433013916016,19.517393112182617,19.255401611328125,13.3252534866333,15.540214538574219,12.575139999389648,16.290328979492188,18.50528907775879,21.225845336914062,15.295697212219238,17.510658264160156,16.04581069946289,18.260770797729492,12.330622673034668,14.58187484741211,16.79683494567871,20.51202392578125,19.76190948486328,13.831761360168457,17.54694938659668,15.40139102935791,19.116579055786133,13.186430931091309,13.936544418334961,16.151504516601562,18.366464614868164,18.90610122680664,14.476181030273438,16.69114112854004,13.726067543029785,15.941027641296387,19.65621566772461,20.783090591430664,22.116159439086914,23.00487518310547,22.165855407714844],\"type\":\"scatter3d\"}],                        {\"height\":700,\"title\":{\"text\":\"3D plot of one adslab\"},\"width\":900,\"template\":{\"data\":{\"bar\":[{\"error_x\":{\"color\":\"#2a3f5f\"},\"error_y\":{\"color\":\"#2a3f5f\"},\"marker\":{\"line\":{\"color\":\"#E5ECF6\",\"width\":0.5},\"pattern\":{\"fillmode\":\"overlay\",\"size\":10,\"solidity\":0.2}},\"type\":\"bar\"}],\"barpolar\":[{\"marker\":{\"line\":{\"color\":\"#E5ECF6\",\"width\":0.5},\"pattern\":{\"fillmode\":\"overlay\",\"size\":10,\"solidity\":0.2}},\"type\":\"barpolar\"}],\"carpet\":[{\"aaxis\":{\"endlinecolor\":\"#2a3f5f\",\"gridcolor\":\"white\",\"linecolor\":\"white\",\"minorgridcolor\":\"white\",\"startlinecolor\":\"#2a3f5f\"},\"baxis\":{\"endlinecolor\":\"#2a3f5f\",\"gridcolor\":\"white\",\"linecolor\":\"white\",\"minorgridcolor\":\"white\",\"startlinecolor\":\"#2a3f5f\"},\"type\":\"carpet\"}],\"choropleth\":[{\"colorbar\":{\"outlinewidth\":0,\"ticks\":\"\"},\"type\":\"choropleth\"}],\"contour\":[{\"colorbar\":{\"outlinewidth\":0,\"ticks\":\"\"},\"colorscale\":[[0.0,\"#0d0887\"],[0.1111111111111111,\"#46039f\"],[0.2222222222222222,\"#7201a8\"],[0.3333333333333333,\"#9c179e\"],[0.4444444444444444,\"#bd3786\"],[0.5555555555555556,\"#d8576b\"],[0.6666666666666666,\"#ed7953\"],[0.7777777777777778,\"#fb9f3a\"],[0.8888888888888888,\"#fdca26\"],[1.0,\"#f0f921\"]],\"type\":\"contour\"}],\"contourcarpet\":[{\"colorbar\":{\"outlinewidth\":0,\"ticks\":\"\"},\"type\":\"contourcarpet\"}],\"heatmap\":[{\"colorbar\":{\"outlinewidth\":0,\"ticks\":\"\"},\"colorscale\":[[0.0,\"#0d0887\"],[0.1111111111111111,\"#46039f\"],[0.2222222222222222,\"#7201a8\"],[0.3333333333333333,\"#9c179e\"],[0.4444444444444444,\"#bd3786\"],[0.5555555555555556,\"#d8576b\"],[0.6666666666666666,\"#ed7953\"],[0.7777777777777778,\"#fb9f3a\"],[0.8888888888888888,\"#fdca26\"],[1.0,\"#f0f921\"]],\"type\":\"heatmap\"}],\"heatmapgl\":[{\"colorbar\":{\"outlinewidth\":0,\"ticks\":\"\"},\"colorscale\":[[0.0,\"#0d0887\"],[0.1111111111111111,\"#46039f\"],[0.2222222222222222,\"#7201a8\"],[0.3333333333333333,\"#9c179e\"],[0.4444444444444444,\"#bd3786\"],[0.5555555555555556,\"#d8576b\"],[0.6666666666666666,\"#ed7953\"],[0.7777777777777778,\"#fb9f3a\"],[0.8888888888888888,\"#fdca26\"],[1.0,\"#f0f921\"]],\"type\":\"heatmapgl\"}],\"histogram\":[{\"marker\":{\"pattern\":{\"fillmode\":\"overlay\",\"size\":10,\"solidity\":0.2}},\"type\":\"histogram\"}],\"histogram2d\":[{\"colorbar\":{\"outlinewidth\":0,\"ticks\":\"\"},\"colorscale\":[[0.0,\"#0d0887\"],[0.1111111111111111,\"#46039f\"],[0.2222222222222222,\"#7201a8\"],[0.3333333333333333,\"#9c179e\"],[0.4444444444444444,\"#bd3786\"],[0.5555555555555556,\"#d8576b\"],[0.6666666666666666,\"#ed7953\"],[0.7777777777777778,\"#fb9f3a\"],[0.8888888888888888,\"#fdca26\"],[1.0,\"#f0f921\"]],\"type\":\"histogram2d\"}],\"histogram2dcontour\":[{\"colorbar\":{\"outlinewidth\":0,\"ticks\":\"\"},\"colorscale\":[[0.0,\"#0d0887\"],[0.1111111111111111,\"#46039f\"],[0.2222222222222222,\"#7201a8\"],[0.3333333333333333,\"#9c179e\"],[0.4444444444444444,\"#bd3786\"],[0.5555555555555556,\"#d8576b\"],[0.6666666666666666,\"#ed7953\"],[0.7777777777777778,\"#fb9f3a\"],[0.8888888888888888,\"#fdca26\"],[1.0,\"#f0f921\"]],\"type\":\"histogram2dcontour\"}],\"mesh3d\":[{\"colorbar\":{\"outlinewidth\":0,\"ticks\":\"\"},\"type\":\"mesh3d\"}],\"parcoords\":[{\"line\":{\"colorbar\":{\"outlinewidth\":0,\"ticks\":\"\"}},\"type\":\"parcoords\"}],\"pie\":[{\"automargin\":true,\"type\":\"pie\"}],\"scatter\":[{\"marker\":{\"colorbar\":{\"outlinewidth\":0,\"ticks\":\"\"}},\"type\":\"scatter\"}],\"scatter3d\":[{\"line\":{\"colorbar\":{\"outlinewidth\":0,\"ticks\":\"\"}},\"marker\":{\"colorbar\":{\"outlinewidth\":0,\"ticks\":\"\"}},\"type\":\"scatter3d\"}],\"scattercarpet\":[{\"marker\":{\"colorbar\":{\"outlinewidth\":0,\"ticks\":\"\"}},\"type\":\"scattercarpet\"}],\"scattergeo\":[{\"marker\":{\"colorbar\":{\"outlinewidth\":0,\"ticks\":\"\"}},\"type\":\"scattergeo\"}],\"scattergl\":[{\"marker\":{\"colorbar\":{\"outlinewidth\":0,\"ticks\":\"\"}},\"type\":\"scattergl\"}],\"scattermapbox\":[{\"marker\":{\"colorbar\":{\"outlinewidth\":0,\"ticks\":\"\"}},\"type\":\"scattermapbox\"}],\"scatterpolar\":[{\"marker\":{\"colorbar\":{\"outlinewidth\":0,\"ticks\":\"\"}},\"type\":\"scatterpolar\"}],\"scatterpolargl\":[{\"marker\":{\"colorbar\":{\"outlinewidth\":0,\"ticks\":\"\"}},\"type\":\"scatterpolargl\"}],\"scatterternary\":[{\"marker\":{\"colorbar\":{\"outlinewidth\":0,\"ticks\":\"\"}},\"type\":\"scatterternary\"}],\"surface\":[{\"colorbar\":{\"outlinewidth\":0,\"ticks\":\"\"},\"colorscale\":[[0.0,\"#0d0887\"],[0.1111111111111111,\"#46039f\"],[0.2222222222222222,\"#7201a8\"],[0.3333333333333333,\"#9c179e\"],[0.4444444444444444,\"#bd3786\"],[0.5555555555555556,\"#d8576b\"],[0.6666666666666666,\"#ed7953\"],[0.7777777777777778,\"#fb9f3a\"],[0.8888888888888888,\"#fdca26\"],[1.0,\"#f0f921\"]],\"type\":\"surface\"}],\"table\":[{\"cells\":{\"fill\":{\"color\":\"#EBF0F8\"},\"line\":{\"color\":\"white\"}},\"header\":{\"fill\":{\"color\":\"#C8D4E3\"},\"line\":{\"color\":\"white\"}},\"type\":\"table\"}]},\"layout\":{\"annotationdefaults\":{\"arrowcolor\":\"#2a3f5f\",\"arrowhead\":0,\"arrowwidth\":1},\"autotypenumbers\":\"strict\",\"coloraxis\":{\"colorbar\":{\"outlinewidth\":0,\"ticks\":\"\"}},\"colorscale\":{\"diverging\":[[0,\"#8e0152\"],[0.1,\"#c51b7d\"],[0.2,\"#de77ae\"],[0.3,\"#f1b6da\"],[0.4,\"#fde0ef\"],[0.5,\"#f7f7f7\"],[0.6,\"#e6f5d0\"],[0.7,\"#b8e186\"],[0.8,\"#7fbc41\"],[0.9,\"#4d9221\"],[1,\"#276419\"]],\"sequential\":[[0.0,\"#0d0887\"],[0.1111111111111111,\"#46039f\"],[0.2222222222222222,\"#7201a8\"],[0.3333333333333333,\"#9c179e\"],[0.4444444444444444,\"#bd3786\"],[0.5555555555555556,\"#d8576b\"],[0.6666666666666666,\"#ed7953\"],[0.7777777777777778,\"#fb9f3a\"],[0.8888888888888888,\"#fdca26\"],[1.0,\"#f0f921\"]],\"sequentialminus\":[[0.0,\"#0d0887\"],[0.1111111111111111,\"#46039f\"],[0.2222222222222222,\"#7201a8\"],[0.3333333333333333,\"#9c179e\"],[0.4444444444444444,\"#bd3786\"],[0.5555555555555556,\"#d8576b\"],[0.6666666666666666,\"#ed7953\"],[0.7777777777777778,\"#fb9f3a\"],[0.8888888888888888,\"#fdca26\"],[1.0,\"#f0f921\"]]},\"colorway\":[\"#636efa\",\"#EF553B\",\"#00cc96\",\"#ab63fa\",\"#FFA15A\",\"#19d3f3\",\"#FF6692\",\"#B6E880\",\"#FF97FF\",\"#FECB52\"],\"font\":{\"color\":\"#2a3f5f\"},\"geo\":{\"bgcolor\":\"white\",\"lakecolor\":\"white\",\"landcolor\":\"#E5ECF6\",\"showlakes\":true,\"showland\":true,\"subunitcolor\":\"white\"},\"hoverlabel\":{\"align\":\"left\"},\"hovermode\":\"closest\",\"mapbox\":{\"style\":\"light\"},\"paper_bgcolor\":\"white\",\"plot_bgcolor\":\"#E5ECF6\",\"polar\":{\"angularaxis\":{\"gridcolor\":\"white\",\"linecolor\":\"white\",\"ticks\":\"\"},\"bgcolor\":\"#E5ECF6\",\"radialaxis\":{\"gridcolor\":\"white\",\"linecolor\":\"white\",\"ticks\":\"\"}},\"scene\":{\"xaxis\":{\"backgroundcolor\":\"#E5ECF6\",\"gridcolor\":\"white\",\"gridwidth\":2,\"linecolor\":\"white\",\"showbackground\":true,\"ticks\":\"\",\"zerolinecolor\":\"white\"},\"yaxis\":{\"backgroundcolor\":\"#E5ECF6\",\"gridcolor\":\"white\",\"gridwidth\":2,\"linecolor\":\"white\",\"showbackground\":true,\"ticks\":\"\",\"zerolinecolor\":\"white\"},\"zaxis\":{\"backgroundcolor\":\"#E5ECF6\",\"gridcolor\":\"white\",\"gridwidth\":2,\"linecolor\":\"white\",\"showbackground\":true,\"ticks\":\"\",\"zerolinecolor\":\"white\"}},\"shapedefaults\":{\"line\":{\"color\":\"#2a3f5f\"}},\"ternary\":{\"aaxis\":{\"gridcolor\":\"white\",\"linecolor\":\"white\",\"ticks\":\"\"},\"baxis\":{\"gridcolor\":\"white\",\"linecolor\":\"white\",\"ticks\":\"\"},\"bgcolor\":\"#E5ECF6\",\"caxis\":{\"gridcolor\":\"white\",\"linecolor\":\"white\",\"ticks\":\"\"}},\"title\":{\"x\":0.05},\"xaxis\":{\"automargin\":true,\"gridcolor\":\"white\",\"linecolor\":\"white\",\"ticks\":\"\",\"title\":{\"standoff\":15},\"zerolinecolor\":\"white\",\"zerolinewidth\":2},\"yaxis\":{\"automargin\":true,\"gridcolor\":\"white\",\"linecolor\":\"white\",\"ticks\":\"\",\"title\":{\"standoff\":15},\"zerolinecolor\":\"white\",\"zerolinewidth\":2}}}},                        {\"responsive\": true}                    ).then(function(){\n",
                            "                            \n",
                            "var gd = document.getElementById('684ac321-6eb7-4750-956c-b88205472e62');\n",
                            "var x = new MutationObserver(function (mutations, observer) {{\n",
                            "        var display = window.getComputedStyle(gd).display;\n",
                            "        if (!display || display === 'none') {{\n",
                            "            console.log([gd, 'removed!']);\n",
                            "            Plotly.purge(gd);\n",
                            "            observer.disconnect();\n",
                            "        }}\n",
                            "}});\n",
                            "\n",
                            "// Listen for the removal of the full notebook cells\n",
                            "var notebookContainer = gd.closest('#notebook-container');\n",
                            "if (notebookContainer) {{\n",
                            "    x.observe(notebookContainer, {childList: true});\n",
                            "}}\n",
                            "\n",
                            "// Listen for the clearing of the current output cell\n",
                            "var outputEl = gd.closest('.output');\n",
                            "if (outputEl) {{\n",
                            "    x.observe(outputEl, {childList: true});\n",
                            "}}\n",
                            "\n",
                            "                        })                };                });            </script>        </div>"
                        ]
                    },
                    "metadata": {},
                    "output_type": "display_data"
                }
            ],
            "source": [
                "# 3D plots with plotly \n",
                "atoms = torch.argwhere(b.batch == graph_id).squeeze()\n",
                "\n",
                "# Separate atom coordinates\n",
                "x = [b.pos[atom][0].item() for atom in atoms] \n",
                "y = [b.pos[atom][1].item() for atom in atoms] \n",
                "z = [b.pos[atom][2].item() for atom in atoms] \n",
                "\n",
                "trace = go.Scatter3d(\n",
                "   x = x, y = y, z = z,\n",
                "   mode = 'markers+text', \n",
                "   text = atoms,\n",
                "   textfont= dict(size=9),\n",
                "   marker = dict(\n",
                "      size = 12,\n",
                "      color = b.tags[atoms], # set color to an array/list of desired values\n",
                "      colorscale = 'Viridis'\n",
                "      )\n",
                "   )\n",
                "layout = go.Layout(title = '3D plot of one adslab', width=900, height=700)\n",
                "fig = go.Figure(data = [trace], layout = layout)\n",
                "fig.show()\n"
            ]
        },
        {
            "cell_type": "code",
            "execution_count": 41,
            "metadata": {},
            "outputs": [
                {
                    "data": {
                        "text/plain": [
                            "tensor([0, 1])"
                        ]
                    },
                    "execution_count": 41,
                    "metadata": {},
                    "output_type": "execute_result"
                }
            ],
            "source": [
                "# There is not cell offsets in the z-axis \n",
                "torch.unique(torch.nonzero(b.cell_offsets)[:,1])"
            ]
        },
        {
            "cell_type": "code",
            "execution_count": 42,
            "metadata": {},
            "outputs": [
                {
                    "name": "stdout",
                    "output_type": "stream",
                    "text": [
                        "--- We analyse different types of neighbours ---\n",
                        "neighbours:  [0, 2, 3, 4, 5, 6, 7, 8, 9, 10, 11, 13, 14, 15, 17, 19, 21, 22, 23, 24, 26, 27, 28, 29, 30, 31, 32, 33, 34]\n",
                        "offset neighbours:  [6, 7, 10, 15, 17, 21, 22, 27, 28, 34]\n",
                        "non-offset neighbours:  [0, 2, 3, 4, 5, 7, 8, 9, 11, 13, 14, 17, 19, 23, 24, 26, 28, 29, 30, 31, 32, 33, 34]\n",
                        "not neighbours:  [1, 12, 16, 20, 25, 35, 36, 37, 38, 39]\n",
                        "double neighbourhood status: {17, 34, 28, 7}\n"
                    ]
                }
            ],
            "source": [
                "print('--- We analyse different types of neighbours ---')\n",
                "\n",
                "# Fix again key params\n",
                "graph_id = 0\n",
                "g = b[graph_id]\n",
                "G = to_networkx(g)\n",
                "atom_idx = 18\n",
                "atoms = torch.argwhere(b.batch == graph_id).squeeze()\n",
                "\n",
                "# Compute neighbours\n",
                "neighbours = list(G.neighbors(atom_idx))\n",
                "edge_idx_with_nonzero_cell_offsets = g.edge_index[:, g.cell_offsets.nonzero()[:,0]]\n",
                "offset_neighbours_idx = (edge_idx_with_nonzero_cell_offsets[1,:]==atom_idx).nonzero().T[0].tolist()\n",
                "offset_neighbours = edge_idx_with_nonzero_cell_offsets[:, offset_neighbours_idx][0,:].tolist()\n",
                "offset_neighbours = sorted(set(offset_neighbours))\n",
                "non_offset_neighbours = g.edge_index[:,torch.where((g.cell_offsets==0).all(axis=1))[0]]\n",
                "non_offset_neighbours = sorted(set(non_offset_neighbours[0,torch.where(non_offset_neighbours==atom_idx)[1]].tolist()))\n",
                "non_offset_neighbours.remove(atom_idx)\n",
                "duplicates = set(non_offset_neighbours)-(set(neighbours) - set(offset_neighbours))\n",
                "not_neighbours = sorted( set(range(b.natoms[graph_id].item())) - set(neighbours+[atom_idx]) )\n",
                "\n",
                "print('neighbours: ', neighbours)\n",
                "print('offset neighbours: ', offset_neighbours)\n",
                "print('non-offset neighbours: ', non_offset_neighbours)\n",
                "print('not neighbours: ', not_neighbours)\n",
                "print('double neighbourhood status:', duplicates)"
            ]
        },
        {
            "cell_type": "code",
            "execution_count": 43,
            "metadata": {},
            "outputs": [
                {
                    "name": "stdout",
                    "output_type": "stream",
                    "text": [
                        "{0, 2, 3, 4, 5, 6, 7, 8, 9, 10, 11, 13, 14, 15, 17, 19, 21, 22, 23, 24, 26, 27, 28, 29, 30, 31, 32, 33, 34}\n",
                        "{0, 2, 3, 4, 5, 7, 8, 9, 11, 13, 14, 17, 19, 23, 24, 26, 28, 29, 30, 31, 32, 33, 34}\n",
                        "[0, 2, 3, 4, 5, 7, 8, 9, 11, 13, 14, 17, 19, 23, 24, 26, 28, 29, 30, 31, 32, 33, 34]\n"
                    ]
                }
            ],
            "source": [
                "# non_offset_neighbours = g.edge_index[:,torch.where((g.cell_offsets==0).all(axis=1))[0]]\n",
                "#non_offset_neighbours = sorted(set(non_offset_neighbours[0,torch.where(non_offset_neighbours==atom_idx)[1]].tolist()))\n",
                "#non_offset_neighbours.remove(atom_idx)\n",
                "print(set(neighbours))\n",
                "print(set(non_offset_neighbours))\n",
                "print(non_offset_neighbours)"
            ]
        },
        {
            "cell_type": "code",
            "execution_count": 44,
            "metadata": {},
            "outputs": [
                {
                    "data": {
                        "text/plain": [
                            "tensor([[27, 27],\n",
                            "        [18, 18]])"
                        ]
                    },
                    "execution_count": 44,
                    "metadata": {},
                    "output_type": "execute_result"
                }
            ],
            "source": [
                "g.edge_index[:,torch.argwhere( (g.edge_index == torch.tensor([27,18]).unsqueeze(dim=1)).all(dim=0) ).squeeze().tolist()]"
            ]
        },
        {
            "cell_type": "code",
            "execution_count": 45,
            "metadata": {},
            "outputs": [
                {
                    "name": "stdout",
                    "output_type": "stream",
                    "text": [
                        "tensor([[ 0, -1,  0],\n",
                        "        [ 1,  0,  0]])\n",
                        "tensor([5.4535, 5.5394])\n",
                        "tensor(7.8788)\n",
                        "tensor([[-1.9856, -1.8837, 13.9365],\n",
                        "        [ 8.9901,  6.5916, 13.9365]])\n",
                        "tensor([ 5.0868,  3.1800, 14.5819])\n",
                        "new dist:  8.72223949432373\n",
                        "new dist:  5.224082946777344\n"
                    ]
                }
            ],
            "source": [
                "# Check that 27 is twice an offset neighbour for node 18\n",
                "print(g.cell_offsets[torch.argwhere( (g.edge_index == torch.tensor([27,18]).unsqueeze(dim=1)).all(dim=0) ).squeeze().tolist()])\n",
                "print(g.distances[torch.argwhere( (g.edge_index == torch.tensor([27,18]).unsqueeze(dim=1)).all(dim=0) ).squeeze().tolist()])\n",
                "print(torch.norm(g.pos[18]-g.pos[27]))\n",
                "\n",
                "indices = torch.argwhere( (g.edge_index == torch.tensor([27,atom_idx]).unsqueeze(dim=1)).all(dim=0) ).squeeze()\n",
                "new_node_pos = g.pos[27] + torch.norm(g.cell[graph_id], dim=1) * g.cell_offsets[indices] \n",
                "print(new_node_pos)\n",
                "print(b.pos[atom_idx])\n",
                "print('new dist: ', torch.norm(new_node_pos[0] - b.pos[atom_idx]).item())\n",
                "print('new dist: ', torch.norm(new_node_pos[1] - b.pos[atom_idx]).item())\n"
            ]
        },
        {
            "cell_type": "code",
            "execution_count": 46,
            "metadata": {},
            "outputs": [
                {
                    "name": "stdout",
                    "output_type": "stream",
                    "text": [
                        "tensor([[0, 1, 0],\n",
                        "        [0, 0, 0]])\n",
                        "tensor([4.9985, 4.9988])\n",
                        "tensor(4.9988)\n",
                        "tensor([[ 9.2341,  9.2179, 15.9410],\n",
                        "        [ 9.2341,  0.7426, 15.9410]])\n",
                        "tensor([ 5.0868,  3.1800, 14.5819])\n",
                        "new dist:  7.450113773345947\n",
                        "new dist:  4.99879264831543\n",
                        "We have not found proper offset distance while we find correct cell distance\n"
                    ]
                }
            ],
            "source": [
                "print(g.cell_offsets[torch.argwhere( (g.edge_index == torch.tensor([34,atom_idx]).unsqueeze(dim=1)).all(dim=0) ).squeeze().tolist()])\n",
                "print(g.distances[torch.argwhere( (g.edge_index == torch.tensor([34,atom_idx]).unsqueeze(dim=1)).all(dim=0) ).squeeze().tolist()])\n",
                "print(torch.norm(g.pos[atom_idx]-g.pos[34]))\n",
                "\n",
                "indices = torch.argwhere( (g.edge_index == torch.tensor([34,atom_idx]).unsqueeze(dim=1)).all(dim=0) ).squeeze()\n",
                "new_node_pos = g.pos[34] + torch.norm(g.cell[graph_id], dim=1) * g.cell_offsets[indices] \n",
                "print(new_node_pos)\n",
                "print(b.pos[atom_idx])\n",
                "print('new dist: ', torch.norm(new_node_pos[0] - b.pos[atom_idx]).item())\n",
                "print('new dist: ', torch.norm(new_node_pos[1] - b.pos[atom_idx]).item())\n",
                "\n",
                "print('We have not found proper offset distance while we find correct cell distance')\n"
            ]
        },
        {
            "cell_type": "code",
            "execution_count": 47,
            "metadata": {},
            "outputs": [
                {
                    "name": "stdout",
                    "output_type": "stream",
                    "text": [
                        "duplicate neighbours: {34, 7, 17, 27, 28}\n"
                    ]
                }
            ],
            "source": [
                "# Check for edges with multiplicity > 1 (called \"duplicates\")\n",
                "# Careful: this method also counts as duplicates nodes who are twice offset-neighbors, and which may not be direct neighbor. \n",
                "atom_idx = 18\n",
                "\n",
                "indices = []\n",
                "for edge in g.edge_index.T: \n",
                "    indices.append(torch.argwhere( (g.edge_index == edge.unsqueeze(dim=1)).all(dim=0) ).squeeze().tolist())\n",
                "all_double_edges_indices = [index for index in indices if isinstance(index, list)]\n",
                "flat_list = [item for sublist in all_double_edges_indices for item in sublist]\n",
                "all_double_edges = g.edge_index[:,flat_list]\n",
                "print('duplicate neighbours:', set(all_double_edges[:,torch.nonzero(all_double_edges==atom_idx, as_tuple=True)[1]][0].tolist())-{atom_idx})"
            ]
        },
        {
            "cell_type": "code",
            "execution_count": 48,
            "metadata": {},
            "outputs": [
                {
                    "name": "stdout",
                    "output_type": "stream",
                    "text": [
                        "{34, 7, 17, 27, 28}\n"
                    ]
                }
            ],
            "source": [
                "# Look for duplicate edges - brute force \n",
                "# Careful: this method also counts as duplicates nodes who are twice offset-neighbors, and which may not be direct neighbor. \n",
                "atom_idx = 18\n",
                "memory=[]\n",
                "duplicates=[]\n",
                "for edge in g.edge_index.T: \n",
                "    edge=edge.tolist()\n",
                "    if edge in memory: \n",
                "        duplicates.append(edge)\n",
                "    else: \n",
                "        memory.append(edge)\n",
                "\n",
                "l=[subit for item in duplicates for subit in item if atom_idx in item]\n",
                "print(set(l)-{atom_idx})\n"
            ]
        },
        {
            "cell_type": "code",
            "execution_count": null,
            "metadata": {},
            "outputs": [],
            "source": []
        },
        {
            "cell_type": "code",
            "execution_count": 49,
            "metadata": {},
            "outputs": [
                {
                    "data": {
                        "application/vnd.plotly.v1+json": {
                            "config": {
                                "plotlyServerURL": "https://plot.ly"
                            },
                            "data": [
                                {
                                    "marker": {
                                        "color": [
                                            "blue",
                                            "black",
                                            "blue",
                                            "blue",
                                            "blue",
                                            "blue",
                                            "orange",
                                            "orange",
                                            "blue",
                                            "blue",
                                            "orange",
                                            "blue",
                                            "black",
                                            "blue",
                                            "blue",
                                            "orange",
                                            "black",
                                            "orange",
                                            "red",
                                            "blue",
                                            "black",
                                            "orange",
                                            "orange",
                                            "blue",
                                            "blue",
                                            "black",
                                            "blue",
                                            "orange",
                                            "orange",
                                            "blue",
                                            "blue",
                                            "blue",
                                            "blue",
                                            "blue",
                                            "orange",
                                            "black",
                                            "black",
                                            "black",
                                            "black",
                                            "black"
                                        ],
                                        "colorscale": [
                                            [
                                                0,
                                                "rgb(150,0,90)"
                                            ],
                                            [
                                                0.125,
                                                "rgb(0,0,200)"
                                            ],
                                            [
                                                0.25,
                                                "rgb(0,25,255)"
                                            ],
                                            [
                                                0.375,
                                                "rgb(0,152,255)"
                                            ],
                                            [
                                                0.5,
                                                "rgb(44,255,150)"
                                            ],
                                            [
                                                0.625,
                                                "rgb(151,255,0)"
                                            ],
                                            [
                                                0.75,
                                                "rgb(255,234,0)"
                                            ],
                                            [
                                                0.875,
                                                "rgb(255,111,0)"
                                            ],
                                            [
                                                1,
                                                "rgb(255,0,0)"
                                            ]
                                        ],
                                        "size": 12
                                    },
                                    "mode": "markers+text",
                                    "text": [
                                        0,
                                        1,
                                        2,
                                        3,
                                        4,
                                        5,
                                        6,
                                        7,
                                        8,
                                        9,
                                        10,
                                        11,
                                        12,
                                        13,
                                        14,
                                        15,
                                        16,
                                        17,
                                        18,
                                        19,
                                        20,
                                        21,
                                        22,
                                        23,
                                        24,
                                        25,
                                        26,
                                        27,
                                        28,
                                        29,
                                        30,
                                        31,
                                        32,
                                        33,
                                        34,
                                        35,
                                        36,
                                        37,
                                        38,
                                        39
                                    ],
                                    "textfont": {
                                        "size": 9
                                    },
                                    "type": "scatter3d",
                                    "x": [
                                        6.371547222137451,
                                        9.995777130126953,
                                        2.747317314147949,
                                        8.183662414550781,
                                        0.9352022409439087,
                                        4.559432506561279,
                                        -2.747317314147949,
                                        0.8769128322601318,
                                        4.501142978668213,
                                        6.313258171081543,
                                        -0.9352023005485535,
                                        2.689028024673462,
                                        -1.4626051187515259,
                                        2.1616251468658447,
                                        5.785855293273926,
                                        -3.2747199535369873,
                                        0.3495100140571594,
                                        3.9737401008605957,
                                        5.086834907531738,
                                        8.711065292358398,
                                        1.4626049995422363,
                                        6.898950099945068,
                                        10.52318000793457,
                                        3.2747201919555664,
                                        7.0749406814575195,
                                        -0.17351983487606049,
                                        3.4507102966308594,
                                        -1.9856349229812622,
                                        1.6385953426361084,
                                        5.2628254890441895,
                                        7.421979904174805,
                                        0.1735198050737381,
                                        3.7977499961853027,
                                        5.609865188598633,
                                        9.234095573425293,
                                        1.9856349229812622,
                                        8.298834800720215,
                                        8.543374061584473,
                                        8.665401458740234,
                                        8.593488693237305
                                    ],
                                    "y": [
                                        1.4460099935531616,
                                        1.4460099935531616,
                                        1.4460099935531616,
                                        2.221095323562622,
                                        2.221095323562622,
                                        2.221095323562622,
                                        5.888200759887695,
                                        5.888200759887695,
                                        5.888200759887695,
                                        5.113115310668945,
                                        5.113115310668945,
                                        5.113115310668945,
                                        4.154236316680908,
                                        4.154236316680908,
                                        4.154236316680908,
                                        6.847079753875732,
                                        6.847079753875732,
                                        6.847079753875732,
                                        3.1799745559692383,
                                        3.1799745559692383,
                                        3.1799745559692383,
                                        0.48713088035583496,
                                        0.48713088035583496,
                                        0.48713088035583496,
                                        4.409692287445068,
                                        4.409692287445068,
                                        4.409692287445068,
                                        6.591623783111572,
                                        6.591623783111572,
                                        6.591623783111572,
                                        2.924518585205078,
                                        2.924518585205078,
                                        2.924518585205078,
                                        0.7425868511199951,
                                        0.7425868511199951,
                                        0.7425868511199951,
                                        1.5586717128753662,
                                        2.2468039989471436,
                                        1.6635432243347168,
                                        3.314473867416382
                                    ],
                                    "z": [
                                        16.552318572998047,
                                        18.76727867126465,
                                        14.337358474731445,
                                        13.587244033813477,
                                        17.302433013916016,
                                        19.517393112182617,
                                        19.255401611328125,
                                        13.3252534866333,
                                        15.540214538574219,
                                        12.575139999389648,
                                        16.290328979492188,
                                        18.50528907775879,
                                        21.225845336914062,
                                        15.295697212219238,
                                        17.510658264160156,
                                        16.04581069946289,
                                        18.260770797729492,
                                        12.330622673034668,
                                        14.58187484741211,
                                        16.79683494567871,
                                        20.51202392578125,
                                        19.76190948486328,
                                        13.831761360168457,
                                        17.54694938659668,
                                        15.40139102935791,
                                        19.116579055786133,
                                        13.186430931091309,
                                        13.936544418334961,
                                        16.151504516601562,
                                        18.366464614868164,
                                        18.90610122680664,
                                        14.476181030273438,
                                        16.69114112854004,
                                        13.726067543029785,
                                        15.941027641296387,
                                        19.65621566772461,
                                        20.783090591430664,
                                        22.116159439086914,
                                        23.00487518310547,
                                        22.165855407714844
                                    ]
                                }
                            ],
                            "layout": {
                                "height": 700,
                                "template": {
                                    "data": {
                                        "bar": [
                                            {
                                                "error_x": {
                                                    "color": "#2a3f5f"
                                                },
                                                "error_y": {
                                                    "color": "#2a3f5f"
                                                },
                                                "marker": {
                                                    "line": {
                                                        "color": "#E5ECF6",
                                                        "width": 0.5
                                                    },
                                                    "pattern": {
                                                        "fillmode": "overlay",
                                                        "size": 10,
                                                        "solidity": 0.2
                                                    }
                                                },
                                                "type": "bar"
                                            }
                                        ],
                                        "barpolar": [
                                            {
                                                "marker": {
                                                    "line": {
                                                        "color": "#E5ECF6",
                                                        "width": 0.5
                                                    },
                                                    "pattern": {
                                                        "fillmode": "overlay",
                                                        "size": 10,
                                                        "solidity": 0.2
                                                    }
                                                },
                                                "type": "barpolar"
                                            }
                                        ],
                                        "carpet": [
                                            {
                                                "aaxis": {
                                                    "endlinecolor": "#2a3f5f",
                                                    "gridcolor": "white",
                                                    "linecolor": "white",
                                                    "minorgridcolor": "white",
                                                    "startlinecolor": "#2a3f5f"
                                                },
                                                "baxis": {
                                                    "endlinecolor": "#2a3f5f",
                                                    "gridcolor": "white",
                                                    "linecolor": "white",
                                                    "minorgridcolor": "white",
                                                    "startlinecolor": "#2a3f5f"
                                                },
                                                "type": "carpet"
                                            }
                                        ],
                                        "choropleth": [
                                            {
                                                "colorbar": {
                                                    "outlinewidth": 0,
                                                    "ticks": ""
                                                },
                                                "type": "choropleth"
                                            }
                                        ],
                                        "contour": [
                                            {
                                                "colorbar": {
                                                    "outlinewidth": 0,
                                                    "ticks": ""
                                                },
                                                "colorscale": [
                                                    [
                                                        0,
                                                        "#0d0887"
                                                    ],
                                                    [
                                                        0.1111111111111111,
                                                        "#46039f"
                                                    ],
                                                    [
                                                        0.2222222222222222,
                                                        "#7201a8"
                                                    ],
                                                    [
                                                        0.3333333333333333,
                                                        "#9c179e"
                                                    ],
                                                    [
                                                        0.4444444444444444,
                                                        "#bd3786"
                                                    ],
                                                    [
                                                        0.5555555555555556,
                                                        "#d8576b"
                                                    ],
                                                    [
                                                        0.6666666666666666,
                                                        "#ed7953"
                                                    ],
                                                    [
                                                        0.7777777777777778,
                                                        "#fb9f3a"
                                                    ],
                                                    [
                                                        0.8888888888888888,
                                                        "#fdca26"
                                                    ],
                                                    [
                                                        1,
                                                        "#f0f921"
                                                    ]
                                                ],
                                                "type": "contour"
                                            }
                                        ],
                                        "contourcarpet": [
                                            {
                                                "colorbar": {
                                                    "outlinewidth": 0,
                                                    "ticks": ""
                                                },
                                                "type": "contourcarpet"
                                            }
                                        ],
                                        "heatmap": [
                                            {
                                                "colorbar": {
                                                    "outlinewidth": 0,
                                                    "ticks": ""
                                                },
                                                "colorscale": [
                                                    [
                                                        0,
                                                        "#0d0887"
                                                    ],
                                                    [
                                                        0.1111111111111111,
                                                        "#46039f"
                                                    ],
                                                    [
                                                        0.2222222222222222,
                                                        "#7201a8"
                                                    ],
                                                    [
                                                        0.3333333333333333,
                                                        "#9c179e"
                                                    ],
                                                    [
                                                        0.4444444444444444,
                                                        "#bd3786"
                                                    ],
                                                    [
                                                        0.5555555555555556,
                                                        "#d8576b"
                                                    ],
                                                    [
                                                        0.6666666666666666,
                                                        "#ed7953"
                                                    ],
                                                    [
                                                        0.7777777777777778,
                                                        "#fb9f3a"
                                                    ],
                                                    [
                                                        0.8888888888888888,
                                                        "#fdca26"
                                                    ],
                                                    [
                                                        1,
                                                        "#f0f921"
                                                    ]
                                                ],
                                                "type": "heatmap"
                                            }
                                        ],
                                        "heatmapgl": [
                                            {
                                                "colorbar": {
                                                    "outlinewidth": 0,
                                                    "ticks": ""
                                                },
                                                "colorscale": [
                                                    [
                                                        0,
                                                        "#0d0887"
                                                    ],
                                                    [
                                                        0.1111111111111111,
                                                        "#46039f"
                                                    ],
                                                    [
                                                        0.2222222222222222,
                                                        "#7201a8"
                                                    ],
                                                    [
                                                        0.3333333333333333,
                                                        "#9c179e"
                                                    ],
                                                    [
                                                        0.4444444444444444,
                                                        "#bd3786"
                                                    ],
                                                    [
                                                        0.5555555555555556,
                                                        "#d8576b"
                                                    ],
                                                    [
                                                        0.6666666666666666,
                                                        "#ed7953"
                                                    ],
                                                    [
                                                        0.7777777777777778,
                                                        "#fb9f3a"
                                                    ],
                                                    [
                                                        0.8888888888888888,
                                                        "#fdca26"
                                                    ],
                                                    [
                                                        1,
                                                        "#f0f921"
                                                    ]
                                                ],
                                                "type": "heatmapgl"
                                            }
                                        ],
                                        "histogram": [
                                            {
                                                "marker": {
                                                    "pattern": {
                                                        "fillmode": "overlay",
                                                        "size": 10,
                                                        "solidity": 0.2
                                                    }
                                                },
                                                "type": "histogram"
                                            }
                                        ],
                                        "histogram2d": [
                                            {
                                                "colorbar": {
                                                    "outlinewidth": 0,
                                                    "ticks": ""
                                                },
                                                "colorscale": [
                                                    [
                                                        0,
                                                        "#0d0887"
                                                    ],
                                                    [
                                                        0.1111111111111111,
                                                        "#46039f"
                                                    ],
                                                    [
                                                        0.2222222222222222,
                                                        "#7201a8"
                                                    ],
                                                    [
                                                        0.3333333333333333,
                                                        "#9c179e"
                                                    ],
                                                    [
                                                        0.4444444444444444,
                                                        "#bd3786"
                                                    ],
                                                    [
                                                        0.5555555555555556,
                                                        "#d8576b"
                                                    ],
                                                    [
                                                        0.6666666666666666,
                                                        "#ed7953"
                                                    ],
                                                    [
                                                        0.7777777777777778,
                                                        "#fb9f3a"
                                                    ],
                                                    [
                                                        0.8888888888888888,
                                                        "#fdca26"
                                                    ],
                                                    [
                                                        1,
                                                        "#f0f921"
                                                    ]
                                                ],
                                                "type": "histogram2d"
                                            }
                                        ],
                                        "histogram2dcontour": [
                                            {
                                                "colorbar": {
                                                    "outlinewidth": 0,
                                                    "ticks": ""
                                                },
                                                "colorscale": [
                                                    [
                                                        0,
                                                        "#0d0887"
                                                    ],
                                                    [
                                                        0.1111111111111111,
                                                        "#46039f"
                                                    ],
                                                    [
                                                        0.2222222222222222,
                                                        "#7201a8"
                                                    ],
                                                    [
                                                        0.3333333333333333,
                                                        "#9c179e"
                                                    ],
                                                    [
                                                        0.4444444444444444,
                                                        "#bd3786"
                                                    ],
                                                    [
                                                        0.5555555555555556,
                                                        "#d8576b"
                                                    ],
                                                    [
                                                        0.6666666666666666,
                                                        "#ed7953"
                                                    ],
                                                    [
                                                        0.7777777777777778,
                                                        "#fb9f3a"
                                                    ],
                                                    [
                                                        0.8888888888888888,
                                                        "#fdca26"
                                                    ],
                                                    [
                                                        1,
                                                        "#f0f921"
                                                    ]
                                                ],
                                                "type": "histogram2dcontour"
                                            }
                                        ],
                                        "mesh3d": [
                                            {
                                                "colorbar": {
                                                    "outlinewidth": 0,
                                                    "ticks": ""
                                                },
                                                "type": "mesh3d"
                                            }
                                        ],
                                        "parcoords": [
                                            {
                                                "line": {
                                                    "colorbar": {
                                                        "outlinewidth": 0,
                                                        "ticks": ""
                                                    }
                                                },
                                                "type": "parcoords"
                                            }
                                        ],
                                        "pie": [
                                            {
                                                "automargin": true,
                                                "type": "pie"
                                            }
                                        ],
                                        "scatter": [
                                            {
                                                "marker": {
                                                    "colorbar": {
                                                        "outlinewidth": 0,
                                                        "ticks": ""
                                                    }
                                                },
                                                "type": "scatter"
                                            }
                                        ],
                                        "scatter3d": [
                                            {
                                                "line": {
                                                    "colorbar": {
                                                        "outlinewidth": 0,
                                                        "ticks": ""
                                                    }
                                                },
                                                "marker": {
                                                    "colorbar": {
                                                        "outlinewidth": 0,
                                                        "ticks": ""
                                                    }
                                                },
                                                "type": "scatter3d"
                                            }
                                        ],
                                        "scattercarpet": [
                                            {
                                                "marker": {
                                                    "colorbar": {
                                                        "outlinewidth": 0,
                                                        "ticks": ""
                                                    }
                                                },
                                                "type": "scattercarpet"
                                            }
                                        ],
                                        "scattergeo": [
                                            {
                                                "marker": {
                                                    "colorbar": {
                                                        "outlinewidth": 0,
                                                        "ticks": ""
                                                    }
                                                },
                                                "type": "scattergeo"
                                            }
                                        ],
                                        "scattergl": [
                                            {
                                                "marker": {
                                                    "colorbar": {
                                                        "outlinewidth": 0,
                                                        "ticks": ""
                                                    }
                                                },
                                                "type": "scattergl"
                                            }
                                        ],
                                        "scattermapbox": [
                                            {
                                                "marker": {
                                                    "colorbar": {
                                                        "outlinewidth": 0,
                                                        "ticks": ""
                                                    }
                                                },
                                                "type": "scattermapbox"
                                            }
                                        ],
                                        "scatterpolar": [
                                            {
                                                "marker": {
                                                    "colorbar": {
                                                        "outlinewidth": 0,
                                                        "ticks": ""
                                                    }
                                                },
                                                "type": "scatterpolar"
                                            }
                                        ],
                                        "scatterpolargl": [
                                            {
                                                "marker": {
                                                    "colorbar": {
                                                        "outlinewidth": 0,
                                                        "ticks": ""
                                                    }
                                                },
                                                "type": "scatterpolargl"
                                            }
                                        ],
                                        "scatterternary": [
                                            {
                                                "marker": {
                                                    "colorbar": {
                                                        "outlinewidth": 0,
                                                        "ticks": ""
                                                    }
                                                },
                                                "type": "scatterternary"
                                            }
                                        ],
                                        "surface": [
                                            {
                                                "colorbar": {
                                                    "outlinewidth": 0,
                                                    "ticks": ""
                                                },
                                                "colorscale": [
                                                    [
                                                        0,
                                                        "#0d0887"
                                                    ],
                                                    [
                                                        0.1111111111111111,
                                                        "#46039f"
                                                    ],
                                                    [
                                                        0.2222222222222222,
                                                        "#7201a8"
                                                    ],
                                                    [
                                                        0.3333333333333333,
                                                        "#9c179e"
                                                    ],
                                                    [
                                                        0.4444444444444444,
                                                        "#bd3786"
                                                    ],
                                                    [
                                                        0.5555555555555556,
                                                        "#d8576b"
                                                    ],
                                                    [
                                                        0.6666666666666666,
                                                        "#ed7953"
                                                    ],
                                                    [
                                                        0.7777777777777778,
                                                        "#fb9f3a"
                                                    ],
                                                    [
                                                        0.8888888888888888,
                                                        "#fdca26"
                                                    ],
                                                    [
                                                        1,
                                                        "#f0f921"
                                                    ]
                                                ],
                                                "type": "surface"
                                            }
                                        ],
                                        "table": [
                                            {
                                                "cells": {
                                                    "fill": {
                                                        "color": "#EBF0F8"
                                                    },
                                                    "line": {
                                                        "color": "white"
                                                    }
                                                },
                                                "header": {
                                                    "fill": {
                                                        "color": "#C8D4E3"
                                                    },
                                                    "line": {
                                                        "color": "white"
                                                    }
                                                },
                                                "type": "table"
                                            }
                                        ]
                                    },
                                    "layout": {
                                        "annotationdefaults": {
                                            "arrowcolor": "#2a3f5f",
                                            "arrowhead": 0,
                                            "arrowwidth": 1
                                        },
                                        "autotypenumbers": "strict",
                                        "coloraxis": {
                                            "colorbar": {
                                                "outlinewidth": 0,
                                                "ticks": ""
                                            }
                                        },
                                        "colorscale": {
                                            "diverging": [
                                                [
                                                    0,
                                                    "#8e0152"
                                                ],
                                                [
                                                    0.1,
                                                    "#c51b7d"
                                                ],
                                                [
                                                    0.2,
                                                    "#de77ae"
                                                ],
                                                [
                                                    0.3,
                                                    "#f1b6da"
                                                ],
                                                [
                                                    0.4,
                                                    "#fde0ef"
                                                ],
                                                [
                                                    0.5,
                                                    "#f7f7f7"
                                                ],
                                                [
                                                    0.6,
                                                    "#e6f5d0"
                                                ],
                                                [
                                                    0.7,
                                                    "#b8e186"
                                                ],
                                                [
                                                    0.8,
                                                    "#7fbc41"
                                                ],
                                                [
                                                    0.9,
                                                    "#4d9221"
                                                ],
                                                [
                                                    1,
                                                    "#276419"
                                                ]
                                            ],
                                            "sequential": [
                                                [
                                                    0,
                                                    "#0d0887"
                                                ],
                                                [
                                                    0.1111111111111111,
                                                    "#46039f"
                                                ],
                                                [
                                                    0.2222222222222222,
                                                    "#7201a8"
                                                ],
                                                [
                                                    0.3333333333333333,
                                                    "#9c179e"
                                                ],
                                                [
                                                    0.4444444444444444,
                                                    "#bd3786"
                                                ],
                                                [
                                                    0.5555555555555556,
                                                    "#d8576b"
                                                ],
                                                [
                                                    0.6666666666666666,
                                                    "#ed7953"
                                                ],
                                                [
                                                    0.7777777777777778,
                                                    "#fb9f3a"
                                                ],
                                                [
                                                    0.8888888888888888,
                                                    "#fdca26"
                                                ],
                                                [
                                                    1,
                                                    "#f0f921"
                                                ]
                                            ],
                                            "sequentialminus": [
                                                [
                                                    0,
                                                    "#0d0887"
                                                ],
                                                [
                                                    0.1111111111111111,
                                                    "#46039f"
                                                ],
                                                [
                                                    0.2222222222222222,
                                                    "#7201a8"
                                                ],
                                                [
                                                    0.3333333333333333,
                                                    "#9c179e"
                                                ],
                                                [
                                                    0.4444444444444444,
                                                    "#bd3786"
                                                ],
                                                [
                                                    0.5555555555555556,
                                                    "#d8576b"
                                                ],
                                                [
                                                    0.6666666666666666,
                                                    "#ed7953"
                                                ],
                                                [
                                                    0.7777777777777778,
                                                    "#fb9f3a"
                                                ],
                                                [
                                                    0.8888888888888888,
                                                    "#fdca26"
                                                ],
                                                [
                                                    1,
                                                    "#f0f921"
                                                ]
                                            ]
                                        },
                                        "colorway": [
                                            "#636efa",
                                            "#EF553B",
                                            "#00cc96",
                                            "#ab63fa",
                                            "#FFA15A",
                                            "#19d3f3",
                                            "#FF6692",
                                            "#B6E880",
                                            "#FF97FF",
                                            "#FECB52"
                                        ],
                                        "font": {
                                            "color": "#2a3f5f"
                                        },
                                        "geo": {
                                            "bgcolor": "white",
                                            "lakecolor": "white",
                                            "landcolor": "#E5ECF6",
                                            "showlakes": true,
                                            "showland": true,
                                            "subunitcolor": "white"
                                        },
                                        "hoverlabel": {
                                            "align": "left"
                                        },
                                        "hovermode": "closest",
                                        "mapbox": {
                                            "style": "light"
                                        },
                                        "paper_bgcolor": "white",
                                        "plot_bgcolor": "#E5ECF6",
                                        "polar": {
                                            "angularaxis": {
                                                "gridcolor": "white",
                                                "linecolor": "white",
                                                "ticks": ""
                                            },
                                            "bgcolor": "#E5ECF6",
                                            "radialaxis": {
                                                "gridcolor": "white",
                                                "linecolor": "white",
                                                "ticks": ""
                                            }
                                        },
                                        "scene": {
                                            "xaxis": {
                                                "backgroundcolor": "#E5ECF6",
                                                "gridcolor": "white",
                                                "gridwidth": 2,
                                                "linecolor": "white",
                                                "showbackground": true,
                                                "ticks": "",
                                                "zerolinecolor": "white"
                                            },
                                            "yaxis": {
                                                "backgroundcolor": "#E5ECF6",
                                                "gridcolor": "white",
                                                "gridwidth": 2,
                                                "linecolor": "white",
                                                "showbackground": true,
                                                "ticks": "",
                                                "zerolinecolor": "white"
                                            },
                                            "zaxis": {
                                                "backgroundcolor": "#E5ECF6",
                                                "gridcolor": "white",
                                                "gridwidth": 2,
                                                "linecolor": "white",
                                                "showbackground": true,
                                                "ticks": "",
                                                "zerolinecolor": "white"
                                            }
                                        },
                                        "shapedefaults": {
                                            "line": {
                                                "color": "#2a3f5f"
                                            }
                                        },
                                        "ternary": {
                                            "aaxis": {
                                                "gridcolor": "white",
                                                "linecolor": "white",
                                                "ticks": ""
                                            },
                                            "baxis": {
                                                "gridcolor": "white",
                                                "linecolor": "white",
                                                "ticks": ""
                                            },
                                            "bgcolor": "#E5ECF6",
                                            "caxis": {
                                                "gridcolor": "white",
                                                "linecolor": "white",
                                                "ticks": ""
                                            }
                                        },
                                        "title": {
                                            "x": 0.05
                                        },
                                        "xaxis": {
                                            "automargin": true,
                                            "gridcolor": "white",
                                            "linecolor": "white",
                                            "ticks": "",
                                            "title": {
                                                "standoff": 15
                                            },
                                            "zerolinecolor": "white",
                                            "zerolinewidth": 2
                                        },
                                        "yaxis": {
                                            "automargin": true,
                                            "gridcolor": "white",
                                            "linecolor": "white",
                                            "ticks": "",
                                            "title": {
                                                "standoff": 15
                                            },
                                            "zerolinecolor": "white",
                                            "zerolinewidth": 2
                                        }
                                    }
                                },
                                "title": {
                                    "text": "3D plot of one adslab"
                                },
                                "width": 900
                            }
                        },
                        "text/html": [
                            "<div>                            <div id=\"0b469a1a-298c-4bcc-af81-0699eaef9a13\" class=\"plotly-graph-div\" style=\"height:700px; width:900px;\"></div>            <script type=\"text/javascript\">                require([\"plotly\"], function(Plotly) {                    window.PLOTLYENV=window.PLOTLYENV || {};                                    if (document.getElementById(\"0b469a1a-298c-4bcc-af81-0699eaef9a13\")) {                    Plotly.newPlot(                        \"0b469a1a-298c-4bcc-af81-0699eaef9a13\",                        [{\"marker\":{\"color\":[\"blue\",\"black\",\"blue\",\"blue\",\"blue\",\"blue\",\"orange\",\"orange\",\"blue\",\"blue\",\"orange\",\"blue\",\"black\",\"blue\",\"blue\",\"orange\",\"black\",\"orange\",\"red\",\"blue\",\"black\",\"orange\",\"orange\",\"blue\",\"blue\",\"black\",\"blue\",\"orange\",\"orange\",\"blue\",\"blue\",\"blue\",\"blue\",\"blue\",\"orange\",\"black\",\"black\",\"black\",\"black\",\"black\"],\"colorscale\":[[0.0,\"rgb(150,0,90)\"],[0.125,\"rgb(0,0,200)\"],[0.25,\"rgb(0,25,255)\"],[0.375,\"rgb(0,152,255)\"],[0.5,\"rgb(44,255,150)\"],[0.625,\"rgb(151,255,0)\"],[0.75,\"rgb(255,234,0)\"],[0.875,\"rgb(255,111,0)\"],[1.0,\"rgb(255,0,0)\"]],\"size\":12},\"mode\":\"markers+text\",\"text\":[0.0,1.0,2.0,3.0,4.0,5.0,6.0,7.0,8.0,9.0,10.0,11.0,12.0,13.0,14.0,15.0,16.0,17.0,18.0,19.0,20.0,21.0,22.0,23.0,24.0,25.0,26.0,27.0,28.0,29.0,30.0,31.0,32.0,33.0,34.0,35.0,36.0,37.0,38.0,39.0],\"textfont\":{\"size\":9},\"x\":[6.371547222137451,9.995777130126953,2.747317314147949,8.183662414550781,0.9352022409439087,4.559432506561279,-2.747317314147949,0.8769128322601318,4.501142978668213,6.313258171081543,-0.9352023005485535,2.689028024673462,-1.4626051187515259,2.1616251468658447,5.785855293273926,-3.2747199535369873,0.3495100140571594,3.9737401008605957,5.086834907531738,8.711065292358398,1.4626049995422363,6.898950099945068,10.52318000793457,3.2747201919555664,7.0749406814575195,-0.17351983487606049,3.4507102966308594,-1.9856349229812622,1.6385953426361084,5.2628254890441895,7.421979904174805,0.1735198050737381,3.7977499961853027,5.609865188598633,9.234095573425293,1.9856349229812622,8.298834800720215,8.543374061584473,8.665401458740234,8.593488693237305],\"y\":[1.4460099935531616,1.4460099935531616,1.4460099935531616,2.221095323562622,2.221095323562622,2.221095323562622,5.888200759887695,5.888200759887695,5.888200759887695,5.113115310668945,5.113115310668945,5.113115310668945,4.154236316680908,4.154236316680908,4.154236316680908,6.847079753875732,6.847079753875732,6.847079753875732,3.1799745559692383,3.1799745559692383,3.1799745559692383,0.48713088035583496,0.48713088035583496,0.48713088035583496,4.409692287445068,4.409692287445068,4.409692287445068,6.591623783111572,6.591623783111572,6.591623783111572,2.924518585205078,2.924518585205078,2.924518585205078,0.7425868511199951,0.7425868511199951,0.7425868511199951,1.5586717128753662,2.2468039989471436,1.6635432243347168,3.314473867416382],\"z\":[16.552318572998047,18.76727867126465,14.337358474731445,13.587244033813477,17.302433013916016,19.517393112182617,19.255401611328125,13.3252534866333,15.540214538574219,12.575139999389648,16.290328979492188,18.50528907775879,21.225845336914062,15.295697212219238,17.510658264160156,16.04581069946289,18.260770797729492,12.330622673034668,14.58187484741211,16.79683494567871,20.51202392578125,19.76190948486328,13.831761360168457,17.54694938659668,15.40139102935791,19.116579055786133,13.186430931091309,13.936544418334961,16.151504516601562,18.366464614868164,18.90610122680664,14.476181030273438,16.69114112854004,13.726067543029785,15.941027641296387,19.65621566772461,20.783090591430664,22.116159439086914,23.00487518310547,22.165855407714844],\"type\":\"scatter3d\"}],                        {\"height\":700,\"title\":{\"text\":\"3D plot of one adslab\"},\"width\":900,\"template\":{\"data\":{\"bar\":[{\"error_x\":{\"color\":\"#2a3f5f\"},\"error_y\":{\"color\":\"#2a3f5f\"},\"marker\":{\"line\":{\"color\":\"#E5ECF6\",\"width\":0.5},\"pattern\":{\"fillmode\":\"overlay\",\"size\":10,\"solidity\":0.2}},\"type\":\"bar\"}],\"barpolar\":[{\"marker\":{\"line\":{\"color\":\"#E5ECF6\",\"width\":0.5},\"pattern\":{\"fillmode\":\"overlay\",\"size\":10,\"solidity\":0.2}},\"type\":\"barpolar\"}],\"carpet\":[{\"aaxis\":{\"endlinecolor\":\"#2a3f5f\",\"gridcolor\":\"white\",\"linecolor\":\"white\",\"minorgridcolor\":\"white\",\"startlinecolor\":\"#2a3f5f\"},\"baxis\":{\"endlinecolor\":\"#2a3f5f\",\"gridcolor\":\"white\",\"linecolor\":\"white\",\"minorgridcolor\":\"white\",\"startlinecolor\":\"#2a3f5f\"},\"type\":\"carpet\"}],\"choropleth\":[{\"colorbar\":{\"outlinewidth\":0,\"ticks\":\"\"},\"type\":\"choropleth\"}],\"contour\":[{\"colorbar\":{\"outlinewidth\":0,\"ticks\":\"\"},\"colorscale\":[[0.0,\"#0d0887\"],[0.1111111111111111,\"#46039f\"],[0.2222222222222222,\"#7201a8\"],[0.3333333333333333,\"#9c179e\"],[0.4444444444444444,\"#bd3786\"],[0.5555555555555556,\"#d8576b\"],[0.6666666666666666,\"#ed7953\"],[0.7777777777777778,\"#fb9f3a\"],[0.8888888888888888,\"#fdca26\"],[1.0,\"#f0f921\"]],\"type\":\"contour\"}],\"contourcarpet\":[{\"colorbar\":{\"outlinewidth\":0,\"ticks\":\"\"},\"type\":\"contourcarpet\"}],\"heatmap\":[{\"colorbar\":{\"outlinewidth\":0,\"ticks\":\"\"},\"colorscale\":[[0.0,\"#0d0887\"],[0.1111111111111111,\"#46039f\"],[0.2222222222222222,\"#7201a8\"],[0.3333333333333333,\"#9c179e\"],[0.4444444444444444,\"#bd3786\"],[0.5555555555555556,\"#d8576b\"],[0.6666666666666666,\"#ed7953\"],[0.7777777777777778,\"#fb9f3a\"],[0.8888888888888888,\"#fdca26\"],[1.0,\"#f0f921\"]],\"type\":\"heatmap\"}],\"heatmapgl\":[{\"colorbar\":{\"outlinewidth\":0,\"ticks\":\"\"},\"colorscale\":[[0.0,\"#0d0887\"],[0.1111111111111111,\"#46039f\"],[0.2222222222222222,\"#7201a8\"],[0.3333333333333333,\"#9c179e\"],[0.4444444444444444,\"#bd3786\"],[0.5555555555555556,\"#d8576b\"],[0.6666666666666666,\"#ed7953\"],[0.7777777777777778,\"#fb9f3a\"],[0.8888888888888888,\"#fdca26\"],[1.0,\"#f0f921\"]],\"type\":\"heatmapgl\"}],\"histogram\":[{\"marker\":{\"pattern\":{\"fillmode\":\"overlay\",\"size\":10,\"solidity\":0.2}},\"type\":\"histogram\"}],\"histogram2d\":[{\"colorbar\":{\"outlinewidth\":0,\"ticks\":\"\"},\"colorscale\":[[0.0,\"#0d0887\"],[0.1111111111111111,\"#46039f\"],[0.2222222222222222,\"#7201a8\"],[0.3333333333333333,\"#9c179e\"],[0.4444444444444444,\"#bd3786\"],[0.5555555555555556,\"#d8576b\"],[0.6666666666666666,\"#ed7953\"],[0.7777777777777778,\"#fb9f3a\"],[0.8888888888888888,\"#fdca26\"],[1.0,\"#f0f921\"]],\"type\":\"histogram2d\"}],\"histogram2dcontour\":[{\"colorbar\":{\"outlinewidth\":0,\"ticks\":\"\"},\"colorscale\":[[0.0,\"#0d0887\"],[0.1111111111111111,\"#46039f\"],[0.2222222222222222,\"#7201a8\"],[0.3333333333333333,\"#9c179e\"],[0.4444444444444444,\"#bd3786\"],[0.5555555555555556,\"#d8576b\"],[0.6666666666666666,\"#ed7953\"],[0.7777777777777778,\"#fb9f3a\"],[0.8888888888888888,\"#fdca26\"],[1.0,\"#f0f921\"]],\"type\":\"histogram2dcontour\"}],\"mesh3d\":[{\"colorbar\":{\"outlinewidth\":0,\"ticks\":\"\"},\"type\":\"mesh3d\"}],\"parcoords\":[{\"line\":{\"colorbar\":{\"outlinewidth\":0,\"ticks\":\"\"}},\"type\":\"parcoords\"}],\"pie\":[{\"automargin\":true,\"type\":\"pie\"}],\"scatter\":[{\"marker\":{\"colorbar\":{\"outlinewidth\":0,\"ticks\":\"\"}},\"type\":\"scatter\"}],\"scatter3d\":[{\"line\":{\"colorbar\":{\"outlinewidth\":0,\"ticks\":\"\"}},\"marker\":{\"colorbar\":{\"outlinewidth\":0,\"ticks\":\"\"}},\"type\":\"scatter3d\"}],\"scattercarpet\":[{\"marker\":{\"colorbar\":{\"outlinewidth\":0,\"ticks\":\"\"}},\"type\":\"scattercarpet\"}],\"scattergeo\":[{\"marker\":{\"colorbar\":{\"outlinewidth\":0,\"ticks\":\"\"}},\"type\":\"scattergeo\"}],\"scattergl\":[{\"marker\":{\"colorbar\":{\"outlinewidth\":0,\"ticks\":\"\"}},\"type\":\"scattergl\"}],\"scattermapbox\":[{\"marker\":{\"colorbar\":{\"outlinewidth\":0,\"ticks\":\"\"}},\"type\":\"scattermapbox\"}],\"scatterpolar\":[{\"marker\":{\"colorbar\":{\"outlinewidth\":0,\"ticks\":\"\"}},\"type\":\"scatterpolar\"}],\"scatterpolargl\":[{\"marker\":{\"colorbar\":{\"outlinewidth\":0,\"ticks\":\"\"}},\"type\":\"scatterpolargl\"}],\"scatterternary\":[{\"marker\":{\"colorbar\":{\"outlinewidth\":0,\"ticks\":\"\"}},\"type\":\"scatterternary\"}],\"surface\":[{\"colorbar\":{\"outlinewidth\":0,\"ticks\":\"\"},\"colorscale\":[[0.0,\"#0d0887\"],[0.1111111111111111,\"#46039f\"],[0.2222222222222222,\"#7201a8\"],[0.3333333333333333,\"#9c179e\"],[0.4444444444444444,\"#bd3786\"],[0.5555555555555556,\"#d8576b\"],[0.6666666666666666,\"#ed7953\"],[0.7777777777777778,\"#fb9f3a\"],[0.8888888888888888,\"#fdca26\"],[1.0,\"#f0f921\"]],\"type\":\"surface\"}],\"table\":[{\"cells\":{\"fill\":{\"color\":\"#EBF0F8\"},\"line\":{\"color\":\"white\"}},\"header\":{\"fill\":{\"color\":\"#C8D4E3\"},\"line\":{\"color\":\"white\"}},\"type\":\"table\"}]},\"layout\":{\"annotationdefaults\":{\"arrowcolor\":\"#2a3f5f\",\"arrowhead\":0,\"arrowwidth\":1},\"autotypenumbers\":\"strict\",\"coloraxis\":{\"colorbar\":{\"outlinewidth\":0,\"ticks\":\"\"}},\"colorscale\":{\"diverging\":[[0,\"#8e0152\"],[0.1,\"#c51b7d\"],[0.2,\"#de77ae\"],[0.3,\"#f1b6da\"],[0.4,\"#fde0ef\"],[0.5,\"#f7f7f7\"],[0.6,\"#e6f5d0\"],[0.7,\"#b8e186\"],[0.8,\"#7fbc41\"],[0.9,\"#4d9221\"],[1,\"#276419\"]],\"sequential\":[[0.0,\"#0d0887\"],[0.1111111111111111,\"#46039f\"],[0.2222222222222222,\"#7201a8\"],[0.3333333333333333,\"#9c179e\"],[0.4444444444444444,\"#bd3786\"],[0.5555555555555556,\"#d8576b\"],[0.6666666666666666,\"#ed7953\"],[0.7777777777777778,\"#fb9f3a\"],[0.8888888888888888,\"#fdca26\"],[1.0,\"#f0f921\"]],\"sequentialminus\":[[0.0,\"#0d0887\"],[0.1111111111111111,\"#46039f\"],[0.2222222222222222,\"#7201a8\"],[0.3333333333333333,\"#9c179e\"],[0.4444444444444444,\"#bd3786\"],[0.5555555555555556,\"#d8576b\"],[0.6666666666666666,\"#ed7953\"],[0.7777777777777778,\"#fb9f3a\"],[0.8888888888888888,\"#fdca26\"],[1.0,\"#f0f921\"]]},\"colorway\":[\"#636efa\",\"#EF553B\",\"#00cc96\",\"#ab63fa\",\"#FFA15A\",\"#19d3f3\",\"#FF6692\",\"#B6E880\",\"#FF97FF\",\"#FECB52\"],\"font\":{\"color\":\"#2a3f5f\"},\"geo\":{\"bgcolor\":\"white\",\"lakecolor\":\"white\",\"landcolor\":\"#E5ECF6\",\"showlakes\":true,\"showland\":true,\"subunitcolor\":\"white\"},\"hoverlabel\":{\"align\":\"left\"},\"hovermode\":\"closest\",\"mapbox\":{\"style\":\"light\"},\"paper_bgcolor\":\"white\",\"plot_bgcolor\":\"#E5ECF6\",\"polar\":{\"angularaxis\":{\"gridcolor\":\"white\",\"linecolor\":\"white\",\"ticks\":\"\"},\"bgcolor\":\"#E5ECF6\",\"radialaxis\":{\"gridcolor\":\"white\",\"linecolor\":\"white\",\"ticks\":\"\"}},\"scene\":{\"xaxis\":{\"backgroundcolor\":\"#E5ECF6\",\"gridcolor\":\"white\",\"gridwidth\":2,\"linecolor\":\"white\",\"showbackground\":true,\"ticks\":\"\",\"zerolinecolor\":\"white\"},\"yaxis\":{\"backgroundcolor\":\"#E5ECF6\",\"gridcolor\":\"white\",\"gridwidth\":2,\"linecolor\":\"white\",\"showbackground\":true,\"ticks\":\"\",\"zerolinecolor\":\"white\"},\"zaxis\":{\"backgroundcolor\":\"#E5ECF6\",\"gridcolor\":\"white\",\"gridwidth\":2,\"linecolor\":\"white\",\"showbackground\":true,\"ticks\":\"\",\"zerolinecolor\":\"white\"}},\"shapedefaults\":{\"line\":{\"color\":\"#2a3f5f\"}},\"ternary\":{\"aaxis\":{\"gridcolor\":\"white\",\"linecolor\":\"white\",\"ticks\":\"\"},\"baxis\":{\"gridcolor\":\"white\",\"linecolor\":\"white\",\"ticks\":\"\"},\"bgcolor\":\"#E5ECF6\",\"caxis\":{\"gridcolor\":\"white\",\"linecolor\":\"white\",\"ticks\":\"\"}},\"title\":{\"x\":0.05},\"xaxis\":{\"automargin\":true,\"gridcolor\":\"white\",\"linecolor\":\"white\",\"ticks\":\"\",\"title\":{\"standoff\":15},\"zerolinecolor\":\"white\",\"zerolinewidth\":2},\"yaxis\":{\"automargin\":true,\"gridcolor\":\"white\",\"linecolor\":\"white\",\"ticks\":\"\",\"title\":{\"standoff\":15},\"zerolinecolor\":\"white\",\"zerolinewidth\":2}}}},                        {\"responsive\": true}                    ).then(function(){\n",
                            "                            \n",
                            "var gd = document.getElementById('0b469a1a-298c-4bcc-af81-0699eaef9a13');\n",
                            "var x = new MutationObserver(function (mutations, observer) {{\n",
                            "        var display = window.getComputedStyle(gd).display;\n",
                            "        if (!display || display === 'none') {{\n",
                            "            console.log([gd, 'removed!']);\n",
                            "            Plotly.purge(gd);\n",
                            "            observer.disconnect();\n",
                            "        }}\n",
                            "}});\n",
                            "\n",
                            "// Listen for the removal of the full notebook cells\n",
                            "var notebookContainer = gd.closest('#notebook-container');\n",
                            "if (notebookContainer) {{\n",
                            "    x.observe(notebookContainer, {childList: true});\n",
                            "}}\n",
                            "\n",
                            "// Listen for the clearing of the current output cell\n",
                            "var outputEl = gd.closest('.output');\n",
                            "if (outputEl) {{\n",
                            "    x.observe(outputEl, {childList: true});\n",
                            "}}\n",
                            "\n",
                            "                        })                };                });            </script>        </div>"
                        ]
                    },
                    "metadata": {},
                    "output_type": "display_data"
                }
            ],
            "source": [
                "# 3D plots with plotly - run after above cell\n",
                "\n",
                "# Separate atom coordinates\n",
                "x = [b.pos[atom][0].item() for atom in atoms] \n",
                "y = [b.pos[atom][1].item() for atom in atoms] \n",
                "z = [b.pos[atom][2].item() for atom in atoms] \n",
                "\n",
                "# Define new colour scheme based on neighbourhood to see offset clearer\n",
                "colour_list = []\n",
                "for atom in atoms: \n",
                "    if atom.item() in offset_neighbours: \n",
                "        colour_list.append(\"orange\")\n",
                "    elif atom.item() in non_offset_neighbours: \n",
                "        colour_list.append(\"blue\")\n",
                "    elif atom.item() in not_neighbours:\n",
                "        colour_list.append(\"black\")\n",
                "    elif atom.item() == atom_idx:\n",
                "        colour_list.append(\"red\")\n",
                "\n",
                "trace = go.Scatter3d(\n",
                "   x = x, y = y, z = z,\n",
                "   mode = 'markers+text', \n",
                "   text = atoms,\n",
                "   textfont= dict(size=9),\n",
                "   marker = dict(\n",
                "      size = 12,\n",
                "      color = colour_list, # set color to an array/list of desired values\n",
                "      colorscale = 'rainbow'\n",
                "      )\n",
                "   )\n",
                "layout = go.Layout(title = '3D plot of one adslab', width=900, height=700)\n",
                "fig = go.Figure(data = [trace], layout = layout)\n",
                "fig.show()"
            ]
        },
        {
            "cell_type": "code",
            "execution_count": 50,
            "metadata": {},
            "outputs": [
                {
                    "name": "stdout",
                    "output_type": "stream",
                    "text": [
                        "2.477170467376709 5.161107540130615\n",
                        "4.444634914398193 9.515790939331055\n",
                        "6.427070617675781 9.380122184753418\n"
                    ]
                }
            ],
            "source": [
                "# Check distances between different neighbours types\n",
                "non_offset_nei_distances = []\n",
                "target_atom = b.pos[atom_idx]\n",
                "for node in non_offset_neighbours: \n",
                "    non_offset_nei_distances.append(torch.norm(b.pos[node] - target_atom).item())\n",
                "\n",
                "offset_nei_distances = []\n",
                "for node in offset_neighbours: \n",
                "    offset_nei_distances.append(torch.norm(b.pos[node] - target_atom).item())\n",
                "\n",
                "non_neighbours_distances = []\n",
                "for node in not_neighbours: \n",
                "    non_neighbours_distances.append(torch.norm(b.pos[node] - target_atom).item())\n",
                "\n",
                "# Print max and min distances of those categories\n",
                "print(min(non_offset_nei_distances), max(non_offset_nei_distances))\n",
                "print(min(offset_nei_distances), max(offset_nei_distances))\n",
                "print(min(non_neighbours_distances), max(non_neighbours_distances))\n",
                "\n",
                "# Inconsistency ? When node 14 is not a direct neighbour while it is closer than node 34 from target node (36)\n",
                "# Otherwise, different categories are consistent wrt distances to target node. "
            ]
        },
        {
            "cell_type": "code",
            "execution_count": 51,
            "metadata": {},
            "outputs": [
                {
                    "name": "stdout",
                    "output_type": "stream",
                    "text": [
                        "17\n",
                        "tensor([ 3.9737,  6.8471, 12.3306])\n",
                        "tensor([ 5.0868,  3.1800, 14.5819])\n",
                        "4.444634914398193\n"
                    ]
                }
            ],
            "source": [
                "# Find closest non-offset-neigbour\n",
                "node = offset_neighbours[np.argmin(offset_nei_distances)]\n",
                "print(node)\n",
                "print(b.pos[node])\n",
                "print(target_atom)\n",
                "print(torch.norm(b.pos[node] - target_atom).item())"
            ]
        },
        {
            "cell_type": "code",
            "execution_count": 58,
            "metadata": {},
            "outputs": [
                {
                    "data": {
                        "text/plain": [
                            "[6, 7, 10, 15, 17, 21, 22, 27, 28, 34]"
                        ]
                    },
                    "execution_count": 58,
                    "metadata": {},
                    "output_type": "execute_result"
                }
            ],
            "source": []
        },
        {
            "cell_type": "code",
            "execution_count": 63,
            "metadata": {},
            "outputs": [
                {
                    "name": "stdout",
                    "output_type": "stream",
                    "text": [
                        "new dist:  17.012649536132812\n"
                    ]
                },
                {
                    "ename": "RuntimeError",
                    "evalue": "The size of tensor a (3) must match the size of tensor b (2) at non-singleton dimension 0",
                    "output_type": "error",
                    "traceback": [
                        "\u001b[0;31m---------------------------------------------------------------------------\u001b[0m",
                        "\u001b[0;31mRuntimeError\u001b[0m                              Traceback (most recent call last)",
                        "\u001b[1;32m/home/mila/a/alexandre.duval/ocp/ocp/plot.ipynb Cell 34'\u001b[0m in \u001b[0;36m<cell line: 2>\u001b[0;34m()\u001b[0m\n\u001b[1;32m      <a href='vscode-notebook-cell://ssh-remote%2Bcn-a008.server.mila.quebec/home/mila/a/alexandre.duval/ocp/ocp/plot.ipynb#ch0000044vscode-remote?line=4'>5</a>\u001b[0m indices \u001b[39m=\u001b[39m torch\u001b[39m.\u001b[39margwhere( (g\u001b[39m.\u001b[39medge_index \u001b[39m==\u001b[39m torch\u001b[39m.\u001b[39mtensor([n,atom_idx])\u001b[39m.\u001b[39munsqueeze(dim\u001b[39m=\u001b[39m\u001b[39m1\u001b[39m))\u001b[39m.\u001b[39mall(dim\u001b[39m=\u001b[39m\u001b[39m0\u001b[39m) )\u001b[39m.\u001b[39msqueeze()\n\u001b[1;32m      <a href='vscode-notebook-cell://ssh-remote%2Bcn-a008.server.mila.quebec/home/mila/a/alexandre.duval/ocp/ocp/plot.ipynb#ch0000044vscode-remote?line=6'>7</a>\u001b[0m \u001b[39m# To speed up, restrict edge_index to graph_id indices.\u001b[39;00m\n\u001b[1;32m      <a href='vscode-notebook-cell://ssh-remote%2Bcn-a008.server.mila.quebec/home/mila/a/alexandre.duval/ocp/ocp/plot.ipynb#ch0000044vscode-remote?line=7'>8</a>\u001b[0m \u001b[39m# b.edge_index[sum(b.neighbors[:graph_id]):sum(b.neighbors[:graph_id+1])] instead of b.edge_index\u001b[39;00m\n\u001b[0;32m---> <a href='vscode-notebook-cell://ssh-remote%2Bcn-a008.server.mila.quebec/home/mila/a/alexandre.duval/ocp/ocp/plot.ipynb#ch0000044vscode-remote?line=9'>10</a>\u001b[0m new_node_pos \u001b[39m=\u001b[39m g\u001b[39m.\u001b[39mpos[n] \u001b[39m+\u001b[39m g\u001b[39m.\u001b[39;49mcell[graph_id] \u001b[39m*\u001b[39;49m g\u001b[39m.\u001b[39;49mcell_offsets[indices] \n\u001b[1;32m     <a href='vscode-notebook-cell://ssh-remote%2Bcn-a008.server.mila.quebec/home/mila/a/alexandre.duval/ocp/ocp/plot.ipynb#ch0000044vscode-remote?line=11'>12</a>\u001b[0m \u001b[39mprint\u001b[39m(\u001b[39m'\u001b[39m\u001b[39mnew dist: \u001b[39m\u001b[39m'\u001b[39m, torch\u001b[39m.\u001b[39mnorm(new_node_pos \u001b[39m-\u001b[39m target_atom)\u001b[39m.\u001b[39mitem())\n",
                        "\u001b[0;31mRuntimeError\u001b[0m: The size of tensor a (3) must match the size of tensor b (2) at non-singleton dimension 0"
                    ]
                }
            ],
            "source": [
                "# Get index in edge_index of a target edge (offset neighbour especially)\n",
                "for n in offset_neighbours:\n",
                "#n=10\n",
                "\n",
                "    indices = torch.argwhere( (g.edge_index == torch.tensor([n,atom_idx]).unsqueeze(dim=1)).all(dim=0) ).squeeze()\n",
                "\n",
                "    # To speed up, restrict edge_index to graph_id indices.\n",
                "    # b.edge_index[sum(b.neighbors[:graph_id]):sum(b.neighbors[:graph_id+1])] instead of b.edge_index\n",
                "\n",
                "    new_node_pos = g.pos[n] + g.cell[graph_id] * g.cell_offsets[indices] # not matrix multiplication \n",
                "\n",
                "    print('new dist: ', torch.norm(new_node_pos - target_atom).item())\n",
                "    #print('old dist: ', torch.norm(b.pos[n] - target_atom).item()) "
            ]
        },
        {
            "cell_type": "code",
            "execution_count": 157,
            "metadata": {},
            "outputs": [
                {
                    "name": "stdout",
                    "output_type": "stream",
                    "text": [
                        "new dist:  9.611332893371582\n",
                        "new dist:  4.5916900634765625\n",
                        "new dist:  11.308942794799805\n",
                        "new dist:  10.9431791305542\n",
                        "new dist:  13.396843910217285\n",
                        "new dist:  12.865463256835938\n",
                        "new dist:  10.496005058288574\n",
                        "new dist:  2.8995559215545654\n",
                        "new dist:  13.298970222473145\n",
                        "new dist:  9.149995803833008\n",
                        "new dist:  8.928074836730957\n",
                        "new dist:  10.01535415649414\n",
                        "new dist:  4.143951892852783\n",
                        "new dist:  14.219304084777832\n",
                        "new dist:  12.825587272644043\n",
                        "new dist:  8.812522888183594\n",
                        "new dist:  8.20339298248291\n"
                    ]
                }
            ],
            "source": [
                "# Get index in edge_index of a target edge (offset neighbour especially)\n",
                "for n in offset_neighbours:\n",
                "\n",
                "    indices = torch.argwhere( (g.edge_index == torch.tensor([n,atom_idx]).unsqueeze(dim=1)).all(dim=0) ).squeeze()\n",
                "\n",
                "    # To speed up, restrict edge_index to graph_id indices.\n",
                "    # b.edge_index[sum(b.neighbors[:graph_id]):sum(b.neighbors[:graph_id+1])] instead of b.edge_index\n",
                "\n",
                "    new_node_pos = g.pos[n] + torch.norm(g.cell[graph_id], dim=1) * g.cell_offsets[indices] \n",
                "\n",
                "    print('new dist: ', torch.norm(new_node_pos - target_atom).item())\n",
                "    #print('old dist: ', torch.norm(b.pos[n] - target_atom).item()) "
            ]
        },
        {
            "cell_type": "code",
            "execution_count": 58,
            "metadata": {},
            "outputs": [],
            "source": [
                "# There are dupplicates in edge_index\n",
                "b.edge_index[:,1315:1320]\n",
                "\n",
                "# Prove data has duplicates \n",
                "import torch_geometric\n",
                "A = torch_geometric.utils.coalesce(b.edge_index)\n",
                "print('Edge matrix has duplicates ?', A.shape[1] < b.edge_index.shape[1])\n",
                "\n",
                "# Edge duplicates show that a node is in the true neighbourhood and in the cut-off ! "
            ]
        },
        {
            "cell_type": "code",
            "execution_count": 80,
            "metadata": {},
            "outputs": [],
            "source": []
        },
        {
            "cell_type": "markdown",
            "metadata": {},
            "source": [
                "## For any graph"
            ]
        },
        {
            "cell_type": "code",
            "execution_count": 37,
            "metadata": {},
            "outputs": [
                {
                    "data": {
                        "application/vnd.plotly.v1+json": {
                            "config": {
                                "plotlyServerURL": "https://plot.ly"
                            },
                            "data": [
                                {
                                    "marker": {
                                        "color": [
                                            0,
                                            0,
                                            1,
                                            0,
                                            1,
                                            0,
                                            1,
                                            0,
                                            0,
                                            1,
                                            0,
                                            0,
                                            0,
                                            0,
                                            1,
                                            0,
                                            0,
                                            1,
                                            1,
                                            0,
                                            0,
                                            0,
                                            0,
                                            0,
                                            1,
                                            0,
                                            1,
                                            0,
                                            1,
                                            0,
                                            1,
                                            0,
                                            0,
                                            0,
                                            1,
                                            0,
                                            0,
                                            0,
                                            0,
                                            0,
                                            0,
                                            0,
                                            0,
                                            0,
                                            0,
                                            0,
                                            0,
                                            1,
                                            0,
                                            0,
                                            0,
                                            0,
                                            0,
                                            0,
                                            0,
                                            1,
                                            0,
                                            0,
                                            0,
                                            1,
                                            0,
                                            0,
                                            0,
                                            0,
                                            0,
                                            1,
                                            1,
                                            0,
                                            0,
                                            0,
                                            1,
                                            0,
                                            2,
                                            2,
                                            2,
                                            2,
                                            2,
                                            2
                                        ],
                                        "colorscale": [
                                            [
                                                0,
                                                "#440154"
                                            ],
                                            [
                                                0.1111111111111111,
                                                "#482878"
                                            ],
                                            [
                                                0.2222222222222222,
                                                "#3e4989"
                                            ],
                                            [
                                                0.3333333333333333,
                                                "#31688e"
                                            ],
                                            [
                                                0.4444444444444444,
                                                "#26828e"
                                            ],
                                            [
                                                0.5555555555555556,
                                                "#1f9e89"
                                            ],
                                            [
                                                0.6666666666666666,
                                                "#35b779"
                                            ],
                                            [
                                                0.7777777777777778,
                                                "#6ece58"
                                            ],
                                            [
                                                0.8888888888888888,
                                                "#b5de2b"
                                            ],
                                            [
                                                1,
                                                "#fde725"
                                            ]
                                        ],
                                        "size": 12
                                    },
                                    "mode": "markers+text",
                                    "text": [
                                        "0",
                                        "1",
                                        "2",
                                        "3",
                                        "4",
                                        "5",
                                        "6",
                                        "7",
                                        "8",
                                        "9",
                                        "10",
                                        "11",
                                        "12",
                                        "13",
                                        "14",
                                        "15",
                                        "16",
                                        "17",
                                        "18",
                                        "19",
                                        "20",
                                        "21",
                                        "22",
                                        "23",
                                        "24",
                                        "25",
                                        "26",
                                        "27",
                                        "28",
                                        "29",
                                        "30",
                                        "31",
                                        "32",
                                        "33",
                                        "34",
                                        "35",
                                        "36",
                                        "37",
                                        "38",
                                        "39",
                                        "40",
                                        "41",
                                        "42",
                                        "43",
                                        "44",
                                        "45",
                                        "46",
                                        "47",
                                        "48",
                                        "49",
                                        "50",
                                        "51",
                                        "52",
                                        "53",
                                        "54",
                                        "55",
                                        "56",
                                        "57",
                                        "58",
                                        "59",
                                        "60",
                                        "61",
                                        "62",
                                        "63",
                                        "64",
                                        "65",
                                        "66",
                                        "67",
                                        "68",
                                        "69",
                                        "70",
                                        "71",
                                        "72",
                                        "73",
                                        "74",
                                        "75",
                                        "76",
                                        "77"
                                    ],
                                    "textfont": {
                                        "size": 9
                                    },
                                    "type": "scatter3d",
                                    "x": [
                                        5.601137161254883,
                                        7.619621276855469,
                                        9.638105392456055,
                                        2.7252609729766846,
                                        -0.10061660408973694,
                                        0.706777036190033,
                                        4.0703020095825195,
                                        4.877695560455322,
                                        2.0518178939819336,
                                        10.983146667480469,
                                        11.790539741516113,
                                        8.964662551879883,
                                        3.464756727218628,
                                        5.483240604400635,
                                        2.657363176345825,
                                        8.359116554260254,
                                        10.37760066986084,
                                        12.396084785461426,
                                        8.225166320800781,
                                        9.032560348510742,
                                        6.2066826820373535,
                                        2.119715690612793,
                                        -0.7061617970466614,
                                        1.3123222589492798,
                                        2.7357771396636963,
                                        3.543170690536499,
                                        0.7172930240631104,
                                        8.40284538269043,
                                        10.421329498291016,
                                        11.22872257232666,
                                        8.786983489990234,
                                        9.594377517700195,
                                        6.768499851226807,
                                        2.6468470096588135,
                                        4.6653313636779785,
                                        0.6283631324768066,
                                        7.541207313537598,
                                        9.559691429138184,
                                        10.367085456848145,
                                        2.681533098220825,
                                        4.700016975402832,
                                        1.874139428138733,
                                        1.4900007247924805,
                                        3.5084848403930664,
                                        4.315878391265869,
                                        8.437530517578125,
                                        10.456014633178711,
                                        7.6301374435424805,
                                        4.326059341430664,
                                        6.344542980194092,
                                        7.151937007904053,
                                        -2.9874582290649414,
                                        -0.968974232673645,
                                        -0.16158060729503632,
                                        0.4479961097240448,
                                        -2.3778815269470215,
                                        -1.5704878568649292,
                                        5.749076843261719,
                                        7.767560958862305,
                                        4.941683292388916,
                                        4.739834785461426,
                                        6.758318901062012,
                                        3.932441234588623,
                                        0.8516929745674133,
                                        -1.9741847515106201,
                                        0.044299330562353134,
                                        1.4532065391540527,
                                        -2.58376145362854,
                                        -0.5652774572372437,
                                        5.335301399230957,
                                        7.353785037994385,
                                        8.161178588867188,
                                        1.4779947996139526,
                                        1.088727593421936,
                                        1.9835810661315918,
                                        0.5976690649986267,
                                        2.3389482498168945,
                                        1.4118754863739014
                                    ],
                                    "y": [
                                        12.856531143188477,
                                        7.021580696105957,
                                        1.1866302490234375,
                                        2.061872720718384,
                                        10.230803489685059,
                                        7.896823406219482,
                                        7.100405693054199,
                                        4.766425609588623,
                                        12.935356140136719,
                                        6.225163459777832,
                                        3.8911831378936768,
                                        12.060113906860352,
                                        8.85089111328125,
                                        3.0159404277801514,
                                        11.184871673583984,
                                        13.810599327087402,
                                        7.975648403167725,
                                        2.140697956085205,
                                        5.2710957527160645,
                                        2.937115430831909,
                                        11.106045722961426,
                                        3.8123579025268555,
                                        11.98128890991211,
                                        6.146337985992432,
                                        6.4948344230651855,
                                        4.160854339599609,
                                        12.329785346984863,
                                        9.220830917358398,
                                        3.3858802318573,
                                        1.051900029182434,
                                        8.11037826538086,
                                        5.776398658752441,
                                        13.945329666137695,
                                        6.7519097328186035,
                                        0.9169588685035706,
                                        12.586859703063965,
                                        11.711617469787598,
                                        5.876667022705078,
                                        3.542686700820923,
                                        6.651640892028809,
                                        0.8166903853416443,
                                        8.985621452331543,
                                        10.096073150634766,
                                        4.261122703552246,
                                        1.92714262008667,
                                        9.120562553405762,
                                        3.285611867904663,
                                        11.45454216003418,
                                        11.451774597167969,
                                        5.616823673248291,
                                        3.2828433513641357,
                                        13.485265731811523,
                                        7.650315284729004,
                                        5.316335201263428,
                                        3.5541958808898926,
                                        11.723126411437988,
                                        9.38914680480957,
                                        7.338172912597656,
                                        1.5032224655151367,
                                        9.67215347290039,
                                        10.255648612976074,
                                        4.4206976890563965,
                                        12.589628219604492,
                                        2.3872056007385254,
                                        10.556136131286621,
                                        4.72118616104126,
                                        0.6483747959136963,
                                        12.318275451660156,
                                        6.483325481414795,
                                        8.53429889678955,
                                        2.699348211288452,
                                        0.36536797881126404,
                                        2.5574769973754883,
                                        1.292450189590454,
                                        2.2952632904052734,
                                        3.1194231510162354,
                                        3.3414306640625,
                                        0.02008114568889141
                                    ],
                                    "z": [
                                        16.463346481323242,
                                        18.933032989501953,
                                        21.40271759033203,
                                        20.167875289916992,
                                        23.872404098510742,
                                        17.69818878173828,
                                        22.020139694213867,
                                        15.845925331115723,
                                        19.550453186035156,
                                        23.254981994628906,
                                        17.080768585205078,
                                        20.785297393798828,
                                        17.69818878173828,
                                        20.167875289916992,
                                        23.872404098510742,
                                        16.463346481323242,
                                        18.93303108215332,
                                        21.40271759033203,
                                        23.254981994628906,
                                        17.080768585205078,
                                        20.785295486450195,
                                        15.845924377441406,
                                        19.550453186035156,
                                        22.020139694213867,
                                        24.519737243652344,
                                        18.345523834228516,
                                        22.050052642822266,
                                        20.6492862701416,
                                        23.11897087097168,
                                        16.94475746154785,
                                        23.390993118286133,
                                        17.216777801513672,
                                        20.921306610107422,
                                        19.520540237426758,
                                        21.99022674560547,
                                        17.05085563659668,
                                        18.28569793701172,
                                        20.75538444519043,
                                        14.581169128417969,
                                        15.981935501098633,
                                        18.451622009277344,
                                        22.156150817871094,
                                        19.41444206237793,
                                        21.88412857055664,
                                        15.70991325378418,
                                        17.110679626464844,
                                        19.580366134643555,
                                        23.284894943237305,
                                        18.618154525756836,
                                        21.087841033935547,
                                        14.913626670837402,
                                        20.492000579833984,
                                        22.961687088012695,
                                        16.787471771240234,
                                        21.07859230041504,
                                        24.78312110900879,
                                        18.608905792236328,
                                        16.778223037719727,
                                        19.247909545898438,
                                        22.952438354492188,
                                        15.543379783630371,
                                        18.013065338134766,
                                        21.717594146728516,
                                        17.991485595703125,
                                        21.696014404296875,
                                        24.165699005126953,
                                        22.34426498413086,
                                        17.40489387512207,
                                        19.87457847595215,
                                        19.852998733520508,
                                        22.322683334350586,
                                        16.148469924926758,
                                        24.94420623779297,
                                        24.19682502746582,
                                        25.85003662109375,
                                        25.17689323425293,
                                        24.13144874572754,
                                        24.738168716430664
                                    ]
                                }
                            ],
                            "layout": {
                                "height": 700,
                                "template": {
                                    "data": {
                                        "bar": [
                                            {
                                                "error_x": {
                                                    "color": "#2a3f5f"
                                                },
                                                "error_y": {
                                                    "color": "#2a3f5f"
                                                },
                                                "marker": {
                                                    "line": {
                                                        "color": "#E5ECF6",
                                                        "width": 0.5
                                                    },
                                                    "pattern": {
                                                        "fillmode": "overlay",
                                                        "size": 10,
                                                        "solidity": 0.2
                                                    }
                                                },
                                                "type": "bar"
                                            }
                                        ],
                                        "barpolar": [
                                            {
                                                "marker": {
                                                    "line": {
                                                        "color": "#E5ECF6",
                                                        "width": 0.5
                                                    },
                                                    "pattern": {
                                                        "fillmode": "overlay",
                                                        "size": 10,
                                                        "solidity": 0.2
                                                    }
                                                },
                                                "type": "barpolar"
                                            }
                                        ],
                                        "carpet": [
                                            {
                                                "aaxis": {
                                                    "endlinecolor": "#2a3f5f",
                                                    "gridcolor": "white",
                                                    "linecolor": "white",
                                                    "minorgridcolor": "white",
                                                    "startlinecolor": "#2a3f5f"
                                                },
                                                "baxis": {
                                                    "endlinecolor": "#2a3f5f",
                                                    "gridcolor": "white",
                                                    "linecolor": "white",
                                                    "minorgridcolor": "white",
                                                    "startlinecolor": "#2a3f5f"
                                                },
                                                "type": "carpet"
                                            }
                                        ],
                                        "choropleth": [
                                            {
                                                "colorbar": {
                                                    "outlinewidth": 0,
                                                    "ticks": ""
                                                },
                                                "type": "choropleth"
                                            }
                                        ],
                                        "contour": [
                                            {
                                                "colorbar": {
                                                    "outlinewidth": 0,
                                                    "ticks": ""
                                                },
                                                "colorscale": [
                                                    [
                                                        0,
                                                        "#0d0887"
                                                    ],
                                                    [
                                                        0.1111111111111111,
                                                        "#46039f"
                                                    ],
                                                    [
                                                        0.2222222222222222,
                                                        "#7201a8"
                                                    ],
                                                    [
                                                        0.3333333333333333,
                                                        "#9c179e"
                                                    ],
                                                    [
                                                        0.4444444444444444,
                                                        "#bd3786"
                                                    ],
                                                    [
                                                        0.5555555555555556,
                                                        "#d8576b"
                                                    ],
                                                    [
                                                        0.6666666666666666,
                                                        "#ed7953"
                                                    ],
                                                    [
                                                        0.7777777777777778,
                                                        "#fb9f3a"
                                                    ],
                                                    [
                                                        0.8888888888888888,
                                                        "#fdca26"
                                                    ],
                                                    [
                                                        1,
                                                        "#f0f921"
                                                    ]
                                                ],
                                                "type": "contour"
                                            }
                                        ],
                                        "contourcarpet": [
                                            {
                                                "colorbar": {
                                                    "outlinewidth": 0,
                                                    "ticks": ""
                                                },
                                                "type": "contourcarpet"
                                            }
                                        ],
                                        "heatmap": [
                                            {
                                                "colorbar": {
                                                    "outlinewidth": 0,
                                                    "ticks": ""
                                                },
                                                "colorscale": [
                                                    [
                                                        0,
                                                        "#0d0887"
                                                    ],
                                                    [
                                                        0.1111111111111111,
                                                        "#46039f"
                                                    ],
                                                    [
                                                        0.2222222222222222,
                                                        "#7201a8"
                                                    ],
                                                    [
                                                        0.3333333333333333,
                                                        "#9c179e"
                                                    ],
                                                    [
                                                        0.4444444444444444,
                                                        "#bd3786"
                                                    ],
                                                    [
                                                        0.5555555555555556,
                                                        "#d8576b"
                                                    ],
                                                    [
                                                        0.6666666666666666,
                                                        "#ed7953"
                                                    ],
                                                    [
                                                        0.7777777777777778,
                                                        "#fb9f3a"
                                                    ],
                                                    [
                                                        0.8888888888888888,
                                                        "#fdca26"
                                                    ],
                                                    [
                                                        1,
                                                        "#f0f921"
                                                    ]
                                                ],
                                                "type": "heatmap"
                                            }
                                        ],
                                        "heatmapgl": [
                                            {
                                                "colorbar": {
                                                    "outlinewidth": 0,
                                                    "ticks": ""
                                                },
                                                "colorscale": [
                                                    [
                                                        0,
                                                        "#0d0887"
                                                    ],
                                                    [
                                                        0.1111111111111111,
                                                        "#46039f"
                                                    ],
                                                    [
                                                        0.2222222222222222,
                                                        "#7201a8"
                                                    ],
                                                    [
                                                        0.3333333333333333,
                                                        "#9c179e"
                                                    ],
                                                    [
                                                        0.4444444444444444,
                                                        "#bd3786"
                                                    ],
                                                    [
                                                        0.5555555555555556,
                                                        "#d8576b"
                                                    ],
                                                    [
                                                        0.6666666666666666,
                                                        "#ed7953"
                                                    ],
                                                    [
                                                        0.7777777777777778,
                                                        "#fb9f3a"
                                                    ],
                                                    [
                                                        0.8888888888888888,
                                                        "#fdca26"
                                                    ],
                                                    [
                                                        1,
                                                        "#f0f921"
                                                    ]
                                                ],
                                                "type": "heatmapgl"
                                            }
                                        ],
                                        "histogram": [
                                            {
                                                "marker": {
                                                    "pattern": {
                                                        "fillmode": "overlay",
                                                        "size": 10,
                                                        "solidity": 0.2
                                                    }
                                                },
                                                "type": "histogram"
                                            }
                                        ],
                                        "histogram2d": [
                                            {
                                                "colorbar": {
                                                    "outlinewidth": 0,
                                                    "ticks": ""
                                                },
                                                "colorscale": [
                                                    [
                                                        0,
                                                        "#0d0887"
                                                    ],
                                                    [
                                                        0.1111111111111111,
                                                        "#46039f"
                                                    ],
                                                    [
                                                        0.2222222222222222,
                                                        "#7201a8"
                                                    ],
                                                    [
                                                        0.3333333333333333,
                                                        "#9c179e"
                                                    ],
                                                    [
                                                        0.4444444444444444,
                                                        "#bd3786"
                                                    ],
                                                    [
                                                        0.5555555555555556,
                                                        "#d8576b"
                                                    ],
                                                    [
                                                        0.6666666666666666,
                                                        "#ed7953"
                                                    ],
                                                    [
                                                        0.7777777777777778,
                                                        "#fb9f3a"
                                                    ],
                                                    [
                                                        0.8888888888888888,
                                                        "#fdca26"
                                                    ],
                                                    [
                                                        1,
                                                        "#f0f921"
                                                    ]
                                                ],
                                                "type": "histogram2d"
                                            }
                                        ],
                                        "histogram2dcontour": [
                                            {
                                                "colorbar": {
                                                    "outlinewidth": 0,
                                                    "ticks": ""
                                                },
                                                "colorscale": [
                                                    [
                                                        0,
                                                        "#0d0887"
                                                    ],
                                                    [
                                                        0.1111111111111111,
                                                        "#46039f"
                                                    ],
                                                    [
                                                        0.2222222222222222,
                                                        "#7201a8"
                                                    ],
                                                    [
                                                        0.3333333333333333,
                                                        "#9c179e"
                                                    ],
                                                    [
                                                        0.4444444444444444,
                                                        "#bd3786"
                                                    ],
                                                    [
                                                        0.5555555555555556,
                                                        "#d8576b"
                                                    ],
                                                    [
                                                        0.6666666666666666,
                                                        "#ed7953"
                                                    ],
                                                    [
                                                        0.7777777777777778,
                                                        "#fb9f3a"
                                                    ],
                                                    [
                                                        0.8888888888888888,
                                                        "#fdca26"
                                                    ],
                                                    [
                                                        1,
                                                        "#f0f921"
                                                    ]
                                                ],
                                                "type": "histogram2dcontour"
                                            }
                                        ],
                                        "mesh3d": [
                                            {
                                                "colorbar": {
                                                    "outlinewidth": 0,
                                                    "ticks": ""
                                                },
                                                "type": "mesh3d"
                                            }
                                        ],
                                        "parcoords": [
                                            {
                                                "line": {
                                                    "colorbar": {
                                                        "outlinewidth": 0,
                                                        "ticks": ""
                                                    }
                                                },
                                                "type": "parcoords"
                                            }
                                        ],
                                        "pie": [
                                            {
                                                "automargin": true,
                                                "type": "pie"
                                            }
                                        ],
                                        "scatter": [
                                            {
                                                "marker": {
                                                    "colorbar": {
                                                        "outlinewidth": 0,
                                                        "ticks": ""
                                                    }
                                                },
                                                "type": "scatter"
                                            }
                                        ],
                                        "scatter3d": [
                                            {
                                                "line": {
                                                    "colorbar": {
                                                        "outlinewidth": 0,
                                                        "ticks": ""
                                                    }
                                                },
                                                "marker": {
                                                    "colorbar": {
                                                        "outlinewidth": 0,
                                                        "ticks": ""
                                                    }
                                                },
                                                "type": "scatter3d"
                                            }
                                        ],
                                        "scattercarpet": [
                                            {
                                                "marker": {
                                                    "colorbar": {
                                                        "outlinewidth": 0,
                                                        "ticks": ""
                                                    }
                                                },
                                                "type": "scattercarpet"
                                            }
                                        ],
                                        "scattergeo": [
                                            {
                                                "marker": {
                                                    "colorbar": {
                                                        "outlinewidth": 0,
                                                        "ticks": ""
                                                    }
                                                },
                                                "type": "scattergeo"
                                            }
                                        ],
                                        "scattergl": [
                                            {
                                                "marker": {
                                                    "colorbar": {
                                                        "outlinewidth": 0,
                                                        "ticks": ""
                                                    }
                                                },
                                                "type": "scattergl"
                                            }
                                        ],
                                        "scattermapbox": [
                                            {
                                                "marker": {
                                                    "colorbar": {
                                                        "outlinewidth": 0,
                                                        "ticks": ""
                                                    }
                                                },
                                                "type": "scattermapbox"
                                            }
                                        ],
                                        "scatterpolar": [
                                            {
                                                "marker": {
                                                    "colorbar": {
                                                        "outlinewidth": 0,
                                                        "ticks": ""
                                                    }
                                                },
                                                "type": "scatterpolar"
                                            }
                                        ],
                                        "scatterpolargl": [
                                            {
                                                "marker": {
                                                    "colorbar": {
                                                        "outlinewidth": 0,
                                                        "ticks": ""
                                                    }
                                                },
                                                "type": "scatterpolargl"
                                            }
                                        ],
                                        "scatterternary": [
                                            {
                                                "marker": {
                                                    "colorbar": {
                                                        "outlinewidth": 0,
                                                        "ticks": ""
                                                    }
                                                },
                                                "type": "scatterternary"
                                            }
                                        ],
                                        "surface": [
                                            {
                                                "colorbar": {
                                                    "outlinewidth": 0,
                                                    "ticks": ""
                                                },
                                                "colorscale": [
                                                    [
                                                        0,
                                                        "#0d0887"
                                                    ],
                                                    [
                                                        0.1111111111111111,
                                                        "#46039f"
                                                    ],
                                                    [
                                                        0.2222222222222222,
                                                        "#7201a8"
                                                    ],
                                                    [
                                                        0.3333333333333333,
                                                        "#9c179e"
                                                    ],
                                                    [
                                                        0.4444444444444444,
                                                        "#bd3786"
                                                    ],
                                                    [
                                                        0.5555555555555556,
                                                        "#d8576b"
                                                    ],
                                                    [
                                                        0.6666666666666666,
                                                        "#ed7953"
                                                    ],
                                                    [
                                                        0.7777777777777778,
                                                        "#fb9f3a"
                                                    ],
                                                    [
                                                        0.8888888888888888,
                                                        "#fdca26"
                                                    ],
                                                    [
                                                        1,
                                                        "#f0f921"
                                                    ]
                                                ],
                                                "type": "surface"
                                            }
                                        ],
                                        "table": [
                                            {
                                                "cells": {
                                                    "fill": {
                                                        "color": "#EBF0F8"
                                                    },
                                                    "line": {
                                                        "color": "white"
                                                    }
                                                },
                                                "header": {
                                                    "fill": {
                                                        "color": "#C8D4E3"
                                                    },
                                                    "line": {
                                                        "color": "white"
                                                    }
                                                },
                                                "type": "table"
                                            }
                                        ]
                                    },
                                    "layout": {
                                        "annotationdefaults": {
                                            "arrowcolor": "#2a3f5f",
                                            "arrowhead": 0,
                                            "arrowwidth": 1
                                        },
                                        "autotypenumbers": "strict",
                                        "coloraxis": {
                                            "colorbar": {
                                                "outlinewidth": 0,
                                                "ticks": ""
                                            }
                                        },
                                        "colorscale": {
                                            "diverging": [
                                                [
                                                    0,
                                                    "#8e0152"
                                                ],
                                                [
                                                    0.1,
                                                    "#c51b7d"
                                                ],
                                                [
                                                    0.2,
                                                    "#de77ae"
                                                ],
                                                [
                                                    0.3,
                                                    "#f1b6da"
                                                ],
                                                [
                                                    0.4,
                                                    "#fde0ef"
                                                ],
                                                [
                                                    0.5,
                                                    "#f7f7f7"
                                                ],
                                                [
                                                    0.6,
                                                    "#e6f5d0"
                                                ],
                                                [
                                                    0.7,
                                                    "#b8e186"
                                                ],
                                                [
                                                    0.8,
                                                    "#7fbc41"
                                                ],
                                                [
                                                    0.9,
                                                    "#4d9221"
                                                ],
                                                [
                                                    1,
                                                    "#276419"
                                                ]
                                            ],
                                            "sequential": [
                                                [
                                                    0,
                                                    "#0d0887"
                                                ],
                                                [
                                                    0.1111111111111111,
                                                    "#46039f"
                                                ],
                                                [
                                                    0.2222222222222222,
                                                    "#7201a8"
                                                ],
                                                [
                                                    0.3333333333333333,
                                                    "#9c179e"
                                                ],
                                                [
                                                    0.4444444444444444,
                                                    "#bd3786"
                                                ],
                                                [
                                                    0.5555555555555556,
                                                    "#d8576b"
                                                ],
                                                [
                                                    0.6666666666666666,
                                                    "#ed7953"
                                                ],
                                                [
                                                    0.7777777777777778,
                                                    "#fb9f3a"
                                                ],
                                                [
                                                    0.8888888888888888,
                                                    "#fdca26"
                                                ],
                                                [
                                                    1,
                                                    "#f0f921"
                                                ]
                                            ],
                                            "sequentialminus": [
                                                [
                                                    0,
                                                    "#0d0887"
                                                ],
                                                [
                                                    0.1111111111111111,
                                                    "#46039f"
                                                ],
                                                [
                                                    0.2222222222222222,
                                                    "#7201a8"
                                                ],
                                                [
                                                    0.3333333333333333,
                                                    "#9c179e"
                                                ],
                                                [
                                                    0.4444444444444444,
                                                    "#bd3786"
                                                ],
                                                [
                                                    0.5555555555555556,
                                                    "#d8576b"
                                                ],
                                                [
                                                    0.6666666666666666,
                                                    "#ed7953"
                                                ],
                                                [
                                                    0.7777777777777778,
                                                    "#fb9f3a"
                                                ],
                                                [
                                                    0.8888888888888888,
                                                    "#fdca26"
                                                ],
                                                [
                                                    1,
                                                    "#f0f921"
                                                ]
                                            ]
                                        },
                                        "colorway": [
                                            "#636efa",
                                            "#EF553B",
                                            "#00cc96",
                                            "#ab63fa",
                                            "#FFA15A",
                                            "#19d3f3",
                                            "#FF6692",
                                            "#B6E880",
                                            "#FF97FF",
                                            "#FECB52"
                                        ],
                                        "font": {
                                            "color": "#2a3f5f"
                                        },
                                        "geo": {
                                            "bgcolor": "white",
                                            "lakecolor": "white",
                                            "landcolor": "#E5ECF6",
                                            "showlakes": true,
                                            "showland": true,
                                            "subunitcolor": "white"
                                        },
                                        "hoverlabel": {
                                            "align": "left"
                                        },
                                        "hovermode": "closest",
                                        "mapbox": {
                                            "style": "light"
                                        },
                                        "paper_bgcolor": "white",
                                        "plot_bgcolor": "#E5ECF6",
                                        "polar": {
                                            "angularaxis": {
                                                "gridcolor": "white",
                                                "linecolor": "white",
                                                "ticks": ""
                                            },
                                            "bgcolor": "#E5ECF6",
                                            "radialaxis": {
                                                "gridcolor": "white",
                                                "linecolor": "white",
                                                "ticks": ""
                                            }
                                        },
                                        "scene": {
                                            "xaxis": {
                                                "backgroundcolor": "#E5ECF6",
                                                "gridcolor": "white",
                                                "gridwidth": 2,
                                                "linecolor": "white",
                                                "showbackground": true,
                                                "ticks": "",
                                                "zerolinecolor": "white"
                                            },
                                            "yaxis": {
                                                "backgroundcolor": "#E5ECF6",
                                                "gridcolor": "white",
                                                "gridwidth": 2,
                                                "linecolor": "white",
                                                "showbackground": true,
                                                "ticks": "",
                                                "zerolinecolor": "white"
                                            },
                                            "zaxis": {
                                                "backgroundcolor": "#E5ECF6",
                                                "gridcolor": "white",
                                                "gridwidth": 2,
                                                "linecolor": "white",
                                                "showbackground": true,
                                                "ticks": "",
                                                "zerolinecolor": "white"
                                            }
                                        },
                                        "shapedefaults": {
                                            "line": {
                                                "color": "#2a3f5f"
                                            }
                                        },
                                        "ternary": {
                                            "aaxis": {
                                                "gridcolor": "white",
                                                "linecolor": "white",
                                                "ticks": ""
                                            },
                                            "baxis": {
                                                "gridcolor": "white",
                                                "linecolor": "white",
                                                "ticks": ""
                                            },
                                            "bgcolor": "#E5ECF6",
                                            "caxis": {
                                                "gridcolor": "white",
                                                "linecolor": "white",
                                                "ticks": ""
                                            }
                                        },
                                        "title": {
                                            "x": 0.05
                                        },
                                        "xaxis": {
                                            "automargin": true,
                                            "gridcolor": "white",
                                            "linecolor": "white",
                                            "ticks": "",
                                            "title": {
                                                "standoff": 15
                                            },
                                            "zerolinecolor": "white",
                                            "zerolinewidth": 2
                                        },
                                        "yaxis": {
                                            "automargin": true,
                                            "gridcolor": "white",
                                            "linecolor": "white",
                                            "ticks": "",
                                            "title": {
                                                "standoff": 15
                                            },
                                            "zerolinecolor": "white",
                                            "zerolinewidth": 2
                                        }
                                    }
                                },
                                "title": {
                                    "text": "3D plot of one adslab - new graph"
                                },
                                "width": 900
                            }
                        },
                        "text/html": [
                            "<div>                            <div id=\"c41e420c-ea10-4ecc-848f-0b657aa9d9a8\" class=\"plotly-graph-div\" style=\"height:700px; width:900px;\"></div>            <script type=\"text/javascript\">                require([\"plotly\"], function(Plotly) {                    window.PLOTLYENV=window.PLOTLYENV || {};                                    if (document.getElementById(\"c41e420c-ea10-4ecc-848f-0b657aa9d9a8\")) {                    Plotly.newPlot(                        \"c41e420c-ea10-4ecc-848f-0b657aa9d9a8\",                        [{\"marker\":{\"color\":[0,0,1,0,1,0,1,0,0,1,0,0,0,0,1,0,0,1,1,0,0,0,0,0,1,0,1,0,1,0,1,0,0,0,1,0,0,0,0,0,0,0,0,0,0,0,0,1,0,0,0,0,0,0,0,1,0,0,0,1,0,0,0,0,0,1,1,0,0,0,1,0,2,2,2,2,2,2],\"colorscale\":[[0.0,\"#440154\"],[0.1111111111111111,\"#482878\"],[0.2222222222222222,\"#3e4989\"],[0.3333333333333333,\"#31688e\"],[0.4444444444444444,\"#26828e\"],[0.5555555555555556,\"#1f9e89\"],[0.6666666666666666,\"#35b779\"],[0.7777777777777778,\"#6ece58\"],[0.8888888888888888,\"#b5de2b\"],[1.0,\"#fde725\"]],\"size\":12},\"mode\":\"markers+text\",\"text\":[\"0\",\"1\",\"2\",\"3\",\"4\",\"5\",\"6\",\"7\",\"8\",\"9\",\"10\",\"11\",\"12\",\"13\",\"14\",\"15\",\"16\",\"17\",\"18\",\"19\",\"20\",\"21\",\"22\",\"23\",\"24\",\"25\",\"26\",\"27\",\"28\",\"29\",\"30\",\"31\",\"32\",\"33\",\"34\",\"35\",\"36\",\"37\",\"38\",\"39\",\"40\",\"41\",\"42\",\"43\",\"44\",\"45\",\"46\",\"47\",\"48\",\"49\",\"50\",\"51\",\"52\",\"53\",\"54\",\"55\",\"56\",\"57\",\"58\",\"59\",\"60\",\"61\",\"62\",\"63\",\"64\",\"65\",\"66\",\"67\",\"68\",\"69\",\"70\",\"71\",\"72\",\"73\",\"74\",\"75\",\"76\",\"77\"],\"textfont\":{\"size\":9},\"x\":[5.601137161254883,7.619621276855469,9.638105392456055,2.7252609729766846,-0.10061660408973694,0.706777036190033,4.0703020095825195,4.877695560455322,2.0518178939819336,10.983146667480469,11.790539741516113,8.964662551879883,3.464756727218628,5.483240604400635,2.657363176345825,8.359116554260254,10.37760066986084,12.396084785461426,8.225166320800781,9.032560348510742,6.2066826820373535,2.119715690612793,-0.7061617970466614,1.3123222589492798,2.7357771396636963,3.543170690536499,0.7172930240631104,8.40284538269043,10.421329498291016,11.22872257232666,8.786983489990234,9.594377517700195,6.768499851226807,2.6468470096588135,4.6653313636779785,0.6283631324768066,7.541207313537598,9.559691429138184,10.367085456848145,2.681533098220825,4.700016975402832,1.874139428138733,1.4900007247924805,3.5084848403930664,4.315878391265869,8.437530517578125,10.456014633178711,7.6301374435424805,4.326059341430664,6.344542980194092,7.151937007904053,-2.9874582290649414,-0.968974232673645,-0.16158060729503632,0.4479961097240448,-2.3778815269470215,-1.5704878568649292,5.749076843261719,7.767560958862305,4.941683292388916,4.739834785461426,6.758318901062012,3.932441234588623,0.8516929745674133,-1.9741847515106201,0.044299330562353134,1.4532065391540527,-2.58376145362854,-0.5652774572372437,5.335301399230957,7.353785037994385,8.161178588867188,1.4779947996139526,1.088727593421936,1.9835810661315918,0.5976690649986267,2.3389482498168945,1.4118754863739014],\"y\":[12.856531143188477,7.021580696105957,1.1866302490234375,2.061872720718384,10.230803489685059,7.896823406219482,7.100405693054199,4.766425609588623,12.935356140136719,6.225163459777832,3.8911831378936768,12.060113906860352,8.85089111328125,3.0159404277801514,11.184871673583984,13.810599327087402,7.975648403167725,2.140697956085205,5.2710957527160645,2.937115430831909,11.106045722961426,3.8123579025268555,11.98128890991211,6.146337985992432,6.4948344230651855,4.160854339599609,12.329785346984863,9.220830917358398,3.3858802318573,1.051900029182434,8.11037826538086,5.776398658752441,13.945329666137695,6.7519097328186035,0.9169588685035706,12.586859703063965,11.711617469787598,5.876667022705078,3.542686700820923,6.651640892028809,0.8166903853416443,8.985621452331543,10.096073150634766,4.261122703552246,1.92714262008667,9.120562553405762,3.285611867904663,11.45454216003418,11.451774597167969,5.616823673248291,3.2828433513641357,13.485265731811523,7.650315284729004,5.316335201263428,3.5541958808898926,11.723126411437988,9.38914680480957,7.338172912597656,1.5032224655151367,9.67215347290039,10.255648612976074,4.4206976890563965,12.589628219604492,2.3872056007385254,10.556136131286621,4.72118616104126,0.6483747959136963,12.318275451660156,6.483325481414795,8.53429889678955,2.699348211288452,0.36536797881126404,2.5574769973754883,1.292450189590454,2.2952632904052734,3.1194231510162354,3.3414306640625,0.02008114568889141],\"z\":[16.463346481323242,18.933032989501953,21.40271759033203,20.167875289916992,23.872404098510742,17.69818878173828,22.020139694213867,15.845925331115723,19.550453186035156,23.254981994628906,17.080768585205078,20.785297393798828,17.69818878173828,20.167875289916992,23.872404098510742,16.463346481323242,18.93303108215332,21.40271759033203,23.254981994628906,17.080768585205078,20.785295486450195,15.845924377441406,19.550453186035156,22.020139694213867,24.519737243652344,18.345523834228516,22.050052642822266,20.6492862701416,23.11897087097168,16.94475746154785,23.390993118286133,17.216777801513672,20.921306610107422,19.520540237426758,21.99022674560547,17.05085563659668,18.28569793701172,20.75538444519043,14.581169128417969,15.981935501098633,18.451622009277344,22.156150817871094,19.41444206237793,21.88412857055664,15.70991325378418,17.110679626464844,19.580366134643555,23.284894943237305,18.618154525756836,21.087841033935547,14.913626670837402,20.492000579833984,22.961687088012695,16.787471771240234,21.07859230041504,24.78312110900879,18.608905792236328,16.778223037719727,19.247909545898438,22.952438354492188,15.543379783630371,18.013065338134766,21.717594146728516,17.991485595703125,21.696014404296875,24.165699005126953,22.34426498413086,17.40489387512207,19.87457847595215,19.852998733520508,22.322683334350586,16.148469924926758,24.94420623779297,24.19682502746582,25.85003662109375,25.17689323425293,24.13144874572754,24.738168716430664],\"type\":\"scatter3d\"}],                        {\"height\":700,\"title\":{\"text\":\"3D plot of one adslab - new graph\"},\"width\":900,\"template\":{\"data\":{\"bar\":[{\"error_x\":{\"color\":\"#2a3f5f\"},\"error_y\":{\"color\":\"#2a3f5f\"},\"marker\":{\"line\":{\"color\":\"#E5ECF6\",\"width\":0.5},\"pattern\":{\"fillmode\":\"overlay\",\"size\":10,\"solidity\":0.2}},\"type\":\"bar\"}],\"barpolar\":[{\"marker\":{\"line\":{\"color\":\"#E5ECF6\",\"width\":0.5},\"pattern\":{\"fillmode\":\"overlay\",\"size\":10,\"solidity\":0.2}},\"type\":\"barpolar\"}],\"carpet\":[{\"aaxis\":{\"endlinecolor\":\"#2a3f5f\",\"gridcolor\":\"white\",\"linecolor\":\"white\",\"minorgridcolor\":\"white\",\"startlinecolor\":\"#2a3f5f\"},\"baxis\":{\"endlinecolor\":\"#2a3f5f\",\"gridcolor\":\"white\",\"linecolor\":\"white\",\"minorgridcolor\":\"white\",\"startlinecolor\":\"#2a3f5f\"},\"type\":\"carpet\"}],\"choropleth\":[{\"colorbar\":{\"outlinewidth\":0,\"ticks\":\"\"},\"type\":\"choropleth\"}],\"contour\":[{\"colorbar\":{\"outlinewidth\":0,\"ticks\":\"\"},\"colorscale\":[[0.0,\"#0d0887\"],[0.1111111111111111,\"#46039f\"],[0.2222222222222222,\"#7201a8\"],[0.3333333333333333,\"#9c179e\"],[0.4444444444444444,\"#bd3786\"],[0.5555555555555556,\"#d8576b\"],[0.6666666666666666,\"#ed7953\"],[0.7777777777777778,\"#fb9f3a\"],[0.8888888888888888,\"#fdca26\"],[1.0,\"#f0f921\"]],\"type\":\"contour\"}],\"contourcarpet\":[{\"colorbar\":{\"outlinewidth\":0,\"ticks\":\"\"},\"type\":\"contourcarpet\"}],\"heatmap\":[{\"colorbar\":{\"outlinewidth\":0,\"ticks\":\"\"},\"colorscale\":[[0.0,\"#0d0887\"],[0.1111111111111111,\"#46039f\"],[0.2222222222222222,\"#7201a8\"],[0.3333333333333333,\"#9c179e\"],[0.4444444444444444,\"#bd3786\"],[0.5555555555555556,\"#d8576b\"],[0.6666666666666666,\"#ed7953\"],[0.7777777777777778,\"#fb9f3a\"],[0.8888888888888888,\"#fdca26\"],[1.0,\"#f0f921\"]],\"type\":\"heatmap\"}],\"heatmapgl\":[{\"colorbar\":{\"outlinewidth\":0,\"ticks\":\"\"},\"colorscale\":[[0.0,\"#0d0887\"],[0.1111111111111111,\"#46039f\"],[0.2222222222222222,\"#7201a8\"],[0.3333333333333333,\"#9c179e\"],[0.4444444444444444,\"#bd3786\"],[0.5555555555555556,\"#d8576b\"],[0.6666666666666666,\"#ed7953\"],[0.7777777777777778,\"#fb9f3a\"],[0.8888888888888888,\"#fdca26\"],[1.0,\"#f0f921\"]],\"type\":\"heatmapgl\"}],\"histogram\":[{\"marker\":{\"pattern\":{\"fillmode\":\"overlay\",\"size\":10,\"solidity\":0.2}},\"type\":\"histogram\"}],\"histogram2d\":[{\"colorbar\":{\"outlinewidth\":0,\"ticks\":\"\"},\"colorscale\":[[0.0,\"#0d0887\"],[0.1111111111111111,\"#46039f\"],[0.2222222222222222,\"#7201a8\"],[0.3333333333333333,\"#9c179e\"],[0.4444444444444444,\"#bd3786\"],[0.5555555555555556,\"#d8576b\"],[0.6666666666666666,\"#ed7953\"],[0.7777777777777778,\"#fb9f3a\"],[0.8888888888888888,\"#fdca26\"],[1.0,\"#f0f921\"]],\"type\":\"histogram2d\"}],\"histogram2dcontour\":[{\"colorbar\":{\"outlinewidth\":0,\"ticks\":\"\"},\"colorscale\":[[0.0,\"#0d0887\"],[0.1111111111111111,\"#46039f\"],[0.2222222222222222,\"#7201a8\"],[0.3333333333333333,\"#9c179e\"],[0.4444444444444444,\"#bd3786\"],[0.5555555555555556,\"#d8576b\"],[0.6666666666666666,\"#ed7953\"],[0.7777777777777778,\"#fb9f3a\"],[0.8888888888888888,\"#fdca26\"],[1.0,\"#f0f921\"]],\"type\":\"histogram2dcontour\"}],\"mesh3d\":[{\"colorbar\":{\"outlinewidth\":0,\"ticks\":\"\"},\"type\":\"mesh3d\"}],\"parcoords\":[{\"line\":{\"colorbar\":{\"outlinewidth\":0,\"ticks\":\"\"}},\"type\":\"parcoords\"}],\"pie\":[{\"automargin\":true,\"type\":\"pie\"}],\"scatter\":[{\"marker\":{\"colorbar\":{\"outlinewidth\":0,\"ticks\":\"\"}},\"type\":\"scatter\"}],\"scatter3d\":[{\"line\":{\"colorbar\":{\"outlinewidth\":0,\"ticks\":\"\"}},\"marker\":{\"colorbar\":{\"outlinewidth\":0,\"ticks\":\"\"}},\"type\":\"scatter3d\"}],\"scattercarpet\":[{\"marker\":{\"colorbar\":{\"outlinewidth\":0,\"ticks\":\"\"}},\"type\":\"scattercarpet\"}],\"scattergeo\":[{\"marker\":{\"colorbar\":{\"outlinewidth\":0,\"ticks\":\"\"}},\"type\":\"scattergeo\"}],\"scattergl\":[{\"marker\":{\"colorbar\":{\"outlinewidth\":0,\"ticks\":\"\"}},\"type\":\"scattergl\"}],\"scattermapbox\":[{\"marker\":{\"colorbar\":{\"outlinewidth\":0,\"ticks\":\"\"}},\"type\":\"scattermapbox\"}],\"scatterpolar\":[{\"marker\":{\"colorbar\":{\"outlinewidth\":0,\"ticks\":\"\"}},\"type\":\"scatterpolar\"}],\"scatterpolargl\":[{\"marker\":{\"colorbar\":{\"outlinewidth\":0,\"ticks\":\"\"}},\"type\":\"scatterpolargl\"}],\"scatterternary\":[{\"marker\":{\"colorbar\":{\"outlinewidth\":0,\"ticks\":\"\"}},\"type\":\"scatterternary\"}],\"surface\":[{\"colorbar\":{\"outlinewidth\":0,\"ticks\":\"\"},\"colorscale\":[[0.0,\"#0d0887\"],[0.1111111111111111,\"#46039f\"],[0.2222222222222222,\"#7201a8\"],[0.3333333333333333,\"#9c179e\"],[0.4444444444444444,\"#bd3786\"],[0.5555555555555556,\"#d8576b\"],[0.6666666666666666,\"#ed7953\"],[0.7777777777777778,\"#fb9f3a\"],[0.8888888888888888,\"#fdca26\"],[1.0,\"#f0f921\"]],\"type\":\"surface\"}],\"table\":[{\"cells\":{\"fill\":{\"color\":\"#EBF0F8\"},\"line\":{\"color\":\"white\"}},\"header\":{\"fill\":{\"color\":\"#C8D4E3\"},\"line\":{\"color\":\"white\"}},\"type\":\"table\"}]},\"layout\":{\"annotationdefaults\":{\"arrowcolor\":\"#2a3f5f\",\"arrowhead\":0,\"arrowwidth\":1},\"autotypenumbers\":\"strict\",\"coloraxis\":{\"colorbar\":{\"outlinewidth\":0,\"ticks\":\"\"}},\"colorscale\":{\"diverging\":[[0,\"#8e0152\"],[0.1,\"#c51b7d\"],[0.2,\"#de77ae\"],[0.3,\"#f1b6da\"],[0.4,\"#fde0ef\"],[0.5,\"#f7f7f7\"],[0.6,\"#e6f5d0\"],[0.7,\"#b8e186\"],[0.8,\"#7fbc41\"],[0.9,\"#4d9221\"],[1,\"#276419\"]],\"sequential\":[[0.0,\"#0d0887\"],[0.1111111111111111,\"#46039f\"],[0.2222222222222222,\"#7201a8\"],[0.3333333333333333,\"#9c179e\"],[0.4444444444444444,\"#bd3786\"],[0.5555555555555556,\"#d8576b\"],[0.6666666666666666,\"#ed7953\"],[0.7777777777777778,\"#fb9f3a\"],[0.8888888888888888,\"#fdca26\"],[1.0,\"#f0f921\"]],\"sequentialminus\":[[0.0,\"#0d0887\"],[0.1111111111111111,\"#46039f\"],[0.2222222222222222,\"#7201a8\"],[0.3333333333333333,\"#9c179e\"],[0.4444444444444444,\"#bd3786\"],[0.5555555555555556,\"#d8576b\"],[0.6666666666666666,\"#ed7953\"],[0.7777777777777778,\"#fb9f3a\"],[0.8888888888888888,\"#fdca26\"],[1.0,\"#f0f921\"]]},\"colorway\":[\"#636efa\",\"#EF553B\",\"#00cc96\",\"#ab63fa\",\"#FFA15A\",\"#19d3f3\",\"#FF6692\",\"#B6E880\",\"#FF97FF\",\"#FECB52\"],\"font\":{\"color\":\"#2a3f5f\"},\"geo\":{\"bgcolor\":\"white\",\"lakecolor\":\"white\",\"landcolor\":\"#E5ECF6\",\"showlakes\":true,\"showland\":true,\"subunitcolor\":\"white\"},\"hoverlabel\":{\"align\":\"left\"},\"hovermode\":\"closest\",\"mapbox\":{\"style\":\"light\"},\"paper_bgcolor\":\"white\",\"plot_bgcolor\":\"#E5ECF6\",\"polar\":{\"angularaxis\":{\"gridcolor\":\"white\",\"linecolor\":\"white\",\"ticks\":\"\"},\"bgcolor\":\"#E5ECF6\",\"radialaxis\":{\"gridcolor\":\"white\",\"linecolor\":\"white\",\"ticks\":\"\"}},\"scene\":{\"xaxis\":{\"backgroundcolor\":\"#E5ECF6\",\"gridcolor\":\"white\",\"gridwidth\":2,\"linecolor\":\"white\",\"showbackground\":true,\"ticks\":\"\",\"zerolinecolor\":\"white\"},\"yaxis\":{\"backgroundcolor\":\"#E5ECF6\",\"gridcolor\":\"white\",\"gridwidth\":2,\"linecolor\":\"white\",\"showbackground\":true,\"ticks\":\"\",\"zerolinecolor\":\"white\"},\"zaxis\":{\"backgroundcolor\":\"#E5ECF6\",\"gridcolor\":\"white\",\"gridwidth\":2,\"linecolor\":\"white\",\"showbackground\":true,\"ticks\":\"\",\"zerolinecolor\":\"white\"}},\"shapedefaults\":{\"line\":{\"color\":\"#2a3f5f\"}},\"ternary\":{\"aaxis\":{\"gridcolor\":\"white\",\"linecolor\":\"white\",\"ticks\":\"\"},\"baxis\":{\"gridcolor\":\"white\",\"linecolor\":\"white\",\"ticks\":\"\"},\"bgcolor\":\"#E5ECF6\",\"caxis\":{\"gridcolor\":\"white\",\"linecolor\":\"white\",\"ticks\":\"\"}},\"title\":{\"x\":0.05},\"xaxis\":{\"automargin\":true,\"gridcolor\":\"white\",\"linecolor\":\"white\",\"ticks\":\"\",\"title\":{\"standoff\":15},\"zerolinecolor\":\"white\",\"zerolinewidth\":2},\"yaxis\":{\"automargin\":true,\"gridcolor\":\"white\",\"linecolor\":\"white\",\"ticks\":\"\",\"title\":{\"standoff\":15},\"zerolinecolor\":\"white\",\"zerolinewidth\":2}}}},                        {\"responsive\": true}                    ).then(function(){\n",
                            "                            \n",
                            "var gd = document.getElementById('c41e420c-ea10-4ecc-848f-0b657aa9d9a8');\n",
                            "var x = new MutationObserver(function (mutations, observer) {{\n",
                            "        var display = window.getComputedStyle(gd).display;\n",
                            "        if (!display || display === 'none') {{\n",
                            "            console.log([gd, 'removed!']);\n",
                            "            Plotly.purge(gd);\n",
                            "            observer.disconnect();\n",
                            "        }}\n",
                            "}});\n",
                            "\n",
                            "// Listen for the removal of the full notebook cells\n",
                            "var notebookContainer = gd.closest('#notebook-container');\n",
                            "if (notebookContainer) {{\n",
                            "    x.observe(notebookContainer, {childList: true});\n",
                            "}}\n",
                            "\n",
                            "// Listen for the clearing of the current output cell\n",
                            "var outputEl = gd.closest('.output');\n",
                            "if (outputEl) {{\n",
                            "    x.observe(outputEl, {childList: true});\n",
                            "}}\n",
                            "\n",
                            "                        })                };                });            </script>        </div>"
                        ]
                    },
                    "metadata": {},
                    "output_type": "display_data"
                }
            ],
            "source": [
                "# Graph\n",
                "graph_id = 4\n",
                "g = b[graph_id]\n",
                "G = to_networkx(g)\n",
                "atoms = torch.argwhere(b.batch == graph_id).squeeze()\n",
                "\n",
                "# 3D plots with plotly \n",
                "\n",
                "# Separate atom coordinates\n",
                "x = [b.pos[atom][0].item() for atom in atoms] \n",
                "y = [b.pos[atom][1].item() for atom in atoms] \n",
                "z = [b.pos[atom][2].item() for atom in atoms] \n",
                "\n",
                "trace = go.Scatter3d(\n",
                "   x = x, y = y, z = z,\n",
                "   mode = 'markers+text', \n",
                "   text = list(range(atoms.shape[0])),\n",
                "   textfont= dict(size=9),\n",
                "   marker = dict(\n",
                "      size = 12,\n",
                "      color = b.tags[atoms], # set color to an array/list of desired values\n",
                "      colorscale = 'Viridis'\n",
                "      )\n",
                "   )\n",
                "layout = go.Layout(title = '3D plot of one adslab - new graph', width=900, height=700)\n",
                "fig = go.Figure(data = [trace], layout = layout)\n",
                "fig.show()"
            ]
        },
        {
            "cell_type": "code",
            "execution_count": 133,
            "metadata": {},
            "outputs": [
                {
                    "ename": "ValueError",
                    "evalue": "only one element tensors can be converted to Python scalars",
                    "output_type": "error",
                    "traceback": [
                        "\u001b[0;31m---------------------------------------------------------------------------\u001b[0m",
                        "\u001b[0;31mValueError\u001b[0m                                Traceback (most recent call last)",
                        "\u001b[1;32m/home/mila/a/alexandre.duval/ocp/ocp/plot.ipynb Cell 30'\u001b[0m in \u001b[0;36m<cell line: 37>\u001b[0;34m()\u001b[0m\n\u001b[1;32m     <a href='vscode-notebook-cell://ssh-remote%2Bmila02.server.mila.quebec/home/mila/a/alexandre.duval/ocp/ocp/plot.ipynb#ch0000030vscode-remote?line=38'>39</a>\u001b[0m indices \u001b[39m=\u001b[39m torch\u001b[39m.\u001b[39margwhere( (b\u001b[39m.\u001b[39medge_index \u001b[39m==\u001b[39m torch\u001b[39m.\u001b[39mtensor([n,atom_idx])\u001b[39m.\u001b[39munsqueeze(dim\u001b[39m=\u001b[39m\u001b[39m1\u001b[39m))\u001b[39m.\u001b[39mall(dim\u001b[39m=\u001b[39m\u001b[39m0\u001b[39m) )\u001b[39m.\u001b[39msqueeze()\n\u001b[1;32m     <a href='vscode-notebook-cell://ssh-remote%2Bmila02.server.mila.quebec/home/mila/a/alexandre.duval/ocp/ocp/plot.ipynb#ch0000030vscode-remote?line=39'>40</a>\u001b[0m new_node_pos\u001b[39m=\u001b[39m b\u001b[39m.\u001b[39mpos[n] \u001b[39m+\u001b[39m torch\u001b[39m.\u001b[39mnorm(b\u001b[39m.\u001b[39mcell[graph_id], dim\u001b[39m=\u001b[39m\u001b[39m1\u001b[39m) \u001b[39m*\u001b[39m b\u001b[39m.\u001b[39mcell_offsets[indices] \n\u001b[0;32m---> <a href='vscode-notebook-cell://ssh-remote%2Bmila02.server.mila.quebec/home/mila/a/alexandre.duval/ocp/ocp/plot.ipynb#ch0000030vscode-remote?line=40'>41</a>\u001b[0m x\u001b[39m.\u001b[39mappend(new_node_pos[\u001b[39m0\u001b[39;49m]\u001b[39m.\u001b[39;49mitem())\n\u001b[1;32m     <a href='vscode-notebook-cell://ssh-remote%2Bmila02.server.mila.quebec/home/mila/a/alexandre.duval/ocp/ocp/plot.ipynb#ch0000030vscode-remote?line=41'>42</a>\u001b[0m y\u001b[39m.\u001b[39mappend(new_node_pos[\u001b[39m1\u001b[39m]\u001b[39m.\u001b[39mitem())\n\u001b[1;32m     <a href='vscode-notebook-cell://ssh-remote%2Bmila02.server.mila.quebec/home/mila/a/alexandre.duval/ocp/ocp/plot.ipynb#ch0000030vscode-remote?line=42'>43</a>\u001b[0m z\u001b[39m.\u001b[39mappend(new_node_pos[\u001b[39m2\u001b[39m]\u001b[39m.\u001b[39mitem())\n",
                        "\u001b[0;31mValueError\u001b[0m: only one element tensors can be converted to Python scalars"
                    ]
                }
            ],
            "source": [
                "atoms = torch.argwhere(b.batch == graph_id).squeeze()\n",
                "atom_idx = 0\n",
                "\n",
                "edge_idx_with_nonzero_cell_offsets = g.edge_index[:, g.cell_offsets.nonzero()[:, 0]]\n",
                "offset_neighbours_idx = (\n",
                "    (edge_idx_with_nonzero_cell_offsets[1, :] == atom_idx).nonzero().T[0].tolist()\n",
                ")\n",
                "offset_neighbours = edge_idx_with_nonzero_cell_offsets[:, offset_neighbours_idx][\n",
                "    0, :\n",
                "].tolist()\n",
                "neighbours = list(G.neighbors(atom_idx))\n",
                "non_offset_neighbours = sorted(list(set(neighbours) - set(offset_neighbours)))\n",
                "not_neighbours = sorted(list(set(range(b.natoms[graph_id].item())) - set(neighbours)))\n",
                "offset_neighbours = sorted(list(set(offset_neighbours)))\n",
                "\n",
                "\n",
                "# 3D plots with plotly\n",
                "\n",
                "# Define new colour scheme based on neighbourhood to see offset clearer\n",
                "colour_list = []\n",
                "for i, atom in enumerate(atoms):\n",
                "    if i in offset_neighbours:\n",
                "        colour_list.append(\"orange\")\n",
                "    elif i in non_offset_neighbours:\n",
                "        colour_list.append(\"blue\")\n",
                "    elif i in not_neighbours:\n",
                "        colour_list.append(\"black\")\n",
                "colour_list[atom_idx] = \"red\"\n",
                "\n",
                "offset_atoms = set(\n",
                "    a\n",
                "    for a in g.cell_offsets.nonzero()[:, 0].numpy()\n",
                "    if (a in set(atoms.numpy())) and (a != int(atoms[atom_idx]))\n",
                ")\n",
                "\n",
                "\n",
                "for n in atoms:\n",
                "    if n in offset_neighbours:\n",
                "        indices = torch.argwhere( (b.edge_index == torch.tensor([n,atom_idx]).unsqueeze(dim=1)).all(dim=0) ).squeeze()\n",
                "        new_node_pos= b.pos[n] + torch.norm(b.cell[graph_id], dim=1) * b.cell_offsets[indices] \n",
                "        x.append(new_node_pos[0].item())\n",
                "        y.append(new_node_pos[1].item())\n",
                "        z.append(new_node_pos[2].item())\n",
                "    else: \n",
                "        x.append(b.pos[n][0].item())\n",
                "        y.append(b.pos[n][1].item())\n",
                "        z.append(b.pos[n][2].item())\n",
                "\n",
                "    # To speed up, restrict edge_index to graph_id indices.\n",
                "    # b.edge_index[sum(b.neighbors[:graph_id]):sum(b.neighbors[:graph_id+1])] instead of b.edge_index\n",
                "\n",
                "# x = [\n",
                "#     b.pos[atom] + torch.norm(b.cell[graph_id], dim=1) * b.cell_offsets[torch.argwhere( \n",
                "#         (b.edge_index == torch.tensor([n,atom_idx]).unsqueeze(dim=1)).all(dim=0) ).squeeze()] \n",
                "#     for atom in atoms\n",
                "# ]\n",
                "# y = [\n",
                "#     b.pos[atom][1].item() + g.cell_offsets[atom][1] * torch.norm(g.cell[0][1])\n",
                "#     for atom in atoms\n",
                "# ]\n",
                "# z = [\n",
                "#     b.pos[atom][2].item() + g.cell_offsets[atom][2] * torch.norm(g.cell[0][2])\n",
                "#     for atom in atoms\n",
                "# ]\n",
                "\n",
                "trace = go.Scatter3d(\n",
                "    x=x,\n",
                "    y=y,\n",
                "    z=z,\n",
                "    mode=\"markers+text\",\n",
                "    text=atoms,\n",
                "    textfont=dict(size=9),\n",
                "    marker=dict(\n",
                "        size=12,\n",
                "        color=colour_list,  # set color to an array/list of desired values\n",
                "        colorscale=\"rainbow\",\n",
                "    ),\n",
                ")\n",
                "layout = go.Layout(title=\"3D plot of one adslab\", width=900, height=700)\n",
                "fig = go.Figure(data=[trace], layout=layout)\n",
                "fig.show()\n"
            ]
        },
        {
            "cell_type": "code",
            "execution_count": 137,
            "metadata": {},
            "outputs": [
                {
                    "data": {
                        "text/plain": [
                            "True"
                        ]
                    },
                    "execution_count": 137,
                    "metadata": {},
                    "output_type": "execute_result"
                }
            ],
            "source": []
        },
        {
            "cell_type": "code",
            "execution_count": 73,
            "metadata": {},
            "outputs": [
                {
                    "data": {
                        "text/plain": [
                            "{194, 254, 256, 259, 263, 266, 268, 270, 271}"
                        ]
                    },
                    "execution_count": 73,
                    "metadata": {},
                    "output_type": "execute_result"
                }
            ],
            "source": [
                "offset_atoms"
            ]
        },
        {
            "cell_type": "code",
            "execution_count": 69,
            "metadata": {},
            "outputs": [
                {
                    "data": {
                        "text/plain": [
                            "torch.Size([1, 3, 3])"
                        ]
                    },
                    "execution_count": 69,
                    "metadata": {},
                    "output_type": "execute_result"
                }
            ],
            "source": [
                "g.cell.shape"
            ]
        },
        {
            "cell_type": "code",
            "execution_count": 29,
            "metadata": {},
            "outputs": [
                {
                    "data": {
                        "text/plain": [
                            "{10, 19, 29, 38, 50, 51, 58, 63, 67, 71}"
                        ]
                    },
                    "execution_count": 29,
                    "metadata": {},
                    "output_type": "execute_result"
                }
            ],
            "source": [
                "offset_atoms"
            ]
        },
        {
            "cell_type": "code",
            "execution_count": 37,
            "metadata": {},
            "outputs": [
                {
                    "data": {
                        "text/plain": [
                            "tensor([194, 195, 196, 197, 198, 199, 200, 201, 202, 203, 204, 205, 206, 207,\n",
                            "        208, 209, 210, 211, 212, 213, 214, 215, 216, 217, 218, 219, 220, 221,\n",
                            "        222, 223, 224, 225, 226, 227, 228, 229, 230, 231, 232, 233, 234, 235,\n",
                            "        236, 237, 238, 239, 240, 241, 242, 243, 244, 245, 246, 247, 248, 249,\n",
                            "        250, 251, 252, 253, 254, 255, 256, 257, 258, 259, 260, 261, 262, 263,\n",
                            "        264, 265, 266, 267, 268, 269, 270, 271])"
                        ]
                    },
                    "execution_count": 37,
                    "metadata": {},
                    "output_type": "execute_result"
                }
            ],
            "source": [
                "atoms"
            ]
        },
        {
            "cell_type": "code",
            "execution_count": null,
            "metadata": {},
            "outputs": [],
            "source": []
        }
    ],
    "metadata": {
        "interpreter": {
            "hash": "8f46ba4cd7afc55211ef30a8756878c586436ef3efb2502902a1a7762250021d"
        },
        "kernelspec": {
            "display_name": "Python 3.8.13 64-bit",
            "language": "python",
            "name": "python3"
        },
        "language_info": {
            "codemirror_mode": {
                "name": "ipython",
                "version": 3
            },
            "file_extension": ".py",
            "mimetype": "text/x-python",
            "name": "python",
            "nbconvert_exporter": "python",
            "pygments_lexer": "ipython3",
            "version": "3.8.13"
        },
        "orig_nbformat": 4
    },
    "nbformat": 4,
    "nbformat_minor": 2
}