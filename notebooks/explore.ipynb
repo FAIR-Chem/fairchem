{
   "cells": [
      {
         "cell_type": "code",
         "execution_count": 1,
         "metadata": {},
         "outputs": [],
         "source": [
            "import torch\n",
            "from pathlib import Path\n",
            "import sys\n",
            "import ocpmodels\n",
            "import numpy as np"
         ]
      },
      {
         "cell_type": "code",
         "execution_count": 2,
         "metadata": {},
         "outputs": [],
         "source": [
            "from ocpmodels.common.utils import (\n",
            "    build_config,\n",
            "    create_grid,\n",
            "    save_experiment_log,\n",
            "    setup_imports,\n",
            "    setup_logging,\n",
            ")\n",
            "from ocpmodels.common.flags import flags\n",
            "from ocpmodels.common.registry import registry"
         ]
      },
      {
         "cell_type": "code",
         "execution_count": 3,
         "metadata": {},
         "outputs": [],
         "source": [
            "def dict2str(d, level=0, spaces=4, margin=30):\n",
            "    \"\"\"\n",
            "    simple recursive dict printing util\n",
            "    (victor)\n",
            "    \"\"\"\n",
            "    s = \"\"\n",
            "    for k, v in d.items():\n",
            "        s += f\"{' ' *spaces * level}{k:{margin-spaces*level}}: \"\n",
            "        if not isinstance(v, dict):\n",
            "            s += str(v)\n",
            "        else:\n",
            "            s += \"\\n\" + dict2str(v, level + 1, spaces, margin)\n",
            "        s += \"\\n\"\n",
            "    return s\n"
         ]
      },
      {
         "cell_type": "markdown",
         "metadata": {},
         "source": [
            "# Config"
         ]
      },
      {
         "cell_type": "code",
         "execution_count": 4,
         "metadata": {},
         "outputs": [],
         "source": [
            "sys.argv.append(\"--mode=train\")\n",
            "sys.argv.append(\"--config=configs/is2re/10k/schnet/schnet.yml\")\n",
            "setup_logging()"
         ]
      },
      {
         "cell_type": "code",
         "execution_count": 5,
         "metadata": {},
         "outputs": [
            {
               "name": "stdout",
               "output_type": "stream",
               "text": [
                  "Config: \n",
                  "trainer                       : energy\n",
                  "dataset                       : [{'src': '/network/projects/_groups/ocp/oc20/is2re/10k/train/data.lmdb', 'normalize_labels': True, 'target_mean': -1.525913953781128, 'target_std': 2.279365062713623}, {'src': '/network/projects/_groups/ocp/oc20/is2re/all/val_id/data.lmdb'}]\n",
                  "logger                        : tensorboard\n",
                  "task                          : \n",
                  "    dataset                   : single_point_lmdb\n",
                  "    description               : Relaxed state energy prediction from initial structure.\n",
                  "    type                      : regression\n",
                  "    metric                    : mae\n",
                  "    labels                    : ['relaxed energy']\n",
                  "\n",
                  "model                         : \n",
                  "    name                      : schnet\n",
                  "    hidden_channels           : 256\n",
                  "    num_filters               : 128\n",
                  "    num_interactions          : 3\n",
                  "    num_gaussians             : 100\n",
                  "    cutoff                    : 6.0\n",
                  "    use_pbc                   : True\n",
                  "    regress_forces            : False\n",
                  "\n",
                  "optim                         : \n",
                  "    batch_size                : 64\n",
                  "    eval_batch_size           : 64\n",
                  "    num_workers               : 16\n",
                  "    lr_initial                : 0.005\n",
                  "    lr_gamma                  : 0.1\n",
                  "    lr_milestones             : [1562, 2343, 3125]\n",
                  "    warmup_steps              : 468\n",
                  "    warmup_factor             : 0.2\n",
                  "    max_epochs                : 30\n",
                  "\n",
                  "ip                            : 127.0.0.1\n",
                  "stdin                         : 9008\n",
                  "control                       : 9006\n",
                  "hb                            : 9005\n",
                  "Session                       : \n",
                  "    signature_scheme          : hmac-sha256\n",
                  "    key                       : b'7061cb97-2cdc-4707-ab19-299aa9b73d74'\n",
                  "\n",
                  "shell                         : 9007\n",
                  "transport                     : tcp\n",
                  "iopub                         : 9009\n",
                  "f                             : /tmp/tmp-87853nxUVdPftdky8.json\n",
                  "mode                          : train\n",
                  "identifier                    : \n",
                  "timestamp_id                  : None\n",
                  "seed                          : 0\n",
                  "is_debug                      : False\n",
                  "run_dir                       : ./\n",
                  "print_every                   : 10\n",
                  "amp                           : False\n",
                  "checkpoint                    : None\n",
                  "cpu                           : False\n",
                  "submit                        : False\n",
                  "summit                        : False\n",
                  "local_rank                    : 0\n",
                  "distributed_port              : 13356\n",
                  "world_size                    : 1\n",
                  "distributed_backend           : nccl\n",
                  "\n"
               ]
            }
         ],
         "source": [
            "parser = flags.get_parser()\n",
            "args, override_args = parser.parse_known_args()\n",
            "config = build_config(args, override_args)\n",
            "print(\"Config:\", \"\\n\" + dict2str(config))"
         ]
      },
      {
         "cell_type": "markdown",
         "metadata": {},
         "source": [
            "### Override config"
         ]
      },
      {
         "cell_type": "code",
         "execution_count": 6,
         "metadata": {},
         "outputs": [],
         "source": [
            "config[\"optim\"][\"num_workers\"] = 4\n",
            "config[\"optim\"][\"batch_size\"] = 1"
         ]
      },
      {
         "cell_type": "markdown",
         "metadata": {},
         "source": [
            "### Make trainer and task"
         ]
      },
      {
         "cell_type": "code",
         "execution_count": 7,
         "metadata": {},
         "outputs": [
            {
               "name": "stdout",
               "output_type": "stream",
               "text": [
                  "amp: false\n",
                  "cmd:\n",
                  "  checkpoint_dir: ./checkpoints/2022-04-12-09-56-16\n",
                  "  commit: bd247bc\n",
                  "  identifier: ''\n",
                  "  logs_dir: ./logs/tensorboard/2022-04-12-09-56-16\n",
                  "  print_every: 10\n",
                  "  results_dir: ./results/2022-04-12-09-56-16\n",
                  "  seed: 0\n",
                  "  timestamp_id: 2022-04-12-09-56-16\n",
                  "dataset:\n",
                  "  normalize_labels: true\n",
                  "  src: /network/projects/_groups/ocp/oc20/is2re/10k/train/data.lmdb\n",
                  "  target_mean: -1.525913953781128\n",
                  "  target_std: 2.279365062713623\n",
                  "gpus: 1\n",
                  "logger: tensorboard\n",
                  "model: schnet\n",
                  "model_attributes:\n",
                  "  cutoff: 6.0\n",
                  "  hidden_channels: 256\n",
                  "  num_filters: 128\n",
                  "  num_gaussians: 100\n",
                  "  num_interactions: 3\n",
                  "  regress_forces: false\n",
                  "  use_pbc: true\n",
                  "optim:\n",
                  "  batch_size: 1\n",
                  "  eval_batch_size: 64\n",
                  "  lr_gamma: 0.1\n",
                  "  lr_initial: 0.005\n",
                  "  lr_milestones:\n",
                  "  - 1562\n",
                  "  - 2343\n",
                  "  - 3125\n",
                  "  max_epochs: 30\n",
                  "  num_workers: 4\n",
                  "  warmup_factor: 0.2\n",
                  "  warmup_steps: 468\n",
                  "slurm: {}\n",
                  "task:\n",
                  "  dataset: single_point_lmdb\n",
                  "  description: Relaxed state energy prediction from initial structure.\n",
                  "  labels:\n",
                  "  - relaxed energy\n",
                  "  metric: mae\n",
                  "  type: regression\n",
                  "val_dataset:\n",
                  "  src: /network/projects/_groups/ocp/oc20/is2re/all/val_id/data.lmdb\n",
                  "\n",
                  "2022-04-12 09:56:10 (INFO): Loading dataset: single_point_lmdb\n",
                  "2022-04-12 09:56:10 (INFO): Loading model: schnet\n"
               ]
            },
            {
               "name": "stderr",
               "output_type": "stream",
               "text": [
                  "/home/mila/s/schmidtv/.conda/envs/ocp-env/lib/python3.8/site-packages/torch/utils/data/dataloader.py:487: UserWarning: This DataLoader will create 4 worker processes in total. Our suggested max number of worker in current system is 2, which is smaller than what this DataLoader is going to create. Please be aware that excessive worker creation might get DataLoader running slow or even freeze, lower the worker number to avoid potential slowness/freeze if necessary.\n",
                  "  warnings.warn(_create_warning_msg(\n"
               ]
            },
            {
               "name": "stdout",
               "output_type": "stream",
               "text": [
                  "2022-04-12 09:56:11 (INFO): Loaded SchNetWrap with 541697 parameters.\n"
               ]
            },
            {
               "name": "stderr",
               "output_type": "stream",
               "text": [
                  "2022-04-12 09:56:11 (WARNING): Model gradient logging to tensorboard not yet supported.\n"
               ]
            }
         ],
         "source": [
            "setup_imports()\n",
            "trainer = registry.get_trainer_class(config.get(\"trainer\", \"energy\"))(\n",
            "                task=config[\"task\"],\n",
            "                model=config[\"model\"],\n",
            "                dataset=config[\"dataset\"],\n",
            "                optimizer=config[\"optim\"],\n",
            "                identifier=config[\"identifier\"],\n",
            "                timestamp_id=config.get(\"timestamp_id\", None),\n",
            "                run_dir=config.get(\"run_dir\", \"./\"),\n",
            "                is_debug=config.get(\"is_debug\", False),\n",
            "                print_every=config.get(\"print_every\", 10),\n",
            "                seed=config.get(\"seed\", 0),\n",
            "                logger=config.get(\"logger\", \"tensorboard\"),\n",
            "                local_rank=config[\"local_rank\"],\n",
            "                amp=config.get(\"amp\", False),\n",
            "                cpu=config.get(\"cpu\", False),\n",
            "                slurm=config.get(\"slurm\", {}),\n",
            "            )"
         ]
      },
      {
         "cell_type": "code",
         "execution_count": 8,
         "metadata": {},
         "outputs": [],
         "source": [
            "task = registry.get_task_class(config[\"mode\"])(config)"
         ]
      },
      {
         "cell_type": "code",
         "execution_count": 9,
         "metadata": {},
         "outputs": [],
         "source": [
            "task.setup(trainer)"
         ]
      },
      {
         "cell_type": "markdown",
         "metadata": {},
         "source": [
            "# Explore Trainer"
         ]
      },
      {
         "cell_type": "code",
         "execution_count": 10,
         "metadata": {},
         "outputs": [
            {
               "name": "stdout",
               "output_type": "stream",
               "text": [
                  "EnergyTrainer\n"
               ]
            }
         ],
         "source": [
            "print(trainer.__class__.__name__)"
         ]
      },
      {
         "cell_type": "markdown",
         "metadata": {},
         "source": [
            "## Data"
         ]
      },
      {
         "cell_type": "markdown",
         "metadata": {},
         "source": [
            "Data explanations can also be found in `scripts/README_is2res.md`"
         ]
      },
      {
         "cell_type": "code",
         "execution_count": 11,
         "metadata": {},
         "outputs": [],
         "source": [
            "# get 1 batch\n",
            "for batch in trainer.train_loader:\n",
            "    break"
         ]
      },
      {
         "cell_type": "code",
         "execution_count": 12,
         "metadata": {},
         "outputs": [
            {
               "name": "stdout",
               "output_type": "stream",
               "text": [
                  "1\n"
               ]
            }
         ],
         "source": [
            "print(len(batch)) # 1?\n",
            "b = batch[0]"
         ]
      },
      {
         "cell_type": "markdown",
         "metadata": {},
         "source": [
            "### Batch contents"
         ]
      },
      {
         "cell_type": "code",
         "execution_count": 21,
         "metadata": {},
         "outputs": [
            {
               "data": {
                  "text/plain": [
                     "DataBatch(edge_index=[2, 1372], pos=[40, 3], cell=[1, 3, 3], atomic_numbers=[40], natoms=[1], cell_offsets=[1372, 3], force=[40, 3], distances=[1372], fixed=[40], sid=[1], tags=[40], y_init=[1], y_relaxed=[1], pos_relaxed=[40, 3], batch=[40], ptr=[2], neighbors=[1])"
                  ]
               },
               "execution_count": 21,
               "metadata": {},
               "output_type": "execute_result"
            }
         ],
         "source": [
            "# what's a batch item?\n",
            "b"
         ]
      },
      {
         "cell_type": "code",
         "execution_count": 43,
         "metadata": {},
         "outputs": [
            {
               "name": "stdout",
               "output_type": "stream",
               "text": [
                  "`edge_index` contains the edges of all graphs in the batch:\n",
                  "torch.Size([2, 170988])\n",
                  "tensor([[  19,   18,   14,  ..., 4570, 4514, 4530],\n",
                  "        [   0,    0,    0,  ..., 4584, 4584, 4584]], device='cuda:0')\n"
               ]
            }
         ],
         "source": [
            "print(\"`edge_index` contains the edges of all graphs in the batch:\")\n",
            "print(b.edge_index.shape)\n",
            "print(b.edge_index)"
         ]
      },
      {
         "cell_type": "code",
         "execution_count": 44,
         "metadata": {},
         "outputs": [
            {
               "name": "stdout",
               "output_type": "stream",
               "text": [
                  "`batch` contains the graph id of each atom in the batch:\n",
                  "torch.Size([4585])\n",
                  "tensor([ 0,  0,  0,  ..., 63, 63, 63], device='cuda:0')\n"
               ]
            }
         ],
         "source": [
            "print(\"`batch` contains the graph id of each atom in the batch:\")\n",
            "print(b.batch.shape)\n",
            "print(b.batch)"
         ]
      },
      {
         "cell_type": "code",
         "execution_count": 68,
         "metadata": {},
         "outputs": [
            {
               "name": "stdout",
               "output_type": "stream",
               "text": [
                  "`pos` and `pos_relaxed` contain the 3D position of each atom in the batch, respectively initially or in the relaxed state:\n",
                  "torch.Size([4585, 3]) torch.Size([4585, 3])\n",
                  "tensor([[ 6.3715,  1.4460, 16.5523],\n",
                  "        [ 9.9958,  1.4460, 18.7673],\n",
                  "        [ 2.7473,  1.4460, 14.3374]], device='cuda:0')\n",
                  "tensor([[ 6.3715,  1.4460, 16.5523],\n",
                  "        [ 9.9823,  1.3752, 18.7785],\n",
                  "        [ 2.7473,  1.4460, 14.3374]], device='cuda:0')\n"
               ]
            }
         ],
         "source": [
            "print(\"`pos` and `pos_relaxed` contain the 3D position of each atom in the batch, respectively initially or in the relaxed state:\")\n",
            "print(b.pos.shape, b.pos_relaxed.shape)\n",
            "print(b.pos[:3])\n",
            "print(b.pos_relaxed[:3])"
         ]
      },
      {
         "cell_type": "code",
         "execution_count": 48,
         "metadata": {},
         "outputs": [
            {
               "name": "stdout",
               "output_type": "stream",
               "text": [
                  "`cell` contains the 3D cell dimensions of each graph:\n",
                  "torch.Size([64, 3, 3])\n",
                  "tensor([[[10.8727, -0.0000, -1.5002],\n",
                  "         [-3.6242,  7.3342, -2.2150],\n",
                  "         [ 0.0000,  0.0000, 32.5804]],\n",
                  "\n",
                  "        [[10.8287,  0.0000,  0.0000],\n",
                  "         [ 0.0000, 10.9216,  2.1019],\n",
                  "         [ 0.0000,  0.0000, 29.4261]]], device='cuda:0')\n"
               ]
            }
         ],
         "source": [
            "print(\"`cell` contains the 3D cell dimensions of each graph:\")\n",
            "print(b.cell.shape)\n",
            "print(b.cell[:2])"
         ]
      },
      {
         "cell_type": "code",
         "execution_count": 50,
         "metadata": {},
         "outputs": [
            {
               "name": "stdout",
               "output_type": "stream",
               "text": [
                  "`atomic_numbers` contains the atomic number of each atom in the batch:\n",
                  "torch.Size([4585])\n",
                  "tensor([39., 39., 39.,  ...,  1.,  1.,  8.], device='cuda:0')\n"
               ]
            }
         ],
         "source": [
            "print(\"`atomic_numbers` contains the atomic number of each atom in the batch:\")\n",
            "print(b.atomic_numbers.shape)\n",
            "print(b.atomic_numbers)"
         ]
      },
      {
         "cell_type": "code",
         "execution_count": 53,
         "metadata": {},
         "outputs": [
            {
               "name": "stdout",
               "output_type": "stream",
               "text": [
                  "`natoms` contains the number of atoms in each graph in the batch:\n",
                  "torch.Size([64])\n",
                  "tensor([ 40,  55,  43,  56,  78, 111,  70,  63,  67,  99, 100,  52,  60,  90,\n",
                  "         40,  69,  77,  99,  52,  85, 100,  32,  50,  78,  67,  66,  68,  79,\n",
                  "        114,  53,  54,  79,  97, 183,  92,  67,  75,  50,  10, 100,  64,  51,\n",
                  "         87,  54,  70,  87,  65, 103,  70,  70,  65,  69,  52,  98,  59,  49,\n",
                  "         75,  69,  40,  67,  71,  32,  85, 113], device='cuda:0')\n",
                  "tensor(4585, device='cuda:0')\n"
               ]
            }
         ],
         "source": [
            "print(\"`natoms` contains the number of atoms in each graph in the batch:\")\n",
            "print(b.natoms.shape)\n",
            "print(b.natoms)\n",
            "print(b.natoms.sum())"
         ]
      },
      {
         "cell_type": "code",
         "execution_count": 160,
         "metadata": {},
         "outputs": [
            {
               "name": "stdout",
               "output_type": "stream",
               "text": [
                  "`cell_offsets` contains the 3D 'cell offset' of each edge in the batch:\n",
                  "\n",
                  "[n_edges x 3] offset matrix where each index corresponds to the unit cell offset necessary to find the corresponding neighbor in  `edge_index`. For example,  `cell_offsets[0, :] = [0,1,0]` corresponds to `edge_index[:, 0]= [1,0]` representing node 1 as node 0’s neighbor located one unit cell over in the +y direction.\n",
                  "\n",
                  "torch.Size([170988, 3])\n",
                  "tensor([[0, 0, 0],\n",
                  "        [0, 0, 0],\n",
                  "        [0, 0, 0],\n",
                  "        ...,\n",
                  "        [0, 0, 0],\n",
                  "        [0, 0, 0],\n",
                  "        [0, 0, 0]], device='cuda:0')\n",
                  "tensor([-1,  0,  1], device='cuda:0')\n",
                  "\n",
                  "\n",
                  "\n",
                  "tensor([ 0, -1,  0], device='cuda:0')\n",
                  "tensor([10,  0], device='cuda:0')\n",
                  "tensor([[10.8727, -0.0000, -1.5002],\n",
                  "        [-3.6242,  7.3342, -2.2150],\n",
                  "        [ 0.0000,  0.0000, 32.5804]], device='cuda:0')\n",
                  "tensor(5.5423, device='cuda:0')\n",
                  "tensor(8.4754, device='cuda:0')\n"
               ]
            }
         ],
         "source": [
            "print(\"`cell_offsets` contains the 3D 'cell offset' of each edge in the batch:\\n\")\n",
            "print(\"[n_edges x 3] offset matrix where each index corresponds to the unit cell offset necessary to find the corresponding neighbor in  `edge_index`. For example,  `cell_offsets[0, :] = [0,1,0]` corresponds to `edge_index[:, 0]= [1,0]` representing node 1 as node 0’s neighbor located one unit cell over in the +y direction.\\n\")\n",
            "print(b.cell_offsets.shape)\n",
            "print(b.cell_offsets)\n",
            "print(torch.unique(b.cell_offsets))\n",
            "\n",
            "print()\n",
            "print()\n",
            "print()\n",
            "\n",
            "print(b.cell_offsets[38, :])\n",
            "print(b.edge_index[:, 38])\n",
            "print(b.cell[0])\n",
            "print(b.distances[36])\n",
            "print(torch.norm(b.cell[0][1]))"
         ]
      },
      {
         "cell_type": "code",
         "execution_count": 161,
         "metadata": {},
         "outputs": [
            {
               "name": "stdout",
               "output_type": "stream",
               "text": [
                  "`force` contains the 3D forces 'experienced' by each atom in the batch:\n",
                  "torch.Size([4585, 3])\n",
                  "tensor([ 0.2466, -0.0354,  0.4422], device='cuda:0')\n"
               ]
            }
         ],
         "source": [
            "print(\"`force` contains the 3D forces 'experienced' by each atom in the batch:\")\n",
            "print(b.force.shape)\n",
            "print(b.force)"
         ]
      },
      {
         "cell_type": "code",
         "execution_count": 58,
         "metadata": {},
         "outputs": [
            {
               "name": "stdout",
               "output_type": "stream",
               "text": [
                  "`distances` contains the length (A?) of each edge in the batch\n",
                  "torch.Size([170988])\n",
                  "tensor([2.9223, 2.9223, 2.9319,  ..., 5.9122, 5.9325, 5.9584], device='cuda:0')\n"
               ]
            }
         ],
         "source": [
            "print(\"`distances` contains the length (A?) of each edge in the batch\")\n",
            "print(b.distances.shape)\n",
            "print(b.distances)"
         ]
      },
      {
         "cell_type": "code",
         "execution_count": 59,
         "metadata": {},
         "outputs": [
            {
               "name": "stdout",
               "output_type": "stream",
               "text": [
                  "`fixed` contains the boolean flag for each atom being fixed or not\n",
                  "torch.Size([4585])\n",
                  "tensor([1., 0., 1.,  ..., 0., 0., 0.], device='cuda:0')\n"
               ]
            }
         ],
         "source": [
            "print(\"`fixed` contains the boolean flag for each atom being fixed or not\")\n",
            "print(b.fixed.shape)\n",
            "print(b.fixed)"
         ]
      },
      {
         "cell_type": "code",
         "execution_count": 62,
         "metadata": {},
         "outputs": [
            {
               "name": "stdout",
               "output_type": "stream",
               "text": [
                  "`sid` contains the system id associated with each graph in the batch\n",
                  "torch.Size([64])\n",
                  "tensor([1831766, 1974982,  589818, 2158881,  550912], device='cuda:0')\n"
               ]
            }
         ],
         "source": [
            "print(\"`sid` contains the system id associated with each graph in the batch\")\n",
            "print(b.sid.shape)\n",
            "print(b.sid[:5])"
         ]
      },
      {
         "cell_type": "code",
         "execution_count": 63,
         "metadata": {},
         "outputs": [
            {
               "name": "stdout",
               "output_type": "stream",
               "text": [
                  "`tags` contains the tag of each atom: 0 - Fixed, sub-surface atoms, 1 - Free, surface atoms 2 - Free, adsorbate atoms\n",
                  "torch.Size([4585])\n",
                  "tensor([0, 1, 0,  ..., 2, 2, 2], device='cuda:0')\n"
               ]
            }
         ],
         "source": [
            "print(\"`tags` contains the tag of each atom: 0 - Fixed, sub-surface atoms, 1 - Free, surface atoms 2 - Free, adsorbate atoms\")\n",
            "print(b.tags.shape)\n",
            "print(b.tags)"
         ]
      },
      {
         "cell_type": "code",
         "execution_count": 65,
         "metadata": {},
         "outputs": [
            {
               "name": "stdout",
               "output_type": "stream",
               "text": [
                  "`y_init` and `y_relaxed` respectively contain the initial and relaxed energies of each graph:\n",
                  "torch.Size([64]) torch.Size([64])\n",
                  "tensor([0.5247, 2.9358, 0.5761, 0.1011, 3.9838], device='cuda:0') tensor([-2.6237, -0.4135, -2.4655, -3.4437, -0.8626], device='cuda:0')\n"
               ]
            }
         ],
         "source": [
            "print(\"`y_init` and `y_relaxed` respectively contain the initial and relaxed energies of each graph:\")\n",
            "print(b.y_init.shape, b.y_relaxed.shape)\n",
            "print(b.y_init[:5], b.y_relaxed[:5])"
         ]
      },
      {
         "cell_type": "code",
         "execution_count": 69,
         "metadata": {},
         "outputs": [
            {
               "name": "stdout",
               "output_type": "stream",
               "text": [
                  "`ptr` ??\n",
                  "torch.Size([65])\n",
                  "tensor([   0,   40,   95,  138,  194,  272,  383,  453,  516,  583,  682,  782,\n",
                  "         834,  894,  984, 1024, 1093, 1170, 1269, 1321, 1406, 1506, 1538, 1588,\n",
                  "        1666, 1733, 1799, 1867, 1946, 2060, 2113, 2167, 2246, 2343, 2526, 2618,\n",
                  "        2685, 2760, 2810, 2820, 2920, 2984, 3035, 3122, 3176, 3246, 3333, 3398,\n",
                  "        3501, 3571, 3641, 3706, 3775, 3827, 3925, 3984, 4033, 4108, 4177, 4217,\n",
                  "        4284, 4355, 4387, 4472, 4585], device='cuda:0')\n"
               ]
            }
         ],
         "source": [
            "print(\"`ptr` ??\")\n",
            "print(b.ptr.shape)\n",
            "print(b.ptr)"
         ]
      },
      {
         "cell_type": "code",
         "execution_count": 162,
         "metadata": {},
         "outputs": [
            {
               "name": "stdout",
               "output_type": "stream",
               "text": [
                  "`neighbors` ??\n",
                  "torch.Size([64])\n",
                  "tensor([1372, 1634, 1813, 2502, 2300, 5449, 3109, 1976, 1640, 4159, 2952,  880,\n",
                  "        2677, 2684, 1086, 2954, 3554, 4461, 2455, 3349, 2812,  894, 2024, 2734,\n",
                  "        1760, 2691, 2576, 1466, 2760, 2254, 1604, 2504, 4218, 7825, 4034, 2290,\n",
                  "        3070, 2100,   90, 4486, 2920, 1890, 2012, 2180, 2886, 3236, 2741, 2954,\n",
                  "        2056, 3220, 1352, 3212, 2217, 4535, 2602, 1816, 3114, 3243, 1292, 2912,\n",
                  "        2396,  378, 3330, 5296], device='cuda:0')\n",
                  "tensor(170988, device='cuda:0')\n"
               ]
            }
         ],
         "source": [
            "print(\"`neighbors` ??\")\n",
            "print(b.neighbors.shape)\n",
            "print(b.neighbors)\n",
            "print(b.neighbors.sum())"
         ]
      },
      {
         "cell_type": "markdown",
         "metadata": {},
         "source": [
            "### Find atoms in graphs"
         ]
      },
      {
         "cell_type": "code",
         "execution_count": 164,
         "metadata": {},
         "outputs": [
            {
               "name": "stdout",
               "output_type": "stream",
               "text": [
                  "tensor([ 0,  1,  2,  3,  4,  5,  6,  7,  8,  9, 10, 11, 12, 13, 14, 15, 16, 17,\n",
                  "        18, 19, 20, 21, 22, 23, 24, 25, 26, 27, 28, 29, 30, 31, 32, 33, 34, 35,\n",
                  "        36, 37, 38, 39], device='cuda:0')\n"
               ]
            }
         ],
         "source": [
            "# select a graph you care about. graph_id is equivalent to a batch index\n",
            "graph_id = 0\n",
            "# find the atom indices of that graph\n",
            "atoms = torch.argwhere(b.batch == graph_id).squeeze()\n",
            "# the number of atoms selected above should match natoms\n",
            "assert len(atoms) == b.natoms[graph_id]\n",
            "print(atoms)"
         ]
      },
      {
         "cell_type": "code",
         "execution_count": 92,
         "metadata": {},
         "outputs": [
            {
               "name": "stdout",
               "output_type": "stream",
               "text": [
                  "torch.Size([170988])\n",
                  "tensor([ True,  True,  True,  ..., False, False, False], device='cuda:0')\n",
                  "torch.Size([2, 1372])\n",
                  "tensor([[19, 18, 14,  ..., 25, 19, 14],\n",
                  "        [ 0,  0,  0,  ..., 39, 39, 39]], device='cuda:0')\n"
               ]
            }
         ],
         "source": [
            "# find the indices of edges in that graph\n",
            "# ie edges whose atoms are in the graph's atoms list\n",
            "# (assumes an edge can not link 2 atoms from different graphs)\n",
            "edge_indices = torch.isin(b.edge_index[0, :], atoms)\n",
            "# select the actual edges from the indices\n",
            "edges = b.edge_index[:, edge_indices]\n",
            "print(edge_indices.shape)\n",
            "print(edge_indices)\n",
            "print(edges.shape)\n",
            "print(edges)\n"
         ]
      },
      {
         "cell_type": "code",
         "execution_count": 87,
         "metadata": {},
         "outputs": [
            {
               "name": "stdout",
               "output_type": "stream",
               "text": [
                  "torch.Size([40, 3])\n"
               ]
            }
         ],
         "source": [
            "# find the forces experienced by each atom in the graph\n",
            "forces = b.force[atoms]\n",
            "print(forces.shape)"
         ]
      },
      {
         "cell_type": "code",
         "execution_count": 93,
         "metadata": {},
         "outputs": [
            {
               "name": "stdout",
               "output_type": "stream",
               "text": [
                  "torch.Size([1372])\n"
               ]
            }
         ],
         "source": [
            "# find the length of each edge\n",
            "distances = b.distances[edge_indices]\n",
            "# the number of distances must match the number of edges\n",
            "assert len(distances) == edges.shape[1]\n",
            "print(distances.shape)"
         ]
      },
      {
         "cell_type": "code",
         "execution_count": 104,
         "metadata": {},
         "outputs": [
            {
               "name": "stdout",
               "output_type": "stream",
               "text": [
                  "tensor([0, 1, 0, 0, 0, 1, 1, 0, 0, 0, 0, 1, 1, 0, 1, 0, 1, 0, 0, 0, 1, 1, 0, 0,\n",
                  "        0, 1, 0, 0, 0, 1, 1, 0, 0, 0, 0, 1, 2, 2, 2, 2], device='cuda:0')\n",
                  "['fixed', 'surface', 'fixed', 'fixed', 'fixed', 'surface', 'surface', 'fixed', 'fixed', 'fixed', 'fixed', 'surface', 'surface', 'fixed', 'surface', 'fixed', 'surface', 'fixed', 'fixed', 'fixed', 'surface', 'surface', 'fixed', 'fixed', 'fixed', 'surface', 'fixed', 'fixed', 'fixed', 'surface', 'surface', 'fixed', 'fixed', 'fixed', 'fixed', 'surface', 'adsorbate', 'adsorbate', 'adsorbate', 'adsorbate']\n"
               ]
            }
         ],
         "source": [
            "# find the tag of each graph atom\n",
            "tags = b.tags[atoms]\n",
            "print(tags)\n",
            "print(list(np.array([\"fixed\", \"surface\", \"adsorbate\"])[tags.cpu().numpy()]))\n"
         ]
      },
      {
         "cell_type": "code",
         "execution_count": 108,
         "metadata": {},
         "outputs": [
            {
               "name": "stdout",
               "output_type": "stream",
               "text": [
                  "tensor([6., 6., 1., 1.], device='cuda:0')\n"
               ]
            }
         ],
         "source": [
            "# find adsorbate atomic numbers\n",
            "adsorbates_numbers = b.atomic_numbers[atoms][tags == 2]\n",
            "print(adsorbates_numbers)"
         ]
      },
      {
         "cell_type": "code",
         "execution_count": 124,
         "metadata": {},
         "outputs": [],
         "source": [
            "from ase import Atoms\n",
            "\n",
            "x = Atoms(numbers=[int(i) for i in adsorbates_numbers])"
         ]
      },
      {
         "cell_type": "code",
         "execution_count": 165,
         "metadata": {},
         "outputs": [
            {
               "name": "stdout",
               "output_type": "stream",
               "text": [
                  "H2O: 1\n",
                  "H2: 0\n",
                  "\n",
                  "C2H2      : 3\n",
                  "C2H3O2    : 4\n",
                  "C2H       : 2\n",
                  "C2H5O     : 4\n",
                  "C2H2O2    : 4\n",
                  "N2O       : 2\n",
                  "C2H5      : 3\n",
                  "C2H5O2    : 1\n",
                  "NO2       : 1\n",
                  "H2O       : 1\n",
                  "CH3       : 3\n",
                  "C2H4O2    : 2\n",
                  "CH4       : 4\n",
                  "C2HO2     : 2\n",
                  "CH2       : 2\n",
                  "H2N2      : 1\n",
                  "NO        : 3\n",
                  "N2HO      : 2\n",
                  "C2H4O     : 3\n",
                  "CN        : 1\n",
                  "C2O       : 3\n",
                  "N2H       : 1\n",
                  "NH        : 1\n",
                  "N2H2      : 1\n",
                  "C2H3O     : 3\n",
                  "O4N2      : 1\n",
                  "N         : 1\n",
                  "C2        : 1\n",
                  "C2H2O     : 1\n",
                  "O         : 1\n",
                  "NH3O      : 2\n",
                  "\n"
               ]
            }
         ],
         "source": [
            "symbols = []\n",
            "for gid in range(len(b.sid)):\n",
            "    a = torch.argwhere(b.batch == gid).squeeze()\n",
            "    t  = b.tags[a]\n",
            "    an = b.atomic_numbers[a][t == 2]\n",
            "    symbols.append(str(Atoms(numbers=[int(i) for i in an]).symbols))\n",
            "\n",
            "from collections import Counter\n",
            "\n",
            "sym_counts = Counter(symbols)\n",
            "print(\"H2O:\", sym_counts.get(\"H2O\", 0))\n",
            "print(\"H2:\", sym_counts.get(\"H2\", 0))\n",
            "print()\n",
            "print(dict2str(sym_counts, margin=10))"
         ]
      },
      {
         "cell_type": "code",
         "execution_count": null,
         "metadata": {},
         "outputs": [],
         "source": []
      },
      {
         "cell_type": "code",
         "execution_count": null,
         "metadata": {},
         "outputs": [],
         "source": []
      },
      {
         "cell_type": "code",
         "execution_count": null,
         "metadata": {},
         "outputs": [],
         "source": []
      },
      {
         "cell_type": "code",
         "execution_count": null,
         "metadata": {},
         "outputs": [],
         "source": []
      },
      {
         "cell_type": "code",
         "execution_count": null,
         "metadata": {},
         "outputs": [],
         "source": []
      },
      {
         "cell_type": "code",
         "execution_count": null,
         "metadata": {},
         "outputs": [],
         "source": []
      },
      {
         "cell_type": "code",
         "execution_count": 17,
         "metadata": {},
         "outputs": [],
         "source": [
            "# forward the batch, compute loss and metrics\n",
            "\n",
            "out = trainer._forward(batch)\n",
            "loss = trainer._compute_loss(out, batch)\n",
            "metrics = trainer.compute_metrics(\n",
            "    out,\n",
            "    batch,\n",
            "    trainer.evaluator,\n",
            "    metrics={},\n",
            ")\n"
         ]
      },
      {
         "cell_type": "code",
         "execution_count": 30,
         "metadata": {},
         "outputs": [
            {
               "name": "stdout",
               "output_type": "stream",
               "text": [
                  "dict_keys(['energy'])\n",
                  "torch.Size([64]) torch.float32\n",
                  "tensor(48.8437, device='cuda:0', grad_fn=<L1LossBackward0>)\n",
                  "energy_mae                    : \n",
                  "    metric                    : 111.33262634277344\n",
                  "    total                     : 7125.2880859375\n",
                  "    numel                     : 64\n",
                  "\n",
                  "energy_mse                    : \n",
                  "    metric                    : 21693.33984375\n",
                  "    total                     : 1388373.75\n",
                  "    numel                     : 64\n",
                  "\n",
                  "energy_within_threshold       : \n",
                  "    metric                    : 0.0\n",
                  "    total                     : 0\n",
                  "    numel                     : 64\n",
                  "\n",
                  "\n"
               ]
            }
         ],
         "source": [
            "# explore contents of predictions, loss, metrics\n",
            "\n",
            "print(out.keys())\n",
            "print(out[\"energy\"].shape, out[\"energy\"].dtype)\n",
            "print(loss)\n",
            "print(dict2str(metrics))"
         ]
      },
      {
         "cell_type": "markdown",
         "metadata": {},
         "source": [
            "## LMDBs"
         ]
      },
      {
         "cell_type": "code",
         "execution_count": 13,
         "metadata": {},
         "outputs": [],
         "source": [
            "def ls(p):\n",
            "\n",
            "    assert Path(p).is_dir()\n",
            "    return list(Path(p).iterdir())"
         ]
      },
      {
         "cell_type": "code",
         "execution_count": 14,
         "metadata": {},
         "outputs": [],
         "source": [
            "d = trainer.train_loader.dataset"
         ]
      },
      {
         "cell_type": "code",
         "execution_count": 15,
         "metadata": {},
         "outputs": [
            {
               "data": {
                  "text/plain": [
                     "PosixPath('/network/projects/_groups/ocp/oc20/is2re/10k/train/data.lmdb')"
                  ]
               },
               "execution_count": 15,
               "metadata": {},
               "output_type": "execute_result"
            }
         ],
         "source": [
            "d.path"
         ]
      },
      {
         "cell_type": "code",
         "execution_count": 16,
         "metadata": {},
         "outputs": [
            {
               "data": {
                  "text/plain": [
                     "[PosixPath('/network/projects/_groups/ocp/oc20/is2re/10k/train/data.lmdb-lock'),\n",
                     " PosixPath('/network/projects/_groups/ocp/oc20/is2re/10k/train/data.lmdb')]"
                  ]
               },
               "execution_count": 16,
               "metadata": {},
               "output_type": "execute_result"
            }
         ],
         "source": [
            "ls(d.path.parent)"
         ]
      },
      {
         "cell_type": "code",
         "execution_count": 17,
         "metadata": {},
         "outputs": [
            {
               "data": {
                  "text/plain": [
                     "<Environment at 0x7fcb07444210>"
                  ]
               },
               "execution_count": 17,
               "metadata": {},
               "output_type": "execute_result"
            }
         ],
         "source": [
            "d.env"
         ]
      },
      {
         "cell_type": "code",
         "execution_count": 18,
         "metadata": {},
         "outputs": [],
         "source": [
            "import lmdb\n",
            "\n"
         ]
      },
      {
         "cell_type": "code",
         "execution_count": 19,
         "metadata": {},
         "outputs": [
            {
               "data": {
                  "text/plain": [
                     "10000"
                  ]
               },
               "execution_count": 19,
               "metadata": {},
               "output_type": "execute_result"
            }
         ],
         "source": [
            "d.env.stat()[\"entries\"]"
         ]
      },
      {
         "cell_type": "code",
         "execution_count": 20,
         "metadata": {},
         "outputs": [
            {
               "data": {
                  "text/plain": [
                     "b'0'"
                  ]
               },
               "execution_count": 20,
               "metadata": {},
               "output_type": "execute_result"
            }
         ],
         "source": [
            "f\"{0}\".encode(\"ascii\")"
         ]
      },
      {
         "cell_type": "code",
         "execution_count": 21,
         "metadata": {},
         "outputs": [],
         "source": [
            "import pickle\n",
            "\n",
            "sample = pickle.loads(d.env.begin().get(f\"{0}\".encode(\"ascii\")))"
         ]
      },
      {
         "cell_type": "code",
         "execution_count": 26,
         "metadata": {},
         "outputs": [],
         "source": [
            "from torch_geometric.data import Data\n",
            "\n",
            "sample = Data(**{k: v for k, v in sample.__dict__.items() if v is not None})"
         ]
      },
      {
         "cell_type": "code",
         "execution_count": 27,
         "metadata": {},
         "outputs": [
            {
               "data": {
                  "text/plain": [
                     "Data(edge_index=[2, 2964], pos=[86, 3], cell=[1, 3, 3], atomic_numbers=[86], natoms=86, cell_offsets=[2964, 3], force=[86, 3], distances=[2964], fixed=[86], sid=2472718, tags=[86], y_init=6.282500615000004, y_relaxed=-0.025550085000020317, pos_relaxed=[86, 3])"
                  ]
               },
               "execution_count": 27,
               "metadata": {},
               "output_type": "execute_result"
            }
         ],
         "source": [
            "sample"
         ]
      },
      {
         "cell_type": "code",
         "execution_count": null,
         "metadata": {},
         "outputs": [],
         "source": []
      }
   ],
   "metadata": {
      "interpreter": {
         "hash": "4f2c5bf54521b1a83ada8aefbaac3b30bb3595b13a57b33ff84db64c4738a09f"
      },
      "kernelspec": {
         "display_name": "Python 3 (ocp-env)",
         "language": "python",
         "name": "ocp-env"
      },
      "language_info": {
         "codemirror_mode": {
            "name": "ipython",
            "version": 3
         },
         "file_extension": ".py",
         "mimetype": "text/x-python",
         "name": "python",
         "nbconvert_exporter": "python",
         "pygments_lexer": "ipython3",
         "version": "3.8.13"
      },
      "orig_nbformat": 4
   },
   "nbformat": 4,
   "nbformat_minor": 2
}