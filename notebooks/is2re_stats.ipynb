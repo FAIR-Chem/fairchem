{
 "cells": [
  {
   "cell_type": "code",
   "execution_count": 1,
   "metadata": {},
   "outputs": [],
   "source": [
    "import sys\n",
    "from pathlib import Path\n",
    "\n",
    "sys.path.append(str(Path().resolve().parent))"
   ]
  },
  {
   "cell_type": "code",
   "execution_count": 2,
   "metadata": {},
   "outputs": [
    {
     "data": {
      "text/plain": [
       "<torch.autograd.grad_mode.set_grad_enabled at 0x7fa29c5d1820>"
      ]
     },
     "execution_count": 2,
     "metadata": {},
     "output_type": "execute_result"
    }
   ],
   "source": [
    "from ocpmodels.common.utils import make_trainer_from_conf_str\n",
    "import numpy as np\n",
    "import torch\n",
    "import matplotlib.pyplot as plt\n",
    "import seaborn as sns\n",
    "from collections import defaultdict, Counter\n",
    "import pandas as pd\n",
    "import os\n",
    "from tqdm.notebook import tqdm\n",
    "\n",
    "from pymatgen.core.periodic_table import Element\n",
    "from pymatgen.core.composition import Composition\n",
    "\n",
    "torch.set_grad_enabled(False)"
   ]
  },
  {
   "cell_type": "code",
   "execution_count": 3,
   "metadata": {},
   "outputs": [],
   "source": [
    "def to_reduced_formula(list_of_z):\n",
    "    return Composition.from_dict(\n",
    "        Counter([Element.from_Z(i).symbol for i in list_of_z])\n",
    "    ).reduced_formula"
   ]
  },
  {
   "cell_type": "code",
   "execution_count": 4,
   "metadata": {},
   "outputs": [
    {
     "name": "stdout",
     "output_type": "stream",
     "text": [
      "🏭 Overriding num_workers from 4 to 23 to match the machine's CPUs. Use --no_cpus_to_workers=true to disable this behavior.\n",
      "Setting max_steps to  21578 from max_epochs (12), dataset length (460328), and batch_size (256)\n",
      "\n",
      "🗑️ Setting dropout_lin for output block to 0.0\n",
      "⛄️ No layer to freeze\n",
      "\n",
      "Using max_steps for scheduler -> 21578\n"
     ]
    }
   ],
   "source": [
    "trainer = make_trainer_from_conf_str(\n",
    "    \"faenet-is2re-all\",\n",
    "    overrides={\n",
    "        \"is_debug\": True,\n",
    "        \"graph_rewiring\": \"\",\n",
    "        \"optim\": {\n",
    "            \"batch_size\": 256,\n",
    "        },\n",
    "        \"task\": {\n",
    "            \"dataset\": \"stats_lmdb\",\n",
    "        }\n",
    "    },\n",
    ")"
   ]
  },
  {
   "cell_type": "code",
   "execution_count": 5,
   "metadata": {},
   "outputs": [],
   "source": [
    "batch = next(iter(trainer.loaders[\"train\"]))[0]"
   ]
  },
  {
   "cell_type": "code",
   "execution_count": 6,
   "metadata": {},
   "outputs": [
    {
     "name": "stdout",
     "output_type": "stream",
     "text": [
      "Data(\n",
      "  edge_index=[2, 2985],\n",
      "  pos=[65, 3],\n",
      "  cell=[1, 3, 3],\n",
      "  atomic_numbers=[65],\n",
      "  natoms=[1],\n",
      "  cell_offsets=[2985, 3],\n",
      "  force=[65, 3],\n",
      "  distances=[2985],\n",
      "  fixed=[65],\n",
      "  sid=[1],\n",
      "  tags=[65],\n",
      "  y_init=[1],\n",
      "  y_relaxed=[1],\n",
      "  pos_relaxed=[65, 3],\n",
      "  id='0_256684',\n",
      "  load_time=[1],\n",
      "  transform_time=[1],\n",
      "  total_get_time=[1],\n",
      "  idx_in_dataset=[1],\n",
      "  stats={\n",
      "    atomic_numbers_bulk=[64],\n",
      "    atomic_numbers_ads=[1],\n",
      "    composition_bulk='ZnSnN2',\n",
      "    composition_ads='H2',\n",
      "    idx_in_dataset=[1],\n",
      "    sid=[1],\n",
      "    y_relaxed=[1],\n",
      "    y_init=[1]\n",
      "  }\n",
      ")\n",
      "2077917\n"
     ]
    },
    {
     "data": {
      "text/plain": [
       "tensor([0, 1, 0, 0, 0, 0, 0, 1, 0, 1, 0, 0, 0, 0, 0, 1, 0, 1, 0, 0, 0, 0, 0, 1,\n",
       "        0, 0, 0, 0, 0, 0, 0, 0, 0, 0, 0, 1, 0, 0, 0, 0, 1, 0, 0, 0, 0, 0, 1, 0,\n",
       "        0, 1, 0, 1, 0, 0, 0, 1, 0, 1, 0, 0, 0, 0, 1, 0, 2])"
      ]
     },
     "execution_count": 6,
     "metadata": {},
     "output_type": "execute_result"
    }
   ],
   "source": [
    "sample = batch.to_data_list()[0]\n",
    "print(sample)\n",
    "print(sample.stats[\"sid\"][0])\n",
    "sample[\"tags\"]"
   ]
  },
  {
   "cell_type": "code",
   "execution_count": 7,
   "metadata": {},
   "outputs": [],
   "source": [
    "# %timeit to_reduced_formula(sample.atomic_numbers.int())\n"
   ]
  },
  {
   "cell_type": "code",
   "execution_count": 8,
   "metadata": {},
   "outputs": [],
   "source": [
    "# from multiprocessing import Pool\n",
    "\n",
    "\n",
    "# def make_entry(batch_list):\n",
    "#     batch = batch_list[0]\n",
    "#     entries = []\n",
    "#     for sample in batch.to_data_list():\n",
    "#         entries.append(\n",
    "#             {\n",
    "#                 \"atomic_numbers\": sample.atomic_numbers.int().tolist(),\n",
    "#                 \"composition\": to_reduced_formula(sample.atomic_numbers.int()),\n",
    "#                 \"idx_in_dataset\": sample.idx_in_dataset.item(),\n",
    "#                 \"sid\": sample.sid.item(),\n",
    "#                 \"y_relaxed\": sample.y_relaxed.item(),\n",
    "#                 \"y_init\": sample.y_init.item(),\n",
    "#             }\n",
    "#         )\n",
    "#     return entries\n",
    "\n",
    "\n",
    "# num_workers = trainer.loaders[\"train\"].num_workers * 2\n",
    "# # iterate over batches by chunks of n_workers\n",
    "# iterator = iter(trainer.loaders[\"train\"])\n",
    "# n_iters = len(trainer.loaders[\"train\"]) // num_workers\n",
    "# if len(trainer.loaders[\"train\"]) % num_workers != 0:\n",
    "#     n_iters += 1\n",
    "\n",
    "\n",
    "# entries = []\n",
    "# for _ in tqdm(range(n_iters)):\n",
    "#     batch_list = []\n",
    "#     for _ in tqdm(range(num_workers), leave=False):\n",
    "#         try:\n",
    "#             batch_list.append(next(iterator))\n",
    "#         except StopIteration:\n",
    "#             break\n",
    "#     with Pool(num_workers) as p:\n",
    "#         entries += sum(p.map(make_entry, batch_list), [])"
   ]
  },
  {
   "cell_type": "code",
   "execution_count": 9,
   "metadata": {},
   "outputs": [
    {
     "data": {
      "application/vnd.jupyter.widget-view+json": {
       "model_id": "342cec9a74884e2b86183bc9dbfd42e5",
       "version_major": 2,
       "version_minor": 0
      },
      "text/plain": [
       "  0%|          | 0/1799 [00:00<?, ?it/s]"
      ]
     },
     "metadata": {},
     "output_type": "display_data"
    }
   ],
   "source": [
    "entries = []\n",
    "for batch_list in tqdm(trainer.loaders[\"train\"]):\n",
    "    batch = batch_list[0]\n",
    "    entries.append(batch.stats)"
   ]
  },
  {
   "cell_type": "code",
   "execution_count": null,
   "metadata": {},
   "outputs": [],
   "source": []
  },
  {
   "cell_type": "code",
   "execution_count": 10,
   "metadata": {},
   "outputs": [
    {
     "data": {
      "application/vnd.jupyter.widget-view+json": {
       "model_id": "a7d1cad47bbd4505a0583316bb9b0abf",
       "version_major": 2,
       "version_minor": 0
      },
      "text/plain": [
       "  0%|          | 0/1799 [00:00<?, ?it/s]"
      ]
     },
     "metadata": {},
     "output_type": "display_data"
    },
    {
     "name": "stdout",
     "output_type": "stream",
     "text": [
      "atomic_numbers_bulk 460328\n",
      "atomic_numbers_ads 460328\n",
      "composition_bulk 460328\n",
      "composition_ads 460328\n",
      "idx_in_dataset 460328\n",
      "sid 460328\n",
      "y_relaxed 460328\n",
      "y_init 460328\n"
     ]
    }
   ],
   "source": [
    "flat_entries = {k: [] for k in entries[0]}\n",
    "for entry in tqdm(entries):\n",
    "    for k, v in entry.items():\n",
    "        if len(v[0]) == 1:\n",
    "            flat_entries[k] += [u[0] for u in v]\n",
    "        else:\n",
    "            flat_entries[k] += v\n",
    "for k, v in flat_entries.items():\n",
    "    print(k, len(v))"
   ]
  },
  {
   "cell_type": "code",
   "execution_count": 11,
   "metadata": {},
   "outputs": [
    {
     "name": "stdout",
     "output_type": "stream",
     "text": [
      "<class 'pandas.core.frame.DataFrame'>\n",
      "RangeIndex: 460328 entries, 0 to 460327\n",
      "Data columns (total 8 columns):\n",
      " #   Column               Non-Null Count   Dtype  \n",
      "---  ------               --------------   -----  \n",
      " 0   atomic_numbers_bulk  460328 non-null  object \n",
      " 1   atomic_numbers_ads   460328 non-null  object \n",
      " 2   composition_bulk     460328 non-null  object \n",
      " 3   composition_ads      460328 non-null  object \n",
      " 4   idx_in_dataset       460328 non-null  int64  \n",
      " 5   sid                  460328 non-null  int64  \n",
      " 6   y_relaxed            460328 non-null  float64\n",
      " 7   y_init               460328 non-null  float64\n",
      "dtypes: float64(2), int64(2), object(4)\n",
      "memory usage: 28.1+ MB\n"
     ]
    }
   ],
   "source": [
    "df = pd.DataFrame(flat_entries) # df = pd.read_json(\"/network/scratch/s/schmidtv/crystals-proxys/data/is2re/comp.json\")\n",
    "desc = df.describe()\n",
    "df.info()\n",
    "df.to_json(\"/network/scratch/s/schmidtv/crystals-proxys/data/is2re/comp.json\")\n",
    "desc.to_json(\"/network/scratch/s/schmidtv/crystals-proxys/data/is2re/description.json\")"
   ]
  },
  {
   "cell_type": "code",
   "execution_count": 3,
   "metadata": {},
   "outputs": [],
   "source": [
    "df = pd.read_json(\"/network/scratch/s/schmidtv/crystals-proxys/data/is2re/comp.json\")"
   ]
  },
  {
   "cell_type": "code",
   "execution_count": 4,
   "metadata": {},
   "outputs": [
    {
     "data": {
      "application/vnd.jupyter.widget-view+json": {
       "model_id": "a5213b2652df4f78b594f0aaf551d83a",
       "version_major": 2,
       "version_minor": 0
      },
      "text/plain": [
       "  0%|          | 0/460328 [00:00<?, ?it/s]"
      ]
     },
     "metadata": {},
     "output_type": "display_data"
    }
   ],
   "source": [
    "atoms = []\n",
    "for ats in tqdm(df.atomic_numbers):\n",
    "    atoms += ats"
   ]
  },
  {
   "cell_type": "code",
   "execution_count": 9,
   "metadata": {},
   "outputs": [],
   "source": [
    "atom_dist = Counter(atoms)\n",
    "atom_dist = {k: atom_dist[k] for k in sorted(atom_dist.keys())}\n",
    "atom_dist_named = {Element.from_Z(k).symbol: v for k, v in atom_dist.items()}"
   ]
  },
  {
   "cell_type": "code",
   "execution_count": 11,
   "metadata": {},
   "outputs": [
    {
     "data": {
      "text/plain": [
       "178539          HgAsHPd5CO\n",
       "73657           Ti12H29C2O\n",
       "351639        Bi7H6Pd14C2O\n",
       "42635     Fe3Ni3H5(Pt12C)2\n",
       "49087        Ag3Ge3H2CSe6O\n",
       "26536         Si11H5Rh17C2\n",
       "38661                CS18N\n",
       "443730           Hf17Ni28H\n",
       "220171            Bi9HIr4C\n",
       "139300          Ta8Pd16NO2\n",
       "Name: composition, dtype: object"
      ]
     },
     "execution_count": 11,
     "metadata": {},
     "output_type": "execute_result"
    }
   ],
   "source": [
    "df[\"composition\"].sample(10)"
   ]
  },
  {
   "cell_type": "code",
   "execution_count": 16,
   "metadata": {},
   "outputs": [],
   "source": [
    "import pickle as pkl"
   ]
  },
  {
   "cell_type": "code",
   "execution_count": 17,
   "metadata": {},
   "outputs": [],
   "source": [
    "bulk_db = pkl.load(open(\"/network/scratch/s/schmidtv/ocp/datasets/ocp/dataset-creation/bulk_db_flat_2021sep20.pkl\", \"rb\"))"
   ]
  },
  {
   "cell_type": "code",
   "execution_count": 18,
   "metadata": {},
   "outputs": [
    {
     "data": {
      "text/plain": [
       "11410"
      ]
     },
     "execution_count": 18,
     "metadata": {},
     "output_type": "execute_result"
    }
   ],
   "source": [
    "len(bulk_db)"
   ]
  },
  {
   "cell_type": "code",
   "execution_count": 16,
   "metadata": {},
   "outputs": [],
   "source": [
    "# distribution of atomic numbers with element names as xticks\n",
    "atomic_numbers_counter = Counter(sum(df.atomic_numbers.tolist(), []))"
   ]
  },
  {
   "cell_type": "code",
   "execution_count": 29,
   "metadata": {},
   "outputs": [
    {
     "data": {
      "text/plain": [
       "False"
      ]
     },
     "execution_count": 29,
     "metadata": {},
     "output_type": "execute_result"
    }
   ],
   "source": [
    "trainer.loaders[\"train\"].batch_sampler.drop_last"
   ]
  },
  {
   "cell_type": "code",
   "execution_count": 30,
   "metadata": {},
   "outputs": [
    {
     "data": {
      "text/plain": [
       "1799"
      ]
     },
     "execution_count": 30,
     "metadata": {},
     "output_type": "execute_result"
    }
   ],
   "source": [
    "len(trainer.loaders[\"train\"])"
   ]
  },
  {
   "cell_type": "code",
   "execution_count": 31,
   "metadata": {},
   "outputs": [
    {
     "ename": "TypeError",
     "evalue": "'DataLoader' object is not subscriptable",
     "output_type": "error",
     "traceback": [
      "\u001b[0;31m---------------------------------------------------------------------------\u001b[0m",
      "\u001b[0;31mTypeError\u001b[0m                                 Traceback (most recent call last)",
      "Cell \u001b[0;32mIn[31], line 1\u001b[0m\n\u001b[0;32m----> 1\u001b[0m \u001b[43mtrainer\u001b[49m\u001b[38;5;241;43m.\u001b[39;49m\u001b[43mloaders\u001b[49m\u001b[43m[\u001b[49m\u001b[38;5;124;43m\"\u001b[39;49m\u001b[38;5;124;43mtrain\u001b[39;49m\u001b[38;5;124;43m\"\u001b[39;49m\u001b[43m]\u001b[49m\u001b[43m[\u001b[49m\u001b[38;5;241;43m0\u001b[39;49m\u001b[43m]\u001b[49m\n",
      "\u001b[0;31mTypeError\u001b[0m: 'DataLoader' object is not subscriptable"
     ]
    }
   ],
   "source": []
  },
  {
   "cell_type": "code",
   "execution_count": null,
   "metadata": {},
   "outputs": [],
   "source": [
    "ce"
   ]
  }
 ],
 "metadata": {
  "kernelspec": {
   "display_name": "Python 3",
   "language": "python",
   "name": "python3"
  },
  "language_info": {
   "codemirror_mode": {
    "name": "ipython",
    "version": 3
   },
   "file_extension": ".py",
   "mimetype": "text/x-python",
   "name": "python",
   "nbconvert_exporter": "python",
   "pygments_lexer": "ipython3",
   "version": "3.8.16"
  }
 },
 "nbformat": 4,
 "nbformat_minor": 2
}
