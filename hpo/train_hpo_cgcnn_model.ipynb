{
 "cells": [
  {
   "cell_type": "markdown",
   "metadata": {},
   "source": [
    "# Initialization"
   ]
  },
  {
   "cell_type": "code",
   "execution_count": 1,
   "metadata": {},
   "outputs": [
    {
     "name": "stdout",
     "output_type": "stream",
     "text": [
      "Using GPU\n"
     ]
    }
   ],
   "source": [
    "import torch\n",
    "\n",
    "if torch.cuda.is_available():\n",
    "    device = torch.device('cuda')\n",
    "    print('Using GPU')\n",
    "else:\n",
    "    device = 'cpu'\n",
    "    print('Using CPU')"
   ]
  },
  {
   "cell_type": "code",
   "execution_count": 2,
   "metadata": {},
   "outputs": [],
   "source": [
    "import sys, os\n",
    "sys.path.append(\"/global/homes/b/bwood/machine_learning/ulissi_cnn/hpo/ocp_cgcnn/cgcnn\")"
   ]
  },
  {
   "cell_type": "code",
   "execution_count": 3,
   "metadata": {},
   "outputs": [],
   "source": [
    "from baselines.modules.normalizer import Normalizer\n",
    "from baselines.models.cgcnn import CGCNN\n",
    "from dataloader import ulissiDataset, get_data_loaders\n",
    "from train_hpo import train, validate"
   ]
  },
  {
   "cell_type": "code",
   "execution_count": 4,
   "metadata": {},
   "outputs": [],
   "source": [
    "#import pickle\n",
    "import os\n",
    "#from bisect import bisect\n",
    "\n",
    "#from torch_geometric.data import DataLoader, InMemoryDataset\n",
    "#import torch\n",
    "import torch.nn as nn\n",
    "import torch.optim as optim\n",
    "from torch.optim import lr_scheduler\n",
    "#from torch.utils.tensorboard import SummaryWriter\n",
    "from torch_geometric.nn import GCNConv, SAGEConv\n",
    "from torch.optim.lr_scheduler import MultiStepLR\n",
    "\n",
    "# From .py's\n",
    "#from normalizer import Normalizer\n",
    "#from models import GCN\n",
    "#from metrics import mae, AverageMeter\n",
    "#from layers import CGCNNConv as CGConv\n",
    "#from dataloader import CgcnnDataset, get_data_loaders\n",
    "#from train_hpo import train, validate\n",
    "#from train import Trainer"
   ]
  },
  {
   "cell_type": "code",
   "execution_count": 5,
   "metadata": {},
   "outputs": [],
   "source": [
    "train_size = 2560\n",
    "val_size = 640\n",
    "test_size = 800"
   ]
  },
  {
   "cell_type": "code",
   "execution_count": 6,
   "metadata": {},
   "outputs": [],
   "source": [
    "no_remain_batch_size = []\n",
    "for i in range(1, 120):\n",
    "    if float(train_size) % i == 0:\n",
    "        no_remain_batch_size.append(i)"
   ]
  },
  {
   "cell_type": "code",
   "execution_count": 7,
   "metadata": {},
   "outputs": [
    {
     "data": {
      "text/plain": [
       "[1, 2, 4, 5, 8, 10, 16, 20, 32, 40, 64, 80]"
      ]
     },
     "execution_count": 7,
     "metadata": {},
     "output_type": "execute_result"
    }
   ],
   "source": [
    "no_remain_batch_size"
   ]
  },
  {
   "cell_type": "markdown",
   "metadata": {},
   "source": [
    "# Load data and define normalizer"
   ]
  },
  {
   "cell_type": "code",
   "execution_count": 8,
   "metadata": {},
   "outputs": [],
   "source": [
    "save_dir = \"./voronoi_H_4k_data_splits\"\n",
    "if not os.path.exists(\"voronoi_H_4k_data_splits\"):\n",
    "    os.makedirs(save_dir)"
   ]
  },
  {
   "cell_type": "code",
   "execution_count": 9,
   "metadata": {},
   "outputs": [],
   "source": [
    "batch_size = 80"
   ]
  },
  {
   "cell_type": "code",
   "execution_count": 10,
   "metadata": {},
   "outputs": [],
   "source": [
    "train_loader, val_loader, test_loader = get_data_loaders(save_dir, batch_size)"
   ]
  },
  {
   "cell_type": "code",
   "execution_count": 11,
   "metadata": {},
   "outputs": [],
   "source": [
    "# Compute mean, std of training set labels.\n",
    "normalizer = Normalizer(train_loader.dataset.data.y, device)"
   ]
  },
  {
   "cell_type": "markdown",
   "metadata": {},
   "source": [
    "# Build model"
   ]
  },
  {
   "cell_type": "code",
   "execution_count": 12,
   "metadata": {},
   "outputs": [],
   "source": [
    "# Build model\n",
    "model = CGCNN(num_atoms=train_loader.dataset.data.x.shape[-1], \n",
    "              bond_feat_dim=train_loader.dataset.data.edge_attr.shape[-1], \n",
    "              num_targets=1, \n",
    "              atom_embedding_size=46, \n",
    "              num_graph_conv_layers=8, \n",
    "              fc_feat_size=83, \n",
    "              num_fc_layers=4).to(device)\n",
    "\n",
    "criterion = nn.L1Loss()\n",
    "optimizer = optim.Adam(model.parameters(), lr = 0.0056)\n",
    "scheduler = MultiStepLR(optimizer, milestones=[100], gamma=0.1)"
   ]
  },
  {
   "cell_type": "markdown",
   "metadata": {},
   "source": [
    "# Run model"
   ]
  },
  {
   "cell_type": "code",
   "execution_count": 13,
   "metadata": {},
   "outputs": [],
   "source": [
    "epochs = 150"
   ]
  },
  {
   "cell_type": "code",
   "execution_count": 14,
   "metadata": {},
   "outputs": [
    {
     "name": "stdout",
     "output_type": "stream",
     "text": [
      " * MAE 0.350\n",
      " * MAE 0.320\n",
      " * MAE 0.296\n",
      " * MAE 0.295\n",
      " * MAE 0.280\n",
      " * MAE 0.275\n",
      " * MAE 0.278\n",
      " * MAE 0.275\n",
      " * MAE 0.276\n",
      " * MAE 0.265\n",
      " * MAE 0.253\n",
      " * MAE 0.255\n",
      " * MAE 0.259\n",
      " * MAE 0.257\n",
      " * MAE 0.258\n",
      " * MAE 0.264\n",
      " * MAE 0.248\n",
      " * MAE 0.250\n",
      " * MAE 0.262\n",
      " * MAE 0.252\n",
      " * MAE 0.246\n",
      " * MAE 0.250\n",
      " * MAE 0.248\n",
      " * MAE 0.243\n",
      " * MAE 0.249\n",
      " * MAE 0.251\n",
      " * MAE 0.248\n",
      " * MAE 0.247\n",
      " * MAE 0.245\n",
      " * MAE 0.246\n",
      " * MAE 0.250\n",
      " * MAE 0.255\n",
      " * MAE 0.247\n",
      " * MAE 0.248\n",
      " * MAE 0.244\n",
      " * MAE 0.237\n",
      " * MAE 0.240\n",
      " * MAE 0.242\n",
      " * MAE 0.253\n",
      " * MAE 0.243\n",
      " * MAE 0.252\n",
      " * MAE 0.250\n",
      " * MAE 0.249\n",
      " * MAE 0.251\n",
      " * MAE 0.247\n",
      " * MAE 0.253\n",
      " * MAE 0.267\n",
      " * MAE 0.288\n",
      " * MAE 0.250\n",
      " * MAE 0.233\n",
      " * MAE 0.263\n",
      " * MAE 0.244\n",
      " * MAE 0.246\n",
      " * MAE 0.254\n",
      " * MAE 0.244\n",
      " * MAE 0.265\n",
      " * MAE 0.244\n",
      " * MAE 0.252\n",
      " * MAE 0.242\n",
      " * MAE 0.264\n",
      " * MAE 0.238\n",
      " * MAE 0.246\n",
      " * MAE 0.246\n",
      " * MAE 0.245\n",
      " * MAE 0.244\n",
      " * MAE 0.232\n",
      " * MAE 0.242\n",
      " * MAE 0.237\n",
      " * MAE 0.238\n",
      " * MAE 0.248\n",
      " * MAE 0.251\n",
      " * MAE 0.240\n",
      " * MAE 0.241\n",
      " * MAE 0.255\n",
      " * MAE 0.261\n",
      " * MAE 0.243\n",
      " * MAE 0.242\n",
      " * MAE 0.244\n",
      " * MAE 0.239\n",
      " * MAE 0.240\n",
      " * MAE 0.242\n",
      " * MAE 0.240\n",
      " * MAE 0.235\n",
      " * MAE 0.246\n",
      " * MAE 0.234\n",
      " * MAE 0.238\n",
      " * MAE 0.244\n",
      " * MAE 0.233\n",
      " * MAE 0.245\n",
      " * MAE 0.228\n",
      " * MAE 0.245\n",
      " * MAE 0.243\n",
      " * MAE 0.250\n",
      " * MAE 0.242\n",
      " * MAE 0.230\n",
      " * MAE 0.231\n",
      " * MAE 0.236\n",
      " * MAE 0.247\n",
      " * MAE 0.239\n",
      " * MAE 0.236\n",
      " * MAE 0.229\n",
      " * MAE 0.229\n",
      " * MAE 0.230\n",
      " * MAE 0.229\n",
      " * MAE 0.231\n",
      " * MAE 0.229\n",
      " * MAE 0.234\n",
      " * MAE 0.236\n",
      " * MAE 0.229\n",
      " * MAE 0.230\n",
      " * MAE 0.229\n",
      " * MAE 0.233\n",
      " * MAE 0.230\n",
      " * MAE 0.229\n",
      " * MAE 0.228\n",
      " * MAE 0.232\n",
      " * MAE 0.229\n",
      " * MAE 0.228\n",
      " * MAE 0.228\n",
      " * MAE 0.230\n",
      " * MAE 0.228\n",
      " * MAE 0.231\n",
      " * MAE 0.226\n",
      " * MAE 0.228\n",
      " * MAE 0.227\n",
      " * MAE 0.227\n",
      " * MAE 0.226\n",
      " * MAE 0.227\n",
      " * MAE 0.227\n",
      " * MAE 0.225\n",
      " * MAE 0.226\n",
      " * MAE 0.225\n",
      " * MAE 0.227\n",
      " * MAE 0.227\n",
      " * MAE 0.223\n",
      " * MAE 0.224\n",
      " * MAE 0.225\n",
      " * MAE 0.226\n",
      " * MAE 0.223\n",
      " * MAE 0.228\n",
      " * MAE 0.226\n",
      " * MAE 0.225\n",
      " * MAE 0.223\n",
      " * MAE 0.226\n",
      " * MAE 0.226\n",
      " * MAE 0.227\n",
      " * MAE 0.224\n",
      " * MAE 0.220\n",
      " * MAE 0.223\n",
      " * MAE 0.223\n"
     ]
    }
   ],
   "source": [
    "t_loss = [] \n",
    "t_mae = []\n",
    "v_loss = []\n",
    "v_mae = []\n",
    "for epoch in range(1, epochs + 1):\n",
    "        t_loss_i, t_mae_i = train(model, criterion, optimizer, train_loader, normalizer, device)\n",
    "        v_loss_i, v_mae_i = validate(model, criterion, optimizer, val_loader, normalizer, device, mae_print=True)\n",
    "        t_loss.append(t_loss_i)\n",
    "        t_mae.append(t_mae_i)\n",
    "        v_loss.append(v_loss_i)\n",
    "        v_mae.append(v_mae_i)\n",
    "        scheduler.step()"
   ]
  },
  {
   "cell_type": "code",
   "execution_count": 17,
   "metadata": {},
   "outputs": [],
   "source": [
    "%matplotlib inline\n",
    "\n",
    "import matplotlib\n",
    "import numpy as np\n",
    "import matplotlib.pyplot as plt"
   ]
  },
  {
   "cell_type": "code",
   "execution_count": 18,
   "metadata": {},
   "outputs": [
    {
     "data": {
      "text/plain": [
       "[<matplotlib.lines.Line2D at 0x2aab66e2fa90>,\n",
       " <matplotlib.lines.Line2D at 0x2aab66e2fbe0>]"
      ]
     },
     "execution_count": 18,
     "metadata": {},
     "output_type": "execute_result"
    },
    {
     "data": {
      "image/png": "[encoded data removed]",
      "text/plain": [
       "<Figure size 432x288 with 1 Axes>"
      ]
     },
     "metadata": {
      "needs_background": "light"
     },
     "output_type": "display_data"
    }
   ],
   "source": [
    "plt.plot(range(1,151), t_loss, range(1,151), v_loss)"
   ]
  },
  {
   "cell_type": "code",
   "execution_count": 19,
   "metadata": {},
   "outputs": [],
   "source": [
    "plt.rc('savefig',dpi=500)\n",
    "#plt.rc('font', family='Helvetica')\n",
    "plt.rcParams['pdf.fonttype'] = 42\n",
    "plt.rcParams['ps.fonttype'] = 42"
   ]
  },
  {
   "cell_type": "code",
   "execution_count": 20,
   "metadata": {},
   "outputs": [
    {
     "data": {
      "text/plain": [
       "<matplotlib.legend.Legend at 0x2aab66e94080>"
      ]
     },
     "execution_count": 20,
     "metadata": {},
     "output_type": "execute_result"
    },
    {
     "data": {
      "image/png": "[encoded data removed]",
      "text/plain": [
       "<Figure size 432x288 with 1 Axes>"
      ]
     },
     "metadata": {
      "needs_background": "light"
     },
     "output_type": "display_data"
    }
   ],
   "source": [
    "fig = plt.figure()\n",
    "ax = plt.subplot(111)\n",
    "ax.plot(range(1,151), t_loss, range(1,151), v_loss)\n",
    "#ax.plot(angles, list_kbt, '--')\n",
    "ax.set_xlabel('Epoch', fontsize=15)\n",
    "ax.set_ylabel('Loss', rotation=0, labelpad=30, fontsize=15)\n",
    "#ax.set_ylim(0.00, 0.14)\n",
    "ax.spines['right'].set_visible(False)\n",
    "ax.spines['top'].set_visible(False)\n",
    "plt.title('Torch CGCNN Model', fontsize=15)\n",
    "ax.legend(['train', 'validation'], frameon=False)\n",
    "#plt.savefig('./plots/torch_cgcnn_losses.pdf', bbox_inches='tight', transparent=True)"
   ]
  },
  {
   "cell_type": "code",
   "execution_count": 22,
   "metadata": {},
   "outputs": [
    {
     "data": {
      "text/plain": [
       "[<matplotlib.lines.Line2D at 0x2aab67113550>,\n",
       " <matplotlib.lines.Line2D at 0x2aab671136a0>]"
      ]
     },
     "execution_count": 22,
     "metadata": {},
     "output_type": "execute_result"
    },
    {
     "data": {
      "image/png": "[encoded data removed]",
      "text/plain": [
       "<Figure size 432x288 with 1 Axes>"
      ]
     },
     "metadata": {
      "needs_background": "light"
     },
     "output_type": "display_data"
    }
   ],
   "source": [
    "plt.plot(range(1,151), t_mae, range(1,151), v_mae)"
   ]
  },
  {
   "cell_type": "code",
   "execution_count": 33,
   "metadata": {},
   "outputs": [
    {
     "data": {
      "image/png": "[encoded data removed]",
      "text/plain": [
       "<Figure size 432x288 with 1 Axes>"
      ]
     },
     "metadata": {
      "needs_background": "light"
     },
     "output_type": "display_data"
    }
   ],
   "source": [
    "fig = plt.figure()\n",
    "ax = plt.subplot(111)\n",
    "ax.plot(range(1,151), t_mae, range(1,151), v_mae)\n",
    "#ax.plot(angles, list_kbt, '--')\n",
    "ax.set_xlabel('Epoch', fontsize=15)\n",
    "ax.set_ylabel('MAE (eV)', rotation=0, labelpad=40, fontsize=15)\n",
    "#ax.set_ylim(0.00, 0.14)\n",
    "ax.spines['right'].set_visible(False)\n",
    "ax.spines['top'].set_visible(False)\n",
    "plt.title('Torch CGCNN Model', fontsize=15)\n",
    "ax.legend(['train', 'validation'], frameon=False)\n",
    "#plt.savefig('./plots/torch_cgcnn_mae.pdf', bbox_inches='tight', transparent=True)"
   ]
  },
  {
   "cell_type": "code",
   "execution_count": 18,
   "metadata": {},
   "outputs": [],
   "source": [
    "#from baselines.common.meter import mae, Meter"
   ]
  },
  {
   "cell_type": "code",
   "execution_count": 19,
   "metadata": {},
   "outputs": [],
   "source": [
    "#test_meter = Meter()"
   ]
  },
  {
   "cell_type": "code",
   "execution_count": 20,
   "metadata": {},
   "outputs": [
    {
     "ename": "NameError",
     "evalue": "name 'test_meter' is not defined",
     "output_type": "error",
     "traceback": [
      "\u001b[0;31m---------------------------------------------------------------------------\u001b[0m",
      "\u001b[0;31mNameError\u001b[0m                                 Traceback (most recent call last)",
      "\u001b[0;32m<ipython-input-20-4a9f91403c9f>\u001b[0m in \u001b[0;36m<module>\u001b[0;34m\u001b[0m\n\u001b[1;32m      4\u001b[0m     \u001b[0;34m\"mae\"\u001b[0m\u001b[0;34m:\u001b[0m \u001b[0mmae_error\u001b[0m\u001b[0;34m,\u001b[0m\u001b[0;34m\u001b[0m\u001b[0;34m\u001b[0m\u001b[0m\n\u001b[1;32m      5\u001b[0m }\n\u001b[0;32m----> 6\u001b[0;31m \u001b[0mtest_meter\u001b[0m\u001b[0;34m.\u001b[0m\u001b[0mupdate\u001b[0m\u001b[0;34m(\u001b[0m\u001b[0mmeter_update_dict\u001b[0m\u001b[0;34m)\u001b[0m\u001b[0;34m\u001b[0m\u001b[0;34m\u001b[0m\u001b[0m\n\u001b[0m",
      "\u001b[0;31mNameError\u001b[0m: name 'test_meter' is not defined"
     ]
    }
   ],
   "source": [
    "mae_error = 4.8\n",
    "# Update meter \n",
    "meter_update_dict = { \n",
    "    \"mae\": mae_error, \n",
    "}\n",
    "test_meter.update(meter_update_dict)"
   ]
  },
  {
   "cell_type": "code",
   "execution_count": null,
   "metadata": {},
   "outputs": [],
   "source": [
    "mae_error = 3.4\n",
    "# Update meter \n",
    "meter_update_dict = { \n",
    "    \"mae\": mae_error, \n",
    "}\n",
    "test_meter.update(meter_update_dict)"
   ]
  },
  {
   "cell_type": "code",
   "execution_count": null,
   "metadata": {},
   "outputs": [],
   "source": [
    "mae_error = 2.9\n",
    "# Update meter \n",
    "meter_update_dict = { \n",
    "    \"mae\": mae_error, \n",
    "}\n",
    "test_meter.update(meter_update_dict)"
   ]
  },
  {
   "cell_type": "code",
   "execution_count": null,
   "metadata": {},
   "outputs": [],
   "source": [
    "test_meter.mae.global_avg"
   ]
  },
  {
   "cell_type": "code",
   "execution_count": null,
   "metadata": {},
   "outputs": [],
   "source": [
    "list_a = []"
   ]
  },
  {
   "cell_type": "code",
   "execution_count": null,
   "metadata": {},
   "outputs": [],
   "source": []
  }
 ],
 "metadata": {
  "kernelspec": {
   "display_name": "ulissi_torch_v1.4.0_gpu [conda env:v1.4.0-gpu]",
   "language": "python",
   "name": "conda-env-v1.4.0-gpu-py"
  },
  "language_info": {
   "codemirror_mode": {
    "name": "ipython",
    "version": 3
   },
   "file_extension": ".py",
   "mimetype": "text/x-python",
   "name": "python",
   "nbconvert_exporter": "python",
   "pygments_lexer": "ipython3",
   "version": "3.6.10"
  }
 },
 "nbformat": 4,
 "nbformat_minor": 4
}
