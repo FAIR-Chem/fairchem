{
 "cells": [
  {
   "cell_type": "markdown",
   "id": "controversial-lodge",
   "metadata": {},
   "source": [
    "### OCP LMDB Dataset Tutorial\n",
    "\n",
    "This notebook provides an overview of how to create LMDB datasets to be used with the OCP repo. This tutorial is intended for those who wish to use OCP to train on their own datasets. Those interested in just using OCP data need not worry about these steps as they've been automated as part of the download script: https://github.com/Open-Catalyst-Project/ocp/blob/master/scripts/download_data.py."
   ]
  },
  {
   "cell_type": "code",
   "execution_count": 22,
   "id": "cardiac-message",
   "metadata": {},
   "outputs": [],
   "source": [
    "from ocpmodels.preprocessing import AtomsToGraphs\n",
    "from ocpmodels.datasets import SinglePointLmdbDataset, TrajectoryLmdbDataset\n",
    "import ase.io\n",
    "from ase.build import bulk\n",
    "from ase.build import fcc100, add_adsorbate, molecule\n",
    "from ase.constraints import FixAtoms\n",
    "from ase.calculators.emt import EMT\n",
    "from ase.optimize import BFGS\n",
    "import lmdb\n",
    "import pickle\n",
    "from tqdm import tqdm\n",
    "import torch\n",
    "import os"
   ]
  },
  {
   "cell_type": "markdown",
   "id": "municipal-passenger",
   "metadata": {},
   "source": [
    "### Generate toy dataset: Relaxation of CO on Cu"
   ]
  },
  {
   "cell_type": "code",
   "execution_count": 3,
   "id": "amended-thread",
   "metadata": {},
   "outputs": [
    {
     "data": {
      "text/plain": [
       "False"
      ]
     },
     "execution_count": 3,
     "metadata": {},
     "output_type": "execute_result"
    }
   ],
   "source": [
    "adslab = fcc100(\"Cu\", size=(2, 2, 3))\n",
    "ads = molecule(\"CO\")\n",
    "add_adsorbate(adslab, ads, 3, offset=(1, 1))\n",
    "cons = FixAtoms(indices=[atom.index for atom in adslab if (atom.tag == 3)])\n",
    "adslab.set_constraint(cons)\n",
    "adslab.center(vacuum=13.0, axis=2)\n",
    "adslab.set_pbc(True)\n",
    "adslab.set_calculator(EMT())\n",
    "dyn = BFGS(adslab, trajectory=\"CuCO_adslab.traj\", logfile=None)\n",
    "dyn.run(fmax=0, steps=1000)"
   ]
  },
  {
   "cell_type": "code",
   "execution_count": 2,
   "id": "voluntary-hotel",
   "metadata": {},
   "outputs": [
    {
     "data": {
      "text/plain": [
       "1001"
      ]
     },
     "execution_count": 2,
     "metadata": {},
     "output_type": "execute_result"
    }
   ],
   "source": [
    "raw_data = ase.io.read(\"CuCO_adslab.traj\", \":\")\n",
    "len(raw_data)"
   ]
  },
  {
   "cell_type": "markdown",
   "id": "quality-renewal",
   "metadata": {},
   "source": [
    "### Initial Structure to Relaxed Energy/Structure (IS2RE/IS2RS) LMDBs\n",
    "\n",
    "IS2RE/IS2RS LMDBs utilize the SinglePointLmdb dataset. This dataset expects the data to be contained in a SINGLE LMDB file. In addition to the attributes defined by AtomsToGraph, the following attributes must be added for the IS2RE/IS2RS tasks:\n",
    "\n",
    "- pos_relaxed: Relaxed adslab positions\n",
    "- sid: Unique system identifier, arbitrary\n",
    "- y_init: Initial adslab energy, formerly Data.y\n",
    "- y_relaxed: Relaxed adslab energy\n",
    "- tags (optional): 0 - subsurface, 1 - surface, 2 - adsorbate\n",
    "\n",
    "\n",
    "As a demo, we will use the above generated data to create an IS2R* LMDB file."
   ]
  },
  {
   "cell_type": "markdown",
   "id": "different-produce",
   "metadata": {},
   "source": [
    "#### Initialize AtomsToGraph feature extractor"
   ]
  },
  {
   "cell_type": "code",
   "execution_count": 12,
   "id": "strange-acquisition",
   "metadata": {},
   "outputs": [],
   "source": [
    "a2g = AtomsToGraphs(\n",
    "    max_neigh=50,\n",
    "    radius=6,\n",
    "    r_energy=True,    # False for test data\n",
    "    r_forces=True,\n",
    "    r_distances=False,\n",
    "    r_fixed=True,\n",
    ")"
   ]
  },
  {
   "cell_type": "markdown",
   "id": "manual-seventh",
   "metadata": {},
   "source": [
    "#### Initialize LMDB file"
   ]
  },
  {
   "cell_type": "code",
   "execution_count": 4,
   "id": "binding-grain",
   "metadata": {},
   "outputs": [],
   "source": [
    "db = lmdb.open(\n",
    "    \"sample_CuCO.lmdb\",\n",
    "    map_size=1099511627776 * 2,\n",
    "    subdir=False,\n",
    "    meminit=False,\n",
    "    map_async=True,\n",
    ")"
   ]
  },
  {
   "cell_type": "markdown",
   "id": "alpha-haiti",
   "metadata": {},
   "source": [
    "#### Write data to LMDB"
   ]
  },
  {
   "cell_type": "code",
   "execution_count": 5,
   "id": "sophisticated-verification",
   "metadata": {},
   "outputs": [],
   "source": [
    "def read_trajectory_extract_features(a2g, traj_path):\n",
    "    traj = ase.io.read(traj_path, \":\")\n",
    "    images = [traj[0], traj[-1]]\n",
    "    data_objects = a2g.convert_all(images, disable_tqdm=True)\n",
    "    return data_objects"
   ]
  },
  {
   "cell_type": "code",
   "execution_count": 6,
   "id": "useful-exposure",
   "metadata": {},
   "outputs": [],
   "source": [
    "system_paths = [\"CuCO_adslab.traj\"]\n",
    "idx = 0\n",
    "\n",
    "for system in system_paths:\n",
    "    # Extract Data object\n",
    "    data_objects = read_trajectory_extract_features(a2g, system)\n",
    "    initial_struc = data_objects[0]\n",
    "    relaxed_struc = data_objects[1]\n",
    "    \n",
    "    initial_struc.y_init = initial_struc.y # subtract off reference energy, if applicable\n",
    "    del initial_struc.y\n",
    "    initial_struc.y_relaxed = relaxed_struc.y # subtract off reference energy, if applicable\n",
    "    initial_struc.pos_relaxed = relaxed_struc.pos\n",
    "    \n",
    "    # Filter data if necessary\n",
    "    # OCP filters adsorption energies > |10| eV\n",
    "    \n",
    "    initial_struc.sid = idx  # arbitrary unique identifier \n",
    "    \n",
    "    # no neighbor edge case check\n",
    "    if data.edge_index.shape[1] == 0:\n",
    "    print(\"no neighbors\", traj_path)\n",
    "    continue\n",
    "    \n",
    "    # Write to LMDB\n",
    "    txn = db.begin(write=True)\n",
    "    txn.put(f\"{idx}\".encode(\"ascii\"), pickle.dumps(initial_struc, protocol=-1))\n",
    "    txn.commit()\n",
    "    db.sync()\n",
    "    idx += 1\n",
    "\n",
    "db.close()"
   ]
  },
  {
   "cell_type": "code",
   "execution_count": 8,
   "id": "failing-election",
   "metadata": {},
   "outputs": [
    {
     "data": {
      "text/plain": [
       "1"
      ]
     },
     "execution_count": 8,
     "metadata": {},
     "output_type": "execute_result"
    }
   ],
   "source": [
    "dataset = SinglePointLmdbDataset({\"src\": \"sample_CuCO.lmdb\"})\n",
    "len(dataset)"
   ]
  },
  {
   "cell_type": "code",
   "execution_count": 9,
   "id": "synthetic-recipient",
   "metadata": {},
   "outputs": [
    {
     "data": {
      "text/plain": [
       "Data(atomic_numbers=[14], cell=[1, 3, 3], cell_offsets=[636, 3], edge_index=[2, 636], fixed=[14], force=[14, 3], natoms=14, pos=[14, 3], pos_relaxed=[14, 3], sid=0, y_init=3.989314410668539, y_relaxed=3.9683558933957266)"
      ]
     },
     "execution_count": 9,
     "metadata": {},
     "output_type": "execute_result"
    }
   ],
   "source": [
    "dataset[0]"
   ]
  },
  {
   "cell_type": "markdown",
   "id": "governing-liabilities",
   "metadata": {},
   "source": [
    "### Structure to Energy and Forces (S2EF) LMDBs\n",
    "\n",
    "S2EF LMDBs utilize the TrajectoryLmdb dataset. This dataset expects a directory of LMDB files. In addition to the attributes defined by AtomsToGraph, the following attributes must be added for the S2EF task:\n",
    "\n",
    "- tags (optional): 0 - subsurface, 1 - surface, 2 - adsorbate\n",
    "- fid: Frame index along the trajcetory\n",
    "- sid- sid: Unique system identifier, arbitrary\n",
    "\n",
    "Additionally, a \"length\" key must be added to each LMDB file.\n",
    "\n",
    "As a demo, we will use the above generated data to create an S2EF LMDB dataset"
   ]
  },
  {
   "cell_type": "code",
   "execution_count": 27,
   "id": "addressed-underground",
   "metadata": {},
   "outputs": [],
   "source": [
    "os.makedirs(\"s2ef\", exist_ok=True)\n",
    "db = lmdb.open(\n",
    "    \"s2ef/sample_CuCO.lmdb\",\n",
    "    map_size=1099511627776 * 2,\n",
    "    subdir=False,\n",
    "    meminit=False,\n",
    "    map_async=True,\n",
    ")"
   ]
  },
  {
   "cell_type": "code",
   "execution_count": 28,
   "id": "adjustable-environment",
   "metadata": {},
   "outputs": [
    {
     "name": "stderr",
     "output_type": "stream",
     "text": [
      "100%|██████████| 1001/1001 [00:05<00:00, 177.34it/s]\n"
     ]
    }
   ],
   "source": [
    "data_objects = a2g.convert_all(raw_data, disable_tqdm=True)\n",
    "\n",
    "\n",
    "for fid, data in tqdm(enumerate(data_objects), total=len(data_objects)):\n",
    "    #assign sid\n",
    "    data.sid = torch.LongTensor([0])\n",
    "    \n",
    "    #assign fid\n",
    "    data.fid = torch.LongTensor([fid])\n",
    "    \n",
    "    #assign tags, if available\n",
    "    #data.tags = torch.LongTensor([...])\n",
    "    \n",
    "    # Filter data if necessary\n",
    "    # OCP filters adsorption energies > |10| eV and forces > |50| eV/A\n",
    "\n",
    "    # no neighbor edge case check\n",
    "    if data.edge_index.shape[1] == 0:\n",
    "        print(\"no neighbors\", traj_path)\n",
    "        continue\n",
    "\n",
    "    txn = db.begin(write=True)\n",
    "    txn.put(f\"{fid}\".encode(\"ascii\"), pickle.dumps(data, protocol=-1))\n",
    "    txn.commit()\n",
    "    \n",
    "txn = db.begin(write=True)\n",
    "txn.put(f\"length\".encode(\"ascii\"), pickle.dumps(len(data_objects), protocol=-1))\n",
    "txn.commit()\n",
    "\n",
    "\n",
    "db.sync()\n",
    "db.close()"
   ]
  },
  {
   "cell_type": "code",
   "execution_count": 32,
   "id": "infectious-approval",
   "metadata": {},
   "outputs": [
    {
     "data": {
      "text/plain": [
       "1001"
      ]
     },
     "execution_count": 32,
     "metadata": {},
     "output_type": "execute_result"
    }
   ],
   "source": [
    "dataset = TrajectoryLmdbDataset({\"src\": \"s2ef/\"})\n",
    "len(dataset)"
   ]
  },
  {
   "cell_type": "code",
   "execution_count": 34,
   "id": "drawn-script",
   "metadata": {},
   "outputs": [
    {
     "data": {
      "text/plain": [
       "Data(atomic_numbers=[14], cell=[1, 3, 3], cell_offsets=[636, 3], edge_index=[2, 636], fid=[1], fixed=[14], force=[14, 3], id=\"0_0\", natoms=14, pos=[14, 3], sid=[1], y=3.989314410668539)"
      ]
     },
     "execution_count": 34,
     "metadata": {},
     "output_type": "execute_result"
    }
   ],
   "source": [
    "dataset[0]"
   ]
  },
  {
   "cell_type": "markdown",
   "id": "fiscal-mother",
   "metadata": {},
   "source": [
    "#### Advanced usage\n",
    "\n",
    "TrajectoryLmdbDataset supports multiple LMDB files because the need to highly parallelize the dataset construction process. With OCP's largest split containing 135M+ frames, the need to parallelize the LMDB generation process for these was necessary. If you find yourself needing to deal with very large datasets we recommend parallelizing this process."
   ]
  }
 ],
 "metadata": {
  "kernelspec": {
   "display_name": "ocp-models",
   "language": "python",
   "name": "ocp-models"
  },
  "language_info": {
   "codemirror_mode": {
    "name": "ipython",
    "version": 3
   },
   "file_extension": ".py",
   "mimetype": "text/x-python",
   "name": "python",
   "nbconvert_exporter": "python",
   "pygments_lexer": "ipython3",
   "version": "3.6.12"
  }
 },
 "nbformat": 4,
 "nbformat_minor": 5
}
