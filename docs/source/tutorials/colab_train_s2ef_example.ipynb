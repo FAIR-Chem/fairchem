{
  "nbformat": 4,
  "nbformat_minor": 0,
  "metadata": {
    "colab": {
      "name": "train_s2ef_example.ipynb",
      "provenance": [],
      "collapsed_sections": [],
      "toc_visible": true,
      "include_colab_link": true
    },
    "kernelspec": {
      "name": "python3",
      "display_name": "Python 3"
    },
    "accelerator": "GPU"
  },
  "cells": [
    {
      "cell_type": "markdown",
      "metadata": {
        "id": "view-in-github",
        "colab_type": "text"
      },
      "source": [
        "<a href=\"https://colab.research.google.com/github/elliottower/ocp/blob/696DS-Spring21/docs/source/tutorials/colab_train_s2ef_example.ipynb\" target=\"_parent\"><img src=\"https://colab.research.google.com/assets/colab-badge.svg\" alt=\"Open In Colab\"/></a>"
      ]
    },
    {
      "cell_type": "markdown",
      "metadata": {
        "id": "Y5oqjNlMi7Py"
      },
      "source": [
        "# SchNet S2EF training example"
      ]
    },
    {
      "cell_type": "markdown",
      "metadata": {
        "id": "GpgHMav3i7P3"
      },
      "source": [
        "The purpose of this notebook is to demonstrate some of the basics of the Open Catalyst Project's (OCP) codebase and data. In this example, we will train a schnet model for predicting the energy and forces of a given structure (S2EF task). First, ensure you have installed the OCP ocp repo and all the dependencies according to the [README](https://github.com/Open-Catalyst-Project/ocp/blob/master/README.md)."
      ]
    },
    {
      "cell_type": "markdown",
      "metadata": {
        "id": "4ubMCLc4i7P4"
      },
      "source": [
        "Disclaimer: This notebook is for tutorial purposes, it is unlikely it will be practical to train baseline models on our larger datasets using this format. As a next step, we recommend trying the command line examples. "
      ]
    },
    {
      "cell_type": "markdown",
      "metadata": {
        "id": "pEEuwEDEi7P4"
      },
      "source": [
        "## Environment Setup"
      ]
    },
    {
      "cell_type": "code",
      "metadata": {
        "colab": {
          "base_uri": "https://localhost:8080/"
        },
        "id": "YWEHigi6U8Wz",
        "outputId": "dd477589-21e2-48e5-f5c2-e0bfa0de1923"
      },
      "source": [
        "# Clone OCP repo and install PyTorch\r\n",
        "!git clone https://github.com/Open-Catalyst-Project/ocp.git \r\n",
        "!pip3 install torch==1.6.0 torchvision==0.7.0 -f https://download.pytorch.org/whl/cu101/torch_stable.html"
      ],
      "execution_count": 3,
      "outputs": [
        {
          "output_type": "stream",
          "text": [
            "Cloning into 'ocp'...\n",
            "remote: Enumerating objects: 89, done.\u001b[K\n",
            "remote: Counting objects:   1% (1/89)\u001b[K\rremote: Counting objects:   2% (2/89)\u001b[K\rremote: Counting objects:   3% (3/89)\u001b[K\rremote: Counting objects:   4% (4/89)\u001b[K\rremote: Counting objects:   5% (5/89)\u001b[K\rremote: Counting objects:   6% (6/89)\u001b[K\rremote: Counting objects:   7% (7/89)\u001b[K\rremote: Counting objects:   8% (8/89)\u001b[K\rremote: Counting objects:  10% (9/89)\u001b[K\rremote: Counting objects:  11% (10/89)\u001b[K\rremote: Counting objects:  12% (11/89)\u001b[K\rremote: Counting objects:  13% (12/89)\u001b[K\rremote: Counting objects:  14% (13/89)\u001b[K\rremote: Counting objects:  15% (14/89)\u001b[K\rremote: Counting objects:  16% (15/89)\u001b[K\rremote: Counting objects:  17% (16/89)\u001b[K\rremote: Counting objects:  19% (17/89)\u001b[K\rremote: Counting objects:  20% (18/89)\u001b[K\rremote: Counting objects:  21% (19/89)\u001b[K\rremote: Counting objects:  22% (20/89)\u001b[K\rremote: Counting objects:  23% (21/89)\u001b[K\rremote: Counting objects:  24% (22/89)\u001b[K\rremote: Counting objects:  25% (23/89)\u001b[K\rremote: Counting objects:  26% (24/89)\u001b[K\rremote: Counting objects:  28% (25/89)\u001b[K\rremote: Counting objects:  29% (26/89)\u001b[K\rremote: Counting objects:  30% (27/89)\u001b[K\rremote: Counting objects:  31% (28/89)\u001b[K\rremote: Counting objects:  32% (29/89)\u001b[K\rremote: Counting objects:  33% (30/89)\u001b[K\rremote: Counting objects:  34% (31/89)\u001b[K\rremote: Counting objects:  35% (32/89)\u001b[K\rremote: Counting objects:  37% (33/89)\u001b[K\rremote: Counting objects:  38% (34/89)\u001b[K\rremote: Counting objects:  39% (35/89)\u001b[K\rremote: Counting objects:  40% (36/89)\u001b[K\rremote: Counting objects:  41% (37/89)\u001b[K\rremote: Counting objects:  42% (38/89)\u001b[K\rremote: Counting objects:  43% (39/89)\u001b[K\rremote: Counting objects:  44% (40/89)\u001b[K\rremote: Counting objects:  46% (41/89)\u001b[K\rremote: Counting objects:  47% (42/89)\u001b[K\rremote: Counting objects:  48% (43/89)\u001b[K\rremote: Counting objects:  49% (44/89)\u001b[K\rremote: Counting objects:  50% (45/89)\u001b[K\rremote: Counting objects:  51% (46/89)\u001b[K\rremote: Counting objects:  52% (47/89)\u001b[K\rremote: Counting objects:  53% (48/89)\u001b[K\rremote: Counting objects:  55% (49/89)\u001b[K\rremote: Counting objects:  56% (50/89)\u001b[K\rremote: Counting objects:  57% (51/89)\u001b[K\rremote: Counting objects:  58% (52/89)\u001b[K\rremote: Counting objects:  59% (53/89)\u001b[K\rremote: Counting objects:  60% (54/89)\u001b[K\rremote: Counting objects:  61% (55/89)\u001b[K\rremote: Counting objects:  62% (56/89)\u001b[K\rremote: Counting objects:  64% (57/89)\u001b[K\rremote: Counting objects:  65% (58/89)\u001b[K\rremote: Counting objects:  66% (59/89)\u001b[K\rremote: Counting objects:  67% (60/89)\u001b[K\rremote: Counting objects:  68% (61/89)\u001b[K\rremote: Counting objects:  69% (62/89)\u001b[K\rremote: Counting objects:  70% (63/89)\u001b[K\rremote: Counting objects:  71% (64/89)\u001b[K\rremote: Counting objects:  73% (65/89)\u001b[K\rremote: Counting objects:  74% (66/89)\u001b[K\rremote: Counting objects:  75% (67/89)\u001b[K\rremote: Counting objects:  76% (68/89)\u001b[K\rremote: Counting objects:  77% (69/89)\u001b[K\rremote: Counting objects:  78% (70/89)\u001b[K\rremote: Counting objects:  79% (71/89)\u001b[K\rremote: Counting objects:  80% (72/89)\u001b[K\rremote: Counting objects:  82% (73/89)\u001b[K\rremote: Counting objects:  83% (74/89)\u001b[K\rremote: Counting objects:  84% (75/89)\u001b[K\rremote: Counting objects:  85% (76/89)\u001b[K\rremote: Counting objects:  86% (77/89)\u001b[K\rremote: Counting objects:  87% (78/89)\u001b[K\rremote: Counting objects:  88% (79/89)\u001b[K\rremote: Counting objects:  89% (80/89)\u001b[K\rremote: Counting objects:  91% (81/89)\u001b[K\rremote: Counting objects:  92% (82/89)\u001b[K\rremote: Counting objects:  93% (83/89)\u001b[K\rremote: Counting objects:  94% (84/89)\u001b[K\rremote: Counting objects:  95% (85/89)\u001b[K\rremote: Counting objects:  96% (86/89)\u001b[K\rremote: Counting objects:  97% (87/89)\u001b[K\rremote: Counting objects:  98% (88/89)\u001b[K\rremote: Counting objects: 100% (89/89)\u001b[K\rremote: Counting objects: 100% (89/89), done.\u001b[K\n",
            "remote: Compressing objects: 100% (88/88), done.\u001b[K\n",
            "remote: Total 5118 (delta 60), reused 4 (delta 1), pack-reused 5029\u001b[K\n",
            "Receiving objects: 100% (5118/5118), 98.82 MiB | 35.59 MiB/s, done.\n",
            "Resolving deltas: 100% (3495/3495), done.\n",
            "Looking in links: https://download.pytorch.org/whl/cu101/torch_stable.html\n",
            "Collecting torch==1.6.0\n",
            "\u001b[?25l  Downloading https://download.pytorch.org/whl/cu101/torch-1.6.0%2Bcu101-cp36-cp36m-linux_x86_64.whl (708.0MB)\n",
            "\u001b[K     |████████████████████████████████| 708.0MB 26kB/s \n",
            "\u001b[?25hCollecting torchvision==0.7.0\n",
            "\u001b[?25l  Downloading https://download.pytorch.org/whl/cu101/torchvision-0.7.0%2Bcu101-cp36-cp36m-linux_x86_64.whl (5.9MB)\n",
            "\u001b[K     |████████████████████████████████| 5.9MB 5.0MB/s \n",
            "\u001b[?25hRequirement already satisfied: numpy in /usr/local/lib/python3.6/dist-packages (from torch==1.6.0) (1.19.5)\n",
            "Requirement already satisfied: future in /usr/local/lib/python3.6/dist-packages (from torch==1.6.0) (0.16.0)\n",
            "Requirement already satisfied: pillow>=4.1.1 in /usr/local/lib/python3.6/dist-packages (from torchvision==0.7.0) (7.0.0)\n",
            "Installing collected packages: torch, torchvision\n",
            "  Found existing installation: torch 1.7.0+cu101\n",
            "    Uninstalling torch-1.7.0+cu101:\n",
            "      Successfully uninstalled torch-1.7.0+cu101\n",
            "  Found existing installation: torchvision 0.8.1+cu101\n",
            "    Uninstalling torchvision-0.8.1+cu101:\n",
            "      Successfully uninstalled torchvision-0.8.1+cu101\n",
            "Successfully installed torch-1.6.0+cu101 torchvision-0.7.0+cu101\n"
          ],
          "name": "stdout"
        }
      ]
    },
    {
      "cell_type": "code",
      "metadata": {
        "id": "6r4hkM7HNMno",
        "colab": {
          "base_uri": "https://localhost:8080/",
          "height": 1000
        },
        "outputId": "057383e5-bbd9-43dd-e96b-982d0b0f3ede"
      },
      "source": [
        "# Install OCP dependencies\r\n",
        "!pip3 install -r ./ocp/docs/source/tutorials/colab_requirements.txt"
      ],
      "execution_count": 5,
      "outputs": [
        {
          "output_type": "stream",
          "text": [
            "Requirement already satisfied: absl-py==0.10.0 in /usr/local/lib/python3.6/dist-packages (from -r ./ocp/docs/source/tutorials/colab_requirements.txt (line 1)) (0.10.0)\n",
            "Collecting aiohttp==3.7.3\n",
            "\u001b[?25l  Downloading https://files.pythonhosted.org/packages/ad/e6/d4b6235d776c9b33f853e603efede5aac5a34f71ca9d3877adb30492eb4e/aiohttp-3.7.3-cp36-cp36m-manylinux2014_x86_64.whl (1.3MB)\n",
            "\u001b[K     |████████████████████████████████| 1.3MB 17.4MB/s \n",
            "\u001b[?25hCollecting aiohttp-cors==0.7.0\n",
            "  Downloading https://files.pythonhosted.org/packages/13/e7/e436a0c0eb5127d8b491a9b83ecd2391c6ff7dcd5548dfaec2080a2340fd/aiohttp_cors-0.7.0-py3-none-any.whl\n",
            "Collecting aioredis==1.3.1\n",
            "\u001b[?25l  Downloading https://files.pythonhosted.org/packages/b0/64/1b1612d0a104f21f80eb4c6e1b6075f2e6aba8e228f46f229cfd3fdac859/aioredis-1.3.1-py3-none-any.whl (65kB)\n",
            "\u001b[K     |████████████████████████████████| 71kB 11.7MB/s \n",
            "\u001b[?25hRequirement already satisfied: alabaster==0.7.12 in /usr/local/lib/python3.6/dist-packages (from -r ./ocp/docs/source/tutorials/colab_requirements.txt (line 5)) (0.7.12)\n",
            "Requirement already satisfied: appdirs==1.4.4 in /usr/local/lib/python3.6/dist-packages (from -r ./ocp/docs/source/tutorials/colab_requirements.txt (line 6)) (1.4.4)\n",
            "Collecting APScheduler==3.6.3\n",
            "\u001b[?25l  Downloading https://files.pythonhosted.org/packages/f3/34/9ef20ed473c4fd2c3df54ef77a27ae3fc7500b16b192add4720cab8b2c09/APScheduler-3.6.3-py2.py3-none-any.whl (58kB)\n",
            "\u001b[K     |████████████████████████████████| 61kB 9.6MB/s \n",
            "\u001b[?25hRequirement already satisfied: argon2-cffi==20.1.0 in /usr/local/lib/python3.6/dist-packages (from -r ./ocp/docs/source/tutorials/colab_requirements.txt (line 8)) (20.1.0)\n",
            "Collecting ase==3.19.1\n",
            "\u001b[?25l  Downloading https://files.pythonhosted.org/packages/d0/70/a8b1a7831193aa228defd805891c534d3e4717c8988147522e673458ddce/ase-3.19.1-py3-none-any.whl (2.1MB)\n",
            "\u001b[K     |████████████████████████████████| 2.1MB 57.2MB/s \n",
            "\u001b[?25hRequirement already satisfied: async-generator==1.10 in /usr/local/lib/python3.6/dist-packages (from -r ./ocp/docs/source/tutorials/colab_requirements.txt (line 10)) (1.10)\n",
            "Collecting async-timeout==3.0.1\n",
            "  Downloading https://files.pythonhosted.org/packages/e1/1e/5a4441be21b0726c4464f3f23c8b19628372f606755a9d2e46c187e65ec4/async_timeout-3.0.1-py3-none-any.whl\n",
            "Requirement already satisfied: attrs==20.3.0 in /usr/local/lib/python3.6/dist-packages (from -r ./ocp/docs/source/tutorials/colab_requirements.txt (line 12)) (20.3.0)\n",
            "Requirement already satisfied: Babel==2.9.0 in /usr/local/lib/python3.6/dist-packages (from -r ./ocp/docs/source/tutorials/colab_requirements.txt (line 13)) (2.9.0)\n",
            "Requirement already satisfied: backcall==0.2.0 in /usr/local/lib/python3.6/dist-packages (from -r ./ocp/docs/source/tutorials/colab_requirements.txt (line 14)) (0.2.0)\n",
            "Collecting beautifulsoup4==4.9.3\n",
            "\u001b[?25l  Downloading https://files.pythonhosted.org/packages/d1/41/e6495bd7d3781cee623ce23ea6ac73282a373088fcd0ddc809a047b18eae/beautifulsoup4-4.9.3-py3-none-any.whl (115kB)\n",
            "\u001b[K     |████████████████████████████████| 122kB 60.8MB/s \n",
            "\u001b[?25hCollecting black==20.8b1\n",
            "\u001b[?25l  Downloading https://files.pythonhosted.org/packages/dc/7b/5a6bbe89de849f28d7c109f5ea87b65afa5124ad615f3419e71beb29dc96/black-20.8b1.tar.gz (1.1MB)\n",
            "\u001b[K     |████████████████████████████████| 1.1MB 48.0MB/s \n",
            "\u001b[?25h  Installing build dependencies ... \u001b[?25l\u001b[?25hdone\n",
            "  Getting requirements to build wheel ... \u001b[?25l\u001b[?25hdone\n",
            "    Preparing wheel metadata ... \u001b[?25l\u001b[?25hdone\n",
            "Requirement already satisfied: bleach==3.3.0 in /usr/local/lib/python3.6/dist-packages (from -r ./ocp/docs/source/tutorials/colab_requirements.txt (line 17)) (3.3.0)\n",
            "Collecting blessings==1.7\n",
            "  Downloading https://files.pythonhosted.org/packages/03/74/489f85a78247609c6b4f13733cbf3ba0d864b11aa565617b645d6fdf2a4a/blessings-1.7-py3-none-any.whl\n",
            "Collecting brotlipy==0.7.0\n",
            "\u001b[?25l  Downloading https://files.pythonhosted.org/packages/b8/e6/be86d2d6565fcf4bd82cca288ac1e264a50dbfa41bef86b63b5d69252fca/brotlipy-0.7.0-cp36-cp36m-manylinux1_x86_64.whl (920kB)\n",
            "\u001b[K     |████████████████████████████████| 921kB 52.4MB/s \n",
            "\u001b[?25hCollecting cached-property==1.5.2\n",
            "  Downloading https://files.pythonhosted.org/packages/48/19/f2090f7dad41e225c7f2326e4cfe6fff49e57dedb5b53636c9551f86b069/cached_property-1.5.2-py2.py3-none-any.whl\n",
            "Requirement already satisfied: cachetools==4.2.1 in /usr/local/lib/python3.6/dist-packages (from -r ./ocp/docs/source/tutorials/colab_requirements.txt (line 21)) (4.2.1)\n",
            "Collecting certifi==2020.6.20\n",
            "\u001b[?25l  Downloading https://files.pythonhosted.org/packages/5e/c4/6c4fe722df5343c33226f0b4e0bb042e4dc13483228b4718baf286f86d87/certifi-2020.6.20-py2.py3-none-any.whl (156kB)\n",
            "\u001b[K     |████████████████████████████████| 163kB 44.5MB/s \n",
            "\u001b[?25hCollecting cffi==1.14.5\n",
            "\u001b[?25l  Downloading https://files.pythonhosted.org/packages/2b/cf/9a3b04e57191a970836aeaa8b2075574f02fbdb65d6368457a2f13213e7f/cffi-1.14.5-cp36-cp36m-manylinux1_x86_64.whl (401kB)\n",
            "\u001b[K     |████████████████████████████████| 409kB 57.4MB/s \n",
            "\u001b[?25hCollecting cfgv==3.2.0\n",
            "  Downloading https://files.pythonhosted.org/packages/45/cd/3878c9248e59e5e2ebd0dc741ab984b18d86e7283ae9b127b05fc287d239/cfgv-3.2.0-py2.py3-none-any.whl\n",
            "Collecting cftime==1.4.1\n",
            "\u001b[?25l  Downloading https://files.pythonhosted.org/packages/21/65/b5a4965862b5d4a9347050f31f1a13c4ec873ebec92d52c958b9d57753f2/cftime-1.4.1-cp36-cp36m-manylinux2014_x86_64.whl (316kB)\n",
            "\u001b[K     |████████████████████████████████| 317kB 55.4MB/s \n",
            "\u001b[?25hRequirement already satisfied: chardet==3.0.4 in /usr/local/lib/python3.6/dist-packages (from -r ./ocp/docs/source/tutorials/colab_requirements.txt (line 26)) (3.0.4)\n",
            "Requirement already satisfied: click==7.1.2 in /usr/local/lib/python3.6/dist-packages (from -r ./ocp/docs/source/tutorials/colab_requirements.txt (line 27)) (7.1.2)\n",
            "Collecting cloudpickle==1.6.0\n",
            "  Downloading https://files.pythonhosted.org/packages/e7/e3/898487e5dbeb612054cf2e0c188463acb358167fef749c53c8bb8918cea1/cloudpickle-1.6.0-py3-none-any.whl\n",
            "Collecting colorama==0.4.4\n",
            "  Downloading https://files.pythonhosted.org/packages/44/98/5b86278fbbf250d239ae0ecb724f8572af1c91f4a11edf4d36a206189440/colorama-0.4.4-py2.py3-none-any.whl\n",
            "Collecting colorful==0.5.4\n",
            "\u001b[?25l  Downloading https://files.pythonhosted.org/packages/b0/8e/e386e248266952d24d73ed734c2f5513f34d9557032618c8910e605dfaf6/colorful-0.5.4-py2.py3-none-any.whl (201kB)\n",
            "\u001b[K     |████████████████████████████████| 204kB 63.4MB/s \n",
            "\u001b[?25hCollecting configparser==5.0.1\n",
            "  Downloading https://files.pythonhosted.org/packages/08/b2/ef713e0e67f6e7ec7d59aea3ee78d05b39c15930057e724cc6d362a8c3bb/configparser-5.0.1-py3-none-any.whl\n",
            "Collecting contextvars==2.4\n",
            "  Downloading https://files.pythonhosted.org/packages/83/96/55b82d9f13763be9d672622e1b8106c85acb83edd7cc2fa5bc67cd9877e9/contextvars-2.4.tar.gz\n",
            "Collecting cryptography==3.4.4\n",
            "\u001b[?25l  Downloading https://files.pythonhosted.org/packages/a6/a1/49543f8ae3165c598e6c1393c54f9af8eaf7111f86e769ab4b897cdcf096/cryptography-3.4.4-cp36-abi3-manylinux2014_x86_64.whl (3.2MB)\n",
            "\u001b[K     |████████████████████████████████| 3.2MB 49.3MB/s \n",
            "\u001b[?25hRequirement already satisfied: cycler==0.10.0 in /usr/local/lib/python3.6/dist-packages (from -r ./ocp/docs/source/tutorials/colab_requirements.txt (line 34)) (0.10.0)\n",
            "Collecting dataclasses==0.7\n",
            "  Downloading https://files.pythonhosted.org/packages/e1/d2/6f02df2616fd4016075f60157c7a0452b38d8f7938ae94343911e0fb0b09/dataclasses-0.7-py3-none-any.whl\n",
            "Requirement already satisfied: decorator==4.4.2 in /usr/local/lib/python3.6/dist-packages (from -r ./ocp/docs/source/tutorials/colab_requirements.txt (line 36)) (4.4.2)\n",
            "Requirement already satisfied: defusedxml==0.6.0 in /usr/local/lib/python3.6/dist-packages (from -r ./ocp/docs/source/tutorials/colab_requirements.txt (line 37)) (0.6.0)\n",
            "Collecting demjson==2.2.4\n",
            "\u001b[?25l  Downloading https://files.pythonhosted.org/packages/96/67/6db789e2533158963d4af689f961b644ddd9200615b8ce92d6cad695c65a/demjson-2.2.4.tar.gz (131kB)\n",
            "\u001b[K     |████████████████████████████████| 133kB 51.9MB/s \n",
            "\u001b[?25hCollecting distlib==0.3.1\n",
            "\u001b[?25l  Downloading https://files.pythonhosted.org/packages/f5/0a/490fa011d699bb5a5f3a0cf57de82237f52a6db9d40f33c53b2736c9a1f9/distlib-0.3.1-py2.py3-none-any.whl (335kB)\n",
            "\u001b[K     |████████████████████████████████| 337kB 52.5MB/s \n",
            "\u001b[?25hCollecting docker-pycreds==0.4.0\n",
            "  Downloading https://files.pythonhosted.org/packages/f5/e8/f6bd1eee09314e7e6dee49cbe2c5e22314ccdb38db16c9fc72d2fa80d054/docker_pycreds-0.4.0-py2.py3-none-any.whl\n",
            "Requirement already satisfied: docutils==0.16 in /usr/local/lib/python3.6/dist-packages (from -r ./ocp/docs/source/tutorials/colab_requirements.txt (line 41)) (0.16)\n",
            "Requirement already satisfied: editdistance==0.5.3 in /usr/local/lib/python3.6/dist-packages (from -r ./ocp/docs/source/tutorials/colab_requirements.txt (line 42)) (0.5.3)\n",
            "Requirement already satisfied: entrypoints==0.3 in /usr/local/lib/python3.6/dist-packages (from -r ./ocp/docs/source/tutorials/colab_requirements.txt (line 43)) (0.3)\n",
            "Collecting folium==0.2.1\n",
            "\u001b[?25l  Downloading https://files.pythonhosted.org/packages/72/dd/75ced7437bfa7cb9a88b96ee0177953062803c3b4cde411a97d98c35adaf/folium-0.2.1.tar.gz (69kB)\n",
            "\u001b[K     |████████████████████████████████| 71kB 12.3MB/s \n",
            "\u001b[?25hRequirement already satisfied: filelock==3.0.12 in /usr/local/lib/python3.6/dist-packages (from -r ./ocp/docs/source/tutorials/colab_requirements.txt (line 45)) (3.0.12)\n",
            "Requirement already satisfied: Flask==1.1.2 in /usr/local/lib/python3.6/dist-packages (from -r ./ocp/docs/source/tutorials/colab_requirements.txt (line 46)) (1.1.2)\n",
            "Collecting future==0.18.2\n",
            "\u001b[?25l  Downloading https://files.pythonhosted.org/packages/45/0b/38b06fd9b92dc2b68d58b75f900e97884c45bedd2ff83203d933cf5851c9/future-0.18.2.tar.gz (829kB)\n",
            "\u001b[K     |████████████████████████████████| 829kB 45.0MB/s \n",
            "\u001b[?25hCollecting gitdb==4.0.5\n",
            "\u001b[?25l  Downloading https://files.pythonhosted.org/packages/48/11/d1800bca0a3bae820b84b7d813ad1eff15a48a64caea9c823fc8c1b119e8/gitdb-4.0.5-py3-none-any.whl (63kB)\n",
            "\u001b[K     |████████████████████████████████| 71kB 11.9MB/s \n",
            "\u001b[?25hCollecting GitPython==3.1.13\n",
            "\u001b[?25l  Downloading https://files.pythonhosted.org/packages/fb/67/47a04d8a9d7f94645676fe683f1ee3fe9be01fe407686c180768a92abaac/GitPython-3.1.13-py3-none-any.whl (159kB)\n",
            "\u001b[K     |████████████████████████████████| 163kB 63.2MB/s \n",
            "\u001b[?25hCollecting google-api-core==1.26.0\n",
            "\u001b[?25l  Downloading https://files.pythonhosted.org/packages/c8/3f/f7faa8a96408167c03d6fe07e2bee9b383ec18a7a1117d32912eb0c1b78f/google_api_core-1.26.0-py2.py3-none-any.whl (92kB)\n",
            "\u001b[K     |████████████████████████████████| 102kB 16.0MB/s \n",
            "\u001b[?25hCollecting google-auth==1.26.1\n",
            "\u001b[?25l  Downloading https://files.pythonhosted.org/packages/f7/78/d15c9579274d5d06f11e351edfdac36c4e09d42550f5de083b4b77155421/google_auth-1.26.1-py2.py3-none-any.whl (116kB)\n",
            "\u001b[K     |████████████████████████████████| 122kB 62.8MB/s \n",
            "\u001b[?25hRequirement already satisfied: googleapis-common-protos==1.52.0 in /usr/local/lib/python3.6/dist-packages (from -r ./ocp/docs/source/tutorials/colab_requirements.txt (line 53)) (1.52.0)\n",
            "Requirement already satisfied: googledrivedownloader==0.4 in /usr/local/lib/python3.6/dist-packages (from -r ./ocp/docs/source/tutorials/colab_requirements.txt (line 54)) (0.4)\n",
            "Collecting gpustat==0.6.0\n",
            "\u001b[?25l  Downloading https://files.pythonhosted.org/packages/b4/69/d8c849715171aeabd61af7da080fdc60948b5a396d2422f1f4672e43d008/gpustat-0.6.0.tar.gz (78kB)\n",
            "\u001b[K     |████████████████████████████████| 81kB 13.5MB/s \n",
            "\u001b[?25hCollecting gpytorch==1.2.0\n",
            "\u001b[?25l  Downloading https://files.pythonhosted.org/packages/6f/2f/6343548d88284ebf18d241dee12d0975cd7dbdee63c0fb749b23c8f536a1/gpytorch-1.2.0.tar.gz (274kB)\n",
            "\u001b[K     |████████████████████████████████| 276kB 56.5MB/s \n",
            "\u001b[?25hRequirement already satisfied: grpcio==1.32.0 in /usr/local/lib/python3.6/dist-packages (from -r ./ocp/docs/source/tutorials/colab_requirements.txt (line 57)) (1.32.0)\n",
            "Requirement already satisfied: h5py==2.10.0 in /usr/local/lib/python3.6/dist-packages (from -r ./ocp/docs/source/tutorials/colab_requirements.txt (line 58)) (2.10.0)\n",
            "Collecting hiredis==1.1.0\n",
            "\u001b[?25l  Downloading https://files.pythonhosted.org/packages/ed/7d/6acf1c8d4f2fb327ff6feec000b4c56a20628fbe966a4c7cd16c0b80343c/hiredis-1.1.0-cp36-cp36m-manylinux2010_x86_64.whl (61kB)\n",
            "\u001b[K     |████████████████████████████████| 61kB 8.9MB/s \n",
            "\u001b[?25hCollecting identify==1.5.13\n",
            "\u001b[?25l  Downloading https://files.pythonhosted.org/packages/1c/38/ba246c1c12f7413cdbb680a3a0af235fba8416f66536d60c593665c13da3/identify-1.5.13-py2.py3-none-any.whl (97kB)\n",
            "\u001b[K     |████████████████████████████████| 102kB 14.1MB/s \n",
            "\u001b[?25hRequirement already satisfied: idna==2.10 in /usr/local/lib/python3.6/dist-packages (from -r ./ocp/docs/source/tutorials/colab_requirements.txt (line 61)) (2.10)\n",
            "Collecting idna-ssl==1.1.0\n",
            "  Downloading https://files.pythonhosted.org/packages/46/03/07c4894aae38b0de52b52586b24bf189bb83e4ddabfe2e2c8f2419eec6f4/idna-ssl-1.1.0.tar.gz\n",
            "Requirement already satisfied: imagesize==1.2.0 in /usr/local/lib/python3.6/dist-packages (from -r ./ocp/docs/source/tutorials/colab_requirements.txt (line 63)) (1.2.0)\n",
            "Collecting imgaug==0.2.6\n",
            "\u001b[?25l  Downloading https://files.pythonhosted.org/packages/ad/2e/748dbb7bb52ec8667098bae9b585f448569ae520031932687761165419a2/imgaug-0.2.6.tar.gz (631kB)\n",
            "\u001b[K     |████████████████████████████████| 634kB 52.2MB/s \n",
            "\u001b[?25hCollecting immutables==0.15\n",
            "\u001b[?25l  Downloading https://files.pythonhosted.org/packages/4a/52/e64a14a99c509cbdfe0405e9f076aef0331cb9548a3efa1d5bacd524978a/immutables-0.15-cp36-cp36m-manylinux1_x86_64.whl (100kB)\n",
            "\u001b[K     |████████████████████████████████| 102kB 14.9MB/s \n",
            "\u001b[?25hRequirement already satisfied: importlib-metadata==3.4.0 in /usr/local/lib/python3.6/dist-packages (from -r ./ocp/docs/source/tutorials/colab_requirements.txt (line 66)) (3.4.0)\n",
            "Requirement already satisfied: importlib-resources==5.1.0 in /usr/local/lib/python3.6/dist-packages (from -r ./ocp/docs/source/tutorials/colab_requirements.txt (line 67)) (5.1.0)\n",
            "Requirement already satisfied: ipython-genutils==0.2.0 in /usr/local/lib/python3.6/dist-packages (from -r ./ocp/docs/source/tutorials/colab_requirements.txt (line 68)) (0.2.0)\n",
            "Requirement already satisfied: ipywidgets==7.6.3 in /usr/local/lib/python3.6/dist-packages (from -r ./ocp/docs/source/tutorials/colab_requirements.txt (line 69)) (7.6.3)\n",
            "Collecting isodate==0.6.0\n",
            "\u001b[?25l  Downloading https://files.pythonhosted.org/packages/9b/9f/b36f7774ff5ea8e428fdcfc4bb332c39ee5b9362ddd3d40d9516a55221b2/isodate-0.6.0-py2.py3-none-any.whl (45kB)\n",
            "\u001b[K     |████████████████████████████████| 51kB 8.9MB/s \n",
            "\u001b[?25hRequirement already satisfied: itsdangerous==1.1.0 in /usr/local/lib/python3.6/dist-packages (from -r ./ocp/docs/source/tutorials/colab_requirements.txt (line 71)) (1.1.0)\n",
            "Requirement already satisfied: jedi==0.18.0 in /usr/local/lib/python3.6/dist-packages (from -r ./ocp/docs/source/tutorials/colab_requirements.txt (line 72)) (0.18.0)\n",
            "Requirement already satisfied: Jinja2==2.11.3 in /usr/local/lib/python3.6/dist-packages (from -r ./ocp/docs/source/tutorials/colab_requirements.txt (line 73)) (2.11.3)\n",
            "Collecting joblib==1.0.1\n",
            "\u001b[?25l  Downloading https://files.pythonhosted.org/packages/55/85/70c6602b078bd9e6f3da4f467047e906525c355a4dacd4f71b97a35d9897/joblib-1.0.1-py3-none-any.whl (303kB)\n",
            "\u001b[K     |████████████████████████████████| 307kB 56.9MB/s \n",
            "\u001b[?25hCollecting jsonschema==3.2.0\n",
            "\u001b[?25l  Downloading https://files.pythonhosted.org/packages/c5/8f/51e89ce52a085483359217bc72cdbf6e75ee595d5b1d4b5ade40c7e018b8/jsonschema-3.2.0-py2.py3-none-any.whl (56kB)\n",
            "\u001b[K     |████████████████████████████████| 61kB 10.6MB/s \n",
            "\u001b[?25hRequirement already satisfied: jupyter==1.0.0 in /usr/local/lib/python3.6/dist-packages (from -r ./ocp/docs/source/tutorials/colab_requirements.txt (line 76)) (1.0.0)\n",
            "Collecting jupyter-client==6.1.11\n",
            "\u001b[?25l  Downloading https://files.pythonhosted.org/packages/83/d6/30aed7ef13ff3f359e99626c1b0a32ebbc3bf9b9d5616ec46e9e245d5fa9/jupyter_client-6.1.11-py3-none-any.whl (108kB)\n",
            "\u001b[K     |████████████████████████████████| 112kB 59.5MB/s \n",
            "\u001b[?25hRequirement already satisfied: jupyter-console in /usr/local/lib/python3.6/dist-packages (from -r ./ocp/docs/source/tutorials/colab_requirements.txt (line 78)) (5.2.0)\n",
            "Requirement already satisfied: jupyter-core==4.7.1 in /usr/local/lib/python3.6/dist-packages (from -r ./ocp/docs/source/tutorials/colab_requirements.txt (line 79)) (4.7.1)\n",
            "Requirement already satisfied: jupyterlab-pygments==0.1.2 in /usr/local/lib/python3.6/dist-packages (from -r ./ocp/docs/source/tutorials/colab_requirements.txt (line 80)) (0.1.2)\n",
            "Requirement already satisfied: jupyterlab-widgets==1.0.0 in /usr/local/lib/python3.6/dist-packages (from -r ./ocp/docs/source/tutorials/colab_requirements.txt (line 81)) (1.0.0)\n",
            "Requirement already satisfied: kiwisolver==1.3.1 in /usr/local/lib/python3.6/dist-packages (from -r ./ocp/docs/source/tutorials/colab_requirements.txt (line 82)) (1.3.1)\n",
            "Collecting latexcodec==2.0.1\n",
            "  Downloading https://files.pythonhosted.org/packages/0a/76/9552dfc6b74c2d6c3f199e927d41998dc1e561b7cbe4af7e7247388e17e8/latexcodec-2.0.1-py2.py3-none-any.whl\n",
            "Collecting llvmlite==0.35.0\n",
            "\u001b[?25l  Downloading https://files.pythonhosted.org/packages/9f/94/f05040ee3ec199c827a38426d78d0af9274c1e18ec9a592bb40954c952c8/llvmlite-0.35.0-cp36-cp36m-manylinux2010_x86_64.whl (25.3MB)\n",
            "\u001b[K     |████████████████████████████████| 25.3MB 1.6MB/s \n",
            "\u001b[?25hCollecting lmdb==1.0.0\n",
            "\u001b[?25l  Downloading https://files.pythonhosted.org/packages/63/49/3c7bead9dcea2cdc57a91bb1f83d4d28166cdf5b0d35d6b876541b3b114b/lmdb-1.0.0-cp36-cp36m-manylinux1_x86_64.whl (278kB)\n",
            "\u001b[K     |████████████████████████████████| 286kB 58.1MB/s \n",
            "\u001b[?25hRequirement already satisfied: Markdown==3.3.3 in /usr/local/lib/python3.6/dist-packages (from -r ./ocp/docs/source/tutorials/colab_requirements.txt (line 86)) (3.3.3)\n",
            "Requirement already satisfied: MarkupSafe==1.1.1 in /usr/local/lib/python3.6/dist-packages (from -r ./ocp/docs/source/tutorials/colab_requirements.txt (line 87)) (1.1.1)\n",
            "Collecting matplotlib==3.3.4\n",
            "\u001b[?25l  Downloading https://files.pythonhosted.org/packages/09/03/b7b30fa81cb687d1178e085d0f01111ceaea3bf81f9330c937fb6f6c8ca0/matplotlib-3.3.4-cp36-cp36m-manylinux1_x86_64.whl (11.5MB)\n",
            "\u001b[K     |████████████████████████████████| 11.5MB 49.6MB/s \n",
            "\u001b[?25hRequirement already satisfied: mistune==0.8.4 in /usr/local/lib/python3.6/dist-packages (from -r ./ocp/docs/source/tutorials/colab_requirements.txt (line 89)) (0.8.4)\n",
            "Requirement already satisfied: mkl in /usr/local/lib/python3.6/dist-packages (from -r ./ocp/docs/source/tutorials/colab_requirements.txt (line 90)) (2019.0)\n",
            "Collecting monty==4.0.2\n",
            "\u001b[?25l  Downloading https://files.pythonhosted.org/packages/eb/ce/fb3da79f73d6f914204af8fd4965ad32b23097baf33c1b709e32a1bfae3f/monty-4.0.2-py3-none-any.whl (62kB)\n",
            "\u001b[K     |████████████████████████████████| 71kB 11.1MB/s \n",
            "\u001b[?25hRequirement already satisfied: more-itertools==8.7.0 in /usr/local/lib/python3.6/dist-packages (from -r ./ocp/docs/source/tutorials/colab_requirements.txt (line 92)) (8.7.0)\n",
            "Collecting mpmath==1.2.1\n",
            "\u001b[?25l  Downloading https://files.pythonhosted.org/packages/d4/cf/3965bddbb4f1a61c49aacae0e78fd1fe36b5dc36c797b31f30cf07dcbbb7/mpmath-1.2.1-py3-none-any.whl (532kB)\n",
            "\u001b[K     |████████████████████████████████| 542kB 58.6MB/s \n",
            "\u001b[?25hRequirement already satisfied: msgpack==1.0.2 in /usr/local/lib/python3.6/dist-packages (from -r ./ocp/docs/source/tutorials/colab_requirements.txt (line 94)) (1.0.2)\n",
            "Collecting multidict==5.1.0\n",
            "\u001b[?25l  Downloading https://files.pythonhosted.org/packages/a1/35/b22524d6b9cacfb4c5eff413a069bbc17c6ea628e54da5c6c989998ced5f/multidict-5.1.0-cp36-cp36m-manylinux2014_x86_64.whl (141kB)\n",
            "\u001b[K     |████████████████████████████████| 143kB 58.3MB/s \n",
            "\u001b[?25hCollecting mypy-extensions==0.4.3\n",
            "  Downloading https://files.pythonhosted.org/packages/5c/eb/975c7c080f3223a5cdaff09612f3a5221e4ba534f7039db34c35d95fa6a5/mypy_extensions-0.4.3-py2.py3-none-any.whl\n",
            "Requirement already satisfied: nbclient==0.5.2 in /usr/local/lib/python3.6/dist-packages (from -r ./ocp/docs/source/tutorials/colab_requirements.txt (line 97)) (0.5.2)\n",
            "Collecting nbconvert==6.0.7\n",
            "\u001b[?25l  Downloading https://files.pythonhosted.org/packages/13/2f/acbe7006548f3914456ee47f97a2033b1b2f3daf921b12ac94105d87c163/nbconvert-6.0.7-py3-none-any.whl (552kB)\n",
            "\u001b[K     |████████████████████████████████| 552kB 58.6MB/s \n",
            "\u001b[?25hRequirement already satisfied: nbformat==5.1.2 in /usr/local/lib/python3.6/dist-packages (from -r ./ocp/docs/source/tutorials/colab_requirements.txt (line 99)) (5.1.2)\n",
            "Collecting nbsphinx==0.8.1\n",
            "  Downloading https://files.pythonhosted.org/packages/1b/1d/b65dff2f8dc45460e77cef7bb8b761444ecf25759d847c955db02277eb3a/nbsphinx-0.8.1-py3-none-any.whl\n",
            "Collecting nest-asyncio==1.4.3\n",
            "  Downloading https://files.pythonhosted.org/packages/5c/33/10805a3359f56ac4f3b520e64b9d5e6a288d87be95777b8023c64cba60f1/nest_asyncio-1.4.3-py3-none-any.whl\n",
            "Collecting netCDF4==1.5.6\n",
            "\u001b[?25l  Downloading https://files.pythonhosted.org/packages/6c/ca/56ce2fb042721d7edd2bb06dc051598521653db8dd2cc2df1b012e47a4c9/netCDF4-1.5.6-cp36-cp36m-manylinux2014_x86_64.whl (4.7MB)\n",
            "\u001b[K     |████████████████████████████████| 4.7MB 51.0MB/s \n",
            "\u001b[?25hRequirement already satisfied: networkx==2.5 in /usr/local/lib/python3.6/dist-packages (from -r ./ocp/docs/source/tutorials/colab_requirements.txt (line 103)) (2.5)\n",
            "Collecting nodeenv==1.5.0\n",
            "  Downloading https://files.pythonhosted.org/packages/ae/d0/efdf54539948315cc76e5a66b709212963101d002822c3b54369dbf9b5e0/nodeenv-1.5.0-py2.py3-none-any.whl\n",
            "Requirement already satisfied: notebook in /usr/local/lib/python3.6/dist-packages (from -r ./ocp/docs/source/tutorials/colab_requirements.txt (line 105)) (5.3.1)\n",
            "Collecting numba==0.52.0\n",
            "\u001b[?25l  Downloading https://files.pythonhosted.org/packages/60/a5/a065e1e23a5ced6da6628bba7efec4de98f8970a59e034bb0639866631da/numba-0.52.0-cp36-cp36m-manylinux2014_x86_64.whl (3.1MB)\n",
            "\u001b[K     |████████████████████████████████| 3.2MB 44.5MB/s \n",
            "\u001b[?25hCollecting numpy==1.19.2\n",
            "\u001b[?25l  Downloading https://files.pythonhosted.org/packages/63/97/af8a92864a04bfa48f1b5c9b1f8bf2ccb2847f24530026f26dd223de4ca0/numpy-1.19.2-cp36-cp36m-manylinux2010_x86_64.whl (14.5MB)\n",
            "\u001b[K     |████████████████████████████████| 14.5MB 214kB/s \n",
            "\u001b[?25hRequirement already satisfied: nvidia-ml-py3==7.352.0 in /usr/local/lib/python3.6/dist-packages (from -r ./ocp/docs/source/tutorials/colab_requirements.txt (line 108)) (7.352.0)\n",
            "Collecting olefile==0.46\n",
            "\u001b[?25l  Downloading https://files.pythonhosted.org/packages/34/81/e1ac43c6b45b4c5f8d9352396a14144bba52c8fec72a80f425f6a4d653ad/olefile-0.46.zip (112kB)\n",
            "\u001b[K     |████████████████████████████████| 112kB 61.0MB/s \n",
            "\u001b[?25hCollecting opencensus==0.7.12\n",
            "\u001b[?25l  Downloading https://files.pythonhosted.org/packages/e2/d6/b952f11b29c3a0cbec5620de3c4260cecd8c4329d83e91587edb48691e15/opencensus-0.7.12-py2.py3-none-any.whl (127kB)\n",
            "\u001b[K     |████████████████████████████████| 133kB 46.8MB/s \n",
            "\u001b[?25hCollecting opencensus-context==0.1.2\n",
            "  Downloading https://files.pythonhosted.org/packages/f1/33/990f1bd9e7ee770fc8d3c154fc24743a96f16a0e49e14e1b7540cc2fdd93/opencensus_context-0.1.2-py2.py3-none-any.whl\n",
            "Requirement already satisfied: packaging==20.9 in /usr/local/lib/python3.6/dist-packages (from -r ./ocp/docs/source/tutorials/colab_requirements.txt (line 112)) (20.9)\n",
            "Requirement already satisfied: palettable==3.3.0 in /usr/local/lib/python3.6/dist-packages (from -r ./ocp/docs/source/tutorials/colab_requirements.txt (line 113)) (3.3.0)\n",
            "Requirement already satisfied: pandas==1.1.5 in /usr/local/lib/python3.6/dist-packages (from -r ./ocp/docs/source/tutorials/colab_requirements.txt (line 114)) (1.1.5)\n",
            "Collecting pandocfilters==1.4.2\n",
            "  Downloading https://files.pythonhosted.org/packages/4c/ea/236e2584af67bb6df960832731a6e5325fd4441de001767da328c33368ce/pandocfilters-1.4.2.tar.gz\n",
            "Collecting parso==0.8.0\n",
            "\u001b[?25l  Downloading https://files.pythonhosted.org/packages/ac/55/2768286d623c6c57ef5dbd4b6f69e041c39d6a51a884f4584879172ec362/parso-0.8.0-py2.py3-none-any.whl (93kB)\n",
            "\u001b[K     |████████████████████████████████| 102kB 13.4MB/s \n",
            "\u001b[?25hCollecting pathspec==0.8.1\n",
            "  Downloading https://files.pythonhosted.org/packages/29/29/a465741a3d97ea3c17d21eaad4c64205428bde56742360876c4391f930d4/pathspec-0.8.1-py2.py3-none-any.whl\n",
            "Collecting pathtools==0.1.2\n",
            "  Downloading https://files.pythonhosted.org/packages/e7/7f/470d6fcdf23f9f3518f6b0b76be9df16dcc8630ad409947f8be2eb0ed13a/pathtools-0.1.2.tar.gz\n",
            "Requirement already satisfied: pexpect==4.8.0 in /usr/local/lib/python3.6/dist-packages (from -r ./ocp/docs/source/tutorials/colab_requirements.txt (line 119)) (4.8.0)\n",
            "Requirement already satisfied: pickleshare==0.7.5 in /usr/local/lib/python3.6/dist-packages (from -r ./ocp/docs/source/tutorials/colab_requirements.txt (line 120)) (0.7.5)\n",
            "Collecting Pillow==8.1.0\n",
            "\u001b[?25l  Downloading https://files.pythonhosted.org/packages/b6/c0/442d9d87e0da00bf856ef6dd4916f84a2d710b5f1a367d42d7f3c4e99a6c/Pillow-8.1.0-cp36-cp36m-manylinux1_x86_64.whl (2.2MB)\n",
            "\u001b[K     |████████████████████████████████| 2.2MB 48.6MB/s \n",
            "\u001b[?25hCollecting pip==21.0.1\n",
            "\u001b[?25l  Downloading https://files.pythonhosted.org/packages/fe/ef/60d7ba03b5c442309ef42e7d69959f73aacccd0d86008362a681c4698e83/pip-21.0.1-py3-none-any.whl (1.5MB)\n",
            "\u001b[K     |████████████████████████████████| 1.5MB 48.4MB/s \n",
            "\u001b[?25hCollecting plotly==4.14.3\n",
            "\u001b[?25l  Downloading https://files.pythonhosted.org/packages/1f/f6/bd3c17c8003b6641df1228e80e1acac97ed8402635e46c2571f8e1ef63af/plotly-4.14.3-py2.py3-none-any.whl (13.2MB)\n",
            "\u001b[K     |████████████████████████████████| 13.2MB 255kB/s \n",
            "\u001b[?25hCollecting pluggy==0.13.1\n",
            "  Downloading https://files.pythonhosted.org/packages/a0/28/85c7aa31b80d150b772fbe4a229487bc6644da9ccb7e427dd8cc60cb8a62/pluggy-0.13.1-py2.py3-none-any.whl\n",
            "Collecting pre-commit==2.2.0\n",
            "\u001b[?25l  Downloading https://files.pythonhosted.org/packages/2a/8e/eb48c7a21ddebd7883833b9826d1d19c9843ec074830671b9ccd45f31b0d/pre_commit-2.2.0-py2.py3-none-any.whl (170kB)\n",
            "\u001b[K     |████████████████████████████████| 174kB 64.9MB/s \n",
            "\u001b[?25hRequirement already satisfied: prometheus-client==0.9.0 in /usr/local/lib/python3.6/dist-packages (from -r ./ocp/docs/source/tutorials/colab_requirements.txt (line 126)) (0.9.0)\n",
            "Requirement already satisfied: promise==2.3 in /usr/local/lib/python3.6/dist-packages (from -r ./ocp/docs/source/tutorials/colab_requirements.txt (line 127)) (2.3)\n",
            "Collecting prompt-toolkit==1.0.4\n",
            "\u001b[?25l  Downloading https://files.pythonhosted.org/packages/b1/9f/4caa947a9c6eeb66396124074eaa5d25fb2381513165e93b222dac39c208/prompt_toolkit-1.0.4-py3-none-any.whl (236kB)\n",
            "\u001b[K     |████████████████████████████████| 245kB 55.9MB/s \n",
            "\u001b[?25hCollecting protobuf==3.14.0\n",
            "\u001b[?25l  Downloading https://files.pythonhosted.org/packages/fe/fd/247ef25f5ec5f9acecfbc98ca3c6aaf66716cf52509aca9a93583d410493/protobuf-3.14.0-cp36-cp36m-manylinux1_x86_64.whl (1.0MB)\n",
            "\u001b[K     |████████████████████████████████| 1.0MB 51.3MB/s \n",
            "\u001b[?25hCollecting psutil==5.8.0\n",
            "\u001b[?25l  Downloading https://files.pythonhosted.org/packages/da/82/56cd16a4c5f53e3e5dd7b2c30d5c803e124f218ebb644ca9c30bc907eadd/psutil-5.8.0-cp36-cp36m-manylinux2010_x86_64.whl (291kB)\n",
            "\u001b[K     |████████████████████████████████| 296kB 58.8MB/s \n",
            "\u001b[?25hCollecting ptyprocess==0.6.0\n",
            "  Downloading https://files.pythonhosted.org/packages/d1/29/605c2cc68a9992d18dada28206eeada56ea4bd07a239669da41674648b6f/ptyprocess-0.6.0-py2.py3-none-any.whl\n",
            "Requirement already satisfied: py==1.10.0 in /usr/local/lib/python3.6/dist-packages (from -r ./ocp/docs/source/tutorials/colab_requirements.txt (line 132)) (1.10.0)\n",
            "Collecting py-spy==0.3.4\n",
            "\u001b[?25l  Downloading https://files.pythonhosted.org/packages/0c/b7/2056a6f06adb93f679f2a1e415dd33219b7c66ba69b8fd2ff1668b8064ed/py_spy-0.3.4-py2.py3-none-manylinux1_x86_64.whl (3.2MB)\n",
            "\u001b[K     |████████████████████████████████| 3.2MB 47.3MB/s \n",
            "\u001b[?25hRequirement already satisfied: pyasn1==0.4.8 in /usr/local/lib/python3.6/dist-packages (from -r ./ocp/docs/source/tutorials/colab_requirements.txt (line 134)) (0.4.8)\n",
            "Requirement already satisfied: pyasn1-modules==0.2.8 in /usr/local/lib/python3.6/dist-packages (from -r ./ocp/docs/source/tutorials/colab_requirements.txt (line 135)) (0.2.8)\n",
            "Collecting pybtex==0.24.0\n",
            "\u001b[?25l  Downloading https://files.pythonhosted.org/packages/ad/5f/40d8e90f985a05133a8895fc454c6127ecec3de8b095dd35bba91382f803/pybtex-0.24.0-py2.py3-none-any.whl (561kB)\n",
            "\u001b[K     |████████████████████████████████| 563kB 52.4MB/s \n",
            "\u001b[?25hRequirement already satisfied: pycparser==2.20 in /usr/local/lib/python3.6/dist-packages (from -r ./ocp/docs/source/tutorials/colab_requirements.txt (line 137)) (2.20)\n",
            "Collecting Pygments==2.8.0\n",
            "\u001b[?25l  Downloading https://files.pythonhosted.org/packages/d4/ef/881b14d3ad4d6a86384d63bfbb87205161e4fc46420526380ec209a12e17/Pygments-2.8.0-py3-none-any.whl (983kB)\n",
            "\u001b[K     |████████████████████████████████| 993kB 44.6MB/s \n",
            "\u001b[?25hCollecting pymatgen==2020.4.2\n",
            "\u001b[?25l  Downloading https://files.pythonhosted.org/packages/41/53/f5aaa4a27fbdc2f31a130c54c3529f3e007e5f56c1b0e7696ffbd85135de/pymatgen-2020.4.2.tar.gz (2.7MB)\n",
            "\u001b[K     |████████████████████████████████| 2.7MB 45.4MB/s \n",
            "\u001b[?25hCollecting pyOpenSSL==20.0.1\n",
            "\u001b[?25l  Downloading https://files.pythonhosted.org/packages/b2/5e/06351ede29fd4899782ad335c2e02f1f862a887c20a3541f17c3fa1a3525/pyOpenSSL-20.0.1-py2.py3-none-any.whl (54kB)\n",
            "\u001b[K     |████████████████████████████████| 61kB 9.9MB/s \n",
            "\u001b[?25hRequirement already satisfied: pyparsing==2.4.7 in /usr/local/lib/python3.6/dist-packages (from -r ./ocp/docs/source/tutorials/colab_requirements.txt (line 141)) (2.4.7)\n",
            "Collecting PyQt5==5.12.3\n",
            "\u001b[?25l  Downloading https://files.pythonhosted.org/packages/3b/b2/2c8492ce82de20dd241d1166214764791775fbbc59e74e8449a2914361a6/PyQt5-5.12.3-5.12.10-cp35.cp36.cp37.cp38.cp39-abi3-manylinux1_x86_64.whl (62.4MB)\n",
            "\u001b[K     |████████████████████████████████| 62.4MB 50kB/s \n",
            "\u001b[?25hCollecting PyQt5-sip==4.19.18\n",
            "\u001b[?25l  Downloading https://files.pythonhosted.org/packages/4b/15/055d5667166b1d8c04ad159216be7fa254897fafd79e749bc263cb86f802/PyQt5_sip-4.19.18-cp36-cp36m-manylinux1_x86_64.whl (67kB)\n",
            "\u001b[K     |████████████████████████████████| 71kB 10.8MB/s \n",
            "\u001b[?25hCollecting PyQtChart==5.12\n",
            "\u001b[?25l  Downloading https://files.pythonhosted.org/packages/44/aa/ce3a364e5903f6556067f02d4df92a2fd59a8fbd838816ed7d1a2203c75e/PyQtChart-5.12.0-5.12.10-cp35.cp36.cp37.cp38.cp39-abi3-manylinux1_x86_64.whl (1.1MB)\n",
            "\u001b[K     |████████████████████████████████| 1.1MB 48.8MB/s \n",
            "\u001b[?25hCollecting PyQtWebEngine==5.12.1\n",
            "\u001b[?25l  Downloading https://files.pythonhosted.org/packages/90/c9/bde6c215e9b08f149e5e8936b512dabfe0c3c8893c1397d2c53965a3dc4f/PyQtWebEngine-5.12.1-5.12.10-cp35.cp36.cp37.cp38.cp39-abi3-manylinux1_x86_64.whl (60.1MB)\n",
            "\u001b[K     |████████████████████████████████| 60.1MB 52kB/s \n",
            "\u001b[?25hRequirement already satisfied: pyrsistent==0.17.3 in /usr/local/lib/python3.6/dist-packages (from -r ./ocp/docs/source/tutorials/colab_requirements.txt (line 146)) (0.17.3)\n",
            "Requirement already satisfied: PySocks==1.7.1 in /usr/local/lib/python3.6/dist-packages (from -r ./ocp/docs/source/tutorials/colab_requirements.txt (line 147)) (1.7.1)\n",
            "Collecting pytest==5.4.3\n",
            "\u001b[?25l  Downloading https://files.pythonhosted.org/packages/9f/f3/0a83558da436a081344aa6c8b85ea5b5f05071214106036ce341b7769b0b/pytest-5.4.3-py3-none-any.whl (248kB)\n",
            "\u001b[K     |████████████████████████████████| 256kB 63.3MB/s \n",
            "\u001b[?25hRequirement already satisfied: python-dateutil==2.8.1 in /usr/local/lib/python3.6/dist-packages (from -r ./ocp/docs/source/tutorials/colab_requirements.txt (line 149)) (2.8.1)\n",
            "Collecting pytz==2021.1\n",
            "\u001b[?25l  Downloading https://files.pythonhosted.org/packages/70/94/784178ca5dd892a98f113cdd923372024dc04b8d40abe77ca76b5fb90ca6/pytz-2021.1-py2.py3-none-any.whl (510kB)\n",
            "\u001b[K     |████████████████████████████████| 512kB 57.7MB/s \n",
            "\u001b[?25hCollecting PyYAML==5.3.1\n",
            "\u001b[?25l  Downloading https://files.pythonhosted.org/packages/64/c2/b80047c7ac2478f9501676c988a5411ed5572f35d1beff9cae07d321512c/PyYAML-5.3.1.tar.gz (269kB)\n",
            "\u001b[K     |████████████████████████████████| 276kB 60.6MB/s \n",
            "\u001b[?25hRequirement already satisfied: qtconsole==5.0.2 in /usr/local/lib/python3.6/dist-packages (from -r ./ocp/docs/source/tutorials/colab_requirements.txt (line 152)) (5.0.2)\n",
            "Requirement already satisfied: QtPy==1.9.0 in /usr/local/lib/python3.6/dist-packages (from -r ./ocp/docs/source/tutorials/colab_requirements.txt (line 153)) (1.9.0)\n",
            "Collecting ray==1.2.0\n",
            "\u001b[?25l  Downloading https://files.pythonhosted.org/packages/1a/3c/75913c91bd5a3411156628acb8be6437776a48608ff3d8d55b2f90ad8e43/ray-1.2.0-cp36-cp36m-manylinux2014_x86_64.whl (47.5MB)\n",
            "\u001b[K     |████████████████████████████████| 47.5MB 72kB/s \n",
            "\u001b[?25hCollecting rdflib==5.0.0\n",
            "\u001b[?25l  Downloading https://files.pythonhosted.org/packages/d0/6b/6454aa1db753c0f8bc265a5bd5c10b5721a4bb24160fb4faf758cf6be8a1/rdflib-5.0.0-py3-none-any.whl (231kB)\n",
            "\u001b[K     |████████████████████████████████| 235kB 57.8MB/s \n",
            "\u001b[?25hCollecting redis==3.5.3\n",
            "\u001b[?25l  Downloading https://files.pythonhosted.org/packages/a7/7c/24fb0511df653cf1a5d938d8f5d19802a88cef255706fdda242ff97e91b7/redis-3.5.3-py2.py3-none-any.whl (72kB)\n",
            "\u001b[K     |████████████████████████████████| 81kB 11.6MB/s \n",
            "\u001b[?25hCollecting regex==2020.11.13\n",
            "\u001b[?25l  Downloading https://files.pythonhosted.org/packages/0d/8a/3ac62dadb767ace65a5b954265de4031a99b27148fe14b24771f5c2c2dca/regex-2020.11.13-cp36-cp36m-manylinux2014_x86_64.whl (723kB)\n",
            "\u001b[K     |████████████████████████████████| 727kB 54.5MB/s \n",
            "\u001b[?25hRequirement already satisfied: requests==2.23.0 in /usr/local/lib/python3.6/dist-packages (from -r ./ocp/docs/source/tutorials/colab_requirements.txt (line 158)) (2.23.0)\n",
            "Requirement already satisfied: retrying==1.3.3 in /usr/local/lib/python3.6/dist-packages (from -r ./ocp/docs/source/tutorials/colab_requirements.txt (line 159)) (1.3.3)\n",
            "Collecting rsa==4.7.1\n",
            "  Downloading https://files.pythonhosted.org/packages/a0/c6/f6f92e055213860a39c98e51a10a51af473bc799a889fe8edac11108245b/rsa-4.7.1-py3-none-any.whl\n",
            "Collecting ruamel.yaml==0.16.12\n",
            "\u001b[?25l  Downloading https://files.pythonhosted.org/packages/7e/39/186f14f3836ac5d2a6a042c8de69988770e8b9abb537610edc429e4914aa/ruamel.yaml-0.16.12-py2.py3-none-any.whl (111kB)\n",
            "\u001b[K     |████████████████████████████████| 112kB 62.7MB/s \n",
            "\u001b[?25hCollecting ruamel.yaml.clib==0.2.2\n",
            "\u001b[?25l  Downloading https://files.pythonhosted.org/packages/88/ff/ec25dc01ef04232a9e68ff18492e37dfa01f1f58172e702ad4f38536d41b/ruamel.yaml.clib-0.2.2-cp36-cp36m-manylinux1_x86_64.whl (549kB)\n",
            "\u001b[K     |████████████████████████████████| 552kB 56.0MB/s \n",
            "\u001b[?25hCollecting scikit-learn==0.24.1\n",
            "\u001b[?25l  Downloading https://files.pythonhosted.org/packages/e2/4c/6111b9a325f29527d7f262e2ee8c730d354b47a728d955e186dacad57a0d/scikit_learn-0.24.1-cp36-cp36m-manylinux2010_x86_64.whl (22.2MB)\n",
            "\u001b[K     |████████████████████████████████| 22.2MB 1.2MB/s \n",
            "\u001b[?25hCollecting scipy==1.5.2\n",
            "\u001b[?25l  Downloading https://files.pythonhosted.org/packages/2b/a8/f4c66eb529bb252d50e83dbf2909c6502e2f857550f22571ed8556f62d95/scipy-1.5.2-cp36-cp36m-manylinux1_x86_64.whl (25.9MB)\n",
            "\u001b[K     |████████████████████████████████| 25.9MB 127kB/s \n",
            "\u001b[?25hRequirement already satisfied: Send2Trash==1.5.0 in /usr/local/lib/python3.6/dist-packages (from -r ./ocp/docs/source/tutorials/colab_requirements.txt (line 165)) (1.5.0)\n",
            "Collecting sentry-sdk==0.20.2\n",
            "\u001b[?25l  Downloading https://files.pythonhosted.org/packages/5a/57/fe9bec0a5e13d68db04dda6083fc4b559204fb4f925ef58ddce9f9b58435/sentry_sdk-0.20.2-py2.py3-none-any.whl (131kB)\n",
            "\u001b[K     |████████████████████████████████| 133kB 57.1MB/s \n",
            "\u001b[?25hCollecting setuptools==49.6.0\n",
            "\u001b[?25l  Downloading https://files.pythonhosted.org/packages/c3/a9/5dc32465951cf4812e9e93b4ad2d314893c2fa6d5f66ce5c057af6e76d85/setuptools-49.6.0-py3-none-any.whl (803kB)\n",
            "\u001b[K     |████████████████████████████████| 808kB 57.5MB/s \n",
            "\u001b[?25hCollecting shortuuid==1.0.1\n",
            "  Downloading https://files.pythonhosted.org/packages/25/a6/2ecc1daa6a304e7f1b216f0896b26156b78e7c38e1211e9b798b4716c53d/shortuuid-1.0.1-py3-none-any.whl\n",
            "Requirement already satisfied: six==1.15.0 in /usr/local/lib/python3.6/dist-packages (from -r ./ocp/docs/source/tutorials/colab_requirements.txt (line 169)) (1.15.0)\n",
            "Collecting smmap==3.0.5\n",
            "  Downloading https://files.pythonhosted.org/packages/d5/1e/6130925131f639b2acde0f7f18b73e33ce082ff2d90783c436b52040af5a/smmap-3.0.5-py2.py3-none-any.whl\n",
            "Requirement already satisfied: snowballstemmer==2.1.0 in /usr/local/lib/python3.6/dist-packages (from -r ./ocp/docs/source/tutorials/colab_requirements.txt (line 171)) (2.1.0)\n",
            "Collecting soupsieve==2.0.1\n",
            "  Downloading https://files.pythonhosted.org/packages/6f/8f/457f4a5390eeae1cc3aeab89deb7724c965be841ffca6cfca9197482e470/soupsieve-2.0.1-py3-none-any.whl\n",
            "Collecting spglib==1.16.1\n",
            "\u001b[?25l  Downloading https://files.pythonhosted.org/packages/71/ae/2489dfca12ca0c381eac3b9207a4a34ca2a4dc05dda150429f505b48d8be/spglib-1.16.1-cp36-cp36m-manylinux2010_x86_64.whl (295kB)\n",
            "\u001b[K     |████████████████████████████████| 296kB 45.4MB/s \n",
            "\u001b[?25hCollecting Sphinx==3.5.1\n",
            "\u001b[?25l  Downloading https://files.pythonhosted.org/packages/84/7a/d0cb3f5ff9fa0e944ba4f5878122ba0cbed0ce56dc5ebbcd42fe3cb5064e/Sphinx-3.5.1-py3-none-any.whl (2.8MB)\n",
            "\u001b[K     |████████████████████████████████| 2.8MB 27.6MB/s \n",
            "\u001b[?25hCollecting sphinx-rtd-theme==0.5.1\n",
            "\u001b[?25l  Downloading https://files.pythonhosted.org/packages/76/81/d5af3a50a45ee4311ac2dac5b599d69f68388401c7a4ca902e0e450a9f94/sphinx_rtd_theme-0.5.1-py2.py3-none-any.whl (2.8MB)\n",
            "\u001b[K     |████████████████████████████████| 2.8MB 47.0MB/s \n",
            "\u001b[?25hCollecting sphinxcontrib-applehelp==1.0.2\n",
            "\u001b[?25l  Downloading https://files.pythonhosted.org/packages/dc/47/86022665a9433d89a66f5911b558ddff69861766807ba685de2e324bd6ed/sphinxcontrib_applehelp-1.0.2-py2.py3-none-any.whl (121kB)\n",
            "\u001b[K     |████████████████████████████████| 122kB 61.8MB/s \n",
            "\u001b[?25hCollecting sphinxcontrib-devhelp==1.0.2\n",
            "\u001b[?25l  Downloading https://files.pythonhosted.org/packages/c5/09/5de5ed43a521387f18bdf5f5af31d099605c992fd25372b2b9b825ce48ee/sphinxcontrib_devhelp-1.0.2-py2.py3-none-any.whl (84kB)\n",
            "\u001b[K     |████████████████████████████████| 92kB 13.7MB/s \n",
            "\u001b[?25hCollecting sphinxcontrib-htmlhelp==1.0.3\n",
            "\u001b[?25l  Downloading https://files.pythonhosted.org/packages/36/62/8222554b29b3acde8420128d6d3999c5904d40922ef4b6ccb370e2be7421/sphinxcontrib_htmlhelp-1.0.3-py2.py3-none-any.whl (96kB)\n",
            "\u001b[K     |████████████████████████████████| 102kB 14.9MB/s \n",
            "\u001b[?25hCollecting sphinxcontrib-jsmath==1.0.1\n",
            "  Downloading https://files.pythonhosted.org/packages/c2/42/4c8646762ee83602e3fb3fbe774c2fac12f317deb0b5dbeeedd2d3ba4b77/sphinxcontrib_jsmath-1.0.1-py2.py3-none-any.whl\n",
            "Collecting sphinxcontrib-qthelp==1.0.3\n",
            "\u001b[?25l  Downloading https://files.pythonhosted.org/packages/2b/14/05f9206cf4e9cfca1afb5fd224c7cd434dcc3a433d6d9e4e0264d29c6cdb/sphinxcontrib_qthelp-1.0.3-py2.py3-none-any.whl (90kB)\n",
            "\u001b[K     |████████████████████████████████| 92kB 13.3MB/s \n",
            "\u001b[?25hRequirement already satisfied: sphinxcontrib-serializinghtml==1.1.4 in /usr/local/lib/python3.6/dist-packages (from -r ./ocp/docs/source/tutorials/colab_requirements.txt (line 181)) (1.1.4)\n",
            "Collecting submitit==1.2.1\n",
            "\u001b[?25l  Downloading https://files.pythonhosted.org/packages/53/be/b337b0eeb5e422094685025752beaf8c7d0e3e77e4c74ee1e06a07cefa9c/submitit-1.2.1.tar.gz (70kB)\n",
            "\u001b[K     |████████████████████████████████| 71kB 11.7MB/s \n",
            "\u001b[?25h  Installing build dependencies ... \u001b[?25l\u001b[?25hdone\n",
            "  Getting requirements to build wheel ... \u001b[?25l\u001b[?25hdone\n",
            "    Preparing wheel metadata ... \u001b[?25l\u001b[?25hdone\n",
            "Collecting subprocess32==3.5.4\n",
            "\u001b[?25l  Downloading https://files.pythonhosted.org/packages/32/c8/564be4d12629b912ea431f1a50eb8b3b9d00f1a0b1ceff17f266be190007/subprocess32-3.5.4.tar.gz (97kB)\n",
            "\u001b[K     |████████████████████████████████| 102kB 14.7MB/s \n",
            "\u001b[?25hCollecting sympy==1.7.1\n",
            "\u001b[?25l  Downloading https://files.pythonhosted.org/packages/ff/69/b16fc81b939d3efdd0b552f2e3e54f7fa1423d0c320cced2e69e675dde26/sympy-1.7.1-py3-none-any.whl (5.9MB)\n",
            "\u001b[K     |████████████████████████████████| 5.9MB 43.7MB/s \n",
            "\u001b[?25hRequirement already satisfied: tabulate==0.8.7 in /usr/local/lib/python3.6/dist-packages (from -r ./ocp/docs/source/tutorials/colab_requirements.txt (line 185)) (0.8.7)\n",
            "Requirement already satisfied: tensorboard in /usr/local/lib/python3.6/dist-packages (from -r ./ocp/docs/source/tutorials/colab_requirements.txt (line 186)) (2.4.1)\n",
            "Collecting tensorboardX\n",
            "\u001b[?25l  Downloading https://files.pythonhosted.org/packages/af/0c/4f41bcd45db376e6fe5c619c01100e9b7531c55791b7244815bac6eac32c/tensorboardX-2.1-py2.py3-none-any.whl (308kB)\n",
            "\u001b[K     |████████████████████████████████| 317kB 60.4MB/s \n",
            "\u001b[?25hRequirement already satisfied: terminado==0.9.2 in /usr/local/lib/python3.6/dist-packages (from -r ./ocp/docs/source/tutorials/colab_requirements.txt (line 188)) (0.9.2)\n",
            "Requirement already satisfied: testpath==0.4.4 in /usr/local/lib/python3.6/dist-packages (from -r ./ocp/docs/source/tutorials/colab_requirements.txt (line 189)) (0.4.4)\n",
            "Collecting threadpoolctl==2.1.0\n",
            "  Downloading https://files.pythonhosted.org/packages/f7/12/ec3f2e203afa394a149911729357aa48affc59c20e2c1c8297a60f33f133/threadpoolctl-2.1.0-py3-none-any.whl\n",
            "Requirement already satisfied: toml==0.10.2 in /usr/local/lib/python3.6/dist-packages (from -r ./ocp/docs/source/tutorials/colab_requirements.txt (line 191)) (0.10.2)\n",
            "Collecting torch-cluster==1.5.8\n",
            "  Downloading https://files.pythonhosted.org/packages/ff/39/6524367aed276171ba66675b25b368c1522e1d35e17b96ee4ff4025e1d98/torch_cluster-1.5.8.tar.gz\n",
            "Collecting torch-geometric==1.6.1\n",
            "\u001b[?25l  Downloading https://files.pythonhosted.org/packages/88/67/6c0bce6b6e6bc806e25d996e46a686e5a11254d89257983265a988bb02ee/torch_geometric-1.6.1.tar.gz (178kB)\n",
            "\u001b[K     |████████████████████████████████| 184kB 58.1MB/s \n",
            "\u001b[?25hCollecting torch-scatter==2.0.5\n",
            "  Downloading https://files.pythonhosted.org/packages/01/45/cd93ed3227248773ba8bc4b3beaa04e8bddb127a793a41bad875369951b3/torch_scatter-2.0.5.tar.gz\n",
            "Collecting torch-sparse==0.6.8\n",
            "  Downloading https://files.pythonhosted.org/packages/3c/dd/f34dce6512a3922948c3ac0cf50cceb2eeafeedd34a278d502eb77d07dc0/torch_sparse-0.6.8.tar.gz\n",
            "Collecting torch-spline-conv==1.2.0\n",
            "  Downloading https://files.pythonhosted.org/packages/b9/8c/b888f63e797af27a9dc50580f82e2630f32b151e2f70b88e47841f9a0132/torch_spline_conv-1.2.0.tar.gz\n",
            "Collecting tqdm==4.45.0\n",
            "\u001b[?25l  Downloading https://files.pythonhosted.org/packages/4a/1c/6359be64e8301b84160f6f6f7936bbfaaa5e9a4eab6cbc681db07600b949/tqdm-4.45.0-py2.py3-none-any.whl (60kB)\n",
            "\u001b[K     |████████████████████████████████| 61kB 8.7MB/s \n",
            "\u001b[?25hRequirement already satisfied: traitlets==4.3.3 in /usr/local/lib/python3.6/dist-packages (from -r ./ocp/docs/source/tutorials/colab_requirements.txt (line 198)) (4.3.3)\n",
            "Collecting typed-ast==1.4.2\n",
            "\u001b[?25l  Downloading https://files.pythonhosted.org/packages/56/c1/4cc3c0da2374963f59b2f57ef02e048cdc4f609cbc1184b4146d0812e5b5/typed_ast-1.4.2-cp36-cp36m-manylinux1_x86_64.whl (743kB)\n",
            "\u001b[K     |████████████████████████████████| 747kB 51.6MB/s \n",
            "\u001b[?25hRequirement already satisfied: typing-extensions==3.7.4.3 in /usr/local/lib/python3.6/dist-packages (from -r ./ocp/docs/source/tutorials/colab_requirements.txt (line 200)) (3.7.4.3)\n",
            "Collecting tzlocal==2.1\n",
            "  Downloading https://files.pythonhosted.org/packages/5d/94/d47b0fd5988e6b7059de05720a646a2930920fff247a826f61674d436ba4/tzlocal-2.1-py2.py3-none-any.whl\n",
            "Requirement already satisfied: urllib3 in /usr/local/lib/python3.6/dist-packages (from -r ./ocp/docs/source/tutorials/colab_requirements.txt (line 202)) (1.24.3)\n",
            "Collecting virtualenv==20.4.2\n",
            "\u001b[?25l  Downloading https://files.pythonhosted.org/packages/9f/fb/7423637e48cffbb2e567ca113d2b05068f8b457dde998ab487adf7386c86/virtualenv-20.4.2-py2.py3-none-any.whl (7.2MB)\n",
            "\u001b[K     |████████████████████████████████| 7.2MB 50.6MB/s \n",
            "\u001b[?25hCollecting vtk\n",
            "\u001b[?25l  Downloading https://files.pythonhosted.org/packages/f9/3e/fa760bdbcc20d9f2fedebace22ffc575335bb5f281e98ca9831475ff3f09/vtk-9.0.1-cp36-cp36m-manylinux2010_x86_64.whl (103.4MB)\n",
            "\u001b[K     |████████████████████████████████| 103.4MB 119kB/s \n",
            "\u001b[?25hCollecting wandb==0.10.19\n",
            "\u001b[?25l  Downloading https://files.pythonhosted.org/packages/68/48/4b59e775d7fd3917201de7975892241a5145ce482bc739bf22e83735e5c4/wandb-0.10.19-py2.py3-none-any.whl (2.0MB)\n",
            "\u001b[K     |████████████████████████████████| 2.0MB 41.5MB/s \n",
            "\u001b[?25hRequirement already satisfied: wcwidth==0.2.5 in /usr/local/lib/python3.6/dist-packages (from -r ./ocp/docs/source/tutorials/colab_requirements.txt (line 206)) (0.2.5)\n",
            "Requirement already satisfied: webencodings==0.5.1 in /usr/local/lib/python3.6/dist-packages (from -r ./ocp/docs/source/tutorials/colab_requirements.txt (line 207)) (0.5.1)\n",
            "Requirement already satisfied: Werkzeug==1.0.1 in /usr/local/lib/python3.6/dist-packages (from -r ./ocp/docs/source/tutorials/colab_requirements.txt (line 208)) (1.0.1)\n",
            "Requirement already satisfied: wheel==0.36.2 in /usr/local/lib/python3.6/dist-packages (from -r ./ocp/docs/source/tutorials/colab_requirements.txt (line 209)) (0.36.2)\n",
            "Requirement already satisfied: widgetsnbextension==3.5.1 in /usr/local/lib/python3.6/dist-packages (from -r ./ocp/docs/source/tutorials/colab_requirements.txt (line 210)) (3.5.1)\n",
            "Collecting yarl\n",
            "\u001b[?25l  Downloading https://files.pythonhosted.org/packages/da/08/52b26b44bce7b818b410aee37c5e424c9ea420c557bca97dc2adac29b151/yarl-1.6.3-cp36-cp36m-manylinux2014_x86_64.whl (293kB)\n",
            "\u001b[K     |████████████████████████████████| 296kB 56.1MB/s \n",
            "\u001b[?25hRequirement already satisfied: zipp==3.4.0 in /usr/local/lib/python3.6/dist-packages (from -r ./ocp/docs/source/tutorials/colab_requirements.txt (line 212)) (3.4.0)\n",
            "Requirement already satisfied: torch==1.6.0 in /usr/local/lib/python3.6/dist-packages (from -r ./ocp/docs/source/tutorials/colab_requirements.txt (line 213)) (1.6.0+cu101)\n",
            "Requirement already satisfied: scikit-image>=0.11.0 in /usr/local/lib/python3.6/dist-packages (from imgaug==0.2.6->-r ./ocp/docs/source/tutorials/colab_requirements.txt (line 64)) (0.16.2)\n",
            "Requirement already satisfied: ipython>=4.0.0; python_version >= \"3.3\" in /usr/local/lib/python3.6/dist-packages (from ipywidgets==7.6.3->-r ./ocp/docs/source/tutorials/colab_requirements.txt (line 69)) (5.5.0)\n",
            "Requirement already satisfied: ipykernel>=4.5.1 in /usr/local/lib/python3.6/dist-packages (from ipywidgets==7.6.3->-r ./ocp/docs/source/tutorials/colab_requirements.txt (line 69)) (4.10.1)\n",
            "Requirement already satisfied: pyzmq>=13 in /usr/local/lib/python3.6/dist-packages (from jupyter-client==6.1.11->-r ./ocp/docs/source/tutorials/colab_requirements.txt (line 77)) (22.0.2)\n",
            "Requirement already satisfied: tornado>=4.1 in /usr/local/lib/python3.6/dist-packages (from jupyter-client==6.1.11->-r ./ocp/docs/source/tutorials/colab_requirements.txt (line 77)) (5.1.1)\n",
            "Requirement already satisfied: intel-openmp in /usr/local/lib/python3.6/dist-packages (from mkl->-r ./ocp/docs/source/tutorials/colab_requirements.txt (line 90)) (2021.1.2)\n",
            "Collecting pydispatcher>=2.0.5\n",
            "  Downloading https://files.pythonhosted.org/packages/cd/37/39aca520918ce1935bea9c356bcbb7ed7e52ad4e31bff9b943dfc8e7115b/PyDispatcher-2.0.5.tar.gz\n",
            "Requirement already satisfied: tensorboard-plugin-wit>=1.6.0 in /usr/local/lib/python3.6/dist-packages (from tensorboard->-r ./ocp/docs/source/tutorials/colab_requirements.txt (line 186)) (1.8.0)\n",
            "Requirement already satisfied: google-auth-oauthlib<0.5,>=0.4.1 in /usr/local/lib/python3.6/dist-packages (from tensorboard->-r ./ocp/docs/source/tutorials/colab_requirements.txt (line 186)) (0.4.2)\n",
            "Requirement already satisfied: PyWavelets>=0.4.0 in /usr/local/lib/python3.6/dist-packages (from scikit-image>=0.11.0->imgaug==0.2.6->-r ./ocp/docs/source/tutorials/colab_requirements.txt (line 64)) (1.1.1)\n",
            "Requirement already satisfied: imageio>=2.3.0 in /usr/local/lib/python3.6/dist-packages (from scikit-image>=0.11.0->imgaug==0.2.6->-r ./ocp/docs/source/tutorials/colab_requirements.txt (line 64)) (2.4.1)\n",
            "Requirement already satisfied: simplegeneric>0.8 in /usr/local/lib/python3.6/dist-packages (from ipython>=4.0.0; python_version >= \"3.3\"->ipywidgets==7.6.3->-r ./ocp/docs/source/tutorials/colab_requirements.txt (line 69)) (0.8.1)\n",
            "Requirement already satisfied: requests-oauthlib>=0.7.0 in /usr/local/lib/python3.6/dist-packages (from google-auth-oauthlib<0.5,>=0.4.1->tensorboard->-r ./ocp/docs/source/tutorials/colab_requirements.txt (line 186)) (1.3.0)\n",
            "Requirement already satisfied: oauthlib>=3.0.0 in /usr/local/lib/python3.6/dist-packages (from requests-oauthlib>=0.7.0->google-auth-oauthlib<0.5,>=0.4.1->tensorboard->-r ./ocp/docs/source/tutorials/colab_requirements.txt (line 186)) (3.1.0)\n",
            "Building wheels for collected packages: black, submitit\n",
            "  Building wheel for black (PEP 517) ... \u001b[?25l\u001b[?25hdone\n",
            "  Created wheel for black: filename=black-20.8b1-cp36-none-any.whl size=124184 sha256=3a07c8b31cc42aaef81a1785f973b9fb41a9c18f748c94c3b6a9bab8f018cb54\n",
            "  Stored in directory: /root/.cache/pip/wheels/6e/10/b5/edf7359c2edd0305cce7e3f96e07daf7ce55dceac9d3ce3373\n",
            "  Building wheel for submitit (PEP 517) ... \u001b[?25l\u001b[?25hdone\n",
            "  Created wheel for submitit: filename=submitit-1.2.1-cp36-none-any.whl size=64654 sha256=948b5ac8841585a6746a7ca35718de5eacdbf0e9dd554f0b9c4f0460620b53b7\n",
            "  Stored in directory: /root/.cache/pip/wheels/44/c0/72/cca5a337aa336451bbabc2c650f16fc29d72adae70523d549c\n",
            "Successfully built black submitit\n",
            "Building wheels for collected packages: contextvars, demjson, folium, future, gpustat, gpytorch, idna-ssl, imgaug, olefile, pandocfilters, pathtools, pymatgen, PyYAML, subprocess32, torch-cluster, torch-geometric, torch-scatter, torch-sparse, torch-spline-conv, pydispatcher\n",
            "  Building wheel for contextvars (setup.py) ... \u001b[?25l\u001b[?25hdone\n",
            "  Created wheel for contextvars: filename=contextvars-2.4-cp36-none-any.whl size=7667 sha256=3b1b52b11435eb822b214821c71132467a6905f3eb75368e98662d1db0f7833e\n",
            "  Stored in directory: /root/.cache/pip/wheels/a5/7d/68/1ebae2668bda2228686e3c1cf16f2c2384cea6e9334ad5f6de\n",
            "  Building wheel for demjson (setup.py) ... \u001b[?25l\u001b[?25hdone\n",
            "  Created wheel for demjson: filename=demjson-2.2.4-cp36-none-any.whl size=73547 sha256=c974a9868af4a87320f8f6dd25e2754ca6b46c2c20b083f13435e4046c9f3d49\n",
            "  Stored in directory: /root/.cache/pip/wheels/c5/d2/ab/a54fb5ea53ac3badba098160e8452fa126a51febda80440ded\n",
            "  Building wheel for folium (setup.py) ... \u001b[?25l\u001b[?25hdone\n",
            "  Created wheel for folium: filename=folium-0.2.1-cp36-none-any.whl size=79980 sha256=331d05042c6035b18b4a4b68b8fb422d66e3380d34b97d15852e265d2a871756\n",
            "  Stored in directory: /root/.cache/pip/wheels/b8/09/f0/52d2ef419c2aaf4fb149f92a33e0008bdce7ae816f0dd8f0c5\n",
            "  Building wheel for future (setup.py) ... \u001b[?25l\u001b[?25hdone\n",
            "  Created wheel for future: filename=future-0.18.2-cp36-none-any.whl size=491057 sha256=4fd0c959c7dadd76e761e111912bfb5dc5e3590b6f58f830c61118c26d5f2717\n",
            "  Stored in directory: /root/.cache/pip/wheels/8b/99/a0/81daf51dcd359a9377b110a8a886b3895921802d2fc1b2397e\n",
            "  Building wheel for gpustat (setup.py) ... \u001b[?25l\u001b[?25hdone\n",
            "  Created wheel for gpustat: filename=gpustat-0.6.0-cp36-none-any.whl size=12622 sha256=76de06ba0bbdfe56f769bc5ee1bb8ba11594ab2e02ec5c4d85f14464d1556deb\n",
            "  Stored in directory: /root/.cache/pip/wheels/48/b4/d5/fb5b7f1d040f2ff20687e3bad6867d63155dbde5a7c10f4293\n",
            "  Building wheel for gpytorch (setup.py) ... \u001b[?25l\u001b[?25hdone\n",
            "  Created wheel for gpytorch: filename=gpytorch-1.2.0-py2.py3-none-any.whl size=459510 sha256=ccdc1b7ca08dc266234bab0660fa10335bcca5b0d183f20cb5ad342b30543c09\n",
            "  Stored in directory: /root/.cache/pip/wheels/e8/eb/36/f415815e8a8b66c1f1d5a3534718c39c2d83501051f1ab604e\n",
            "  Building wheel for idna-ssl (setup.py) ... \u001b[?25l\u001b[?25hdone\n",
            "  Created wheel for idna-ssl: filename=idna_ssl-1.1.0-cp36-none-any.whl size=3163 sha256=7b2c7cdb9c98c797d39a95cb39f18658418b574114fec2a16b1adbc057121ee1\n",
            "  Stored in directory: /root/.cache/pip/wheels/d3/00/b3/32d613e19e08a739751dd6bf998cfed277728f8b2127ad4eb7\n",
            "  Building wheel for imgaug (setup.py) ... \u001b[?25l\u001b[?25hdone\n",
            "  Created wheel for imgaug: filename=imgaug-0.2.6-cp36-none-any.whl size=654020 sha256=4ab6d74d07194cd78887f7a847beaebb057edb75ac5cc6e6ea05127d3838c8b9\n",
            "  Stored in directory: /root/.cache/pip/wheels/97/ec/48/0d25896c417b715af6236dbcef8f0bed136a1a5e52972fc6d0\n",
            "  Building wheel for olefile (setup.py) ... \u001b[?25l\u001b[?25hdone\n",
            "  Created wheel for olefile: filename=olefile-0.46-py2.py3-none-any.whl size=35416 sha256=57af905bd3a0de3c754b10d5434f51edcd39d01e0979fe3e90073dc3b817ed53\n",
            "  Stored in directory: /root/.cache/pip/wheels/4b/f4/11/bc4166107c27f07fd7bba707ffcb439619197638a1ac986df3\n",
            "  Building wheel for pandocfilters (setup.py) ... \u001b[?25l\u001b[?25hdone\n",
            "  Created wheel for pandocfilters: filename=pandocfilters-1.4.2-cp36-none-any.whl size=7857 sha256=dea5da8c32e56c54a129006a20a71ffa5d1e1ce6ae059f2575e4310a441ce7eb\n",
            "  Stored in directory: /root/.cache/pip/wheels/39/01/56/f1b08a6275acc59e846fa4c1e1b65dbc1919f20157d9e66c20\n",
            "  Building wheel for pathtools (setup.py) ... \u001b[?25l\u001b[?25hdone\n",
            "  Created wheel for pathtools: filename=pathtools-0.1.2-cp36-none-any.whl size=8785 sha256=8d1329f6ae5d20e27f9515b796dc4d1e47bc6081099b097452f2967eaf2feeb6\n",
            "  Stored in directory: /root/.cache/pip/wheels/0b/04/79/c3b0c3a0266a3cb4376da31e5bfe8bba0c489246968a68e843\n",
            "  Building wheel for pymatgen (setup.py) ... \u001b[?25l\u001b[?25hdone\n",
            "  Created wheel for pymatgen: filename=pymatgen-2020.4.2-cp36-cp36m-linux_x86_64.whl size=3515469 sha256=b9bcf45e746748d7c53b23db6e7e731a1dc262c36b27c4697f918ed7b19eb291\n",
            "  Stored in directory: /root/.cache/pip/wheels/ff/49/7d/83991e01ca9ccd6e4858002a63951d27f7304ad9fe04def478\n",
            "  Building wheel for PyYAML (setup.py) ... \u001b[?25l\u001b[?25hdone\n",
            "  Created wheel for PyYAML: filename=PyYAML-5.3.1-cp36-cp36m-linux_x86_64.whl size=44621 sha256=12ce8b4d6808a2d6e5e45507f81d1e73dcbf36fe3dee816ff0fdba5759b01d51\n",
            "  Stored in directory: /root/.cache/pip/wheels/a7/c1/ea/cf5bd31012e735dc1dfea3131a2d5eae7978b251083d6247bd\n",
            "  Building wheel for subprocess32 (setup.py) ... \u001b[?25l\u001b[?25hdone\n",
            "  Created wheel for subprocess32: filename=subprocess32-3.5.4-cp36-none-any.whl size=6490 sha256=f48d38dc7a97c5e8cfbb33dd09214be1aa960b34099bf94a5290955fe15f62de\n",
            "  Stored in directory: /root/.cache/pip/wheels/68/39/1a/5e402bdfdf004af1786c8b853fd92f8c4a04f22aad179654d1\n",
            "  Building wheel for torch-cluster (setup.py) ... \u001b[?25l\u001b[?25hdone\n",
            "  Created wheel for torch-cluster: filename=torch_cluster-1.5.8-cp36-cp36m-linux_x86_64.whl size=20062336 sha256=136aca81293652696c5de383239f62895c9851738d0be447a819163f3cd33891\n",
            "  Stored in directory: /root/.cache/pip/wheels/67/70/82/f8968783eb2e318c6b4cf585983e3c77449937980bbd77c40b\n",
            "  Building wheel for torch-geometric (setup.py) ... \u001b[?25l\u001b[?25hdone\n",
            "  Created wheel for torch-geometric: filename=torch_geometric-1.6.1-cp36-none-any.whl size=308551 sha256=fe3feeb11bc56e3697f970693cae2eb73e9af2e62919128f761fc5cac019e6fd\n",
            "  Stored in directory: /root/.cache/pip/wheels/e6/25/ea/3d71d2088dccc63214fa59259dcc598ded4150a5f8b41d84ff\n",
            "  Building wheel for torch-scatter (setup.py) ... \u001b[?25l\u001b[?25hdone\n",
            "  Created wheel for torch-scatter: filename=torch_scatter-2.0.5-cp36-cp36m-linux_x86_64.whl size=11359443 sha256=a97a272449a8dc420fd954cc6f5d6f7b5e5646c35214e0ff2aae5911108074e6\n",
            "  Stored in directory: /root/.cache/pip/wheels/42/59/d3/9866e4fd8e1fe9260740acfe22322c428bc0dc064d3ebc456c\n",
            "  Building wheel for torch-sparse (setup.py) ... \u001b[?25l\u001b[?25hdone\n",
            "  Created wheel for torch-sparse: filename=torch_sparse-0.6.8-cp36-cp36m-linux_x86_64.whl size=22082254 sha256=3756242b42ae6882ad9151faf464268d50ba18d0637c32bf262ea77178b38578\n",
            "  Stored in directory: /root/.cache/pip/wheels/31/d3/94/e2560941994bebe665b1dccc69faf33d33aeee2bca353c9bcc\n",
            "  Building wheel for torch-spline-conv (setup.py) ... \u001b[?25l\u001b[?25hdone\n",
            "  Created wheel for torch-spline-conv: filename=torch_spline_conv-1.2.0-cp36-cp36m-linux_x86_64.whl size=5985455 sha256=e4354d04fc8e53a3d949d5639d167ae0d55611dde4db902fdb6dec1f69ab4e80\n",
            "  Stored in directory: /root/.cache/pip/wheels/fc/18/bc/5106622bc8d198adc7ee928b087fe842da352ada0a43aa5ea2\n",
            "  Building wheel for pydispatcher (setup.py) ... \u001b[?25l\u001b[?25hdone\n",
            "  Created wheel for pydispatcher: filename=PyDispatcher-2.0.5-cp36-none-any.whl size=11516 sha256=609ecefee67bed091c866269cc22e7f4d27499da81bd28f1afa51014a181ab4b\n",
            "  Stored in directory: /root/.cache/pip/wheels/88/99/96/cfef6665f9cb1522ee6757ae5955feedf2fe25f1737f91fa7f\n",
            "Successfully built contextvars demjson folium future gpustat gpytorch idna-ssl imgaug olefile pandocfilters pathtools pymatgen PyYAML subprocess32 torch-cluster torch-geometric torch-scatter torch-sparse torch-spline-conv pydispatcher\n",
            "Installing collected packages: multidict, idna-ssl, yarl, async-timeout, aiohttp, aiohttp-cors, hiredis, aioredis, pytz, tzlocal, setuptools, APScheduler, numpy, scipy, Pillow, matplotlib, ase, soupsieve, beautifulsoup4, typed-ast, mypy-extensions, dataclasses, pathspec, regex, black, blessings, cffi, brotlipy, cached-property, certifi, cfgv, cftime, cloudpickle, colorama, colorful, configparser, immutables, contextvars, cryptography, demjson, distlib, docker-pycreds, folium, future, smmap, gitdb, GitPython, rsa, google-auth, protobuf, google-api-core, psutil, gpustat, gpytorch, identify, imgaug, isodate, joblib, jsonschema, jupyter-client, latexcodec, llvmlite, lmdb, monty, mpmath, Pygments, pandocfilters, nbconvert, sphinxcontrib-devhelp, sphinxcontrib-applehelp, sphinxcontrib-jsmath, sphinxcontrib-htmlhelp, sphinxcontrib-qthelp, Sphinx, nbsphinx, nest-asyncio, netCDF4, nodeenv, numba, olefile, opencensus-context, opencensus, parso, pathtools, pip, plotly, pluggy, virtualenv, PyYAML, pre-commit, prompt-toolkit, ptyprocess, py-spy, pybtex, ruamel.yaml.clib, ruamel.yaml, pydispatcher, spglib, sympy, pymatgen, pyOpenSSL, PyQt5-sip, PyQt5, PyQtChart, PyQtWebEngine, pytest, redis, ray, rdflib, threadpoolctl, scikit-learn, sentry-sdk, shortuuid, sphinx-rtd-theme, submitit, subprocess32, tensorboardX, torch-cluster, tqdm, torch-geometric, torch-scatter, torch-sparse, torch-spline-conv, vtk, wandb\n",
            "  Found existing installation: pytz 2018.9\n",
            "    Uninstalling pytz-2018.9:\n",
            "      Successfully uninstalled pytz-2018.9\n",
            "  Found existing installation: tzlocal 1.5.1\n",
            "    Uninstalling tzlocal-1.5.1:\n",
            "      Successfully uninstalled tzlocal-1.5.1\n",
            "  Found existing installation: setuptools 53.0.0\n",
            "    Uninstalling setuptools-53.0.0:\n",
            "      Successfully uninstalled setuptools-53.0.0\n",
            "  Found existing installation: numpy 1.19.5\n",
            "    Uninstalling numpy-1.19.5:\n",
            "      Successfully uninstalled numpy-1.19.5\n",
            "  Found existing installation: scipy 1.4.1\n",
            "    Uninstalling scipy-1.4.1:\n",
            "      Successfully uninstalled scipy-1.4.1\n",
            "  Found existing installation: Pillow 7.0.0\n",
            "    Uninstalling Pillow-7.0.0:\n",
            "      Successfully uninstalled Pillow-7.0.0\n",
            "  Found existing installation: matplotlib 3.2.2\n",
            "    Uninstalling matplotlib-3.2.2:\n",
            "      Successfully uninstalled matplotlib-3.2.2\n",
            "  Found existing installation: beautifulsoup4 4.6.3\n",
            "    Uninstalling beautifulsoup4-4.6.3:\n",
            "      Successfully uninstalled beautifulsoup4-4.6.3\n",
            "  Found existing installation: dataclasses 0.8\n",
            "    Uninstalling dataclasses-0.8:\n",
            "      Successfully uninstalled dataclasses-0.8\n",
            "  Found existing installation: regex 2019.12.20\n",
            "    Uninstalling regex-2019.12.20:\n",
            "      Successfully uninstalled regex-2019.12.20\n",
            "  Found existing installation: cffi 1.14.4\n",
            "    Uninstalling cffi-1.14.4:\n",
            "      Successfully uninstalled cffi-1.14.4\n",
            "  Found existing installation: certifi 2020.12.5\n",
            "    Uninstalling certifi-2020.12.5:\n",
            "      Successfully uninstalled certifi-2020.12.5\n",
            "  Found existing installation: cloudpickle 1.3.0\n",
            "    Uninstalling cloudpickle-1.3.0:\n",
            "      Successfully uninstalled cloudpickle-1.3.0\n",
            "  Found existing installation: folium 0.8.3\n",
            "    Uninstalling folium-0.8.3:\n",
            "      Successfully uninstalled folium-0.8.3\n",
            "  Found existing installation: future 0.16.0\n",
            "    Uninstalling future-0.16.0:\n",
            "      Successfully uninstalled future-0.16.0\n",
            "  Found existing installation: rsa 4.7\n",
            "    Uninstalling rsa-4.7:\n",
            "      Successfully uninstalled rsa-4.7\n",
            "  Found existing installation: google-auth 1.25.0\n",
            "    Uninstalling google-auth-1.25.0:\n",
            "      Successfully uninstalled google-auth-1.25.0\n",
            "  Found existing installation: protobuf 3.12.4\n",
            "    Uninstalling protobuf-3.12.4:\n",
            "      Successfully uninstalled protobuf-3.12.4\n",
            "  Found existing installation: google-api-core 1.16.0\n",
            "    Uninstalling google-api-core-1.16.0:\n",
            "      Successfully uninstalled google-api-core-1.16.0\n",
            "  Found existing installation: psutil 5.4.8\n",
            "    Uninstalling psutil-5.4.8:\n",
            "      Successfully uninstalled psutil-5.4.8\n",
            "  Found existing installation: imgaug 0.2.9\n",
            "    Uninstalling imgaug-0.2.9:\n",
            "      Successfully uninstalled imgaug-0.2.9\n",
            "  Found existing installation: joblib 1.0.0\n",
            "    Uninstalling joblib-1.0.0:\n",
            "      Successfully uninstalled joblib-1.0.0\n",
            "  Found existing installation: jsonschema 2.6.0\n",
            "    Uninstalling jsonschema-2.6.0:\n",
            "      Successfully uninstalled jsonschema-2.6.0\n",
            "  Found existing installation: jupyter-client 5.3.5\n",
            "    Uninstalling jupyter-client-5.3.5:\n",
            "      Successfully uninstalled jupyter-client-5.3.5\n",
            "  Found existing installation: llvmlite 0.34.0\n",
            "    Uninstalling llvmlite-0.34.0:\n",
            "      Successfully uninstalled llvmlite-0.34.0\n",
            "  Found existing installation: lmdb 0.99\n",
            "    Uninstalling lmdb-0.99:\n",
            "      Successfully uninstalled lmdb-0.99\n",
            "  Found existing installation: mpmath 1.1.0\n",
            "    Uninstalling mpmath-1.1.0:\n",
            "      Successfully uninstalled mpmath-1.1.0\n",
            "  Found existing installation: Pygments 2.6.1\n",
            "    Uninstalling Pygments-2.6.1:\n",
            "      Successfully uninstalled Pygments-2.6.1\n",
            "  Found existing installation: pandocfilters 1.4.3\n",
            "    Uninstalling pandocfilters-1.4.3:\n",
            "      Successfully uninstalled pandocfilters-1.4.3\n",
            "  Found existing installation: nbconvert 5.6.1\n",
            "    Uninstalling nbconvert-5.6.1:\n",
            "      Successfully uninstalled nbconvert-5.6.1\n",
            "  Found existing installation: Sphinx 1.8.5\n",
            "    Uninstalling Sphinx-1.8.5:\n",
            "      Successfully uninstalled Sphinx-1.8.5\n",
            "  Found existing installation: nest-asyncio 1.5.1\n",
            "    Uninstalling nest-asyncio-1.5.1:\n",
            "      Successfully uninstalled nest-asyncio-1.5.1\n",
            "  Found existing installation: numba 0.51.2\n",
            "    Uninstalling numba-0.51.2:\n",
            "      Successfully uninstalled numba-0.51.2\n",
            "  Found existing installation: parso 0.8.1\n",
            "    Uninstalling parso-0.8.1:\n",
            "      Successfully uninstalled parso-0.8.1\n",
            "  Found existing installation: pip 19.3.1\n",
            "    Uninstalling pip-19.3.1:\n",
            "      Successfully uninstalled pip-19.3.1\n",
            "  Found existing installation: plotly 4.4.1\n",
            "    Uninstalling plotly-4.4.1:\n",
            "      Successfully uninstalled plotly-4.4.1\n",
            "  Found existing installation: pluggy 0.7.1\n",
            "    Uninstalling pluggy-0.7.1:\n",
            "      Successfully uninstalled pluggy-0.7.1\n",
            "  Found existing installation: PyYAML 3.13\n",
            "    Uninstalling PyYAML-3.13:\n",
            "      Successfully uninstalled PyYAML-3.13\n",
            "  Found existing installation: prompt-toolkit 1.0.18\n",
            "    Uninstalling prompt-toolkit-1.0.18:\n",
            "      Successfully uninstalled prompt-toolkit-1.0.18\n",
            "  Found existing installation: ptyprocess 0.7.0\n",
            "    Uninstalling ptyprocess-0.7.0:\n",
            "      Successfully uninstalled ptyprocess-0.7.0\n",
            "  Found existing installation: sympy 1.1.1\n",
            "    Uninstalling sympy-1.1.1:\n",
            "      Successfully uninstalled sympy-1.1.1\n",
            "  Found existing installation: pytest 3.6.4\n",
            "    Uninstalling pytest-3.6.4:\n",
            "      Successfully uninstalled pytest-3.6.4\n",
            "  Found existing installation: scikit-learn 0.22.2.post1\n",
            "    Uninstalling scikit-learn-0.22.2.post1:\n",
            "      Successfully uninstalled scikit-learn-0.22.2.post1\n",
            "  Found existing installation: tqdm 4.41.1\n",
            "    Uninstalling tqdm-4.41.1:\n",
            "      Successfully uninstalled tqdm-4.41.1\n",
            "Successfully installed APScheduler-3.6.3 GitPython-3.1.13 Pillow-8.1.0 PyQt5-5.12.3 PyQt5-sip-4.19.18 PyQtChart-5.12.0 PyQtWebEngine-5.12.1 PyYAML-5.3.1 Pygments-2.8.0 Sphinx-3.5.1 aiohttp-3.7.3 aiohttp-cors-0.7.0 aioredis-1.3.1 ase-3.19.1 async-timeout-3.0.1 beautifulsoup4-4.9.3 black-20.8b1 blessings-1.7 brotlipy-0.7.0 cached-property-1.5.2 certifi-2020.6.20 cffi-1.14.5 cfgv-3.2.0 cftime-1.4.1 cloudpickle-1.6.0 colorama-0.4.4 colorful-0.5.4 configparser-5.0.1 contextvars-2.4 cryptography-3.4.4 dataclasses-0.7 demjson-2.2.4 distlib-0.3.1 docker-pycreds-0.4.0 folium-0.2.1 future-0.18.2 gitdb-4.0.5 google-api-core-1.26.0 google-auth-1.26.1 gpustat-0.6.0 gpytorch-1.2.0 hiredis-1.1.0 identify-1.5.13 idna-ssl-1.1.0 imgaug-0.2.6 immutables-0.15 isodate-0.6.0 joblib-1.0.1 jsonschema-3.2.0 jupyter-client-6.1.11 latexcodec-2.0.1 llvmlite-0.35.0 lmdb-1.0.0 matplotlib-3.3.4 monty-4.0.2 mpmath-1.2.1 multidict-5.1.0 mypy-extensions-0.4.3 nbconvert-6.0.7 nbsphinx-0.8.1 nest-asyncio-1.4.3 netCDF4-1.5.6 nodeenv-1.5.0 numba-0.52.0 numpy-1.19.2 olefile-0.46 opencensus-0.7.12 opencensus-context-0.1.2 pandocfilters-1.4.2 parso-0.8.0 pathspec-0.8.1 pathtools-0.1.2 pip-21.0.1 plotly-4.14.3 pluggy-0.13.1 pre-commit-2.2.0 prompt-toolkit-1.0.4 protobuf-3.14.0 psutil-5.8.0 ptyprocess-0.6.0 py-spy-0.3.4 pyOpenSSL-20.0.1 pybtex-0.24.0 pydispatcher-2.0.5 pymatgen-2020.4.2 pytest-5.4.3 pytz-2021.1 ray-1.2.0 rdflib-5.0.0 redis-3.5.3 regex-2020.11.13 rsa-4.7.1 ruamel.yaml-0.16.12 ruamel.yaml.clib-0.2.2 scikit-learn-0.24.1 scipy-1.5.2 sentry-sdk-0.20.2 setuptools-49.6.0 shortuuid-1.0.1 smmap-3.0.5 soupsieve-2.0.1 spglib-1.16.1 sphinx-rtd-theme-0.5.1 sphinxcontrib-applehelp-1.0.2 sphinxcontrib-devhelp-1.0.2 sphinxcontrib-htmlhelp-1.0.3 sphinxcontrib-jsmath-1.0.1 sphinxcontrib-qthelp-1.0.3 submitit-1.2.1 subprocess32-3.5.4 sympy-1.7.1 tensorboardX-2.1 threadpoolctl-2.1.0 torch-cluster-1.5.8 torch-geometric-1.6.1 torch-scatter-2.0.5 torch-sparse-0.6.8 torch-spline-conv-1.2.0 tqdm-4.45.0 typed-ast-1.4.2 tzlocal-2.1 virtualenv-20.4.2 vtk-9.0.1 wandb-0.10.19 yarl-1.6.3\n"
          ],
          "name": "stdout"
        },
        {
          "output_type": "display_data",
          "data": {
            "application/vnd.colab-display-data+json": {
              "pip_warning": {
                "packages": [
                  "PIL",
                  "cffi",
                  "google",
                  "jupyter_client",
                  "matplotlib",
                  "mpl_toolkits",
                  "numpy",
                  "pkg_resources",
                  "prompt_toolkit",
                  "pygments",
                  "pytz",
                  "sphinxcontrib"
                ]
              }
            }
          },
          "metadata": {
            "tags": []
          }
        }
      ]
    },
    {
      "cell_type": "code",
      "metadata": {
        "colab": {
          "base_uri": "https://localhost:8080/"
        },
        "id": "FDyi-LPQNey6",
        "outputId": "6f6c825c-8c13-4c61-b611-b3c88ecf7efb"
      },
      "source": [
        "# Install OCP module after we have installed other dependencies \r\n",
        "!python3 -m pip install --upgrade git+https://github.com/Open-Catalyst-Project/ocp.git"
      ],
      "execution_count": 6,
      "outputs": [
        {
          "output_type": "stream",
          "text": [
            "Collecting git+https://github.com/Open-Catalyst-Project/ocp.git\n",
            "  Cloning https://github.com/Open-Catalyst-Project/ocp.git to /tmp/pip-req-build-s7wled6g\n",
            "  Running command git clone -q https://github.com/Open-Catalyst-Project/ocp.git /tmp/pip-req-build-s7wled6g\n",
            "  Installing build dependencies ... \u001b[?25l\u001b[?25hdone\n",
            "  Getting requirements to build wheel ... \u001b[?25l\u001b[?25hdone\n",
            "    Preparing wheel metadata ... \u001b[?25l\u001b[?25hdone\n",
            "Building wheels for collected packages: ocp-models\n",
            "  Building wheel for ocp-models (PEP 517) ... \u001b[?25l\u001b[?25hdone\n",
            "  Created wheel for ocp-models: filename=ocp_models-0.0.1-py3-none-any.whl size=95312 sha256=03504c2207c81ee2c89eeaddafe274e97b531ef4c5a73b7b4828e76e33effad8\n",
            "  Stored in directory: /tmp/pip-ephem-wheel-cache-f590spvr/wheels/c6/10/91/242ef2927f2768612c913b05f02c1f9b28d89de65c25aa0962\n",
            "Successfully built ocp-models\n",
            "Installing collected packages: ocp-models\n",
            "Successfully installed ocp-models-0.0.1\n"
          ],
          "name": "stdout"
        }
      ]
    },
    {
      "cell_type": "markdown",
      "metadata": {
        "id": "LKTC_XfIxj-s"
      },
      "source": [
        "## Imports"
      ]
    },
    {
      "cell_type": "code",
      "metadata": {
        "id": "dhT3Tw-Xi7P5"
      },
      "source": [
        "import torch\n",
        "from ocpmodels import models\n",
        "from ocpmodels.trainers import ForcesTrainer"
      ],
      "execution_count": 7,
      "outputs": []
    },
    {
      "cell_type": "code",
      "metadata": {
        "id": "k__NQfqQi7P5",
        "colab": {
          "base_uri": "https://localhost:8080/"
        },
        "outputId": "343f2e63-2953-4e0e-b8b9-c08abb79ddde"
      },
      "source": [
        "# a simple sanity check that a GPU is available\n",
        "if torch.cuda.is_available():\n",
        "    print(\"True\")\n",
        "else:\n",
        "    print(\"False\")"
      ],
      "execution_count": 7,
      "outputs": [
        {
          "output_type": "stream",
          "text": [
            "True\n"
          ],
          "name": "stdout"
        }
      ]
    },
    {
      "cell_type": "markdown",
      "metadata": {
        "id": "JPvi_Gmti7P6"
      },
      "source": [
        "## The essential steps for training an OCP model\n",
        "\n",
        "1) Download data\n",
        "\n",
        "2) Preprocess data (if necessary)\n",
        "\n",
        "3) Define or load a configuration (config), which includes the following\n",
        "   \n",
        "   - task\n",
        "   - model\n",
        "   - optimizer\n",
        "   - dataset\n",
        "   - trainer\n",
        "\n",
        "4) Train\n",
        "\n",
        "5) Depending on the model/task there might be intermediate relaxation step\n",
        "\n",
        "6) Predict"
      ]
    },
    {
      "cell_type": "markdown",
      "metadata": {
        "id": "4KDlNxrji7P7"
      },
      "source": [
        "## Download and preprocess data"
      ]
    },
    {
      "cell_type": "code",
      "metadata": {
        "id": "a_JeXvDUg1Xo",
        "colab": {
          "base_uri": "https://localhost:8080/"
        },
        "outputId": "2e1db3eb-42d2-4ec5-d2f7-10dd2aa3a547"
      },
      "source": [
        "!python ./ocp/scripts/download_data.py --task s2ef --split \"200k\" --get-edges --num-workers 1 --ref-energy"
      ],
      "execution_count": null,
      "outputs": [
        {
          "output_type": "stream",
          "text": [
            "--2021-02-17 01:05:04--  https://dl.fbaipublicfiles.com/opencatalystproject/data/s2ef_train_200K.tar\n",
            "Resolving dl.fbaipublicfiles.com (dl.fbaipublicfiles.com)... 104.22.75.142, 172.67.9.4, 104.22.74.142, ...\n",
            "Connecting to dl.fbaipublicfiles.com (dl.fbaipublicfiles.com)|104.22.75.142|:443... connected.\n",
            "HTTP request sent, awaiting response... 200 OK\n",
            "Length: 359720960 (343M) [application/x-tar]\n",
            "Saving to: ‘s2ef_train_200K.tar’\n",
            "\n",
            "s2ef_train_200K.tar 100%[===================>] 343.06M  73.2MB/s    in 4.7s    \n",
            "\n",
            "2021-02-17 01:05:09 (73.1 MB/s) - ‘s2ef_train_200K.tar’ saved [359720960/359720960]\n",
            "\n",
            "Extracting contents...\n",
            "Uncompressing s2ef_train_200K/s2ef_train_200K: 100% 80/80 [00:40<00:00,  1.99it/s]\n",
            "Preprocessing data into LMDBs: 100% 199992/200000 [38:03<00:00, 97.68it/s]\u001b[0m"
          ],
          "name": "stdout"
        }
      ]
    },
    {
      "cell_type": "markdown",
      "metadata": {
        "id": "gSiXJ8jXi7P7"
      },
      "source": [
        "Please download the train S2EF 200K dataset from [here](https://github.com/Open-Catalyst-Project/ocp/blob/master/README.md#download-the-datasets). This example assumes the --get-edges flag to be present at preprocessing time."
      ]
    },
    {
      "cell_type": "code",
      "metadata": {
        "id": "yQvX48g7i7P7",
        "colab": {
          "base_uri": "https://localhost:8080/",
          "height": 199
        },
        "outputId": "5bcd934a-582f-4c10-d8ab-a9197395d050"
      },
      "source": [
        "# set the path to your local lmdb directory\n",
        "train_src = \"/ocp/data/s2ef/200k/train\"\n",
        "\n",
        "while True: pass"
      ],
      "execution_count": null,
      "outputs": [
        {
          "output_type": "error",
          "ename": "KeyboardInterrupt",
          "evalue": "ignored",
          "traceback": [
            "\u001b[0;31m---------------------------------------------------------------------------\u001b[0m",
            "\u001b[0;31mKeyboardInterrupt\u001b[0m                         Traceback (most recent call last)",
            "\u001b[0;32m<ipython-input-37-7cae159e8dbc>\u001b[0m in \u001b[0;36m<module>\u001b[0;34m()\u001b[0m\n\u001b[1;32m      2\u001b[0m \u001b[0mtrain_src\u001b[0m \u001b[0;34m=\u001b[0m \u001b[0;34m\"/ocp/data/s2ef/200k/train\"\u001b[0m\u001b[0;34m\u001b[0m\u001b[0;34m\u001b[0m\u001b[0m\n\u001b[1;32m      3\u001b[0m \u001b[0;34m\u001b[0m\u001b[0m\n\u001b[0;32m----> 4\u001b[0;31m \u001b[0;32mwhile\u001b[0m \u001b[0;32mTrue\u001b[0m\u001b[0;34m:\u001b[0m \u001b[0;32mpass\u001b[0m\u001b[0;34m\u001b[0m\u001b[0;34m\u001b[0m\u001b[0m\n\u001b[0m",
            "\u001b[0;31mKeyboardInterrupt\u001b[0m: "
          ]
        }
      ]
    },
    {
      "cell_type": "markdown",
      "metadata": {
        "id": "z5gWehKGi7P8"
      },
      "source": [
        "## Define config"
      ]
    },
    {
      "cell_type": "markdown",
      "metadata": {
        "id": "nfbpmvU6i7P8"
      },
      "source": [
        "For this example, we will explicitly define the config; however, a set of default config files exists in the config folder of this repository. Default config yaml files can easily be loaded with the `build_config` util (found in `ocp/ocpmodels/common/utils.py`). Loading a yaml config is preferrable when launching jobs from the command line. We have included our best models' config files [here](https://github.com/Open-Catalyst-Project/ocp/tree/master/configs/s2ef)."
      ]
    },
    {
      "cell_type": "markdown",
      "metadata": {
        "id": "QXYYGf77i7P8"
      },
      "source": [
        "**Task** "
      ]
    },
    {
      "cell_type": "code",
      "metadata": {
        "id": "7AUeYGNHi7P8"
      },
      "source": [
        "task = {\n",
        "    'dataset': 'trajectory_lmdb', # dataset used for the S2EF task\n",
        "    'description': 'Regressing to energies and forces for DFT trajectories from OCP',\n",
        "    'type': 'regression',\n",
        "    'metric': 'mae',\n",
        "    'labels': ['potential energy'],\n",
        "    'grad_input': 'atomic forces',\n",
        "    'train_on_free_atoms': True,\n",
        "    'eval_on_free_atoms': True\n",
        "}"
      ],
      "execution_count": null,
      "outputs": []
    },
    {
      "cell_type": "markdown",
      "metadata": {
        "id": "akCYqc1Ii7P9"
      },
      "source": [
        "**Model** - SchNet for this example"
      ]
    },
    {
      "cell_type": "code",
      "metadata": {
        "id": "IFjoLoOwi7P9"
      },
      "source": [
        "model = {\n",
        "    'name': 'schnet',\n",
        "    'hidden_channels': 1024, # if training is too slow for example purposes reduce the number of hidden channels\n",
        "    'num_filters': 256,\n",
        "    'num_interactions': 3,\n",
        "    'num_gaussians': 200,\n",
        "    'cutoff': 6.0\n",
        "}"
      ],
      "execution_count": null,
      "outputs": []
    },
    {
      "cell_type": "markdown",
      "metadata": {
        "id": "Jow48mSFi7P9"
      },
      "source": [
        "**Optimizer**"
      ]
    },
    {
      "cell_type": "code",
      "metadata": {
        "id": "RbCGJD-Ci7P9"
      },
      "source": [
        "optimizer = {\n",
        "    'batch_size': 16, # if hitting GPU memory issues, lower this\n",
        "    'eval_batch_size': 8,\n",
        "    'num_workers': 8,\n",
        "    'lr_initial': 0.0001,\n",
        "    'lr_gamma': 0.1,\n",
        "    'lr_milestones': [15, 20],\n",
        "    'warmup_epochs': 10,\n",
        "    'warmup_factor': 0.2,\n",
        "    'max_epochs': 1, # used for demonstration purposes\n",
        "    'force_coefficient': 100,\n",
        "}"
      ],
      "execution_count": null,
      "outputs": []
    },
    {
      "cell_type": "markdown",
      "metadata": {
        "id": "Nj_ZKzMyi7P-"
      },
      "source": [
        "**Dataset**"
      ]
    },
    {
      "cell_type": "markdown",
      "metadata": {
        "id": "LCUM284wi7P-"
      },
      "source": [
        "For simplicity, `train_src` is used for all the train/val/test sets. Feel free to update with the actual S2EF val and test sets, but it does require additional downloads and preprocessing. If you desire to normalize your targets, `normalize_labels` must be set to `True` and corresponding `mean` and `stds` need to be specified. These values have been precomputed for you and can be found in any of the [`base.yml`](https://github.com/Open-Catalyst-Project/ocp/blob/master/configs/s2ef/20M/base.yml#L5-L9) config files."
      ]
    },
    {
      "cell_type": "code",
      "metadata": {
        "id": "mfk0hgnpi7P-",
        "colab": {
          "base_uri": "https://localhost:8080/",
          "height": 231
        },
        "outputId": "a7b3ea08-cf16-4f7b-ee15-c3be5f24026a"
      },
      "source": [
        "dataset = [\n",
        "{'src': train_src, 'normalize_labels': False}, # train set \n",
        "{'src': train_src}, # val set (optional)\n",
        "{'src': train_src} # test set (optional - writes predictions to disk)\n",
        "]"
      ],
      "execution_count": null,
      "outputs": [
        {
          "output_type": "error",
          "ename": "NameError",
          "evalue": "ignored",
          "traceback": [
            "\u001b[0;31m---------------------------------------------------------------------------\u001b[0m",
            "\u001b[0;31mNameError\u001b[0m                                 Traceback (most recent call last)",
            "\u001b[0;32m<ipython-input-37-d222320c844b>\u001b[0m in \u001b[0;36m<module>\u001b[0;34m()\u001b[0m\n\u001b[1;32m      1\u001b[0m dataset = [\n\u001b[0;32m----> 2\u001b[0;31m \u001b[0;34m{\u001b[0m\u001b[0;34m'src'\u001b[0m\u001b[0;34m:\u001b[0m \u001b[0mtrain_src\u001b[0m\u001b[0;34m,\u001b[0m \u001b[0;34m'normalize_labels'\u001b[0m\u001b[0;34m:\u001b[0m \u001b[0;32mFalse\u001b[0m\u001b[0;34m}\u001b[0m\u001b[0;34m,\u001b[0m \u001b[0;31m# train set\u001b[0m\u001b[0;34m\u001b[0m\u001b[0;34m\u001b[0m\u001b[0m\n\u001b[0m\u001b[1;32m      3\u001b[0m \u001b[0;34m{\u001b[0m\u001b[0;34m'src'\u001b[0m\u001b[0;34m:\u001b[0m \u001b[0mtrain_src\u001b[0m\u001b[0;34m}\u001b[0m\u001b[0;34m,\u001b[0m \u001b[0;31m# val set (optional)\u001b[0m\u001b[0;34m\u001b[0m\u001b[0;34m\u001b[0m\u001b[0m\n\u001b[1;32m      4\u001b[0m \u001b[0;34m{\u001b[0m\u001b[0;34m'src'\u001b[0m\u001b[0;34m:\u001b[0m \u001b[0mtrain_src\u001b[0m\u001b[0;34m}\u001b[0m \u001b[0;31m# test set (optional - writes predictions to disk)\u001b[0m\u001b[0;34m\u001b[0m\u001b[0;34m\u001b[0m\u001b[0m\n\u001b[1;32m      5\u001b[0m ]\n",
            "\u001b[0;31mNameError\u001b[0m: name 'train_src' is not defined"
          ]
        }
      ]
    },
    {
      "cell_type": "markdown",
      "metadata": {
        "id": "hJ6blewEi7P-"
      },
      "source": [
        "**Trainer**"
      ]
    },
    {
      "cell_type": "markdown",
      "metadata": {
        "id": "_DhsPR1Wi7P-"
      },
      "source": [
        "Use the `ForcesTrainer` for the S2EF and IS2RS tasks, and the `EnergyTrainer` for the IS2RE task "
      ]
    },
    {
      "cell_type": "code",
      "metadata": {
        "id": "LUm4_aWyi7P_",
        "outputId": "2da78b55-d313-459e-e155-ff423f8494a3"
      },
      "source": [
        "trainer = ForcesTrainer(\n",
        "    task=task,\n",
        "    model=model,\n",
        "    dataset=dataset,\n",
        "    optimizer=optimizer,\n",
        "    identifier=\"SchNet-example\",\n",
        "    run_dir=\"./\", # directory to save results if is_debug=False. Prediction files are saved here so be careful not to override!\n",
        "    is_debug=False, # if True, do not save checkpoint, logs, or results\n",
        "    is_vis=False,\n",
        "    print_every=10,\n",
        "    seed=0, # random seed to use\n",
        "    logger=\"tensorboard\", # logger of choice (tensorboard and wandb supported)\n",
        "    local_rank=0,\n",
        "    amp=False, # use PyTorch Automatic Mixed Precision (faster training and less memory usage)\n",
        ")"
      ],
      "execution_count": null,
      "outputs": [
        {
          "output_type": "stream",
          "text": [
            "amp: false\n",
            "cmd:\n",
            "  checkpoint_dir: checkpoints/2021-01-06-16-49-04-SchNet-example\n",
            "  identifier: SchNet-example\n",
            "  logs_dir: logs/tensorboard/2021-01-06-16-49-04-SchNet-example\n",
            "  print_every: 10\n",
            "  results_dir: results/2021-01-06-16-49-04-SchNet-example\n",
            "  seed: 0\n",
            "  timestamp: 2021-01-06-16-49-04-SchNet-example\n",
            "dataset:\n",
            "  normalize_labels: false\n",
            "  src: /home/jovyan/projects/ocp/data/s2ef/200k/train-demo\n",
            "logger: tensorboard\n",
            "logger_entity: null\n",
            "logger_project: null\n",
            "model: schnet\n",
            "model_attributes:\n",
            "  cutoff: 6.0\n",
            "  hidden_channels: 1024\n",
            "  num_filters: 256\n",
            "  num_gaussians: 200\n",
            "  num_interactions: 3\n",
            "optim:\n",
            "  batch_size: 16\n",
            "  eval_batch_size: 8\n",
            "  force_coefficient: 100\n",
            "  lr_gamma: 0.1\n",
            "  lr_initial: 0.0001\n",
            "  lr_milestones:\n",
            "  - 15\n",
            "  - 20\n",
            "  max_epochs: 1\n",
            "  num_workers: 64\n",
            "  warmup_epochs: 10\n",
            "  warmup_factor: 0.2\n",
            "task:\n",
            "  dataset: trajectory_lmdb\n",
            "  description: Regressing to energies and forces for DFT trajectories from OCP\n",
            "  eval_on_free_atoms: true\n",
            "  grad_input: atomic forces\n",
            "  labels:\n",
            "  - potential energy\n",
            "  metric: mae\n",
            "  train_on_free_atoms: true\n",
            "  type: regression\n",
            "test_dataset:\n",
            "  src: /home/jovyan/projects/ocp/data/s2ef/200k/train-demo\n",
            "val_dataset:\n",
            "  src: /home/jovyan/projects/ocp/data/s2ef/200k/train-demo\n",
            "\n",
            "### Loading dataset: trajectory_lmdb\n",
            "### Loading model: schnet\n",
            "### Loaded SchNet with 5704193 parameters.\n",
            "NOTE: model gradient logging to tensorboard not yet supported.\n"
          ],
          "name": "stdout"
        }
      ]
    },
    {
      "cell_type": "markdown",
      "metadata": {
        "id": "7F-RdI7Ei7P_"
      },
      "source": [
        "## Check the model"
      ]
    },
    {
      "cell_type": "code",
      "metadata": {
        "id": "q-L0Ad5ii7P_",
        "outputId": "2e9c0e66-6da1-4f29-8a63-eed9afbe81dd"
      },
      "source": [
        "print(trainer.model)"
      ],
      "execution_count": null,
      "outputs": [
        {
          "output_type": "stream",
          "text": [
            "OCPDataParallel(\n",
            "  (module): SchNet(hidden_channels=1024, num_filters=256, num_interactions=3, num_gaussians=200, cutoff=6.0)\n",
            ")\n"
          ],
          "name": "stdout"
        }
      ]
    },
    {
      "cell_type": "markdown",
      "metadata": {
        "id": "rZxJKGBzi7P_"
      },
      "source": [
        "## Train"
      ]
    },
    {
      "cell_type": "code",
      "metadata": {
        "scrolled": true,
        "id": "SKofigXmi7QA",
        "outputId": "b1230686-c859-4227-ecd4-940d3f0a178d"
      },
      "source": [
        "trainer.train()"
      ],
      "execution_count": null,
      "outputs": [
        {
          "output_type": "stream",
          "text": [
            "forcesx_mae: 0.7450, forcesy_mae: 0.8024, forcesz_mae: 0.8352, forces_mae: 0.7942, forces_cos: 0.0523, forces_magnitude: 1.4755, energy_mae: 34.4331, energy_force_within_threshold: 0.0000, loss: 113.8546, epoch: 0.0003\n",
            "forcesx_mae: 0.5871, forcesy_mae: 0.6545, forcesz_mae: 0.6278, forces_mae: 0.6232, forces_cos: 0.0263, forces_magnitude: 1.1090, energy_mae: 32.7792, energy_force_within_threshold: 0.0000, loss: 95.0260, epoch: 0.0035\n",
            "forcesx_mae: 0.4987, forcesy_mae: 0.5432, forcesz_mae: 0.5586, forces_mae: 0.5335, forces_cos: 0.0030, forces_magnitude: 0.9548, energy_mae: 23.5220, energy_force_within_threshold: 0.0000, loss: 76.8902, epoch: 0.0067\n",
            "forcesx_mae: 0.3893, forcesy_mae: 0.4586, forcesz_mae: 0.4432, forces_mae: 0.4303, forces_cos: -0.0035, forces_magnitude: 0.7461, energy_mae: 19.4026, energy_force_within_threshold: 0.0000, loss: 62.5090, epoch: 0.0099\n",
            "forcesx_mae: 0.3424, forcesy_mae: 0.4016, forcesz_mae: 0.4249, forces_mae: 0.3896, forces_cos: 0.0140, forces_magnitude: 0.6547, energy_mae: 12.7195, energy_force_within_threshold: 0.0000, loss: 51.6025, epoch: 0.0131\n",
            "forcesx_mae: 0.2995, forcesy_mae: 0.3742, forcesz_mae: 0.3871, forces_mae: 0.3536, forces_cos: -0.0065, forces_magnitude: 0.6189, energy_mae: 11.5260, energy_force_within_threshold: 0.0000, loss: 46.8553, epoch: 0.0163\n",
            "forcesx_mae: 0.2840, forcesy_mae: 0.3627, forcesz_mae: 0.3515, forces_mae: 0.3328, forces_cos: 0.0135, forces_magnitude: 0.5514, energy_mae: 8.4467, energy_force_within_threshold: 0.0000, loss: 41.9133, epoch: 0.0195\n",
            "forcesx_mae: 0.2917, forcesy_mae: 0.3613, forcesz_mae: 0.3556, forces_mae: 0.3362, forces_cos: 0.0089, forces_magnitude: 0.5407, energy_mae: 7.3080, energy_force_within_threshold: 0.0000, loss: 41.0128, epoch: 0.0227\n",
            "forcesx_mae: 0.2570, forcesy_mae: 0.3046, forcesz_mae: 0.3075, forces_mae: 0.2897, forces_cos: 0.0302, forces_magnitude: 0.4638, energy_mae: 7.7318, energy_force_within_threshold: 0.0000, loss: 36.6349, epoch: 0.0259\n",
            "forcesx_mae: 0.2386, forcesy_mae: 0.2897, forcesz_mae: 0.3020, forces_mae: 0.2768, forces_cos: 0.0163, forces_magnitude: 0.4575, energy_mae: 5.4723, energy_force_within_threshold: 0.0000, loss: 33.2136, epoch: 0.0291\n",
            "forcesx_mae: 0.2324, forcesy_mae: 0.2916, forcesz_mae: 0.3128, forces_mae: 0.2790, forces_cos: 0.0120, forces_magnitude: 0.4428, energy_mae: 4.7084, energy_force_within_threshold: 0.0000, loss: 32.5129, epoch: 0.0323\n",
            "forcesx_mae: 0.2464, forcesy_mae: 0.2763, forcesz_mae: 0.2982, forces_mae: 0.2736, forces_cos: 0.0356, forces_magnitude: 0.4372, energy_mae: 4.6403, energy_force_within_threshold: 0.0000, loss: 31.8313, epoch: 0.0355\n",
            "forcesx_mae: 0.2524, forcesy_mae: 0.2781, forcesz_mae: 0.2906, forces_mae: 0.2737, forces_cos: 0.0269, forces_magnitude: 0.4432, energy_mae: 4.4322, energy_force_within_threshold: 0.0000, loss: 31.7298, epoch: 0.0387\n",
            "forcesx_mae: 0.2417, forcesy_mae: 0.2937, forcesz_mae: 0.2870, forces_mae: 0.2741, forces_cos: 0.0298, forces_magnitude: 0.4401, energy_mae: 4.0072, energy_force_within_threshold: 0.0000, loss: 31.5080, epoch: 0.0419\n",
            "forcesx_mae: 0.2249, forcesy_mae: 0.2451, forcesz_mae: 0.2533, forces_mae: 0.2411, forces_cos: 0.0450, forces_magnitude: 0.3889, energy_mae: 3.4397, energy_force_within_threshold: 0.0000, loss: 27.4870, epoch: 0.0451\n",
            "forcesx_mae: 0.2244, forcesy_mae: 0.2649, forcesz_mae: 0.2587, forces_mae: 0.2493, forces_cos: 0.0326, forces_magnitude: 0.3977, energy_mae: 3.8443, energy_force_within_threshold: 0.0000, loss: 28.7230, epoch: 0.0483\n",
            "forcesx_mae: 0.1988, forcesy_mae: 0.2390, forcesz_mae: 0.2547, forces_mae: 0.2308, forces_cos: 0.0277, forces_magnitude: 0.3695, energy_mae: 3.8582, energy_force_within_threshold: 0.0000, loss: 26.9519, epoch: 0.0515\n",
            "forcesx_mae: 0.2200, forcesy_mae: 0.2407, forcesz_mae: 0.2593, forces_mae: 0.2400, forces_cos: 0.0208, forces_magnitude: 0.3677, energy_mae: 3.3261, energy_force_within_threshold: 0.0000, loss: 27.3233, epoch: 0.0547\n",
            "forcesx_mae: 0.2127, forcesy_mae: 0.2399, forcesz_mae: 0.2547, forces_mae: 0.2358, forces_cos: 0.0476, forces_magnitude: 0.3768, energy_mae: 3.5244, energy_force_within_threshold: 0.0000, loss: 27.1558, epoch: 0.0579\n",
            "forcesx_mae: 0.2079, forcesy_mae: 0.2418, forcesz_mae: 0.2451, forces_mae: 0.2316, forces_cos: 0.0434, forces_magnitude: 0.3621, energy_mae: 3.6039, energy_force_within_threshold: 0.0000, loss: 26.8722, epoch: 0.0611\n",
            "forcesx_mae: 0.1895, forcesy_mae: 0.2202, forcesz_mae: 0.2369, forces_mae: 0.2156, forces_cos: 0.0311, forces_magnitude: 0.3374, energy_mae: 3.4304, energy_force_within_threshold: 0.0000, loss: 24.9028, epoch: 0.0643\n",
            "forcesx_mae: 0.1953, forcesy_mae: 0.2370, forcesz_mae: 0.2411, forces_mae: 0.2245, forces_cos: 0.0207, forces_magnitude: 0.3395, energy_mae: 3.8720, energy_force_within_threshold: 0.0000, loss: 26.2537, epoch: 0.0675\n",
            "forcesx_mae: 0.1936, forcesy_mae: 0.2252, forcesz_mae: 0.2398, forces_mae: 0.2195, forces_cos: 0.0370, forces_magnitude: 0.3320, energy_mae: 4.0795, energy_force_within_threshold: 0.0000, loss: 25.9039, epoch: 0.0707\n",
            "forcesx_mae: 0.1855, forcesy_mae: 0.2304, forcesz_mae: 0.2308, forces_mae: 0.2155, forces_cos: 0.0143, forces_magnitude: 0.3461, energy_mae: 3.9387, energy_force_within_threshold: 0.0000, loss: 25.4135, epoch: 0.0739\n",
            "forcesx_mae: 0.2040, forcesy_mae: 0.2303, forcesz_mae: 0.2403, forces_mae: 0.2249, forces_cos: 0.0221, forces_magnitude: 0.3427, energy_mae: 3.7698, energy_force_within_threshold: 0.0000, loss: 26.1306, epoch: 0.0771\n",
            "forcesx_mae: 0.1891, forcesy_mae: 0.2132, forcesz_mae: 0.2250, forces_mae: 0.2091, forces_cos: 0.0358, forces_magnitude: 0.3230, energy_mae: 3.5277, energy_force_within_threshold: 0.0000, loss: 24.4202, epoch: 0.0803\n",
            "forcesx_mae: 0.1851, forcesy_mae: 0.2106, forcesz_mae: 0.2081, forces_mae: 0.2013, forces_cos: 0.0215, forces_magnitude: 0.3080, energy_mae: 2.9705, energy_force_within_threshold: 0.0000, loss: 23.1025, epoch: 0.0835\n",
            "forcesx_mae: 0.1841, forcesy_mae: 0.2159, forcesz_mae: 0.2281, forces_mae: 0.2094, forces_cos: 0.0238, forces_magnitude: 0.3074, energy_mae: 2.9688, energy_force_within_threshold: 0.0000, loss: 23.8364, epoch: 0.0867\n",
            "forcesx_mae: 0.1683, forcesy_mae: 0.2034, forcesz_mae: 0.2063, forces_mae: 0.1927, forces_cos: 0.0282, forces_magnitude: 0.2949, energy_mae: 3.1820, energy_force_within_threshold: 0.0000, loss: 22.2960, epoch: 0.0899\n",
            "forcesx_mae: 0.1725, forcesy_mae: 0.1974, forcesz_mae: 0.2100, forces_mae: 0.1933, forces_cos: 0.0451, forces_magnitude: 0.2903, energy_mae: 3.6633, energy_force_within_threshold: 0.0000, loss: 22.9613, epoch: 0.0931\n",
            "forcesx_mae: 0.1633, forcesy_mae: 0.2064, forcesz_mae: 0.2095, forces_mae: 0.1931, forces_cos: 0.0241, forces_magnitude: 0.2989, energy_mae: 3.7626, energy_force_within_threshold: 0.0000, loss: 23.1334, epoch: 0.0963\n",
            "forcesx_mae: 0.1656, forcesy_mae: 0.1925, forcesz_mae: 0.2012, forces_mae: 0.1865, forces_cos: 0.0362, forces_magnitude: 0.2766, energy_mae: 3.4898, energy_force_within_threshold: 0.0000, loss: 22.1595, epoch: 0.0995\n",
            "forcesx_mae: 0.1748, forcesy_mae: 0.2388, forcesz_mae: 0.2346, forces_mae: 0.2161, forces_cos: 0.0175, forces_magnitude: 0.3367, energy_mae: 4.1621, energy_force_within_threshold: 0.0000, loss: 25.8232, epoch: 0.1027\n",
            "forcesx_mae: 0.1812, forcesy_mae: 0.2165, forcesz_mae: 0.2230, forces_mae: 0.2069, forces_cos: 0.0120, forces_magnitude: 0.3118, energy_mae: 3.3028, energy_force_within_threshold: 0.0000, loss: 24.0031, epoch: 0.1059\n",
            "forcesx_mae: 0.1681, forcesy_mae: 0.2106, forcesz_mae: 0.2258, forces_mae: 0.2015, forces_cos: 0.0341, forces_magnitude: 0.3121, energy_mae: 3.7153, energy_force_within_threshold: 0.0000, loss: 23.8968, epoch: 0.1091\n",
            "forcesx_mae: 0.1748, forcesy_mae: 0.2004, forcesz_mae: 0.2039, forces_mae: 0.1930, forces_cos: 0.0241, forces_magnitude: 0.2910, energy_mae: 3.3398, energy_force_within_threshold: 0.0000, loss: 22.6169, epoch: 0.1123\n",
            "forcesx_mae: 0.1775, forcesy_mae: 0.2031, forcesz_mae: 0.2053, forces_mae: 0.1953, forces_cos: 0.0281, forces_magnitude: 0.2900, energy_mae: 3.3233, energy_force_within_threshold: 0.0000, loss: 22.9527, epoch: 0.1155\n",
            "forcesx_mae: 0.1634, forcesy_mae: 0.1877, forcesz_mae: 0.2121, forces_mae: 0.1877, forces_cos: 0.0273, forces_magnitude: 0.2879, energy_mae: 3.9480, energy_force_within_threshold: 0.0000, loss: 22.7752, epoch: 0.1187\n"
          ],
          "name": "stdout"
        },
        {
          "output_type": "stream",
          "text": [
            "forcesx_mae: 0.1572, forcesy_mae: 0.1844, forcesz_mae: 0.1891, forces_mae: 0.1769, forces_cos: 0.0481, forces_magnitude: 0.2624, energy_mae: 3.4449, energy_force_within_threshold: 0.0000, loss: 21.1611, epoch: 0.1219\n",
            "forcesx_mae: 0.1572, forcesy_mae: 0.1776, forcesz_mae: 0.1807, forces_mae: 0.1719, forces_cos: 0.0335, forces_magnitude: 0.2534, energy_mae: 3.0279, energy_force_within_threshold: 0.0000, loss: 20.1898, epoch: 0.1251\n",
            "forcesx_mae: 0.1717, forcesy_mae: 0.1934, forcesz_mae: 0.2013, forces_mae: 0.1888, forces_cos: 0.0335, forces_magnitude: 0.2845, energy_mae: 3.6823, energy_force_within_threshold: 0.0000, loss: 22.6440, epoch: 0.1283\n",
            "forcesx_mae: 0.1627, forcesy_mae: 0.1934, forcesz_mae: 0.2017, forces_mae: 0.1859, forces_cos: 0.0414, forces_magnitude: 0.2795, energy_mae: 3.6687, energy_force_within_threshold: 0.0000, loss: 22.2938, epoch: 0.1315\n",
            "forcesx_mae: 0.1689, forcesy_mae: 0.2036, forcesz_mae: 0.1978, forces_mae: 0.1901, forces_cos: 0.0374, forces_magnitude: 0.2884, energy_mae: 3.0601, energy_force_within_threshold: 0.0000, loss: 21.9837, epoch: 0.1347\n",
            "forcesx_mae: 0.1669, forcesy_mae: 0.1972, forcesz_mae: 0.1953, forces_mae: 0.1865, forces_cos: 0.0259, forces_magnitude: 0.2711, energy_mae: 3.3206, energy_force_within_threshold: 0.0000, loss: 21.8944, epoch: 0.1379\n",
            "forcesx_mae: 0.1542, forcesy_mae: 0.1871, forcesz_mae: 0.1964, forces_mae: 0.1792, forces_cos: 0.0317, forces_magnitude: 0.2697, energy_mae: 3.3421, energy_force_within_threshold: 0.0000, loss: 21.2236, epoch: 0.1411\n",
            "forcesx_mae: 0.1789, forcesy_mae: 0.1942, forcesz_mae: 0.2138, forces_mae: 0.1956, forces_cos: 0.0380, forces_magnitude: 0.2861, energy_mae: 3.3249, energy_force_within_threshold: 0.0000, loss: 22.7581, epoch: 0.1443\n",
            "forcesx_mae: 0.1537, forcesy_mae: 0.1856, forcesz_mae: 0.1866, forces_mae: 0.1753, forces_cos: 0.0409, forces_magnitude: 0.2613, energy_mae: 3.3372, energy_force_within_threshold: 0.0000, loss: 20.8736, epoch: 0.1475\n",
            "forcesx_mae: 0.1597, forcesy_mae: 0.1804, forcesz_mae: 0.1942, forces_mae: 0.1781, forces_cos: 0.0231, forces_magnitude: 0.2605, energy_mae: 3.4279, energy_force_within_threshold: 0.0000, loss: 21.2158, epoch: 0.1507\n",
            "forcesx_mae: 0.1721, forcesy_mae: 0.2000, forcesz_mae: 0.2076, forces_mae: 0.1932, forces_cos: 0.0296, forces_magnitude: 0.2896, energy_mae: 3.8924, energy_force_within_threshold: 0.0000, loss: 23.1829, epoch: 0.1539\n",
            "forcesx_mae: 0.1566, forcesy_mae: 0.1782, forcesz_mae: 0.1896, forces_mae: 0.1748, forces_cos: 0.0355, forces_magnitude: 0.2557, energy_mae: 2.9189, energy_force_within_threshold: 0.0000, loss: 20.5259, epoch: 0.1571\n",
            "forcesx_mae: 0.1599, forcesy_mae: 0.1737, forcesz_mae: 0.1898, forces_mae: 0.1745, forces_cos: 0.0295, forces_magnitude: 0.2574, energy_mae: 3.3135, energy_force_within_threshold: 0.0000, loss: 20.7663, epoch: 0.1603\n",
            "forcesx_mae: 0.1766, forcesy_mae: 0.1936, forcesz_mae: 0.2059, forces_mae: 0.1921, forces_cos: 0.0316, forces_magnitude: 0.2860, energy_mae: 3.5152, energy_force_within_threshold: 0.0000, loss: 22.6239, epoch: 0.1635\n",
            "forcesx_mae: 0.1559, forcesy_mae: 0.1819, forcesz_mae: 0.1934, forces_mae: 0.1771, forces_cos: 0.0210, forces_magnitude: 0.2583, energy_mae: 3.2609, energy_force_within_threshold: 0.0000, loss: 20.8793, epoch: 0.1667\n",
            "forcesx_mae: 0.1582, forcesy_mae: 0.1847, forcesz_mae: 0.1893, forces_mae: 0.1774, forces_cos: 0.0350, forces_magnitude: 0.2587, energy_mae: 3.9181, energy_force_within_threshold: 0.0000, loss: 21.8137, epoch: 0.1699\n",
            "forcesx_mae: 0.1390, forcesy_mae: 0.1649, forcesz_mae: 0.1765, forces_mae: 0.1602, forces_cos: 0.0476, forces_magnitude: 0.2380, energy_mae: 3.6469, energy_force_within_threshold: 0.0000, loss: 19.6585, epoch: 0.1731\n",
            "forcesx_mae: 0.1356, forcesy_mae: 0.1689, forcesz_mae: 0.1662, forces_mae: 0.1569, forces_cos: 0.0253, forces_magnitude: 0.2228, energy_mae: 3.3145, energy_force_within_threshold: 0.0000, loss: 19.1452, epoch: 0.1763\n",
            "forcesx_mae: 0.1335, forcesy_mae: 0.1559, forcesz_mae: 0.1664, forces_mae: 0.1519, forces_cos: 0.0230, forces_magnitude: 0.2294, energy_mae: 3.6579, energy_force_within_threshold: 0.0000, loss: 18.9236, epoch: 0.1795\n",
            "forcesx_mae: 0.1415, forcesy_mae: 0.1721, forcesz_mae: 0.1844, forces_mae: 0.1660, forces_cos: 0.0226, forces_magnitude: 0.2445, energy_mae: 3.3220, energy_force_within_threshold: 0.0000, loss: 19.9177, epoch: 0.1827\n",
            "forcesx_mae: 0.1582, forcesy_mae: 0.1691, forcesz_mae: 0.1990, forces_mae: 0.1755, forces_cos: 0.0348, forces_magnitude: 0.2760, energy_mae: 3.2786, energy_force_within_threshold: 0.0000, loss: 21.2541, epoch: 0.1859\n",
            "forcesx_mae: 0.1278, forcesy_mae: 0.1555, forcesz_mae: 0.1549, forces_mae: 0.1461, forces_cos: 0.0447, forces_magnitude: 0.2038, energy_mae: 3.2909, energy_force_within_threshold: 0.0000, loss: 17.9406, epoch: 0.1891\n",
            "forcesx_mae: 0.1471, forcesy_mae: 0.1689, forcesz_mae: 0.1769, forces_mae: 0.1643, forces_cos: 0.0302, forces_magnitude: 0.2356, energy_mae: 3.5024, energy_force_within_threshold: 0.0000, loss: 20.0305, epoch: 0.1923\n",
            "forcesx_mae: 0.1375, forcesy_mae: 0.1604, forcesz_mae: 0.1617, forces_mae: 0.1532, forces_cos: 0.0238, forces_magnitude: 0.2113, energy_mae: 3.2832, energy_force_within_threshold: 0.0000, loss: 18.5349, epoch: 0.1955\n",
            "forcesx_mae: 0.1399, forcesy_mae: 0.1594, forcesz_mae: 0.1647, forces_mae: 0.1547, forces_cos: 0.0216, forces_magnitude: 0.2155, energy_mae: 2.9932, energy_force_within_threshold: 0.0000, loss: 18.4881, epoch: 0.1987\n",
            "forcesx_mae: 0.1428, forcesy_mae: 0.1697, forcesz_mae: 0.1766, forces_mae: 0.1630, forces_cos: 0.0307, forces_magnitude: 0.2388, energy_mae: 3.4693, energy_force_within_threshold: 0.0000, loss: 19.6924, epoch: 0.2019\n",
            "forcesx_mae: 0.1332, forcesy_mae: 0.1547, forcesz_mae: 0.1581, forces_mae: 0.1487, forces_cos: 0.0328, forces_magnitude: 0.2189, energy_mae: 3.0032, energy_force_within_threshold: 0.0000, loss: 17.8830, epoch: 0.2051\n",
            "forcesx_mae: 0.1290, forcesy_mae: 0.1535, forcesz_mae: 0.1570, forces_mae: 0.1465, forces_cos: 0.0437, forces_magnitude: 0.2161, energy_mae: 2.4408, energy_force_within_threshold: 0.0000, loss: 17.1190, epoch: 0.2083\n",
            "forcesx_mae: 0.1383, forcesy_mae: 0.1566, forcesz_mae: 0.1812, forces_mae: 0.1587, forces_cos: 0.0378, forces_magnitude: 0.2292, energy_mae: 3.4875, energy_force_within_threshold: 0.0000, loss: 19.4067, epoch: 0.2115\n",
            "forcesx_mae: 0.1288, forcesy_mae: 0.1650, forcesz_mae: 0.1672, forces_mae: 0.1537, forces_cos: 0.0182, forces_magnitude: 0.2257, energy_mae: 3.2028, energy_force_within_threshold: 0.0000, loss: 18.5643, epoch: 0.2147\n",
            "forcesx_mae: 0.1315, forcesy_mae: 0.1473, forcesz_mae: 0.1596, forces_mae: 0.1461, forces_cos: 0.0351, forces_magnitude: 0.2251, energy_mae: 2.5453, energy_force_within_threshold: 0.0000, loss: 17.1653, epoch: 0.2179\n",
            "forcesx_mae: 0.1383, forcesy_mae: 0.1689, forcesz_mae: 0.1732, forces_mae: 0.1602, forces_cos: 0.0285, forces_magnitude: 0.2324, energy_mae: 3.1823, energy_force_within_threshold: 0.0000, loss: 19.2269, epoch: 0.2211\n",
            "forcesx_mae: 0.1209, forcesy_mae: 0.1442, forcesz_mae: 0.1464, forces_mae: 0.1372, forces_cos: 0.0348, forces_magnitude: 0.1962, energy_mae: 3.3573, energy_force_within_threshold: 0.0000, loss: 17.0675, epoch: 0.2243\n",
            "forcesx_mae: 0.1420, forcesy_mae: 0.1596, forcesz_mae: 0.1704, forces_mae: 0.1573, forces_cos: 0.0429, forces_magnitude: 0.2224, energy_mae: 3.1480, energy_force_within_threshold: 0.0000, loss: 18.9242, epoch: 0.2275\n",
            "forcesx_mae: 0.1365, forcesy_mae: 0.1627, forcesz_mae: 0.1709, forces_mae: 0.1567, forces_cos: 0.0368, forces_magnitude: 0.2225, energy_mae: 3.7010, energy_force_within_threshold: 0.0000, loss: 19.4261, epoch: 0.2307\n",
            "forcesx_mae: 0.1389, forcesy_mae: 0.1665, forcesz_mae: 0.1732, forces_mae: 0.1595, forces_cos: 0.0453, forces_magnitude: 0.2312, energy_mae: 3.8835, energy_force_within_threshold: 0.0000, loss: 19.8146, epoch: 0.2339\n",
            "forcesx_mae: 0.1319, forcesy_mae: 0.1635, forcesz_mae: 0.1731, forces_mae: 0.1562, forces_cos: 0.0317, forces_magnitude: 0.2296, energy_mae: 3.6143, energy_force_within_threshold: 0.0000, loss: 19.2141, epoch: 0.2371\n",
            "forcesx_mae: 0.1321, forcesy_mae: 0.1551, forcesz_mae: 0.1566, forces_mae: 0.1479, forces_cos: 0.0235, forces_magnitude: 0.2150, energy_mae: 3.4292, energy_force_within_threshold: 0.0000, loss: 18.4486, epoch: 0.2403\n"
          ],
          "name": "stdout"
        },
        {
          "output_type": "stream",
          "text": [
            "forcesx_mae: 0.1680, forcesy_mae: 0.1768, forcesz_mae: 0.1716, forces_mae: 0.1721, forces_cos: 0.0381, forces_magnitude: 0.2594, energy_mae: 3.2181, energy_force_within_threshold: 0.0000, loss: 20.5549, epoch: 0.2435\n",
            "forcesx_mae: 0.1275, forcesy_mae: 0.1469, forcesz_mae: 0.1566, forces_mae: 0.1437, forces_cos: 0.0293, forces_magnitude: 0.2094, energy_mae: 3.1564, energy_force_within_threshold: 0.0000, loss: 17.5119, epoch: 0.2467\n",
            "forcesx_mae: 0.1334, forcesy_mae: 0.1614, forcesz_mae: 0.1614, forces_mae: 0.1521, forces_cos: 0.0446, forces_magnitude: 0.2214, energy_mae: 3.0059, energy_force_within_threshold: 0.0000, loss: 18.1482, epoch: 0.2499\n",
            "forcesx_mae: 0.1482, forcesy_mae: 0.1669, forcesz_mae: 0.1801, forces_mae: 0.1650, forces_cos: 0.0295, forces_magnitude: 0.2427, energy_mae: 3.1646, energy_force_within_threshold: 0.0000, loss: 19.4738, epoch: 0.2531\n",
            "forcesx_mae: 0.1390, forcesy_mae: 0.1679, forcesz_mae: 0.1772, forces_mae: 0.1614, forces_cos: 0.0364, forces_magnitude: 0.2357, energy_mae: 3.0889, energy_force_within_threshold: 0.0000, loss: 19.2065, epoch: 0.2563\n",
            "forcesx_mae: 0.1241, forcesy_mae: 0.1438, forcesz_mae: 0.1507, forces_mae: 0.1395, forces_cos: 0.0594, forces_magnitude: 0.2048, energy_mae: 3.1340, energy_force_within_threshold: 0.0000, loss: 16.9804, epoch: 0.2595\n",
            "forcesx_mae: 0.1256, forcesy_mae: 0.1478, forcesz_mae: 0.1577, forces_mae: 0.1437, forces_cos: 0.0484, forces_magnitude: 0.2097, energy_mae: 3.3177, energy_force_within_threshold: 0.0000, loss: 17.7003, epoch: 0.2627\n",
            "forcesx_mae: 0.1221, forcesy_mae: 0.1440, forcesz_mae: 0.1511, forces_mae: 0.1391, forces_cos: 0.0340, forces_magnitude: 0.1970, energy_mae: 3.8205, energy_force_within_threshold: 0.0000, loss: 17.7682, epoch: 0.2659\n",
            "forcesx_mae: 0.1331, forcesy_mae: 0.1722, forcesz_mae: 0.1610, forces_mae: 0.1554, forces_cos: 0.0563, forces_magnitude: 0.2332, energy_mae: 3.0874, energy_force_within_threshold: 0.0000, loss: 18.7154, epoch: 0.2691\n",
            "forcesx_mae: 0.1309, forcesy_mae: 0.1508, forcesz_mae: 0.1586, forces_mae: 0.1467, forces_cos: 0.0339, forces_magnitude: 0.2124, energy_mae: 2.9429, energy_force_within_threshold: 0.0000, loss: 17.5434, epoch: 0.2723\n",
            "forcesx_mae: 0.1208, forcesy_mae: 0.1446, forcesz_mae: 0.1481, forces_mae: 0.1378, forces_cos: 0.0244, forces_magnitude: 0.1969, energy_mae: 3.4710, energy_force_within_threshold: 0.0000, loss: 17.2494, epoch: 0.2755\n",
            "forcesx_mae: 0.1226, forcesy_mae: 0.1357, forcesz_mae: 0.1576, forces_mae: 0.1386, forces_cos: 0.0331, forces_magnitude: 0.2022, energy_mae: 3.3491, energy_force_within_threshold: 0.0000, loss: 17.2893, epoch: 0.2787\n",
            "forcesx_mae: 0.1325, forcesy_mae: 0.1530, forcesz_mae: 0.1616, forces_mae: 0.1490, forces_cos: 0.0523, forces_magnitude: 0.2196, energy_mae: 3.5539, energy_force_within_threshold: 0.0000, loss: 18.3895, epoch: 0.2819\n",
            "forcesx_mae: 0.1289, forcesy_mae: 0.1513, forcesz_mae: 0.1508, forces_mae: 0.1436, forces_cos: 0.0451, forces_magnitude: 0.2060, energy_mae: 3.9714, energy_force_within_threshold: 0.0000, loss: 18.2773, epoch: 0.2851\n",
            "forcesx_mae: 0.1177, forcesy_mae: 0.1465, forcesz_mae: 0.1560, forces_mae: 0.1401, forces_cos: 0.0457, forces_magnitude: 0.2049, energy_mae: 3.7270, energy_force_within_threshold: 0.0000, loss: 17.7452, epoch: 0.2883\n",
            "forcesx_mae: 0.1274, forcesy_mae: 0.1447, forcesz_mae: 0.1506, forces_mae: 0.1409, forces_cos: 0.0410, forces_magnitude: 0.1984, energy_mae: 3.6023, energy_force_within_threshold: 0.0000, loss: 17.7750, epoch: 0.2915\n",
            "forcesx_mae: 0.1173, forcesy_mae: 0.1312, forcesz_mae: 0.1411, forces_mae: 0.1299, forces_cos: 0.0480, forces_magnitude: 0.1775, energy_mae: 2.9045, energy_force_within_threshold: 0.0000, loss: 15.9136, epoch: 0.2947\n",
            "forcesx_mae: 0.1371, forcesy_mae: 0.1508, forcesz_mae: 0.1786, forces_mae: 0.1555, forces_cos: 0.0340, forces_magnitude: 0.2313, energy_mae: 3.4353, energy_force_within_threshold: 0.0000, loss: 19.2300, epoch: 0.2979\n",
            "forcesx_mae: 0.1229, forcesy_mae: 0.1452, forcesz_mae: 0.1550, forces_mae: 0.1410, forces_cos: 0.0261, forces_magnitude: 0.2010, energy_mae: 2.8975, energy_force_within_threshold: 0.0000, loss: 16.9950, epoch: 0.3011\n",
            "forcesx_mae: 0.1125, forcesy_mae: 0.1357, forcesz_mae: 0.1451, forces_mae: 0.1311, forces_cos: 0.0482, forces_magnitude: 0.1844, energy_mae: 3.0532, energy_force_within_threshold: 0.0000, loss: 16.1582, epoch: 0.3043\n",
            "forcesx_mae: 0.1337, forcesy_mae: 0.1614, forcesz_mae: 0.1647, forces_mae: 0.1533, forces_cos: 0.0496, forces_magnitude: 0.2280, energy_mae: 3.0345, energy_force_within_threshold: 0.0000, loss: 18.4326, epoch: 0.3075\n",
            "forcesx_mae: 0.1216, forcesy_mae: 0.1505, forcesz_mae: 0.1568, forces_mae: 0.1430, forces_cos: 0.0364, forces_magnitude: 0.2026, energy_mae: 2.8985, energy_force_within_threshold: 0.0000, loss: 17.2945, epoch: 0.3107\n",
            "forcesx_mae: 0.1197, forcesy_mae: 0.1510, forcesz_mae: 0.1556, forces_mae: 0.1421, forces_cos: 0.0488, forces_magnitude: 0.2171, energy_mae: 3.3313, energy_force_within_threshold: 0.0000, loss: 17.5785, epoch: 0.3139\n",
            "forcesx_mae: 0.1191, forcesy_mae: 0.1558, forcesz_mae: 0.1556, forces_mae: 0.1435, forces_cos: 0.0363, forces_magnitude: 0.2085, energy_mae: 3.4440, energy_force_within_threshold: 0.0000, loss: 17.7803, epoch: 0.3171\n",
            "forcesx_mae: 0.1168, forcesy_mae: 0.1391, forcesz_mae: 0.1522, forces_mae: 0.1360, forces_cos: 0.0691, forces_magnitude: 0.1995, energy_mae: 3.3201, energy_force_within_threshold: 0.0000, loss: 16.9234, epoch: 0.3203\n",
            "forcesx_mae: 0.1213, forcesy_mae: 0.1403, forcesz_mae: 0.1428, forces_mae: 0.1348, forces_cos: 0.0308, forces_magnitude: 0.1957, energy_mae: 3.3276, energy_force_within_threshold: 0.0000, loss: 16.7350, epoch: 0.3235\n",
            "forcesx_mae: 0.1351, forcesy_mae: 0.1519, forcesz_mae: 0.1766, forces_mae: 0.1545, forces_cos: 0.0264, forces_magnitude: 0.2262, energy_mae: 3.7821, energy_force_within_threshold: 0.0000, loss: 19.3219, epoch: 0.3267\n",
            "forcesx_mae: 0.1298, forcesy_mae: 0.1534, forcesz_mae: 0.1619, forces_mae: 0.1483, forces_cos: 0.0319, forces_magnitude: 0.2127, energy_mae: 3.5114, energy_force_within_threshold: 0.0000, loss: 18.2907, epoch: 0.3299\n",
            "forcesx_mae: 0.1289, forcesy_mae: 0.1623, forcesz_mae: 0.1630, forces_mae: 0.1514, forces_cos: 0.0387, forces_magnitude: 0.2208, energy_mae: 3.5893, energy_force_within_threshold: 0.0000, loss: 18.6694, epoch: 0.3331\n",
            "forcesx_mae: 0.1317, forcesy_mae: 0.1623, forcesz_mae: 0.1832, forces_mae: 0.1590, forces_cos: 0.0274, forces_magnitude: 0.2358, energy_mae: 3.0541, energy_force_within_threshold: 0.0000, loss: 18.9828, epoch: 0.3363\n",
            "forcesx_mae: 0.1251, forcesy_mae: 0.1366, forcesz_mae: 0.1425, forces_mae: 0.1347, forces_cos: 0.0472, forces_magnitude: 0.1948, energy_mae: 3.4701, energy_force_within_threshold: 0.0000, loss: 17.1487, epoch: 0.3395\n",
            "forcesx_mae: 0.1173, forcesy_mae: 0.1415, forcesz_mae: 0.1430, forces_mae: 0.1340, forces_cos: 0.0441, forces_magnitude: 0.1939, energy_mae: 2.8757, energy_force_within_threshold: 0.0000, loss: 16.3099, epoch: 0.3427\n",
            "forcesx_mae: 0.1175, forcesy_mae: 0.1392, forcesz_mae: 0.1412, forces_mae: 0.1326, forces_cos: 0.0236, forces_magnitude: 0.1874, energy_mae: 3.4736, energy_force_within_threshold: 0.0000, loss: 16.7362, epoch: 0.3459\n",
            "forcesx_mae: 0.1137, forcesy_mae: 0.1318, forcesz_mae: 0.1369, forces_mae: 0.1275, forces_cos: 0.0325, forces_magnitude: 0.1775, energy_mae: 3.4278, energy_force_within_threshold: 0.0000, loss: 16.1710, epoch: 0.3491\n",
            "forcesx_mae: 0.1300, forcesy_mae: 0.1514, forcesz_mae: 0.1598, forces_mae: 0.1471, forces_cos: 0.0400, forces_magnitude: 0.2199, energy_mae: 3.1816, energy_force_within_threshold: 0.0000, loss: 18.0294, epoch: 0.3523\n",
            "forcesx_mae: 0.1177, forcesy_mae: 0.1340, forcesz_mae: 0.1437, forces_mae: 0.1318, forces_cos: 0.0549, forces_magnitude: 0.1901, energy_mae: 3.1590, energy_force_within_threshold: 0.0000, loss: 16.2941, epoch: 0.3555\n",
            "forcesx_mae: 0.1293, forcesy_mae: 0.1556, forcesz_mae: 0.1763, forces_mae: 0.1537, forces_cos: 0.0463, forces_magnitude: 0.2272, energy_mae: 3.2351, energy_force_within_threshold: 0.0000, loss: 18.5198, epoch: 0.3587\n",
            "forcesx_mae: 0.1120, forcesy_mae: 0.1428, forcesz_mae: 0.1495, forces_mae: 0.1348, forces_cos: 0.0149, forces_magnitude: 0.1924, energy_mae: 3.2760, energy_force_within_threshold: 0.0000, loss: 16.7146, epoch: 0.3619\n"
          ],
          "name": "stdout"
        },
        {
          "output_type": "stream",
          "text": [
            "forcesx_mae: 0.1246, forcesy_mae: 0.1478, forcesz_mae: 0.1496, forces_mae: 0.1406, forces_cos: 0.0297, forces_magnitude: 0.2039, energy_mae: 3.5981, energy_force_within_threshold: 0.0000, loss: 17.6697, epoch: 0.3651\n",
            "forcesx_mae: 0.1079, forcesy_mae: 0.1219, forcesz_mae: 0.1235, forces_mae: 0.1178, forces_cos: 0.0413, forces_magnitude: 0.1629, energy_mae: 3.3930, energy_force_within_threshold: 0.0000, loss: 15.1729, epoch: 0.3683\n",
            "forcesx_mae: 0.1275, forcesy_mae: 0.1389, forcesz_mae: 0.1473, forces_mae: 0.1379, forces_cos: 0.0430, forces_magnitude: 0.1889, energy_mae: 3.6207, energy_force_within_threshold: 0.0000, loss: 17.3980, epoch: 0.3715\n",
            "forcesx_mae: 0.1220, forcesy_mae: 0.1508, forcesz_mae: 0.1493, forces_mae: 0.1407, forces_cos: 0.0458, forces_magnitude: 0.1933, energy_mae: 3.4300, energy_force_within_threshold: 0.0000, loss: 17.3409, epoch: 0.3747\n",
            "forcesx_mae: 0.1156, forcesy_mae: 0.1382, forcesz_mae: 0.1418, forces_mae: 0.1319, forces_cos: 0.0160, forces_magnitude: 0.1881, energy_mae: 3.0975, energy_force_within_threshold: 0.0000, loss: 16.2871, epoch: 0.3779\n",
            "forcesx_mae: 0.1171, forcesy_mae: 0.1450, forcesz_mae: 0.1632, forces_mae: 0.1418, forces_cos: 0.0339, forces_magnitude: 0.2140, energy_mae: 3.5502, energy_force_within_threshold: 0.0000, loss: 17.8689, epoch: 0.3811\n",
            "forcesx_mae: 0.1116, forcesy_mae: 0.1220, forcesz_mae: 0.1321, forces_mae: 0.1219, forces_cos: 0.0301, forces_magnitude: 0.1744, energy_mae: 2.7187, energy_force_within_threshold: 0.0000, loss: 14.9290, epoch: 0.3843\n",
            "forcesx_mae: 0.1158, forcesy_mae: 0.1389, forcesz_mae: 0.1520, forces_mae: 0.1356, forces_cos: 0.0523, forces_magnitude: 0.1997, energy_mae: 2.7549, energy_force_within_threshold: 0.0000, loss: 16.3492, epoch: 0.3875\n",
            "forcesx_mae: 0.1209, forcesy_mae: 0.1450, forcesz_mae: 0.1474, forces_mae: 0.1378, forces_cos: 0.0477, forces_magnitude: 0.1972, energy_mae: 3.6331, energy_force_within_threshold: 0.0000, loss: 17.4219, epoch: 0.3907\n",
            "forcesx_mae: 0.1239, forcesy_mae: 0.1367, forcesz_mae: 0.1602, forces_mae: 0.1403, forces_cos: 0.0522, forces_magnitude: 0.2084, energy_mae: 3.8715, energy_force_within_threshold: 0.0000, loss: 18.2172, epoch: 0.3939\n",
            "forcesx_mae: 0.1139, forcesy_mae: 0.1282, forcesz_mae: 0.1346, forces_mae: 0.1256, forces_cos: 0.0307, forces_magnitude: 0.1769, energy_mae: 3.0615, energy_force_within_threshold: 0.0000, loss: 15.6258, epoch: 0.3971\n",
            "forcesx_mae: 0.1109, forcesy_mae: 0.1316, forcesz_mae: 0.1326, forces_mae: 0.1251, forces_cos: 0.0605, forces_magnitude: 0.1765, energy_mae: 3.4858, energy_force_within_threshold: 0.0000, loss: 15.9220, epoch: 0.4003\n",
            "forcesx_mae: 0.1128, forcesy_mae: 0.1382, forcesz_mae: 0.1427, forces_mae: 0.1312, forces_cos: 0.0657, forces_magnitude: 0.1862, energy_mae: 3.1887, energy_force_within_threshold: 0.0000, loss: 16.3701, epoch: 0.4035\n",
            "forcesx_mae: 0.1107, forcesy_mae: 0.1358, forcesz_mae: 0.1497, forces_mae: 0.1321, forces_cos: 0.0463, forces_magnitude: 0.1912, energy_mae: 3.0801, energy_force_within_threshold: 0.0000, loss: 16.3853, epoch: 0.4067\n",
            "forcesx_mae: 0.1214, forcesy_mae: 0.1422, forcesz_mae: 0.1452, forces_mae: 0.1363, forces_cos: 0.0062, forces_magnitude: 0.1921, energy_mae: 2.9553, energy_force_within_threshold: 0.0000, loss: 16.7144, epoch: 0.4099\n",
            "forcesx_mae: 0.1004, forcesy_mae: 0.1263, forcesz_mae: 0.1372, forces_mae: 0.1213, forces_cos: 0.0220, forces_magnitude: 0.1714, energy_mae: 2.8916, energy_force_within_threshold: 0.0000, loss: 15.0198, epoch: 0.4131\n",
            "forcesx_mae: 0.1198, forcesy_mae: 0.1402, forcesz_mae: 0.1424, forces_mae: 0.1342, forces_cos: 0.0383, forces_magnitude: 0.1886, energy_mae: 3.2056, energy_force_within_threshold: 0.0000, loss: 16.6524, epoch: 0.4163\n",
            "forcesx_mae: 0.1087, forcesy_mae: 0.1365, forcesz_mae: 0.1587, forces_mae: 0.1346, forces_cos: 0.0450, forces_magnitude: 0.1949, energy_mae: 3.4646, energy_force_within_threshold: 0.0000, loss: 16.9623, epoch: 0.4195\n",
            "forcesx_mae: 0.1160, forcesy_mae: 0.1461, forcesz_mae: 0.1466, forces_mae: 0.1363, forces_cos: 0.0318, forces_magnitude: 0.2063, energy_mae: 2.9407, energy_force_within_threshold: 0.0000, loss: 16.5789, epoch: 0.4227\n",
            "forcesx_mae: 0.1176, forcesy_mae: 0.1385, forcesz_mae: 0.1439, forces_mae: 0.1333, forces_cos: 0.0482, forces_magnitude: 0.1943, energy_mae: 2.7112, energy_force_within_threshold: 0.0000, loss: 16.1621, epoch: 0.4259\n",
            "forcesx_mae: 0.1144, forcesy_mae: 0.1500, forcesz_mae: 0.1520, forces_mae: 0.1388, forces_cos: 0.0537, forces_magnitude: 0.2036, energy_mae: 3.0658, energy_force_within_threshold: 0.0000, loss: 16.8988, epoch: 0.4291\n",
            "forcesx_mae: 0.1126, forcesy_mae: 0.1436, forcesz_mae: 0.1519, forces_mae: 0.1360, forces_cos: 0.0595, forces_magnitude: 0.2050, energy_mae: 3.1555, energy_force_within_threshold: 0.0000, loss: 16.6326, epoch: 0.4323\n",
            "forcesx_mae: 0.1161, forcesy_mae: 0.1263, forcesz_mae: 0.1351, forces_mae: 0.1258, forces_cos: 0.0422, forces_magnitude: 0.1785, energy_mae: 3.6010, energy_force_within_threshold: 0.0000, loss: 16.2941, epoch: 0.4355\n",
            "forcesx_mae: 0.1078, forcesy_mae: 0.1348, forcesz_mae: 0.1389, forces_mae: 0.1272, forces_cos: 0.0481, forces_magnitude: 0.1747, energy_mae: 3.1596, energy_force_within_threshold: 0.0000, loss: 15.9073, epoch: 0.4387\n",
            "forcesx_mae: 0.1043, forcesy_mae: 0.1260, forcesz_mae: 0.1335, forces_mae: 0.1213, forces_cos: 0.0421, forces_magnitude: 0.1744, energy_mae: 3.2801, energy_force_within_threshold: 0.0000, loss: 15.4264, epoch: 0.4419\n",
            "forcesx_mae: 0.1353, forcesy_mae: 0.1426, forcesz_mae: 0.1566, forces_mae: 0.1448, forces_cos: 0.0416, forces_magnitude: 0.2166, energy_mae: 3.4325, energy_force_within_threshold: 0.0000, loss: 17.9556, epoch: 0.4451\n",
            "forcesx_mae: 0.0984, forcesy_mae: 0.1160, forcesz_mae: 0.1245, forces_mae: 0.1130, forces_cos: 0.0320, forces_magnitude: 0.1627, energy_mae: 3.3695, energy_force_within_threshold: 0.0000, loss: 14.6529, epoch: 0.4483\n",
            "forcesx_mae: 0.1088, forcesy_mae: 0.1289, forcesz_mae: 0.1321, forces_mae: 0.1233, forces_cos: 0.0227, forces_magnitude: 0.1655, energy_mae: 3.3984, energy_force_within_threshold: 0.0000, loss: 15.7449, epoch: 0.4515\n",
            "forcesx_mae: 0.1230, forcesy_mae: 0.1473, forcesz_mae: 0.1492, forces_mae: 0.1398, forces_cos: 0.0417, forces_magnitude: 0.2057, energy_mae: 3.4354, energy_force_within_threshold: 0.0000, loss: 17.4450, epoch: 0.4547\n",
            "forcesx_mae: 0.1175, forcesy_mae: 0.1293, forcesz_mae: 0.1488, forces_mae: 0.1319, forces_cos: 0.0672, forces_magnitude: 0.1890, energy_mae: 2.8408, energy_force_within_threshold: 0.0000, loss: 16.0725, epoch: 0.4579\n",
            "forcesx_mae: 0.1293, forcesy_mae: 0.1412, forcesz_mae: 0.1565, forces_mae: 0.1424, forces_cos: 0.0419, forces_magnitude: 0.2042, energy_mae: 3.0822, energy_force_within_threshold: 0.0000, loss: 17.4571, epoch: 0.4611\n",
            "forcesx_mae: 0.1191, forcesy_mae: 0.1434, forcesz_mae: 0.1432, forces_mae: 0.1352, forces_cos: 0.0419, forces_magnitude: 0.1818, energy_mae: 3.1817, energy_force_within_threshold: 0.0000, loss: 16.7848, epoch: 0.4643\n",
            "forcesx_mae: 0.1109, forcesy_mae: 0.1390, forcesz_mae: 0.1598, forces_mae: 0.1366, forces_cos: 0.0481, forces_magnitude: 0.2047, energy_mae: 2.9254, energy_force_within_threshold: 0.0000, loss: 16.6266, epoch: 0.4675\n",
            "forcesx_mae: 0.1133, forcesy_mae: 0.1399, forcesz_mae: 0.1419, forces_mae: 0.1317, forces_cos: 0.0307, forces_magnitude: 0.1882, energy_mae: 3.2933, energy_force_within_threshold: 0.0000, loss: 16.4771, epoch: 0.4707\n",
            "forcesx_mae: 0.1107, forcesy_mae: 0.1289, forcesz_mae: 0.1474, forces_mae: 0.1290, forces_cos: 0.0575, forces_magnitude: 0.1803, energy_mae: 3.1611, energy_force_within_threshold: 0.0000, loss: 16.0158, epoch: 0.4739\n",
            "forcesx_mae: 0.1068, forcesy_mae: 0.1235, forcesz_mae: 0.1255, forces_mae: 0.1186, forces_cos: 0.0461, forces_magnitude: 0.1631, energy_mae: 2.8014, energy_force_within_threshold: 0.0000, loss: 14.7416, epoch: 0.4771\n",
            "forcesx_mae: 0.1079, forcesy_mae: 0.1430, forcesz_mae: 0.1415, forces_mae: 0.1308, forces_cos: 0.0431, forces_magnitude: 0.1869, energy_mae: 3.5165, energy_force_within_threshold: 0.0000, loss: 16.5472, epoch: 0.4803\n",
            "forcesx_mae: 0.1061, forcesy_mae: 0.1227, forcesz_mae: 0.1239, forces_mae: 0.1176, forces_cos: 0.0449, forces_magnitude: 0.1612, energy_mae: 3.1118, energy_force_within_threshold: 0.0000, loss: 14.8456, epoch: 0.4835\n"
          ],
          "name": "stdout"
        },
        {
          "output_type": "stream",
          "text": [
            "forcesx_mae: 0.1069, forcesy_mae: 0.1163, forcesz_mae: 0.1190, forces_mae: 0.1141, forces_cos: 0.0367, forces_magnitude: 0.1587, energy_mae: 3.4257, energy_force_within_threshold: 0.0000, loss: 14.8809, epoch: 0.4867\n",
            "forcesx_mae: 0.1068, forcesy_mae: 0.1461, forcesz_mae: 0.1417, forces_mae: 0.1316, forces_cos: 0.0375, forces_magnitude: 0.2006, energy_mae: 3.5625, energy_force_within_threshold: 0.0000, loss: 16.7261, epoch: 0.4899\n",
            "forcesx_mae: 0.0971, forcesy_mae: 0.1192, forcesz_mae: 0.1329, forces_mae: 0.1164, forces_cos: 0.0240, forces_magnitude: 0.1689, energy_mae: 2.8136, energy_force_within_threshold: 0.0000, loss: 14.4461, epoch: 0.4931\n",
            "forcesx_mae: 0.1010, forcesy_mae: 0.1302, forcesz_mae: 0.1387, forces_mae: 0.1233, forces_cos: 0.0503, forces_magnitude: 0.1742, energy_mae: 3.0475, energy_force_within_threshold: 0.0000, loss: 15.4902, epoch: 0.4963\n",
            "forcesx_mae: 0.1098, forcesy_mae: 0.1340, forcesz_mae: 0.1413, forces_mae: 0.1284, forces_cos: 0.0480, forces_magnitude: 0.1877, energy_mae: 3.0035, energy_force_within_threshold: 0.0000, loss: 15.8574, epoch: 0.4995\n",
            "forcesx_mae: 0.1069, forcesy_mae: 0.1432, forcesz_mae: 0.1424, forces_mae: 0.1308, forces_cos: 0.0567, forces_magnitude: 0.1865, energy_mae: 3.1798, energy_force_within_threshold: 0.0000, loss: 16.3600, epoch: 0.5027\n",
            "forcesx_mae: 0.1255, forcesy_mae: 0.1472, forcesz_mae: 0.1578, forces_mae: 0.1435, forces_cos: 0.0447, forces_magnitude: 0.2152, energy_mae: 3.1108, energy_force_within_threshold: 0.0000, loss: 17.5594, epoch: 0.5059\n",
            "forcesx_mae: 0.1052, forcesy_mae: 0.1231, forcesz_mae: 0.1279, forces_mae: 0.1187, forces_cos: 0.0353, forces_magnitude: 0.1719, energy_mae: 2.8062, energy_force_within_threshold: 0.0000, loss: 14.6307, epoch: 0.5091\n",
            "forcesx_mae: 0.0967, forcesy_mae: 0.1140, forcesz_mae: 0.1146, forces_mae: 0.1084, forces_cos: 0.0289, forces_magnitude: 0.1527, energy_mae: 3.1077, energy_force_within_threshold: 0.0000, loss: 14.0046, epoch: 0.5123\n",
            "forcesx_mae: 0.1032, forcesy_mae: 0.1351, forcesz_mae: 0.1555, forces_mae: 0.1313, forces_cos: 0.0589, forces_magnitude: 0.1982, energy_mae: 3.1632, energy_force_within_threshold: 0.0000, loss: 16.3685, epoch: 0.5155\n",
            "forcesx_mae: 0.0999, forcesy_mae: 0.1123, forcesz_mae: 0.1204, forces_mae: 0.1109, forces_cos: 0.0313, forces_magnitude: 0.1489, energy_mae: 3.2162, energy_force_within_threshold: 0.0000, loss: 14.2122, epoch: 0.5187\n",
            "forcesx_mae: 0.0916, forcesy_mae: 0.1079, forcesz_mae: 0.1110, forces_mae: 0.1035, forces_cos: 0.0513, forces_magnitude: 0.1442, energy_mae: 2.6152, energy_force_within_threshold: 0.0000, loss: 13.0143, epoch: 0.5219\n",
            "forcesx_mae: 0.1216, forcesy_mae: 0.1457, forcesz_mae: 0.1309, forces_mae: 0.1327, forces_cos: 0.0408, forces_magnitude: 0.1960, energy_mae: 3.5894, energy_force_within_threshold: 0.0000, loss: 16.8540, epoch: 0.5251\n",
            "forcesx_mae: 0.0914, forcesy_mae: 0.1269, forcesz_mae: 0.1313, forces_mae: 0.1165, forces_cos: 0.0323, forces_magnitude: 0.1729, energy_mae: 3.1069, energy_force_within_threshold: 0.0000, loss: 14.7482, epoch: 0.5283\n",
            "forcesx_mae: 0.1206, forcesy_mae: 0.1353, forcesz_mae: 0.1466, forces_mae: 0.1341, forces_cos: 0.0468, forces_magnitude: 0.1888, energy_mae: 3.4029, energy_force_within_threshold: 0.0000, loss: 17.0155, epoch: 0.5315\n",
            "forcesx_mae: 0.1039, forcesy_mae: 0.1223, forcesz_mae: 0.1297, forces_mae: 0.1186, forces_cos: 0.0229, forces_magnitude: 0.1639, energy_mae: 3.2543, energy_force_within_threshold: 0.0000, loss: 15.2248, epoch: 0.5347\n",
            "forcesx_mae: 0.1110, forcesy_mae: 0.1347, forcesz_mae: 0.1398, forces_mae: 0.1285, forces_cos: 0.0556, forces_magnitude: 0.1794, energy_mae: 3.2955, energy_force_within_threshold: 0.0000, loss: 16.1705, epoch: 0.5379\n",
            "forcesx_mae: 0.0995, forcesy_mae: 0.1203, forcesz_mae: 0.1256, forces_mae: 0.1151, forces_cos: 0.0555, forces_magnitude: 0.1605, energy_mae: 3.5197, energy_force_within_threshold: 0.0000, loss: 14.9312, epoch: 0.5411\n",
            "forcesx_mae: 0.1181, forcesy_mae: 0.1379, forcesz_mae: 0.1516, forces_mae: 0.1359, forces_cos: 0.0406, forces_magnitude: 0.1890, energy_mae: 3.1847, energy_force_within_threshold: 0.0000, loss: 16.7051, epoch: 0.5443\n",
            "forcesx_mae: 0.1029, forcesy_mae: 0.1182, forcesz_mae: 0.1257, forces_mae: 0.1156, forces_cos: 0.0252, forces_magnitude: 0.1641, energy_mae: 2.7884, energy_force_within_threshold: 0.0000, loss: 14.3308, epoch: 0.5475\n",
            "forcesx_mae: 0.0956, forcesy_mae: 0.1217, forcesz_mae: 0.1250, forces_mae: 0.1141, forces_cos: 0.0360, forces_magnitude: 0.1568, energy_mae: 2.7417, energy_force_within_threshold: 0.0000, loss: 14.2331, epoch: 0.5507\n",
            "forcesx_mae: 0.1006, forcesy_mae: 0.1403, forcesz_mae: 0.1249, forces_mae: 0.1219, forces_cos: 0.0218, forces_magnitude: 0.1790, energy_mae: 2.7632, energy_force_within_threshold: 0.0000, loss: 14.7910, epoch: 0.5539\n",
            "forcesx_mae: 0.1059, forcesy_mae: 0.1265, forcesz_mae: 0.1573, forces_mae: 0.1299, forces_cos: 0.0431, forces_magnitude: 0.1916, energy_mae: 2.8039, energy_force_within_threshold: 0.0000, loss: 15.8062, epoch: 0.5571\n",
            "forcesx_mae: 0.1127, forcesy_mae: 0.1289, forcesz_mae: 0.1425, forces_mae: 0.1280, forces_cos: 0.0306, forces_magnitude: 0.1892, energy_mae: 3.3526, energy_force_within_threshold: 0.0000, loss: 16.1538, epoch: 0.5603\n",
            "forcesx_mae: 0.0972, forcesy_mae: 0.1112, forcesz_mae: 0.1296, forces_mae: 0.1126, forces_cos: 0.0585, forces_magnitude: 0.1680, energy_mae: 3.1471, energy_force_within_threshold: 0.0000, loss: 14.3874, epoch: 0.5635\n",
            "forcesx_mae: 0.1143, forcesy_mae: 0.1575, forcesz_mae: 0.1573, forces_mae: 0.1430, forces_cos: 0.0383, forces_magnitude: 0.2161, energy_mae: 3.0892, energy_force_within_threshold: 0.0000, loss: 17.2053, epoch: 0.5667\n",
            "forcesx_mae: 0.0975, forcesy_mae: 0.1078, forcesz_mae: 0.1104, forces_mae: 0.1052, forces_cos: 0.0346, forces_magnitude: 0.1369, energy_mae: 2.9299, energy_force_within_threshold: 0.0000, loss: 13.4698, epoch: 0.5699\n",
            "forcesx_mae: 0.1063, forcesy_mae: 0.1320, forcesz_mae: 0.1537, forces_mae: 0.1307, forces_cos: 0.0753, forces_magnitude: 0.1972, energy_mae: 2.9246, energy_force_within_threshold: 0.0000, loss: 15.9458, epoch: 0.5731\n",
            "forcesx_mae: 0.0974, forcesy_mae: 0.1249, forcesz_mae: 0.1291, forces_mae: 0.1171, forces_cos: 0.0647, forces_magnitude: 0.1645, energy_mae: 2.8837, energy_force_within_threshold: 0.0000, loss: 14.5584, epoch: 0.5763\n",
            "forcesx_mae: 0.0993, forcesy_mae: 0.1213, forcesz_mae: 0.1284, forces_mae: 0.1163, forces_cos: 0.0495, forces_magnitude: 0.1667, energy_mae: 2.8682, energy_force_within_threshold: 0.0000, loss: 14.4007, epoch: 0.5795\n",
            "forcesx_mae: 0.0949, forcesy_mae: 0.1159, forcesz_mae: 0.1160, forces_mae: 0.1089, forces_cos: 0.0410, forces_magnitude: 0.1512, energy_mae: 2.5993, energy_force_within_threshold: 0.0000, loss: 13.5223, epoch: 0.5827\n",
            "forcesx_mae: 0.0922, forcesy_mae: 0.1076, forcesz_mae: 0.1118, forces_mae: 0.1038, forces_cos: 0.0329, forces_magnitude: 0.1452, energy_mae: 2.8545, energy_force_within_threshold: 0.0000, loss: 13.2681, epoch: 0.5859\n",
            "forcesx_mae: 0.1052, forcesy_mae: 0.1176, forcesz_mae: 0.1326, forces_mae: 0.1185, forces_cos: 0.0521, forces_magnitude: 0.1634, energy_mae: 2.6158, energy_force_within_threshold: 0.0000, loss: 14.4447, epoch: 0.5891\n",
            "forcesx_mae: 0.1047, forcesy_mae: 0.1215, forcesz_mae: 0.1363, forces_mae: 0.1208, forces_cos: 0.0471, forces_magnitude: 0.1770, energy_mae: 2.9117, energy_force_within_threshold: 0.0000, loss: 15.0281, epoch: 0.5923\n",
            "forcesx_mae: 0.0997, forcesy_mae: 0.1306, forcesz_mae: 0.1315, forces_mae: 0.1206, forces_cos: 0.0500, forces_magnitude: 0.1709, energy_mae: 2.7942, energy_force_within_threshold: 0.0000, loss: 14.7456, epoch: 0.5955\n",
            "forcesx_mae: 0.1165, forcesy_mae: 0.1430, forcesz_mae: 0.1428, forces_mae: 0.1341, forces_cos: 0.0388, forces_magnitude: 0.2004, energy_mae: 3.4776, energy_force_within_threshold: 0.0000, loss: 16.9290, epoch: 0.5987\n",
            "forcesx_mae: 0.0987, forcesy_mae: 0.1185, forcesz_mae: 0.1253, forces_mae: 0.1142, forces_cos: 0.0423, forces_magnitude: 0.1556, energy_mae: 3.7201, energy_force_within_threshold: 0.0000, loss: 15.0974, epoch: 0.6019\n",
            "forcesx_mae: 0.0914, forcesy_mae: 0.1073, forcesz_mae: 0.1073, forces_mae: 0.1020, forces_cos: 0.0393, forces_magnitude: 0.1407, energy_mae: 2.9385, energy_force_within_threshold: 0.0000, loss: 13.1872, epoch: 0.6051\n"
          ],
          "name": "stdout"
        },
        {
          "output_type": "stream",
          "text": [
            "forcesx_mae: 0.1106, forcesy_mae: 0.1484, forcesz_mae: 0.1428, forces_mae: 0.1340, forces_cos: 0.0514, forces_magnitude: 0.1936, energy_mae: 3.0096, energy_force_within_threshold: 0.0000, loss: 16.3005, epoch: 0.6083\n",
            "forcesx_mae: 0.0845, forcesy_mae: 0.1040, forcesz_mae: 0.1102, forces_mae: 0.0996, forces_cos: 0.0373, forces_magnitude: 0.1400, energy_mae: 3.1089, energy_force_within_threshold: 0.0000, loss: 13.0339, epoch: 0.6115\n",
            "forcesx_mae: 0.1051, forcesy_mae: 0.1203, forcesz_mae: 0.1342, forces_mae: 0.1199, forces_cos: 0.0336, forces_magnitude: 0.1762, energy_mae: 3.4943, energy_force_within_threshold: 0.0000, loss: 15.4412, epoch: 0.6147\n",
            "forcesx_mae: 0.0999, forcesy_mae: 0.1182, forcesz_mae: 0.1298, forces_mae: 0.1160, forces_cos: 0.0763, forces_magnitude: 0.1685, energy_mae: 3.3816, energy_force_within_threshold: 0.0000, loss: 14.9078, epoch: 0.6179\n",
            "forcesx_mae: 0.0994, forcesy_mae: 0.1274, forcesz_mae: 0.1265, forces_mae: 0.1178, forces_cos: 0.0459, forces_magnitude: 0.1759, energy_mae: 3.0957, energy_force_within_threshold: 0.0000, loss: 14.8694, epoch: 0.6211\n",
            "forcesx_mae: 0.1053, forcesy_mae: 0.1229, forcesz_mae: 0.1388, forces_mae: 0.1223, forces_cos: 0.0471, forces_magnitude: 0.1735, energy_mae: 3.2667, energy_force_within_threshold: 0.0000, loss: 15.6829, epoch: 0.6243\n",
            "forcesx_mae: 0.0940, forcesy_mae: 0.1068, forcesz_mae: 0.1108, forces_mae: 0.1039, forces_cos: 0.0457, forces_magnitude: 0.1429, energy_mae: 3.0661, energy_force_within_threshold: 0.0000, loss: 13.5586, epoch: 0.6275\n",
            "forcesx_mae: 0.0988, forcesy_mae: 0.1259, forcesz_mae: 0.1253, forces_mae: 0.1167, forces_cos: 0.0235, forces_magnitude: 0.1646, energy_mae: 2.7129, energy_force_within_threshold: 0.0000, loss: 14.3752, epoch: 0.6307\n",
            "forcesx_mae: 0.0997, forcesy_mae: 0.1255, forcesz_mae: 0.1241, forces_mae: 0.1164, forces_cos: 0.0259, forces_magnitude: 0.1711, energy_mae: 3.2594, energy_force_within_threshold: 0.0000, loss: 14.9474, epoch: 0.6339\n",
            "forcesx_mae: 0.0967, forcesy_mae: 0.1114, forcesz_mae: 0.1371, forces_mae: 0.1151, forces_cos: 0.0575, forces_magnitude: 0.1679, energy_mae: 3.3980, energy_force_within_threshold: 0.0000, loss: 14.9972, epoch: 0.6371\n",
            "forcesx_mae: 0.0979, forcesy_mae: 0.1216, forcesz_mae: 0.1266, forces_mae: 0.1154, forces_cos: 0.0597, forces_magnitude: 0.1679, energy_mae: 3.2395, energy_force_within_threshold: 0.0000, loss: 14.7920, epoch: 0.6403\n",
            "forcesx_mae: 0.1078, forcesy_mae: 0.1293, forcesz_mae: 0.1401, forces_mae: 0.1257, forces_cos: 0.0429, forces_magnitude: 0.1825, energy_mae: 3.3747, energy_force_within_threshold: 0.0000, loss: 16.2950, epoch: 0.6435\n",
            "forcesx_mae: 0.1229, forcesy_mae: 0.1527, forcesz_mae: 0.1682, forces_mae: 0.1479, forces_cos: 0.0666, forces_magnitude: 0.2203, energy_mae: 3.4856, energy_force_within_threshold: 0.0000, loss: 18.2220, epoch: 0.6467\n",
            "forcesx_mae: 0.0994, forcesy_mae: 0.1344, forcesz_mae: 0.1293, forces_mae: 0.1210, forces_cos: 0.0577, forces_magnitude: 0.1780, energy_mae: 2.9536, energy_force_within_threshold: 0.0000, loss: 15.0650, epoch: 0.6499\n",
            "forcesx_mae: 0.1231, forcesy_mae: 0.1243, forcesz_mae: 0.1677, forces_mae: 0.1384, forces_cos: 0.0398, forces_magnitude: 0.2091, energy_mae: 3.0162, energy_force_within_threshold: 0.0000, loss: 16.8566, epoch: 0.6531\n",
            "forcesx_mae: 0.1076, forcesy_mae: 0.1273, forcesz_mae: 0.1397, forces_mae: 0.1249, forces_cos: 0.0573, forces_magnitude: 0.1931, energy_mae: 3.0797, energy_force_within_threshold: 0.0000, loss: 15.7257, epoch: 0.6563\n",
            "forcesx_mae: 0.0995, forcesy_mae: 0.1404, forcesz_mae: 0.1702, forces_mae: 0.1367, forces_cos: 0.0515, forces_magnitude: 0.2096, energy_mae: 2.5384, energy_force_within_threshold: 0.0000, loss: 16.2736, epoch: 0.6595\n",
            "forcesx_mae: 0.1069, forcesy_mae: 0.1314, forcesz_mae: 0.1388, forces_mae: 0.1257, forces_cos: 0.0454, forces_magnitude: 0.1798, energy_mae: 3.2266, energy_force_within_threshold: 0.0000, loss: 15.9346, epoch: 0.6627\n",
            "forcesx_mae: 0.0995, forcesy_mae: 0.1122, forcesz_mae: 0.1300, forces_mae: 0.1139, forces_cos: 0.0520, forces_magnitude: 0.1653, energy_mae: 4.1540, energy_force_within_threshold: 0.0000, loss: 15.6080, epoch: 0.6659\n",
            "forcesx_mae: 0.0868, forcesy_mae: 0.1076, forcesz_mae: 0.1135, forces_mae: 0.1026, forces_cos: 0.0373, forces_magnitude: 0.1421, energy_mae: 3.2113, energy_force_within_threshold: 0.0000, loss: 13.4520, epoch: 0.6691\n",
            "forcesx_mae: 0.0854, forcesy_mae: 0.1037, forcesz_mae: 0.1086, forces_mae: 0.0993, forces_cos: 0.0742, forces_magnitude: 0.1386, energy_mae: 3.0438, energy_force_within_threshold: 0.0000, loss: 12.9682, epoch: 0.6723\n",
            "forcesx_mae: 0.1106, forcesy_mae: 0.1251, forcesz_mae: 0.1373, forces_mae: 0.1243, forces_cos: 0.0676, forces_magnitude: 0.1861, energy_mae: 3.0998, energy_force_within_threshold: 0.0000, loss: 15.6098, epoch: 0.6755\n",
            "forcesx_mae: 0.0870, forcesy_mae: 0.1020, forcesz_mae: 0.1062, forces_mae: 0.0984, forces_cos: 0.0481, forces_magnitude: 0.1350, energy_mae: 2.7569, energy_force_within_threshold: 0.0000, loss: 12.6359, epoch: 0.6787\n",
            "forcesx_mae: 0.1116, forcesy_mae: 0.1409, forcesz_mae: 0.1538, forces_mae: 0.1354, forces_cos: 0.0466, forces_magnitude: 0.1977, energy_mae: 3.3113, energy_force_within_threshold: 0.0000, loss: 16.7826, epoch: 0.6819\n",
            "forcesx_mae: 0.0897, forcesy_mae: 0.1114, forcesz_mae: 0.1166, forces_mae: 0.1059, forces_cos: 0.0370, forces_magnitude: 0.1550, energy_mae: 3.2126, energy_force_within_threshold: 0.0000, loss: 13.7792, epoch: 0.6851\n",
            "forcesx_mae: 0.0923, forcesy_mae: 0.1144, forcesz_mae: 0.1237, forces_mae: 0.1101, forces_cos: 0.0630, forces_magnitude: 0.1594, energy_mae: 3.4133, energy_force_within_threshold: 0.0000, loss: 14.4371, epoch: 0.6883\n",
            "forcesx_mae: 0.0855, forcesy_mae: 0.1051, forcesz_mae: 0.1078, forces_mae: 0.0994, forces_cos: 0.0490, forces_magnitude: 0.1396, energy_mae: 3.7750, energy_force_within_threshold: 0.0000, loss: 13.7724, epoch: 0.6915\n",
            "forcesx_mae: 0.0894, forcesy_mae: 0.1133, forcesz_mae: 0.1215, forces_mae: 0.1081, forces_cos: 0.0361, forces_magnitude: 0.1559, energy_mae: 3.8369, energy_force_within_threshold: 0.0000, loss: 14.7819, epoch: 0.6947\n",
            "forcesx_mae: 0.0994, forcesy_mae: 0.1220, forcesz_mae: 0.1271, forces_mae: 0.1162, forces_cos: 0.0482, forces_magnitude: 0.1692, energy_mae: 3.2269, energy_force_within_threshold: 0.0000, loss: 14.7883, epoch: 0.6979\n",
            "forcesx_mae: 0.0973, forcesy_mae: 0.1097, forcesz_mae: 0.1215, forces_mae: 0.1095, forces_cos: 0.0488, forces_magnitude: 0.1544, energy_mae: 3.7587, energy_force_within_threshold: 0.0000, loss: 14.6605, epoch: 0.7011\n",
            "forcesx_mae: 0.0924, forcesy_mae: 0.1050, forcesz_mae: 0.1112, forces_mae: 0.1028, forces_cos: 0.0403, forces_magnitude: 0.1464, energy_mae: 2.9083, energy_force_within_threshold: 0.0000, loss: 13.2356, epoch: 0.7043\n",
            "forcesx_mae: 0.1011, forcesy_mae: 0.1309, forcesz_mae: 0.1364, forces_mae: 0.1228, forces_cos: 0.0628, forces_magnitude: 0.1820, energy_mae: 3.2318, energy_force_within_threshold: 0.0000, loss: 15.3746, epoch: 0.7075\n",
            "forcesx_mae: 0.1295, forcesy_mae: 0.1516, forcesz_mae: 0.1870, forces_mae: 0.1560, forces_cos: 0.0526, forces_magnitude: 0.2488, energy_mae: 3.5809, energy_force_within_threshold: 0.0000, loss: 19.5117, epoch: 0.7107\n",
            "forcesx_mae: 0.1078, forcesy_mae: 0.1347, forcesz_mae: 0.1400, forces_mae: 0.1275, forces_cos: 0.0378, forces_magnitude: 0.1886, energy_mae: 3.1809, energy_force_within_threshold: 0.0000, loss: 16.0444, epoch: 0.7139\n",
            "forcesx_mae: 0.1042, forcesy_mae: 0.1306, forcesz_mae: 0.1335, forces_mae: 0.1228, forces_cos: 0.0455, forces_magnitude: 0.1794, energy_mae: 3.4588, energy_force_within_threshold: 0.0000, loss: 15.7881, epoch: 0.7171\n",
            "forcesx_mae: 0.0969, forcesy_mae: 0.1096, forcesz_mae: 0.1203, forces_mae: 0.1089, forces_cos: 0.0467, forces_magnitude: 0.1562, energy_mae: 3.0580, energy_force_within_threshold: 0.0000, loss: 14.0244, epoch: 0.7203\n",
            "forcesx_mae: 0.0959, forcesy_mae: 0.1104, forcesz_mae: 0.1150, forces_mae: 0.1071, forces_cos: 0.0468, forces_magnitude: 0.1512, energy_mae: 2.8325, energy_force_within_threshold: 0.0000, loss: 13.5370, epoch: 0.7235\n",
            "forcesx_mae: 0.1000, forcesy_mae: 0.1173, forcesz_mae: 0.1218, forces_mae: 0.1131, forces_cos: 0.0615, forces_magnitude: 0.1616, energy_mae: 3.4025, energy_force_within_threshold: 0.0000, loss: 14.7990, epoch: 0.7267\n"
          ],
          "name": "stdout"
        },
        {
          "output_type": "stream",
          "text": [
            "forcesx_mae: 0.0885, forcesy_mae: 0.0954, forcesz_mae: 0.0963, forces_mae: 0.0934, forces_cos: 0.0425, forces_magnitude: 0.1254, energy_mae: 2.9841, energy_force_within_threshold: 0.0000, loss: 12.3427, epoch: 0.7299\n",
            "forcesx_mae: 0.1132, forcesy_mae: 0.1279, forcesz_mae: 0.1598, forces_mae: 0.1336, forces_cos: 0.0574, forces_magnitude: 0.2056, energy_mae: 3.6703, energy_force_within_threshold: 0.0000, loss: 17.1168, epoch: 0.7331\n",
            "forcesx_mae: 0.0969, forcesy_mae: 0.1117, forcesz_mae: 0.1281, forces_mae: 0.1123, forces_cos: 0.0467, forces_magnitude: 0.1594, energy_mae: 3.2045, energy_force_within_threshold: 0.0000, loss: 14.4537, epoch: 0.7363\n",
            "forcesx_mae: 0.0985, forcesy_mae: 0.1093, forcesz_mae: 0.1228, forces_mae: 0.1102, forces_cos: 0.0337, forces_magnitude: 0.1560, energy_mae: 3.3397, energy_force_within_threshold: 0.0000, loss: 14.2750, epoch: 0.7395\n",
            "forcesx_mae: 0.0891, forcesy_mae: 0.1040, forcesz_mae: 0.0997, forces_mae: 0.0976, forces_cos: 0.0513, forces_magnitude: 0.1336, energy_mae: 2.9988, energy_force_within_threshold: 0.0000, loss: 12.9791, epoch: 0.7427\n",
            "forcesx_mae: 0.1024, forcesy_mae: 0.1262, forcesz_mae: 0.1282, forces_mae: 0.1189, forces_cos: 0.0465, forces_magnitude: 0.1696, energy_mae: 3.3488, energy_force_within_threshold: 0.0000, loss: 15.2575, epoch: 0.7459\n",
            "forcesx_mae: 0.0828, forcesy_mae: 0.1035, forcesz_mae: 0.1053, forces_mae: 0.0972, forces_cos: 0.0855, forces_magnitude: 0.1320, energy_mae: 2.8559, energy_force_within_threshold: 0.0000, loss: 12.5528, epoch: 0.7491\n",
            "forcesx_mae: 0.0870, forcesy_mae: 0.1180, forcesz_mae: 0.1128, forces_mae: 0.1059, forces_cos: 0.0612, forces_magnitude: 0.1508, energy_mae: 3.1105, energy_force_within_threshold: 0.0000, loss: 13.8093, epoch: 0.7523\n",
            "forcesx_mae: 0.1036, forcesy_mae: 0.1190, forcesz_mae: 0.1265, forces_mae: 0.1164, forces_cos: 0.0400, forces_magnitude: 0.1725, energy_mae: 3.4147, energy_force_within_threshold: 0.0000, loss: 15.4136, epoch: 0.7555\n",
            "forcesx_mae: 0.0942, forcesy_mae: 0.1134, forcesz_mae: 0.1248, forces_mae: 0.1108, forces_cos: 0.0550, forces_magnitude: 0.1547, energy_mae: 2.5648, energy_force_within_threshold: 0.0000, loss: 13.6460, epoch: 0.7587\n",
            "forcesx_mae: 0.1091, forcesy_mae: 0.1199, forcesz_mae: 0.1147, forces_mae: 0.1146, forces_cos: 0.0462, forces_magnitude: 0.1682, energy_mae: 3.2770, energy_force_within_threshold: 0.0000, loss: 15.0162, epoch: 0.7619\n",
            "forcesx_mae: 0.0929, forcesy_mae: 0.1067, forcesz_mae: 0.1184, forces_mae: 0.1060, forces_cos: 0.0421, forces_magnitude: 0.1464, energy_mae: 3.6301, energy_force_within_threshold: 0.0000, loss: 14.2656, epoch: 0.7651\n",
            "forcesx_mae: 0.0962, forcesy_mae: 0.1159, forcesz_mae: 0.1189, forces_mae: 0.1103, forces_cos: 0.0429, forces_magnitude: 0.1609, energy_mae: 2.8892, energy_force_within_threshold: 0.0000, loss: 13.8949, epoch: 0.7683\n",
            "forcesx_mae: 0.0817, forcesy_mae: 0.0917, forcesz_mae: 0.1000, forces_mae: 0.0911, forces_cos: 0.0393, forces_magnitude: 0.1245, energy_mae: 3.4213, energy_force_within_threshold: 0.0000, loss: 12.6796, epoch: 0.7715\n",
            "forcesx_mae: 0.0898, forcesy_mae: 0.1173, forcesz_mae: 0.1134, forces_mae: 0.1068, forces_cos: 0.0405, forces_magnitude: 0.1562, energy_mae: 3.0266, energy_force_within_threshold: 0.0000, loss: 13.7539, epoch: 0.7747\n",
            "forcesx_mae: 0.1019, forcesy_mae: 0.1228, forcesz_mae: 0.1265, forces_mae: 0.1171, forces_cos: 0.0555, forces_magnitude: 0.1763, energy_mae: 3.0387, energy_force_within_threshold: 0.0000, loss: 14.8157, epoch: 0.7779\n",
            "forcesx_mae: 0.0864, forcesy_mae: 0.0980, forcesz_mae: 0.1070, forces_mae: 0.0972, forces_cos: 0.0561, forces_magnitude: 0.1323, energy_mae: 3.0651, energy_force_within_threshold: 0.0000, loss: 12.7148, epoch: 0.7811\n",
            "forcesx_mae: 0.0913, forcesy_mae: 0.1297, forcesz_mae: 0.1243, forces_mae: 0.1151, forces_cos: 0.0473, forces_magnitude: 0.1692, energy_mae: 2.8668, energy_force_within_threshold: 0.0000, loss: 14.4382, epoch: 0.7843\n",
            "forcesx_mae: 0.1097, forcesy_mae: 0.1270, forcesz_mae: 0.1403, forces_mae: 0.1257, forces_cos: 0.0314, forces_magnitude: 0.1831, energy_mae: 2.8903, energy_force_within_threshold: 0.0000, loss: 15.4181, epoch: 0.7875\n",
            "forcesx_mae: 0.1075, forcesy_mae: 0.1262, forcesz_mae: 0.1363, forces_mae: 0.1233, forces_cos: 0.0292, forces_magnitude: 0.1869, energy_mae: 3.0512, energy_force_within_threshold: 0.0000, loss: 15.5256, epoch: 0.7907\n",
            "forcesx_mae: 0.0953, forcesy_mae: 0.1042, forcesz_mae: 0.1187, forces_mae: 0.1060, forces_cos: 0.0399, forces_magnitude: 0.1514, energy_mae: 2.8755, energy_force_within_threshold: 0.0000, loss: 13.3619, epoch: 0.7939\n",
            "forcesx_mae: 0.0952, forcesy_mae: 0.1124, forcesz_mae: 0.1212, forces_mae: 0.1096, forces_cos: 0.0570, forces_magnitude: 0.1618, energy_mae: 3.1156, energy_force_within_threshold: 0.0000, loss: 14.2472, epoch: 0.7971\n",
            "forcesx_mae: 0.0920, forcesy_mae: 0.1041, forcesz_mae: 0.1184, forces_mae: 0.1048, forces_cos: 0.0726, forces_magnitude: 0.1498, energy_mae: 3.0115, energy_force_within_threshold: 0.0000, loss: 13.3898, epoch: 0.8003\n",
            "forcesx_mae: 0.0905, forcesy_mae: 0.1473, forcesz_mae: 0.1309, forces_mae: 0.1229, forces_cos: 0.0576, forces_magnitude: 0.1926, energy_mae: 2.9763, energy_force_within_threshold: 0.0000, loss: 15.4083, epoch: 0.8035\n",
            "forcesx_mae: 0.1002, forcesy_mae: 0.1228, forcesz_mae: 0.1253, forces_mae: 0.1161, forces_cos: 0.0375, forces_magnitude: 0.1704, energy_mae: 3.3607, energy_force_within_threshold: 0.0000, loss: 14.9581, epoch: 0.8067\n",
            "forcesx_mae: 0.0865, forcesy_mae: 0.1092, forcesz_mae: 0.1150, forces_mae: 0.1036, forces_cos: 0.0693, forces_magnitude: 0.1506, energy_mae: 2.7887, energy_force_within_threshold: 0.0000, loss: 13.1488, epoch: 0.8099\n",
            "forcesx_mae: 0.1034, forcesy_mae: 0.1452, forcesz_mae: 0.1275, forces_mae: 0.1254, forces_cos: 0.0348, forces_magnitude: 0.1952, energy_mae: 3.7913, energy_force_within_threshold: 0.0000, loss: 16.5481, epoch: 0.8131\n",
            "forcesx_mae: 0.0883, forcesy_mae: 0.1044, forcesz_mae: 0.1060, forces_mae: 0.0996, forces_cos: 0.0478, forces_magnitude: 0.1381, energy_mae: 3.0149, energy_force_within_threshold: 0.0000, loss: 12.9856, epoch: 0.8163\n",
            "forcesx_mae: 0.0873, forcesy_mae: 0.1089, forcesz_mae: 0.1115, forces_mae: 0.1026, forces_cos: 0.0620, forces_magnitude: 0.1430, energy_mae: 2.9056, energy_force_within_threshold: 0.0000, loss: 13.1874, epoch: 0.8195\n",
            "forcesx_mae: 0.0915, forcesy_mae: 0.1023, forcesz_mae: 0.1115, forces_mae: 0.1018, forces_cos: 0.0562, forces_magnitude: 0.1450, energy_mae: 3.0814, energy_force_within_threshold: 0.0000, loss: 13.3026, epoch: 0.8227\n",
            "forcesx_mae: 0.1087, forcesy_mae: 0.1194, forcesz_mae: 0.1337, forces_mae: 0.1206, forces_cos: 0.0534, forces_magnitude: 0.1839, energy_mae: 2.9297, energy_force_within_threshold: 0.0000, loss: 15.0362, epoch: 0.8259\n",
            "forcesx_mae: 0.0806, forcesy_mae: 0.1053, forcesz_mae: 0.1099, forces_mae: 0.0986, forces_cos: 0.0630, forces_magnitude: 0.1409, energy_mae: 3.2014, energy_force_within_threshold: 0.0000, loss: 13.0442, epoch: 0.8291\n",
            "forcesx_mae: 0.0946, forcesy_mae: 0.1240, forcesz_mae: 0.1251, forces_mae: 0.1145, forces_cos: 0.0713, forces_magnitude: 0.1746, energy_mae: 2.8593, energy_force_within_threshold: 0.0000, loss: 14.3004, epoch: 0.8323\n",
            "forcesx_mae: 0.0819, forcesy_mae: 0.1011, forcesz_mae: 0.0957, forces_mae: 0.0929, forces_cos: 0.0420, forces_magnitude: 0.1279, energy_mae: 3.1239, energy_force_within_threshold: 0.0000, loss: 12.4193, epoch: 0.8355\n",
            "forcesx_mae: 0.0902, forcesy_mae: 0.1095, forcesz_mae: 0.1218, forces_mae: 0.1072, forces_cos: 0.0546, forces_magnitude: 0.1625, energy_mae: 2.7772, energy_force_within_threshold: 0.0000, loss: 13.3628, epoch: 0.8387\n",
            "forcesx_mae: 0.0967, forcesy_mae: 0.1067, forcesz_mae: 0.1155, forces_mae: 0.1063, forces_cos: 0.0388, forces_magnitude: 0.1475, energy_mae: 3.2505, energy_force_within_threshold: 0.0000, loss: 14.0015, epoch: 0.8419\n",
            "forcesx_mae: 0.0894, forcesy_mae: 0.1071, forcesz_mae: 0.1123, forces_mae: 0.1029, forces_cos: 0.0400, forces_magnitude: 0.1523, energy_mae: 2.9671, energy_force_within_threshold: 0.0000, loss: 13.3660, epoch: 0.8451\n",
            "forcesx_mae: 0.1143, forcesy_mae: 0.1500, forcesz_mae: 0.1782, forces_mae: 0.1475, forces_cos: 0.0403, forces_magnitude: 0.2383, energy_mae: 3.1123, energy_force_within_threshold: 0.0000, loss: 17.9068, epoch: 0.8483\n"
          ],
          "name": "stdout"
        },
        {
          "output_type": "stream",
          "text": [
            "forcesx_mae: 0.0878, forcesy_mae: 0.1075, forcesz_mae: 0.1112, forces_mae: 0.1022, forces_cos: 0.0537, forces_magnitude: 0.1420, energy_mae: 2.7665, energy_force_within_threshold: 0.0000, loss: 13.0340, epoch: 0.8515\n",
            "forcesx_mae: 0.0804, forcesy_mae: 0.1101, forcesz_mae: 0.1121, forces_mae: 0.1008, forces_cos: 0.0526, forces_magnitude: 0.1497, energy_mae: 3.0201, energy_force_within_threshold: 0.0000, loss: 13.0701, epoch: 0.8547\n",
            "forcesx_mae: 0.1130, forcesy_mae: 0.1454, forcesz_mae: 0.1515, forces_mae: 0.1366, forces_cos: 0.0413, forces_magnitude: 0.2134, energy_mae: 3.7423, energy_force_within_threshold: 0.0000, loss: 17.4133, epoch: 0.8579\n",
            "forcesx_mae: 0.1162, forcesy_mae: 0.1405, forcesz_mae: 0.1485, forces_mae: 0.1351, forces_cos: 0.0717, forces_magnitude: 0.2054, energy_mae: 3.0387, energy_force_within_threshold: 0.0000, loss: 16.6642, epoch: 0.8611\n",
            "forcesx_mae: 0.0963, forcesy_mae: 0.1400, forcesz_mae: 0.1270, forces_mae: 0.1211, forces_cos: 0.0444, forces_magnitude: 0.1858, energy_mae: 2.6469, energy_force_within_threshold: 0.0000, loss: 14.7057, epoch: 0.8643\n",
            "forcesx_mae: 0.0832, forcesy_mae: 0.0924, forcesz_mae: 0.1030, forces_mae: 0.0929, forces_cos: 0.0772, forces_magnitude: 0.1344, energy_mae: 3.0885, energy_force_within_threshold: 0.0000, loss: 12.3563, epoch: 0.8675\n",
            "forcesx_mae: 0.0900, forcesy_mae: 0.1078, forcesz_mae: 0.1208, forces_mae: 0.1062, forces_cos: 0.0671, forces_magnitude: 0.1541, energy_mae: 2.9514, energy_force_within_threshold: 0.0000, loss: 13.5769, epoch: 0.8707\n",
            "forcesx_mae: 0.0779, forcesy_mae: 0.0954, forcesz_mae: 0.0994, forces_mae: 0.0909, forces_cos: 0.0552, forces_magnitude: 0.1226, energy_mae: 3.3424, energy_force_within_threshold: 0.0000, loss: 12.3960, epoch: 0.8739\n",
            "forcesx_mae: 0.1096, forcesy_mae: 0.1417, forcesz_mae: 0.1418, forces_mae: 0.1310, forces_cos: 0.0550, forces_magnitude: 0.1980, energy_mae: 3.2262, energy_force_within_threshold: 0.0000, loss: 16.3088, epoch: 0.8771\n",
            "forcesx_mae: 0.0931, forcesy_mae: 0.1221, forcesz_mae: 0.1214, forces_mae: 0.1122, forces_cos: 0.0486, forces_magnitude: 0.1634, energy_mae: 3.3337, energy_force_within_threshold: 0.0000, loss: 14.5504, epoch: 0.8803\n",
            "forcesx_mae: 0.0888, forcesy_mae: 0.0995, forcesz_mae: 0.1151, forces_mae: 0.1011, forces_cos: 0.0673, forces_magnitude: 0.1477, energy_mae: 3.2907, energy_force_within_threshold: 0.0000, loss: 13.3933, epoch: 0.8835\n",
            "forcesx_mae: 0.0865, forcesy_mae: 0.1049, forcesz_mae: 0.1043, forces_mae: 0.0986, forces_cos: 0.0417, forces_magnitude: 0.1382, energy_mae: 3.3670, energy_force_within_threshold: 0.0000, loss: 13.2858, epoch: 0.8867\n",
            "forcesx_mae: 0.0825, forcesy_mae: 0.0984, forcesz_mae: 0.1037, forces_mae: 0.0949, forces_cos: 0.0548, forces_magnitude: 0.1358, energy_mae: 3.7510, energy_force_within_threshold: 0.0000, loss: 13.3187, epoch: 0.8899\n",
            "forcesx_mae: 0.0947, forcesy_mae: 0.1029, forcesz_mae: 0.1149, forces_mae: 0.1042, forces_cos: 0.0474, forces_magnitude: 0.1468, energy_mae: 2.9223, energy_force_within_threshold: 0.0000, loss: 13.3758, epoch: 0.8931\n",
            "forcesx_mae: 0.0960, forcesy_mae: 0.1095, forcesz_mae: 0.1190, forces_mae: 0.1082, forces_cos: 0.0567, forces_magnitude: 0.1506, energy_mae: 2.6294, energy_force_within_threshold: 0.0000, loss: 13.5095, epoch: 0.8963\n",
            "forcesx_mae: 0.1017, forcesy_mae: 0.1329, forcesz_mae: 0.1355, forces_mae: 0.1233, forces_cos: 0.0555, forces_magnitude: 0.1871, energy_mae: 3.0895, energy_force_within_threshold: 0.0000, loss: 15.4585, epoch: 0.8995\n",
            "forcesx_mae: 0.1027, forcesy_mae: 0.1214, forcesz_mae: 0.1403, forces_mae: 0.1214, forces_cos: 0.0588, forces_magnitude: 0.1776, energy_mae: 3.3842, energy_force_within_threshold: 0.0000, loss: 15.5541, epoch: 0.9027\n",
            "forcesx_mae: 0.0828, forcesy_mae: 0.1142, forcesz_mae: 0.1072, forces_mae: 0.1014, forces_cos: 0.0380, forces_magnitude: 0.1506, energy_mae: 3.1480, energy_force_within_threshold: 0.0000, loss: 13.5794, epoch: 0.9059\n",
            "forcesx_mae: 0.0845, forcesy_mae: 0.0969, forcesz_mae: 0.1059, forces_mae: 0.0958, forces_cos: 0.0366, forces_magnitude: 0.1376, energy_mae: 3.0183, energy_force_within_threshold: 0.0000, loss: 12.4958, epoch: 0.9091\n",
            "forcesx_mae: 0.0848, forcesy_mae: 0.1072, forcesz_mae: 0.1119, forces_mae: 0.1013, forces_cos: 0.0498, forces_magnitude: 0.1425, energy_mae: 3.0124, energy_force_within_threshold: 0.0000, loss: 13.2240, epoch: 0.9123\n",
            "forcesx_mae: 0.0893, forcesy_mae: 0.1105, forcesz_mae: 0.1177, forces_mae: 0.1058, forces_cos: 0.0511, forces_magnitude: 0.1499, energy_mae: 3.1578, energy_force_within_threshold: 0.0000, loss: 13.7440, epoch: 0.9155\n",
            "forcesx_mae: 0.1034, forcesy_mae: 0.1267, forcesz_mae: 0.1240, forces_mae: 0.1180, forces_cos: 0.0495, forces_magnitude: 0.1743, energy_mae: 3.2840, energy_force_within_threshold: 0.0000, loss: 14.9469, epoch: 0.9187\n",
            "forcesx_mae: 0.0872, forcesy_mae: 0.1109, forcesz_mae: 0.1120, forces_mae: 0.1034, forces_cos: 0.0628, forces_magnitude: 0.1511, energy_mae: 3.4911, energy_force_within_threshold: 0.0000, loss: 13.7508, epoch: 0.9219\n",
            "forcesx_mae: 0.0765, forcesy_mae: 0.0927, forcesz_mae: 0.0971, forces_mae: 0.0888, forces_cos: 0.0420, forces_magnitude: 0.1208, energy_mae: 2.7517, energy_force_within_threshold: 0.0000, loss: 11.6559, epoch: 0.9251\n",
            "forcesx_mae: 0.0836, forcesy_mae: 0.1126, forcesz_mae: 0.1162, forces_mae: 0.1042, forces_cos: 0.0552, forces_magnitude: 0.1480, energy_mae: 3.1079, energy_force_within_threshold: 0.0000, loss: 13.4519, epoch: 0.9283\n",
            "forcesx_mae: 0.0896, forcesy_mae: 0.1110, forcesz_mae: 0.1138, forces_mae: 0.1048, forces_cos: 0.0463, forces_magnitude: 0.1506, energy_mae: 3.5208, energy_force_within_threshold: 0.0000, loss: 13.9515, epoch: 0.9315\n",
            "forcesx_mae: 0.0899, forcesy_mae: 0.1065, forcesz_mae: 0.1276, forces_mae: 0.1080, forces_cos: 0.0501, forces_magnitude: 0.1595, energy_mae: 2.5822, energy_force_within_threshold: 0.0000, loss: 13.4178, epoch: 0.9347\n",
            "forcesx_mae: 0.0758, forcesy_mae: 0.0933, forcesz_mae: 0.0945, forces_mae: 0.0878, forces_cos: 0.0658, forces_magnitude: 0.1213, energy_mae: 2.9939, energy_force_within_threshold: 0.0000, loss: 11.8179, epoch: 0.9379\n",
            "forcesx_mae: 0.0862, forcesy_mae: 0.1110, forcesz_mae: 0.1079, forces_mae: 0.1017, forces_cos: 0.0372, forces_magnitude: 0.1447, energy_mae: 2.9721, energy_force_within_threshold: 0.0000, loss: 13.0694, epoch: 0.9411\n",
            "forcesx_mae: 0.0849, forcesy_mae: 0.1077, forcesz_mae: 0.1171, forces_mae: 0.1032, forces_cos: 0.0490, forces_magnitude: 0.1476, energy_mae: 2.4923, energy_force_within_threshold: 0.0000, loss: 12.9539, epoch: 0.9443\n",
            "forcesx_mae: 0.0924, forcesy_mae: 0.1258, forcesz_mae: 0.1313, forces_mae: 0.1165, forces_cos: 0.0651, forces_magnitude: 0.1743, energy_mae: 3.2609, energy_force_within_threshold: 0.0000, loss: 14.8669, epoch: 0.9475\n",
            "forcesx_mae: 0.0902, forcesy_mae: 0.1039, forcesz_mae: 0.1141, forces_mae: 0.1027, forces_cos: 0.0503, forces_magnitude: 0.1507, energy_mae: 2.7040, energy_force_within_threshold: 0.0000, loss: 13.1077, epoch: 0.9507\n",
            "forcesx_mae: 0.0729, forcesy_mae: 0.0900, forcesz_mae: 0.0902, forces_mae: 0.0844, forces_cos: 0.0580, forces_magnitude: 0.1174, energy_mae: 2.9313, energy_force_within_threshold: 0.0000, loss: 11.3392, epoch: 0.9539\n",
            "forcesx_mae: 0.0792, forcesy_mae: 0.0973, forcesz_mae: 0.1022, forces_mae: 0.0929, forces_cos: 0.0663, forces_magnitude: 0.1313, energy_mae: 2.8274, energy_force_within_threshold: 0.0000, loss: 12.1555, epoch: 0.9571\n",
            "forcesx_mae: 0.0805, forcesy_mae: 0.1125, forcesz_mae: 0.1015, forces_mae: 0.0982, forces_cos: 0.0546, forces_magnitude: 0.1468, energy_mae: 3.5999, energy_force_within_threshold: 0.0000, loss: 13.4721, epoch: 0.9603\n",
            "forcesx_mae: 0.0964, forcesy_mae: 0.1158, forcesz_mae: 0.1324, forces_mae: 0.1149, forces_cos: 0.0669, forces_magnitude: 0.1799, energy_mae: 3.4422, energy_force_within_threshold: 0.0000, loss: 14.8770, epoch: 0.9635\n",
            "forcesx_mae: 0.0871, forcesy_mae: 0.1082, forcesz_mae: 0.1106, forces_mae: 0.1020, forces_cos: 0.0651, forces_magnitude: 0.1491, energy_mae: 3.2538, energy_force_within_threshold: 0.0000, loss: 13.5481, epoch: 0.9667\n",
            "forcesx_mae: 0.0807, forcesy_mae: 0.0938, forcesz_mae: 0.0995, forces_mae: 0.0914, forces_cos: 0.0616, forces_magnitude: 0.1248, energy_mae: 2.9104, energy_force_within_threshold: 0.0000, loss: 12.0695, epoch: 0.9699\n"
          ],
          "name": "stdout"
        },
        {
          "output_type": "stream",
          "text": [
            "forcesx_mae: 0.0903, forcesy_mae: 0.1047, forcesz_mae: 0.1131, forces_mae: 0.1027, forces_cos: 0.0740, forces_magnitude: 0.1434, energy_mae: 2.8340, energy_force_within_threshold: 0.0000, loss: 13.0621, epoch: 0.9731\n",
            "forcesx_mae: 0.1015, forcesy_mae: 0.1113, forcesz_mae: 0.1251, forces_mae: 0.1126, forces_cos: 0.0519, forces_magnitude: 0.1649, energy_mae: 2.8163, energy_force_within_threshold: 0.0000, loss: 14.0856, epoch: 0.9763\n",
            "forcesx_mae: 0.0894, forcesy_mae: 0.1152, forcesz_mae: 0.1167, forces_mae: 0.1071, forces_cos: 0.0416, forces_magnitude: 0.1568, energy_mae: 3.3290, energy_force_within_threshold: 0.0000, loss: 14.1662, epoch: 0.9795\n",
            "forcesx_mae: 0.0756, forcesy_mae: 0.0945, forcesz_mae: 0.0963, forces_mae: 0.0888, forces_cos: 0.0476, forces_magnitude: 0.1240, energy_mae: 2.5540, energy_force_within_threshold: 0.0000, loss: 11.4540, epoch: 0.9827\n",
            "forcesx_mae: 0.0855, forcesy_mae: 0.1059, forcesz_mae: 0.1267, forces_mae: 0.1061, forces_cos: 0.0665, forces_magnitude: 0.1618, energy_mae: 2.7599, energy_force_within_threshold: 0.0000, loss: 13.4151, epoch: 0.9859\n",
            "forcesx_mae: 0.0880, forcesy_mae: 0.1062, forcesz_mae: 0.1102, forces_mae: 0.1015, forces_cos: 0.0782, forces_magnitude: 0.1459, energy_mae: 3.1551, energy_force_within_threshold: 0.0000, loss: 13.3062, epoch: 0.9891\n",
            "forcesx_mae: 0.0839, forcesy_mae: 0.1008, forcesz_mae: 0.0992, forces_mae: 0.0946, forces_cos: 0.0494, forces_magnitude: 0.1327, energy_mae: 3.1026, energy_force_within_threshold: 0.0000, loss: 12.5271, epoch: 0.9923\n",
            "forcesx_mae: 0.0955, forcesy_mae: 0.1152, forcesz_mae: 0.1235, forces_mae: 0.1114, forces_cos: 0.0432, forces_magnitude: 0.1639, energy_mae: 3.5360, energy_force_within_threshold: 0.0000, loss: 14.6517, epoch: 0.9955\n",
            "forcesx_mae: 0.0876, forcesy_mae: 0.0962, forcesz_mae: 0.1046, forces_mae: 0.0961, forces_cos: 0.0524, forces_magnitude: 0.1392, energy_mae: 3.3753, energy_force_within_threshold: 0.0000, loss: 13.0157, epoch: 0.9987\n",
            "### Evaluating on val.\n"
          ],
          "name": "stdout"
        },
        {
          "output_type": "stream",
          "text": [
            "device 0: 100%|██████████| 6250/6250 [02:01<00:00, 51.41it/s]"
          ],
          "name": "stderr"
        },
        {
          "output_type": "stream",
          "text": [
            "forcesx_mae: 0.0894, forcesy_mae: 0.1088, forcesz_mae: 0.1151, forces_mae: 0.1044, forces_cos: 0.0610, forces_magnitude: 0.1540, energy_mae: 3.2270, energy_force_within_threshold: 0.0000, loss: 13.7160, epoch: 1.0000\n",
            "### Predicting on test.\n"
          ],
          "name": "stdout"
        },
        {
          "output_type": "stream",
          "text": [
            "\n",
            "device 0: 100%|██████████| 6250/6250 [01:53<00:00, 55.20it/s]\n"
          ],
          "name": "stderr"
        },
        {
          "output_type": "stream",
          "text": [
            "Writing results to results/2021-01-06-16-49-04-SchNet-example/s2ef_predictions.npz\n"
          ],
          "name": "stdout"
        }
      ]
    },
    {
      "cell_type": "markdown",
      "metadata": {
        "id": "9J2QyDQzi7QA"
      },
      "source": [
        "### Load Checkpoint\n",
        "Once training has completed a `Trainer` class, by default, is loaded with the best checkpoint as determined by training or validation (if available) metrics. To load a `Trainer` class directly with a pretrained model, specify the `checkpoint_path` as defined by your previously trained model (`checkpoint_dir` in cell 9):"
      ]
    },
    {
      "cell_type": "code",
      "metadata": {
        "id": "Xxn5ImEii7QA",
        "outputId": "388be836-41cf-46e6-c88a-c8c86032d06c"
      },
      "source": [
        "model = {\n",
        "    'name': 'schnet',\n",
        "    'hidden_channels': 1024, # if training is too slow for example purposes reduce the number of hidden channels\n",
        "    'num_filters': 256,\n",
        "    'num_interactions': 3,\n",
        "    'num_gaussians': 200,\n",
        "    'cutoff': 6.0\n",
        "}\n",
        "\n",
        "pretrained_trainer = ForcesTrainer(\n",
        "    task=task,\n",
        "    model=model,\n",
        "    dataset=dataset,\n",
        "    optimizer=optimizer,\n",
        "    identifier=\"SchNet-example\",\n",
        "    run_dir=\"./\", # directory to save results if is_debug=False. Prediction files are saved here so be careful not to override!\n",
        "    is_debug=False, # if True, do not save checkpoint, logs, or results\n",
        "    is_vis=False,\n",
        "    print_every=10,\n",
        "    seed=0, # random seed to use\n",
        "    logger=\"tensorboard\", # logger of choice (tensorboard and wandb supported)\n",
        "    local_rank=0,\n",
        "    amp=False, # use PyTorch Automatic Mixed Precision (faster training and less memory usage)\n",
        ")\n",
        "\n",
        "pretrained_trainer.load_pretrained(checkpoint_path=\"checkpoints/2021-01-06-16-49-04-SchNet-example/checkpoint.pt\")"
      ],
      "execution_count": null,
      "outputs": [
        {
          "output_type": "stream",
          "text": [
            "amp: false\n",
            "cmd:\n",
            "  checkpoint_dir: checkpoints/2021-01-06-17-23-12-SchNet-example\n",
            "  identifier: SchNet-example\n",
            "  logs_dir: logs/tensorboard/2021-01-06-17-23-12-SchNet-example\n",
            "  print_every: 10\n",
            "  results_dir: results/2021-01-06-17-23-12-SchNet-example\n",
            "  seed: 0\n",
            "  timestamp: 2021-01-06-17-23-12-SchNet-example\n",
            "dataset:\n",
            "  normalize_labels: false\n",
            "  src: /home/jovyan/projects/ocp/data/s2ef/200k/train-demo\n",
            "logger: tensorboard\n",
            "logger_entity: null\n",
            "logger_project: null\n",
            "model: schnet\n",
            "model_attributes:\n",
            "  cutoff: 6.0\n",
            "  hidden_channels: 1024\n",
            "  num_filters: 256\n",
            "  num_gaussians: 200\n",
            "  num_interactions: 3\n",
            "optim:\n",
            "  batch_size: 16\n",
            "  eval_batch_size: 8\n",
            "  force_coefficient: 100\n",
            "  lr_gamma: 0.1\n",
            "  lr_initial: 0.0001\n",
            "  lr_milestones:\n",
            "  - 15\n",
            "  - 20\n",
            "  max_epochs: 1\n",
            "  num_workers: 64\n",
            "  warmup_epochs: 10\n",
            "  warmup_factor: 0.2\n",
            "task:\n",
            "  dataset: trajectory_lmdb\n",
            "  description: Regressing to energies and forces for DFT trajectories from OCP\n",
            "  eval_on_free_atoms: true\n",
            "  grad_input: atomic forces\n",
            "  labels:\n",
            "  - potential energy\n",
            "  metric: mae\n",
            "  train_on_free_atoms: true\n",
            "  type: regression\n",
            "test_dataset:\n",
            "  src: /home/jovyan/projects/ocp/data/s2ef/200k/train-demo\n",
            "val_dataset:\n",
            "  src: /home/jovyan/projects/ocp/data/s2ef/200k/train-demo\n",
            "\n",
            "### Loading dataset: trajectory_lmdb\n",
            "### Loading model: schnet\n",
            "### Loaded SchNet with 5704193 parameters.\n",
            "NOTE: model gradient logging to tensorboard not yet supported.\n",
            "### Loading checkpoint from: checkpoints/2021-01-06-16-49-04-SchNet-example/checkpoint.pt\n"
          ],
          "name": "stdout"
        },
        {
          "output_type": "execute_result",
          "data": {
            "text/plain": [
              "True"
            ]
          },
          "metadata": {
            "tags": []
          },
          "execution_count": 20
        }
      ]
    },
    {
      "cell_type": "markdown",
      "metadata": {
        "id": "wnQfwMaYi7QB"
      },
      "source": [
        "## Predict"
      ]
    },
    {
      "cell_type": "markdown",
      "metadata": {
        "id": "2RHCwImPi7QB"
      },
      "source": [
        "If a test has been provided in your config, predictions are generated and written to disk automatically upon training completion. Otherwise, to make predictions on unseen data a `torch.utils.data` DataLoader object must be constructed. Here we reference our test set to make predictions on. Predictions are saved in `{results_file}.npz` in your `results_dir`."
      ]
    },
    {
      "cell_type": "code",
      "metadata": {
        "id": "hAI5njWri7QC",
        "outputId": "9060e16e-ec3c-428e-b3b7-3d0accdfeff4"
      },
      "source": [
        "# make predictions on the existing test_loader\n",
        "predictions = pretrained_trainer.predict(pretrained_trainer.test_loader, results_file=\"s2ef_results\", disable_tqdm=False)"
      ],
      "execution_count": null,
      "outputs": [
        {
          "output_type": "stream",
          "text": [
            "### Predicting on test.\n"
          ],
          "name": "stdout"
        },
        {
          "output_type": "stream",
          "text": [
            "device 0: 100%|██████████| 6250/6250 [01:53<00:00, 55.28it/s]\n"
          ],
          "name": "stderr"
        },
        {
          "output_type": "stream",
          "text": [
            "Writing results to results/2021-01-06-17-23-12-SchNet-example/s2ef_s2ef_results.npz\n"
          ],
          "name": "stdout"
        }
      ]
    },
    {
      "cell_type": "code",
      "metadata": {
        "id": "Di6xFTdBi7QC"
      },
      "source": [
        "energies = predictions[\"energy\"]\n",
        "forces = predictions[\"forces\"]"
      ],
      "execution_count": null,
      "outputs": []
    }
  ]
}