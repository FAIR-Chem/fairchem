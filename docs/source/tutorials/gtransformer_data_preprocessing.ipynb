{
 "cells": [
  {
   "cell_type": "markdown",
   "id": "natural-debut",
   "metadata": {},
   "source": [
    "### OCP Data Preprocessing Tutorial\n",
    "\n",
    "\n",
    "This notebook provides an overview of converting ASE Atoms objects to PyTorch Geometric Data objects. To better understand the raw data contained within OC20, check out the following tutorial first: https://github.com/Open-Catalyst-Project/ocp/blob/master/docs/source/tutorials/data_playground.ipynb"
   ]
  },
  {
   "cell_type": "code",
   "execution_count": 23,
   "id": "metric-study",
   "metadata": {},
   "outputs": [],
   "source": [
    "from ocpmodels.preprocessing import AtomsToGraphs\n",
    "import ase.io\n",
    "from ase.build import bulk\n",
    "from ase.build import fcc100, add_adsorbate, molecule\n",
    "from ase.constraints import FixAtoms\n",
    "from ase.calculators.emt import EMT\n",
    "from ase.optimize import BFGS\n",
    "import torch"
   ]
  },
  {
   "cell_type": "markdown",
   "id": "august-meaning",
   "metadata": {},
   "source": [
    "### Generate toy dataset: Relaxation of CO on Cu"
   ]
  },
  {
   "cell_type": "code",
   "execution_count": 3,
   "id": "american-swiss",
   "metadata": {},
   "outputs": [
    {
     "data": {
      "text/plain": "False"
     },
     "execution_count": 3,
     "metadata": {},
     "output_type": "execute_result"
    }
   ],
   "source": [
    "adslab = fcc100(\"Cu\", size=(2, 2, 3))\n",
    "ads = molecule(\"CO\")\n",
    "add_adsorbate(adslab, ads, 3, offset=(1, 1))\n",
    "cons = FixAtoms(indices=[atom.index for atom in adslab if (atom.tag == 3)])\n",
    "adslab.set_constraint(cons)\n",
    "adslab.center(vacuum=13.0, axis=2)\n",
    "adslab.set_pbc(True)\n",
    "adslab.set_calculator(EMT())\n",
    "dyn = BFGS(adslab, trajectory=\"CuCO_adslab.traj\", logfile=None)\n",
    "dyn.run(fmax=0, steps=1000)"
   ]
  },
  {
   "cell_type": "code",
   "execution_count": 4,
   "id": "guilty-stuff",
   "metadata": {},
   "outputs": [
    {
     "name": "stdout",
     "output_type": "stream",
     "text": [
      "1001\n"
     ]
    }
   ],
   "source": [
    "raw_data = ase.io.read(\"CuCO_adslab.traj\", \":\")\n",
    "print(len(raw_data))"
   ]
  },
  {
   "cell_type": "markdown",
   "id": "competent-joseph",
   "metadata": {},
   "source": [
    "### Convert Atoms object to Data object\n",
    "\n",
    "The AtomsToGraphs class takes in several arguments to control how Data objects created:\n",
    "\n",
    "- max_neigh (int):   Maximum number of neighbors a given atom is allowed to have, discarding the furthest\n",
    "- radius (float):      Cutoff radius to compute nearest neighbors around\n",
    "- r_energy (bool):    Write energy to Data object\n",
    "- r_forces (bool):    Write forces to Data object\n",
    "- r_distances (bool): Write distances between neighbors to Data object\n",
    "- r_edges (bool):     Write neigbhor edge indices to Data object\n",
    "- r_fixed (bool):     Write indices of fixed atoms to Data object"
   ]
  },
  {
   "cell_type": "code",
   "execution_count": 5,
   "id": "realistic-bunch",
   "metadata": {},
   "outputs": [],
   "source": [
    "a2g = AtomsToGraphs(\n",
    "    max_neigh=50,\n",
    "    radius=6,\n",
    "    r_energy=True,\n",
    "    r_forces=True,\n",
    "    r_distances=False,\n",
    "    r_edges=True,\n",
    "    r_fixed=True,\n",
    ")"
   ]
  },
  {
   "cell_type": "code",
   "execution_count": 6,
   "id": "unsigned-headset",
   "metadata": {},
   "outputs": [],
   "source": [
    "data_objects = a2g.convert_all(raw_data, disable_tqdm=True)"
   ]
  },
  {
   "cell_type": "code",
   "execution_count": 7,
   "id": "enclosed-future",
   "metadata": {},
   "outputs": [
    {
     "data": {
      "text/plain": "Data(atomic_numbers=[14], cell=[1, 3, 3], cell_offsets=[636, 3], edge_index=[2, 636], fixed=[14], force=[14, 3], natoms=14, pos=[14, 3], y=3.9893144106684715)"
     },
     "execution_count": 7,
     "metadata": {},
     "output_type": "execute_result"
    }
   ],
   "source": [
    "data = data_objects[0]\n",
    "data"
   ]
  },
  {
   "cell_type": "code",
   "execution_count": 8,
   "id": "ignored-offering",
   "metadata": {},
   "outputs": [
    {
     "data": {
      "text/plain": "tensor([29., 29., 29., 29., 29., 29., 29., 29., 29., 29., 29., 29.,  8.,  6.])"
     },
     "execution_count": 8,
     "metadata": {},
     "output_type": "execute_result"
    }
   ],
   "source": [
    "data.atomic_numbers"
   ]
  },
  {
   "cell_type": "code",
   "execution_count": 9,
   "id": "conventional-liability",
   "metadata": {},
   "outputs": [
    {
     "data": {
      "text/plain": "tensor([[[ 5.1053,  0.0000,  0.0000],\n         [ 0.0000,  5.1053,  0.0000],\n         [ 0.0000,  0.0000, 32.6100]]])"
     },
     "execution_count": 9,
     "metadata": {},
     "output_type": "execute_result"
    }
   ],
   "source": [
    "data.cell"
   ]
  },
  {
   "cell_type": "code",
   "execution_count": 10,
   "id": "ruled-fundamental",
   "metadata": {},
   "outputs": [
    {
     "data": {
      "text/plain": "tensor([[ 1,  2,  2,  ...,  4,  6,  3],\n        [ 0,  0,  0,  ..., 13, 13, 13]])"
     },
     "execution_count": 10,
     "metadata": {},
     "output_type": "execute_result"
    }
   ],
   "source": [
    "data.edge_index #neighbor idx, source idx"
   ]
  },
  {
   "cell_type": "code",
   "execution_count": 11,
   "id": "olive-complex",
   "metadata": {},
   "outputs": [
    {
     "data": {
      "text/plain": "tensor([45., 45., 45., 46., 49., 49., 49., 49., 50., 49., 49., 50., 26., 35.])"
     },
     "execution_count": 11,
     "metadata": {},
     "output_type": "execute_result"
    }
   ],
   "source": [
    "from torch_geometric.utils import degree\n",
    "# Degree corresponds to the number of neighbors a given node has. Note there is no more than max_neigh neighbors for\n",
    "# any given node.\n",
    "\n",
    "degree(data.edge_index[1]) "
   ]
  },
  {
   "cell_type": "code",
   "execution_count": 12,
   "id": "cooperative-warehouse",
   "metadata": {},
   "outputs": [
    {
     "data": {
      "text/plain": "tensor([1., 1., 1., 1., 0., 0., 0., 0., 0., 0., 0., 0., 0., 0.])"
     },
     "execution_count": 12,
     "metadata": {},
     "output_type": "execute_result"
    }
   ],
   "source": [
    "data.fixed"
   ]
  },
  {
   "cell_type": "code",
   "execution_count": 13,
   "id": "satisfactory-petroleum",
   "metadata": {},
   "outputs": [
    {
     "data": {
      "text/plain": "tensor([[ 2.3250e-15,  1.8807e-15,  1.1354e-01],\n        [ 9.0249e-16,  1.1050e-15,  1.1344e-01],\n        [ 5.2822e-15,  2.9421e-15,  1.1344e-01],\n        [-3.4399e-17,  6.2746e-17,  1.1294e-01],\n        [-8.5221e-03, -8.5221e-03, -1.1496e-02],\n        [ 8.5221e-03, -8.5221e-03, -1.1496e-02],\n        [-8.5221e-03,  8.5221e-03, -1.1496e-02],\n        [ 8.5221e-03,  8.5221e-03, -1.1496e-02],\n        [ 8.5001e-16, -8.4308e-16, -1.0431e-01],\n        [-2.0583e-15, -4.5797e-16, -6.6610e-02],\n        [-5.5511e-17, -5.8287e-16, -6.6610e-02],\n        [-1.7780e-15, -2.5274e-15, -3.3250e-01],\n        [-4.2690e-19, -8.6059e-19, -3.4247e-01],\n        [-4.3368e-17, -2.4286e-17,  5.0512e-01]])"
     },
     "execution_count": 13,
     "metadata": {},
     "output_type": "execute_result"
    }
   ],
   "source": [
    "data.force"
   ]
  },
  {
   "cell_type": "code",
   "execution_count": 14,
   "id": "broad-rouge",
   "metadata": {},
   "outputs": [
    {
     "data": {
      "text/plain": "tensor([[ 0.0000,  0.0000, 13.0000],\n        [ 2.5527,  0.0000, 13.0000],\n        [ 0.0000,  2.5527, 13.0000],\n        [ 2.5527,  2.5527, 13.0000],\n        [ 1.2763,  1.2763, 14.8050],\n        [ 3.8290,  1.2763, 14.8050],\n        [ 1.2763,  3.8290, 14.8050],\n        [ 3.8290,  3.8290, 14.8050],\n        [ 0.0000,  0.0000, 16.6100],\n        [ 2.5527,  0.0000, 16.6100],\n        [ 0.0000,  2.5527, 16.6100],\n        [ 2.5527,  2.5527, 16.6100],\n        [ 2.5527,  2.5527, 19.6100],\n        [ 2.5527,  2.5527, 18.4597]])"
     },
     "execution_count": 14,
     "metadata": {},
     "output_type": "execute_result"
    }
   ],
   "source": [
    "data.pos"
   ]
  },
  {
   "cell_type": "code",
   "execution_count": 15,
   "id": "coupled-orchestra",
   "metadata": {},
   "outputs": [
    {
     "data": {
      "text/plain": "3.9893144106684715"
     },
     "execution_count": 15,
     "metadata": {},
     "output_type": "execute_result"
    }
   ],
   "source": [
    "data.y"
   ]
  },
  {
   "cell_type": "markdown",
   "id": "decreased-treat",
   "metadata": {},
   "source": [
    "### Adding additional info to your Data objects\n",
    "\n",
    "In addition to the above information, the OCP repo requires several other pieces of information for your data to work\n",
    "with the provided trainers:\n",
    "\n",
    "- sid (int): A unique identifier for a particular system. Does not affect your model performance, used for prediction saving \n",
    "- fid (int) (S2EF only): If training for the S2EF task, your data must also contain a unique frame identifier for atoms objects coming from the same system.\n",
    "- tags (tensor): Tag information - 0 for adsorbate, 1 for surface, 2 for subsurface. Optional, can be used for training.\n",
    "\n",
    "\n",
    "Other information may be added her as well if you choose to incorporate other information in your models/frameworks"
   ]
  },
  {
   "cell_type": "code",
   "execution_count": 129,
   "id": "simple-champion",
   "metadata": {},
   "outputs": [],
   "source": [
    "data_objects = []\n",
    "for idx, system in enumerate(raw_data):\n",
    "    data = a2g.convert(system)\n",
    "    data.fid = idx\n",
    "    data.sid = 0 # All data points come from the same system, arbitrarly define this as 0\n",
    "    data_objects.append(data)"
   ]
  },
  {
   "cell_type": "code",
   "execution_count": 130,
   "outputs": [
    {
     "data": {
      "text/plain": "Data(atomic_numbers=[14], cell=[1, 3, 3], cell_offsets=[635, 3], edge_index=[2, 635], fid=100, fixed=[14], force=[14, 3], natoms=14, pos=[14, 3], sid=0, y=3.968355893395698)"
     },
     "execution_count": 130,
     "metadata": {},
     "output_type": "execute_result"
    }
   ],
   "source": [
    "data = data_objects[100]\n",
    "data"
   ],
   "metadata": {
    "collapsed": false,
    "pycharm": {
     "name": "#%%\n"
    }
   }
  },
  {
   "cell_type": "code",
   "execution_count": 131,
   "outputs": [
    {
     "data": {
      "text/plain": "0"
     },
     "execution_count": 131,
     "metadata": {},
     "output_type": "execute_result"
    }
   ],
   "source": [
    "data.sid"
   ],
   "metadata": {
    "collapsed": false,
    "pycharm": {
     "name": "#%%\n"
    }
   }
  },
  {
   "cell_type": "code",
   "execution_count": 132,
   "outputs": [
    {
     "data": {
      "text/plain": "100"
     },
     "execution_count": 132,
     "metadata": {},
     "output_type": "execute_result"
    }
   ],
   "source": [
    "data.fid"
   ],
   "metadata": {
    "collapsed": false,
    "pycharm": {
     "name": "#%%\n"
    }
   }
  },
  {
   "cell_type": "code",
   "execution_count": 123,
   "id": "civil-better",
   "metadata": {},
   "outputs": [],
   "source": [
    "# Helper function to convert from PyTorch Geometric input to GROVER input:\n",
    "def convert_input(data):\n",
    "    \"\"\"\n",
    "        :param data: data as PyTorch geometric object\n",
    "        :param f_atoms: the atom features, num_atoms * atom_dim\n",
    "        :param f_bonds: the bond features, num_bonds * bond_dim\n",
    "        :param a2b: mapping from atom index to incoming bond indices.\n",
    "        :param a2a: mapping from atom index to its neighbors. num_atoms * max_num_bonds\n",
    "        :param b2a: mapping from bond index to the index of the atom the bond is coming from.\n",
    "        :param b2revb: mapping from bond index to the index of the reverse bond.\n",
    "        :return: batch = (f_atoms, f_bonds, a2b, a2a, b2a, b2revb)\n",
    "    \"\"\"\n",
    "    # Per atom features: (atomic_number, pos_x, pos_y, pos_z)\n",
    "    f_atoms = torch.stack((data.atomic_numbers.long(), data.pos[:,0], data.pos[:,1], data.pos[:,2]), 1)\n",
    "    # Per edge features (calculated by atomic distances in model forward pass)\n",
    "    f_bonds = data.edge_attr\n",
    "\n",
    "    a2a = [[] for j in range(data.natoms)] # List of lists - Dynamically append neighbors for a given atom\n",
    "    a2b = [[] for j in range(data.natoms)] # List of lists - Dynamically append edges for a given atom\n",
    "    b2a = torch.zeros((data.edge_index.shape[1],))  # (num_edges, ) - One originating atom per edge\n",
    "    b2revb = torch.zeros((data.edge_index.shape[1],))  # (num_edges, ) - One reverse bond per bond\n",
    "\n",
    "    for i in range(data.edge_index.shape[1]):\n",
    "        from_atom = data.edge_index[0][i]\n",
    "        to_atom = data.edge_index[1][i]\n",
    "        a2a[from_atom].append(to_atom) # Mark b as neighbor of a\n",
    "        a2b[from_atom].append(i) # Mark bond i as outgoing bond from atom a\n",
    "        b2a[i] = from_atom # Mark a as atom where bond i is originating\n",
    "        # b2revb # Can\n",
    "\n",
    "    # Convert list of lists for a2a and a2b into tensor: (num_nodes, max_edges)\n",
    "    # Option 1: Trims length to max number of edges seen in the data (<= 50)\n",
    "    a2a_pad = len(max(a2a, key=len))\n",
    "    a2b_pad = len(max(a2b, key=len))\n",
    "\n",
    "    # Option 2: Sets length to max number of possible edges (should be 50 but in test ipynb it's 55)\n",
    "    # a2a_pad = 50\n",
    "    # a2b_pad = 50\n",
    "\n",
    "    a2a = torch.tensor([i + [0] * (a2a_pad - len(i)) for i in a2a])\n",
    "    a2b = torch.tensor([i + [0] * (a2b_pad - len(i)) for i in a2b])\n",
    "\n",
    "    batch = (f_atoms, f_bonds, a2b, a2a, b2a, b2revb)\n",
    "    return batch"
   ]
  },
  {
   "cell_type": "code",
   "execution_count": 124,
   "id": "absolute-suggestion",
   "metadata": {},
   "outputs": [
    {
     "name": "stdout",
     "output_type": "stream",
     "text": [
      "Atomic numbers shape:  torch.Size([14])\n",
      "Position shape:  torch.Size([14, 3])\n",
      "2nd pos vector:  tensor([[ 0.,  0., 13.]])\n"
     ]
    }
   ],
   "source": [
    "print(\"Atomic numbers shape: \", data.atomic_numbers.shape)\n",
    "print(\"Position shape: \", data.pos.shape)\n",
    "print(\"2nd pos vector: \", data.pos[:1])\n",
    "\n",
    "# Manually set edge attributes randomly\n",
    "data.edge_attr = torch.randn((data.edge_index.shape[1]))"
   ]
  },
  {
   "cell_type": "code",
   "execution_count": 125,
   "outputs": [
    {
     "name": "stdout",
     "output_type": "stream",
     "text": [
      "Shape of edge attributes:  torch.Size([635])\n"
     ]
    }
   ],
   "source": [
    "print(\"Shape of edge attributes: \", data.edge_attr.shape)"
   ],
   "metadata": {
    "collapsed": false,
    "pycharm": {
     "name": "#%%\n"
    }
   }
  },
  {
   "cell_type": "code",
   "execution_count": 128,
   "outputs": [
    {
     "name": "stdout",
     "output_type": "stream",
     "text": [
      "Shapes of parameters\n",
      "f_atoms:  torch.Size([14, 4])\n",
      "f_bonds:  torch.Size([635])\n",
      "a2b:  torch.Size([14, 55])\n",
      "a2a:  torch.Size([14, 55])\n",
      "b2a:  torch.Size([635])\n",
      "b2revb:  torch.Size([635])\n",
      "\n",
      "Example data\n",
      "Atom features index 0:  tensor([29.,  0.,  0., 13.])\n",
      "Edge features index 0:  tensor(-0.5065)\n",
      "a2a atom 0:  tensor([ 29,  30,  31,  32,  50,  51,  82,  83,  88,  89,  94,  95, 127, 131,\n",
      "        132, 134, 144, 145, 146, 147, 182, 204, 205, 225, 231, 253, 254, 274,\n",
      "        280, 302, 303, 323, 329, 351, 352, 372, 385, 443, 445, 493, 495, 551,\n",
      "        552, 553, 554,   0,   0,   0,   0,   0,   0,   0,   0,   0,   0])\n",
      "a2a atom 0:  tensor([ 0,  0,  0,  0,  1,  1,  1,  1,  1,  1,  2,  2,  2,  2,  2,  2,  3,  3,\n",
      "         3,  3,  4,  4,  4,  4,  5,  5,  5,  5,  6,  6,  6,  6,  7,  7,  7,  7,\n",
      "         8,  9,  9, 10, 10, 11, 11, 11, 11,  0,  0,  0,  0,  0,  0,  0,  0,  0,\n",
      "         0])\n",
      "b2a edge 0:  tensor(5.)\n",
      "b2revb edge 0:  tensor(0.)\n"
     ]
    }
   ],
   "source": [
    "batch = convert_input(data)\n",
    "f_atoms, f_bonds, a2b, a2a, b2a, b2revb = batch\n",
    "print(\"Shapes of parameters\")\n",
    "print(\"f_atoms: \", f_atoms.shape)\n",
    "print(\"f_bonds: \", f_bonds.shape)\n",
    "print(\"a2b: \", a2b.shape)\n",
    "print(\"a2a: \", a2a.shape)\n",
    "print(\"b2a: \", b2a.shape)\n",
    "print(\"b2revb: \", b2revb.shape)\n",
    "\n",
    "print(\"\\nExample data\")\n",
    "print(\"Atom features index 0: \", f_atoms[0])\n",
    "print(\"Edge features index 0: \", f_bonds[0])\n",
    "print(\"a2a atom 0: \", a2b[0])\n",
    "print(\"a2a atom 0: \", a2a[0])\n",
    "print(\"b2a edge 0: \", b2a[0])\n",
    "print(\"b2revb edge 0: \", b2revb[0])"
   ],
   "metadata": {
    "collapsed": false,
    "pycharm": {
     "name": "#%%\n"
    }
   }
  },
  {
   "cell_type": "markdown",
   "id": "derived-effort",
   "metadata": {},
   "source": [
    "Resources:\n",
    "\n",
    "- https://github.com/Open-Catalyst-Project/ocp/blob/6604e7130ea41fabff93c229af2486433093e3b4/ocpmodels/preprocessing/atoms_to_graphs.py\n",
    "- https://github.com/Open-Catalyst-Project/ocp/blob/master/scripts/preprocess_ef.py"
   ]
  }
 ],
 "metadata": {
  "kernelspec": {
   "display_name": "Python 3",
   "language": "python",
   "name": "python3"
  },
  "language_info": {
   "codemirror_mode": {
    "name": "ipython",
    "version": 3
   },
   "file_extension": ".py",
   "mimetype": "text/x-python",
   "name": "python",
   "nbconvert_exporter": "python",
   "pygments_lexer": "ipython3",
   "version": "3.9.1"
  }
 },
 "nbformat": 4,
 "nbformat_minor": 5
}