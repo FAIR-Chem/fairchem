{
 "cells": [
  {
   "cell_type": "markdown",
   "id": "natural-debut",
   "metadata": {},
   "source": [
    "### OCP Data Preprocessing Tutorial\n",
    "\n",
    "\n",
    "This notebook provides an overview of converting ASE Atoms objects to PyTorch Geometric Data objects. To better understand the raw data contained within OC20, check out the following tutorial first: https://github.com/Open-Catalyst-Project/ocp/blob/master/docs/source/tutorials/data_playground.ipynb"
   ]
  },
  {
   "cell_type": "code",
   "execution_count": 77,
   "id": "metric-study",
   "metadata": {},
   "outputs": [],
   "source": [
    "from ocpmodels.preprocessing import AtomsToGraphs\n",
    "import ase.io\n",
    "from ase.build import bulk\n",
    "from ase.build import fcc100, add_adsorbate, molecule\n",
    "from ase.constraints import FixAtoms\n",
    "from ase.calculators.emt import EMT\n",
    "from ase.optimize import BFGS\n",
    "import torch\n",
    "from torch_geometric.data import Data"
   ]
  },
  {
   "cell_type": "markdown",
   "id": "august-meaning",
   "metadata": {},
   "source": [
    "### Generate toy dataset: Relaxation of CO on Cu"
   ]
  },
  {
   "cell_type": "code",
   "execution_count": 102,
   "id": "american-swiss",
   "metadata": {},
   "outputs": [
    {
     "data": {
      "text/plain": [
       "False"
      ]
     },
     "execution_count": 102,
     "metadata": {},
     "output_type": "execute_result"
    }
   ],
   "source": [
    "adslab = fcc100(\"Cu\", size=(2, 2, 3))\n",
    "ads = molecule(\"CO\")\n",
    "add_adsorbate(adslab, ads, 3, offset=(1, 1))\n",
    "cons = FixAtoms(indices=[atom.index for atom in adslab if (atom.tag == 3)])\n",
    "adslab.set_constraint(cons)\n",
    "adslab.center(vacuum=13.0, axis=2)\n",
    "adslab.set_pbc(True)\n",
    "adslab.set_calculator(EMT())\n",
    "dyn = BFGS(adslab, trajectory=\"CuCO_adslab.traj\", logfile=None)\n",
    "dyn.run(fmax=0, steps=1000)"
   ]
  },
  {
   "cell_type": "code",
   "execution_count": 103,
   "id": "guilty-stuff",
   "metadata": {
    "pycharm": {
     "is_executing": true
    }
   },
   "outputs": [
    {
     "name": "stdout",
     "output_type": "stream",
     "text": [
      "1001\n"
     ]
    }
   ],
   "source": [
    "raw_data = ase.io.read(\"CuCO_adslab.traj\", \":\")\n",
    "print(len(raw_data))"
   ]
  },
  {
   "cell_type": "markdown",
   "id": "competent-joseph",
   "metadata": {},
   "source": [
    "### Convert Atoms object to Data object\n",
    "\n",
    "The AtomsToGraphs class takes in several arguments to control how Data objects created:\n",
    "\n",
    "- max_neigh (int):   Maximum number of neighbors a given atom is allowed to have, discarding the furthest\n",
    "- radius (float):      Cutoff radius to compute nearest neighbors around\n",
    "- r_energy (bool):    Write energy to Data object\n",
    "- r_forces (bool):    Write forces to Data object\n",
    "- r_distances (bool): Write distances between neighbors to Data object\n",
    "- r_edges (bool):     Write neigbhor edge indices to Data object\n",
    "- r_fixed (bool):     Write indices of fixed atoms to Data object"
   ]
  },
  {
   "cell_type": "code",
   "execution_count": 104,
   "id": "realistic-bunch",
   "metadata": {
    "pycharm": {
     "is_executing": true
    }
   },
   "outputs": [],
   "source": [
    "a2g = AtomsToGraphs(\n",
    "    max_neigh=50,\n",
    "    radius=6,\n",
    "    r_energy=True,\n",
    "    r_forces=True,\n",
    "    r_distances=False,\n",
    "    r_edges=True,\n",
    "    r_fixed=True,\n",
    ")"
   ]
  },
  {
   "cell_type": "code",
   "execution_count": 105,
   "id": "unsigned-headset",
   "metadata": {
    "pycharm": {
     "is_executing": true
    }
   },
   "outputs": [],
   "source": [
    "data_objects = a2g.convert_all(raw_data, disable_tqdm=True)"
   ]
  },
  {
   "cell_type": "code",
   "execution_count": 106,
   "id": "enclosed-future",
   "metadata": {
    "pycharm": {
     "is_executing": true
    }
   },
   "outputs": [
    {
     "data": {
      "text/plain": [
       "Data(atomic_numbers=[14], cell=[1, 3, 3], cell_offsets=[636, 3], edge_index=[2, 636], fixed=[14], force=[14, 3], natoms=14, pos=[14, 3], y=3.9893144106684715)"
      ]
     },
     "execution_count": 106,
     "metadata": {},
     "output_type": "execute_result"
    }
   ],
   "source": [
    "data = data_objects[0]\n",
    "data"
   ]
  },
  {
   "cell_type": "code",
   "execution_count": 107,
   "id": "ignored-offering",
   "metadata": {
    "pycharm": {
     "is_executing": true
    }
   },
   "outputs": [
    {
     "data": {
      "text/plain": [
       "tensor([29., 29., 29., 29., 29., 29., 29., 29., 29., 29., 29., 29.,  8.,  6.])"
      ]
     },
     "execution_count": 107,
     "metadata": {},
     "output_type": "execute_result"
    }
   ],
   "source": [
    "data.atomic_numbers"
   ]
  },
  {
   "cell_type": "code",
   "execution_count": 108,
   "id": "conventional-liability",
   "metadata": {
    "pycharm": {
     "is_executing": true
    }
   },
   "outputs": [
    {
     "data": {
      "text/plain": [
       "tensor([[[ 5.1053,  0.0000,  0.0000],\n",
       "         [ 0.0000,  5.1053,  0.0000],\n",
       "         [ 0.0000,  0.0000, 32.6100]]])"
      ]
     },
     "execution_count": 108,
     "metadata": {},
     "output_type": "execute_result"
    }
   ],
   "source": [
    "data.cell"
   ]
  },
  {
   "cell_type": "code",
   "execution_count": 109,
   "id": "ruled-fundamental",
   "metadata": {
    "pycharm": {
     "is_executing": true
    }
   },
   "outputs": [
    {
     "data": {
      "text/plain": [
       "tensor([[ 1,  2,  2,  ...,  4,  6,  3],\n",
       "        [ 0,  0,  0,  ..., 13, 13, 13]])"
      ]
     },
     "execution_count": 109,
     "metadata": {},
     "output_type": "execute_result"
    }
   ],
   "source": [
    "data.edge_index #neighbor idx, source idx"
   ]
  },
  {
   "cell_type": "code",
   "execution_count": 110,
   "id": "olive-complex",
   "metadata": {
    "pycharm": {
     "is_executing": true
    }
   },
   "outputs": [
    {
     "data": {
      "text/plain": [
       "tensor([45., 45., 45., 46., 49., 49., 49., 49., 50., 49., 49., 50., 26., 35.])"
      ]
     },
     "execution_count": 110,
     "metadata": {},
     "output_type": "execute_result"
    }
   ],
   "source": [
    "from torch_geometric.utils import degree\n",
    "# Degree corresponds to the number of neighbors a given node has. Note there is no more than max_neigh neighbors for\n",
    "# any given node.\n",
    "\n",
    "degree(data.edge_index[1]) "
   ]
  },
  {
   "cell_type": "code",
   "execution_count": 111,
   "id": "cooperative-warehouse",
   "metadata": {
    "pycharm": {
     "is_executing": true
    }
   },
   "outputs": [
    {
     "data": {
      "text/plain": [
       "tensor([1., 1., 1., 1., 0., 0., 0., 0., 0., 0., 0., 0., 0., 0.])"
      ]
     },
     "execution_count": 111,
     "metadata": {},
     "output_type": "execute_result"
    }
   ],
   "source": [
    "data.fixed"
   ]
  },
  {
   "cell_type": "code",
   "execution_count": 112,
   "id": "satisfactory-petroleum",
   "metadata": {
    "pycharm": {
     "is_executing": true
    }
   },
   "outputs": [
    {
     "data": {
      "text/plain": [
       "tensor([[ 2.3250e-15,  1.8807e-15,  1.1354e-01],\n",
       "        [ 9.0249e-16,  1.1050e-15,  1.1344e-01],\n",
       "        [ 5.2822e-15,  2.9421e-15,  1.1344e-01],\n",
       "        [-3.4399e-17,  6.2746e-17,  1.1294e-01],\n",
       "        [-8.5221e-03, -8.5221e-03, -1.1496e-02],\n",
       "        [ 8.5221e-03, -8.5221e-03, -1.1496e-02],\n",
       "        [-8.5221e-03,  8.5221e-03, -1.1496e-02],\n",
       "        [ 8.5221e-03,  8.5221e-03, -1.1496e-02],\n",
       "        [ 8.5001e-16, -8.4308e-16, -1.0431e-01],\n",
       "        [-2.0583e-15, -4.5797e-16, -6.6610e-02],\n",
       "        [-5.5511e-17, -5.8287e-16, -6.6610e-02],\n",
       "        [-1.7780e-15, -2.5274e-15, -3.3250e-01],\n",
       "        [-4.2690e-19, -8.6059e-19, -3.4247e-01],\n",
       "        [-4.3368e-17, -2.4286e-17,  5.0512e-01]])"
      ]
     },
     "execution_count": 112,
     "metadata": {},
     "output_type": "execute_result"
    }
   ],
   "source": [
    "data.force"
   ]
  },
  {
   "cell_type": "code",
   "execution_count": 113,
   "id": "broad-rouge",
   "metadata": {
    "pycharm": {
     "is_executing": true
    }
   },
   "outputs": [
    {
     "data": {
      "text/plain": [
       "tensor([[ 0.0000,  0.0000, 13.0000],\n",
       "        [ 2.5527,  0.0000, 13.0000],\n",
       "        [ 0.0000,  2.5527, 13.0000],\n",
       "        [ 2.5527,  2.5527, 13.0000],\n",
       "        [ 1.2763,  1.2763, 14.8050],\n",
       "        [ 3.8290,  1.2763, 14.8050],\n",
       "        [ 1.2763,  3.8290, 14.8050],\n",
       "        [ 3.8290,  3.8290, 14.8050],\n",
       "        [ 0.0000,  0.0000, 16.6100],\n",
       "        [ 2.5527,  0.0000, 16.6100],\n",
       "        [ 0.0000,  2.5527, 16.6100],\n",
       "        [ 2.5527,  2.5527, 16.6100],\n",
       "        [ 2.5527,  2.5527, 19.6100],\n",
       "        [ 2.5527,  2.5527, 18.4597]])"
      ]
     },
     "execution_count": 113,
     "metadata": {},
     "output_type": "execute_result"
    }
   ],
   "source": [
    "data.pos"
   ]
  },
  {
   "cell_type": "code",
   "execution_count": 114,
   "id": "coupled-orchestra",
   "metadata": {
    "pycharm": {
     "is_executing": true
    }
   },
   "outputs": [
    {
     "data": {
      "text/plain": [
       "3.9893144106684715"
      ]
     },
     "execution_count": 114,
     "metadata": {},
     "output_type": "execute_result"
    }
   ],
   "source": [
    "data.y"
   ]
  },
  {
   "cell_type": "markdown",
   "id": "decreased-treat",
   "metadata": {},
   "source": [
    "### Adding additional info to your Data objects\n",
    "\n",
    "In addition to the above information, the OCP repo requires several other pieces of information for your data to work\n",
    "with the provided trainers:\n",
    "\n",
    "- sid (int): A unique identifier for a particular system. Does not affect your model performance, used for prediction saving \n",
    "- fid (int) (S2EF only): If training for the S2EF task, your data must also contain a unique frame identifier for atoms objects coming from the same system.\n",
    "- tags (tensor): Tag information - 0 for adsorbate, 1 for surface, 2 for subsurface. Optional, can be used for training.\n",
    "\n",
    "\n",
    "Other information may be added her as well if you choose to incorporate other information in your models/frameworks"
   ]
  },
  {
   "cell_type": "code",
   "execution_count": 115,
   "id": "simple-champion",
   "metadata": {
    "pycharm": {
     "is_executing": true
    }
   },
   "outputs": [],
   "source": [
    "data_objects = []\n",
    "for idx, system in enumerate(raw_data):\n",
    "    data = a2g.convert(system)\n",
    "    data.fid = idx\n",
    "    data.sid = 0 # All data points come from the same system, arbitrarly define this as 0\n",
    "    data_objects.append(data)"
   ]
  },
  {
   "cell_type": "code",
   "execution_count": 116,
   "id": "subjective-present",
   "metadata": {
    "pycharm": {
     "is_executing": true,
     "name": "#%%\n"
    }
   },
   "outputs": [
    {
     "data": {
      "text/plain": [
       "Data(atomic_numbers=[14], cell=[1, 3, 3], cell_offsets=[635, 3], edge_index=[2, 635], fid=100, fixed=[14], force=[14, 3], natoms=14, pos=[14, 3], sid=0, y=3.968355893395698)"
      ]
     },
     "execution_count": 116,
     "metadata": {},
     "output_type": "execute_result"
    }
   ],
   "source": [
    "data = data_objects[100]\n",
    "data"
   ]
  },
  {
   "cell_type": "code",
   "execution_count": 117,
   "id": "thick-geology",
   "metadata": {
    "pycharm": {
     "is_executing": true,
     "name": "#%%\n"
    }
   },
   "outputs": [
    {
     "data": {
      "text/plain": [
       "0"
      ]
     },
     "execution_count": 117,
     "metadata": {},
     "output_type": "execute_result"
    }
   ],
   "source": [
    "data.sid"
   ]
  },
  {
   "cell_type": "code",
   "execution_count": 118,
   "id": "elegant-amendment",
   "metadata": {
    "pycharm": {
     "is_executing": true,
     "name": "#%%\n"
    }
   },
   "outputs": [
    {
     "data": {
      "text/plain": [
       "100"
      ]
     },
     "execution_count": 118,
     "metadata": {},
     "output_type": "execute_result"
    }
   ],
   "source": [
    "data.fid"
   ]
  },
  {
   "cell_type": "code",
   "execution_count": 182,
   "id": "civil-better",
   "metadata": {},
   "outputs": [],
   "source": [
    "# Helper function to convert from PyTorch Geometric input to GROVER input:\n",
    "def convert_input(data):\n",
    "    \"\"\"\n",
    "        :param data: data as PyTorch geometric object\n",
    "        :param f_atoms: the atom features, num_atoms * atom_dim\n",
    "        :param f_bonds: the bond features, num_bonds * bond_dim\n",
    "        :param a2b: mapping from atom index to incoming bond indices. \n",
    "        :param a2a: mapping from atom index to its neighbors. num_atoms * max_num_bonds\n",
    "        :param b2a: mapping from bond index to the index of the atom the bond is coming from.\n",
    "        :param b2revb: mapping from bond index to the index of the reverse bond.\n",
    "        :return: batch = (f_atoms, f_bonds, a2b, a2a, b2a, b2revb)\n",
    "    \"\"\"\n",
    "    # Per atom features: (atomic_number, pos_x, pos_y, pos_z)\n",
    "    f_atoms = torch.stack((data.atomic_numbers.long(), data.pos[:,0], data.pos[:,1], data.pos[:,2]), 1)\n",
    "    # Per edge features (calculated by atomic distances in model forward pass)\n",
    "    f_bonds = data.edge_attr\n",
    "\n",
    "    a2a = [[] for j in range(data.natoms)] # List of lists - Dynamically append neighbors for a given atom\n",
    "    a2b = [[] for j in range(data.natoms)] # List of lists - Dynamically append edges for a given atom\n",
    "    b2a = torch.zeros((data.edge_index.shape[1],))  # (num_edges, ) - One originating atom per edge\n",
    "    b2revb = torch.zeros((data.edge_index.shape[1],))  # (num_edges, ) - One reverse bond per bond\n",
    "    rev_edges = {} # Dict of lists for each (from_atom, to_atom) pair, saving edge numbers \n",
    "\n",
    "    degrees = degree(data.edge_index[0])\n",
    "    print(\"degrees of each node in the graph: \", degrees)\n",
    "\n",
    "    for i in range(data.edge_index.shape[1]):\n",
    "        from_atom = int(data.edge_index[0][i])\n",
    "        to_atom = int(data.edge_index[1][i])\n",
    "        if to_atom not in a2a[from_atom]:\n",
    "            a2a[from_atom].append(to_atom) # Mark b as neighbor of a\n",
    "        if i not in a2b[from_atom]:\n",
    "            a2b[from_atom].append(i) # Mark bond i as outgoing bond from atom a\n",
    "        b2a[i] = from_atom # Mark a as atom where bond i is originating\n",
    "        key = frozenset({to_atom, from_atom})\n",
    "        if(key not in rev_edges): # If the edge from these two atoms has not been seen yet\n",
    "            rev_edges[key] = [] # Declare it as a list (so we can keep track of the edge numbers)\n",
    "        rev_edges[key].append(i) # Append the edge number to the list\n",
    "    \n",
    "    # Iterate through and set b2revb\n",
    "    for atoms, edges in rev_edges.items():\n",
    "        b2revb[edges[0]] = edges[1]\n",
    "        b2revb[edges[1]] = edges[0]\n",
    "\n",
    "    print(\"Most neighbors any node (pad): \", len(max(a2a, key=len)))\n",
    "    # Convert list of lists for a2a and a2b into tensor: (num_nodes, max_edges)\n",
    "    # Option 1: Trims length to max number of edges seen in the data (<= 50)\n",
    "    a2a_pad = len(max(a2a, key=len))\n",
    "    a2b_pad = len(max(a2b, key=len))\n",
    "\n",
    "    # Option 2: Sets length to max number of possible edges (should be 50 but in test ipynb it's 55)\n",
    "    # a2a_pad = 50\n",
    "    # a2b_pad = 50\n",
    "\n",
    "    # -1 is not a valid atom or edge index so we pad with this\n",
    "    a2a = torch.tensor([i + [-1] * (a2a_pad - len(i)) for i in a2a])\n",
    "    a2b = torch.tensor([i + [-1] * (a2b_pad - len(i)) for i in a2b])\n",
    "\n",
    "    batch = (f_atoms, f_bonds, a2b, a2a, b2a, b2revb)\n",
    "    return batch"
   ]
  },
  {
   "cell_type": "code",
   "execution_count": 183,
   "id": "absolute-suggestion",
   "metadata": {},
   "outputs": [
    {
     "name": "stdout",
     "output_type": "stream",
     "text": [
      "Atomic numbers shape:  torch.Size([14])\n",
      "Position shape:  torch.Size([14, 3])\n",
      "2nd pos vector:  tensor([[ 0.,  0., 13.]])\n"
     ]
    }
   ],
   "source": [
    "print(\"Atomic numbers shape: \", data.atomic_numbers.shape)\n",
    "print(\"Position shape: \", data.pos.shape)\n",
    "print(\"2nd pos vector: \", data.pos[:1])\n",
    "\n",
    "# Manually set edge attributes randomly\n",
    "data.edge_attr = torch.randn((data.edge_index.shape[1]))"
   ]
  },
  {
   "cell_type": "code",
   "execution_count": 184,
   "id": "worldwide-customs",
   "metadata": {
    "pycharm": {
     "name": "#%%\n"
    }
   },
   "outputs": [
    {
     "name": "stdout",
     "output_type": "stream",
     "text": [
      "Shape of edge attributes:  torch.Size([635])\n"
     ]
    }
   ],
   "source": [
    "print(\"Shape of edge attributes: \", data.edge_attr.shape)"
   ]
  },
  {
   "cell_type": "code",
   "execution_count": 187,
   "id": "simplified-replacement",
   "metadata": {
    "pycharm": {
     "name": "#%%\n"
    }
   },
   "outputs": [
    {
     "name": "stdout",
     "output_type": "stream",
     "text": [
      "number of atoms:  14\n",
      "number of edges:  635\n",
      "edge index:  tensor([[ 5,  7,  6,  ...,  4,  6,  7],\n",
      "        [ 0,  0,  0,  ..., 13, 13, 13]])\n",
      "degrees of each node in the graph:  tensor([45., 45., 45., 46., 48., 49., 49., 50., 53., 46., 47., 55., 22., 35.])\n",
      "Most neighbors any node (pad):  14\n",
      "\n",
      "Shapes of parameters\n",
      "f_atoms:  torch.Size([14, 4])\n",
      "f_bonds:  torch.Size([635])\n",
      "a2b:  torch.Size([14, 55])\n",
      "a2a:  torch.Size([14, 14])\n",
      "b2a:  torch.Size([635])\n",
      "b2revb:  torch.Size([635])\n",
      "\n",
      "Example data\n",
      "Atom features index 0:  tensor([29.,  0.,  0., 13.])\n",
      "Edge features index 0:  tensor(1.0326)\n",
      "a2b atom 0:  tensor([ 29,  30,  31,  32,  50,  51,  82,  83,  88,  89,  94,  95, 127, 131,\n",
      "        132, 134, 144, 145, 146, 147, 182, 204, 205, 225, 231, 253, 254, 274,\n",
      "        280, 302, 303, 323, 329, 351, 352, 372, 385, 443, 445, 493, 495, 551,\n",
      "        552, 553, 554,  -1,  -1,  -1,  -1,  -1,  -1,  -1,  -1,  -1,  -1])\n",
      "a2a atom 0:  tensor([ 0,  1,  2,  3,  4,  5,  6,  7,  8,  9, 10, 11, -1, -1])\n",
      "b2a edge 0:  tensor(5.)\n",
      "b2revb edge 0:  tensor(20.)\n"
     ]
    }
   ],
   "source": [
    "print(\"number of atoms: \", data.natoms)\n",
    "print(\"number of edges: \", len(data.edge_index[0]))\n",
    "print(\"edge index: \", data.edge_index)\n",
    "\n",
    "batch = convert_input(data)\n",
    "f_atoms, f_bonds, a2b, a2a, b2a, b2revb = batch\n",
    "print(\"\\nShapes of parameters\")\n",
    "print(\"f_atoms: \", f_atoms.shape)\n",
    "print(\"f_bonds: \", f_bonds.shape)\n",
    "print(\"a2b: \", a2b.shape)\n",
    "print(\"a2a: \", a2a.shape)\n",
    "print(\"b2a: \", b2a.shape)\n",
    "print(\"b2revb: \", b2revb.shape)\n",
    "\n",
    "print(\"\\nExample data\")\n",
    "print(\"Atom features index 0: \", f_atoms[0])\n",
    "print(\"Edge features index 0: \", f_bonds[0])\n",
    "print(\"a2b atom 0: \", a2b[0])\n",
    "print(\"a2a atom 0: \", a2a[0])\n",
    "print(\"b2a edge 0: \", b2a[0])\n",
    "print(\"b2revb edge 0: \", b2revb[0])"
   ]
  },
  {
   "cell_type": "code",
   "execution_count": 188,
   "id": "electrical-watch",
   "metadata": {
    "pycharm": {
     "name": "#%%\n"
    }
   },
   "outputs": [],
   "source": [
    "# Generate example data (3 nodes)\n",
    "edge_index = torch.tensor([[0, 1, 1, 2],\n",
    "                           [1, 0, 2, 1]], dtype=torch.long)\n",
    "x = torch.tensor([[-1], [0], [1]], dtype=torch.float)\n",
    "\n",
    "atomic_numbers = data.atomic_numbers[11:14]\n",
    "\n",
    "edge_attr = data.edge_attr[:3]\n",
    "\n",
    "pos = data.pos[:3]\n",
    "\n",
    "data2 = Data(x=x, edge_index=edge_index, atomic_numbers=atomic_numbers, edge_attr=edge_attr, natoms=3, pos=pos)"
   ]
  },
  {
   "cell_type": "code",
   "execution_count": 135,
   "id": "structured-failure",
   "metadata": {
    "pycharm": {
     "name": "#%%\n"
    }
   },
   "outputs": [
    {
     "data": {
      "text/plain": [
       "Data(atomic_numbers=[3], edge_attr=[3], edge_index=[2, 4], natoms=3, pos=[3, 3], x=[3, 1])"
      ]
     },
     "execution_count": 135,
     "metadata": {},
     "output_type": "execute_result"
    }
   ],
   "source": [
    "data2"
   ]
  },
  {
   "cell_type": "code",
   "execution_count": 136,
   "id": "understood-copper",
   "metadata": {
    "pycharm": {
     "name": "#%%\n"
    }
   },
   "outputs": [
    {
     "ename": "RuntimeError",
     "evalue": "Index tensor must have the same number of dimensions as self tensor",
     "output_type": "error",
     "traceback": [
      "\u001B[0;31m---------------------------------------------------------------------------\u001B[0m",
      "\u001B[0;31mRuntimeError\u001B[0m                              Traceback (most recent call last)",
      "\u001B[0;32m<ipython-input-136-fb8af6c4c1ac>\u001B[0m in \u001B[0;36m<module>\u001B[0;34m\u001B[0m\n\u001B[0;32m----> 1\u001B[0;31m \u001B[0mbatch\u001B[0m \u001B[0;34m=\u001B[0m \u001B[0mconvert_input\u001B[0m\u001B[0;34m(\u001B[0m\u001B[0mdata2\u001B[0m\u001B[0;34m)\u001B[0m\u001B[0;34m\u001B[0m\u001B[0;34m\u001B[0m\u001B[0m\n\u001B[0m\u001B[1;32m      2\u001B[0m \u001B[0mf_atoms\u001B[0m\u001B[0;34m,\u001B[0m \u001B[0mf_bonds\u001B[0m\u001B[0;34m,\u001B[0m \u001B[0ma2b\u001B[0m\u001B[0;34m,\u001B[0m \u001B[0ma2a\u001B[0m\u001B[0;34m,\u001B[0m \u001B[0mb2a\u001B[0m\u001B[0;34m,\u001B[0m \u001B[0mb2revb\u001B[0m \u001B[0;34m=\u001B[0m \u001B[0mbatch\u001B[0m\u001B[0;34m\u001B[0m\u001B[0;34m\u001B[0m\u001B[0m\n\u001B[1;32m      3\u001B[0m \u001B[0mprint\u001B[0m\u001B[0;34m(\u001B[0m\u001B[0;34m\"Shapes of parameters\"\u001B[0m\u001B[0;34m)\u001B[0m\u001B[0;34m\u001B[0m\u001B[0;34m\u001B[0m\u001B[0m\n\u001B[1;32m      4\u001B[0m \u001B[0mprint\u001B[0m\u001B[0;34m(\u001B[0m\u001B[0;34m\"f_atoms: \"\u001B[0m\u001B[0;34m,\u001B[0m \u001B[0mf_atoms\u001B[0m\u001B[0;34m.\u001B[0m\u001B[0mshape\u001B[0m\u001B[0;34m)\u001B[0m\u001B[0;34m\u001B[0m\u001B[0;34m\u001B[0m\u001B[0m\n\u001B[1;32m      5\u001B[0m \u001B[0mprint\u001B[0m\u001B[0;34m(\u001B[0m\u001B[0;34m\"f_bonds: \"\u001B[0m\u001B[0;34m,\u001B[0m \u001B[0mf_bonds\u001B[0m\u001B[0;34m.\u001B[0m\u001B[0mshape\u001B[0m\u001B[0;34m)\u001B[0m\u001B[0;34m\u001B[0m\u001B[0;34m\u001B[0m\u001B[0m\n",
      "\u001B[0;32m<ipython-input-130-86f7a3d034a6>\u001B[0m in \u001B[0;36mconvert_input\u001B[0;34m(data)\u001B[0m\n\u001B[1;32m     22\u001B[0m     \u001B[0mrev_edges\u001B[0m \u001B[0;34m=\u001B[0m \u001B[0;34m{\u001B[0m\u001B[0;34m}\u001B[0m \u001B[0;31m# Dict of lists for each (from_atom, to_atom) pair, saving edge numbers\u001B[0m\u001B[0;34m\u001B[0m\u001B[0;34m\u001B[0m\u001B[0m\n\u001B[1;32m     23\u001B[0m \u001B[0;34m\u001B[0m\u001B[0m\n\u001B[0;32m---> 24\u001B[0;31m     \u001B[0mdegrees\u001B[0m \u001B[0;34m=\u001B[0m \u001B[0mdegree\u001B[0m\u001B[0;34m(\u001B[0m\u001B[0mdata\u001B[0m\u001B[0;34m.\u001B[0m\u001B[0medge_index\u001B[0m\u001B[0;34m,\u001B[0m \u001B[0mdata\u001B[0m\u001B[0;34m.\u001B[0m\u001B[0mnatoms\u001B[0m\u001B[0;34m)\u001B[0m\u001B[0;34m\u001B[0m\u001B[0;34m\u001B[0m\u001B[0m\n\u001B[0m\u001B[1;32m     25\u001B[0m     \u001B[0mprint\u001B[0m\u001B[0;34m(\u001B[0m\u001B[0mdegrees\u001B[0m\u001B[0;34m)\u001B[0m\u001B[0;34m\u001B[0m\u001B[0;34m\u001B[0m\u001B[0m\n\u001B[1;32m     26\u001B[0m \u001B[0;34m\u001B[0m\u001B[0m\n",
      "\u001B[0;32m~/anaconda3/envs/ocp-models/lib/python3.6/site-packages/torch_geometric/utils/degree.py\u001B[0m in \u001B[0;36mdegree\u001B[0;34m(index, num_nodes, dtype)\u001B[0m\n\u001B[1;32m     23\u001B[0m     \u001B[0mout\u001B[0m \u001B[0;34m=\u001B[0m \u001B[0mtorch\u001B[0m\u001B[0;34m.\u001B[0m\u001B[0mzeros\u001B[0m\u001B[0;34m(\u001B[0m\u001B[0;34m(\u001B[0m\u001B[0mN\u001B[0m\u001B[0;34m,\u001B[0m \u001B[0;34m)\u001B[0m\u001B[0;34m,\u001B[0m \u001B[0mdtype\u001B[0m\u001B[0;34m=\u001B[0m\u001B[0mdtype\u001B[0m\u001B[0;34m,\u001B[0m \u001B[0mdevice\u001B[0m\u001B[0;34m=\u001B[0m\u001B[0mindex\u001B[0m\u001B[0;34m.\u001B[0m\u001B[0mdevice\u001B[0m\u001B[0;34m)\u001B[0m\u001B[0;34m\u001B[0m\u001B[0;34m\u001B[0m\u001B[0m\n\u001B[1;32m     24\u001B[0m     \u001B[0mone\u001B[0m \u001B[0;34m=\u001B[0m \u001B[0mtorch\u001B[0m\u001B[0;34m.\u001B[0m\u001B[0mones\u001B[0m\u001B[0;34m(\u001B[0m\u001B[0;34m(\u001B[0m\u001B[0mindex\u001B[0m\u001B[0;34m.\u001B[0m\u001B[0msize\u001B[0m\u001B[0;34m(\u001B[0m\u001B[0;36m0\u001B[0m\u001B[0;34m)\u001B[0m\u001B[0;34m,\u001B[0m \u001B[0;34m)\u001B[0m\u001B[0;34m,\u001B[0m \u001B[0mdtype\u001B[0m\u001B[0;34m=\u001B[0m\u001B[0mout\u001B[0m\u001B[0;34m.\u001B[0m\u001B[0mdtype\u001B[0m\u001B[0;34m,\u001B[0m \u001B[0mdevice\u001B[0m\u001B[0;34m=\u001B[0m\u001B[0mout\u001B[0m\u001B[0;34m.\u001B[0m\u001B[0mdevice\u001B[0m\u001B[0;34m)\u001B[0m\u001B[0;34m\u001B[0m\u001B[0;34m\u001B[0m\u001B[0m\n\u001B[0;32m---> 25\u001B[0;31m     \u001B[0;32mreturn\u001B[0m \u001B[0mout\u001B[0m\u001B[0;34m.\u001B[0m\u001B[0mscatter_add_\u001B[0m\u001B[0;34m(\u001B[0m\u001B[0;36m0\u001B[0m\u001B[0;34m,\u001B[0m \u001B[0mindex\u001B[0m\u001B[0;34m,\u001B[0m \u001B[0mone\u001B[0m\u001B[0;34m)\u001B[0m\u001B[0;34m\u001B[0m\u001B[0;34m\u001B[0m\u001B[0m\n\u001B[0m",
      "\u001B[0;31mRuntimeError\u001B[0m: Index tensor must have the same number of dimensions as self tensor"
     ]
    }
   ],
   "source": [
    "batch = convert_input(data2)\n",
    "f_atoms, f_bonds, a2b, a2a, b2a, b2revb = batch\n",
    "print(\"Shapes of parameters\")\n",
    "print(\"f_atoms: \", f_atoms.shape)\n",
    "print(\"f_bonds: \", f_bonds.shape)\n",
    "print(\"a2b: \", a2b.shape)\n",
    "print(\"a2a: \", a2a.shape)\n",
    "print(\"b2a: \", b2a.shape)\n",
    "print(\"b2revb: \", b2revb.shape)\n",
    "\n",
    "print(\"\\nExample data\")\n",
    "print(\"Atom features: \", f_atoms)\n",
    "print(\"Edge features: \", f_bonds)\n",
    "print(\"a2b: \", a2b)\n",
    "print(\"a2a: \", a2a)\n",
    "print(\"b2a: \", b2a)\n",
    "print(\"b2revb: \", b2revb)\n"
   ]
  },
  {
   "cell_type": "markdown",
   "id": "derived-effort",
   "metadata": {
    "pycharm": {
     "name": "#%% md\n"
    }
   },
   "source": [
    "Resources:\n",
    "\n",
    "- https://github.com/Open-Catalyst-Project/ocp/blob/6604e7130ea41fabff93c229af2486433093e3b4/ocpmodels/preprocessing/atoms_to_graphs.py\n",
    "- https://github.com/Open-Catalyst-Project/ocp/blob/master/scripts/preprocess_ef.py"
   ]
  },
  {
   "cell_type": "code",
   "execution_count": 142,
   "id": "basic-tumor",
   "metadata": {
    "pycharm": {
     "name": "#%%\n"
    }
   },
   "outputs": [
    {
     "name": "stdout",
     "output_type": "stream",
     "text": [
      "test\n"
     ]
    }
   ],
   "source": [
    "print(\"test\")"
   ]
  },
  {
   "cell_type": "code",
   "execution_count": null,
   "id": "tamil-fancy",
   "metadata": {
    "pycharm": {
     "name": "#%%\n"
    }
   },
   "outputs": [],
   "source": []
  }
 ],
 "metadata": {
  "kernelspec": {
   "display_name": "Python 3",
   "language": "python",
   "name": "python3"
  },
  "language_info": {
   "codemirror_mode": {
    "name": "ipython",
    "version": 3
   },
   "file_extension": ".py",
   "mimetype": "text/x-python",
   "name": "python",
   "nbconvert_exporter": "python",
   "pygments_lexer": "ipython3",
   "version": "3.6.13"
  }
 },
 "nbformat": 4,
 "nbformat_minor": 5
}