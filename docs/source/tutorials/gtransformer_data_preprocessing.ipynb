{
 "cells": [
  {
   "cell_type": "markdown",
   "id": "natural-debut",
   "metadata": {},
   "source": [
    "### OCP Data Preprocessing Tutorial\n",
    "\n",
    "\n",
    "This notebook provides an overview of converting ASE Atoms objects to PyTorch Geometric Data objects. To better understand the raw data contained within OC20, check out the following tutorial first: https://github.com/Open-Catalyst-Project/ocp/blob/master/docs/source/tutorials/data_playground.ipynb"
   ]
  },
  {
   "cell_type": "code",
   "execution_count": 28,
   "id": "metric-study",
   "metadata": {},
   "outputs": [],
   "source": [
    "from ocpmodels.preprocessing import AtomsToGraphs\n",
    "import ase.io\n",
    "from ase.build import bulk\n",
    "from ase.build import fcc100, add_adsorbate, molecule\n",
    "from ase.constraints import FixAtoms\n",
    "from ase.calculators.emt import EMT\n",
    "from ase.optimize import BFGS\n",
    "import torch\n",
    "from torch_geometric.data import Data"
   ]
  },
  {
   "cell_type": "markdown",
   "id": "august-meaning",
   "metadata": {},
   "source": [
    "### Generate toy dataset: Relaxation of CO on Cu"
   ]
  },
  {
   "cell_type": "code",
   "execution_count": 29,
   "id": "american-swiss",
   "metadata": {
    "pycharm": {
     "is_executing": true
    }
   },
   "outputs": [
    {
     "data": {
      "text/plain": [
       "False"
      ]
     },
     "execution_count": 29,
     "metadata": {},
     "output_type": "execute_result"
    }
   ],
   "source": [
    "adslab = fcc100(\"Cu\", size=(2, 2, 3))\n",
    "ads = molecule(\"CO\")\n",
    "add_adsorbate(adslab, ads, 3, offset=(1, 1))\n",
    "cons = FixAtoms(indices=[atom.index for atom in adslab if (atom.tag == 3)])\n",
    "adslab.set_constraint(cons)\n",
    "adslab.center(vacuum=13.0, axis=2)\n",
    "adslab.set_pbc(True)\n",
    "adslab.set_calculator(EMT())\n",
    "dyn = BFGS(adslab, trajectory=\"CuCO_adslab.traj\", logfile=None)\n",
    "dyn.run(fmax=0, steps=1000)"
   ]
  },
  {
   "cell_type": "code",
   "execution_count": 30,
   "id": "guilty-stuff",
   "metadata": {
    "pycharm": {
     "is_executing": true
    }
   },
   "outputs": [
    {
     "name": "stdout",
     "output_type": "stream",
     "text": [
      "1001\n"
     ]
    }
   ],
   "source": [
    "raw_data = ase.io.read(\"CuCO_adslab.traj\", \":\")\n",
    "print(len(raw_data))"
   ]
  },
  {
   "cell_type": "markdown",
   "id": "competent-joseph",
   "metadata": {},
   "source": [
    "### Convert Atoms object to Data object\n",
    "\n",
    "The AtomsToGraphs class takes in several arguments to control how Data objects created:\n",
    "\n",
    "- max_neigh (int):   Maximum number of neighbors a given atom is allowed to have, discarding the furthest\n",
    "- radius (float):      Cutoff radius to compute nearest neighbors around\n",
    "- r_energy (bool):    Write energy to Data object\n",
    "- r_forces (bool):    Write forces to Data object\n",
    "- r_distances (bool): Write distances between neighbors to Data object\n",
    "- r_edges (bool):     Write neigbhor edge indices to Data object\n",
    "- r_fixed (bool):     Write indices of fixed atoms to Data object"
   ]
  },
  {
   "cell_type": "code",
   "execution_count": 31,
   "id": "realistic-bunch",
   "metadata": {
    "pycharm": {
     "is_executing": true
    }
   },
   "outputs": [],
   "source": [
    "a2g = AtomsToGraphs(\n",
    "    max_neigh=50,\n",
    "    radius=6,\n",
    "    r_energy=True,\n",
    "    r_forces=True,\n",
    "    r_distances=False,\n",
    "    r_edges=True,\n",
    "    r_fixed=True,\n",
    ")"
   ]
  },
  {
   "cell_type": "code",
   "execution_count": 32,
   "id": "unsigned-headset",
   "metadata": {
    "pycharm": {
     "is_executing": true
    }
   },
   "outputs": [],
   "source": [
    "data_objects = a2g.convert_all(raw_data, disable_tqdm=True)"
   ]
  },
  {
   "cell_type": "code",
   "execution_count": 33,
   "id": "enclosed-future",
   "metadata": {
    "pycharm": {
     "is_executing": true
    }
   },
   "outputs": [
    {
     "data": {
      "text/plain": [
       "Data(atomic_numbers=[14], cell=[1, 3, 3], cell_offsets=[636, 3], edge_index=[2, 636], fixed=[14], force=[14, 3], natoms=14, pos=[14, 3], y=3.9893144106684715)"
      ]
     },
     "execution_count": 33,
     "metadata": {},
     "output_type": "execute_result"
    }
   ],
   "source": [
    "data = data_objects[0]\n",
    "data"
   ]
  },
  {
   "cell_type": "code",
   "execution_count": 34,
   "id": "ignored-offering",
   "metadata": {
    "pycharm": {
     "is_executing": true
    }
   },
   "outputs": [
    {
     "data": {
      "text/plain": [
       "tensor([29., 29., 29., 29., 29., 29., 29., 29., 29., 29., 29., 29.,  8.,  6.])"
      ]
     },
     "execution_count": 34,
     "metadata": {},
     "output_type": "execute_result"
    }
   ],
   "source": [
    "data.atomic_numbers"
   ]
  },
  {
   "cell_type": "code",
   "execution_count": 35,
   "id": "conventional-liability",
   "metadata": {
    "pycharm": {
     "is_executing": true
    }
   },
   "outputs": [
    {
     "data": {
      "text/plain": [
       "tensor([[[ 5.1053,  0.0000,  0.0000],\n",
       "         [ 0.0000,  5.1053,  0.0000],\n",
       "         [ 0.0000,  0.0000, 32.6100]]])"
      ]
     },
     "execution_count": 35,
     "metadata": {},
     "output_type": "execute_result"
    }
   ],
   "source": [
    "data.cell"
   ]
  },
  {
   "cell_type": "code",
   "execution_count": 36,
   "id": "ruled-fundamental",
   "metadata": {
    "pycharm": {
     "is_executing": true
    }
   },
   "outputs": [
    {
     "data": {
      "text/plain": [
       "tensor([[ 1,  2,  2,  ...,  4,  6,  3],\n",
       "        [ 0,  0,  0,  ..., 13, 13, 13]])"
      ]
     },
     "execution_count": 36,
     "metadata": {},
     "output_type": "execute_result"
    }
   ],
   "source": [
    "data.edge_index #neighbor idx, source idx"
   ]
  },
  {
   "cell_type": "code",
   "execution_count": 37,
   "id": "cooperative-warehouse",
   "metadata": {
    "pycharm": {
     "is_executing": true
    }
   },
   "outputs": [
    {
     "data": {
      "text/plain": [
       "tensor([1., 1., 1., 1., 0., 0., 0., 0., 0., 0., 0., 0., 0., 0.])"
      ]
     },
     "execution_count": 37,
     "metadata": {},
     "output_type": "execute_result"
    }
   ],
   "source": [
    "data.fixed"
   ]
  },
  {
   "cell_type": "code",
   "execution_count": 38,
   "id": "satisfactory-petroleum",
   "metadata": {
    "pycharm": {
     "is_executing": true
    }
   },
   "outputs": [
    {
     "data": {
      "text/plain": [
       "tensor([[ 2.3250e-15,  1.8807e-15,  1.1354e-01],\n",
       "        [ 9.0249e-16,  1.1050e-15,  1.1344e-01],\n",
       "        [ 5.2822e-15,  2.9421e-15,  1.1344e-01],\n",
       "        [-3.4399e-17,  6.2746e-17,  1.1294e-01],\n",
       "        [-8.5221e-03, -8.5221e-03, -1.1496e-02],\n",
       "        [ 8.5221e-03, -8.5221e-03, -1.1496e-02],\n",
       "        [-8.5221e-03,  8.5221e-03, -1.1496e-02],\n",
       "        [ 8.5221e-03,  8.5221e-03, -1.1496e-02],\n",
       "        [ 8.5001e-16, -8.4308e-16, -1.0431e-01],\n",
       "        [-2.0583e-15, -4.5797e-16, -6.6610e-02],\n",
       "        [-5.5511e-17, -5.8287e-16, -6.6610e-02],\n",
       "        [-1.7780e-15, -2.5274e-15, -3.3250e-01],\n",
       "        [-4.2690e-19, -8.6059e-19, -3.4247e-01],\n",
       "        [-4.3368e-17, -2.4286e-17,  5.0512e-01]])"
      ]
     },
     "execution_count": 38,
     "metadata": {},
     "output_type": "execute_result"
    }
   ],
   "source": [
    "data.force"
   ]
  },
  {
   "cell_type": "code",
   "execution_count": 39,
   "id": "broad-rouge",
   "metadata": {
    "pycharm": {
     "is_executing": true
    }
   },
   "outputs": [
    {
     "data": {
      "text/plain": [
       "tensor([[ 0.0000,  0.0000, 13.0000],\n",
       "        [ 2.5527,  0.0000, 13.0000],\n",
       "        [ 0.0000,  2.5527, 13.0000],\n",
       "        [ 2.5527,  2.5527, 13.0000],\n",
       "        [ 1.2763,  1.2763, 14.8050],\n",
       "        [ 3.8290,  1.2763, 14.8050],\n",
       "        [ 1.2763,  3.8290, 14.8050],\n",
       "        [ 3.8290,  3.8290, 14.8050],\n",
       "        [ 0.0000,  0.0000, 16.6100],\n",
       "        [ 2.5527,  0.0000, 16.6100],\n",
       "        [ 0.0000,  2.5527, 16.6100],\n",
       "        [ 2.5527,  2.5527, 16.6100],\n",
       "        [ 2.5527,  2.5527, 19.6100],\n",
       "        [ 2.5527,  2.5527, 18.4597]])"
      ]
     },
     "execution_count": 39,
     "metadata": {},
     "output_type": "execute_result"
    }
   ],
   "source": [
    "data.pos"
   ]
  },
  {
   "cell_type": "code",
   "execution_count": 40,
   "id": "coupled-orchestra",
   "metadata": {
    "pycharm": {
     "is_executing": true
    }
   },
   "outputs": [
    {
     "data": {
      "text/plain": [
       "3.9893144106684715"
      ]
     },
     "execution_count": 40,
     "metadata": {},
     "output_type": "execute_result"
    }
   ],
   "source": [
    "data.y"
   ]
  },
  {
   "cell_type": "markdown",
   "id": "decreased-treat",
   "metadata": {},
   "source": [
    "### Adding additional info to your Data objects\n",
    "\n",
    "In addition to the above information, the OCP repo requires several other pieces of information for your data to work\n",
    "with the provided trainers:\n",
    "\n",
    "- sid (int): A unique identifier for a particular system. Does not affect your model performance, used for prediction saving \n",
    "- fid (int) (S2EF only): If training for the S2EF task, your data must also contain a unique frame identifier for atoms objects coming from the same system.\n",
    "- tags (tensor): Tag information - 0 for adsorbate, 1 for surface, 2 for subsurface. Optional, can be used for training.\n",
    "\n",
    "\n",
    "Other information may be added her as well if you choose to incorporate other information in your models/frameworks"
   ]
  },
  {
   "cell_type": "code",
   "execution_count": 41,
   "id": "simple-champion",
   "metadata": {
    "pycharm": {
     "is_executing": true
    }
   },
   "outputs": [],
   "source": [
    "data_objects = []\n",
    "for idx, system in enumerate(raw_data):\n",
    "    data = a2g.convert(system)\n",
    "    data.fid = idx\n",
    "    data.sid = 0 # All data points come from the same system, arbitrarly define this as 0\n",
    "    data_objects.append(data)"
   ]
  },
  {
   "cell_type": "code",
   "execution_count": 42,
   "id": "subjective-present",
   "metadata": {
    "pycharm": {
     "is_executing": true,
     "name": "#%%\n"
    }
   },
   "outputs": [
    {
     "data": {
      "text/plain": [
       "Data(atomic_numbers=[14], cell=[1, 3, 3], cell_offsets=[635, 3], edge_index=[2, 635], fid=100, fixed=[14], force=[14, 3], natoms=14, pos=[14, 3], sid=0, y=3.9683558933957697)"
      ]
     },
     "execution_count": 42,
     "metadata": {},
     "output_type": "execute_result"
    }
   ],
   "source": [
    "data = data_objects[100]\n",
    "data"
   ]
  },
  {
   "cell_type": "code",
   "execution_count": 43,
   "id": "thick-geology",
   "metadata": {
    "pycharm": {
     "is_executing": true,
     "name": "#%%\n"
    }
   },
   "outputs": [
    {
     "data": {
      "text/plain": [
       "0"
      ]
     },
     "execution_count": 43,
     "metadata": {},
     "output_type": "execute_result"
    }
   ],
   "source": [
    "data.sid"
   ]
  },
  {
   "cell_type": "code",
   "execution_count": 44,
   "id": "elegant-amendment",
   "metadata": {
    "pycharm": {
     "is_executing": true,
     "name": "#%%\n"
    }
   },
   "outputs": [
    {
     "data": {
      "text/plain": [
       "100"
      ]
     },
     "execution_count": 44,
     "metadata": {},
     "output_type": "execute_result"
    }
   ],
   "source": [
    "data.fid"
   ]
  },
  {
   "cell_type": "code",
   "execution_count": 54,
   "id": "civil-better",
   "metadata": {
    "pycharm": {
     "is_executing": true
    }
   },
   "outputs": [],
   "source": [
    "# Helper function to convert from PyTorch Geometric input to GROVER input:\n",
    "def convert_input(data):\n",
    "    \"\"\"\n",
    "        :param data: data as PyTorch geometric object\n",
    "        :param f_atoms: the atom features, num_atoms * atom_dim\n",
    "        :param f_bonds: the bond features, num_bonds * bond_dim\n",
    "        :param a2b: mapping from atom index to incoming bond indices. \n",
    "        :param a2a: mapping from atom index to its neighbors. num_atoms * max_num_bonds\n",
    "        :param b2a: mapping from bond index to the index of the atom the bond is coming from.\n",
    "        :param b2revb: mapping from bond index to the index of the reverse bond.\n",
    "        :return: batch = (f_atoms, f_bonds, a2b, a2a, b2a, b2revb)\n",
    "    \"\"\"\n",
    "    # Per atom features: (atomic_number, pos_x, pos_y, pos_z)\n",
    "#     f_atoms = torch.stack((data.atomic_numbers.long(), data.pos[:,0], data.pos[:,1], data.pos[:,2]), 1)\n",
    "    # Per edge features (calculatedby atomic distances in model forward pass)\n",
    "#     f_bonds = data.edge_attr\n",
    "    f_bonds = torch.zeros((100))\n",
    "    f_atoms = torch.zeros((100))\n",
    "\n",
    "    a2a = [[] for j in range(data.natoms)] # List of lists - Dynamically append neighbors for a given atom\n",
    "    a2b = [[] for j in range(data.natoms)] # List of lists - Dynamically append edges for a given atom\n",
    "    b2a = torch.zeros((data.edge_index.shape[1],))  # (num_edges, ) - One originating atom per edge\n",
    "    b2revb = torch.zeros((data.edge_index.shape[1],))  # (num_edges, ) - One reverse bond per bond\n",
    "    rev_edges = {} # Dict of lists for each (from_atom, to_atom) pair, saving edge numbers\n",
    "\n",
    "    # Loop through every edge in the graph\n",
    "    for i in range(data.edge_index.shape[1]):\n",
    "        from_atom = int(data.edge_index[0][i])\n",
    "        to_atom = int(data.edge_index[1][i])\n",
    "\n",
    "        a2a[from_atom].append(to_atom)  # Mark b as neighbor of a\n",
    "        a2b[to_atom].append(i)  # Mark bond i as incoming bond to atom a\n",
    "        b2a[i] = from_atom  # Mark a as atom where bond i is originating\n",
    "        key = frozenset({to_atom, from_atom})\n",
    "        if (key not in rev_edges):  # If the edge from these two atoms has not been seen yet\n",
    "            rev_edges[key] = []  # Declare it as a list (so we can keep track of the edge numbers)\n",
    "        rev_edges[key].append(i)  # Append the edge number to the list\n",
    "\n",
    "#     # Iterate through and set b2revb\n",
    "#     for atoms, edges in rev_edges.items():\n",
    "#         b2revb[edges[0]] = edges[1]\n",
    "#         b2revb[edges[1]] = edges[0]\n",
    "\n",
    "    \n",
    "      # Convert list of lists for a2a and a2b into tensor: (num_nodes, max_edges)\n",
    "    # Trim length to max number of edges seen in the data (should be capped by 50 but not always in practice)\n",
    "    a2a_pad = len(max(a2a, key=len))\n",
    "    a2b_pad = len(max(a2b, key=len))\n",
    "\n",
    "    # -1 is not a valid atom or edge index so we pad with this\n",
    "    a2a = torch.tensor([i + [0] * (a2a_pad - len(i)) for i in a2a])\n",
    "    a2b = torch.tensor([i + [0] * (a2b_pad - len(i)) for i in a2b])\n",
    "\n",
    "    batch = (f_atoms, f_bonds, a2b, a2a, b2a, b2revb)\n",
    "    return batch"
   ]
  },
  {
   "cell_type": "code",
   "execution_count": 65,
   "id": "emerging-completion",
   "metadata": {},
   "outputs": [
    {
     "name": "stdout",
     "output_type": "stream",
     "text": [
      "a2a2 len:  7020\n",
      "data.natoms:  7021\n"
     ]
    }
   ],
   "source": [
    "path = \"/home/etower/ocp/logs/data_dump/80hidden\"\n",
    "a2a2 = torch.load(path + \"/a2a2.pt\")\n",
    "a2b2 = torch.load(path + \"/a2b2.pt\")\n",
    "b2a2 = torch.load(path + \"/b2a2.pt\")\n",
    "edge_index = torch.load(path + \"/edge_index.pt\")\n",
    "print(\"a2a2 len: \", len(a2a2))\n",
    "\n",
    "data.edge_index = edge_index\n",
    "data.natoms = len(torch.unique(edge_index[0])) + 1\n",
    "print(\"data.natoms: \", data.natoms)\n",
    "\n",
    "batch = convert_input(data)\n",
    "f_atoms, f_bonds, a2b, a2a, b2a, b2revb = batch\n"
   ]
  },
  {
   "cell_type": "code",
   "execution_count": 69,
   "id": "special-titanium",
   "metadata": {},
   "outputs": [
    {
     "name": "stdout",
     "output_type": "stream",
     "text": [
      "a2a2 shape:  torch.Size([7020, 66])\n",
      "a2a shape:   torch.Size([7021, 66])\n",
      "a2b2 shape:  torch.Size([7020, 33])\n",
      "a2b shape:   torch.Size([7021, 33])\n",
      "b2a2 shape:  torch.Size([146009])\n",
      "b2a shape:   torch.Size([146009])\n",
      "edge_index shape:  torch.Size([2, 146009])\n",
      "len out:  7020\n",
      "len a2a2:  7020\n",
      "tensor([0, 0, 0, 0, 0, 0, 0, 0, 0, 0, 0, 0, 0, 0, 0, 0, 0, 0, 0, 0, 0, 0, 0, 0,\n",
      "        0, 0, 0, 0, 0, 0, 0, 0, 0, 0, 0, 0, 0, 0, 0, 0, 0, 0, 0, 0, 0, 0, 0, 0,\n",
      "        0, 0, 0, 0, 0, 0, 0, 0, 0, 0, 0, 0, 0, 0, 0, 0, 0, 0])\n",
      "tensor([6980, 6981, 6986, 6987, 6992, 6993, 6994, 6995, 7004, 7005, 7010, 7012,\n",
      "        7016, 7017, 7018,    0,    0,    0,    0,    0,    0,    0,    0,    0,\n",
      "           0,    0,    0,    0,    0,    0,    0,    0,    0,    0,    0,    0,\n",
      "           0,    0,    0,    0,    0,    0,    0,    0,    0,    0,    0,    0,\n",
      "           0,    0,    0,    0,    0,    0,    0,    0,    0,    0,    0,    0,\n",
      "           0,    0,    0,    0,    0,    0])\n",
      "tensor([6980, 6981, 6986, 6987, 6992, 6993, 6994, 6995, 7004, 7005, 7010, 7012,\n",
      "        7016, 7017, 7018,    0,    0,    0,    0,    0,    0,    0,    0,    0,\n",
      "           0,    0,    0,    0,    0,    0,    0,    0,    0,    0,    0,    0,\n",
      "           0,    0,    0,    0,    0,    0,    0,    0,    0,    0,    0,    0,\n",
      "           0,    0,    0,    0,    0,    0,    0,    0,    0,    0,    0,    0,\n",
      "           0,    0,    0,    0,    0,    0])\n"
     ]
    }
   ],
   "source": [
    "print(\"a2a2 shape: \", a2a2.shape)\n",
    "print(\"a2a shape:  \", a2a.shape)\n",
    "print(\"a2b2 shape: \", a2b2.shape)\n",
    "print(\"a2b shape:  \", a2b.shape)\n",
    "print(\"b2a2 shape: \", b2a2.shape)\n",
    "print(\"b2a shape:  \", b2a.shape)\n",
    "print(\"edge_index shape: \", edge_index.shape)\n",
    "\n",
    "out, counts = torch.unique(edge_index[1], return_counts=True)  # counts for each atom\n",
    "print(\"len out: \", len(out))\n",
    "print(\"len a2a2: \", len(a2a2))\n",
    "\n",
    "print(a2a[-1])\n",
    "print(a2a[-2])\n",
    "print(a2a2[-1])"
   ]
  },
  {
   "cell_type": "code",
   "execution_count": null,
   "id": "premium-synthetic",
   "metadata": {
    "pycharm": {
     "is_executing": true
    }
   },
   "outputs": [],
   "source": [
    "# # Efficient b2a calculation\n",
    "# b2a2 = data.edge_index[0].type(torch.FloatTensor)\n",
    "# print(\"\\nb2a and b2a2 equal: \", torch.equal(b2a2, b2a))\n",
    "\n",
    "# # Efficient a2b calculation\n",
    "# num_atoms_total = data.natoms\n",
    "# count, idx = torch.unique(data.edge_index[1], return_counts=True)\n",
    "# max_bonds = int(torch.max(degree(data.edge_index[1])))\n",
    "\n",
    "# a2b1 = torch.zeros(num_atoms_total, max_bonds)\n",
    "# for i in range(len(idx)):\n",
    "#     if i == 0:\n",
    "#         start_index = 0\n",
    "#         indices = torch.arange(0, idx[i])\n",
    "#         a2b1[i] = torch.cat((indices, torch.zeros(len(a2b1[0]) - len(indices))), 0)\n",
    "#     else:\n",
    "#         end_index = start_index + idx[i]\n",
    "#         indices = torch.arange(start_index, end_index)\n",
    "#         a2b1[i] = torch.cat((indices, torch.zeros(len(a2b1[0]) - len(indices))), 0)\n",
    "#     start_index = start_index + idx[i]    \n",
    "# a2b1 = a2b1.type(torch.LongTensor)\n",
    "\n",
    "# print(\"\\na2b and a2b1 equal? \", torch.equal(a2b, a2b1))\n",
    "\n",
    "# TODO: efficient b2revb calculation\n",
    "\n",
    "\n",
    "\n",
    "# print(\"\\nShapes of parameters\")\n",
    "# print(\"f_atoms: \", f_atoms.shape)\n",
    "# print(\"f_bonds: \", f_bonds.shape)\n",
    "# print(\"a2b: \", a2b.shape)\n",
    "# print(\"a2a: \", a2a.shape)\n",
    "# print(\"b2a: \", b2a.shape)\n",
    "# print(\"b2revb: \", b2revb.shape)\n",
    "\n",
    "# print(\"\\nExample data\")\n",
    "# print(\"Atom features index 0: \", f_atoms[0])\n",
    "# print(\"Edge features index 0: \", f_bonds[0])\n",
    "# print(\"a2b atom 0: \", a2b[0])\n",
    "# print(\"a2a atom 0: \", a2a[0])\n",
    "# print(\"b2a edge 0: \", b2a[0])\n",
    "# print(\"b2revb edge 0: \", b2revb[0])\n",
    "\n",
    "# for atom in a2b:\n",
    "#     for bond in atom:\n",
    "#         print(dtype(bond))\n",
    "#         if(bond != torch.tensor(-1)):\n",
    "#             print(\"bond: \", bond)"
   ]
  },
  {
   "cell_type": "code",
   "execution_count": null,
   "id": "young-cloud",
   "metadata": {},
   "outputs": [],
   "source": [
    "from torch_geometric.utils import degree\n",
    "import numpy as np\n",
    "# print(degree(data.edge_index[0]))\n",
    "# print(torch.max(degree(data.edge_index[0])))\n",
    "\n",
    "\n",
    "batch = convert_input(data)\n",
    "f_atoms, f_bonds, a2b, a2a, b2a, b2revb = batch\n",
    "\n",
    "# Calculate atom to neighboring atom mappings (a2a)\n",
    "print(data.edge_index)\n",
    "trans = data.edge_index.T\n",
    "print(trans)\n",
    "sorted_index = trans[trans[:, 0].sort()[1]]  # Sort by column zero (from_node), index based off\n",
    "print(sorted_index)\n",
    "sorted_index = sorted_index.T\n",
    "print(sorted_index)\n",
    "\n",
    "\n",
    "out, counts = torch.unique(sorted_index[0], return_counts=True)  # counts for each atom\n",
    "print(\"out: \", out)\n",
    "out = torch.cat((out[:3], out[4:]))\n",
    "out = torch.cat((out[:7], out[8:]))\n",
    "print(\"out: \", out)\n",
    "print(\"counts: \", counts)\n",
    "counts = torch.cat((counts[:3], counts[4:]))\n",
    "counts = torch.cat((counts[:7], counts[8:]))\n",
    "print(\"counts: \", counts)\n",
    "\n",
    "if len(out) - 1 != out[-1]: # If they are the correct length then we don't need to add 0's\n",
    "    ascending = torch.arange(out[-1] + 1) # Ascending order list [0, 1, ... n] where n is last elem in out\n",
    "    print(\"ascending: \", ascending)\n",
    "    missing = [ elem not in out for elem in ascending ] # Missing elements in out\n",
    "    print(\"missing: \", missing)\n",
    "    print(\"np.nonzero: \", np.nonzero(missing)[0])\n",
    "    for elem in np.nonzero(missing)[0]:\n",
    "        i = int(elem)\n",
    "        print(\"i: \", i)\n",
    "        print(\"counts: \", counts)\n",
    "        counts = torch.cat((counts[:i], torch.tensor((0,)), counts[i:])) # Add zero to count\n",
    "        print(\"counts: \", counts)\n",
    "a2a2 = sorted_index[1].split(counts.tolist())  # Index into to_bonds with these indices\n",
    "a2a2 = torch.nn.utils.rnn.pad_sequence(list(a2a2), batch_first=True, padding_value=0)  \n",
    "\n",
    "print(\"a2a2.shape\", a2a2.shape)\n",
    "print(\"a2a.shape\", a2a.shape)\n",
    "print(\"a2a[0]: \", a2a[0])\n",
    "print(\"a2a2[0]: \", a2a2[0])\n",
    "print(\"\\na2a and a2a2 equal: \", torch.equal(a2a, a2a2))"
   ]
  },
  {
   "cell_type": "code",
   "execution_count": null,
   "id": "electrical-watch",
   "metadata": {
    "pycharm": {
     "is_executing": true,
     "name": "#%%\n"
    }
   },
   "outputs": [],
   "source": [
    "# Generate example data (3 nodes)\n",
    "edge_index = torch.tensor([[0, 1, 1, 2],\n",
    "                           [1, 0, 2, 1]], dtype=torch.long)\n",
    "x = torch.tensor([[-1], [0], [1]], dtype=torch.float)\n",
    "\n",
    "atomic_numbers = data.atomic_numbers[11:14]\n",
    "\n",
    "edge_attr = data.edge_attr[:3]\n",
    "\n",
    "pos = data.pos[:3]\n",
    "\n",
    "data2 = Data(x=x, edge_index=edge_index, atomic_numbers=atomic_numbers, edge_attr=edge_attr, natoms=3, pos=pos)"
   ]
  },
  {
   "cell_type": "code",
   "execution_count": null,
   "id": "structured-failure",
   "metadata": {
    "pycharm": {
     "is_executing": true,
     "name": "#%%\n"
    }
   },
   "outputs": [],
   "source": [
    "data2"
   ]
  },
  {
   "cell_type": "code",
   "execution_count": null,
   "id": "understood-copper",
   "metadata": {
    "pycharm": {
     "is_executing": true,
     "name": "#%%\n"
    }
   },
   "outputs": [],
   "source": [
    "batch = convert_input(data2)\n",
    "f_atoms, f_bonds, a2b, a2a, b2a, b2revb = batch\n",
    "print(\"Shapes of parameters\")\n",
    "print(\"f_atoms: \", f_atoms.shape)\n",
    "print(\"f_bonds: \", f_bonds.shape)\n",
    "print(\"a2b: \", a2b.shape)\n",
    "print(\"a2a: \", a2a.shape)\n",
    "print(\"b2a: \", b2a.shape)\n",
    "print(\"b2revb: \", b2revb.shape)\n",
    "\n",
    "print(\"\\nExample data\")\n",
    "print(\"Atom features: \", f_atoms)\n",
    "print(\"Edge features: \", f_bonds)\n",
    "print(\"a2b: \", a2b)\n",
    "print(\"a2a: \", a2a)\n",
    "print(\"b2a: \", b2a)\n",
    "print(\"b2revb: \", b2revb)\n"
   ]
  },
  {
   "cell_type": "markdown",
   "id": "derived-effort",
   "metadata": {
    "pycharm": {
     "name": "#%% md\n"
    }
   },
   "source": [
    "Resources:\n",
    "\n",
    "- https://github.com/Open-Catalyst-Project/ocp/blob/6604e7130ea41fabff93c229af2486433093e3b4/ocpmodels/preprocessing/atoms_to_graphs.py\n",
    "- https://github.com/Open-Catalyst-Project/ocp/blob/master/scripts/preprocess_ef.py"
   ]
  },
  {
   "cell_type": "code",
   "execution_count": null,
   "id": "basic-tumor",
   "metadata": {
    "pycharm": {
     "is_executing": true,
     "name": "#%%\n"
    }
   },
   "outputs": [],
   "source": [
    "print(\"test\")"
   ]
  },
  {
   "cell_type": "code",
   "execution_count": null,
   "id": "tamil-fancy",
   "metadata": {
    "pycharm": {
     "is_executing": true,
     "name": "#%%\n"
    }
   },
   "outputs": [],
   "source": []
  }
 ],
 "metadata": {
  "kernelspec": {
   "display_name": "Python 3",
   "language": "python",
   "name": "python3"
  },
  "language_info": {
   "codemirror_mode": {
    "name": "ipython",
    "version": 3
   },
   "file_extension": ".py",
   "mimetype": "text/x-python",
   "name": "python",
   "nbconvert_exporter": "python",
   "pygments_lexer": "ipython3",
   "version": "3.6.12"
  }
 },
 "nbformat": 4,
 "nbformat_minor": 5
}
