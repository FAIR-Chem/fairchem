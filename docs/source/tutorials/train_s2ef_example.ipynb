{
 "cells": [
  {
   "cell_type": "markdown",
   "metadata": {},
   "source": [
    "# SchNet S2EF training example"
   ]
  },
  {
   "cell_type": "markdown",
   "metadata": {},
   "source": [
    "The purpose of this notebook is to demonstrate some of the basics of the Open Catalyst Project's (OCP) codebase and data. In this example, we will train a schnet model for predicting the energy and forces of a given structure (S2EF task). First, ensure you have installed the OCP ocp repo and all the dependencies according to the [README](https://github.com/Open-Catalyst-Project/ocp/blob/master/README.md)."
   ]
  },
  {
   "cell_type": "markdown",
   "metadata": {},
   "source": [
    "Disclaimer: This notebook is for tutorial purposes, it is unlikely it will be practical to train baseline models on our larger datasets using this format. As a next step, we recommend trying the command line examples. "
   ]
  },
  {
   "cell_type": "markdown",
   "metadata": {},
   "source": [
    "## Imports"
   ]
  },
  {
   "cell_type": "code",
   "execution_count": 2,
   "metadata": {},
   "outputs": [],
   "source": [
    "import torch\n",
    "from ocpmodels.trainers import ForcesTrainer\n",
    "from ocpmodels import models"
   ]
  },
  {
   "cell_type": "code",
   "execution_count": 3,
   "metadata": {},
   "outputs": [
    {
     "name": "stdout",
     "output_type": "stream",
     "text": [
      "True\n"
     ]
    }
   ],
   "source": [
    "# a simple sanity check that a GPU is available\n",
    "if torch.cuda.is_available():\n",
    "    print(\"True\")\n",
    "else:\n",
    "    print(\"False\")"
   ]
  },
  {
   "cell_type": "markdown",
   "metadata": {},
   "source": [
    "## The essential steps for training an OCP model\n",
    "\n",
    "1) Download data\n",
    "\n",
    "2) Preprocess data (if necessary)\n",
    "\n",
    "3) Define or load a configuration (config), which includes the following\n",
    "   \n",
    "   - task\n",
    "   - model\n",
    "   - optimizer\n",
    "   - dataset\n",
    "   - trainer\n",
    "\n",
    "4) Train\n",
    "\n",
    "5) Depending on the model/task there might be intermediate relaxation step\n",
    "\n",
    "6) Predict"
   ]
  },
  {
   "cell_type": "markdown",
   "metadata": {},
   "source": [
    "## Download and preprocess data"
   ]
  },
  {
   "cell_type": "markdown",
   "metadata": {},
   "source": [
    "Please download the train S2EF 200K dataset from [here](https://github.com/Open-Catalyst-Project/ocp/blob/master/README.md#download-the-datasets). This example assumes the --get-edges flag to be present at preprocessing time."
   ]
  },
  {
   "cell_type": "code",
   "execution_count": 4,
   "metadata": {},
   "outputs": [],
   "source": [
    "# set the path to your local lmdb directory\n",
    "train_src = \"/home/jovyan/projects/ocp/data/s2ef/200k/train-demo\""
   ]
  },
  {
   "cell_type": "markdown",
   "metadata": {},
   "source": [
    "## Define config"
   ]
  },
  {
   "cell_type": "markdown",
   "metadata": {},
   "source": [
    "For this example, we will explicitly define the config; however, a set of default config files exists in the config folder of this repository. Default config yaml files can easily be loaded with the `build_config` util (found in `ocp/ocpmodels/common/utils.py`). Loading a yaml config is preferrable when launching jobs from the command line. We have included our best models' config files [here](https://github.com/Open-Catalyst-Project/ocp/tree/master/configs/s2ef)."
   ]
  },
  {
   "cell_type": "markdown",
   "metadata": {},
   "source": [
    "**Task** "
   ]
  },
  {
   "cell_type": "code",
   "execution_count": 17,
   "metadata": {},
   "outputs": [],
   "source": [
    "task = {\n",
    "    'dataset': 'trajectory_lmdb', # dataset used for the S2EF task\n",
    "    'description': 'Regressing to energies and forces for DFT trajectories from OCP',\n",
    "    'type': 'regression',\n",
    "    'metric': 'mae',\n",
    "    'labels': ['potential energy'],\n",
    "    'grad_input': 'atomic forces',\n",
    "    'train_on_free_atoms': True,\n",
    "    'eval_on_free_atoms': True\n",
    "}"
   ]
  },
  {
   "cell_type": "markdown",
   "metadata": {},
   "source": [
    "**Model** - SchNet for this example"
   ]
  },
  {
   "cell_type": "code",
   "execution_count": 18,
   "metadata": {},
   "outputs": [],
   "source": [
    "model = {\n",
    "    'name': 'schnet',\n",
    "    'hidden_channels': 1024, # if training is too slow for example purposes reduce the number of hidden channels\n",
    "    'num_filters': 256,\n",
    "    'num_interactions': 3,\n",
    "    'num_gaussians': 200,\n",
    "    'cutoff': 6.0\n",
    "}"
   ]
  },
  {
   "cell_type": "markdown",
   "metadata": {},
   "source": [
    "**Optimizer**"
   ]
  },
  {
   "cell_type": "code",
   "execution_count": 19,
   "metadata": {},
   "outputs": [],
   "source": [
    "optimizer = {\n",
    "    'batch_size': 16, # if hitting GPU memory issues, lower this\n",
    "    'eval_batch_size': 8,\n",
    "    'num_workers': 8,\n",
    "    'lr_initial': 0.0001,\n",
    "    'lr_gamma': 0.1,\n",
    "    'lr_milestones': [15, 20],\n",
    "    'warmup_epochs': 10,\n",
    "    'warmup_factor': 0.2,\n",
    "    'max_epochs': 1, # used for demonstration purposes\n",
    "    'force_coefficient': 100,\n",
    "}"
   ]
  },
  {
   "cell_type": "markdown",
   "metadata": {},
   "source": [
    "**Dataset**"
   ]
  },
  {
   "cell_type": "markdown",
   "metadata": {},
   "source": [
    "For simplicity, `train_src` is used for all the train/val/test sets. Feel free to update with the actual S2EF val and test sets, but it does require additional downloads and preprocessing. If you desire to normalize your targets, `normalize_labels` must be set to `True` and corresponding `mean` and `stds` need to be specified. These values have been precomputed for you and can be found in any of the [`base.yml`](https://github.com/Open-Catalyst-Project/ocp/blob/master/configs/s2ef/20M/base.yml#L5-L9) config files."
   ]
  },
  {
   "cell_type": "code",
   "execution_count": 8,
   "metadata": {},
   "outputs": [],
   "source": [
    "dataset = [\n",
    "{'src': train_src, 'normalize_labels': False}, # train set \n",
    "{'src': train_src}, # val set (optional)\n",
    "{'src': train_src} # test set (optional - writes predictions to disk)\n",
    "]"
   ]
  },
  {
   "cell_type": "markdown",
   "metadata": {},
   "source": [
    "**Trainer**"
   ]
  },
  {
   "cell_type": "markdown",
   "metadata": {},
   "source": [
    "Use the `ForcesTrainer` for the S2EF and IS2RS tasks, and the `EnergyTrainer` for the IS2RE task "
   ]
  },
  {
   "cell_type": "code",
   "execution_count": 9,
   "metadata": {},
   "outputs": [
    {
     "name": "stdout",
     "output_type": "stream",
     "text": [
      "amp: false\n",
      "cmd:\n",
      "  checkpoint_dir: checkpoints/2021-01-06-16-49-04-SchNet-example\n",
      "  identifier: SchNet-example\n",
      "  logs_dir: logs/tensorboard/2021-01-06-16-49-04-SchNet-example\n",
      "  print_every: 10\n",
      "  results_dir: results/2021-01-06-16-49-04-SchNet-example\n",
      "  seed: 0\n",
      "  timestamp: 2021-01-06-16-49-04-SchNet-example\n",
      "dataset:\n",
      "  normalize_labels: false\n",
      "  src: /home/jovyan/projects/ocp/data/s2ef/200k/train-demo\n",
      "logger: tensorboard\n",
      "logger_entity: null\n",
      "logger_project: null\n",
      "model: schnet\n",
      "model_attributes:\n",
      "  cutoff: 6.0\n",
      "  hidden_channels: 1024\n",
      "  num_filters: 256\n",
      "  num_gaussians: 200\n",
      "  num_interactions: 3\n",
      "optim:\n",
      "  batch_size: 16\n",
      "  eval_batch_size: 8\n",
      "  force_coefficient: 100\n",
      "  lr_gamma: 0.1\n",
      "  lr_initial: 0.0001\n",
      "  lr_milestones:\n",
      "  - 15\n",
      "  - 20\n",
      "  max_epochs: 1\n",
      "  num_workers: 64\n",
      "  warmup_epochs: 10\n",
      "  warmup_factor: 0.2\n",
      "task:\n",
      "  dataset: trajectory_lmdb\n",
      "  description: Regressing to energies and forces for DFT trajectories from OCP\n",
      "  eval_on_free_atoms: true\n",
      "  grad_input: atomic forces\n",
      "  labels:\n",
      "  - potential energy\n",
      "  metric: mae\n",
      "  train_on_free_atoms: true\n",
      "  type: regression\n",
      "test_dataset:\n",
      "  src: /home/jovyan/projects/ocp/data/s2ef/200k/train-demo\n",
      "val_dataset:\n",
      "  src: /home/jovyan/projects/ocp/data/s2ef/200k/train-demo\n",
      "\n",
      "### Loading dataset: trajectory_lmdb\n",
      "### Loading model: schnet\n",
      "### Loaded SchNet with 5704193 parameters.\n",
      "NOTE: model gradient logging to tensorboard not yet supported.\n"
     ]
    }
   ],
   "source": [
    "trainer = ForcesTrainer(\n",
    "    task=task,\n",
    "    model=model,\n",
    "    dataset=dataset,\n",
    "    optimizer=optimizer,\n",
    "    identifier=\"SchNet-example\",\n",
    "    run_dir=\"./\", # directory to save results if is_debug=False. Prediction files are saved here so be careful not to override!\n",
    "    is_debug=False, # if True, do not save checkpoint, logs, or results\n",
    "    is_vis=False,\n",
    "    print_every=10,\n",
    "    seed=0, # random seed to use\n",
    "    logger=\"tensorboard\", # logger of choice (tensorboard and wandb supported)\n",
    "    local_rank=0,\n",
    "    amp=False, # use PyTorch Automatic Mixed Precision (faster training and less memory usage)\n",
    ")"
   ]
  },
  {
   "cell_type": "markdown",
   "metadata": {},
   "source": [
    "## Check the model"
   ]
  },
  {
   "cell_type": "code",
   "execution_count": 11,
   "metadata": {},
   "outputs": [
    {
     "name": "stdout",
     "output_type": "stream",
     "text": [
      "OCPDataParallel(\n",
      "  (module): SchNet(hidden_channels=1024, num_filters=256, num_interactions=3, num_gaussians=200, cutoff=6.0)\n",
      ")\n"
     ]
    }
   ],
   "source": [
    "print(trainer.model)"
   ]
  },
  {
   "cell_type": "markdown",
   "metadata": {},
   "source": [
    "## Train"
   ]
  },
  {
   "cell_type": "code",
   "execution_count": 12,
   "metadata": {
    "scrolled": true
   },
   "outputs": [
    {
     "name": "stdout",
     "output_type": "stream",
     "text": [
      "forcesx_mae: 0.7450, forcesy_mae: 0.8024, forcesz_mae: 0.8352, forces_mae: 0.7942, forces_cos: 0.0523, forces_magnitude: 1.4755, energy_mae: 34.4331, energy_force_within_threshold: 0.0000, loss: 113.8546, epoch: 0.0003\n",
      "forcesx_mae: 0.5871, forcesy_mae: 0.6545, forcesz_mae: 0.6278, forces_mae: 0.6232, forces_cos: 0.0263, forces_magnitude: 1.1090, energy_mae: 32.7792, energy_force_within_threshold: 0.0000, loss: 95.0260, epoch: 0.0035\n",
      "forcesx_mae: 0.4987, forcesy_mae: 0.5432, forcesz_mae: 0.5586, forces_mae: 0.5335, forces_cos: 0.0030, forces_magnitude: 0.9548, energy_mae: 23.5220, energy_force_within_threshold: 0.0000, loss: 76.8902, epoch: 0.0067\n",
      "forcesx_mae: 0.3893, forcesy_mae: 0.4586, forcesz_mae: 0.4432, forces_mae: 0.4303, forces_cos: -0.0035, forces_magnitude: 0.7461, energy_mae: 19.4026, energy_force_within_threshold: 0.0000, loss: 62.5090, epoch: 0.0099\n",
      "forcesx_mae: 0.3424, forcesy_mae: 0.4016, forcesz_mae: 0.4249, forces_mae: 0.3896, forces_cos: 0.0140, forces_magnitude: 0.6547, energy_mae: 12.7195, energy_force_within_threshold: 0.0000, loss: 51.6025, epoch: 0.0131\n",
      "forcesx_mae: 0.2995, forcesy_mae: 0.3742, forcesz_mae: 0.3871, forces_mae: 0.3536, forces_cos: -0.0065, forces_magnitude: 0.6189, energy_mae: 11.5260, energy_force_within_threshold: 0.0000, loss: 46.8553, epoch: 0.0163\n",
      "forcesx_mae: 0.2840, forcesy_mae: 0.3627, forcesz_mae: 0.3515, forces_mae: 0.3328, forces_cos: 0.0135, forces_magnitude: 0.5514, energy_mae: 8.4467, energy_force_within_threshold: 0.0000, loss: 41.9133, epoch: 0.0195\n",
      "forcesx_mae: 0.2917, forcesy_mae: 0.3613, forcesz_mae: 0.3556, forces_mae: 0.3362, forces_cos: 0.0089, forces_magnitude: 0.5407, energy_mae: 7.3080, energy_force_within_threshold: 0.0000, loss: 41.0128, epoch: 0.0227\n",
      "forcesx_mae: 0.2570, forcesy_mae: 0.3046, forcesz_mae: 0.3075, forces_mae: 0.2897, forces_cos: 0.0302, forces_magnitude: 0.4638, energy_mae: 7.7318, energy_force_within_threshold: 0.0000, loss: 36.6349, epoch: 0.0259\n",
      "forcesx_mae: 0.2386, forcesy_mae: 0.2897, forcesz_mae: 0.3020, forces_mae: 0.2768, forces_cos: 0.0163, forces_magnitude: 0.4575, energy_mae: 5.4723, energy_force_within_threshold: 0.0000, loss: 33.2136, epoch: 0.0291\n",
      "forcesx_mae: 0.2324, forcesy_mae: 0.2916, forcesz_mae: 0.3128, forces_mae: 0.2790, forces_cos: 0.0120, forces_magnitude: 0.4428, energy_mae: 4.7084, energy_force_within_threshold: 0.0000, loss: 32.5129, epoch: 0.0323\n",
      "forcesx_mae: 0.2464, forcesy_mae: 0.2763, forcesz_mae: 0.2982, forces_mae: 0.2736, forces_cos: 0.0356, forces_magnitude: 0.4372, energy_mae: 4.6403, energy_force_within_threshold: 0.0000, loss: 31.8313, epoch: 0.0355\n",
      "forcesx_mae: 0.2524, forcesy_mae: 0.2781, forcesz_mae: 0.2906, forces_mae: 0.2737, forces_cos: 0.0269, forces_magnitude: 0.4432, energy_mae: 4.4322, energy_force_within_threshold: 0.0000, loss: 31.7298, epoch: 0.0387\n",
      "forcesx_mae: 0.2417, forcesy_mae: 0.2937, forcesz_mae: 0.2870, forces_mae: 0.2741, forces_cos: 0.0298, forces_magnitude: 0.4401, energy_mae: 4.0072, energy_force_within_threshold: 0.0000, loss: 31.5080, epoch: 0.0419\n",
      "forcesx_mae: 0.2249, forcesy_mae: 0.2451, forcesz_mae: 0.2533, forces_mae: 0.2411, forces_cos: 0.0450, forces_magnitude: 0.3889, energy_mae: 3.4397, energy_force_within_threshold: 0.0000, loss: 27.4870, epoch: 0.0451\n",
      "forcesx_mae: 0.2244, forcesy_mae: 0.2649, forcesz_mae: 0.2587, forces_mae: 0.2493, forces_cos: 0.0326, forces_magnitude: 0.3977, energy_mae: 3.8443, energy_force_within_threshold: 0.0000, loss: 28.7230, epoch: 0.0483\n",
      "forcesx_mae: 0.1988, forcesy_mae: 0.2390, forcesz_mae: 0.2547, forces_mae: 0.2308, forces_cos: 0.0277, forces_magnitude: 0.3695, energy_mae: 3.8582, energy_force_within_threshold: 0.0000, loss: 26.9519, epoch: 0.0515\n",
      "forcesx_mae: 0.2200, forcesy_mae: 0.2407, forcesz_mae: 0.2593, forces_mae: 0.2400, forces_cos: 0.0208, forces_magnitude: 0.3677, energy_mae: 3.3261, energy_force_within_threshold: 0.0000, loss: 27.3233, epoch: 0.0547\n",
      "forcesx_mae: 0.2127, forcesy_mae: 0.2399, forcesz_mae: 0.2547, forces_mae: 0.2358, forces_cos: 0.0476, forces_magnitude: 0.3768, energy_mae: 3.5244, energy_force_within_threshold: 0.0000, loss: 27.1558, epoch: 0.0579\n",
      "forcesx_mae: 0.2079, forcesy_mae: 0.2418, forcesz_mae: 0.2451, forces_mae: 0.2316, forces_cos: 0.0434, forces_magnitude: 0.3621, energy_mae: 3.6039, energy_force_within_threshold: 0.0000, loss: 26.8722, epoch: 0.0611\n",
      "forcesx_mae: 0.1895, forcesy_mae: 0.2202, forcesz_mae: 0.2369, forces_mae: 0.2156, forces_cos: 0.0311, forces_magnitude: 0.3374, energy_mae: 3.4304, energy_force_within_threshold: 0.0000, loss: 24.9028, epoch: 0.0643\n",
      "forcesx_mae: 0.1953, forcesy_mae: 0.2370, forcesz_mae: 0.2411, forces_mae: 0.2245, forces_cos: 0.0207, forces_magnitude: 0.3395, energy_mae: 3.8720, energy_force_within_threshold: 0.0000, loss: 26.2537, epoch: 0.0675\n",
      "forcesx_mae: 0.1936, forcesy_mae: 0.2252, forcesz_mae: 0.2398, forces_mae: 0.2195, forces_cos: 0.0370, forces_magnitude: 0.3320, energy_mae: 4.0795, energy_force_within_threshold: 0.0000, loss: 25.9039, epoch: 0.0707\n",
      "forcesx_mae: 0.1855, forcesy_mae: 0.2304, forcesz_mae: 0.2308, forces_mae: 0.2155, forces_cos: 0.0143, forces_magnitude: 0.3461, energy_mae: 3.9387, energy_force_within_threshold: 0.0000, loss: 25.4135, epoch: 0.0739\n",
      "forcesx_mae: 0.2040, forcesy_mae: 0.2303, forcesz_mae: 0.2403, forces_mae: 0.2249, forces_cos: 0.0221, forces_magnitude: 0.3427, energy_mae: 3.7698, energy_force_within_threshold: 0.0000, loss: 26.1306, epoch: 0.0771\n",
      "forcesx_mae: 0.1891, forcesy_mae: 0.2132, forcesz_mae: 0.2250, forces_mae: 0.2091, forces_cos: 0.0358, forces_magnitude: 0.3230, energy_mae: 3.5277, energy_force_within_threshold: 0.0000, loss: 24.4202, epoch: 0.0803\n",
      "forcesx_mae: 0.1851, forcesy_mae: 0.2106, forcesz_mae: 0.2081, forces_mae: 0.2013, forces_cos: 0.0215, forces_magnitude: 0.3080, energy_mae: 2.9705, energy_force_within_threshold: 0.0000, loss: 23.1025, epoch: 0.0835\n",
      "forcesx_mae: 0.1841, forcesy_mae: 0.2159, forcesz_mae: 0.2281, forces_mae: 0.2094, forces_cos: 0.0238, forces_magnitude: 0.3074, energy_mae: 2.9688, energy_force_within_threshold: 0.0000, loss: 23.8364, epoch: 0.0867\n",
      "forcesx_mae: 0.1683, forcesy_mae: 0.2034, forcesz_mae: 0.2063, forces_mae: 0.1927, forces_cos: 0.0282, forces_magnitude: 0.2949, energy_mae: 3.1820, energy_force_within_threshold: 0.0000, loss: 22.2960, epoch: 0.0899\n",
      "forcesx_mae: 0.1725, forcesy_mae: 0.1974, forcesz_mae: 0.2100, forces_mae: 0.1933, forces_cos: 0.0451, forces_magnitude: 0.2903, energy_mae: 3.6633, energy_force_within_threshold: 0.0000, loss: 22.9613, epoch: 0.0931\n",
      "forcesx_mae: 0.1633, forcesy_mae: 0.2064, forcesz_mae: 0.2095, forces_mae: 0.1931, forces_cos: 0.0241, forces_magnitude: 0.2989, energy_mae: 3.7626, energy_force_within_threshold: 0.0000, loss: 23.1334, epoch: 0.0963\n",
      "forcesx_mae: 0.1656, forcesy_mae: 0.1925, forcesz_mae: 0.2012, forces_mae: 0.1865, forces_cos: 0.0362, forces_magnitude: 0.2766, energy_mae: 3.4898, energy_force_within_threshold: 0.0000, loss: 22.1595, epoch: 0.0995\n",
      "forcesx_mae: 0.1748, forcesy_mae: 0.2388, forcesz_mae: 0.2346, forces_mae: 0.2161, forces_cos: 0.0175, forces_magnitude: 0.3367, energy_mae: 4.1621, energy_force_within_threshold: 0.0000, loss: 25.8232, epoch: 0.1027\n",
      "forcesx_mae: 0.1812, forcesy_mae: 0.2165, forcesz_mae: 0.2230, forces_mae: 0.2069, forces_cos: 0.0120, forces_magnitude: 0.3118, energy_mae: 3.3028, energy_force_within_threshold: 0.0000, loss: 24.0031, epoch: 0.1059\n",
      "forcesx_mae: 0.1681, forcesy_mae: 0.2106, forcesz_mae: 0.2258, forces_mae: 0.2015, forces_cos: 0.0341, forces_magnitude: 0.3121, energy_mae: 3.7153, energy_force_within_threshold: 0.0000, loss: 23.8968, epoch: 0.1091\n",
      "forcesx_mae: 0.1748, forcesy_mae: 0.2004, forcesz_mae: 0.2039, forces_mae: 0.1930, forces_cos: 0.0241, forces_magnitude: 0.2910, energy_mae: 3.3398, energy_force_within_threshold: 0.0000, loss: 22.6169, epoch: 0.1123\n",
      "forcesx_mae: 0.1775, forcesy_mae: 0.2031, forcesz_mae: 0.2053, forces_mae: 0.1953, forces_cos: 0.0281, forces_magnitude: 0.2900, energy_mae: 3.3233, energy_force_within_threshold: 0.0000, loss: 22.9527, epoch: 0.1155\n",
      "forcesx_mae: 0.1634, forcesy_mae: 0.1877, forcesz_mae: 0.2121, forces_mae: 0.1877, forces_cos: 0.0273, forces_magnitude: 0.2879, energy_mae: 3.9480, energy_force_within_threshold: 0.0000, loss: 22.7752, epoch: 0.1187\n"
     ]
    },
    {
     "name": "stdout",
     "output_type": "stream",
     "text": [
      "forcesx_mae: 0.1572, forcesy_mae: 0.1844, forcesz_mae: 0.1891, forces_mae: 0.1769, forces_cos: 0.0481, forces_magnitude: 0.2624, energy_mae: 3.4449, energy_force_within_threshold: 0.0000, loss: 21.1611, epoch: 0.1219\n",
      "forcesx_mae: 0.1572, forcesy_mae: 0.1776, forcesz_mae: 0.1807, forces_mae: 0.1719, forces_cos: 0.0335, forces_magnitude: 0.2534, energy_mae: 3.0279, energy_force_within_threshold: 0.0000, loss: 20.1898, epoch: 0.1251\n",
      "forcesx_mae: 0.1717, forcesy_mae: 0.1934, forcesz_mae: 0.2013, forces_mae: 0.1888, forces_cos: 0.0335, forces_magnitude: 0.2845, energy_mae: 3.6823, energy_force_within_threshold: 0.0000, loss: 22.6440, epoch: 0.1283\n",
      "forcesx_mae: 0.1627, forcesy_mae: 0.1934, forcesz_mae: 0.2017, forces_mae: 0.1859, forces_cos: 0.0414, forces_magnitude: 0.2795, energy_mae: 3.6687, energy_force_within_threshold: 0.0000, loss: 22.2938, epoch: 0.1315\n",
      "forcesx_mae: 0.1689, forcesy_mae: 0.2036, forcesz_mae: 0.1978, forces_mae: 0.1901, forces_cos: 0.0374, forces_magnitude: 0.2884, energy_mae: 3.0601, energy_force_within_threshold: 0.0000, loss: 21.9837, epoch: 0.1347\n",
      "forcesx_mae: 0.1669, forcesy_mae: 0.1972, forcesz_mae: 0.1953, forces_mae: 0.1865, forces_cos: 0.0259, forces_magnitude: 0.2711, energy_mae: 3.3206, energy_force_within_threshold: 0.0000, loss: 21.8944, epoch: 0.1379\n",
      "forcesx_mae: 0.1542, forcesy_mae: 0.1871, forcesz_mae: 0.1964, forces_mae: 0.1792, forces_cos: 0.0317, forces_magnitude: 0.2697, energy_mae: 3.3421, energy_force_within_threshold: 0.0000, loss: 21.2236, epoch: 0.1411\n",
      "forcesx_mae: 0.1789, forcesy_mae: 0.1942, forcesz_mae: 0.2138, forces_mae: 0.1956, forces_cos: 0.0380, forces_magnitude: 0.2861, energy_mae: 3.3249, energy_force_within_threshold: 0.0000, loss: 22.7581, epoch: 0.1443\n",
      "forcesx_mae: 0.1537, forcesy_mae: 0.1856, forcesz_mae: 0.1866, forces_mae: 0.1753, forces_cos: 0.0409, forces_magnitude: 0.2613, energy_mae: 3.3372, energy_force_within_threshold: 0.0000, loss: 20.8736, epoch: 0.1475\n",
      "forcesx_mae: 0.1597, forcesy_mae: 0.1804, forcesz_mae: 0.1942, forces_mae: 0.1781, forces_cos: 0.0231, forces_magnitude: 0.2605, energy_mae: 3.4279, energy_force_within_threshold: 0.0000, loss: 21.2158, epoch: 0.1507\n",
      "forcesx_mae: 0.1721, forcesy_mae: 0.2000, forcesz_mae: 0.2076, forces_mae: 0.1932, forces_cos: 0.0296, forces_magnitude: 0.2896, energy_mae: 3.8924, energy_force_within_threshold: 0.0000, loss: 23.1829, epoch: 0.1539\n",
      "forcesx_mae: 0.1566, forcesy_mae: 0.1782, forcesz_mae: 0.1896, forces_mae: 0.1748, forces_cos: 0.0355, forces_magnitude: 0.2557, energy_mae: 2.9189, energy_force_within_threshold: 0.0000, loss: 20.5259, epoch: 0.1571\n",
      "forcesx_mae: 0.1599, forcesy_mae: 0.1737, forcesz_mae: 0.1898, forces_mae: 0.1745, forces_cos: 0.0295, forces_magnitude: 0.2574, energy_mae: 3.3135, energy_force_within_threshold: 0.0000, loss: 20.7663, epoch: 0.1603\n",
      "forcesx_mae: 0.1766, forcesy_mae: 0.1936, forcesz_mae: 0.2059, forces_mae: 0.1921, forces_cos: 0.0316, forces_magnitude: 0.2860, energy_mae: 3.5152, energy_force_within_threshold: 0.0000, loss: 22.6239, epoch: 0.1635\n",
      "forcesx_mae: 0.1559, forcesy_mae: 0.1819, forcesz_mae: 0.1934, forces_mae: 0.1771, forces_cos: 0.0210, forces_magnitude: 0.2583, energy_mae: 3.2609, energy_force_within_threshold: 0.0000, loss: 20.8793, epoch: 0.1667\n",
      "forcesx_mae: 0.1582, forcesy_mae: 0.1847, forcesz_mae: 0.1893, forces_mae: 0.1774, forces_cos: 0.0350, forces_magnitude: 0.2587, energy_mae: 3.9181, energy_force_within_threshold: 0.0000, loss: 21.8137, epoch: 0.1699\n",
      "forcesx_mae: 0.1390, forcesy_mae: 0.1649, forcesz_mae: 0.1765, forces_mae: 0.1602, forces_cos: 0.0476, forces_magnitude: 0.2380, energy_mae: 3.6469, energy_force_within_threshold: 0.0000, loss: 19.6585, epoch: 0.1731\n",
      "forcesx_mae: 0.1356, forcesy_mae: 0.1689, forcesz_mae: 0.1662, forces_mae: 0.1569, forces_cos: 0.0253, forces_magnitude: 0.2228, energy_mae: 3.3145, energy_force_within_threshold: 0.0000, loss: 19.1452, epoch: 0.1763\n",
      "forcesx_mae: 0.1335, forcesy_mae: 0.1559, forcesz_mae: 0.1664, forces_mae: 0.1519, forces_cos: 0.0230, forces_magnitude: 0.2294, energy_mae: 3.6579, energy_force_within_threshold: 0.0000, loss: 18.9236, epoch: 0.1795\n",
      "forcesx_mae: 0.1415, forcesy_mae: 0.1721, forcesz_mae: 0.1844, forces_mae: 0.1660, forces_cos: 0.0226, forces_magnitude: 0.2445, energy_mae: 3.3220, energy_force_within_threshold: 0.0000, loss: 19.9177, epoch: 0.1827\n",
      "forcesx_mae: 0.1582, forcesy_mae: 0.1691, forcesz_mae: 0.1990, forces_mae: 0.1755, forces_cos: 0.0348, forces_magnitude: 0.2760, energy_mae: 3.2786, energy_force_within_threshold: 0.0000, loss: 21.2541, epoch: 0.1859\n",
      "forcesx_mae: 0.1278, forcesy_mae: 0.1555, forcesz_mae: 0.1549, forces_mae: 0.1461, forces_cos: 0.0447, forces_magnitude: 0.2038, energy_mae: 3.2909, energy_force_within_threshold: 0.0000, loss: 17.9406, epoch: 0.1891\n",
      "forcesx_mae: 0.1471, forcesy_mae: 0.1689, forcesz_mae: 0.1769, forces_mae: 0.1643, forces_cos: 0.0302, forces_magnitude: 0.2356, energy_mae: 3.5024, energy_force_within_threshold: 0.0000, loss: 20.0305, epoch: 0.1923\n",
      "forcesx_mae: 0.1375, forcesy_mae: 0.1604, forcesz_mae: 0.1617, forces_mae: 0.1532, forces_cos: 0.0238, forces_magnitude: 0.2113, energy_mae: 3.2832, energy_force_within_threshold: 0.0000, loss: 18.5349, epoch: 0.1955\n",
      "forcesx_mae: 0.1399, forcesy_mae: 0.1594, forcesz_mae: 0.1647, forces_mae: 0.1547, forces_cos: 0.0216, forces_magnitude: 0.2155, energy_mae: 2.9932, energy_force_within_threshold: 0.0000, loss: 18.4881, epoch: 0.1987\n",
      "forcesx_mae: 0.1428, forcesy_mae: 0.1697, forcesz_mae: 0.1766, forces_mae: 0.1630, forces_cos: 0.0307, forces_magnitude: 0.2388, energy_mae: 3.4693, energy_force_within_threshold: 0.0000, loss: 19.6924, epoch: 0.2019\n",
      "forcesx_mae: 0.1332, forcesy_mae: 0.1547, forcesz_mae: 0.1581, forces_mae: 0.1487, forces_cos: 0.0328, forces_magnitude: 0.2189, energy_mae: 3.0032, energy_force_within_threshold: 0.0000, loss: 17.8830, epoch: 0.2051\n",
      "forcesx_mae: 0.1290, forcesy_mae: 0.1535, forcesz_mae: 0.1570, forces_mae: 0.1465, forces_cos: 0.0437, forces_magnitude: 0.2161, energy_mae: 2.4408, energy_force_within_threshold: 0.0000, loss: 17.1190, epoch: 0.2083\n",
      "forcesx_mae: 0.1383, forcesy_mae: 0.1566, forcesz_mae: 0.1812, forces_mae: 0.1587, forces_cos: 0.0378, forces_magnitude: 0.2292, energy_mae: 3.4875, energy_force_within_threshold: 0.0000, loss: 19.4067, epoch: 0.2115\n",
      "forcesx_mae: 0.1288, forcesy_mae: 0.1650, forcesz_mae: 0.1672, forces_mae: 0.1537, forces_cos: 0.0182, forces_magnitude: 0.2257, energy_mae: 3.2028, energy_force_within_threshold: 0.0000, loss: 18.5643, epoch: 0.2147\n",
      "forcesx_mae: 0.1315, forcesy_mae: 0.1473, forcesz_mae: 0.1596, forces_mae: 0.1461, forces_cos: 0.0351, forces_magnitude: 0.2251, energy_mae: 2.5453, energy_force_within_threshold: 0.0000, loss: 17.1653, epoch: 0.2179\n",
      "forcesx_mae: 0.1383, forcesy_mae: 0.1689, forcesz_mae: 0.1732, forces_mae: 0.1602, forces_cos: 0.0285, forces_magnitude: 0.2324, energy_mae: 3.1823, energy_force_within_threshold: 0.0000, loss: 19.2269, epoch: 0.2211\n",
      "forcesx_mae: 0.1209, forcesy_mae: 0.1442, forcesz_mae: 0.1464, forces_mae: 0.1372, forces_cos: 0.0348, forces_magnitude: 0.1962, energy_mae: 3.3573, energy_force_within_threshold: 0.0000, loss: 17.0675, epoch: 0.2243\n",
      "forcesx_mae: 0.1420, forcesy_mae: 0.1596, forcesz_mae: 0.1704, forces_mae: 0.1573, forces_cos: 0.0429, forces_magnitude: 0.2224, energy_mae: 3.1480, energy_force_within_threshold: 0.0000, loss: 18.9242, epoch: 0.2275\n",
      "forcesx_mae: 0.1365, forcesy_mae: 0.1627, forcesz_mae: 0.1709, forces_mae: 0.1567, forces_cos: 0.0368, forces_magnitude: 0.2225, energy_mae: 3.7010, energy_force_within_threshold: 0.0000, loss: 19.4261, epoch: 0.2307\n",
      "forcesx_mae: 0.1389, forcesy_mae: 0.1665, forcesz_mae: 0.1732, forces_mae: 0.1595, forces_cos: 0.0453, forces_magnitude: 0.2312, energy_mae: 3.8835, energy_force_within_threshold: 0.0000, loss: 19.8146, epoch: 0.2339\n",
      "forcesx_mae: 0.1319, forcesy_mae: 0.1635, forcesz_mae: 0.1731, forces_mae: 0.1562, forces_cos: 0.0317, forces_magnitude: 0.2296, energy_mae: 3.6143, energy_force_within_threshold: 0.0000, loss: 19.2141, epoch: 0.2371\n",
      "forcesx_mae: 0.1321, forcesy_mae: 0.1551, forcesz_mae: 0.1566, forces_mae: 0.1479, forces_cos: 0.0235, forces_magnitude: 0.2150, energy_mae: 3.4292, energy_force_within_threshold: 0.0000, loss: 18.4486, epoch: 0.2403\n"
     ]
    },
    {
     "name": "stdout",
     "output_type": "stream",
     "text": [
      "forcesx_mae: 0.1680, forcesy_mae: 0.1768, forcesz_mae: 0.1716, forces_mae: 0.1721, forces_cos: 0.0381, forces_magnitude: 0.2594, energy_mae: 3.2181, energy_force_within_threshold: 0.0000, loss: 20.5549, epoch: 0.2435\n",
      "forcesx_mae: 0.1275, forcesy_mae: 0.1469, forcesz_mae: 0.1566, forces_mae: 0.1437, forces_cos: 0.0293, forces_magnitude: 0.2094, energy_mae: 3.1564, energy_force_within_threshold: 0.0000, loss: 17.5119, epoch: 0.2467\n",
      "forcesx_mae: 0.1334, forcesy_mae: 0.1614, forcesz_mae: 0.1614, forces_mae: 0.1521, forces_cos: 0.0446, forces_magnitude: 0.2214, energy_mae: 3.0059, energy_force_within_threshold: 0.0000, loss: 18.1482, epoch: 0.2499\n",
      "forcesx_mae: 0.1482, forcesy_mae: 0.1669, forcesz_mae: 0.1801, forces_mae: 0.1650, forces_cos: 0.0295, forces_magnitude: 0.2427, energy_mae: 3.1646, energy_force_within_threshold: 0.0000, loss: 19.4738, epoch: 0.2531\n",
      "forcesx_mae: 0.1390, forcesy_mae: 0.1679, forcesz_mae: 0.1772, forces_mae: 0.1614, forces_cos: 0.0364, forces_magnitude: 0.2357, energy_mae: 3.0889, energy_force_within_threshold: 0.0000, loss: 19.2065, epoch: 0.2563\n",
      "forcesx_mae: 0.1241, forcesy_mae: 0.1438, forcesz_mae: 0.1507, forces_mae: 0.1395, forces_cos: 0.0594, forces_magnitude: 0.2048, energy_mae: 3.1340, energy_force_within_threshold: 0.0000, loss: 16.9804, epoch: 0.2595\n",
      "forcesx_mae: 0.1256, forcesy_mae: 0.1478, forcesz_mae: 0.1577, forces_mae: 0.1437, forces_cos: 0.0484, forces_magnitude: 0.2097, energy_mae: 3.3177, energy_force_within_threshold: 0.0000, loss: 17.7003, epoch: 0.2627\n",
      "forcesx_mae: 0.1221, forcesy_mae: 0.1440, forcesz_mae: 0.1511, forces_mae: 0.1391, forces_cos: 0.0340, forces_magnitude: 0.1970, energy_mae: 3.8205, energy_force_within_threshold: 0.0000, loss: 17.7682, epoch: 0.2659\n",
      "forcesx_mae: 0.1331, forcesy_mae: 0.1722, forcesz_mae: 0.1610, forces_mae: 0.1554, forces_cos: 0.0563, forces_magnitude: 0.2332, energy_mae: 3.0874, energy_force_within_threshold: 0.0000, loss: 18.7154, epoch: 0.2691\n",
      "forcesx_mae: 0.1309, forcesy_mae: 0.1508, forcesz_mae: 0.1586, forces_mae: 0.1467, forces_cos: 0.0339, forces_magnitude: 0.2124, energy_mae: 2.9429, energy_force_within_threshold: 0.0000, loss: 17.5434, epoch: 0.2723\n",
      "forcesx_mae: 0.1208, forcesy_mae: 0.1446, forcesz_mae: 0.1481, forces_mae: 0.1378, forces_cos: 0.0244, forces_magnitude: 0.1969, energy_mae: 3.4710, energy_force_within_threshold: 0.0000, loss: 17.2494, epoch: 0.2755\n",
      "forcesx_mae: 0.1226, forcesy_mae: 0.1357, forcesz_mae: 0.1576, forces_mae: 0.1386, forces_cos: 0.0331, forces_magnitude: 0.2022, energy_mae: 3.3491, energy_force_within_threshold: 0.0000, loss: 17.2893, epoch: 0.2787\n",
      "forcesx_mae: 0.1325, forcesy_mae: 0.1530, forcesz_mae: 0.1616, forces_mae: 0.1490, forces_cos: 0.0523, forces_magnitude: 0.2196, energy_mae: 3.5539, energy_force_within_threshold: 0.0000, loss: 18.3895, epoch: 0.2819\n",
      "forcesx_mae: 0.1289, forcesy_mae: 0.1513, forcesz_mae: 0.1508, forces_mae: 0.1436, forces_cos: 0.0451, forces_magnitude: 0.2060, energy_mae: 3.9714, energy_force_within_threshold: 0.0000, loss: 18.2773, epoch: 0.2851\n",
      "forcesx_mae: 0.1177, forcesy_mae: 0.1465, forcesz_mae: 0.1560, forces_mae: 0.1401, forces_cos: 0.0457, forces_magnitude: 0.2049, energy_mae: 3.7270, energy_force_within_threshold: 0.0000, loss: 17.7452, epoch: 0.2883\n",
      "forcesx_mae: 0.1274, forcesy_mae: 0.1447, forcesz_mae: 0.1506, forces_mae: 0.1409, forces_cos: 0.0410, forces_magnitude: 0.1984, energy_mae: 3.6023, energy_force_within_threshold: 0.0000, loss: 17.7750, epoch: 0.2915\n",
      "forcesx_mae: 0.1173, forcesy_mae: 0.1312, forcesz_mae: 0.1411, forces_mae: 0.1299, forces_cos: 0.0480, forces_magnitude: 0.1775, energy_mae: 2.9045, energy_force_within_threshold: 0.0000, loss: 15.9136, epoch: 0.2947\n",
      "forcesx_mae: 0.1371, forcesy_mae: 0.1508, forcesz_mae: 0.1786, forces_mae: 0.1555, forces_cos: 0.0340, forces_magnitude: 0.2313, energy_mae: 3.4353, energy_force_within_threshold: 0.0000, loss: 19.2300, epoch: 0.2979\n",
      "forcesx_mae: 0.1229, forcesy_mae: 0.1452, forcesz_mae: 0.1550, forces_mae: 0.1410, forces_cos: 0.0261, forces_magnitude: 0.2010, energy_mae: 2.8975, energy_force_within_threshold: 0.0000, loss: 16.9950, epoch: 0.3011\n",
      "forcesx_mae: 0.1125, forcesy_mae: 0.1357, forcesz_mae: 0.1451, forces_mae: 0.1311, forces_cos: 0.0482, forces_magnitude: 0.1844, energy_mae: 3.0532, energy_force_within_threshold: 0.0000, loss: 16.1582, epoch: 0.3043\n",
      "forcesx_mae: 0.1337, forcesy_mae: 0.1614, forcesz_mae: 0.1647, forces_mae: 0.1533, forces_cos: 0.0496, forces_magnitude: 0.2280, energy_mae: 3.0345, energy_force_within_threshold: 0.0000, loss: 18.4326, epoch: 0.3075\n",
      "forcesx_mae: 0.1216, forcesy_mae: 0.1505, forcesz_mae: 0.1568, forces_mae: 0.1430, forces_cos: 0.0364, forces_magnitude: 0.2026, energy_mae: 2.8985, energy_force_within_threshold: 0.0000, loss: 17.2945, epoch: 0.3107\n",
      "forcesx_mae: 0.1197, forcesy_mae: 0.1510, forcesz_mae: 0.1556, forces_mae: 0.1421, forces_cos: 0.0488, forces_magnitude: 0.2171, energy_mae: 3.3313, energy_force_within_threshold: 0.0000, loss: 17.5785, epoch: 0.3139\n",
      "forcesx_mae: 0.1191, forcesy_mae: 0.1558, forcesz_mae: 0.1556, forces_mae: 0.1435, forces_cos: 0.0363, forces_magnitude: 0.2085, energy_mae: 3.4440, energy_force_within_threshold: 0.0000, loss: 17.7803, epoch: 0.3171\n",
      "forcesx_mae: 0.1168, forcesy_mae: 0.1391, forcesz_mae: 0.1522, forces_mae: 0.1360, forces_cos: 0.0691, forces_magnitude: 0.1995, energy_mae: 3.3201, energy_force_within_threshold: 0.0000, loss: 16.9234, epoch: 0.3203\n",
      "forcesx_mae: 0.1213, forcesy_mae: 0.1403, forcesz_mae: 0.1428, forces_mae: 0.1348, forces_cos: 0.0308, forces_magnitude: 0.1957, energy_mae: 3.3276, energy_force_within_threshold: 0.0000, loss: 16.7350, epoch: 0.3235\n",
      "forcesx_mae: 0.1351, forcesy_mae: 0.1519, forcesz_mae: 0.1766, forces_mae: 0.1545, forces_cos: 0.0264, forces_magnitude: 0.2262, energy_mae: 3.7821, energy_force_within_threshold: 0.0000, loss: 19.3219, epoch: 0.3267\n",
      "forcesx_mae: 0.1298, forcesy_mae: 0.1534, forcesz_mae: 0.1619, forces_mae: 0.1483, forces_cos: 0.0319, forces_magnitude: 0.2127, energy_mae: 3.5114, energy_force_within_threshold: 0.0000, loss: 18.2907, epoch: 0.3299\n",
      "forcesx_mae: 0.1289, forcesy_mae: 0.1623, forcesz_mae: 0.1630, forces_mae: 0.1514, forces_cos: 0.0387, forces_magnitude: 0.2208, energy_mae: 3.5893, energy_force_within_threshold: 0.0000, loss: 18.6694, epoch: 0.3331\n",
      "forcesx_mae: 0.1317, forcesy_mae: 0.1623, forcesz_mae: 0.1832, forces_mae: 0.1590, forces_cos: 0.0274, forces_magnitude: 0.2358, energy_mae: 3.0541, energy_force_within_threshold: 0.0000, loss: 18.9828, epoch: 0.3363\n",
      "forcesx_mae: 0.1251, forcesy_mae: 0.1366, forcesz_mae: 0.1425, forces_mae: 0.1347, forces_cos: 0.0472, forces_magnitude: 0.1948, energy_mae: 3.4701, energy_force_within_threshold: 0.0000, loss: 17.1487, epoch: 0.3395\n",
      "forcesx_mae: 0.1173, forcesy_mae: 0.1415, forcesz_mae: 0.1430, forces_mae: 0.1340, forces_cos: 0.0441, forces_magnitude: 0.1939, energy_mae: 2.8757, energy_force_within_threshold: 0.0000, loss: 16.3099, epoch: 0.3427\n",
      "forcesx_mae: 0.1175, forcesy_mae: 0.1392, forcesz_mae: 0.1412, forces_mae: 0.1326, forces_cos: 0.0236, forces_magnitude: 0.1874, energy_mae: 3.4736, energy_force_within_threshold: 0.0000, loss: 16.7362, epoch: 0.3459\n",
      "forcesx_mae: 0.1137, forcesy_mae: 0.1318, forcesz_mae: 0.1369, forces_mae: 0.1275, forces_cos: 0.0325, forces_magnitude: 0.1775, energy_mae: 3.4278, energy_force_within_threshold: 0.0000, loss: 16.1710, epoch: 0.3491\n",
      "forcesx_mae: 0.1300, forcesy_mae: 0.1514, forcesz_mae: 0.1598, forces_mae: 0.1471, forces_cos: 0.0400, forces_magnitude: 0.2199, energy_mae: 3.1816, energy_force_within_threshold: 0.0000, loss: 18.0294, epoch: 0.3523\n",
      "forcesx_mae: 0.1177, forcesy_mae: 0.1340, forcesz_mae: 0.1437, forces_mae: 0.1318, forces_cos: 0.0549, forces_magnitude: 0.1901, energy_mae: 3.1590, energy_force_within_threshold: 0.0000, loss: 16.2941, epoch: 0.3555\n",
      "forcesx_mae: 0.1293, forcesy_mae: 0.1556, forcesz_mae: 0.1763, forces_mae: 0.1537, forces_cos: 0.0463, forces_magnitude: 0.2272, energy_mae: 3.2351, energy_force_within_threshold: 0.0000, loss: 18.5198, epoch: 0.3587\n",
      "forcesx_mae: 0.1120, forcesy_mae: 0.1428, forcesz_mae: 0.1495, forces_mae: 0.1348, forces_cos: 0.0149, forces_magnitude: 0.1924, energy_mae: 3.2760, energy_force_within_threshold: 0.0000, loss: 16.7146, epoch: 0.3619\n"
     ]
    },
    {
     "name": "stdout",
     "output_type": "stream",
     "text": [
      "forcesx_mae: 0.1246, forcesy_mae: 0.1478, forcesz_mae: 0.1496, forces_mae: 0.1406, forces_cos: 0.0297, forces_magnitude: 0.2039, energy_mae: 3.5981, energy_force_within_threshold: 0.0000, loss: 17.6697, epoch: 0.3651\n",
      "forcesx_mae: 0.1079, forcesy_mae: 0.1219, forcesz_mae: 0.1235, forces_mae: 0.1178, forces_cos: 0.0413, forces_magnitude: 0.1629, energy_mae: 3.3930, energy_force_within_threshold: 0.0000, loss: 15.1729, epoch: 0.3683\n",
      "forcesx_mae: 0.1275, forcesy_mae: 0.1389, forcesz_mae: 0.1473, forces_mae: 0.1379, forces_cos: 0.0430, forces_magnitude: 0.1889, energy_mae: 3.6207, energy_force_within_threshold: 0.0000, loss: 17.3980, epoch: 0.3715\n",
      "forcesx_mae: 0.1220, forcesy_mae: 0.1508, forcesz_mae: 0.1493, forces_mae: 0.1407, forces_cos: 0.0458, forces_magnitude: 0.1933, energy_mae: 3.4300, energy_force_within_threshold: 0.0000, loss: 17.3409, epoch: 0.3747\n",
      "forcesx_mae: 0.1156, forcesy_mae: 0.1382, forcesz_mae: 0.1418, forces_mae: 0.1319, forces_cos: 0.0160, forces_magnitude: 0.1881, energy_mae: 3.0975, energy_force_within_threshold: 0.0000, loss: 16.2871, epoch: 0.3779\n",
      "forcesx_mae: 0.1171, forcesy_mae: 0.1450, forcesz_mae: 0.1632, forces_mae: 0.1418, forces_cos: 0.0339, forces_magnitude: 0.2140, energy_mae: 3.5502, energy_force_within_threshold: 0.0000, loss: 17.8689, epoch: 0.3811\n",
      "forcesx_mae: 0.1116, forcesy_mae: 0.1220, forcesz_mae: 0.1321, forces_mae: 0.1219, forces_cos: 0.0301, forces_magnitude: 0.1744, energy_mae: 2.7187, energy_force_within_threshold: 0.0000, loss: 14.9290, epoch: 0.3843\n",
      "forcesx_mae: 0.1158, forcesy_mae: 0.1389, forcesz_mae: 0.1520, forces_mae: 0.1356, forces_cos: 0.0523, forces_magnitude: 0.1997, energy_mae: 2.7549, energy_force_within_threshold: 0.0000, loss: 16.3492, epoch: 0.3875\n",
      "forcesx_mae: 0.1209, forcesy_mae: 0.1450, forcesz_mae: 0.1474, forces_mae: 0.1378, forces_cos: 0.0477, forces_magnitude: 0.1972, energy_mae: 3.6331, energy_force_within_threshold: 0.0000, loss: 17.4219, epoch: 0.3907\n",
      "forcesx_mae: 0.1239, forcesy_mae: 0.1367, forcesz_mae: 0.1602, forces_mae: 0.1403, forces_cos: 0.0522, forces_magnitude: 0.2084, energy_mae: 3.8715, energy_force_within_threshold: 0.0000, loss: 18.2172, epoch: 0.3939\n",
      "forcesx_mae: 0.1139, forcesy_mae: 0.1282, forcesz_mae: 0.1346, forces_mae: 0.1256, forces_cos: 0.0307, forces_magnitude: 0.1769, energy_mae: 3.0615, energy_force_within_threshold: 0.0000, loss: 15.6258, epoch: 0.3971\n",
      "forcesx_mae: 0.1109, forcesy_mae: 0.1316, forcesz_mae: 0.1326, forces_mae: 0.1251, forces_cos: 0.0605, forces_magnitude: 0.1765, energy_mae: 3.4858, energy_force_within_threshold: 0.0000, loss: 15.9220, epoch: 0.4003\n",
      "forcesx_mae: 0.1128, forcesy_mae: 0.1382, forcesz_mae: 0.1427, forces_mae: 0.1312, forces_cos: 0.0657, forces_magnitude: 0.1862, energy_mae: 3.1887, energy_force_within_threshold: 0.0000, loss: 16.3701, epoch: 0.4035\n",
      "forcesx_mae: 0.1107, forcesy_mae: 0.1358, forcesz_mae: 0.1497, forces_mae: 0.1321, forces_cos: 0.0463, forces_magnitude: 0.1912, energy_mae: 3.0801, energy_force_within_threshold: 0.0000, loss: 16.3853, epoch: 0.4067\n",
      "forcesx_mae: 0.1214, forcesy_mae: 0.1422, forcesz_mae: 0.1452, forces_mae: 0.1363, forces_cos: 0.0062, forces_magnitude: 0.1921, energy_mae: 2.9553, energy_force_within_threshold: 0.0000, loss: 16.7144, epoch: 0.4099\n",
      "forcesx_mae: 0.1004, forcesy_mae: 0.1263, forcesz_mae: 0.1372, forces_mae: 0.1213, forces_cos: 0.0220, forces_magnitude: 0.1714, energy_mae: 2.8916, energy_force_within_threshold: 0.0000, loss: 15.0198, epoch: 0.4131\n",
      "forcesx_mae: 0.1198, forcesy_mae: 0.1402, forcesz_mae: 0.1424, forces_mae: 0.1342, forces_cos: 0.0383, forces_magnitude: 0.1886, energy_mae: 3.2056, energy_force_within_threshold: 0.0000, loss: 16.6524, epoch: 0.4163\n",
      "forcesx_mae: 0.1087, forcesy_mae: 0.1365, forcesz_mae: 0.1587, forces_mae: 0.1346, forces_cos: 0.0450, forces_magnitude: 0.1949, energy_mae: 3.4646, energy_force_within_threshold: 0.0000, loss: 16.9623, epoch: 0.4195\n",
      "forcesx_mae: 0.1160, forcesy_mae: 0.1461, forcesz_mae: 0.1466, forces_mae: 0.1363, forces_cos: 0.0318, forces_magnitude: 0.2063, energy_mae: 2.9407, energy_force_within_threshold: 0.0000, loss: 16.5789, epoch: 0.4227\n",
      "forcesx_mae: 0.1176, forcesy_mae: 0.1385, forcesz_mae: 0.1439, forces_mae: 0.1333, forces_cos: 0.0482, forces_magnitude: 0.1943, energy_mae: 2.7112, energy_force_within_threshold: 0.0000, loss: 16.1621, epoch: 0.4259\n",
      "forcesx_mae: 0.1144, forcesy_mae: 0.1500, forcesz_mae: 0.1520, forces_mae: 0.1388, forces_cos: 0.0537, forces_magnitude: 0.2036, energy_mae: 3.0658, energy_force_within_threshold: 0.0000, loss: 16.8988, epoch: 0.4291\n",
      "forcesx_mae: 0.1126, forcesy_mae: 0.1436, forcesz_mae: 0.1519, forces_mae: 0.1360, forces_cos: 0.0595, forces_magnitude: 0.2050, energy_mae: 3.1555, energy_force_within_threshold: 0.0000, loss: 16.6326, epoch: 0.4323\n",
      "forcesx_mae: 0.1161, forcesy_mae: 0.1263, forcesz_mae: 0.1351, forces_mae: 0.1258, forces_cos: 0.0422, forces_magnitude: 0.1785, energy_mae: 3.6010, energy_force_within_threshold: 0.0000, loss: 16.2941, epoch: 0.4355\n",
      "forcesx_mae: 0.1078, forcesy_mae: 0.1348, forcesz_mae: 0.1389, forces_mae: 0.1272, forces_cos: 0.0481, forces_magnitude: 0.1747, energy_mae: 3.1596, energy_force_within_threshold: 0.0000, loss: 15.9073, epoch: 0.4387\n",
      "forcesx_mae: 0.1043, forcesy_mae: 0.1260, forcesz_mae: 0.1335, forces_mae: 0.1213, forces_cos: 0.0421, forces_magnitude: 0.1744, energy_mae: 3.2801, energy_force_within_threshold: 0.0000, loss: 15.4264, epoch: 0.4419\n",
      "forcesx_mae: 0.1353, forcesy_mae: 0.1426, forcesz_mae: 0.1566, forces_mae: 0.1448, forces_cos: 0.0416, forces_magnitude: 0.2166, energy_mae: 3.4325, energy_force_within_threshold: 0.0000, loss: 17.9556, epoch: 0.4451\n",
      "forcesx_mae: 0.0984, forcesy_mae: 0.1160, forcesz_mae: 0.1245, forces_mae: 0.1130, forces_cos: 0.0320, forces_magnitude: 0.1627, energy_mae: 3.3695, energy_force_within_threshold: 0.0000, loss: 14.6529, epoch: 0.4483\n",
      "forcesx_mae: 0.1088, forcesy_mae: 0.1289, forcesz_mae: 0.1321, forces_mae: 0.1233, forces_cos: 0.0227, forces_magnitude: 0.1655, energy_mae: 3.3984, energy_force_within_threshold: 0.0000, loss: 15.7449, epoch: 0.4515\n",
      "forcesx_mae: 0.1230, forcesy_mae: 0.1473, forcesz_mae: 0.1492, forces_mae: 0.1398, forces_cos: 0.0417, forces_magnitude: 0.2057, energy_mae: 3.4354, energy_force_within_threshold: 0.0000, loss: 17.4450, epoch: 0.4547\n",
      "forcesx_mae: 0.1175, forcesy_mae: 0.1293, forcesz_mae: 0.1488, forces_mae: 0.1319, forces_cos: 0.0672, forces_magnitude: 0.1890, energy_mae: 2.8408, energy_force_within_threshold: 0.0000, loss: 16.0725, epoch: 0.4579\n",
      "forcesx_mae: 0.1293, forcesy_mae: 0.1412, forcesz_mae: 0.1565, forces_mae: 0.1424, forces_cos: 0.0419, forces_magnitude: 0.2042, energy_mae: 3.0822, energy_force_within_threshold: 0.0000, loss: 17.4571, epoch: 0.4611\n",
      "forcesx_mae: 0.1191, forcesy_mae: 0.1434, forcesz_mae: 0.1432, forces_mae: 0.1352, forces_cos: 0.0419, forces_magnitude: 0.1818, energy_mae: 3.1817, energy_force_within_threshold: 0.0000, loss: 16.7848, epoch: 0.4643\n",
      "forcesx_mae: 0.1109, forcesy_mae: 0.1390, forcesz_mae: 0.1598, forces_mae: 0.1366, forces_cos: 0.0481, forces_magnitude: 0.2047, energy_mae: 2.9254, energy_force_within_threshold: 0.0000, loss: 16.6266, epoch: 0.4675\n",
      "forcesx_mae: 0.1133, forcesy_mae: 0.1399, forcesz_mae: 0.1419, forces_mae: 0.1317, forces_cos: 0.0307, forces_magnitude: 0.1882, energy_mae: 3.2933, energy_force_within_threshold: 0.0000, loss: 16.4771, epoch: 0.4707\n",
      "forcesx_mae: 0.1107, forcesy_mae: 0.1289, forcesz_mae: 0.1474, forces_mae: 0.1290, forces_cos: 0.0575, forces_magnitude: 0.1803, energy_mae: 3.1611, energy_force_within_threshold: 0.0000, loss: 16.0158, epoch: 0.4739\n",
      "forcesx_mae: 0.1068, forcesy_mae: 0.1235, forcesz_mae: 0.1255, forces_mae: 0.1186, forces_cos: 0.0461, forces_magnitude: 0.1631, energy_mae: 2.8014, energy_force_within_threshold: 0.0000, loss: 14.7416, epoch: 0.4771\n",
      "forcesx_mae: 0.1079, forcesy_mae: 0.1430, forcesz_mae: 0.1415, forces_mae: 0.1308, forces_cos: 0.0431, forces_magnitude: 0.1869, energy_mae: 3.5165, energy_force_within_threshold: 0.0000, loss: 16.5472, epoch: 0.4803\n",
      "forcesx_mae: 0.1061, forcesy_mae: 0.1227, forcesz_mae: 0.1239, forces_mae: 0.1176, forces_cos: 0.0449, forces_magnitude: 0.1612, energy_mae: 3.1118, energy_force_within_threshold: 0.0000, loss: 14.8456, epoch: 0.4835\n"
     ]
    },
    {
     "name": "stdout",
     "output_type": "stream",
     "text": [
      "forcesx_mae: 0.1069, forcesy_mae: 0.1163, forcesz_mae: 0.1190, forces_mae: 0.1141, forces_cos: 0.0367, forces_magnitude: 0.1587, energy_mae: 3.4257, energy_force_within_threshold: 0.0000, loss: 14.8809, epoch: 0.4867\n",
      "forcesx_mae: 0.1068, forcesy_mae: 0.1461, forcesz_mae: 0.1417, forces_mae: 0.1316, forces_cos: 0.0375, forces_magnitude: 0.2006, energy_mae: 3.5625, energy_force_within_threshold: 0.0000, loss: 16.7261, epoch: 0.4899\n",
      "forcesx_mae: 0.0971, forcesy_mae: 0.1192, forcesz_mae: 0.1329, forces_mae: 0.1164, forces_cos: 0.0240, forces_magnitude: 0.1689, energy_mae: 2.8136, energy_force_within_threshold: 0.0000, loss: 14.4461, epoch: 0.4931\n",
      "forcesx_mae: 0.1010, forcesy_mae: 0.1302, forcesz_mae: 0.1387, forces_mae: 0.1233, forces_cos: 0.0503, forces_magnitude: 0.1742, energy_mae: 3.0475, energy_force_within_threshold: 0.0000, loss: 15.4902, epoch: 0.4963\n",
      "forcesx_mae: 0.1098, forcesy_mae: 0.1340, forcesz_mae: 0.1413, forces_mae: 0.1284, forces_cos: 0.0480, forces_magnitude: 0.1877, energy_mae: 3.0035, energy_force_within_threshold: 0.0000, loss: 15.8574, epoch: 0.4995\n",
      "forcesx_mae: 0.1069, forcesy_mae: 0.1432, forcesz_mae: 0.1424, forces_mae: 0.1308, forces_cos: 0.0567, forces_magnitude: 0.1865, energy_mae: 3.1798, energy_force_within_threshold: 0.0000, loss: 16.3600, epoch: 0.5027\n",
      "forcesx_mae: 0.1255, forcesy_mae: 0.1472, forcesz_mae: 0.1578, forces_mae: 0.1435, forces_cos: 0.0447, forces_magnitude: 0.2152, energy_mae: 3.1108, energy_force_within_threshold: 0.0000, loss: 17.5594, epoch: 0.5059\n",
      "forcesx_mae: 0.1052, forcesy_mae: 0.1231, forcesz_mae: 0.1279, forces_mae: 0.1187, forces_cos: 0.0353, forces_magnitude: 0.1719, energy_mae: 2.8062, energy_force_within_threshold: 0.0000, loss: 14.6307, epoch: 0.5091\n",
      "forcesx_mae: 0.0967, forcesy_mae: 0.1140, forcesz_mae: 0.1146, forces_mae: 0.1084, forces_cos: 0.0289, forces_magnitude: 0.1527, energy_mae: 3.1077, energy_force_within_threshold: 0.0000, loss: 14.0046, epoch: 0.5123\n",
      "forcesx_mae: 0.1032, forcesy_mae: 0.1351, forcesz_mae: 0.1555, forces_mae: 0.1313, forces_cos: 0.0589, forces_magnitude: 0.1982, energy_mae: 3.1632, energy_force_within_threshold: 0.0000, loss: 16.3685, epoch: 0.5155\n",
      "forcesx_mae: 0.0999, forcesy_mae: 0.1123, forcesz_mae: 0.1204, forces_mae: 0.1109, forces_cos: 0.0313, forces_magnitude: 0.1489, energy_mae: 3.2162, energy_force_within_threshold: 0.0000, loss: 14.2122, epoch: 0.5187\n",
      "forcesx_mae: 0.0916, forcesy_mae: 0.1079, forcesz_mae: 0.1110, forces_mae: 0.1035, forces_cos: 0.0513, forces_magnitude: 0.1442, energy_mae: 2.6152, energy_force_within_threshold: 0.0000, loss: 13.0143, epoch: 0.5219\n",
      "forcesx_mae: 0.1216, forcesy_mae: 0.1457, forcesz_mae: 0.1309, forces_mae: 0.1327, forces_cos: 0.0408, forces_magnitude: 0.1960, energy_mae: 3.5894, energy_force_within_threshold: 0.0000, loss: 16.8540, epoch: 0.5251\n",
      "forcesx_mae: 0.0914, forcesy_mae: 0.1269, forcesz_mae: 0.1313, forces_mae: 0.1165, forces_cos: 0.0323, forces_magnitude: 0.1729, energy_mae: 3.1069, energy_force_within_threshold: 0.0000, loss: 14.7482, epoch: 0.5283\n",
      "forcesx_mae: 0.1206, forcesy_mae: 0.1353, forcesz_mae: 0.1466, forces_mae: 0.1341, forces_cos: 0.0468, forces_magnitude: 0.1888, energy_mae: 3.4029, energy_force_within_threshold: 0.0000, loss: 17.0155, epoch: 0.5315\n",
      "forcesx_mae: 0.1039, forcesy_mae: 0.1223, forcesz_mae: 0.1297, forces_mae: 0.1186, forces_cos: 0.0229, forces_magnitude: 0.1639, energy_mae: 3.2543, energy_force_within_threshold: 0.0000, loss: 15.2248, epoch: 0.5347\n",
      "forcesx_mae: 0.1110, forcesy_mae: 0.1347, forcesz_mae: 0.1398, forces_mae: 0.1285, forces_cos: 0.0556, forces_magnitude: 0.1794, energy_mae: 3.2955, energy_force_within_threshold: 0.0000, loss: 16.1705, epoch: 0.5379\n",
      "forcesx_mae: 0.0995, forcesy_mae: 0.1203, forcesz_mae: 0.1256, forces_mae: 0.1151, forces_cos: 0.0555, forces_magnitude: 0.1605, energy_mae: 3.5197, energy_force_within_threshold: 0.0000, loss: 14.9312, epoch: 0.5411\n",
      "forcesx_mae: 0.1181, forcesy_mae: 0.1379, forcesz_mae: 0.1516, forces_mae: 0.1359, forces_cos: 0.0406, forces_magnitude: 0.1890, energy_mae: 3.1847, energy_force_within_threshold: 0.0000, loss: 16.7051, epoch: 0.5443\n",
      "forcesx_mae: 0.1029, forcesy_mae: 0.1182, forcesz_mae: 0.1257, forces_mae: 0.1156, forces_cos: 0.0252, forces_magnitude: 0.1641, energy_mae: 2.7884, energy_force_within_threshold: 0.0000, loss: 14.3308, epoch: 0.5475\n",
      "forcesx_mae: 0.0956, forcesy_mae: 0.1217, forcesz_mae: 0.1250, forces_mae: 0.1141, forces_cos: 0.0360, forces_magnitude: 0.1568, energy_mae: 2.7417, energy_force_within_threshold: 0.0000, loss: 14.2331, epoch: 0.5507\n",
      "forcesx_mae: 0.1006, forcesy_mae: 0.1403, forcesz_mae: 0.1249, forces_mae: 0.1219, forces_cos: 0.0218, forces_magnitude: 0.1790, energy_mae: 2.7632, energy_force_within_threshold: 0.0000, loss: 14.7910, epoch: 0.5539\n",
      "forcesx_mae: 0.1059, forcesy_mae: 0.1265, forcesz_mae: 0.1573, forces_mae: 0.1299, forces_cos: 0.0431, forces_magnitude: 0.1916, energy_mae: 2.8039, energy_force_within_threshold: 0.0000, loss: 15.8062, epoch: 0.5571\n",
      "forcesx_mae: 0.1127, forcesy_mae: 0.1289, forcesz_mae: 0.1425, forces_mae: 0.1280, forces_cos: 0.0306, forces_magnitude: 0.1892, energy_mae: 3.3526, energy_force_within_threshold: 0.0000, loss: 16.1538, epoch: 0.5603\n",
      "forcesx_mae: 0.0972, forcesy_mae: 0.1112, forcesz_mae: 0.1296, forces_mae: 0.1126, forces_cos: 0.0585, forces_magnitude: 0.1680, energy_mae: 3.1471, energy_force_within_threshold: 0.0000, loss: 14.3874, epoch: 0.5635\n",
      "forcesx_mae: 0.1143, forcesy_mae: 0.1575, forcesz_mae: 0.1573, forces_mae: 0.1430, forces_cos: 0.0383, forces_magnitude: 0.2161, energy_mae: 3.0892, energy_force_within_threshold: 0.0000, loss: 17.2053, epoch: 0.5667\n",
      "forcesx_mae: 0.0975, forcesy_mae: 0.1078, forcesz_mae: 0.1104, forces_mae: 0.1052, forces_cos: 0.0346, forces_magnitude: 0.1369, energy_mae: 2.9299, energy_force_within_threshold: 0.0000, loss: 13.4698, epoch: 0.5699\n",
      "forcesx_mae: 0.1063, forcesy_mae: 0.1320, forcesz_mae: 0.1537, forces_mae: 0.1307, forces_cos: 0.0753, forces_magnitude: 0.1972, energy_mae: 2.9246, energy_force_within_threshold: 0.0000, loss: 15.9458, epoch: 0.5731\n",
      "forcesx_mae: 0.0974, forcesy_mae: 0.1249, forcesz_mae: 0.1291, forces_mae: 0.1171, forces_cos: 0.0647, forces_magnitude: 0.1645, energy_mae: 2.8837, energy_force_within_threshold: 0.0000, loss: 14.5584, epoch: 0.5763\n",
      "forcesx_mae: 0.0993, forcesy_mae: 0.1213, forcesz_mae: 0.1284, forces_mae: 0.1163, forces_cos: 0.0495, forces_magnitude: 0.1667, energy_mae: 2.8682, energy_force_within_threshold: 0.0000, loss: 14.4007, epoch: 0.5795\n",
      "forcesx_mae: 0.0949, forcesy_mae: 0.1159, forcesz_mae: 0.1160, forces_mae: 0.1089, forces_cos: 0.0410, forces_magnitude: 0.1512, energy_mae: 2.5993, energy_force_within_threshold: 0.0000, loss: 13.5223, epoch: 0.5827\n",
      "forcesx_mae: 0.0922, forcesy_mae: 0.1076, forcesz_mae: 0.1118, forces_mae: 0.1038, forces_cos: 0.0329, forces_magnitude: 0.1452, energy_mae: 2.8545, energy_force_within_threshold: 0.0000, loss: 13.2681, epoch: 0.5859\n",
      "forcesx_mae: 0.1052, forcesy_mae: 0.1176, forcesz_mae: 0.1326, forces_mae: 0.1185, forces_cos: 0.0521, forces_magnitude: 0.1634, energy_mae: 2.6158, energy_force_within_threshold: 0.0000, loss: 14.4447, epoch: 0.5891\n",
      "forcesx_mae: 0.1047, forcesy_mae: 0.1215, forcesz_mae: 0.1363, forces_mae: 0.1208, forces_cos: 0.0471, forces_magnitude: 0.1770, energy_mae: 2.9117, energy_force_within_threshold: 0.0000, loss: 15.0281, epoch: 0.5923\n",
      "forcesx_mae: 0.0997, forcesy_mae: 0.1306, forcesz_mae: 0.1315, forces_mae: 0.1206, forces_cos: 0.0500, forces_magnitude: 0.1709, energy_mae: 2.7942, energy_force_within_threshold: 0.0000, loss: 14.7456, epoch: 0.5955\n",
      "forcesx_mae: 0.1165, forcesy_mae: 0.1430, forcesz_mae: 0.1428, forces_mae: 0.1341, forces_cos: 0.0388, forces_magnitude: 0.2004, energy_mae: 3.4776, energy_force_within_threshold: 0.0000, loss: 16.9290, epoch: 0.5987\n",
      "forcesx_mae: 0.0987, forcesy_mae: 0.1185, forcesz_mae: 0.1253, forces_mae: 0.1142, forces_cos: 0.0423, forces_magnitude: 0.1556, energy_mae: 3.7201, energy_force_within_threshold: 0.0000, loss: 15.0974, epoch: 0.6019\n",
      "forcesx_mae: 0.0914, forcesy_mae: 0.1073, forcesz_mae: 0.1073, forces_mae: 0.1020, forces_cos: 0.0393, forces_magnitude: 0.1407, energy_mae: 2.9385, energy_force_within_threshold: 0.0000, loss: 13.1872, epoch: 0.6051\n"
     ]
    },
    {
     "name": "stdout",
     "output_type": "stream",
     "text": [
      "forcesx_mae: 0.1106, forcesy_mae: 0.1484, forcesz_mae: 0.1428, forces_mae: 0.1340, forces_cos: 0.0514, forces_magnitude: 0.1936, energy_mae: 3.0096, energy_force_within_threshold: 0.0000, loss: 16.3005, epoch: 0.6083\n",
      "forcesx_mae: 0.0845, forcesy_mae: 0.1040, forcesz_mae: 0.1102, forces_mae: 0.0996, forces_cos: 0.0373, forces_magnitude: 0.1400, energy_mae: 3.1089, energy_force_within_threshold: 0.0000, loss: 13.0339, epoch: 0.6115\n",
      "forcesx_mae: 0.1051, forcesy_mae: 0.1203, forcesz_mae: 0.1342, forces_mae: 0.1199, forces_cos: 0.0336, forces_magnitude: 0.1762, energy_mae: 3.4943, energy_force_within_threshold: 0.0000, loss: 15.4412, epoch: 0.6147\n",
      "forcesx_mae: 0.0999, forcesy_mae: 0.1182, forcesz_mae: 0.1298, forces_mae: 0.1160, forces_cos: 0.0763, forces_magnitude: 0.1685, energy_mae: 3.3816, energy_force_within_threshold: 0.0000, loss: 14.9078, epoch: 0.6179\n",
      "forcesx_mae: 0.0994, forcesy_mae: 0.1274, forcesz_mae: 0.1265, forces_mae: 0.1178, forces_cos: 0.0459, forces_magnitude: 0.1759, energy_mae: 3.0957, energy_force_within_threshold: 0.0000, loss: 14.8694, epoch: 0.6211\n",
      "forcesx_mae: 0.1053, forcesy_mae: 0.1229, forcesz_mae: 0.1388, forces_mae: 0.1223, forces_cos: 0.0471, forces_magnitude: 0.1735, energy_mae: 3.2667, energy_force_within_threshold: 0.0000, loss: 15.6829, epoch: 0.6243\n",
      "forcesx_mae: 0.0940, forcesy_mae: 0.1068, forcesz_mae: 0.1108, forces_mae: 0.1039, forces_cos: 0.0457, forces_magnitude: 0.1429, energy_mae: 3.0661, energy_force_within_threshold: 0.0000, loss: 13.5586, epoch: 0.6275\n",
      "forcesx_mae: 0.0988, forcesy_mae: 0.1259, forcesz_mae: 0.1253, forces_mae: 0.1167, forces_cos: 0.0235, forces_magnitude: 0.1646, energy_mae: 2.7129, energy_force_within_threshold: 0.0000, loss: 14.3752, epoch: 0.6307\n",
      "forcesx_mae: 0.0997, forcesy_mae: 0.1255, forcesz_mae: 0.1241, forces_mae: 0.1164, forces_cos: 0.0259, forces_magnitude: 0.1711, energy_mae: 3.2594, energy_force_within_threshold: 0.0000, loss: 14.9474, epoch: 0.6339\n",
      "forcesx_mae: 0.0967, forcesy_mae: 0.1114, forcesz_mae: 0.1371, forces_mae: 0.1151, forces_cos: 0.0575, forces_magnitude: 0.1679, energy_mae: 3.3980, energy_force_within_threshold: 0.0000, loss: 14.9972, epoch: 0.6371\n",
      "forcesx_mae: 0.0979, forcesy_mae: 0.1216, forcesz_mae: 0.1266, forces_mae: 0.1154, forces_cos: 0.0597, forces_magnitude: 0.1679, energy_mae: 3.2395, energy_force_within_threshold: 0.0000, loss: 14.7920, epoch: 0.6403\n",
      "forcesx_mae: 0.1078, forcesy_mae: 0.1293, forcesz_mae: 0.1401, forces_mae: 0.1257, forces_cos: 0.0429, forces_magnitude: 0.1825, energy_mae: 3.3747, energy_force_within_threshold: 0.0000, loss: 16.2950, epoch: 0.6435\n",
      "forcesx_mae: 0.1229, forcesy_mae: 0.1527, forcesz_mae: 0.1682, forces_mae: 0.1479, forces_cos: 0.0666, forces_magnitude: 0.2203, energy_mae: 3.4856, energy_force_within_threshold: 0.0000, loss: 18.2220, epoch: 0.6467\n",
      "forcesx_mae: 0.0994, forcesy_mae: 0.1344, forcesz_mae: 0.1293, forces_mae: 0.1210, forces_cos: 0.0577, forces_magnitude: 0.1780, energy_mae: 2.9536, energy_force_within_threshold: 0.0000, loss: 15.0650, epoch: 0.6499\n",
      "forcesx_mae: 0.1231, forcesy_mae: 0.1243, forcesz_mae: 0.1677, forces_mae: 0.1384, forces_cos: 0.0398, forces_magnitude: 0.2091, energy_mae: 3.0162, energy_force_within_threshold: 0.0000, loss: 16.8566, epoch: 0.6531\n",
      "forcesx_mae: 0.1076, forcesy_mae: 0.1273, forcesz_mae: 0.1397, forces_mae: 0.1249, forces_cos: 0.0573, forces_magnitude: 0.1931, energy_mae: 3.0797, energy_force_within_threshold: 0.0000, loss: 15.7257, epoch: 0.6563\n",
      "forcesx_mae: 0.0995, forcesy_mae: 0.1404, forcesz_mae: 0.1702, forces_mae: 0.1367, forces_cos: 0.0515, forces_magnitude: 0.2096, energy_mae: 2.5384, energy_force_within_threshold: 0.0000, loss: 16.2736, epoch: 0.6595\n",
      "forcesx_mae: 0.1069, forcesy_mae: 0.1314, forcesz_mae: 0.1388, forces_mae: 0.1257, forces_cos: 0.0454, forces_magnitude: 0.1798, energy_mae: 3.2266, energy_force_within_threshold: 0.0000, loss: 15.9346, epoch: 0.6627\n",
      "forcesx_mae: 0.0995, forcesy_mae: 0.1122, forcesz_mae: 0.1300, forces_mae: 0.1139, forces_cos: 0.0520, forces_magnitude: 0.1653, energy_mae: 4.1540, energy_force_within_threshold: 0.0000, loss: 15.6080, epoch: 0.6659\n",
      "forcesx_mae: 0.0868, forcesy_mae: 0.1076, forcesz_mae: 0.1135, forces_mae: 0.1026, forces_cos: 0.0373, forces_magnitude: 0.1421, energy_mae: 3.2113, energy_force_within_threshold: 0.0000, loss: 13.4520, epoch: 0.6691\n",
      "forcesx_mae: 0.0854, forcesy_mae: 0.1037, forcesz_mae: 0.1086, forces_mae: 0.0993, forces_cos: 0.0742, forces_magnitude: 0.1386, energy_mae: 3.0438, energy_force_within_threshold: 0.0000, loss: 12.9682, epoch: 0.6723\n",
      "forcesx_mae: 0.1106, forcesy_mae: 0.1251, forcesz_mae: 0.1373, forces_mae: 0.1243, forces_cos: 0.0676, forces_magnitude: 0.1861, energy_mae: 3.0998, energy_force_within_threshold: 0.0000, loss: 15.6098, epoch: 0.6755\n",
      "forcesx_mae: 0.0870, forcesy_mae: 0.1020, forcesz_mae: 0.1062, forces_mae: 0.0984, forces_cos: 0.0481, forces_magnitude: 0.1350, energy_mae: 2.7569, energy_force_within_threshold: 0.0000, loss: 12.6359, epoch: 0.6787\n",
      "forcesx_mae: 0.1116, forcesy_mae: 0.1409, forcesz_mae: 0.1538, forces_mae: 0.1354, forces_cos: 0.0466, forces_magnitude: 0.1977, energy_mae: 3.3113, energy_force_within_threshold: 0.0000, loss: 16.7826, epoch: 0.6819\n",
      "forcesx_mae: 0.0897, forcesy_mae: 0.1114, forcesz_mae: 0.1166, forces_mae: 0.1059, forces_cos: 0.0370, forces_magnitude: 0.1550, energy_mae: 3.2126, energy_force_within_threshold: 0.0000, loss: 13.7792, epoch: 0.6851\n",
      "forcesx_mae: 0.0923, forcesy_mae: 0.1144, forcesz_mae: 0.1237, forces_mae: 0.1101, forces_cos: 0.0630, forces_magnitude: 0.1594, energy_mae: 3.4133, energy_force_within_threshold: 0.0000, loss: 14.4371, epoch: 0.6883\n",
      "forcesx_mae: 0.0855, forcesy_mae: 0.1051, forcesz_mae: 0.1078, forces_mae: 0.0994, forces_cos: 0.0490, forces_magnitude: 0.1396, energy_mae: 3.7750, energy_force_within_threshold: 0.0000, loss: 13.7724, epoch: 0.6915\n",
      "forcesx_mae: 0.0894, forcesy_mae: 0.1133, forcesz_mae: 0.1215, forces_mae: 0.1081, forces_cos: 0.0361, forces_magnitude: 0.1559, energy_mae: 3.8369, energy_force_within_threshold: 0.0000, loss: 14.7819, epoch: 0.6947\n",
      "forcesx_mae: 0.0994, forcesy_mae: 0.1220, forcesz_mae: 0.1271, forces_mae: 0.1162, forces_cos: 0.0482, forces_magnitude: 0.1692, energy_mae: 3.2269, energy_force_within_threshold: 0.0000, loss: 14.7883, epoch: 0.6979\n",
      "forcesx_mae: 0.0973, forcesy_mae: 0.1097, forcesz_mae: 0.1215, forces_mae: 0.1095, forces_cos: 0.0488, forces_magnitude: 0.1544, energy_mae: 3.7587, energy_force_within_threshold: 0.0000, loss: 14.6605, epoch: 0.7011\n",
      "forcesx_mae: 0.0924, forcesy_mae: 0.1050, forcesz_mae: 0.1112, forces_mae: 0.1028, forces_cos: 0.0403, forces_magnitude: 0.1464, energy_mae: 2.9083, energy_force_within_threshold: 0.0000, loss: 13.2356, epoch: 0.7043\n",
      "forcesx_mae: 0.1011, forcesy_mae: 0.1309, forcesz_mae: 0.1364, forces_mae: 0.1228, forces_cos: 0.0628, forces_magnitude: 0.1820, energy_mae: 3.2318, energy_force_within_threshold: 0.0000, loss: 15.3746, epoch: 0.7075\n",
      "forcesx_mae: 0.1295, forcesy_mae: 0.1516, forcesz_mae: 0.1870, forces_mae: 0.1560, forces_cos: 0.0526, forces_magnitude: 0.2488, energy_mae: 3.5809, energy_force_within_threshold: 0.0000, loss: 19.5117, epoch: 0.7107\n",
      "forcesx_mae: 0.1078, forcesy_mae: 0.1347, forcesz_mae: 0.1400, forces_mae: 0.1275, forces_cos: 0.0378, forces_magnitude: 0.1886, energy_mae: 3.1809, energy_force_within_threshold: 0.0000, loss: 16.0444, epoch: 0.7139\n",
      "forcesx_mae: 0.1042, forcesy_mae: 0.1306, forcesz_mae: 0.1335, forces_mae: 0.1228, forces_cos: 0.0455, forces_magnitude: 0.1794, energy_mae: 3.4588, energy_force_within_threshold: 0.0000, loss: 15.7881, epoch: 0.7171\n",
      "forcesx_mae: 0.0969, forcesy_mae: 0.1096, forcesz_mae: 0.1203, forces_mae: 0.1089, forces_cos: 0.0467, forces_magnitude: 0.1562, energy_mae: 3.0580, energy_force_within_threshold: 0.0000, loss: 14.0244, epoch: 0.7203\n",
      "forcesx_mae: 0.0959, forcesy_mae: 0.1104, forcesz_mae: 0.1150, forces_mae: 0.1071, forces_cos: 0.0468, forces_magnitude: 0.1512, energy_mae: 2.8325, energy_force_within_threshold: 0.0000, loss: 13.5370, epoch: 0.7235\n",
      "forcesx_mae: 0.1000, forcesy_mae: 0.1173, forcesz_mae: 0.1218, forces_mae: 0.1131, forces_cos: 0.0615, forces_magnitude: 0.1616, energy_mae: 3.4025, energy_force_within_threshold: 0.0000, loss: 14.7990, epoch: 0.7267\n"
     ]
    },
    {
     "name": "stdout",
     "output_type": "stream",
     "text": [
      "forcesx_mae: 0.0885, forcesy_mae: 0.0954, forcesz_mae: 0.0963, forces_mae: 0.0934, forces_cos: 0.0425, forces_magnitude: 0.1254, energy_mae: 2.9841, energy_force_within_threshold: 0.0000, loss: 12.3427, epoch: 0.7299\n",
      "forcesx_mae: 0.1132, forcesy_mae: 0.1279, forcesz_mae: 0.1598, forces_mae: 0.1336, forces_cos: 0.0574, forces_magnitude: 0.2056, energy_mae: 3.6703, energy_force_within_threshold: 0.0000, loss: 17.1168, epoch: 0.7331\n",
      "forcesx_mae: 0.0969, forcesy_mae: 0.1117, forcesz_mae: 0.1281, forces_mae: 0.1123, forces_cos: 0.0467, forces_magnitude: 0.1594, energy_mae: 3.2045, energy_force_within_threshold: 0.0000, loss: 14.4537, epoch: 0.7363\n",
      "forcesx_mae: 0.0985, forcesy_mae: 0.1093, forcesz_mae: 0.1228, forces_mae: 0.1102, forces_cos: 0.0337, forces_magnitude: 0.1560, energy_mae: 3.3397, energy_force_within_threshold: 0.0000, loss: 14.2750, epoch: 0.7395\n",
      "forcesx_mae: 0.0891, forcesy_mae: 0.1040, forcesz_mae: 0.0997, forces_mae: 0.0976, forces_cos: 0.0513, forces_magnitude: 0.1336, energy_mae: 2.9988, energy_force_within_threshold: 0.0000, loss: 12.9791, epoch: 0.7427\n",
      "forcesx_mae: 0.1024, forcesy_mae: 0.1262, forcesz_mae: 0.1282, forces_mae: 0.1189, forces_cos: 0.0465, forces_magnitude: 0.1696, energy_mae: 3.3488, energy_force_within_threshold: 0.0000, loss: 15.2575, epoch: 0.7459\n",
      "forcesx_mae: 0.0828, forcesy_mae: 0.1035, forcesz_mae: 0.1053, forces_mae: 0.0972, forces_cos: 0.0855, forces_magnitude: 0.1320, energy_mae: 2.8559, energy_force_within_threshold: 0.0000, loss: 12.5528, epoch: 0.7491\n",
      "forcesx_mae: 0.0870, forcesy_mae: 0.1180, forcesz_mae: 0.1128, forces_mae: 0.1059, forces_cos: 0.0612, forces_magnitude: 0.1508, energy_mae: 3.1105, energy_force_within_threshold: 0.0000, loss: 13.8093, epoch: 0.7523\n",
      "forcesx_mae: 0.1036, forcesy_mae: 0.1190, forcesz_mae: 0.1265, forces_mae: 0.1164, forces_cos: 0.0400, forces_magnitude: 0.1725, energy_mae: 3.4147, energy_force_within_threshold: 0.0000, loss: 15.4136, epoch: 0.7555\n",
      "forcesx_mae: 0.0942, forcesy_mae: 0.1134, forcesz_mae: 0.1248, forces_mae: 0.1108, forces_cos: 0.0550, forces_magnitude: 0.1547, energy_mae: 2.5648, energy_force_within_threshold: 0.0000, loss: 13.6460, epoch: 0.7587\n",
      "forcesx_mae: 0.1091, forcesy_mae: 0.1199, forcesz_mae: 0.1147, forces_mae: 0.1146, forces_cos: 0.0462, forces_magnitude: 0.1682, energy_mae: 3.2770, energy_force_within_threshold: 0.0000, loss: 15.0162, epoch: 0.7619\n",
      "forcesx_mae: 0.0929, forcesy_mae: 0.1067, forcesz_mae: 0.1184, forces_mae: 0.1060, forces_cos: 0.0421, forces_magnitude: 0.1464, energy_mae: 3.6301, energy_force_within_threshold: 0.0000, loss: 14.2656, epoch: 0.7651\n",
      "forcesx_mae: 0.0962, forcesy_mae: 0.1159, forcesz_mae: 0.1189, forces_mae: 0.1103, forces_cos: 0.0429, forces_magnitude: 0.1609, energy_mae: 2.8892, energy_force_within_threshold: 0.0000, loss: 13.8949, epoch: 0.7683\n",
      "forcesx_mae: 0.0817, forcesy_mae: 0.0917, forcesz_mae: 0.1000, forces_mae: 0.0911, forces_cos: 0.0393, forces_magnitude: 0.1245, energy_mae: 3.4213, energy_force_within_threshold: 0.0000, loss: 12.6796, epoch: 0.7715\n",
      "forcesx_mae: 0.0898, forcesy_mae: 0.1173, forcesz_mae: 0.1134, forces_mae: 0.1068, forces_cos: 0.0405, forces_magnitude: 0.1562, energy_mae: 3.0266, energy_force_within_threshold: 0.0000, loss: 13.7539, epoch: 0.7747\n",
      "forcesx_mae: 0.1019, forcesy_mae: 0.1228, forcesz_mae: 0.1265, forces_mae: 0.1171, forces_cos: 0.0555, forces_magnitude: 0.1763, energy_mae: 3.0387, energy_force_within_threshold: 0.0000, loss: 14.8157, epoch: 0.7779\n",
      "forcesx_mae: 0.0864, forcesy_mae: 0.0980, forcesz_mae: 0.1070, forces_mae: 0.0972, forces_cos: 0.0561, forces_magnitude: 0.1323, energy_mae: 3.0651, energy_force_within_threshold: 0.0000, loss: 12.7148, epoch: 0.7811\n",
      "forcesx_mae: 0.0913, forcesy_mae: 0.1297, forcesz_mae: 0.1243, forces_mae: 0.1151, forces_cos: 0.0473, forces_magnitude: 0.1692, energy_mae: 2.8668, energy_force_within_threshold: 0.0000, loss: 14.4382, epoch: 0.7843\n",
      "forcesx_mae: 0.1097, forcesy_mae: 0.1270, forcesz_mae: 0.1403, forces_mae: 0.1257, forces_cos: 0.0314, forces_magnitude: 0.1831, energy_mae: 2.8903, energy_force_within_threshold: 0.0000, loss: 15.4181, epoch: 0.7875\n",
      "forcesx_mae: 0.1075, forcesy_mae: 0.1262, forcesz_mae: 0.1363, forces_mae: 0.1233, forces_cos: 0.0292, forces_magnitude: 0.1869, energy_mae: 3.0512, energy_force_within_threshold: 0.0000, loss: 15.5256, epoch: 0.7907\n",
      "forcesx_mae: 0.0953, forcesy_mae: 0.1042, forcesz_mae: 0.1187, forces_mae: 0.1060, forces_cos: 0.0399, forces_magnitude: 0.1514, energy_mae: 2.8755, energy_force_within_threshold: 0.0000, loss: 13.3619, epoch: 0.7939\n",
      "forcesx_mae: 0.0952, forcesy_mae: 0.1124, forcesz_mae: 0.1212, forces_mae: 0.1096, forces_cos: 0.0570, forces_magnitude: 0.1618, energy_mae: 3.1156, energy_force_within_threshold: 0.0000, loss: 14.2472, epoch: 0.7971\n",
      "forcesx_mae: 0.0920, forcesy_mae: 0.1041, forcesz_mae: 0.1184, forces_mae: 0.1048, forces_cos: 0.0726, forces_magnitude: 0.1498, energy_mae: 3.0115, energy_force_within_threshold: 0.0000, loss: 13.3898, epoch: 0.8003\n",
      "forcesx_mae: 0.0905, forcesy_mae: 0.1473, forcesz_mae: 0.1309, forces_mae: 0.1229, forces_cos: 0.0576, forces_magnitude: 0.1926, energy_mae: 2.9763, energy_force_within_threshold: 0.0000, loss: 15.4083, epoch: 0.8035\n",
      "forcesx_mae: 0.1002, forcesy_mae: 0.1228, forcesz_mae: 0.1253, forces_mae: 0.1161, forces_cos: 0.0375, forces_magnitude: 0.1704, energy_mae: 3.3607, energy_force_within_threshold: 0.0000, loss: 14.9581, epoch: 0.8067\n",
      "forcesx_mae: 0.0865, forcesy_mae: 0.1092, forcesz_mae: 0.1150, forces_mae: 0.1036, forces_cos: 0.0693, forces_magnitude: 0.1506, energy_mae: 2.7887, energy_force_within_threshold: 0.0000, loss: 13.1488, epoch: 0.8099\n",
      "forcesx_mae: 0.1034, forcesy_mae: 0.1452, forcesz_mae: 0.1275, forces_mae: 0.1254, forces_cos: 0.0348, forces_magnitude: 0.1952, energy_mae: 3.7913, energy_force_within_threshold: 0.0000, loss: 16.5481, epoch: 0.8131\n",
      "forcesx_mae: 0.0883, forcesy_mae: 0.1044, forcesz_mae: 0.1060, forces_mae: 0.0996, forces_cos: 0.0478, forces_magnitude: 0.1381, energy_mae: 3.0149, energy_force_within_threshold: 0.0000, loss: 12.9856, epoch: 0.8163\n",
      "forcesx_mae: 0.0873, forcesy_mae: 0.1089, forcesz_mae: 0.1115, forces_mae: 0.1026, forces_cos: 0.0620, forces_magnitude: 0.1430, energy_mae: 2.9056, energy_force_within_threshold: 0.0000, loss: 13.1874, epoch: 0.8195\n",
      "forcesx_mae: 0.0915, forcesy_mae: 0.1023, forcesz_mae: 0.1115, forces_mae: 0.1018, forces_cos: 0.0562, forces_magnitude: 0.1450, energy_mae: 3.0814, energy_force_within_threshold: 0.0000, loss: 13.3026, epoch: 0.8227\n",
      "forcesx_mae: 0.1087, forcesy_mae: 0.1194, forcesz_mae: 0.1337, forces_mae: 0.1206, forces_cos: 0.0534, forces_magnitude: 0.1839, energy_mae: 2.9297, energy_force_within_threshold: 0.0000, loss: 15.0362, epoch: 0.8259\n",
      "forcesx_mae: 0.0806, forcesy_mae: 0.1053, forcesz_mae: 0.1099, forces_mae: 0.0986, forces_cos: 0.0630, forces_magnitude: 0.1409, energy_mae: 3.2014, energy_force_within_threshold: 0.0000, loss: 13.0442, epoch: 0.8291\n",
      "forcesx_mae: 0.0946, forcesy_mae: 0.1240, forcesz_mae: 0.1251, forces_mae: 0.1145, forces_cos: 0.0713, forces_magnitude: 0.1746, energy_mae: 2.8593, energy_force_within_threshold: 0.0000, loss: 14.3004, epoch: 0.8323\n",
      "forcesx_mae: 0.0819, forcesy_mae: 0.1011, forcesz_mae: 0.0957, forces_mae: 0.0929, forces_cos: 0.0420, forces_magnitude: 0.1279, energy_mae: 3.1239, energy_force_within_threshold: 0.0000, loss: 12.4193, epoch: 0.8355\n",
      "forcesx_mae: 0.0902, forcesy_mae: 0.1095, forcesz_mae: 0.1218, forces_mae: 0.1072, forces_cos: 0.0546, forces_magnitude: 0.1625, energy_mae: 2.7772, energy_force_within_threshold: 0.0000, loss: 13.3628, epoch: 0.8387\n",
      "forcesx_mae: 0.0967, forcesy_mae: 0.1067, forcesz_mae: 0.1155, forces_mae: 0.1063, forces_cos: 0.0388, forces_magnitude: 0.1475, energy_mae: 3.2505, energy_force_within_threshold: 0.0000, loss: 14.0015, epoch: 0.8419\n",
      "forcesx_mae: 0.0894, forcesy_mae: 0.1071, forcesz_mae: 0.1123, forces_mae: 0.1029, forces_cos: 0.0400, forces_magnitude: 0.1523, energy_mae: 2.9671, energy_force_within_threshold: 0.0000, loss: 13.3660, epoch: 0.8451\n",
      "forcesx_mae: 0.1143, forcesy_mae: 0.1500, forcesz_mae: 0.1782, forces_mae: 0.1475, forces_cos: 0.0403, forces_magnitude: 0.2383, energy_mae: 3.1123, energy_force_within_threshold: 0.0000, loss: 17.9068, epoch: 0.8483\n"
     ]
    },
    {
     "name": "stdout",
     "output_type": "stream",
     "text": [
      "forcesx_mae: 0.0878, forcesy_mae: 0.1075, forcesz_mae: 0.1112, forces_mae: 0.1022, forces_cos: 0.0537, forces_magnitude: 0.1420, energy_mae: 2.7665, energy_force_within_threshold: 0.0000, loss: 13.0340, epoch: 0.8515\n",
      "forcesx_mae: 0.0804, forcesy_mae: 0.1101, forcesz_mae: 0.1121, forces_mae: 0.1008, forces_cos: 0.0526, forces_magnitude: 0.1497, energy_mae: 3.0201, energy_force_within_threshold: 0.0000, loss: 13.0701, epoch: 0.8547\n",
      "forcesx_mae: 0.1130, forcesy_mae: 0.1454, forcesz_mae: 0.1515, forces_mae: 0.1366, forces_cos: 0.0413, forces_magnitude: 0.2134, energy_mae: 3.7423, energy_force_within_threshold: 0.0000, loss: 17.4133, epoch: 0.8579\n",
      "forcesx_mae: 0.1162, forcesy_mae: 0.1405, forcesz_mae: 0.1485, forces_mae: 0.1351, forces_cos: 0.0717, forces_magnitude: 0.2054, energy_mae: 3.0387, energy_force_within_threshold: 0.0000, loss: 16.6642, epoch: 0.8611\n",
      "forcesx_mae: 0.0963, forcesy_mae: 0.1400, forcesz_mae: 0.1270, forces_mae: 0.1211, forces_cos: 0.0444, forces_magnitude: 0.1858, energy_mae: 2.6469, energy_force_within_threshold: 0.0000, loss: 14.7057, epoch: 0.8643\n",
      "forcesx_mae: 0.0832, forcesy_mae: 0.0924, forcesz_mae: 0.1030, forces_mae: 0.0929, forces_cos: 0.0772, forces_magnitude: 0.1344, energy_mae: 3.0885, energy_force_within_threshold: 0.0000, loss: 12.3563, epoch: 0.8675\n",
      "forcesx_mae: 0.0900, forcesy_mae: 0.1078, forcesz_mae: 0.1208, forces_mae: 0.1062, forces_cos: 0.0671, forces_magnitude: 0.1541, energy_mae: 2.9514, energy_force_within_threshold: 0.0000, loss: 13.5769, epoch: 0.8707\n",
      "forcesx_mae: 0.0779, forcesy_mae: 0.0954, forcesz_mae: 0.0994, forces_mae: 0.0909, forces_cos: 0.0552, forces_magnitude: 0.1226, energy_mae: 3.3424, energy_force_within_threshold: 0.0000, loss: 12.3960, epoch: 0.8739\n",
      "forcesx_mae: 0.1096, forcesy_mae: 0.1417, forcesz_mae: 0.1418, forces_mae: 0.1310, forces_cos: 0.0550, forces_magnitude: 0.1980, energy_mae: 3.2262, energy_force_within_threshold: 0.0000, loss: 16.3088, epoch: 0.8771\n",
      "forcesx_mae: 0.0931, forcesy_mae: 0.1221, forcesz_mae: 0.1214, forces_mae: 0.1122, forces_cos: 0.0486, forces_magnitude: 0.1634, energy_mae: 3.3337, energy_force_within_threshold: 0.0000, loss: 14.5504, epoch: 0.8803\n",
      "forcesx_mae: 0.0888, forcesy_mae: 0.0995, forcesz_mae: 0.1151, forces_mae: 0.1011, forces_cos: 0.0673, forces_magnitude: 0.1477, energy_mae: 3.2907, energy_force_within_threshold: 0.0000, loss: 13.3933, epoch: 0.8835\n",
      "forcesx_mae: 0.0865, forcesy_mae: 0.1049, forcesz_mae: 0.1043, forces_mae: 0.0986, forces_cos: 0.0417, forces_magnitude: 0.1382, energy_mae: 3.3670, energy_force_within_threshold: 0.0000, loss: 13.2858, epoch: 0.8867\n",
      "forcesx_mae: 0.0825, forcesy_mae: 0.0984, forcesz_mae: 0.1037, forces_mae: 0.0949, forces_cos: 0.0548, forces_magnitude: 0.1358, energy_mae: 3.7510, energy_force_within_threshold: 0.0000, loss: 13.3187, epoch: 0.8899\n",
      "forcesx_mae: 0.0947, forcesy_mae: 0.1029, forcesz_mae: 0.1149, forces_mae: 0.1042, forces_cos: 0.0474, forces_magnitude: 0.1468, energy_mae: 2.9223, energy_force_within_threshold: 0.0000, loss: 13.3758, epoch: 0.8931\n",
      "forcesx_mae: 0.0960, forcesy_mae: 0.1095, forcesz_mae: 0.1190, forces_mae: 0.1082, forces_cos: 0.0567, forces_magnitude: 0.1506, energy_mae: 2.6294, energy_force_within_threshold: 0.0000, loss: 13.5095, epoch: 0.8963\n",
      "forcesx_mae: 0.1017, forcesy_mae: 0.1329, forcesz_mae: 0.1355, forces_mae: 0.1233, forces_cos: 0.0555, forces_magnitude: 0.1871, energy_mae: 3.0895, energy_force_within_threshold: 0.0000, loss: 15.4585, epoch: 0.8995\n",
      "forcesx_mae: 0.1027, forcesy_mae: 0.1214, forcesz_mae: 0.1403, forces_mae: 0.1214, forces_cos: 0.0588, forces_magnitude: 0.1776, energy_mae: 3.3842, energy_force_within_threshold: 0.0000, loss: 15.5541, epoch: 0.9027\n",
      "forcesx_mae: 0.0828, forcesy_mae: 0.1142, forcesz_mae: 0.1072, forces_mae: 0.1014, forces_cos: 0.0380, forces_magnitude: 0.1506, energy_mae: 3.1480, energy_force_within_threshold: 0.0000, loss: 13.5794, epoch: 0.9059\n",
      "forcesx_mae: 0.0845, forcesy_mae: 0.0969, forcesz_mae: 0.1059, forces_mae: 0.0958, forces_cos: 0.0366, forces_magnitude: 0.1376, energy_mae: 3.0183, energy_force_within_threshold: 0.0000, loss: 12.4958, epoch: 0.9091\n",
      "forcesx_mae: 0.0848, forcesy_mae: 0.1072, forcesz_mae: 0.1119, forces_mae: 0.1013, forces_cos: 0.0498, forces_magnitude: 0.1425, energy_mae: 3.0124, energy_force_within_threshold: 0.0000, loss: 13.2240, epoch: 0.9123\n",
      "forcesx_mae: 0.0893, forcesy_mae: 0.1105, forcesz_mae: 0.1177, forces_mae: 0.1058, forces_cos: 0.0511, forces_magnitude: 0.1499, energy_mae: 3.1578, energy_force_within_threshold: 0.0000, loss: 13.7440, epoch: 0.9155\n",
      "forcesx_mae: 0.1034, forcesy_mae: 0.1267, forcesz_mae: 0.1240, forces_mae: 0.1180, forces_cos: 0.0495, forces_magnitude: 0.1743, energy_mae: 3.2840, energy_force_within_threshold: 0.0000, loss: 14.9469, epoch: 0.9187\n",
      "forcesx_mae: 0.0872, forcesy_mae: 0.1109, forcesz_mae: 0.1120, forces_mae: 0.1034, forces_cos: 0.0628, forces_magnitude: 0.1511, energy_mae: 3.4911, energy_force_within_threshold: 0.0000, loss: 13.7508, epoch: 0.9219\n",
      "forcesx_mae: 0.0765, forcesy_mae: 0.0927, forcesz_mae: 0.0971, forces_mae: 0.0888, forces_cos: 0.0420, forces_magnitude: 0.1208, energy_mae: 2.7517, energy_force_within_threshold: 0.0000, loss: 11.6559, epoch: 0.9251\n",
      "forcesx_mae: 0.0836, forcesy_mae: 0.1126, forcesz_mae: 0.1162, forces_mae: 0.1042, forces_cos: 0.0552, forces_magnitude: 0.1480, energy_mae: 3.1079, energy_force_within_threshold: 0.0000, loss: 13.4519, epoch: 0.9283\n",
      "forcesx_mae: 0.0896, forcesy_mae: 0.1110, forcesz_mae: 0.1138, forces_mae: 0.1048, forces_cos: 0.0463, forces_magnitude: 0.1506, energy_mae: 3.5208, energy_force_within_threshold: 0.0000, loss: 13.9515, epoch: 0.9315\n",
      "forcesx_mae: 0.0899, forcesy_mae: 0.1065, forcesz_mae: 0.1276, forces_mae: 0.1080, forces_cos: 0.0501, forces_magnitude: 0.1595, energy_mae: 2.5822, energy_force_within_threshold: 0.0000, loss: 13.4178, epoch: 0.9347\n",
      "forcesx_mae: 0.0758, forcesy_mae: 0.0933, forcesz_mae: 0.0945, forces_mae: 0.0878, forces_cos: 0.0658, forces_magnitude: 0.1213, energy_mae: 2.9939, energy_force_within_threshold: 0.0000, loss: 11.8179, epoch: 0.9379\n",
      "forcesx_mae: 0.0862, forcesy_mae: 0.1110, forcesz_mae: 0.1079, forces_mae: 0.1017, forces_cos: 0.0372, forces_magnitude: 0.1447, energy_mae: 2.9721, energy_force_within_threshold: 0.0000, loss: 13.0694, epoch: 0.9411\n",
      "forcesx_mae: 0.0849, forcesy_mae: 0.1077, forcesz_mae: 0.1171, forces_mae: 0.1032, forces_cos: 0.0490, forces_magnitude: 0.1476, energy_mae: 2.4923, energy_force_within_threshold: 0.0000, loss: 12.9539, epoch: 0.9443\n",
      "forcesx_mae: 0.0924, forcesy_mae: 0.1258, forcesz_mae: 0.1313, forces_mae: 0.1165, forces_cos: 0.0651, forces_magnitude: 0.1743, energy_mae: 3.2609, energy_force_within_threshold: 0.0000, loss: 14.8669, epoch: 0.9475\n",
      "forcesx_mae: 0.0902, forcesy_mae: 0.1039, forcesz_mae: 0.1141, forces_mae: 0.1027, forces_cos: 0.0503, forces_magnitude: 0.1507, energy_mae: 2.7040, energy_force_within_threshold: 0.0000, loss: 13.1077, epoch: 0.9507\n",
      "forcesx_mae: 0.0729, forcesy_mae: 0.0900, forcesz_mae: 0.0902, forces_mae: 0.0844, forces_cos: 0.0580, forces_magnitude: 0.1174, energy_mae: 2.9313, energy_force_within_threshold: 0.0000, loss: 11.3392, epoch: 0.9539\n",
      "forcesx_mae: 0.0792, forcesy_mae: 0.0973, forcesz_mae: 0.1022, forces_mae: 0.0929, forces_cos: 0.0663, forces_magnitude: 0.1313, energy_mae: 2.8274, energy_force_within_threshold: 0.0000, loss: 12.1555, epoch: 0.9571\n",
      "forcesx_mae: 0.0805, forcesy_mae: 0.1125, forcesz_mae: 0.1015, forces_mae: 0.0982, forces_cos: 0.0546, forces_magnitude: 0.1468, energy_mae: 3.5999, energy_force_within_threshold: 0.0000, loss: 13.4721, epoch: 0.9603\n",
      "forcesx_mae: 0.0964, forcesy_mae: 0.1158, forcesz_mae: 0.1324, forces_mae: 0.1149, forces_cos: 0.0669, forces_magnitude: 0.1799, energy_mae: 3.4422, energy_force_within_threshold: 0.0000, loss: 14.8770, epoch: 0.9635\n",
      "forcesx_mae: 0.0871, forcesy_mae: 0.1082, forcesz_mae: 0.1106, forces_mae: 0.1020, forces_cos: 0.0651, forces_magnitude: 0.1491, energy_mae: 3.2538, energy_force_within_threshold: 0.0000, loss: 13.5481, epoch: 0.9667\n",
      "forcesx_mae: 0.0807, forcesy_mae: 0.0938, forcesz_mae: 0.0995, forces_mae: 0.0914, forces_cos: 0.0616, forces_magnitude: 0.1248, energy_mae: 2.9104, energy_force_within_threshold: 0.0000, loss: 12.0695, epoch: 0.9699\n"
     ]
    },
    {
     "name": "stdout",
     "output_type": "stream",
     "text": [
      "forcesx_mae: 0.0903, forcesy_mae: 0.1047, forcesz_mae: 0.1131, forces_mae: 0.1027, forces_cos: 0.0740, forces_magnitude: 0.1434, energy_mae: 2.8340, energy_force_within_threshold: 0.0000, loss: 13.0621, epoch: 0.9731\n",
      "forcesx_mae: 0.1015, forcesy_mae: 0.1113, forcesz_mae: 0.1251, forces_mae: 0.1126, forces_cos: 0.0519, forces_magnitude: 0.1649, energy_mae: 2.8163, energy_force_within_threshold: 0.0000, loss: 14.0856, epoch: 0.9763\n",
      "forcesx_mae: 0.0894, forcesy_mae: 0.1152, forcesz_mae: 0.1167, forces_mae: 0.1071, forces_cos: 0.0416, forces_magnitude: 0.1568, energy_mae: 3.3290, energy_force_within_threshold: 0.0000, loss: 14.1662, epoch: 0.9795\n",
      "forcesx_mae: 0.0756, forcesy_mae: 0.0945, forcesz_mae: 0.0963, forces_mae: 0.0888, forces_cos: 0.0476, forces_magnitude: 0.1240, energy_mae: 2.5540, energy_force_within_threshold: 0.0000, loss: 11.4540, epoch: 0.9827\n",
      "forcesx_mae: 0.0855, forcesy_mae: 0.1059, forcesz_mae: 0.1267, forces_mae: 0.1061, forces_cos: 0.0665, forces_magnitude: 0.1618, energy_mae: 2.7599, energy_force_within_threshold: 0.0000, loss: 13.4151, epoch: 0.9859\n",
      "forcesx_mae: 0.0880, forcesy_mae: 0.1062, forcesz_mae: 0.1102, forces_mae: 0.1015, forces_cos: 0.0782, forces_magnitude: 0.1459, energy_mae: 3.1551, energy_force_within_threshold: 0.0000, loss: 13.3062, epoch: 0.9891\n",
      "forcesx_mae: 0.0839, forcesy_mae: 0.1008, forcesz_mae: 0.0992, forces_mae: 0.0946, forces_cos: 0.0494, forces_magnitude: 0.1327, energy_mae: 3.1026, energy_force_within_threshold: 0.0000, loss: 12.5271, epoch: 0.9923\n",
      "forcesx_mae: 0.0955, forcesy_mae: 0.1152, forcesz_mae: 0.1235, forces_mae: 0.1114, forces_cos: 0.0432, forces_magnitude: 0.1639, energy_mae: 3.5360, energy_force_within_threshold: 0.0000, loss: 14.6517, epoch: 0.9955\n",
      "forcesx_mae: 0.0876, forcesy_mae: 0.0962, forcesz_mae: 0.1046, forces_mae: 0.0961, forces_cos: 0.0524, forces_magnitude: 0.1392, energy_mae: 3.3753, energy_force_within_threshold: 0.0000, loss: 13.0157, epoch: 0.9987\n",
      "### Evaluating on val.\n"
     ]
    },
    {
     "name": "stderr",
     "output_type": "stream",
     "text": [
      "device 0: 100%|██████████| 6250/6250 [02:01<00:00, 51.41it/s]"
     ]
    },
    {
     "name": "stdout",
     "output_type": "stream",
     "text": [
      "forcesx_mae: 0.0894, forcesy_mae: 0.1088, forcesz_mae: 0.1151, forces_mae: 0.1044, forces_cos: 0.0610, forces_magnitude: 0.1540, energy_mae: 3.2270, energy_force_within_threshold: 0.0000, loss: 13.7160, epoch: 1.0000\n",
      "### Predicting on test.\n"
     ]
    },
    {
     "name": "stderr",
     "output_type": "stream",
     "text": [
      "\n",
      "device 0: 100%|██████████| 6250/6250 [01:53<00:00, 55.20it/s]\n"
     ]
    },
    {
     "name": "stdout",
     "output_type": "stream",
     "text": [
      "Writing results to results/2021-01-06-16-49-04-SchNet-example/s2ef_predictions.npz\n"
     ]
    }
   ],
   "source": [
    "trainer.train()"
   ]
  },
  {
   "cell_type": "markdown",
   "metadata": {},
   "source": [
    "### Load Checkpoint\n",
    "Once training has completed a `Trainer` class, by default, is loaded with the best checkpoint as determined by training or validation (if available) metrics. To load a `Trainer` class directly with a pretrained model, specify the `checkpoint_path` as defined by your previously trained model (`checkpoint_dir` in cell 9):"
   ]
  },
  {
   "cell_type": "code",
   "execution_count": 20,
   "metadata": {},
   "outputs": [
    {
     "name": "stdout",
     "output_type": "stream",
     "text": [
      "amp: false\n",
      "cmd:\n",
      "  checkpoint_dir: checkpoints/2021-01-06-17-23-12-SchNet-example\n",
      "  identifier: SchNet-example\n",
      "  logs_dir: logs/tensorboard/2021-01-06-17-23-12-SchNet-example\n",
      "  print_every: 10\n",
      "  results_dir: results/2021-01-06-17-23-12-SchNet-example\n",
      "  seed: 0\n",
      "  timestamp: 2021-01-06-17-23-12-SchNet-example\n",
      "dataset:\n",
      "  normalize_labels: false\n",
      "  src: /home/jovyan/projects/ocp/data/s2ef/200k/train-demo\n",
      "logger: tensorboard\n",
      "logger_entity: null\n",
      "logger_project: null\n",
      "model: schnet\n",
      "model_attributes:\n",
      "  cutoff: 6.0\n",
      "  hidden_channels: 1024\n",
      "  num_filters: 256\n",
      "  num_gaussians: 200\n",
      "  num_interactions: 3\n",
      "optim:\n",
      "  batch_size: 16\n",
      "  eval_batch_size: 8\n",
      "  force_coefficient: 100\n",
      "  lr_gamma: 0.1\n",
      "  lr_initial: 0.0001\n",
      "  lr_milestones:\n",
      "  - 15\n",
      "  - 20\n",
      "  max_epochs: 1\n",
      "  num_workers: 64\n",
      "  warmup_epochs: 10\n",
      "  warmup_factor: 0.2\n",
      "task:\n",
      "  dataset: trajectory_lmdb\n",
      "  description: Regressing to energies and forces for DFT trajectories from OCP\n",
      "  eval_on_free_atoms: true\n",
      "  grad_input: atomic forces\n",
      "  labels:\n",
      "  - potential energy\n",
      "  metric: mae\n",
      "  train_on_free_atoms: true\n",
      "  type: regression\n",
      "test_dataset:\n",
      "  src: /home/jovyan/projects/ocp/data/s2ef/200k/train-demo\n",
      "val_dataset:\n",
      "  src: /home/jovyan/projects/ocp/data/s2ef/200k/train-demo\n",
      "\n",
      "### Loading dataset: trajectory_lmdb\n",
      "### Loading model: schnet\n",
      "### Loaded SchNet with 5704193 parameters.\n",
      "NOTE: model gradient logging to tensorboard not yet supported.\n",
      "### Loading checkpoint from: checkpoints/2021-01-06-16-49-04-SchNet-example/checkpoint.pt\n"
     ]
    },
    {
     "data": {
      "text/plain": [
       "True"
      ]
     },
     "execution_count": 20,
     "metadata": {},
     "output_type": "execute_result"
    }
   ],
   "source": [
    "model = {\n",
    "    'name': 'schnet',\n",
    "    'hidden_channels': 1024, # if training is too slow for example purposes reduce the number of hidden channels\n",
    "    'num_filters': 256,\n",
    "    'num_interactions': 3,\n",
    "    'num_gaussians': 200,\n",
    "    'cutoff': 6.0\n",
    "}\n",
    "\n",
    "pretrained_trainer = ForcesTrainer(\n",
    "    task=task,\n",
    "    model=model,\n",
    "    dataset=dataset,\n",
    "    optimizer=optimizer,\n",
    "    identifier=\"SchNet-example\",\n",
    "    run_dir=\"./\", # directory to save results if is_debug=False. Prediction files are saved here so be careful not to override!\n",
    "    is_debug=False, # if True, do not save checkpoint, logs, or results\n",
    "    is_vis=False,\n",
    "    print_every=10,\n",
    "    seed=0, # random seed to use\n",
    "    logger=\"tensorboard\", # logger of choice (tensorboard and wandb supported)\n",
    "    local_rank=0,\n",
    "    amp=False, # use PyTorch Automatic Mixed Precision (faster training and less memory usage)\n",
    ")\n",
    "\n",
    "pretrained_trainer.load_pretrained(checkpoint_path=\"checkpoints/2021-01-06-16-49-04-SchNet-example/checkpoint.pt\")"
   ]
  },
  {
   "cell_type": "markdown",
   "metadata": {},
   "source": [
    "## Predict"
   ]
  },
  {
   "cell_type": "markdown",
   "metadata": {},
   "source": [
    "If a test has been provided in your config, predictions are generated and written to disk automatically upon training completion. Otherwise, to make predictions on unseen data a `torch.utils.data` DataLoader object must be constructed. Here we reference our test set to make predictions on. Predictions are saved in `{results_file}.npz` in your `results_dir`."
   ]
  },
  {
   "cell_type": "code",
   "execution_count": 22,
   "metadata": {},
   "outputs": [
    {
     "name": "stdout",
     "output_type": "stream",
     "text": [
      "### Predicting on test.\n"
     ]
    },
    {
     "name": "stderr",
     "output_type": "stream",
     "text": [
      "device 0: 100%|██████████| 6250/6250 [01:53<00:00, 55.28it/s]\n"
     ]
    },
    {
     "name": "stdout",
     "output_type": "stream",
     "text": [
      "Writing results to results/2021-01-06-17-23-12-SchNet-example/s2ef_s2ef_results.npz\n"
     ]
    }
   ],
   "source": [
    "# make predictions on the existing test_loader\n",
    "predictions = pretrained_trainer.predict(pretrained_trainer.test_loader, results_file=\"s2ef_results\", disable_tqdm=False)"
   ]
  },
  {
   "cell_type": "code",
   "execution_count": 24,
   "metadata": {},
   "outputs": [],
   "source": [
    "energies = predictions[\"energy\"]\n",
    "forces = predictions[\"forces\"]"
   ]
  }
 ],
 "metadata": {
  "kernelspec": {
   "display_name": "ocp-models",
   "language": "python",
   "name": "ocp-models"
  },
  "language_info": {
   "codemirror_mode": {
    "name": "ipython",
    "version": 3
   },
   "file_extension": ".py",
   "mimetype": "text/x-python",
   "name": "python",
   "nbconvert_exporter": "python",
   "pygments_lexer": "ipython3",
   "version": "3.6.11"
  }
 },
 "nbformat": 4,
 "nbformat_minor": 4
}
