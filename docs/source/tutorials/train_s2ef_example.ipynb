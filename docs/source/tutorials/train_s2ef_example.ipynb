{
 "cells": [
  {
   "cell_type": "markdown",
   "metadata": {},
   "source": [
    "# SchNet S2EF training example"
   ]
  },
  {
   "cell_type": "markdown",
   "metadata": {},
   "source": [
    "The purpose of this notebook is to demonstrate some of the basics of the Open Catalyst Project's (OCP) codebase and data. In this example, we will train a schnet model for predicting the energy and forces of a given structure (S2EF task). First, ensure you have installed the OCP ocp repo and all the dependencies according to the [README](https://github.com/Open-Catalyst-Project/ocp/blob/master/README.md)."
   ]
  },
  {
   "cell_type": "markdown",
   "metadata": {},
   "source": [
    "Disclaimer: This notebook is for tutorial purposes, it is unlikely it will be practical to train baseline models on our larger datasets using this format. As a next step, we recommend trying the command line examples. "
   ]
  },
  {
   "cell_type": "markdown",
   "metadata": {},
   "source": [
    "## Imports"
   ]
  },
  {
   "cell_type": "code",
   "execution_count": 1,
   "metadata": {},
   "outputs": [],
   "source": [
    "import datetime\n",
    "import os\n",
    "import sys\n",
    "import yaml\n",
    "\n",
    "import torch"
   ]
  },
  {
   "cell_type": "code",
   "execution_count": 2,
   "metadata": {},
   "outputs": [],
   "source": [
    "from ocpmodels.common import distutils\n",
    "from ocpmodels.common.flags import flags\n",
    "from ocpmodels.common.registry import registry\n",
    "from ocpmodels.common.utils import (\n",
    "    build_config,\n",
    "    create_grid,\n",
    "    save_experiment_log,\n",
    "    setup_imports,\n",
    ")\n",
    "from ocpmodels.trainers import ForcesTrainer"
   ]
  },
  {
   "cell_type": "code",
   "execution_count": 3,
   "metadata": {},
   "outputs": [
    {
     "name": "stdout",
     "output_type": "stream",
     "text": [
      "True\n"
     ]
    }
   ],
   "source": [
    "# a simple sanity check that a GPU is available\n",
    "if torch.cuda.is_available():\n",
    "    print(\"True\")\n",
    "else:\n",
    "    print(\"False\")"
   ]
  },
  {
   "cell_type": "markdown",
   "metadata": {},
   "source": [
    "## The essential steps for training an OCP model\n",
    "\n",
    "1) Download data\n",
    "\n",
    "2) Preprocess data (if necessary)\n",
    "\n",
    "3) Define or load a configuration (config), which includes the following\n",
    "   \n",
    "   - task\n",
    "   - model\n",
    "   - optimizer\n",
    "   - dataset\n",
    "   - trainer\n",
    "\n",
    "4) Train\n",
    "\n",
    "5) Depending on the model/task there might be intermediate relaxation step\n",
    "\n",
    "6) Predict"
   ]
  },
  {
   "cell_type": "markdown",
   "metadata": {},
   "source": [
    "## Download and preprocess data"
   ]
  },
  {
   "cell_type": "markdown",
   "metadata": {},
   "source": [
    "Please download the train S2EF 200K dataset from the [DATASET.md](https://github.com/Open-Catalyst-Project/ocp/blob/master/DATASET.md) and follow directions to untar, uncompress, and preprocess in the [README.md](https://github.com/Open-Catalyst-Project/ocp/blob/master/README.md#preprocess-datasets---s2ef-only). This example assumes the --get-edges flag to be present at preprocessing time."
   ]
  },
  {
   "cell_type": "code",
   "execution_count": 4,
   "metadata": {},
   "outputs": [],
   "source": [
    "# set the path to your local lmdb directory\n",
    "train_src = \"/home/mshuaibi/projects/ocp/data/train\""
   ]
  },
  {
   "cell_type": "markdown",
   "metadata": {},
   "source": [
    "## Define config"
   ]
  },
  {
   "cell_type": "markdown",
   "metadata": {},
   "source": [
    "For this example, we will explicitly define the config; however, a set of default config files exists in the config folder of this repository. Default config yaml files can easily be loaded with the `build_config` util (found in `ocp/ocpmodels/common/utils.py`). Loading a yaml config is preferrable when launching jobs from the command line. We have included our best models' config files [here](https://github.com/Open-Catalyst-Project/ocp/tree/master/configs/s2ef)."
   ]
  },
  {
   "cell_type": "markdown",
   "metadata": {},
   "source": [
    "**Task** "
   ]
  },
  {
   "cell_type": "code",
   "execution_count": 5,
   "metadata": {},
   "outputs": [],
   "source": [
    "task = {\n",
    "    'dataset': 'trajectory_lmdb', # dataset used for the S2EF task\n",
    "    'description': 'Regressing to energies and forces for DFT trajectories from OCP',\n",
    "    'type': 'regression',\n",
    "    'metric': 'mae',\n",
    "    'labels': ['potential energy'],\n",
    "    'grad_input': 'atomic forces',\n",
    "    'train_on_free_atoms': True,\n",
    "    'eval_on_free_atoms': True\n",
    "}"
   ]
  },
  {
   "cell_type": "markdown",
   "metadata": {},
   "source": [
    "**Model** - SchNet for this example"
   ]
  },
  {
   "cell_type": "code",
   "execution_count": 6,
   "metadata": {},
   "outputs": [],
   "source": [
    "model = {\n",
    "    'name': 'schnet',\n",
    "    'hidden_channels': 1024, # if training is too slow for example purposes reduce the number of hidden channels\n",
    "    'num_filters': 256,\n",
    "    'num_interactions': 3,\n",
    "    'num_gaussians': 200,\n",
    "    'cutoff': 6.0\n",
    "}"
   ]
  },
  {
   "cell_type": "markdown",
   "metadata": {},
   "source": [
    "**Optimizer**"
   ]
  },
  {
   "cell_type": "code",
   "execution_count": 7,
   "metadata": {},
   "outputs": [],
   "source": [
    "optimizer = {\n",
    "    'batch_size': 16, # if hitting GPU memory issues, lower this\n",
    "    'eval_batch_size': 8,\n",
    "    'num_workers': 64,\n",
    "    'lr_initial': 0.0001,\n",
    "    'lr_gamma': 0.1,\n",
    "    'lr_milestones': [15, 20],\n",
    "    'warmup_epochs': 10,\n",
    "    'warmup_factor': 0.2,\n",
    "    'max_epochs': 1, # used for demonstration purposes\n",
    "    'force_coefficient': 100,\n",
    "}"
   ]
  },
  {
   "cell_type": "markdown",
   "metadata": {},
   "source": [
    "**Dataset**"
   ]
  },
  {
   "cell_type": "markdown",
   "metadata": {},
   "source": [
    "For simplicity, `train_src` is used for all the train/val/test sets. Feel free to update with the actual S2EF val and test sets, but it does require additional downloads and preprocessing. If you desire to normalize your targets, `normalize_labels` must be set to `True` and corresponding `mean` and `std`s need to be specified. These values have been precomputed for you and can be found in any of the [`base.yml`](https://github.com/Open-Catalyst-Project/ocp/blob/master/configs/s2ef/20M/base.yml#L5-L9) config files."
   ]
  },
  {
   "cell_type": "code",
   "execution_count": 8,
   "metadata": {},
   "outputs": [],
   "source": [
    "dataset = [\n",
    "{'src': train_src, 'normalize_labels': False}, # train set \n",
    "{'src': train_src}, # val set\n",
    "{'src': train_src} # test set\n",
    "]"
   ]
  },
  {
   "cell_type": "markdown",
   "metadata": {},
   "source": [
    "**Trainer**"
   ]
  },
  {
   "cell_type": "markdown",
   "metadata": {},
   "source": [
    "Use the `ForcesTrainer` for the S2EF and IS2RS tasks, and the `EnergyTrainer` for the IS2RE task "
   ]
  },
  {
   "cell_type": "code",
   "execution_count": 9,
   "metadata": {},
   "outputs": [
    {
     "name": "stdout",
     "output_type": "stream",
     "text": [
      "amp: false\n",
      "cmd:\n",
      "  checkpoint_dir: ./checkpoints/2020-10-14-12-47-30-SchNet-example\n",
      "  identifier: SchNet-example\n",
      "  logs_dir: ./logs/tensorboard/2020-10-14-12-47-30-SchNet-example\n",
      "  print_every: 10\n",
      "  results_dir: ./results/2020-10-14-12-47-30-SchNet-example\n",
      "  seed: 0\n",
      "  timestamp: 2020-10-14-12-47-30-SchNet-example\n",
      "dataset:\n",
      "  normalize_labels: false\n",
      "  src: /home/mshuaibi/projects/ocp/data/train\n",
      "logger: tensorboard\n",
      "model: schnet\n",
      "model_attributes:\n",
      "  cutoff: 6.0\n",
      "  hidden_channels: 1024\n",
      "  num_filters: 256\n",
      "  num_gaussians: 200\n",
      "  num_interactions: 3\n",
      "optim:\n",
      "  batch_size: 16\n",
      "  eval_batch_size: 8\n",
      "  force_coefficient: 100\n",
      "  lr_gamma: 0.1\n",
      "  lr_initial: 0.0001\n",
      "  lr_milestones:\n",
      "  - 15\n",
      "  - 20\n",
      "  max_epochs: 1\n",
      "  num_workers: 64\n",
      "  warmup_epochs: 10\n",
      "  warmup_factor: 0.2\n",
      "task:\n",
      "  dataset: trajectory_lmdb\n",
      "  description: Regressing to energies and forces for DFT trajectories from OCP\n",
      "  eval_on_free_atoms: true\n",
      "  grad_input: atomic forces\n",
      "  labels:\n",
      "  - potential energy\n",
      "  metric: mae\n",
      "  train_on_free_atoms: true\n",
      "  type: regression\n",
      "test_dataset:\n",
      "  src: /home/mshuaibi/projects/ocp/data/train\n",
      "val_dataset:\n",
      "  src: /home/mshuaibi/projects/ocp/data/train\n",
      "\n",
      "### Loading dataset: trajectory_lmdb\n",
      "### Loading model: schnet\n",
      "### Loaded SchNet with 5704193 parameters.\n",
      "NOTE: model gradient logging to tensorboard not yet supported.\n"
     ]
    }
   ],
   "source": [
    "trainer = ForcesTrainer(\n",
    "    task=task,\n",
    "    model=model,\n",
    "    dataset=dataset,\n",
    "    optimizer=optimizer,\n",
    "    identifier=\"SchNet-example\",\n",
    "    run_dir=\"./\", # directory to save results if is_debug=False. Prediction files are saved here so be careful not to override!\n",
    "    is_debug=False, # if True, do not save checkpoint, logs, or results\n",
    "    is_vis=False,\n",
    "    print_every=10,\n",
    "    seed=0, # random seed to use\n",
    "    logger=\"tensorboard\", # logger of choice (tensorboard and wandb supported)\n",
    "    local_rank=0,\n",
    "    amp=False, # use PyTorch Automatic Mixed Precision (faster training and less memory usage)\n",
    ")"
   ]
  },
  {
   "cell_type": "markdown",
   "metadata": {},
   "source": [
    "## Check the model"
   ]
  },
  {
   "cell_type": "code",
   "execution_count": 10,
   "metadata": {},
   "outputs": [
    {
     "name": "stdout",
     "output_type": "stream",
     "text": [
      "OCPDataParallel(\n",
      "  (module): SchNet(hidden_channels=1024, num_filters=256, num_interactions=3, num_gaussians=200, cutoff=6.0)\n",
      ")\n"
     ]
    }
   ],
   "source": [
    "print(trainer.model)"
   ]
  },
  {
   "cell_type": "markdown",
   "metadata": {},
   "source": [
    "## Train"
   ]
  },
  {
   "cell_type": "code",
   "execution_count": 11,
   "metadata": {},
   "outputs": [
    {
     "name": "stdout",
     "output_type": "stream",
     "text": [
      "forcesx_mae: 0.7030, forcesy_mae: 0.7115, forcesz_mae: 0.7711, forces_mae: 0.7285, forces_cos: 0.0054, forces_magnitude: 1.3615, energy_mae: 44.7269, energy_force_within_threshold: 0.0000, loss: 117.5761, epoch: 0.0016\n",
      "forcesx_mae: 0.5769, forcesy_mae: 0.6908, forcesz_mae: 0.6871, forces_mae: 0.6516, forces_cos: -0.0030, forces_magnitude: 1.1874, energy_mae: 33.8378, energy_force_within_threshold: 0.0000, loss: 98.4086, epoch: 0.0176\n",
      "forcesx_mae: 0.4555, forcesy_mae: 0.5435, forcesz_mae: 0.5442, forces_mae: 0.5144, forces_cos: 0.0021, forces_magnitude: 0.9170, energy_mae: 27.3140, energy_force_within_threshold: 0.0000, loss: 78.5339, epoch: 0.0336\n",
      "forcesx_mae: 0.3672, forcesy_mae: 0.4374, forcesz_mae: 0.4337, forces_mae: 0.4128, forces_cos: 0.0066, forces_magnitude: 0.7168, energy_mae: 17.3954, energy_force_within_threshold: 0.0000, loss: 58.3405, epoch: 0.0496\n",
      "forcesx_mae: 0.3477, forcesy_mae: 0.3784, forcesz_mae: 0.3972, forces_mae: 0.3744, forces_cos: 0.0070, forces_magnitude: 0.6390, energy_mae: 12.0179, energy_force_within_threshold: 0.0000, loss: 49.3993, epoch: 0.0656\n",
      "forcesx_mae: 0.2999, forcesy_mae: 0.3742, forcesz_mae: 0.3561, forces_mae: 0.3434, forces_cos: 0.0257, forces_magnitude: 0.5648, energy_mae: 10.2708, energy_force_within_threshold: 0.0000, loss: 44.5406, epoch: 0.0816\n",
      "forcesx_mae: 0.2884, forcesy_mae: 0.3350, forcesz_mae: 0.3323, forces_mae: 0.3186, forces_cos: 0.0107, forces_magnitude: 0.5277, energy_mae: 8.5933, energy_force_within_threshold: 0.0000, loss: 40.3774, epoch: 0.0976\n",
      "forcesx_mae: 0.2879, forcesy_mae: 0.3137, forcesz_mae: 0.3428, forces_mae: 0.3148, forces_cos: 0.0251, forces_magnitude: 0.5221, energy_mae: 7.5421, energy_force_within_threshold: 0.0000, loss: 38.9158, epoch: 0.1136\n",
      "forcesx_mae: 0.2543, forcesy_mae: 0.3105, forcesz_mae: 0.2949, forces_mae: 0.2866, forces_cos: 0.0113, forces_magnitude: 0.4741, energy_mae: 7.0339, energy_force_within_threshold: 0.0000, loss: 35.7909, epoch: 0.1296\n",
      "forcesx_mae: 0.2716, forcesy_mae: 0.3241, forcesz_mae: 0.3223, forces_mae: 0.3060, forces_cos: 0.0034, forces_magnitude: 0.4946, energy_mae: 6.5768, energy_force_within_threshold: 0.0000, loss: 37.2239, epoch: 0.1456\n",
      "forcesx_mae: 0.2385, forcesy_mae: 0.2738, forcesz_mae: 0.2732, forces_mae: 0.2619, forces_cos: 0.0362, forces_magnitude: 0.4251, energy_mae: 4.4765, energy_force_within_threshold: 0.0000, loss: 30.7623, epoch: 0.1616\n",
      "forcesx_mae: 0.2274, forcesy_mae: 0.2678, forcesz_mae: 0.2760, forces_mae: 0.2571, forces_cos: 0.0252, forces_magnitude: 0.4166, energy_mae: 4.3224, energy_force_within_threshold: 0.0000, loss: 30.0456, epoch: 0.1776\n",
      "forcesx_mae: 0.2168, forcesy_mae: 0.2558, forcesz_mae: 0.2709, forces_mae: 0.2478, forces_cos: 0.0118, forces_magnitude: 0.4011, energy_mae: 3.5600, energy_force_within_threshold: 0.0000, loss: 28.1170, epoch: 0.1936\n",
      "forcesx_mae: 0.2238, forcesy_mae: 0.2633, forcesz_mae: 0.2745, forces_mae: 0.2538, forces_cos: 0.0111, forces_magnitude: 0.4032, energy_mae: 3.6509, energy_force_within_threshold: 0.0000, loss: 29.1105, epoch: 0.2096\n",
      "forcesx_mae: 0.2238, forcesy_mae: 0.2478, forcesz_mae: 0.2627, forces_mae: 0.2448, forces_cos: 0.0324, forces_magnitude: 0.3808, energy_mae: 3.5429, energy_force_within_threshold: 0.0000, loss: 28.0959, epoch: 0.2256\n",
      "forcesx_mae: 0.2024, forcesy_mae: 0.2350, forcesz_mae: 0.2513, forces_mae: 0.2296, forces_cos: 0.0324, forces_magnitude: 0.3640, energy_mae: 3.2296, energy_force_within_threshold: 0.0000, loss: 26.2130, epoch: 0.2416\n",
      "forcesx_mae: 0.2008, forcesy_mae: 0.2330, forcesz_mae: 0.2331, forces_mae: 0.2223, forces_cos: 0.0322, forces_magnitude: 0.3522, energy_mae: 3.5776, energy_force_within_threshold: 0.0000, loss: 25.8450, epoch: 0.2576\n",
      "forcesx_mae: 0.2138, forcesy_mae: 0.2358, forcesz_mae: 0.2349, forces_mae: 0.2282, forces_cos: 0.0415, forces_magnitude: 0.3507, energy_mae: 3.7447, energy_force_within_threshold: 0.0000, loss: 26.5385, epoch: 0.2736\n",
      "forcesx_mae: 0.2121, forcesy_mae: 0.2365, forcesz_mae: 0.2427, forces_mae: 0.2304, forces_cos: 0.0255, forces_magnitude: 0.3670, energy_mae: 3.5855, energy_force_within_threshold: 0.0000, loss: 26.6541, epoch: 0.2896\n",
      "forcesx_mae: 0.2108, forcesy_mae: 0.2422, forcesz_mae: 0.2412, forces_mae: 0.2314, forces_cos: 0.0183, forces_magnitude: 0.3579, energy_mae: 4.4935, energy_force_within_threshold: 0.0000, loss: 27.7207, epoch: 0.3056\n",
      "forcesx_mae: 0.1943, forcesy_mae: 0.2258, forcesz_mae: 0.2296, forces_mae: 0.2166, forces_cos: 0.0289, forces_magnitude: 0.3212, energy_mae: 3.3474, energy_force_within_threshold: 0.0000, loss: 24.9676, epoch: 0.3216\n",
      "forcesx_mae: 0.1982, forcesy_mae: 0.2313, forcesz_mae: 0.2304, forces_mae: 0.2200, forces_cos: 0.0353, forces_magnitude: 0.3361, energy_mae: 3.4475, energy_force_within_threshold: 0.0000, loss: 25.4545, epoch: 0.3376\n",
      "forcesx_mae: 0.1746, forcesy_mae: 0.2104, forcesz_mae: 0.2228, forces_mae: 0.2026, forces_cos: 0.0106, forces_magnitude: 0.3179, energy_mae: 3.8075, energy_force_within_threshold: 0.0000, loss: 24.0673, epoch: 0.3536\n",
      "forcesx_mae: 0.1846, forcesy_mae: 0.2146, forcesz_mae: 0.2199, forces_mae: 0.2064, forces_cos: 0.0295, forces_magnitude: 0.3267, energy_mae: 4.2726, energy_force_within_threshold: 0.0000, loss: 24.9342, epoch: 0.3696\n",
      "forcesx_mae: 0.1841, forcesy_mae: 0.2062, forcesz_mae: 0.2146, forces_mae: 0.2016, forces_cos: 0.0379, forces_magnitude: 0.3145, energy_mae: 3.9503, energy_force_within_threshold: 0.0000, loss: 24.2107, epoch: 0.3856\n",
      "forcesx_mae: 0.1825, forcesy_mae: 0.2214, forcesz_mae: 0.2405, forces_mae: 0.2148, forces_cos: 0.0254, forces_magnitude: 0.3384, energy_mae: 3.0443, energy_force_within_threshold: 0.0000, loss: 24.5536, epoch: 0.4016\n",
      "forcesx_mae: 0.1759, forcesy_mae: 0.2041, forcesz_mae: 0.2214, forces_mae: 0.2005, forces_cos: 0.0327, forces_magnitude: 0.3152, energy_mae: 3.5431, energy_force_within_threshold: 0.0000, loss: 23.5082, epoch: 0.4176\n",
      "forcesx_mae: 0.1895, forcesy_mae: 0.2262, forcesz_mae: 0.2347, forces_mae: 0.2168, forces_cos: 0.0415, forces_magnitude: 0.3325, energy_mae: 3.5619, energy_force_within_threshold: 0.0000, loss: 25.2022, epoch: 0.4336\n",
      "forcesx_mae: 0.2001, forcesy_mae: 0.2196, forcesz_mae: 0.2626, forces_mae: 0.2274, forces_cos: 0.0536, forces_magnitude: 0.3515, energy_mae: 3.8838, energy_force_within_threshold: 0.0000, loss: 26.8257, epoch: 0.4496\n",
      "forcesx_mae: 0.1765, forcesy_mae: 0.2031, forcesz_mae: 0.2053, forces_mae: 0.1950, forces_cos: 0.0409, forces_magnitude: 0.2823, energy_mae: 4.4699, energy_force_within_threshold: 0.0000, loss: 23.9898, epoch: 0.4656\n",
      "forcesx_mae: 0.1779, forcesy_mae: 0.2126, forcesz_mae: 0.2385, forces_mae: 0.2097, forces_cos: 0.0372, forces_magnitude: 0.3132, energy_mae: 3.5856, energy_force_within_threshold: 0.0000, loss: 24.6882, epoch: 0.4816\n",
      "forcesx_mae: 0.1928, forcesy_mae: 0.2227, forcesz_mae: 0.2259, forces_mae: 0.2138, forces_cos: 0.0168, forces_magnitude: 0.3225, energy_mae: 4.2751, energy_force_within_threshold: 0.0000, loss: 25.6294, epoch: 0.4976\n",
      "forcesx_mae: 0.1796, forcesy_mae: 0.2089, forcesz_mae: 0.2150, forces_mae: 0.2012, forces_cos: 0.0344, forces_magnitude: 0.3051, energy_mae: 4.7121, energy_force_within_threshold: 0.0000, loss: 24.7019, epoch: 0.5136\n",
      "forcesx_mae: 0.1633, forcesy_mae: 0.1880, forcesz_mae: 0.1896, forces_mae: 0.1803, forces_cos: 0.0466, forces_magnitude: 0.2749, energy_mae: 3.9094, energy_force_within_threshold: 0.0000, loss: 21.8925, epoch: 0.5296\n",
      "forcesx_mae: 0.1652, forcesy_mae: 0.1893, forcesz_mae: 0.1956, forces_mae: 0.1833, forces_cos: 0.0249, forces_magnitude: 0.2780, energy_mae: 3.4830, energy_force_within_threshold: 0.0000, loss: 21.8144, epoch: 0.5456\n",
      "forcesx_mae: 0.1608, forcesy_mae: 0.1786, forcesz_mae: 0.1869, forces_mae: 0.1754, forces_cos: 0.0201, forces_magnitude: 0.2600, energy_mae: 2.9161, energy_force_within_threshold: 0.0000, loss: 20.4470, epoch: 0.5616\n",
      "forcesx_mae: 0.1683, forcesy_mae: 0.1888, forcesz_mae: 0.2046, forces_mae: 0.1872, forces_cos: 0.0361, forces_magnitude: 0.2764, energy_mae: 4.1343, energy_force_within_threshold: 0.0000, loss: 22.9391, epoch: 0.5776\n",
      "forcesx_mae: 0.1646, forcesy_mae: 0.1853, forcesz_mae: 0.1917, forces_mae: 0.1805, forces_cos: 0.0288, forces_magnitude: 0.2621, energy_mae: 3.5950, energy_force_within_threshold: 0.0000, loss: 21.6650, epoch: 0.5936\n"
     ]
    },
    {
     "name": "stdout",
     "output_type": "stream",
     "text": [
      "forcesx_mae: 0.1760, forcesy_mae: 0.2116, forcesz_mae: 0.2183, forces_mae: 0.2020, forces_cos: 0.0216, forces_magnitude: 0.3082, energy_mae: 3.8783, energy_force_within_threshold: 0.0000, loss: 24.0622, epoch: 0.6096\n",
      "forcesx_mae: 0.1859, forcesy_mae: 0.2258, forcesz_mae: 0.2249, forces_mae: 0.2122, forces_cos: 0.0511, forces_magnitude: 0.3259, energy_mae: 4.2273, energy_force_within_threshold: 0.0000, loss: 25.4100, epoch: 0.6256\n",
      "forcesx_mae: 0.1628, forcesy_mae: 0.1864, forcesz_mae: 0.1954, forces_mae: 0.1815, forces_cos: 0.0226, forces_magnitude: 0.2751, energy_mae: 3.9199, energy_force_within_threshold: 0.0000, loss: 22.1479, epoch: 0.6416\n",
      "forcesx_mae: 0.1615, forcesy_mae: 0.1999, forcesz_mae: 0.2143, forces_mae: 0.1919, forces_cos: 0.0243, forces_magnitude: 0.2961, energy_mae: 3.3222, energy_force_within_threshold: 0.0000, loss: 22.5459, epoch: 0.6576\n",
      "forcesx_mae: 0.1554, forcesy_mae: 0.2105, forcesz_mae: 0.2117, forces_mae: 0.1925, forces_cos: 0.0087, forces_magnitude: 0.3010, energy_mae: 3.7143, energy_force_within_threshold: 0.0000, loss: 22.8372, epoch: 0.6736\n",
      "forcesx_mae: 0.1514, forcesy_mae: 0.1752, forcesz_mae: 0.1861, forces_mae: 0.1709, forces_cos: 0.0498, forces_magnitude: 0.2565, energy_mae: 3.7317, energy_force_within_threshold: 0.0000, loss: 20.8339, epoch: 0.6896\n",
      "forcesx_mae: 0.1554, forcesy_mae: 0.1886, forcesz_mae: 0.1912, forces_mae: 0.1784, forces_cos: 0.0294, forces_magnitude: 0.2715, energy_mae: 3.2269, energy_force_within_threshold: 0.0000, loss: 21.1421, epoch: 0.7056\n",
      "forcesx_mae: 0.1631, forcesy_mae: 0.1872, forcesz_mae: 0.1882, forces_mae: 0.1795, forces_cos: 0.0141, forces_magnitude: 0.2681, energy_mae: 3.6822, energy_force_within_threshold: 0.0000, loss: 21.5262, epoch: 0.7216\n",
      "forcesx_mae: 0.1579, forcesy_mae: 0.1927, forcesz_mae: 0.1985, forces_mae: 0.1831, forces_cos: 0.0352, forces_magnitude: 0.2602, energy_mae: 3.4898, energy_force_within_threshold: 0.0000, loss: 21.7933, epoch: 0.7376\n",
      "forcesx_mae: 0.1523, forcesy_mae: 0.1788, forcesz_mae: 0.1838, forces_mae: 0.1716, forces_cos: 0.0326, forces_magnitude: 0.2522, energy_mae: 3.4136, energy_force_within_threshold: 0.0000, loss: 20.6100, epoch: 0.7536\n",
      "forcesx_mae: 0.1802, forcesy_mae: 0.2094, forcesz_mae: 0.2081, forces_mae: 0.1992, forces_cos: 0.0370, forces_magnitude: 0.2985, energy_mae: 3.4846, energy_force_within_threshold: 0.0000, loss: 23.4663, epoch: 0.7696\n",
      "forcesx_mae: 0.1644, forcesy_mae: 0.1863, forcesz_mae: 0.1997, forces_mae: 0.1835, forces_cos: 0.0451, forces_magnitude: 0.2670, energy_mae: 3.1776, energy_force_within_threshold: 0.0000, loss: 21.6086, epoch: 0.7856\n",
      "forcesx_mae: 0.1505, forcesy_mae: 0.1854, forcesz_mae: 0.1788, forces_mae: 0.1716, forces_cos: 0.0311, forces_magnitude: 0.2507, energy_mae: 3.2440, energy_force_within_threshold: 0.0000, loss: 20.4366, epoch: 0.8016\n",
      "forcesx_mae: 0.1530, forcesy_mae: 0.1815, forcesz_mae: 0.1816, forces_mae: 0.1720, forces_cos: 0.0274, forces_magnitude: 0.2484, energy_mae: 3.1031, energy_force_within_threshold: 0.0000, loss: 20.2271, epoch: 0.8176\n",
      "forcesx_mae: 0.1387, forcesy_mae: 0.1562, forcesz_mae: 0.1637, forces_mae: 0.1529, forces_cos: 0.0350, forces_magnitude: 0.2272, energy_mae: 2.5417, energy_force_within_threshold: 0.0000, loss: 17.7792, epoch: 0.8336\n",
      "forcesx_mae: 0.1509, forcesy_mae: 0.1857, forcesz_mae: 0.1938, forces_mae: 0.1768, forces_cos: 0.0577, forces_magnitude: 0.2670, energy_mae: 3.5897, energy_force_within_threshold: 0.0000, loss: 21.3241, epoch: 0.8496\n",
      "forcesx_mae: 0.1363, forcesy_mae: 0.1638, forcesz_mae: 0.1703, forces_mae: 0.1568, forces_cos: 0.0380, forces_magnitude: 0.2322, energy_mae: 3.0638, energy_force_within_threshold: 0.0000, loss: 18.7520, epoch: 0.8656\n",
      "forcesx_mae: 0.1455, forcesy_mae: 0.1715, forcesz_mae: 0.1705, forces_mae: 0.1625, forces_cos: 0.0359, forces_magnitude: 0.2352, energy_mae: 3.3001, energy_force_within_threshold: 0.0000, loss: 19.4553, epoch: 0.8816\n",
      "forcesx_mae: 0.1505, forcesy_mae: 0.1769, forcesz_mae: 0.1913, forces_mae: 0.1729, forces_cos: 0.0446, forces_magnitude: 0.2621, energy_mae: 2.8338, energy_force_within_threshold: 0.0000, loss: 20.1027, epoch: 0.8976\n",
      "forcesx_mae: 0.1530, forcesy_mae: 0.1811, forcesz_mae: 0.2083, forces_mae: 0.1808, forces_cos: 0.0271, forces_magnitude: 0.2701, energy_mae: 3.7058, energy_force_within_threshold: 0.0000, loss: 21.7818, epoch: 0.9136\n",
      "forcesx_mae: 0.1351, forcesy_mae: 0.1628, forcesz_mae: 0.1728, forces_mae: 0.1569, forces_cos: 0.0235, forces_magnitude: 0.2333, energy_mae: 3.3804, energy_force_within_threshold: 0.0000, loss: 19.0903, epoch: 0.9296\n",
      "forcesx_mae: 0.1599, forcesy_mae: 0.1831, forcesz_mae: 0.1940, forces_mae: 0.1790, forces_cos: 0.0336, forces_magnitude: 0.2705, energy_mae: 3.3364, energy_force_within_threshold: 0.0000, loss: 21.3266, epoch: 0.9456\n",
      "forcesx_mae: 0.1309, forcesy_mae: 0.1661, forcesz_mae: 0.1651, forces_mae: 0.1540, forces_cos: 0.0431, forces_magnitude: 0.2388, energy_mae: 2.8949, energy_force_within_threshold: 0.0000, loss: 18.3400, epoch: 0.9616\n",
      "forcesx_mae: 0.1439, forcesy_mae: 0.1701, forcesz_mae: 0.1782, forces_mae: 0.1641, forces_cos: 0.0432, forces_magnitude: 0.2428, energy_mae: 3.4028, energy_force_within_threshold: 0.0000, loss: 19.7767, epoch: 0.9776\n",
      "forcesx_mae: 0.1302, forcesy_mae: 0.1556, forcesz_mae: 0.1548, forces_mae: 0.1469, forces_cos: 0.0277, forces_magnitude: 0.2212, energy_mae: 2.9360, energy_force_within_threshold: 0.0000, loss: 17.6490, epoch: 0.9936\n",
      "### Evaluating on val.\n"
     ]
    },
    {
     "name": "stderr",
     "output_type": "stream",
     "text": [
      "100%|██████████| 1250/1250 [00:23<00:00, 54.30it/s]\n"
     ]
    },
    {
     "name": "stdout",
     "output_type": "stream",
     "text": [
      "forcesx_mae: 0.1379, forcesy_mae: 0.1632, forcesz_mae: 0.1689, forces_mae: 0.1567, forces_cos: 0.0433, forces_magnitude: 0.2295, energy_mae: 3.6160, energy_force_within_threshold: 0.0000, loss: 19.2852, epoch: 1.0000\n",
      "### Evaluating on test.\n"
     ]
    },
    {
     "name": "stderr",
     "output_type": "stream",
     "text": [
      "100%|██████████| 1250/1250 [00:22<00:00, 54.54it/s]"
     ]
    },
    {
     "name": "stdout",
     "output_type": "stream",
     "text": [
      "forcesx_mae: 0.1379, forcesy_mae: 0.1632, forcesz_mae: 0.1689, forces_mae: 0.1567, forces_cos: 0.0433, forces_magnitude: 0.2295, energy_mae: 3.6160, energy_force_within_threshold: 0.0000, loss: 19.2852, epoch: 1.0000\n"
     ]
    },
    {
     "name": "stderr",
     "output_type": "stream",
     "text": [
      "\n"
     ]
    }
   ],
   "source": [
    "trainer.train()"
   ]
  },
  {
   "cell_type": "markdown",
   "metadata": {},
   "source": [
    "## Predict"
   ]
  },
  {
   "cell_type": "markdown",
   "metadata": {},
   "source": [
    "To make predictions on unseen data a `torch.utils.data` DataLoader object much be constructed. Here we reference our test set to make predictions on."
   ]
  },
  {
   "cell_type": "code",
   "execution_count": 14,
   "metadata": {},
   "outputs": [
    {
     "name": "stderr",
     "output_type": "stream",
     "text": [
      "100%|██████████| 1250/1250 [00:19<00:00, 62.52it/s]\n"
     ]
    }
   ],
   "source": [
    "# make predictions on the existing test_loader\n",
    "predictions = trainer.predict(trainer.test_loader, disable_tqdm=False)"
   ]
  },
  {
   "cell_type": "code",
   "execution_count": 18,
   "metadata": {},
   "outputs": [],
   "source": [
    "energy_pred = predictions[\"energy\"] # list of scalars\n",
    "forces_pred = predictions[\"forces\"] # list of arrays"
   ]
  }
 ],
 "metadata": {
  "kernelspec": {
   "display_name": "Python 3",
   "language": "python",
   "name": "python3"
  },
  "language_info": {
   "codemirror_mode": {
    "name": "ipython",
    "version": 3
   },
   "file_extension": ".py",
   "mimetype": "text/x-python",
   "name": "python",
   "nbconvert_exporter": "python",
   "pygments_lexer": "ipython3",
   "version": "3.6.11"
  }
 },
 "nbformat": 4,
 "nbformat_minor": 4
}
