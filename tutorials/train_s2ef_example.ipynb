{
 "cells": [
  {
   "cell_type": "markdown",
   "metadata": {},
   "source": [
    "# SchNet S2EF training example"
   ]
  },
  {
   "cell_type": "markdown",
   "metadata": {},
   "source": [
    "The purpose of this notebook is to demonstrate some of the basics of the Open Catalyst Project's (OCP) codebase and data. In this example, we will train a schnet model for predicting the energy and forces of a given structure (S2EF task). First, ensure you have installed the OCP ocp repo and all the dependencies according to the [README](https://github.com/Open-Catalyst-Project/ocp/blob/master/README.md)."
   ]
  },
  {
   "cell_type": "markdown",
   "metadata": {},
   "source": [
    "Disclaimer: This notebook is for tutorial purposes, it is unlikely it will be practical to train baseline models on our larger datasets using this format. As a next step, we recommend trying the command line examples. "
   ]
  },
  {
   "cell_type": "markdown",
   "metadata": {},
   "source": [
    "## Imports"
   ]
  },
  {
   "cell_type": "code",
   "execution_count": 2,
   "metadata": {},
   "outputs": [],
   "source": [
    "import torch\n",
    "import os\n",
    "from ocpmodels.trainers import ForcesTrainer, EnergyTrainer\n",
    "from ocpmodels import models\n",
    "from ocpmodels.common import logger\n",
    "from ocpmodels.common.utils import setup_logging\n",
    "setup_logging()"
   ]
  },
  {
   "cell_type": "code",
   "execution_count": 3,
   "metadata": {},
   "outputs": [
    {
     "name": "stdout",
     "output_type": "stream",
     "text": [
      "True\n"
     ]
    }
   ],
   "source": [
    "# a simple sanity check that a GPU is available\n",
    "if torch.cuda.is_available():\n",
    "    print(\"True\")\n",
    "else:\n",
    "    print(\"False\")"
   ]
  },
  {
   "cell_type": "markdown",
   "metadata": {},
   "source": [
    "## The essential steps for training an OCP model\n",
    "\n",
    "1) Download data\n",
    "\n",
    "2) Preprocess data (if necessary)\n",
    "\n",
    "3) Define or load a configuration (config), which includes the following\n",
    "   \n",
    "   - task\n",
    "   - model\n",
    "   - optimizer\n",
    "   - dataset\n",
    "   - trainer\n",
    "\n",
    "4) Train\n",
    "\n",
    "5) Depending on the model/task there might be intermediate relaxation step\n",
    "\n",
    "6) Predict"
   ]
  },
  {
   "cell_type": "markdown",
   "metadata": {},
   "source": [
    "## Dataset"
   ]
  },
  {
   "cell_type": "markdown",
   "metadata": {},
   "source": [
    "This examples uses the LMDB generated from the following [tutorial](http://laikapack.cheme.cmu.edu/notebook/open-catalyst-project/mshuaibi/notebooks/projects/ocp/docs/source/tutorials/lmdb_dataset_creation.ipynb). Please run that notebook before moving on. Alternatively, if you have other LMDBs available you may specify that instead."
   ]
  },
  {
   "cell_type": "code",
   "execution_count": 13,
   "metadata": {},
   "outputs": [],
   "source": [
    "# set the path to your local lmdb directory\n",
    "train_src = \"s2ef\""
   ]
  },
  {
   "cell_type": "markdown",
   "metadata": {},
   "source": [
    "## Define config"
   ]
  },
  {
   "cell_type": "markdown",
   "metadata": {},
   "source": [
    "For this example, we will explicitly define the config; however, a set of default config files exists in the config folder of this repository. Default config yaml files can easily be loaded with the `build_config` util (found in `ocp/ocpmodels/common/utils.py`). Loading a yaml config is preferrable when launching jobs from the command line. We have included our best models' config files [here](https://github.com/Open-Catalyst-Project/ocp/tree/master/configs/s2ef)."
   ]
  },
  {
   "cell_type": "markdown",
   "metadata": {},
   "source": [
    "**Task** "
   ]
  },
  {
   "cell_type": "code",
   "execution_count": 14,
   "metadata": {},
   "outputs": [],
   "source": [
    "task = {\n",
    "    'dataset': 'trajectory_lmdb', # dataset used for the S2EF task\n",
    "    'description': 'Regressing to energies and forces for DFT trajectories from OCP',\n",
    "    'type': 'regression',\n",
    "    'metric': 'mae',\n",
    "    'labels': ['potential energy'],\n",
    "    'grad_input': 'atomic forces',\n",
    "    'train_on_free_atoms': True,\n",
    "    'eval_on_free_atoms': True\n",
    "}"
   ]
  },
  {
   "cell_type": "markdown",
   "metadata": {},
   "source": [
    "**Model** - SchNet for this example"
   ]
  },
  {
   "cell_type": "code",
   "execution_count": 15,
   "metadata": {},
   "outputs": [],
   "source": [
    "model = {\n",
    "    'name': 'schnet',\n",
    "    'hidden_channels': 1024, # if training is too slow for example purposes reduce the number of hidden channels\n",
    "    'num_filters': 256,\n",
    "    'num_interactions': 3,\n",
    "    'num_gaussians': 200,\n",
    "    'cutoff': 6.0\n",
    "}"
   ]
  },
  {
   "cell_type": "markdown",
   "metadata": {},
   "source": [
    "**Optimizer**"
   ]
  },
  {
   "cell_type": "code",
   "execution_count": 16,
   "metadata": {},
   "outputs": [],
   "source": [
    "optimizer = {\n",
    "    'batch_size': 16, # if hitting GPU memory issues, lower this\n",
    "    'eval_batch_size': 8,\n",
    "    'num_workers': 8,\n",
    "    'lr_initial': 0.0001,\n",
    "    'scheduler': \"ReduceLROnPlateau\",\n",
    "    'mode': \"min\",\n",
    "    'factor': 0.8,\n",
    "    'patience': 3,\n",
    "    'max_epochs': 80,\n",
    "    'max_epochs': 1, # used for demonstration purposes\n",
    "    'force_coefficient': 100,\n",
    "}"
   ]
  },
  {
   "cell_type": "markdown",
   "metadata": {},
   "source": [
    "**Dataset**"
   ]
  },
  {
   "cell_type": "markdown",
   "metadata": {},
   "source": [
    "For simplicity, `train_src` is used for all the train/val/test sets. Feel free to update with the actual S2EF val and test sets, but it does require additional downloads and preprocessing. If you desire to normalize your targets, `normalize_labels` must be set to `True` and corresponding `mean` and `stds` need to be specified. These values have been precomputed for you and can be found in any of the [`base.yml`](https://github.com/Open-Catalyst-Project/ocp/blob/master/configs/s2ef/20M/base.yml#L5-L9) config files."
   ]
  },
  {
   "cell_type": "code",
   "execution_count": 17,
   "metadata": {},
   "outputs": [],
   "source": [
    "dataset = [\n",
    "{'src': train_src, 'normalize_labels': False}, # train set \n",
    "{'src': train_src}, # val set (optional)\n",
    "{'src': train_src} # test set (optional - writes predictions to disk)\n",
    "]"
   ]
  },
  {
   "cell_type": "markdown",
   "metadata": {},
   "source": [
    "**Trainer**"
   ]
  },
  {
   "cell_type": "markdown",
   "metadata": {},
   "source": [
    "Use the `ForcesTrainer` for the S2EF and IS2RS tasks, and the `EnergyTrainer` for the IS2RE task "
   ]
  },
  {
   "cell_type": "code",
   "execution_count": 18,
   "metadata": {},
   "outputs": [
    {
     "name": "stdout",
     "output_type": "stream",
     "text": [
      "amp: false\n",
      "cmd:\n",
      "  checkpoint_dir: ./checkpoints/2022-04-21-14-18-40-SchNet-example\n",
      "  commit: c933847\n",
      "  identifier: SchNet-example\n",
      "  logs_dir: ./logs/tensorboard/2022-04-21-14-18-40-SchNet-example\n",
      "  print_every: 5\n",
      "  results_dir: ./results/2022-04-21-14-18-40-SchNet-example\n",
      "  seed: 0\n",
      "  timestamp_id: 2022-04-21-14-18-40-SchNet-example\n",
      "dataset:\n",
      "  normalize_labels: false\n",
      "  src: s2ef\n",
      "gpus: 1\n",
      "logger: tensorboard\n",
      "model: schnet\n",
      "model_attributes:\n",
      "  cutoff: 6.0\n",
      "  hidden_channels: 1024\n",
      "  num_filters: 256\n",
      "  num_gaussians: 200\n",
      "  num_interactions: 3\n",
      "optim:\n",
      "  batch_size: 16\n",
      "  eval_batch_size: 8\n",
      "  factor: 0.8\n",
      "  force_coefficient: 100\n",
      "  lr_initial: 0.0001\n",
      "  max_epochs: 1\n",
      "  mode: min\n",
      "  num_workers: 8\n",
      "  patience: 3\n",
      "  scheduler: ReduceLROnPlateau\n",
      "slurm: {}\n",
      "task:\n",
      "  dataset: trajectory_lmdb\n",
      "  description: Regressing to energies and forces for DFT trajectories from OCP\n",
      "  eval_on_free_atoms: true\n",
      "  grad_input: atomic forces\n",
      "  labels:\n",
      "  - potential energy\n",
      "  metric: mae\n",
      "  train_on_free_atoms: true\n",
      "  type: regression\n",
      "test_dataset:\n",
      "  src: s2ef\n",
      "val_dataset:\n",
      "  src: s2ef\n",
      "\n"
     ]
    },
    {
     "ename": "AssertionError",
     "evalue": "No LMDBs found in 's2ef'",
     "output_type": "error",
     "traceback": [
      "\u001b[0;31m---------------------------------------------------------------------------\u001b[0m",
      "\u001b[0;31mAssertionError\u001b[0m                            Traceback (most recent call last)",
      "\u001b[1;32m/home/mila/a/alexandre.duval/ocp/ocp/tutorials/train_s2ef_example.ipynb Cell 24'\u001b[0m in \u001b[0;36m<cell line: 1>\u001b[0;34m()\u001b[0m\n\u001b[0;32m----> <a href='vscode-notebook-cell://ssh-remote%2Bcn-b004.server.mila.quebec/home/mila/a/alexandre.duval/ocp/ocp/tutorials/train_s2ef_example.ipynb#ch0000023vscode-remote?line=0'>1</a>\u001b[0m trainer \u001b[39m=\u001b[39m ForcesTrainer(\n\u001b[1;32m      <a href='vscode-notebook-cell://ssh-remote%2Bcn-b004.server.mila.quebec/home/mila/a/alexandre.duval/ocp/ocp/tutorials/train_s2ef_example.ipynb#ch0000023vscode-remote?line=1'>2</a>\u001b[0m     task\u001b[39m=\u001b[39;49mtask,\n\u001b[1;32m      <a href='vscode-notebook-cell://ssh-remote%2Bcn-b004.server.mila.quebec/home/mila/a/alexandre.duval/ocp/ocp/tutorials/train_s2ef_example.ipynb#ch0000023vscode-remote?line=2'>3</a>\u001b[0m     model\u001b[39m=\u001b[39;49mmodel,\n\u001b[1;32m      <a href='vscode-notebook-cell://ssh-remote%2Bcn-b004.server.mila.quebec/home/mila/a/alexandre.duval/ocp/ocp/tutorials/train_s2ef_example.ipynb#ch0000023vscode-remote?line=3'>4</a>\u001b[0m     dataset\u001b[39m=\u001b[39;49mdataset,\n\u001b[1;32m      <a href='vscode-notebook-cell://ssh-remote%2Bcn-b004.server.mila.quebec/home/mila/a/alexandre.duval/ocp/ocp/tutorials/train_s2ef_example.ipynb#ch0000023vscode-remote?line=4'>5</a>\u001b[0m     optimizer\u001b[39m=\u001b[39;49moptimizer,\n\u001b[1;32m      <a href='vscode-notebook-cell://ssh-remote%2Bcn-b004.server.mila.quebec/home/mila/a/alexandre.duval/ocp/ocp/tutorials/train_s2ef_example.ipynb#ch0000023vscode-remote?line=5'>6</a>\u001b[0m     identifier\u001b[39m=\u001b[39;49m\u001b[39m\"\u001b[39;49m\u001b[39mSchNet-example\u001b[39;49m\u001b[39m\"\u001b[39;49m,\n\u001b[1;32m      <a href='vscode-notebook-cell://ssh-remote%2Bcn-b004.server.mila.quebec/home/mila/a/alexandre.duval/ocp/ocp/tutorials/train_s2ef_example.ipynb#ch0000023vscode-remote?line=6'>7</a>\u001b[0m     run_dir\u001b[39m=\u001b[39;49m\u001b[39m\"\u001b[39;49m\u001b[39m./\u001b[39;49m\u001b[39m\"\u001b[39;49m, \u001b[39m# directory to save results if is_debug=False. Prediction files are saved here so be careful not to override!\u001b[39;49;00m\n\u001b[1;32m      <a href='vscode-notebook-cell://ssh-remote%2Bcn-b004.server.mila.quebec/home/mila/a/alexandre.duval/ocp/ocp/tutorials/train_s2ef_example.ipynb#ch0000023vscode-remote?line=7'>8</a>\u001b[0m     is_debug\u001b[39m=\u001b[39;49m\u001b[39mFalse\u001b[39;49;00m, \u001b[39m# if True, do not save checkpoint, logs, or results\u001b[39;49;00m\n\u001b[1;32m      <a href='vscode-notebook-cell://ssh-remote%2Bcn-b004.server.mila.quebec/home/mila/a/alexandre.duval/ocp/ocp/tutorials/train_s2ef_example.ipynb#ch0000023vscode-remote?line=8'>9</a>\u001b[0m     \u001b[39m#is_vis=False,\u001b[39;49;00m\n\u001b[1;32m     <a href='vscode-notebook-cell://ssh-remote%2Bcn-b004.server.mila.quebec/home/mila/a/alexandre.duval/ocp/ocp/tutorials/train_s2ef_example.ipynb#ch0000023vscode-remote?line=9'>10</a>\u001b[0m     print_every\u001b[39m=\u001b[39;49m\u001b[39m5\u001b[39;49m,\n\u001b[1;32m     <a href='vscode-notebook-cell://ssh-remote%2Bcn-b004.server.mila.quebec/home/mila/a/alexandre.duval/ocp/ocp/tutorials/train_s2ef_example.ipynb#ch0000023vscode-remote?line=10'>11</a>\u001b[0m     seed\u001b[39m=\u001b[39;49m\u001b[39m0\u001b[39;49m, \u001b[39m# random seed to use\u001b[39;49;00m\n\u001b[1;32m     <a href='vscode-notebook-cell://ssh-remote%2Bcn-b004.server.mila.quebec/home/mila/a/alexandre.duval/ocp/ocp/tutorials/train_s2ef_example.ipynb#ch0000023vscode-remote?line=11'>12</a>\u001b[0m     logger\u001b[39m=\u001b[39;49m\u001b[39m\"\u001b[39;49m\u001b[39mtensorboard\u001b[39;49m\u001b[39m\"\u001b[39;49m, \u001b[39m# logger of choice (tensorboard and wandb supported)\u001b[39;49;00m\n\u001b[1;32m     <a href='vscode-notebook-cell://ssh-remote%2Bcn-b004.server.mila.quebec/home/mila/a/alexandre.duval/ocp/ocp/tutorials/train_s2ef_example.ipynb#ch0000023vscode-remote?line=12'>13</a>\u001b[0m     local_rank\u001b[39m=\u001b[39;49m\u001b[39m0\u001b[39;49m,\n\u001b[1;32m     <a href='vscode-notebook-cell://ssh-remote%2Bcn-b004.server.mila.quebec/home/mila/a/alexandre.duval/ocp/ocp/tutorials/train_s2ef_example.ipynb#ch0000023vscode-remote?line=13'>14</a>\u001b[0m     amp\u001b[39m=\u001b[39;49m\u001b[39mFalse\u001b[39;49;00m, \u001b[39m# use PyTorch Automatic Mixed Precision (faster training and less memory usage)\u001b[39;49;00m\n\u001b[1;32m     <a href='vscode-notebook-cell://ssh-remote%2Bcn-b004.server.mila.quebec/home/mila/a/alexandre.duval/ocp/ocp/tutorials/train_s2ef_example.ipynb#ch0000023vscode-remote?line=14'>15</a>\u001b[0m )\n",
      "File \u001b[0;32m~/ocp/ocp/ocpmodels/trainers/forces_trainer.py:86\u001b[0m, in \u001b[0;36mForcesTrainer.__init__\u001b[0;34m(self, task, model, dataset, optimizer, identifier, normalizer, timestamp_id, run_dir, is_debug, is_hpo, print_every, seed, logger, local_rank, amp, cpu, slurm)\u001b[0m\n\u001b[1;32m     <a href='file:///home/mila/a/alexandre.duval/ocp/ocp/ocpmodels/trainers/forces_trainer.py?line=65'>66</a>\u001b[0m \u001b[39mdef\u001b[39;00m \u001b[39m__init__\u001b[39m(\n\u001b[1;32m     <a href='file:///home/mila/a/alexandre.duval/ocp/ocp/ocpmodels/trainers/forces_trainer.py?line=66'>67</a>\u001b[0m     \u001b[39mself\u001b[39m,\n\u001b[1;32m     <a href='file:///home/mila/a/alexandre.duval/ocp/ocp/ocpmodels/trainers/forces_trainer.py?line=67'>68</a>\u001b[0m     task,\n\u001b[0;32m   (...)\u001b[0m\n\u001b[1;32m     <a href='file:///home/mila/a/alexandre.duval/ocp/ocp/ocpmodels/trainers/forces_trainer.py?line=83'>84</a>\u001b[0m     slurm\u001b[39m=\u001b[39m{},\n\u001b[1;32m     <a href='file:///home/mila/a/alexandre.duval/ocp/ocp/ocpmodels/trainers/forces_trainer.py?line=84'>85</a>\u001b[0m ):\n\u001b[0;32m---> <a href='file:///home/mila/a/alexandre.duval/ocp/ocp/ocpmodels/trainers/forces_trainer.py?line=85'>86</a>\u001b[0m     \u001b[39msuper\u001b[39;49m()\u001b[39m.\u001b[39;49m\u001b[39m__init__\u001b[39;49m(\n\u001b[1;32m     <a href='file:///home/mila/a/alexandre.duval/ocp/ocp/ocpmodels/trainers/forces_trainer.py?line=86'>87</a>\u001b[0m         task\u001b[39m=\u001b[39;49mtask,\n\u001b[1;32m     <a href='file:///home/mila/a/alexandre.duval/ocp/ocp/ocpmodels/trainers/forces_trainer.py?line=87'>88</a>\u001b[0m         model\u001b[39m=\u001b[39;49mmodel,\n\u001b[1;32m     <a href='file:///home/mila/a/alexandre.duval/ocp/ocp/ocpmodels/trainers/forces_trainer.py?line=88'>89</a>\u001b[0m         dataset\u001b[39m=\u001b[39;49mdataset,\n\u001b[1;32m     <a href='file:///home/mila/a/alexandre.duval/ocp/ocp/ocpmodels/trainers/forces_trainer.py?line=89'>90</a>\u001b[0m         optimizer\u001b[39m=\u001b[39;49moptimizer,\n\u001b[1;32m     <a href='file:///home/mila/a/alexandre.duval/ocp/ocp/ocpmodels/trainers/forces_trainer.py?line=90'>91</a>\u001b[0m         identifier\u001b[39m=\u001b[39;49midentifier,\n\u001b[1;32m     <a href='file:///home/mila/a/alexandre.duval/ocp/ocp/ocpmodels/trainers/forces_trainer.py?line=91'>92</a>\u001b[0m         normalizer\u001b[39m=\u001b[39;49mnormalizer,\n\u001b[1;32m     <a href='file:///home/mila/a/alexandre.duval/ocp/ocp/ocpmodels/trainers/forces_trainer.py?line=92'>93</a>\u001b[0m         timestamp_id\u001b[39m=\u001b[39;49mtimestamp_id,\n\u001b[1;32m     <a href='file:///home/mila/a/alexandre.duval/ocp/ocp/ocpmodels/trainers/forces_trainer.py?line=93'>94</a>\u001b[0m         run_dir\u001b[39m=\u001b[39;49mrun_dir,\n\u001b[1;32m     <a href='file:///home/mila/a/alexandre.duval/ocp/ocp/ocpmodels/trainers/forces_trainer.py?line=94'>95</a>\u001b[0m         is_debug\u001b[39m=\u001b[39;49mis_debug,\n\u001b[1;32m     <a href='file:///home/mila/a/alexandre.duval/ocp/ocp/ocpmodels/trainers/forces_trainer.py?line=95'>96</a>\u001b[0m         is_hpo\u001b[39m=\u001b[39;49mis_hpo,\n\u001b[1;32m     <a href='file:///home/mila/a/alexandre.duval/ocp/ocp/ocpmodels/trainers/forces_trainer.py?line=96'>97</a>\u001b[0m         print_every\u001b[39m=\u001b[39;49mprint_every,\n\u001b[1;32m     <a href='file:///home/mila/a/alexandre.duval/ocp/ocp/ocpmodels/trainers/forces_trainer.py?line=97'>98</a>\u001b[0m         seed\u001b[39m=\u001b[39;49mseed,\n\u001b[1;32m     <a href='file:///home/mila/a/alexandre.duval/ocp/ocp/ocpmodels/trainers/forces_trainer.py?line=98'>99</a>\u001b[0m         logger\u001b[39m=\u001b[39;49mlogger,\n\u001b[1;32m    <a href='file:///home/mila/a/alexandre.duval/ocp/ocp/ocpmodels/trainers/forces_trainer.py?line=99'>100</a>\u001b[0m         local_rank\u001b[39m=\u001b[39;49mlocal_rank,\n\u001b[1;32m    <a href='file:///home/mila/a/alexandre.duval/ocp/ocp/ocpmodels/trainers/forces_trainer.py?line=100'>101</a>\u001b[0m         amp\u001b[39m=\u001b[39;49mamp,\n\u001b[1;32m    <a href='file:///home/mila/a/alexandre.duval/ocp/ocp/ocpmodels/trainers/forces_trainer.py?line=101'>102</a>\u001b[0m         cpu\u001b[39m=\u001b[39;49mcpu,\n\u001b[1;32m    <a href='file:///home/mila/a/alexandre.duval/ocp/ocp/ocpmodels/trainers/forces_trainer.py?line=102'>103</a>\u001b[0m         name\u001b[39m=\u001b[39;49m\u001b[39m\"\u001b[39;49m\u001b[39ms2ef\u001b[39;49m\u001b[39m\"\u001b[39;49m,\n\u001b[1;32m    <a href='file:///home/mila/a/alexandre.duval/ocp/ocp/ocpmodels/trainers/forces_trainer.py?line=103'>104</a>\u001b[0m         slurm\u001b[39m=\u001b[39;49mslurm,\n\u001b[1;32m    <a href='file:///home/mila/a/alexandre.duval/ocp/ocp/ocpmodels/trainers/forces_trainer.py?line=104'>105</a>\u001b[0m     )\n",
      "File \u001b[0;32m~/ocp/ocp/ocpmodels/trainers/base_trainer.py:192\u001b[0m, in \u001b[0;36mBaseTrainer.__init__\u001b[0;34m(self, task, model, dataset, optimizer, identifier, normalizer, timestamp_id, run_dir, is_debug, is_hpo, print_every, seed, logger, local_rank, amp, cpu, name, slurm)\u001b[0m\n\u001b[1;32m    <a href='file:///home/mila/a/alexandre.duval/ocp/ocp/ocpmodels/trainers/base_trainer.py?line=189'>190</a>\u001b[0m \u001b[39mif\u001b[39;00m distutils\u001b[39m.\u001b[39mis_master():\n\u001b[1;32m    <a href='file:///home/mila/a/alexandre.duval/ocp/ocp/ocpmodels/trainers/base_trainer.py?line=190'>191</a>\u001b[0m     \u001b[39mprint\u001b[39m(yaml\u001b[39m.\u001b[39mdump(\u001b[39mself\u001b[39m\u001b[39m.\u001b[39mconfig, default_flow_style\u001b[39m=\u001b[39m\u001b[39mFalse\u001b[39;00m))\n\u001b[0;32m--> <a href='file:///home/mila/a/alexandre.duval/ocp/ocp/ocpmodels/trainers/base_trainer.py?line=191'>192</a>\u001b[0m \u001b[39mself\u001b[39;49m\u001b[39m.\u001b[39;49mload()\n\u001b[1;32m    <a href='file:///home/mila/a/alexandre.duval/ocp/ocp/ocpmodels/trainers/base_trainer.py?line=193'>194</a>\u001b[0m \u001b[39mself\u001b[39m\u001b[39m.\u001b[39mevaluator \u001b[39m=\u001b[39m Evaluator(task\u001b[39m=\u001b[39mname)\n",
      "File \u001b[0;32m~/ocp/ocp/ocpmodels/trainers/base_trainer.py:199\u001b[0m, in \u001b[0;36mBaseTrainer.load\u001b[0;34m(self)\u001b[0m\n\u001b[1;32m    <a href='file:///home/mila/a/alexandre.duval/ocp/ocp/ocpmodels/trainers/base_trainer.py?line=196'>197</a>\u001b[0m \u001b[39mself\u001b[39m\u001b[39m.\u001b[39mload_seed_from_config()\n\u001b[1;32m    <a href='file:///home/mila/a/alexandre.duval/ocp/ocp/ocpmodels/trainers/base_trainer.py?line=197'>198</a>\u001b[0m \u001b[39mself\u001b[39m\u001b[39m.\u001b[39mload_logger()\n\u001b[0;32m--> <a href='file:///home/mila/a/alexandre.duval/ocp/ocp/ocpmodels/trainers/base_trainer.py?line=198'>199</a>\u001b[0m \u001b[39mself\u001b[39;49m\u001b[39m.\u001b[39;49mload_datasets()\n\u001b[1;32m    <a href='file:///home/mila/a/alexandre.duval/ocp/ocp/ocpmodels/trainers/base_trainer.py?line=199'>200</a>\u001b[0m \u001b[39mself\u001b[39m\u001b[39m.\u001b[39mload_task()\n\u001b[1;32m    <a href='file:///home/mila/a/alexandre.duval/ocp/ocp/ocpmodels/trainers/base_trainer.py?line=200'>201</a>\u001b[0m \u001b[39mself\u001b[39m\u001b[39m.\u001b[39mload_model()\n",
      "File \u001b[0;32m~/ocp/ocp/ocpmodels/trainers/base_trainer.py:269\u001b[0m, in \u001b[0;36mBaseTrainer.load_datasets\u001b[0;34m(self)\u001b[0m\n\u001b[1;32m    <a href='file:///home/mila/a/alexandre.duval/ocp/ocp/ocpmodels/trainers/base_trainer.py?line=265'>266</a>\u001b[0m \u001b[39mself\u001b[39m\u001b[39m.\u001b[39mtrain_loader \u001b[39m=\u001b[39m \u001b[39mself\u001b[39m\u001b[39m.\u001b[39mval_loader \u001b[39m=\u001b[39m \u001b[39mself\u001b[39m\u001b[39m.\u001b[39mtest_loader \u001b[39m=\u001b[39m \u001b[39mNone\u001b[39;00m\n\u001b[1;32m    <a href='file:///home/mila/a/alexandre.duval/ocp/ocp/ocpmodels/trainers/base_trainer.py?line=267'>268</a>\u001b[0m \u001b[39mif\u001b[39;00m \u001b[39mself\u001b[39m\u001b[39m.\u001b[39mconfig\u001b[39m.\u001b[39mget(\u001b[39m\"\u001b[39m\u001b[39mdataset\u001b[39m\u001b[39m\"\u001b[39m, \u001b[39mNone\u001b[39;00m):\n\u001b[0;32m--> <a href='file:///home/mila/a/alexandre.duval/ocp/ocp/ocpmodels/trainers/base_trainer.py?line=268'>269</a>\u001b[0m     \u001b[39mself\u001b[39m\u001b[39m.\u001b[39mtrain_dataset \u001b[39m=\u001b[39m registry\u001b[39m.\u001b[39;49mget_dataset_class(\n\u001b[1;32m    <a href='file:///home/mila/a/alexandre.duval/ocp/ocp/ocpmodels/trainers/base_trainer.py?line=269'>270</a>\u001b[0m         \u001b[39mself\u001b[39;49m\u001b[39m.\u001b[39;49mconfig[\u001b[39m\"\u001b[39;49m\u001b[39mtask\u001b[39;49m\u001b[39m\"\u001b[39;49m][\u001b[39m\"\u001b[39;49m\u001b[39mdataset\u001b[39;49m\u001b[39m\"\u001b[39;49m]\n\u001b[1;32m    <a href='file:///home/mila/a/alexandre.duval/ocp/ocp/ocpmodels/trainers/base_trainer.py?line=270'>271</a>\u001b[0m     )(\u001b[39mself\u001b[39;49m\u001b[39m.\u001b[39;49mconfig[\u001b[39m\"\u001b[39;49m\u001b[39mdataset\u001b[39;49m\u001b[39m\"\u001b[39;49m])\n\u001b[1;32m    <a href='file:///home/mila/a/alexandre.duval/ocp/ocp/ocpmodels/trainers/base_trainer.py?line=271'>272</a>\u001b[0m     \u001b[39mself\u001b[39m\u001b[39m.\u001b[39mtrain_sampler \u001b[39m=\u001b[39m \u001b[39mself\u001b[39m\u001b[39m.\u001b[39mget_sampler(\n\u001b[1;32m    <a href='file:///home/mila/a/alexandre.duval/ocp/ocp/ocpmodels/trainers/base_trainer.py?line=272'>273</a>\u001b[0m         \u001b[39mself\u001b[39m\u001b[39m.\u001b[39mtrain_dataset,\n\u001b[1;32m    <a href='file:///home/mila/a/alexandre.duval/ocp/ocp/ocpmodels/trainers/base_trainer.py?line=273'>274</a>\u001b[0m         \u001b[39mself\u001b[39m\u001b[39m.\u001b[39mconfig[\u001b[39m\"\u001b[39m\u001b[39moptim\u001b[39m\u001b[39m\"\u001b[39m][\u001b[39m\"\u001b[39m\u001b[39mbatch_size\u001b[39m\u001b[39m\"\u001b[39m],\n\u001b[1;32m    <a href='file:///home/mila/a/alexandre.duval/ocp/ocp/ocpmodels/trainers/base_trainer.py?line=274'>275</a>\u001b[0m         shuffle\u001b[39m=\u001b[39m\u001b[39mTrue\u001b[39;00m,\n\u001b[1;32m    <a href='file:///home/mila/a/alexandre.duval/ocp/ocp/ocpmodels/trainers/base_trainer.py?line=275'>276</a>\u001b[0m     )\n\u001b[1;32m    <a href='file:///home/mila/a/alexandre.duval/ocp/ocp/ocpmodels/trainers/base_trainer.py?line=276'>277</a>\u001b[0m     \u001b[39mself\u001b[39m\u001b[39m.\u001b[39mtrain_loader \u001b[39m=\u001b[39m \u001b[39mself\u001b[39m\u001b[39m.\u001b[39mget_dataloader(\n\u001b[1;32m    <a href='file:///home/mila/a/alexandre.duval/ocp/ocp/ocpmodels/trainers/base_trainer.py?line=277'>278</a>\u001b[0m         \u001b[39mself\u001b[39m\u001b[39m.\u001b[39mtrain_dataset,\n\u001b[1;32m    <a href='file:///home/mila/a/alexandre.duval/ocp/ocp/ocpmodels/trainers/base_trainer.py?line=278'>279</a>\u001b[0m         \u001b[39mself\u001b[39m\u001b[39m.\u001b[39mtrain_sampler,\n\u001b[1;32m    <a href='file:///home/mila/a/alexandre.duval/ocp/ocp/ocpmodels/trainers/base_trainer.py?line=279'>280</a>\u001b[0m     )\n",
      "File \u001b[0;32m~/ocp/ocp/ocpmodels/datasets/lmdb_dataset.py:50\u001b[0m, in \u001b[0;36mLmdbDataset.__init__\u001b[0;34m(self, config, transform)\u001b[0m\n\u001b[1;32m     <a href='file:///home/mila/a/alexandre.duval/ocp/ocp/ocpmodels/datasets/lmdb_dataset.py?line=47'>48</a>\u001b[0m \u001b[39mif\u001b[39;00m \u001b[39mnot\u001b[39;00m \u001b[39mself\u001b[39m\u001b[39m.\u001b[39mpath\u001b[39m.\u001b[39mis_file():\n\u001b[1;32m     <a href='file:///home/mila/a/alexandre.duval/ocp/ocp/ocpmodels/datasets/lmdb_dataset.py?line=48'>49</a>\u001b[0m     db_paths \u001b[39m=\u001b[39m \u001b[39msorted\u001b[39m(\u001b[39mself\u001b[39m\u001b[39m.\u001b[39mpath\u001b[39m.\u001b[39mglob(\u001b[39m\"\u001b[39m\u001b[39m*.lmdb\u001b[39m\u001b[39m\"\u001b[39m))\n\u001b[0;32m---> <a href='file:///home/mila/a/alexandre.duval/ocp/ocp/ocpmodels/datasets/lmdb_dataset.py?line=49'>50</a>\u001b[0m     \u001b[39massert\u001b[39;00m \u001b[39mlen\u001b[39m(db_paths) \u001b[39m>\u001b[39m \u001b[39m0\u001b[39m, \u001b[39mf\u001b[39m\u001b[39m\"\u001b[39m\u001b[39mNo LMDBs found in \u001b[39m\u001b[39m'\u001b[39m\u001b[39m{\u001b[39;00m\u001b[39mself\u001b[39m\u001b[39m.\u001b[39mpath\u001b[39m}\u001b[39;00m\u001b[39m'\u001b[39m\u001b[39m\"\u001b[39m\n\u001b[1;32m     <a href='file:///home/mila/a/alexandre.duval/ocp/ocp/ocpmodels/datasets/lmdb_dataset.py?line=51'>52</a>\u001b[0m     \u001b[39mself\u001b[39m\u001b[39m.\u001b[39mmetadata_path \u001b[39m=\u001b[39m \u001b[39mself\u001b[39m\u001b[39m.\u001b[39mpath \u001b[39m/\u001b[39m \u001b[39m\"\u001b[39m\u001b[39mmetadata.npz\u001b[39m\u001b[39m\"\u001b[39m\n\u001b[1;32m     <a href='file:///home/mila/a/alexandre.duval/ocp/ocp/ocpmodels/datasets/lmdb_dataset.py?line=53'>54</a>\u001b[0m     \u001b[39mself\u001b[39m\u001b[39m.\u001b[39m_keys, \u001b[39mself\u001b[39m\u001b[39m.\u001b[39menvs \u001b[39m=\u001b[39m [], []\n",
      "\u001b[0;31mAssertionError\u001b[0m: No LMDBs found in 's2ef'"
     ]
    },
    {
     "name": "stderr",
     "output_type": "stream",
     "text": [
      "Traceback (most recent call last):\n",
      "  File \"/home/mila/a/alexandre.duval/.conda/envs/ocp/lib/python3.8/runpy.py\", line 194, in _run_module_as_main\n",
      "    return _run_code(code, main_globals, None,\n",
      "  File \"/home/mila/a/alexandre.duval/.conda/envs/ocp/lib/python3.8/runpy.py\", line 87, in _run_code\n",
      "    exec(code, run_globals)\n",
      "  File \"/home/mila/a/alexandre.duval/.conda/envs/ocp/lib/python3.8/site-packages/ipykernel_launcher.py\", line 16, in <module>\n",
      "    app.launch_new_instance()\n",
      "  File \"/home/mila/a/alexandre.duval/.conda/envs/ocp/lib/python3.8/site-packages/traitlets/config/application.py\", line 846, in launch_instance\n",
      "    app.start()\n",
      "  File \"/home/mila/a/alexandre.duval/.conda/envs/ocp/lib/python3.8/site-packages/ipykernel/kernelapp.py\", line 677, in start\n",
      "    self.io_loop.start()\n",
      "  File \"/home/mila/a/alexandre.duval/.conda/envs/ocp/lib/python3.8/site-packages/tornado/platform/asyncio.py\", line 199, in start\n",
      "    self.asyncio_loop.run_forever()\n",
      "  File \"/home/mila/a/alexandre.duval/.conda/envs/ocp/lib/python3.8/asyncio/base_events.py\", line 570, in run_forever\n",
      "    self._run_once()\n",
      "  File \"/home/mila/a/alexandre.duval/.conda/envs/ocp/lib/python3.8/asyncio/base_events.py\", line 1823, in _run_once\n",
      "    event_list = self._selector.select(timeout)\n",
      "  File \"/home/mila/a/alexandre.duval/.conda/envs/ocp/lib/python3.8/selectors.py\", line 468, in select\n",
      "    fd_event_list = self._selector.poll(timeout, max_ev)\n",
      "  File \"/home/mila/a/alexandre.duval/.conda/envs/ocp/lib/python3.8/site-packages/torch/utils/data/_utils/signal_handling.py\", line 66, in handler\n",
      "    _error_if_any_worker_fails()\n",
      "RuntimeError: DataLoader worker (pid 32079) is killed by signal: Killed. \n"
     ]
    }
   ],
   "source": [
    "trainer = ForcesTrainer(\n",
    "    task=task,\n",
    "    model=model,\n",
    "    dataset=dataset,\n",
    "    optimizer=optimizer,\n",
    "    identifier=\"SchNet-example\",\n",
    "    run_dir=\"./\", # directory to save results if is_debug=False. Prediction files are saved here so be careful not to override!\n",
    "    is_debug=False, # if True, do not save checkpoint, logs, or results\n",
    "    #is_vis=False,\n",
    "    print_every=5,\n",
    "    seed=0, # random seed to use\n",
    "    logger=\"tensorboard\", # logger of choice (tensorboard and wandb supported)\n",
    "    local_rank=0,\n",
    "    amp=False, # use PyTorch Automatic Mixed Precision (faster training and less memory usage)\n",
    ")"
   ]
  },
  {
   "cell_type": "markdown",
   "metadata": {},
   "source": [
    "## Check the model"
   ]
  },
  {
   "cell_type": "code",
   "execution_count": 21,
   "metadata": {},
   "outputs": [
    {
     "name": "stdout",
     "output_type": "stream",
     "text": [
      "OCPDataParallel(\n",
      "  (module): SchNetWrap(hidden_channels=1024, num_filters=256, num_interactions=3, num_gaussians=200, cutoff=6.0)\n",
      ")\n"
     ]
    }
   ],
   "source": [
    "print(trainer.model)"
   ]
  },
  {
   "cell_type": "markdown",
   "metadata": {},
   "source": [
    "## Train"
   ]
  },
  {
   "cell_type": "code",
   "execution_count": 22,
   "metadata": {
    "scrolled": false
   },
   "outputs": [
    {
     "ename": "AttributeError",
     "evalue": "'tuple' object has no attribute 'shape'",
     "output_type": "error",
     "traceback": [
      "\u001b[0;31m---------------------------------------------------------------------------\u001b[0m",
      "\u001b[0;31mAttributeError\u001b[0m                            Traceback (most recent call last)",
      "\u001b[1;32m/home/mila/a/alexandre.duval/ocp/ocp/tutorials/train_s2ef_example.ipynb Cell 28'\u001b[0m in \u001b[0;36m<cell line: 1>\u001b[0;34m()\u001b[0m\n\u001b[0;32m----> <a href='vscode-notebook-cell://ssh-remote%2Brtx3.server.mila.quebec/home/mila/a/alexandre.duval/ocp/ocp/tutorials/train_s2ef_example.ipynb#ch0000027vscode-remote?line=0'>1</a>\u001b[0m trainer\u001b[39m.\u001b[39;49mtrain()\n",
      "File \u001b[0;32m~/ocp/ocp/ocpmodels/trainers/energy_trainer.py:183\u001b[0m, in \u001b[0;36mEnergyTrainer.train\u001b[0;34m(self, disable_eval_tqdm)\u001b[0m\n\u001b[1;32m    <a href='file:///home/mila/a/alexandre.duval/ocp/ocp/ocpmodels/trainers/energy_trainer.py?line=180'>181</a>\u001b[0m \u001b[39m# Forward, loss, backward.\u001b[39;00m\n\u001b[1;32m    <a href='file:///home/mila/a/alexandre.duval/ocp/ocp/ocpmodels/trainers/energy_trainer.py?line=181'>182</a>\u001b[0m \u001b[39mwith\u001b[39;00m torch\u001b[39m.\u001b[39mcuda\u001b[39m.\u001b[39mamp\u001b[39m.\u001b[39mautocast(enabled\u001b[39m=\u001b[39m\u001b[39mself\u001b[39m\u001b[39m.\u001b[39mscaler \u001b[39mis\u001b[39;00m \u001b[39mnot\u001b[39;00m \u001b[39mNone\u001b[39;00m):\n\u001b[0;32m--> <a href='file:///home/mila/a/alexandre.duval/ocp/ocp/ocpmodels/trainers/energy_trainer.py?line=182'>183</a>\u001b[0m     out \u001b[39m=\u001b[39m \u001b[39mself\u001b[39;49m\u001b[39m.\u001b[39;49m_forward(batch)\n\u001b[1;32m    <a href='file:///home/mila/a/alexandre.duval/ocp/ocp/ocpmodels/trainers/energy_trainer.py?line=183'>184</a>\u001b[0m     loss \u001b[39m=\u001b[39m \u001b[39mself\u001b[39m\u001b[39m.\u001b[39m_compute_loss(out, batch)\n\u001b[1;32m    <a href='file:///home/mila/a/alexandre.duval/ocp/ocp/ocpmodels/trainers/energy_trainer.py?line=184'>185</a>\u001b[0m loss \u001b[39m=\u001b[39m \u001b[39mself\u001b[39m\u001b[39m.\u001b[39mscaler\u001b[39m.\u001b[39mscale(loss) \u001b[39mif\u001b[39;00m \u001b[39mself\u001b[39m\u001b[39m.\u001b[39mscaler \u001b[39melse\u001b[39;00m loss\n",
      "File \u001b[0;32m~/ocp/ocp/ocpmodels/trainers/energy_trainer.py:282\u001b[0m, in \u001b[0;36mEnergyTrainer._forward\u001b[0;34m(self, batch_list)\u001b[0m\n\u001b[1;32m    <a href='file:///home/mila/a/alexandre.duval/ocp/ocp/ocpmodels/trainers/energy_trainer.py?line=278'>279</a>\u001b[0m \u001b[39mdef\u001b[39;00m \u001b[39m_forward\u001b[39m(\u001b[39mself\u001b[39m, batch_list):\n\u001b[1;32m    <a href='file:///home/mila/a/alexandre.duval/ocp/ocp/ocpmodels/trainers/energy_trainer.py?line=279'>280</a>\u001b[0m     output \u001b[39m=\u001b[39m \u001b[39mself\u001b[39m\u001b[39m.\u001b[39mmodel(batch_list)\n\u001b[0;32m--> <a href='file:///home/mila/a/alexandre.duval/ocp/ocp/ocpmodels/trainers/energy_trainer.py?line=281'>282</a>\u001b[0m     \u001b[39mif\u001b[39;00m output\u001b[39m.\u001b[39;49mshape[\u001b[39m-\u001b[39m\u001b[39m1\u001b[39m] \u001b[39m==\u001b[39m \u001b[39m1\u001b[39m:\n\u001b[1;32m    <a href='file:///home/mila/a/alexandre.duval/ocp/ocp/ocpmodels/trainers/energy_trainer.py?line=282'>283</a>\u001b[0m         output \u001b[39m=\u001b[39m output\u001b[39m.\u001b[39mview(\u001b[39m-\u001b[39m\u001b[39m1\u001b[39m)\n\u001b[1;32m    <a href='file:///home/mila/a/alexandre.duval/ocp/ocp/ocpmodels/trainers/energy_trainer.py?line=284'>285</a>\u001b[0m     \u001b[39mreturn\u001b[39;00m {\n\u001b[1;32m    <a href='file:///home/mila/a/alexandre.duval/ocp/ocp/ocpmodels/trainers/energy_trainer.py?line=285'>286</a>\u001b[0m         \u001b[39m\"\u001b[39m\u001b[39menergy\u001b[39m\u001b[39m\"\u001b[39m: output,\n\u001b[1;32m    <a href='file:///home/mila/a/alexandre.duval/ocp/ocp/ocpmodels/trainers/energy_trainer.py?line=286'>287</a>\u001b[0m     }\n",
      "\u001b[0;31mAttributeError\u001b[0m: 'tuple' object has no attribute 'shape'"
     ]
    }
   ],
   "source": [
    "trainer.train()"
   ]
  },
  {
   "cell_type": "markdown",
   "metadata": {},
   "source": [
    "### Load Checkpoint\n",
    "Once training has completed a `Trainer` class, by default, is loaded with the best checkpoint as determined by training or validation (if available) metrics. To load a `Trainer` class directly with a pretrained model, specify the `checkpoint_path` as defined by your previously trained model (`checkpoint_dir`):"
   ]
  },
  {
   "cell_type": "code",
   "execution_count": 37,
   "metadata": {},
   "outputs": [
    {
     "data": {
      "text/plain": [
       "'./checkpoints/2021-09-04-08-51-28-SchNet-example/checkpoint.pt'"
      ]
     },
     "execution_count": 37,
     "metadata": {},
     "output_type": "execute_result"
    }
   ],
   "source": [
    "checkpoint_path = os.path.join(trainer.config[\"cmd\"][\"checkpoint_dir\"], \"checkpoint.pt\")\n",
    "checkpoint_path"
   ]
  },
  {
   "cell_type": "code",
   "execution_count": 38,
   "metadata": {},
   "outputs": [
    {
     "name": "stdout",
     "output_type": "stream",
     "text": [
      "amp: false\n",
      "cmd:\n",
      "  checkpoint_dir: ./checkpoints/2021-09-04-08-51-28-SchNet-example\n",
      "  commit: 98a06d8\n",
      "  identifier: SchNet-example\n",
      "  logs_dir: ./logs/tensorboard/2021-09-04-08-51-28-SchNet-example\n",
      "  print_every: 10\n",
      "  results_dir: ./results/2021-09-04-08-51-28-SchNet-example\n",
      "  seed: 0\n",
      "  timestamp_id: 2021-09-04-08-51-28-SchNet-example\n",
      "dataset:\n",
      "  normalize_labels: false\n",
      "  src: s2ef\n",
      "gpus: 1\n",
      "logger: tensorboard\n",
      "model: schnet\n",
      "model_attributes:\n",
      "  cutoff: 6.0\n",
      "  hidden_channels: 1024\n",
      "  num_filters: 256\n",
      "  num_gaussians: 200\n",
      "  num_interactions: 3\n",
      "optim:\n",
      "  batch_size: 16\n",
      "  eval_batch_size: 8\n",
      "  factor: 0.8\n",
      "  force_coefficient: 100\n",
      "  lr_initial: 0.0001\n",
      "  max_epochs: 1\n",
      "  mode: min\n",
      "  num_workers: 8\n",
      "  patience: 3\n",
      "  scheduler: ReduceLROnPlateau\n",
      "slurm: {}\n",
      "task:\n",
      "  dataset: trajectory_lmdb\n",
      "  description: Regressing to energies and forces for DFT trajectories from OCP\n",
      "  eval_on_free_atoms: true\n",
      "  grad_input: atomic forces\n",
      "  labels:\n",
      "  - potential energy\n",
      "  metric: mae\n",
      "  train_on_free_atoms: true\n",
      "  type: regression\n",
      "test_dataset:\n",
      "  src: s2ef\n",
      "val_dataset:\n",
      "  src: s2ef\n",
      "\n",
      "2021-09-04 08:51:51 (INFO): Loading dataset: trajectory_lmdb\n",
      "2021-09-04 08:51:51 (INFO): Loading model: schnet\n",
      "2021-09-04 08:51:51 (INFO): Loaded SchNet with 5704193 parameters.\n"
     ]
    },
    {
     "name": "stderr",
     "output_type": "stream",
     "text": [
      "2021-09-04 08:51:51 (WARNING): Model gradient logging to tensorboard not yet supported.\n"
     ]
    },
    {
     "name": "stdout",
     "output_type": "stream",
     "text": [
      "2021-09-04 08:51:51 (INFO): Loading checkpoint from: ./checkpoints/2021-09-04-08-51-28-SchNet-example/checkpoint.pt\n"
     ]
    }
   ],
   "source": [
    "model = {\n",
    "    'name': 'schnet',\n",
    "    'hidden_channels': 1024, # if training is too slow for example purposes reduce the number of hidden channels\n",
    "    'num_filters': 256,\n",
    "    'num_interactions': 3,\n",
    "    'num_gaussians': 200,\n",
    "    'cutoff': 6.0\n",
    "}\n",
    "\n",
    "pretrained_trainer = ForcesTrainer(\n",
    "    task=task,\n",
    "    model=model,\n",
    "    dataset=dataset,\n",
    "    optimizer=optimizer,\n",
    "    identifier=\"SchNet-example\",\n",
    "    run_dir=\"./\", # directory to save results if is_debug=False. Prediction files are saved here so be careful not to override!\n",
    "    is_debug=False, # if True, do not save checkpoint, logs, or results\n",
    "    is_vis=False,\n",
    "    print_every=10,\n",
    "    seed=0, # random seed to use\n",
    "    logger=\"tensorboard\", # logger of choice (tensorboard and wandb supported)\n",
    "    local_rank=0,\n",
    "    amp=False, # use PyTorch Automatic Mixed Precision (faster training and less memory usage)\n",
    ")\n",
    "\n",
    "pretrained_trainer.load_checkpoint(checkpoint_path=checkpoint_path)"
   ]
  },
  {
   "cell_type": "markdown",
   "metadata": {},
   "source": [
    "## Predict"
   ]
  },
  {
   "cell_type": "markdown",
   "metadata": {},
   "source": [
    "If a test has been provided in your config, predictions are generated and written to disk automatically upon training completion. Otherwise, to make predictions on unseen data a `torch.utils.data` DataLoader object must be constructed. Here we reference our test set to make predictions on. Predictions are saved in `{results_file}.npz` in your `results_dir`."
   ]
  },
  {
   "cell_type": "code",
   "execution_count": 39,
   "metadata": {},
   "outputs": [
    {
     "name": "stdout",
     "output_type": "stream",
     "text": [
      "2021-09-04 08:51:51 (INFO): Predicting on test.\n"
     ]
    },
    {
     "name": "stderr",
     "output_type": "stream",
     "text": [
      "device 0: 100%|██████████| 79/79 [00:01<00:00, 44.68it/s]"
     ]
    },
    {
     "name": "stdout",
     "output_type": "stream",
     "text": [
      "2021-09-04 08:51:53 (INFO): Writing results to ./results/2021-09-04-08-51-28-SchNet-example/s2ef_s2ef_results.npz\n"
     ]
    },
    {
     "name": "stderr",
     "output_type": "stream",
     "text": [
      "\n"
     ]
    }
   ],
   "source": [
    "# make predictions on the existing test_loader\n",
    "predictions = pretrained_trainer.predict(pretrained_trainer.test_loader, results_file=\"s2ef_results\", disable_tqdm=False)"
   ]
  },
  {
   "cell_type": "code",
   "execution_count": 40,
   "metadata": {},
   "outputs": [],
   "source": [
    "energies = predictions[\"energy\"]\n",
    "forces = predictions[\"forces\"]"
   ]
  },
  {
   "cell_type": "code",
   "execution_count": null,
   "metadata": {},
   "outputs": [],
   "source": []
  },
  {
   "cell_type": "markdown",
   "metadata": {},
   "source": [
    "## Energy IS2RE"
   ]
  },
  {
   "cell_type": "code",
   "execution_count": 4,
   "metadata": {},
   "outputs": [
    {
     "name": "stdout",
     "output_type": "stream",
     "text": [
      "amp: false\n",
      "cmd:\n",
      "  checkpoint_dir: ./checkpoints/2022-04-21-14-01-36-SchNet-example-energy\n",
      "  commit: c933847\n",
      "  identifier: SchNet-example-energy\n",
      "  logs_dir: ./logs/tensorboard/2022-04-21-14-01-36-SchNet-example-energy\n",
      "  print_every: 5\n",
      "  results_dir: ./results/2022-04-21-14-01-36-SchNet-example-energy\n",
      "  seed: 0\n",
      "  timestamp_id: 2022-04-21-14-01-36-SchNet-example-energy\n",
      "dataset:\n",
      "  normalize_labels: true\n",
      "  src: /network/projects/_groups/ocp/oc20/is2re/10k/train/data.lmdb\n",
      "  target_mean: -1.525913953781128\n",
      "  target_std: 2.279365062713623\n",
      "gpus: 1\n",
      "logger: tensorboard\n",
      "model: schnet\n",
      "model_attributes:\n",
      "  cutoff: 6.0\n",
      "  hidden_channels: 384\n",
      "  num_filters: 128\n",
      "  num_gaussians: 200\n",
      "  num_interactions: 4\n",
      "  regress_forces: false\n",
      "  use_pbc: true\n",
      "optim:\n",
      "  batch_size: 32\n",
      "  eval_batch_size: 32\n",
      "  lr_gamma: 0.1\n",
      "  lr_initial: 0.0005\n",
      "  lr_milestones:\n",
      "  - 15625\n",
      "  - 31250\n",
      "  - 46875\n",
      "  max_epochs: 30\n",
      "  num_workers: 16\n",
      "  warmup_factor: 0.2\n",
      "  warmup_steps: 9375\n",
      "slurm: {}\n",
      "task:\n",
      "  dataset: single_point_lmdb\n",
      "  description: Relaxed state energy prediction from initial structure.\n",
      "  labels:\n",
      "  - relaxed energy\n",
      "  metric: mae\n",
      "  type: regression\n",
      "val_dataset:\n",
      "  src: /network/projects/_groups/ocp/oc20/is2re/all/val_id/data.lmdb\n",
      "\n",
      "2022-04-21 14:02:21 (INFO): Loading dataset: single_point_lmdb\n",
      "2022-04-21 14:02:21 (INFO): Loading model: schnet\n",
      "2022-04-21 14:02:21 (INFO): Loaded SchNetWrap with 1267585 parameters.\n"
     ]
    },
    {
     "name": "stderr",
     "output_type": "stream",
     "text": [
      "/home/mila/a/alexandre.duval/.conda/envs/ocp/lib/python3.8/site-packages/torch/utils/data/dataloader.py:487: UserWarning: This DataLoader will create 16 worker processes in total. Our suggested max number of worker in current system is 2, which is smaller than what this DataLoader is going to create. Please be aware that excessive worker creation might get DataLoader running slow or even freeze, lower the worker number to avoid potential slowness/freeze if necessary.\n",
      "  warnings.warn(_create_warning_msg(\n",
      "2022-04-21 14:02:21 (WARNING): Model gradient logging to tensorboard not yet supported.\n"
     ]
    }
   ],
   "source": [
    "# Config files found in configs/is2re/\n",
    "\n",
    "dataset = [{'src': '/network/projects/_groups/ocp/oc20/is2re/10k/train/data.lmdb',\n",
    "  'normalize_labels': True,\n",
    "  'target_mean': -1.525913953781128,\n",
    "  'target_std': 2.279365062713623},\n",
    " {'src': '/network/projects/_groups/ocp/oc20/is2re/all/val_id/data.lmdb'}]\n",
    "\n",
    "model = {\n",
    "    'name': 'schnet',\n",
    "    'hidden_channels': 384, # if training is too slow for example purposes reduce the number of hidden channels\n",
    "    'num_filters': 128,\n",
    "    'num_interactions': 4,\n",
    "    'num_gaussians': 200,\n",
    "    'cutoff': 6.0,\n",
    "    'use_pbc': True,\n",
    "    'regress_forces': False\n",
    "}\n",
    "\n",
    "optimizer = {\n",
    "    'batch_size': 32, # if hitting GPU memory issues, lower this\n",
    "    'eval_batch_size': 32,\n",
    "    'num_workers': 16,\n",
    "    'lr_initial': 0.0005,\n",
    "    'lr_gamma': 0.1,\n",
    "    'lr_milestones': # steps at which lr_initial <- lr_initial * lr_gamma\n",
    "        [15625, 31250, 46875],\n",
    "    'warmup_steps': 9375,\n",
    "    'warmup_factor': 0.2,\n",
    "    'max_epochs': 30\n",
    "}\n",
    "\n",
    "task = {\n",
    "    'dataset': 'single_point_lmdb', # dataset used for the S2EF task\n",
    "    'description': \"Relaxed state energy prediction from initial structure.\",\n",
    "    'type': 'regression',\n",
    "    'metric': 'mae',\n",
    "    'labels': ['relaxed energy']\n",
    "}\n",
    "\n",
    "trainer = EnergyTrainer(\n",
    "    task=task,\n",
    "    model=model,\n",
    "    dataset=dataset,\n",
    "    optimizer=optimizer,\n",
    "    identifier=\"SchNet-example-energy\",\n",
    "    run_dir=\"./\", # directory to save results if is_debug=False. Prediction files are saved here so be careful not to override!\n",
    "    is_debug=False, # if True, do not save checkpoint, logs, or results\n",
    "    #is_vis=False,\n",
    "    print_every=5,\n",
    "    seed=0, # random seed to use\n",
    "    logger=\"tensorboard\", # logger of choice (tensorboard and wandb supported)\n",
    "    local_rank=0,\n",
    "    amp=False, # use PyTorch Automatic Mixed Precision (faster training and less memory usage)\n",
    ")"
   ]
  },
  {
   "cell_type": "code",
   "execution_count": 5,
   "metadata": {},
   "outputs": [
    {
     "name": "stdout",
     "output_type": "stream",
     "text": [
      "OCPDataParallel(\n",
      "  (module): SchNetWrap(hidden_channels=384, num_filters=128, num_interactions=4, num_gaussians=200, cutoff=6.0)\n",
      ")\n"
     ]
    }
   ],
   "source": [
    "print(trainer.model)"
   ]
  },
  {
   "cell_type": "code",
   "execution_count": 6,
   "metadata": {},
   "outputs": [
    {
     "name": "stdout",
     "output_type": "stream",
     "text": [
      "energy_mae: 5.45e+01, energy_mse: 4.72e+03, energy_within_threshold: 0.00e+00, loss: 2.39e+01, lr: 1.00e-04, epoch: 1.60e-02, step: 5.00e+00\n",
      "energy_mae: 3.81e+01, energy_mse: 2.66e+03, energy_within_threshold: 0.00e+00, loss: 1.67e+01, lr: 1.00e-04, epoch: 3.19e-02, step: 1.00e+01\n",
      "energy_mae: 3.15e+01, energy_mse: 1.82e+03, energy_within_threshold: 0.00e+00, loss: 1.38e+01, lr: 1.01e-04, epoch: 4.79e-02, step: 1.50e+01\n",
      "energy_mae: 2.74e+01, energy_mse: 1.75e+03, energy_within_threshold: 0.00e+00, loss: 1.20e+01, lr: 1.01e-04, epoch: 6.39e-02, step: 2.00e+01\n",
      "energy_mae: 1.88e+01, energy_mse: 6.48e+02, energy_within_threshold: 0.00e+00, loss: 8.24e+00, lr: 1.01e-04, epoch: 7.99e-02, step: 2.50e+01\n",
      "energy_mae: 2.53e+01, energy_mse: 1.17e+03, energy_within_threshold: 0.00e+00, loss: 1.11e+01, lr: 1.01e-04, epoch: 9.58e-02, step: 3.00e+01\n",
      "energy_mae: 2.87e+01, energy_mse: 1.68e+03, energy_within_threshold: 0.00e+00, loss: 1.26e+01, lr: 1.01e-04, epoch: 1.12e-01, step: 3.50e+01\n",
      "energy_mae: 1.89e+01, energy_mse: 6.06e+02, energy_within_threshold: 0.00e+00, loss: 8.30e+00, lr: 1.02e-04, epoch: 1.28e-01, step: 4.00e+01\n",
      "energy_mae: 2.14e+01, energy_mse: 1.23e+03, energy_within_threshold: 0.00e+00, loss: 9.39e+00, lr: 1.02e-04, epoch: 1.44e-01, step: 4.50e+01\n",
      "energy_mae: 1.17e+01, energy_mse: 3.08e+02, energy_within_threshold: 3.12e-02, loss: 5.14e+00, lr: 1.02e-04, epoch: 1.60e-01, step: 5.00e+01\n",
      "energy_mae: 1.46e+01, energy_mse: 3.40e+02, energy_within_threshold: 0.00e+00, loss: 6.40e+00, lr: 1.02e-04, epoch: 1.76e-01, step: 5.50e+01\n",
      "energy_mae: 1.33e+01, energy_mse: 2.70e+02, energy_within_threshold: 0.00e+00, loss: 5.82e+00, lr: 1.03e-04, epoch: 1.92e-01, step: 6.00e+01\n",
      "energy_mae: 1.01e+01, energy_mse: 1.74e+02, energy_within_threshold: 0.00e+00, loss: 4.45e+00, lr: 1.03e-04, epoch: 2.08e-01, step: 6.50e+01\n",
      "energy_mae: 1.52e+01, energy_mse: 5.32e+02, energy_within_threshold: 0.00e+00, loss: 6.66e+00, lr: 1.03e-04, epoch: 2.24e-01, step: 7.00e+01\n",
      "energy_mae: 1.57e+01, energy_mse: 5.40e+02, energy_within_threshold: 0.00e+00, loss: 6.91e+00, lr: 1.03e-04, epoch: 2.40e-01, step: 7.50e+01\n",
      "energy_mae: 1.17e+01, energy_mse: 2.55e+02, energy_within_threshold: 0.00e+00, loss: 5.14e+00, lr: 1.03e-04, epoch: 2.56e-01, step: 8.00e+01\n",
      "energy_mae: 1.45e+01, energy_mse: 4.60e+02, energy_within_threshold: 0.00e+00, loss: 6.36e+00, lr: 1.04e-04, epoch: 2.72e-01, step: 8.50e+01\n",
      "energy_mae: 9.50e+00, energy_mse: 1.76e+02, energy_within_threshold: 0.00e+00, loss: 4.17e+00, lr: 1.04e-04, epoch: 2.88e-01, step: 9.00e+01\n",
      "energy_mae: 1.04e+01, energy_mse: 1.71e+02, energy_within_threshold: 0.00e+00, loss: 4.58e+00, lr: 1.04e-04, epoch: 3.04e-01, step: 9.50e+01\n",
      "energy_mae: 1.33e+01, energy_mse: 5.55e+02, energy_within_threshold: 0.00e+00, loss: 5.82e+00, lr: 1.04e-04, epoch: 3.19e-01, step: 1.00e+02\n",
      "energy_mae: 7.06e+00, energy_mse: 1.18e+02, energy_within_threshold: 0.00e+00, loss: 3.10e+00, lr: 1.04e-04, epoch: 3.35e-01, step: 1.05e+02\n",
      "energy_mae: 1.44e+01, energy_mse: 3.90e+02, energy_within_threshold: 0.00e+00, loss: 6.31e+00, lr: 1.05e-04, epoch: 3.51e-01, step: 1.10e+02\n",
      "energy_mae: 8.19e+00, energy_mse: 1.22e+02, energy_within_threshold: 0.00e+00, loss: 3.59e+00, lr: 1.05e-04, epoch: 3.67e-01, step: 1.15e+02\n",
      "energy_mae: 8.65e+00, energy_mse: 1.50e+02, energy_within_threshold: 0.00e+00, loss: 3.79e+00, lr: 1.05e-04, epoch: 3.83e-01, step: 1.20e+02\n",
      "energy_mae: 8.69e+00, energy_mse: 1.90e+02, energy_within_threshold: 0.00e+00, loss: 3.81e+00, lr: 1.05e-04, epoch: 3.99e-01, step: 1.25e+02\n",
      "energy_mae: 8.69e+00, energy_mse: 1.40e+02, energy_within_threshold: 0.00e+00, loss: 3.81e+00, lr: 1.06e-04, epoch: 4.15e-01, step: 1.30e+02\n",
      "energy_mae: 7.08e+00, energy_mse: 2.38e+02, energy_within_threshold: 0.00e+00, loss: 3.11e+00, lr: 1.06e-04, epoch: 4.31e-01, step: 1.35e+02\n",
      "energy_mae: 8.27e+00, energy_mse: 1.01e+02, energy_within_threshold: 0.00e+00, loss: 3.63e+00, lr: 1.06e-04, epoch: 4.47e-01, step: 1.40e+02\n",
      "energy_mae: 6.49e+00, energy_mse: 7.88e+01, energy_within_threshold: 0.00e+00, loss: 2.85e+00, lr: 1.06e-04, epoch: 4.63e-01, step: 1.45e+02\n",
      "energy_mae: 9.27e+00, energy_mse: 1.97e+02, energy_within_threshold: 0.00e+00, loss: 4.07e+00, lr: 1.06e-04, epoch: 4.79e-01, step: 1.50e+02\n",
      "energy_mae: 7.64e+00, energy_mse: 1.28e+02, energy_within_threshold: 0.00e+00, loss: 3.35e+00, lr: 1.07e-04, epoch: 4.95e-01, step: 1.55e+02\n",
      "energy_mae: 7.49e+00, energy_mse: 8.22e+01, energy_within_threshold: 0.00e+00, loss: 3.29e+00, lr: 1.07e-04, epoch: 5.11e-01, step: 1.60e+02\n",
      "energy_mae: 9.36e+00, energy_mse: 1.63e+02, energy_within_threshold: 0.00e+00, loss: 4.11e+00, lr: 1.07e-04, epoch: 5.27e-01, step: 1.65e+02\n",
      "energy_mae: 9.03e+00, energy_mse: 1.53e+02, energy_within_threshold: 0.00e+00, loss: 3.96e+00, lr: 1.07e-04, epoch: 5.43e-01, step: 1.70e+02\n",
      "energy_mae: 4.86e+00, energy_mse: 3.66e+01, energy_within_threshold: 3.12e-02, loss: 2.13e+00, lr: 1.07e-04, epoch: 5.59e-01, step: 1.75e+02\n",
      "energy_mae: 4.85e+00, energy_mse: 3.93e+01, energy_within_threshold: 0.00e+00, loss: 2.13e+00, lr: 1.08e-04, epoch: 5.75e-01, step: 1.80e+02\n",
      "energy_mae: 7.04e+00, energy_mse: 1.28e+02, energy_within_threshold: 0.00e+00, loss: 3.09e+00, lr: 1.08e-04, epoch: 5.91e-01, step: 1.85e+02\n",
      "energy_mae: 9.66e+00, energy_mse: 1.64e+02, energy_within_threshold: 0.00e+00, loss: 4.24e+00, lr: 1.08e-04, epoch: 6.07e-01, step: 1.90e+02\n",
      "energy_mae: 9.14e+00, energy_mse: 1.42e+02, energy_within_threshold: 0.00e+00, loss: 4.01e+00, lr: 1.08e-04, epoch: 6.23e-01, step: 1.95e+02\n",
      "energy_mae: 9.41e+00, energy_mse: 1.69e+02, energy_within_threshold: 0.00e+00, loss: 4.13e+00, lr: 1.08e-04, epoch: 6.39e-01, step: 2.00e+02\n",
      "energy_mae: 7.55e+00, energy_mse: 8.37e+01, energy_within_threshold: 0.00e+00, loss: 3.31e+00, lr: 1.09e-04, epoch: 6.55e-01, step: 2.05e+02\n",
      "energy_mae: 7.25e+00, energy_mse: 9.76e+01, energy_within_threshold: 0.00e+00, loss: 3.18e+00, lr: 1.09e-04, epoch: 6.71e-01, step: 2.10e+02\n",
      "energy_mae: 1.07e+01, energy_mse: 2.01e+02, energy_within_threshold: 0.00e+00, loss: 4.68e+00, lr: 1.09e-04, epoch: 6.87e-01, step: 2.15e+02\n",
      "energy_mae: 9.44e+00, energy_mse: 2.02e+02, energy_within_threshold: 0.00e+00, loss: 4.14e+00, lr: 1.09e-04, epoch: 7.03e-01, step: 2.20e+02\n",
      "energy_mae: 5.19e+00, energy_mse: 4.97e+01, energy_within_threshold: 0.00e+00, loss: 2.28e+00, lr: 1.10e-04, epoch: 7.19e-01, step: 2.25e+02\n",
      "energy_mae: 9.35e+00, energy_mse: 1.48e+02, energy_within_threshold: 3.12e-02, loss: 4.10e+00, lr: 1.10e-04, epoch: 7.35e-01, step: 2.30e+02\n",
      "energy_mae: 1.06e+01, energy_mse: 1.97e+02, energy_within_threshold: 0.00e+00, loss: 4.66e+00, lr: 1.10e-04, epoch: 7.51e-01, step: 2.35e+02\n",
      "energy_mae: 8.80e+00, energy_mse: 1.80e+02, energy_within_threshold: 0.00e+00, loss: 3.86e+00, lr: 1.10e-04, epoch: 7.67e-01, step: 2.40e+02\n",
      "energy_mae: 6.96e+00, energy_mse: 7.10e+01, energy_within_threshold: 0.00e+00, loss: 3.05e+00, lr: 1.10e-04, epoch: 7.83e-01, step: 2.45e+02\n",
      "energy_mae: 8.76e+00, energy_mse: 1.30e+02, energy_within_threshold: 0.00e+00, loss: 3.85e+00, lr: 1.11e-04, epoch: 7.99e-01, step: 2.50e+02\n",
      "energy_mae: 9.22e+00, energy_mse: 1.66e+02, energy_within_threshold: 0.00e+00, loss: 4.05e+00, lr: 1.11e-04, epoch: 8.15e-01, step: 2.55e+02\n",
      "energy_mae: 8.64e+00, energy_mse: 1.26e+02, energy_within_threshold: 3.12e-02, loss: 3.79e+00, lr: 1.11e-04, epoch: 8.31e-01, step: 2.60e+02\n",
      "energy_mae: 9.71e+00, energy_mse: 2.52e+02, energy_within_threshold: 0.00e+00, loss: 4.26e+00, lr: 1.11e-04, epoch: 8.47e-01, step: 2.65e+02\n",
      "energy_mae: 9.48e+00, energy_mse: 1.40e+02, energy_within_threshold: 0.00e+00, loss: 4.16e+00, lr: 1.11e-04, epoch: 8.63e-01, step: 2.70e+02\n",
      "energy_mae: 8.03e+00, energy_mse: 1.14e+02, energy_within_threshold: 0.00e+00, loss: 3.52e+00, lr: 1.12e-04, epoch: 8.79e-01, step: 2.75e+02\n",
      "energy_mae: 7.10e+00, energy_mse: 9.88e+01, energy_within_threshold: 0.00e+00, loss: 3.12e+00, lr: 1.12e-04, epoch: 8.95e-01, step: 2.80e+02\n",
      "energy_mae: 6.00e+00, energy_mse: 6.69e+01, energy_within_threshold: 0.00e+00, loss: 2.63e+00, lr: 1.12e-04, epoch: 9.11e-01, step: 2.85e+02\n",
      "energy_mae: 1.00e+01, energy_mse: 2.98e+02, energy_within_threshold: 0.00e+00, loss: 4.39e+00, lr: 1.12e-04, epoch: 9.27e-01, step: 2.90e+02\n",
      "energy_mae: 5.70e+00, energy_mse: 5.21e+01, energy_within_threshold: 0.00e+00, loss: 2.50e+00, lr: 1.13e-04, epoch: 9.42e-01, step: 2.95e+02\n",
      "energy_mae: 7.88e+00, energy_mse: 9.11e+01, energy_within_threshold: 0.00e+00, loss: 3.46e+00, lr: 1.13e-04, epoch: 9.58e-01, step: 3.00e+02\n",
      "energy_mae: 5.74e+00, energy_mse: 5.85e+01, energy_within_threshold: 0.00e+00, loss: 2.52e+00, lr: 1.13e-04, epoch: 9.74e-01, step: 3.05e+02\n",
      "energy_mae: 6.72e+00, energy_mse: 9.44e+01, energy_within_threshold: 0.00e+00, loss: 2.95e+00, lr: 1.13e-04, epoch: 9.90e-01, step: 3.10e+02\n",
      "2022-04-21 14:04:13 (INFO): Evaluating on val.\n"
     ]
    },
    {
     "name": "stderr",
     "output_type": "stream",
     "text": [
      "device 0: 100%|██████████| 780/780 [02:20<00:00,  5.56it/s]"
     ]
    },
    {
     "name": "stdout",
     "output_type": "stream",
     "text": [
      "2022-04-21 14:06:35 (INFO): energy_mae: 9.1358, energy_mse: 175.6113, energy_within_threshold: 0.0023, loss: 4.0093, epoch: 1.0000\n"
     ]
    },
    {
     "name": "stderr",
     "output_type": "stream",
     "text": [
      "\n"
     ]
    },
    {
     "name": "stdout",
     "output_type": "stream",
     "text": [
      "energy_mae: 8.94e+00, energy_mse: 1.54e+02, energy_within_threshold: 0.00e+00, loss: 3.92e+00, lr: 1.13e-04, epoch: 1.01e+00, step: 3.15e+02\n",
      "energy_mae: 6.94e+00, energy_mse: 8.10e+01, energy_within_threshold: 0.00e+00, loss: 3.04e+00, lr: 1.14e-04, epoch: 1.02e+00, step: 3.20e+02\n",
      "energy_mae: 5.70e+00, energy_mse: 5.19e+01, energy_within_threshold: 0.00e+00, loss: 2.50e+00, lr: 1.14e-04, epoch: 1.04e+00, step: 3.25e+02\n",
      "energy_mae: 6.15e+00, energy_mse: 5.33e+01, energy_within_threshold: 0.00e+00, loss: 2.70e+00, lr: 1.14e-04, epoch: 1.05e+00, step: 3.30e+02\n",
      "energy_mae: 8.04e+00, energy_mse: 1.24e+02, energy_within_threshold: 0.00e+00, loss: 3.53e+00, lr: 1.14e-04, epoch: 1.07e+00, step: 3.35e+02\n",
      "energy_mae: 1.49e+01, energy_mse: 5.91e+02, energy_within_threshold: 0.00e+00, loss: 6.54e+00, lr: 1.14e-04, epoch: 1.09e+00, step: 3.40e+02\n",
      "energy_mae: 7.02e+00, energy_mse: 7.63e+01, energy_within_threshold: 0.00e+00, loss: 3.08e+00, lr: 1.15e-04, epoch: 1.10e+00, step: 3.45e+02\n",
      "energy_mae: 1.18e+01, energy_mse: 2.90e+02, energy_within_threshold: 0.00e+00, loss: 5.17e+00, lr: 1.15e-04, epoch: 1.12e+00, step: 3.50e+02\n",
      "energy_mae: 5.80e+00, energy_mse: 4.91e+01, energy_within_threshold: 0.00e+00, loss: 2.55e+00, lr: 1.15e-04, epoch: 1.13e+00, step: 3.55e+02\n",
      "energy_mae: 7.50e+00, energy_mse: 8.52e+01, energy_within_threshold: 0.00e+00, loss: 3.29e+00, lr: 1.15e-04, epoch: 1.15e+00, step: 3.60e+02\n",
      "energy_mae: 7.58e+00, energy_mse: 9.74e+01, energy_within_threshold: 0.00e+00, loss: 3.33e+00, lr: 1.16e-04, epoch: 1.17e+00, step: 3.65e+02\n",
      "energy_mae: 8.27e+00, energy_mse: 1.16e+02, energy_within_threshold: 0.00e+00, loss: 3.63e+00, lr: 1.16e-04, epoch: 1.18e+00, step: 3.70e+02\n",
      "energy_mae: 4.91e+00, energy_mse: 4.06e+01, energy_within_threshold: 0.00e+00, loss: 2.16e+00, lr: 1.16e-04, epoch: 1.20e+00, step: 3.75e+02\n",
      "energy_mae: 1.25e+01, energy_mse: 3.25e+02, energy_within_threshold: 0.00e+00, loss: 5.47e+00, lr: 1.16e-04, epoch: 1.21e+00, step: 3.80e+02\n",
      "energy_mae: 7.90e+00, energy_mse: 1.07e+02, energy_within_threshold: 0.00e+00, loss: 3.47e+00, lr: 1.16e-04, epoch: 1.23e+00, step: 3.85e+02\n",
      "energy_mae: 7.34e+00, energy_mse: 1.33e+02, energy_within_threshold: 0.00e+00, loss: 3.22e+00, lr: 1.17e-04, epoch: 1.25e+00, step: 3.90e+02\n",
      "energy_mae: 9.77e+00, energy_mse: 2.26e+02, energy_within_threshold: 0.00e+00, loss: 4.29e+00, lr: 1.17e-04, epoch: 1.26e+00, step: 3.95e+02\n",
      "energy_mae: 6.60e+00, energy_mse: 6.89e+01, energy_within_threshold: 0.00e+00, loss: 2.90e+00, lr: 1.17e-04, epoch: 1.28e+00, step: 4.00e+02\n",
      "energy_mae: 6.06e+00, energy_mse: 5.65e+01, energy_within_threshold: 0.00e+00, loss: 2.66e+00, lr: 1.17e-04, epoch: 1.29e+00, step: 4.05e+02\n",
      "energy_mae: 8.40e+00, energy_mse: 1.46e+02, energy_within_threshold: 0.00e+00, loss: 3.69e+00, lr: 1.17e-04, epoch: 1.31e+00, step: 4.10e+02\n",
      "energy_mae: 8.60e+00, energy_mse: 1.33e+02, energy_within_threshold: 0.00e+00, loss: 3.77e+00, lr: 1.18e-04, epoch: 1.33e+00, step: 4.15e+02\n",
      "energy_mae: 8.24e+00, energy_mse: 1.22e+02, energy_within_threshold: 0.00e+00, loss: 3.61e+00, lr: 1.18e-04, epoch: 1.34e+00, step: 4.20e+02\n",
      "energy_mae: 6.97e+00, energy_mse: 7.89e+01, energy_within_threshold: 0.00e+00, loss: 3.06e+00, lr: 1.18e-04, epoch: 1.36e+00, step: 4.25e+02\n",
      "energy_mae: 8.23e+00, energy_mse: 1.22e+02, energy_within_threshold: 0.00e+00, loss: 3.61e+00, lr: 1.18e-04, epoch: 1.37e+00, step: 4.30e+02\n",
      "energy_mae: 6.04e+00, energy_mse: 6.02e+01, energy_within_threshold: 0.00e+00, loss: 2.65e+00, lr: 1.19e-04, epoch: 1.39e+00, step: 4.35e+02\n",
      "energy_mae: 7.63e+00, energy_mse: 2.68e+02, energy_within_threshold: 0.00e+00, loss: 3.35e+00, lr: 1.19e-04, epoch: 1.41e+00, step: 4.40e+02\n",
      "energy_mae: 7.38e+00, energy_mse: 1.43e+02, energy_within_threshold: 0.00e+00, loss: 3.24e+00, lr: 1.19e-04, epoch: 1.42e+00, step: 4.45e+02\n",
      "energy_mae: 8.31e+00, energy_mse: 1.80e+02, energy_within_threshold: 0.00e+00, loss: 3.64e+00, lr: 1.19e-04, epoch: 1.44e+00, step: 4.50e+02\n",
      "energy_mae: 1.05e+01, energy_mse: 2.17e+02, energy_within_threshold: 0.00e+00, loss: 4.62e+00, lr: 1.19e-04, epoch: 1.45e+00, step: 4.55e+02\n",
      "energy_mae: 7.08e+00, energy_mse: 1.65e+02, energy_within_threshold: 3.12e-02, loss: 3.10e+00, lr: 1.20e-04, epoch: 1.47e+00, step: 4.60e+02\n",
      "energy_mae: 6.99e+00, energy_mse: 1.04e+02, energy_within_threshold: 0.00e+00, loss: 3.07e+00, lr: 1.20e-04, epoch: 1.49e+00, step: 4.65e+02\n",
      "energy_mae: 6.45e+00, energy_mse: 8.71e+01, energy_within_threshold: 0.00e+00, loss: 2.83e+00, lr: 1.20e-04, epoch: 1.50e+00, step: 4.70e+02\n",
      "energy_mae: 7.03e+00, energy_mse: 9.61e+01, energy_within_threshold: 0.00e+00, loss: 3.09e+00, lr: 1.20e-04, epoch: 1.52e+00, step: 4.75e+02\n",
      "energy_mae: 6.21e+00, energy_mse: 5.79e+01, energy_within_threshold: 0.00e+00, loss: 2.72e+00, lr: 1.20e-04, epoch: 1.53e+00, step: 4.80e+02\n",
      "energy_mae: 9.45e+00, energy_mse: 2.03e+02, energy_within_threshold: 0.00e+00, loss: 4.15e+00, lr: 1.21e-04, epoch: 1.55e+00, step: 4.85e+02\n",
      "energy_mae: 8.52e+00, energy_mse: 1.20e+02, energy_within_threshold: 0.00e+00, loss: 3.74e+00, lr: 1.21e-04, epoch: 1.57e+00, step: 4.90e+02\n",
      "energy_mae: 7.18e+00, energy_mse: 8.33e+01, energy_within_threshold: 0.00e+00, loss: 3.15e+00, lr: 1.21e-04, epoch: 1.58e+00, step: 4.95e+02\n",
      "energy_mae: 5.99e+00, energy_mse: 7.54e+01, energy_within_threshold: 0.00e+00, loss: 2.63e+00, lr: 1.21e-04, epoch: 1.60e+00, step: 5.00e+02\n",
      "energy_mae: 7.22e+00, energy_mse: 9.79e+01, energy_within_threshold: 0.00e+00, loss: 3.17e+00, lr: 1.22e-04, epoch: 1.61e+00, step: 5.05e+02\n",
      "energy_mae: 7.84e+00, energy_mse: 1.40e+02, energy_within_threshold: 0.00e+00, loss: 3.44e+00, lr: 1.22e-04, epoch: 1.63e+00, step: 5.10e+02\n",
      "energy_mae: 9.35e+00, energy_mse: 1.64e+02, energy_within_threshold: 0.00e+00, loss: 4.10e+00, lr: 1.22e-04, epoch: 1.65e+00, step: 5.15e+02\n",
      "energy_mae: 8.70e+00, energy_mse: 1.58e+02, energy_within_threshold: 0.00e+00, loss: 3.81e+00, lr: 1.22e-04, epoch: 1.66e+00, step: 5.20e+02\n",
      "energy_mae: 6.14e+00, energy_mse: 7.43e+01, energy_within_threshold: 0.00e+00, loss: 2.69e+00, lr: 1.22e-04, epoch: 1.68e+00, step: 5.25e+02\n",
      "energy_mae: 6.25e+00, energy_mse: 5.86e+01, energy_within_threshold: 0.00e+00, loss: 2.74e+00, lr: 1.23e-04, epoch: 1.69e+00, step: 5.30e+02\n",
      "energy_mae: 8.99e+00, energy_mse: 1.15e+02, energy_within_threshold: 0.00e+00, loss: 3.95e+00, lr: 1.23e-04, epoch: 1.71e+00, step: 5.35e+02\n",
      "energy_mae: 7.59e+00, energy_mse: 1.21e+02, energy_within_threshold: 0.00e+00, loss: 3.33e+00, lr: 1.23e-04, epoch: 1.73e+00, step: 5.40e+02\n",
      "energy_mae: 6.80e+00, energy_mse: 6.58e+01, energy_within_threshold: 0.00e+00, loss: 2.98e+00, lr: 1.23e-04, epoch: 1.74e+00, step: 5.45e+02\n",
      "energy_mae: 8.31e+00, energy_mse: 1.48e+02, energy_within_threshold: 0.00e+00, loss: 3.65e+00, lr: 1.23e-04, epoch: 1.76e+00, step: 5.50e+02\n"
     ]
    },
    {
     "ename": "KeyboardInterrupt",
     "evalue": "",
     "output_type": "error",
     "traceback": [
      "\u001b[0;31m---------------------------------------------------------------------------\u001b[0m",
      "\u001b[0;31mKeyboardInterrupt\u001b[0m                         Traceback (most recent call last)",
      "\u001b[1;32m/home/mila/a/alexandre.duval/ocp/ocp/tutorials/train_s2ef_example.ipynb Cell 40'\u001b[0m in \u001b[0;36m<cell line: 1>\u001b[0;34m()\u001b[0m\n\u001b[0;32m----> <a href='vscode-notebook-cell://ssh-remote%2Bcn-b004.server.mila.quebec/home/mila/a/alexandre.duval/ocp/ocp/tutorials/train_s2ef_example.ipynb#ch0000041vscode-remote?line=0'>1</a>\u001b[0m trainer\u001b[39m.\u001b[39;49mtrain()\n",
      "File \u001b[0;32m~/ocp/ocp/ocpmodels/trainers/energy_trainer.py:179\u001b[0m, in \u001b[0;36mEnergyTrainer.train\u001b[0;34m(self, disable_eval_tqdm)\u001b[0m\n\u001b[1;32m    <a href='file:///home/mila/a/alexandre.duval/ocp/ocp/ocpmodels/trainers/energy_trainer.py?line=175'>176</a>\u001b[0m \u001b[39mself\u001b[39m\u001b[39m.\u001b[39mmodel\u001b[39m.\u001b[39mtrain()\n\u001b[1;32m    <a href='file:///home/mila/a/alexandre.duval/ocp/ocp/ocpmodels/trainers/energy_trainer.py?line=177'>178</a>\u001b[0m \u001b[39m# Get a batch.\u001b[39;00m\n\u001b[0;32m--> <a href='file:///home/mila/a/alexandre.duval/ocp/ocp/ocpmodels/trainers/energy_trainer.py?line=178'>179</a>\u001b[0m batch \u001b[39m=\u001b[39m \u001b[39mnext\u001b[39;49m(train_loader_iter)\n\u001b[1;32m    <a href='file:///home/mila/a/alexandre.duval/ocp/ocp/ocpmodels/trainers/energy_trainer.py?line=180'>181</a>\u001b[0m \u001b[39m# Forward, loss, backward.\u001b[39;00m\n\u001b[1;32m    <a href='file:///home/mila/a/alexandre.duval/ocp/ocp/ocpmodels/trainers/energy_trainer.py?line=181'>182</a>\u001b[0m \u001b[39mwith\u001b[39;00m torch\u001b[39m.\u001b[39mcuda\u001b[39m.\u001b[39mamp\u001b[39m.\u001b[39mautocast(enabled\u001b[39m=\u001b[39m\u001b[39mself\u001b[39m\u001b[39m.\u001b[39mscaler \u001b[39mis\u001b[39;00m \u001b[39mnot\u001b[39;00m \u001b[39mNone\u001b[39;00m):\n",
      "File \u001b[0;32m~/.conda/envs/ocp/lib/python3.8/site-packages/torch/utils/data/dataloader.py:530\u001b[0m, in \u001b[0;36m_BaseDataLoaderIter.__next__\u001b[0;34m(self)\u001b[0m\n\u001b[1;32m    <a href='file:///home/mila/a/alexandre.duval/.conda/envs/ocp/lib/python3.8/site-packages/torch/utils/data/dataloader.py?line=527'>528</a>\u001b[0m \u001b[39mif\u001b[39;00m \u001b[39mself\u001b[39m\u001b[39m.\u001b[39m_sampler_iter \u001b[39mis\u001b[39;00m \u001b[39mNone\u001b[39;00m:\n\u001b[1;32m    <a href='file:///home/mila/a/alexandre.duval/.conda/envs/ocp/lib/python3.8/site-packages/torch/utils/data/dataloader.py?line=528'>529</a>\u001b[0m     \u001b[39mself\u001b[39m\u001b[39m.\u001b[39m_reset()\n\u001b[0;32m--> <a href='file:///home/mila/a/alexandre.duval/.conda/envs/ocp/lib/python3.8/site-packages/torch/utils/data/dataloader.py?line=529'>530</a>\u001b[0m data \u001b[39m=\u001b[39m \u001b[39mself\u001b[39;49m\u001b[39m.\u001b[39;49m_next_data()\n\u001b[1;32m    <a href='file:///home/mila/a/alexandre.duval/.conda/envs/ocp/lib/python3.8/site-packages/torch/utils/data/dataloader.py?line=530'>531</a>\u001b[0m \u001b[39mself\u001b[39m\u001b[39m.\u001b[39m_num_yielded \u001b[39m+\u001b[39m\u001b[39m=\u001b[39m \u001b[39m1\u001b[39m\n\u001b[1;32m    <a href='file:///home/mila/a/alexandre.duval/.conda/envs/ocp/lib/python3.8/site-packages/torch/utils/data/dataloader.py?line=531'>532</a>\u001b[0m \u001b[39mif\u001b[39;00m \u001b[39mself\u001b[39m\u001b[39m.\u001b[39m_dataset_kind \u001b[39m==\u001b[39m _DatasetKind\u001b[39m.\u001b[39mIterable \u001b[39mand\u001b[39;00m \\\n\u001b[1;32m    <a href='file:///home/mila/a/alexandre.duval/.conda/envs/ocp/lib/python3.8/site-packages/torch/utils/data/dataloader.py?line=532'>533</a>\u001b[0m         \u001b[39mself\u001b[39m\u001b[39m.\u001b[39m_IterableDataset_len_called \u001b[39mis\u001b[39;00m \u001b[39mnot\u001b[39;00m \u001b[39mNone\u001b[39;00m \u001b[39mand\u001b[39;00m \\\n\u001b[1;32m    <a href='file:///home/mila/a/alexandre.duval/.conda/envs/ocp/lib/python3.8/site-packages/torch/utils/data/dataloader.py?line=533'>534</a>\u001b[0m         \u001b[39mself\u001b[39m\u001b[39m.\u001b[39m_num_yielded \u001b[39m>\u001b[39m \u001b[39mself\u001b[39m\u001b[39m.\u001b[39m_IterableDataset_len_called:\n",
      "File \u001b[0;32m~/.conda/envs/ocp/lib/python3.8/site-packages/torch/utils/data/dataloader.py:1207\u001b[0m, in \u001b[0;36m_MultiProcessingDataLoaderIter._next_data\u001b[0;34m(self)\u001b[0m\n\u001b[1;32m   <a href='file:///home/mila/a/alexandre.duval/.conda/envs/ocp/lib/python3.8/site-packages/torch/utils/data/dataloader.py?line=1203'>1204</a>\u001b[0m     \u001b[39mreturn\u001b[39;00m \u001b[39mself\u001b[39m\u001b[39m.\u001b[39m_process_data(data)\n\u001b[1;32m   <a href='file:///home/mila/a/alexandre.duval/.conda/envs/ocp/lib/python3.8/site-packages/torch/utils/data/dataloader.py?line=1205'>1206</a>\u001b[0m \u001b[39massert\u001b[39;00m \u001b[39mnot\u001b[39;00m \u001b[39mself\u001b[39m\u001b[39m.\u001b[39m_shutdown \u001b[39mand\u001b[39;00m \u001b[39mself\u001b[39m\u001b[39m.\u001b[39m_tasks_outstanding \u001b[39m>\u001b[39m \u001b[39m0\u001b[39m\n\u001b[0;32m-> <a href='file:///home/mila/a/alexandre.duval/.conda/envs/ocp/lib/python3.8/site-packages/torch/utils/data/dataloader.py?line=1206'>1207</a>\u001b[0m idx, data \u001b[39m=\u001b[39m \u001b[39mself\u001b[39;49m\u001b[39m.\u001b[39;49m_get_data()\n\u001b[1;32m   <a href='file:///home/mila/a/alexandre.duval/.conda/envs/ocp/lib/python3.8/site-packages/torch/utils/data/dataloader.py?line=1207'>1208</a>\u001b[0m \u001b[39mself\u001b[39m\u001b[39m.\u001b[39m_tasks_outstanding \u001b[39m-\u001b[39m\u001b[39m=\u001b[39m \u001b[39m1\u001b[39m\n\u001b[1;32m   <a href='file:///home/mila/a/alexandre.duval/.conda/envs/ocp/lib/python3.8/site-packages/torch/utils/data/dataloader.py?line=1208'>1209</a>\u001b[0m \u001b[39mif\u001b[39;00m \u001b[39mself\u001b[39m\u001b[39m.\u001b[39m_dataset_kind \u001b[39m==\u001b[39m _DatasetKind\u001b[39m.\u001b[39mIterable:\n\u001b[1;32m   <a href='file:///home/mila/a/alexandre.duval/.conda/envs/ocp/lib/python3.8/site-packages/torch/utils/data/dataloader.py?line=1209'>1210</a>\u001b[0m     \u001b[39m# Check for _IterableDatasetStopIteration\u001b[39;00m\n",
      "File \u001b[0;32m~/.conda/envs/ocp/lib/python3.8/site-packages/torch/utils/data/dataloader.py:1163\u001b[0m, in \u001b[0;36m_MultiProcessingDataLoaderIter._get_data\u001b[0;34m(self)\u001b[0m\n\u001b[1;32m   <a href='file:///home/mila/a/alexandre.duval/.conda/envs/ocp/lib/python3.8/site-packages/torch/utils/data/dataloader.py?line=1160'>1161</a>\u001b[0m \u001b[39melif\u001b[39;00m \u001b[39mself\u001b[39m\u001b[39m.\u001b[39m_pin_memory:\n\u001b[1;32m   <a href='file:///home/mila/a/alexandre.duval/.conda/envs/ocp/lib/python3.8/site-packages/torch/utils/data/dataloader.py?line=1161'>1162</a>\u001b[0m     \u001b[39mwhile\u001b[39;00m \u001b[39mself\u001b[39m\u001b[39m.\u001b[39m_pin_memory_thread\u001b[39m.\u001b[39mis_alive():\n\u001b[0;32m-> <a href='file:///home/mila/a/alexandre.duval/.conda/envs/ocp/lib/python3.8/site-packages/torch/utils/data/dataloader.py?line=1162'>1163</a>\u001b[0m         success, data \u001b[39m=\u001b[39m \u001b[39mself\u001b[39;49m\u001b[39m.\u001b[39;49m_try_get_data()\n\u001b[1;32m   <a href='file:///home/mila/a/alexandre.duval/.conda/envs/ocp/lib/python3.8/site-packages/torch/utils/data/dataloader.py?line=1163'>1164</a>\u001b[0m         \u001b[39mif\u001b[39;00m success:\n\u001b[1;32m   <a href='file:///home/mila/a/alexandre.duval/.conda/envs/ocp/lib/python3.8/site-packages/torch/utils/data/dataloader.py?line=1164'>1165</a>\u001b[0m             \u001b[39mreturn\u001b[39;00m data\n",
      "File \u001b[0;32m~/.conda/envs/ocp/lib/python3.8/site-packages/torch/utils/data/dataloader.py:1011\u001b[0m, in \u001b[0;36m_MultiProcessingDataLoaderIter._try_get_data\u001b[0;34m(self, timeout)\u001b[0m\n\u001b[1;32m    <a href='file:///home/mila/a/alexandre.duval/.conda/envs/ocp/lib/python3.8/site-packages/torch/utils/data/dataloader.py?line=997'>998</a>\u001b[0m \u001b[39mdef\u001b[39;00m \u001b[39m_try_get_data\u001b[39m(\u001b[39mself\u001b[39m, timeout\u001b[39m=\u001b[39m_utils\u001b[39m.\u001b[39mMP_STATUS_CHECK_INTERVAL):\n\u001b[1;32m    <a href='file:///home/mila/a/alexandre.duval/.conda/envs/ocp/lib/python3.8/site-packages/torch/utils/data/dataloader.py?line=998'>999</a>\u001b[0m     \u001b[39m# Tries to fetch data from `self._data_queue` once for a given timeout.\u001b[39;00m\n\u001b[1;32m   <a href='file:///home/mila/a/alexandre.duval/.conda/envs/ocp/lib/python3.8/site-packages/torch/utils/data/dataloader.py?line=999'>1000</a>\u001b[0m     \u001b[39m# This can also be used as inner loop of fetching without timeout, with\u001b[39;00m\n\u001b[0;32m   (...)\u001b[0m\n\u001b[1;32m   <a href='file:///home/mila/a/alexandre.duval/.conda/envs/ocp/lib/python3.8/site-packages/torch/utils/data/dataloader.py?line=1007'>1008</a>\u001b[0m     \u001b[39m# Returns a 2-tuple:\u001b[39;00m\n\u001b[1;32m   <a href='file:///home/mila/a/alexandre.duval/.conda/envs/ocp/lib/python3.8/site-packages/torch/utils/data/dataloader.py?line=1008'>1009</a>\u001b[0m     \u001b[39m#   (bool: whether successfully get data, any: data if successful else None)\u001b[39;00m\n\u001b[1;32m   <a href='file:///home/mila/a/alexandre.duval/.conda/envs/ocp/lib/python3.8/site-packages/torch/utils/data/dataloader.py?line=1009'>1010</a>\u001b[0m     \u001b[39mtry\u001b[39;00m:\n\u001b[0;32m-> <a href='file:///home/mila/a/alexandre.duval/.conda/envs/ocp/lib/python3.8/site-packages/torch/utils/data/dataloader.py?line=1010'>1011</a>\u001b[0m         data \u001b[39m=\u001b[39m \u001b[39mself\u001b[39;49m\u001b[39m.\u001b[39;49m_data_queue\u001b[39m.\u001b[39;49mget(timeout\u001b[39m=\u001b[39;49mtimeout)\n\u001b[1;32m   <a href='file:///home/mila/a/alexandre.duval/.conda/envs/ocp/lib/python3.8/site-packages/torch/utils/data/dataloader.py?line=1011'>1012</a>\u001b[0m         \u001b[39mreturn\u001b[39;00m (\u001b[39mTrue\u001b[39;00m, data)\n\u001b[1;32m   <a href='file:///home/mila/a/alexandre.duval/.conda/envs/ocp/lib/python3.8/site-packages/torch/utils/data/dataloader.py?line=1012'>1013</a>\u001b[0m     \u001b[39mexcept\u001b[39;00m \u001b[39mException\u001b[39;00m \u001b[39mas\u001b[39;00m e:\n\u001b[1;32m   <a href='file:///home/mila/a/alexandre.duval/.conda/envs/ocp/lib/python3.8/site-packages/torch/utils/data/dataloader.py?line=1013'>1014</a>\u001b[0m         \u001b[39m# At timeout and error, we manually check whether any worker has\u001b[39;00m\n\u001b[1;32m   <a href='file:///home/mila/a/alexandre.duval/.conda/envs/ocp/lib/python3.8/site-packages/torch/utils/data/dataloader.py?line=1014'>1015</a>\u001b[0m         \u001b[39m# failed. Note that this is the only mechanism for Windows to detect\u001b[39;00m\n\u001b[1;32m   <a href='file:///home/mila/a/alexandre.duval/.conda/envs/ocp/lib/python3.8/site-packages/torch/utils/data/dataloader.py?line=1015'>1016</a>\u001b[0m         \u001b[39m# worker failures.\u001b[39;00m\n",
      "File \u001b[0;32m~/.conda/envs/ocp/lib/python3.8/queue.py:179\u001b[0m, in \u001b[0;36mQueue.get\u001b[0;34m(self, block, timeout)\u001b[0m\n\u001b[1;32m    <a href='file:///home/mila/a/alexandre.duval/.conda/envs/ocp/lib/python3.8/queue.py?line=176'>177</a>\u001b[0m         \u001b[39mif\u001b[39;00m remaining \u001b[39m<\u001b[39m\u001b[39m=\u001b[39m \u001b[39m0.0\u001b[39m:\n\u001b[1;32m    <a href='file:///home/mila/a/alexandre.duval/.conda/envs/ocp/lib/python3.8/queue.py?line=177'>178</a>\u001b[0m             \u001b[39mraise\u001b[39;00m Empty\n\u001b[0;32m--> <a href='file:///home/mila/a/alexandre.duval/.conda/envs/ocp/lib/python3.8/queue.py?line=178'>179</a>\u001b[0m         \u001b[39mself\u001b[39;49m\u001b[39m.\u001b[39;49mnot_empty\u001b[39m.\u001b[39;49mwait(remaining)\n\u001b[1;32m    <a href='file:///home/mila/a/alexandre.duval/.conda/envs/ocp/lib/python3.8/queue.py?line=179'>180</a>\u001b[0m item \u001b[39m=\u001b[39m \u001b[39mself\u001b[39m\u001b[39m.\u001b[39m_get()\n\u001b[1;32m    <a href='file:///home/mila/a/alexandre.duval/.conda/envs/ocp/lib/python3.8/queue.py?line=180'>181</a>\u001b[0m \u001b[39mself\u001b[39m\u001b[39m.\u001b[39mnot_full\u001b[39m.\u001b[39mnotify()\n",
      "File \u001b[0;32m~/.conda/envs/ocp/lib/python3.8/threading.py:306\u001b[0m, in \u001b[0;36mCondition.wait\u001b[0;34m(self, timeout)\u001b[0m\n\u001b[1;32m    <a href='file:///home/mila/a/alexandre.duval/.conda/envs/ocp/lib/python3.8/threading.py?line=303'>304</a>\u001b[0m \u001b[39melse\u001b[39;00m:\n\u001b[1;32m    <a href='file:///home/mila/a/alexandre.duval/.conda/envs/ocp/lib/python3.8/threading.py?line=304'>305</a>\u001b[0m     \u001b[39mif\u001b[39;00m timeout \u001b[39m>\u001b[39m \u001b[39m0\u001b[39m:\n\u001b[0;32m--> <a href='file:///home/mila/a/alexandre.duval/.conda/envs/ocp/lib/python3.8/threading.py?line=305'>306</a>\u001b[0m         gotit \u001b[39m=\u001b[39m waiter\u001b[39m.\u001b[39;49macquire(\u001b[39mTrue\u001b[39;49;00m, timeout)\n\u001b[1;32m    <a href='file:///home/mila/a/alexandre.duval/.conda/envs/ocp/lib/python3.8/threading.py?line=306'>307</a>\u001b[0m     \u001b[39melse\u001b[39;00m:\n\u001b[1;32m    <a href='file:///home/mila/a/alexandre.duval/.conda/envs/ocp/lib/python3.8/threading.py?line=307'>308</a>\u001b[0m         gotit \u001b[39m=\u001b[39m waiter\u001b[39m.\u001b[39macquire(\u001b[39mFalse\u001b[39;00m)\n",
      "\u001b[0;31mKeyboardInterrupt\u001b[0m: "
     ]
    }
   ],
   "source": [
    "trainer.train()"
   ]
  },
  {
   "cell_type": "code",
   "execution_count": 12,
   "metadata": {},
   "outputs": [
    {
     "name": "stdout",
     "output_type": "stream",
     "text": [
      "2022-04-21 14:10:29 (INFO): Predicting on test.\n"
     ]
    },
    {
     "ename": "AssertionError",
     "evalue": "",
     "output_type": "error",
     "traceback": [
      "\u001b[0;31m---------------------------------------------------------------------------\u001b[0m",
      "\u001b[0;31mAssertionError\u001b[0m                            Traceback (most recent call last)",
      "\u001b[1;32m/home/mila/a/alexandre.duval/ocp/ocp/tutorials/train_s2ef_example.ipynb Cell 41'\u001b[0m in \u001b[0;36m<cell line: 2>\u001b[0;34m()\u001b[0m\n\u001b[1;32m      <a href='vscode-notebook-cell://ssh-remote%2Bcn-b004.server.mila.quebec/home/mila/a/alexandre.duval/ocp/ocp/tutorials/train_s2ef_example.ipynb#ch0000042vscode-remote?line=0'>1</a>\u001b[0m \u001b[39m# make predictions on the existing test_loader\u001b[39;00m\n\u001b[0;32m----> <a href='vscode-notebook-cell://ssh-remote%2Bcn-b004.server.mila.quebec/home/mila/a/alexandre.duval/ocp/ocp/tutorials/train_s2ef_example.ipynb#ch0000042vscode-remote?line=1'>2</a>\u001b[0m predictions \u001b[39m=\u001b[39m trainer\u001b[39m.\u001b[39;49mpredict(trainer\u001b[39m.\u001b[39;49mtest_loader, results_file\u001b[39m=\u001b[39;49m\u001b[39m\"\u001b[39;49m\u001b[39mis2re_results\u001b[39;49m\u001b[39m\"\u001b[39;49m, disable_tqdm\u001b[39m=\u001b[39;49m\u001b[39mFalse\u001b[39;49;00m)\n",
      "File \u001b[0;32m~/.conda/envs/ocp/lib/python3.8/site-packages/torch/autograd/grad_mode.py:27\u001b[0m, in \u001b[0;36m_DecoratorContextManager.__call__.<locals>.decorate_context\u001b[0;34m(*args, **kwargs)\u001b[0m\n\u001b[1;32m     <a href='file:///home/mila/a/alexandre.duval/.conda/envs/ocp/lib/python3.8/site-packages/torch/autograd/grad_mode.py?line=23'>24</a>\u001b[0m \u001b[39m@functools\u001b[39m\u001b[39m.\u001b[39mwraps(func)\n\u001b[1;32m     <a href='file:///home/mila/a/alexandre.duval/.conda/envs/ocp/lib/python3.8/site-packages/torch/autograd/grad_mode.py?line=24'>25</a>\u001b[0m \u001b[39mdef\u001b[39;00m \u001b[39mdecorate_context\u001b[39m(\u001b[39m*\u001b[39margs, \u001b[39m*\u001b[39m\u001b[39m*\u001b[39mkwargs):\n\u001b[1;32m     <a href='file:///home/mila/a/alexandre.duval/.conda/envs/ocp/lib/python3.8/site-packages/torch/autograd/grad_mode.py?line=25'>26</a>\u001b[0m     \u001b[39mwith\u001b[39;00m \u001b[39mself\u001b[39m\u001b[39m.\u001b[39mclone():\n\u001b[0;32m---> <a href='file:///home/mila/a/alexandre.duval/.conda/envs/ocp/lib/python3.8/site-packages/torch/autograd/grad_mode.py?line=26'>27</a>\u001b[0m         \u001b[39mreturn\u001b[39;00m func(\u001b[39m*\u001b[39;49margs, \u001b[39m*\u001b[39;49m\u001b[39m*\u001b[39;49mkwargs)\n",
      "File \u001b[0;32m~/ocp/ocp/ocpmodels/trainers/energy_trainer.py:109\u001b[0m, in \u001b[0;36mEnergyTrainer.predict\u001b[0;34m(self, loader, per_image, results_file, disable_tqdm)\u001b[0m\n\u001b[1;32m    <a href='file:///home/mila/a/alexandre.duval/ocp/ocp/ocpmodels/trainers/energy_trainer.py?line=106'>107</a>\u001b[0m \u001b[39mif\u001b[39;00m distutils\u001b[39m.\u001b[39mis_master() \u001b[39mand\u001b[39;00m \u001b[39mnot\u001b[39;00m disable_tqdm:\n\u001b[1;32m    <a href='file:///home/mila/a/alexandre.duval/ocp/ocp/ocpmodels/trainers/energy_trainer.py?line=107'>108</a>\u001b[0m     logging\u001b[39m.\u001b[39minfo(\u001b[39m\"\u001b[39m\u001b[39mPredicting on test.\u001b[39m\u001b[39m\"\u001b[39m)\n\u001b[0;32m--> <a href='file:///home/mila/a/alexandre.duval/ocp/ocp/ocpmodels/trainers/energy_trainer.py?line=108'>109</a>\u001b[0m \u001b[39massert\u001b[39;00m \u001b[39misinstance\u001b[39m(\n\u001b[1;32m    <a href='file:///home/mila/a/alexandre.duval/ocp/ocp/ocpmodels/trainers/energy_trainer.py?line=109'>110</a>\u001b[0m     loader,\n\u001b[1;32m    <a href='file:///home/mila/a/alexandre.duval/ocp/ocp/ocpmodels/trainers/energy_trainer.py?line=110'>111</a>\u001b[0m     (\n\u001b[1;32m    <a href='file:///home/mila/a/alexandre.duval/ocp/ocp/ocpmodels/trainers/energy_trainer.py?line=111'>112</a>\u001b[0m         torch\u001b[39m.\u001b[39mutils\u001b[39m.\u001b[39mdata\u001b[39m.\u001b[39mdataloader\u001b[39m.\u001b[39mDataLoader,\n\u001b[1;32m    <a href='file:///home/mila/a/alexandre.duval/ocp/ocp/ocpmodels/trainers/energy_trainer.py?line=112'>113</a>\u001b[0m         torch_geometric\u001b[39m.\u001b[39mdata\u001b[39m.\u001b[39mBatch,\n\u001b[1;32m    <a href='file:///home/mila/a/alexandre.duval/ocp/ocp/ocpmodels/trainers/energy_trainer.py?line=113'>114</a>\u001b[0m     ),\n\u001b[1;32m    <a href='file:///home/mila/a/alexandre.duval/ocp/ocp/ocpmodels/trainers/energy_trainer.py?line=114'>115</a>\u001b[0m )\n\u001b[1;32m    <a href='file:///home/mila/a/alexandre.duval/ocp/ocp/ocpmodels/trainers/energy_trainer.py?line=115'>116</a>\u001b[0m rank \u001b[39m=\u001b[39m distutils\u001b[39m.\u001b[39mget_rank()\n\u001b[1;32m    <a href='file:///home/mila/a/alexandre.duval/ocp/ocp/ocpmodels/trainers/energy_trainer.py?line=117'>118</a>\u001b[0m \u001b[39mif\u001b[39;00m \u001b[39misinstance\u001b[39m(loader, torch_geometric\u001b[39m.\u001b[39mdata\u001b[39m.\u001b[39mBatch):\n",
      "\u001b[0;31mAssertionError\u001b[0m: "
     ]
    }
   ],
   "source": [
    "# make predictions on the existing test_loader\n",
    "predictions = trainer.predict(trainer.test_loader, results_file=\"is2re_results\", disable_tqdm=False)"
   ]
  },
  {
   "cell_type": "code",
   "execution_count": 10,
   "metadata": {},
   "outputs": [
    {
     "ename": "KeyError",
     "evalue": "'name'",
     "output_type": "error",
     "traceback": [
      "\u001b[0;31m---------------------------------------------------------------------------\u001b[0m",
      "\u001b[0;31mKeyError\u001b[0m                                  Traceback (most recent call last)",
      "\u001b[1;32m/home/mila/a/alexandre.duval/ocp/ocp/tutorials/train_s2ef_example.ipynb Cell 43'\u001b[0m in \u001b[0;36m<cell line: 6>\u001b[0;34m()\u001b[0m\n\u001b[1;32m      <a href='vscode-notebook-cell://ssh-remote%2Bcn-b004.server.mila.quebec/home/mila/a/alexandre.duval/ocp/ocp/tutorials/train_s2ef_example.ipynb#ch0000044vscode-remote?line=2'>3</a>\u001b[0m checkpoint_path \u001b[39m=\u001b[39m os\u001b[39m.\u001b[39mpath\u001b[39m.\u001b[39mjoin(trainer\u001b[39m.\u001b[39mconfig[\u001b[39m\"\u001b[39m\u001b[39mcmd\u001b[39m\u001b[39m\"\u001b[39m][\u001b[39m\"\u001b[39m\u001b[39mcheckpoint_dir\u001b[39m\u001b[39m\"\u001b[39m], \u001b[39m\"\u001b[39m\u001b[39mcheckpoint.pt\u001b[39m\u001b[39m\"\u001b[39m)\n\u001b[1;32m      <a href='vscode-notebook-cell://ssh-remote%2Bcn-b004.server.mila.quebec/home/mila/a/alexandre.duval/ocp/ocp/tutorials/train_s2ef_example.ipynb#ch0000044vscode-remote?line=3'>4</a>\u001b[0m checkpoint_path\n\u001b[0;32m----> <a href='vscode-notebook-cell://ssh-remote%2Bcn-b004.server.mila.quebec/home/mila/a/alexandre.duval/ocp/ocp/tutorials/train_s2ef_example.ipynb#ch0000044vscode-remote?line=5'>6</a>\u001b[0m pretrained_trainer \u001b[39m=\u001b[39m EnergyTrainer(\n\u001b[1;32m      <a href='vscode-notebook-cell://ssh-remote%2Bcn-b004.server.mila.quebec/home/mila/a/alexandre.duval/ocp/ocp/tutorials/train_s2ef_example.ipynb#ch0000044vscode-remote?line=6'>7</a>\u001b[0m     task\u001b[39m=\u001b[39;49mtask,\n\u001b[1;32m      <a href='vscode-notebook-cell://ssh-remote%2Bcn-b004.server.mila.quebec/home/mila/a/alexandre.duval/ocp/ocp/tutorials/train_s2ef_example.ipynb#ch0000044vscode-remote?line=7'>8</a>\u001b[0m     model\u001b[39m=\u001b[39;49mmodel,\n\u001b[1;32m      <a href='vscode-notebook-cell://ssh-remote%2Bcn-b004.server.mila.quebec/home/mila/a/alexandre.duval/ocp/ocp/tutorials/train_s2ef_example.ipynb#ch0000044vscode-remote?line=8'>9</a>\u001b[0m     dataset\u001b[39m=\u001b[39;49mdataset,\n\u001b[1;32m     <a href='vscode-notebook-cell://ssh-remote%2Bcn-b004.server.mila.quebec/home/mila/a/alexandre.duval/ocp/ocp/tutorials/train_s2ef_example.ipynb#ch0000044vscode-remote?line=9'>10</a>\u001b[0m     optimizer\u001b[39m=\u001b[39;49moptimizer,\n\u001b[1;32m     <a href='vscode-notebook-cell://ssh-remote%2Bcn-b004.server.mila.quebec/home/mila/a/alexandre.duval/ocp/ocp/tutorials/train_s2ef_example.ipynb#ch0000044vscode-remote?line=10'>11</a>\u001b[0m     identifier\u001b[39m=\u001b[39;49m\u001b[39m\"\u001b[39;49m\u001b[39mSchNet-example-energy\u001b[39;49m\u001b[39m\"\u001b[39;49m,\n\u001b[1;32m     <a href='vscode-notebook-cell://ssh-remote%2Bcn-b004.server.mila.quebec/home/mila/a/alexandre.duval/ocp/ocp/tutorials/train_s2ef_example.ipynb#ch0000044vscode-remote?line=11'>12</a>\u001b[0m     run_dir\u001b[39m=\u001b[39;49m\u001b[39m\"\u001b[39;49m\u001b[39m./\u001b[39;49m\u001b[39m\"\u001b[39;49m, \u001b[39m# directory to save results if is_debug=False. Prediction files are saved here so be careful not to override!\u001b[39;49;00m\n\u001b[1;32m     <a href='vscode-notebook-cell://ssh-remote%2Bcn-b004.server.mila.quebec/home/mila/a/alexandre.duval/ocp/ocp/tutorials/train_s2ef_example.ipynb#ch0000044vscode-remote?line=12'>13</a>\u001b[0m     is_debug\u001b[39m=\u001b[39;49m\u001b[39mFalse\u001b[39;49;00m, \u001b[39m# if True, do not save checkpoint, logs, or results\u001b[39;49;00m\n\u001b[1;32m     <a href='vscode-notebook-cell://ssh-remote%2Bcn-b004.server.mila.quebec/home/mila/a/alexandre.duval/ocp/ocp/tutorials/train_s2ef_example.ipynb#ch0000044vscode-remote?line=13'>14</a>\u001b[0m     \u001b[39m#is_vis=False,\u001b[39;49;00m\n\u001b[1;32m     <a href='vscode-notebook-cell://ssh-remote%2Bcn-b004.server.mila.quebec/home/mila/a/alexandre.duval/ocp/ocp/tutorials/train_s2ef_example.ipynb#ch0000044vscode-remote?line=14'>15</a>\u001b[0m     print_every\u001b[39m=\u001b[39;49m\u001b[39m10\u001b[39;49m,\n\u001b[1;32m     <a href='vscode-notebook-cell://ssh-remote%2Bcn-b004.server.mila.quebec/home/mila/a/alexandre.duval/ocp/ocp/tutorials/train_s2ef_example.ipynb#ch0000044vscode-remote?line=15'>16</a>\u001b[0m     seed\u001b[39m=\u001b[39;49m\u001b[39m0\u001b[39;49m, \u001b[39m# random seed to use\u001b[39;49;00m\n\u001b[1;32m     <a href='vscode-notebook-cell://ssh-remote%2Bcn-b004.server.mila.quebec/home/mila/a/alexandre.duval/ocp/ocp/tutorials/train_s2ef_example.ipynb#ch0000044vscode-remote?line=16'>17</a>\u001b[0m     logger\u001b[39m=\u001b[39;49m\u001b[39m\"\u001b[39;49m\u001b[39mtensorboard\u001b[39;49m\u001b[39m\"\u001b[39;49m, \u001b[39m# logger of choice (tensorboard and wandb supported)\u001b[39;49;00m\n\u001b[1;32m     <a href='vscode-notebook-cell://ssh-remote%2Bcn-b004.server.mila.quebec/home/mila/a/alexandre.duval/ocp/ocp/tutorials/train_s2ef_example.ipynb#ch0000044vscode-remote?line=17'>18</a>\u001b[0m     local_rank\u001b[39m=\u001b[39;49m\u001b[39m0\u001b[39;49m,\n\u001b[1;32m     <a href='vscode-notebook-cell://ssh-remote%2Bcn-b004.server.mila.quebec/home/mila/a/alexandre.duval/ocp/ocp/tutorials/train_s2ef_example.ipynb#ch0000044vscode-remote?line=18'>19</a>\u001b[0m     amp\u001b[39m=\u001b[39;49m\u001b[39mFalse\u001b[39;49;00m, \u001b[39m# use PyTorch Automatic Mixed Precision (faster training and less memory usage)\u001b[39;49;00m\n\u001b[1;32m     <a href='vscode-notebook-cell://ssh-remote%2Bcn-b004.server.mila.quebec/home/mila/a/alexandre.duval/ocp/ocp/tutorials/train_s2ef_example.ipynb#ch0000044vscode-remote?line=19'>20</a>\u001b[0m )\n\u001b[1;32m     <a href='vscode-notebook-cell://ssh-remote%2Bcn-b004.server.mila.quebec/home/mila/a/alexandre.duval/ocp/ocp/tutorials/train_s2ef_example.ipynb#ch0000044vscode-remote?line=21'>22</a>\u001b[0m pretrained_trainer\u001b[39m.\u001b[39mload_checkpoint(checkpoint_path\u001b[39m=\u001b[39mcheckpoint_path)\n",
      "File \u001b[0;32m~/ocp/ocp/ocpmodels/trainers/energy_trainer.py:80\u001b[0m, in \u001b[0;36mEnergyTrainer.__init__\u001b[0;34m(self, task, model, dataset, optimizer, identifier, normalizer, timestamp_id, run_dir, is_debug, is_hpo, print_every, seed, logger, local_rank, amp, cpu, slurm)\u001b[0m\n\u001b[1;32m     <a href='file:///home/mila/a/alexandre.duval/ocp/ocp/ocpmodels/trainers/energy_trainer.py?line=59'>60</a>\u001b[0m \u001b[39mdef\u001b[39;00m \u001b[39m__init__\u001b[39m(\n\u001b[1;32m     <a href='file:///home/mila/a/alexandre.duval/ocp/ocp/ocpmodels/trainers/energy_trainer.py?line=60'>61</a>\u001b[0m     \u001b[39mself\u001b[39m,\n\u001b[1;32m     <a href='file:///home/mila/a/alexandre.duval/ocp/ocp/ocpmodels/trainers/energy_trainer.py?line=61'>62</a>\u001b[0m     task,\n\u001b[0;32m   (...)\u001b[0m\n\u001b[1;32m     <a href='file:///home/mila/a/alexandre.duval/ocp/ocp/ocpmodels/trainers/energy_trainer.py?line=77'>78</a>\u001b[0m     slurm\u001b[39m=\u001b[39m{},\n\u001b[1;32m     <a href='file:///home/mila/a/alexandre.duval/ocp/ocp/ocpmodels/trainers/energy_trainer.py?line=78'>79</a>\u001b[0m ):\n\u001b[0;32m---> <a href='file:///home/mila/a/alexandre.duval/ocp/ocp/ocpmodels/trainers/energy_trainer.py?line=79'>80</a>\u001b[0m     \u001b[39msuper\u001b[39;49m()\u001b[39m.\u001b[39;49m\u001b[39m__init__\u001b[39;49m(\n\u001b[1;32m     <a href='file:///home/mila/a/alexandre.duval/ocp/ocp/ocpmodels/trainers/energy_trainer.py?line=80'>81</a>\u001b[0m         task\u001b[39m=\u001b[39;49mtask,\n\u001b[1;32m     <a href='file:///home/mila/a/alexandre.duval/ocp/ocp/ocpmodels/trainers/energy_trainer.py?line=81'>82</a>\u001b[0m         model\u001b[39m=\u001b[39;49mmodel,\n\u001b[1;32m     <a href='file:///home/mila/a/alexandre.duval/ocp/ocp/ocpmodels/trainers/energy_trainer.py?line=82'>83</a>\u001b[0m         dataset\u001b[39m=\u001b[39;49mdataset,\n\u001b[1;32m     <a href='file:///home/mila/a/alexandre.duval/ocp/ocp/ocpmodels/trainers/energy_trainer.py?line=83'>84</a>\u001b[0m         optimizer\u001b[39m=\u001b[39;49moptimizer,\n\u001b[1;32m     <a href='file:///home/mila/a/alexandre.duval/ocp/ocp/ocpmodels/trainers/energy_trainer.py?line=84'>85</a>\u001b[0m         identifier\u001b[39m=\u001b[39;49midentifier,\n\u001b[1;32m     <a href='file:///home/mila/a/alexandre.duval/ocp/ocp/ocpmodels/trainers/energy_trainer.py?line=85'>86</a>\u001b[0m         normalizer\u001b[39m=\u001b[39;49mnormalizer,\n\u001b[1;32m     <a href='file:///home/mila/a/alexandre.duval/ocp/ocp/ocpmodels/trainers/energy_trainer.py?line=86'>87</a>\u001b[0m         timestamp_id\u001b[39m=\u001b[39;49mtimestamp_id,\n\u001b[1;32m     <a href='file:///home/mila/a/alexandre.duval/ocp/ocp/ocpmodels/trainers/energy_trainer.py?line=87'>88</a>\u001b[0m         run_dir\u001b[39m=\u001b[39;49mrun_dir,\n\u001b[1;32m     <a href='file:///home/mila/a/alexandre.duval/ocp/ocp/ocpmodels/trainers/energy_trainer.py?line=88'>89</a>\u001b[0m         is_debug\u001b[39m=\u001b[39;49mis_debug,\n\u001b[1;32m     <a href='file:///home/mila/a/alexandre.duval/ocp/ocp/ocpmodels/trainers/energy_trainer.py?line=89'>90</a>\u001b[0m         is_hpo\u001b[39m=\u001b[39;49mis_hpo,\n\u001b[1;32m     <a href='file:///home/mila/a/alexandre.duval/ocp/ocp/ocpmodels/trainers/energy_trainer.py?line=90'>91</a>\u001b[0m         print_every\u001b[39m=\u001b[39;49mprint_every,\n\u001b[1;32m     <a href='file:///home/mila/a/alexandre.duval/ocp/ocp/ocpmodels/trainers/energy_trainer.py?line=91'>92</a>\u001b[0m         seed\u001b[39m=\u001b[39;49mseed,\n\u001b[1;32m     <a href='file:///home/mila/a/alexandre.duval/ocp/ocp/ocpmodels/trainers/energy_trainer.py?line=92'>93</a>\u001b[0m         logger\u001b[39m=\u001b[39;49mlogger,\n\u001b[1;32m     <a href='file:///home/mila/a/alexandre.duval/ocp/ocp/ocpmodels/trainers/energy_trainer.py?line=93'>94</a>\u001b[0m         local_rank\u001b[39m=\u001b[39;49mlocal_rank,\n\u001b[1;32m     <a href='file:///home/mila/a/alexandre.duval/ocp/ocp/ocpmodels/trainers/energy_trainer.py?line=94'>95</a>\u001b[0m         amp\u001b[39m=\u001b[39;49mamp,\n\u001b[1;32m     <a href='file:///home/mila/a/alexandre.duval/ocp/ocp/ocpmodels/trainers/energy_trainer.py?line=95'>96</a>\u001b[0m         cpu\u001b[39m=\u001b[39;49mcpu,\n\u001b[1;32m     <a href='file:///home/mila/a/alexandre.duval/ocp/ocp/ocpmodels/trainers/energy_trainer.py?line=96'>97</a>\u001b[0m         name\u001b[39m=\u001b[39;49m\u001b[39m\"\u001b[39;49m\u001b[39mis2re\u001b[39;49m\u001b[39m\"\u001b[39;49m,\n\u001b[1;32m     <a href='file:///home/mila/a/alexandre.duval/ocp/ocp/ocpmodels/trainers/energy_trainer.py?line=97'>98</a>\u001b[0m         slurm\u001b[39m=\u001b[39;49mslurm,\n\u001b[1;32m     <a href='file:///home/mila/a/alexandre.duval/ocp/ocp/ocpmodels/trainers/energy_trainer.py?line=98'>99</a>\u001b[0m     )\n",
      "File \u001b[0;32m~/ocp/ocp/ocpmodels/trainers/base_trainer.py:123\u001b[0m, in \u001b[0;36mBaseTrainer.__init__\u001b[0;34m(self, task, model, dataset, optimizer, identifier, normalizer, timestamp_id, run_dir, is_debug, is_hpo, print_every, seed, logger, local_rank, amp, cpu, name, slurm)\u001b[0m\n\u001b[1;32m    <a href='file:///home/mila/a/alexandre.duval/ocp/ocp/ocpmodels/trainers/base_trainer.py?line=117'>118</a>\u001b[0m     commit_hash \u001b[39m=\u001b[39m \u001b[39mNone\u001b[39;00m\n\u001b[1;32m    <a href='file:///home/mila/a/alexandre.duval/ocp/ocp/ocpmodels/trainers/base_trainer.py?line=119'>120</a>\u001b[0m logger_name \u001b[39m=\u001b[39m logger \u001b[39mif\u001b[39;00m \u001b[39misinstance\u001b[39m(logger, \u001b[39mstr\u001b[39m) \u001b[39melse\u001b[39;00m logger[\u001b[39m\"\u001b[39m\u001b[39mname\u001b[39m\u001b[39m\"\u001b[39m]\n\u001b[1;32m    <a href='file:///home/mila/a/alexandre.duval/ocp/ocp/ocpmodels/trainers/base_trainer.py?line=120'>121</a>\u001b[0m \u001b[39mself\u001b[39m\u001b[39m.\u001b[39mconfig \u001b[39m=\u001b[39m {\n\u001b[1;32m    <a href='file:///home/mila/a/alexandre.duval/ocp/ocp/ocpmodels/trainers/base_trainer.py?line=121'>122</a>\u001b[0m     \u001b[39m\"\u001b[39m\u001b[39mtask\u001b[39m\u001b[39m\"\u001b[39m: task,\n\u001b[0;32m--> <a href='file:///home/mila/a/alexandre.duval/ocp/ocp/ocpmodels/trainers/base_trainer.py?line=122'>123</a>\u001b[0m     \u001b[39m\"\u001b[39m\u001b[39mmodel\u001b[39m\u001b[39m\"\u001b[39m: model\u001b[39m.\u001b[39;49mpop(\u001b[39m\"\u001b[39;49m\u001b[39mname\u001b[39;49m\u001b[39m\"\u001b[39;49m),\n\u001b[1;32m    <a href='file:///home/mila/a/alexandre.duval/ocp/ocp/ocpmodels/trainers/base_trainer.py?line=123'>124</a>\u001b[0m     \u001b[39m\"\u001b[39m\u001b[39mmodel_attributes\u001b[39m\u001b[39m\"\u001b[39m: model,\n\u001b[1;32m    <a href='file:///home/mila/a/alexandre.duval/ocp/ocp/ocpmodels/trainers/base_trainer.py?line=124'>125</a>\u001b[0m     \u001b[39m\"\u001b[39m\u001b[39moptim\u001b[39m\u001b[39m\"\u001b[39m: optimizer,\n\u001b[1;32m    <a href='file:///home/mila/a/alexandre.duval/ocp/ocp/ocpmodels/trainers/base_trainer.py?line=125'>126</a>\u001b[0m     \u001b[39m\"\u001b[39m\u001b[39mlogger\u001b[39m\u001b[39m\"\u001b[39m: logger,\n\u001b[1;32m    <a href='file:///home/mila/a/alexandre.duval/ocp/ocp/ocpmodels/trainers/base_trainer.py?line=126'>127</a>\u001b[0m     \u001b[39m\"\u001b[39m\u001b[39mamp\u001b[39m\u001b[39m\"\u001b[39m: amp,\n\u001b[1;32m    <a href='file:///home/mila/a/alexandre.duval/ocp/ocp/ocpmodels/trainers/base_trainer.py?line=127'>128</a>\u001b[0m     \u001b[39m\"\u001b[39m\u001b[39mgpus\u001b[39m\u001b[39m\"\u001b[39m: distutils\u001b[39m.\u001b[39mget_world_size() \u001b[39mif\u001b[39;00m \u001b[39mnot\u001b[39;00m \u001b[39mself\u001b[39m\u001b[39m.\u001b[39mcpu \u001b[39melse\u001b[39;00m \u001b[39m0\u001b[39m,\n\u001b[1;32m    <a href='file:///home/mila/a/alexandre.duval/ocp/ocp/ocpmodels/trainers/base_trainer.py?line=128'>129</a>\u001b[0m     \u001b[39m\"\u001b[39m\u001b[39mcmd\u001b[39m\u001b[39m\"\u001b[39m: {\n\u001b[1;32m    <a href='file:///home/mila/a/alexandre.duval/ocp/ocp/ocpmodels/trainers/base_trainer.py?line=129'>130</a>\u001b[0m         \u001b[39m\"\u001b[39m\u001b[39midentifier\u001b[39m\u001b[39m\"\u001b[39m: identifier,\n\u001b[1;32m    <a href='file:///home/mila/a/alexandre.duval/ocp/ocp/ocpmodels/trainers/base_trainer.py?line=130'>131</a>\u001b[0m         \u001b[39m\"\u001b[39m\u001b[39mprint_every\u001b[39m\u001b[39m\"\u001b[39m: print_every,\n\u001b[1;32m    <a href='file:///home/mila/a/alexandre.duval/ocp/ocp/ocpmodels/trainers/base_trainer.py?line=131'>132</a>\u001b[0m         \u001b[39m\"\u001b[39m\u001b[39mseed\u001b[39m\u001b[39m\"\u001b[39m: seed,\n\u001b[1;32m    <a href='file:///home/mila/a/alexandre.duval/ocp/ocp/ocpmodels/trainers/base_trainer.py?line=132'>133</a>\u001b[0m         \u001b[39m\"\u001b[39m\u001b[39mtimestamp_id\u001b[39m\u001b[39m\"\u001b[39m: \u001b[39mself\u001b[39m\u001b[39m.\u001b[39mtimestamp_id,\n\u001b[1;32m    <a href='file:///home/mila/a/alexandre.duval/ocp/ocp/ocpmodels/trainers/base_trainer.py?line=133'>134</a>\u001b[0m         \u001b[39m\"\u001b[39m\u001b[39mcommit\u001b[39m\u001b[39m\"\u001b[39m: commit_hash,\n\u001b[1;32m    <a href='file:///home/mila/a/alexandre.duval/ocp/ocp/ocpmodels/trainers/base_trainer.py?line=134'>135</a>\u001b[0m         \u001b[39m\"\u001b[39m\u001b[39mcheckpoint_dir\u001b[39m\u001b[39m\"\u001b[39m: os\u001b[39m.\u001b[39mpath\u001b[39m.\u001b[39mjoin(\n\u001b[1;32m    <a href='file:///home/mila/a/alexandre.duval/ocp/ocp/ocpmodels/trainers/base_trainer.py?line=135'>136</a>\u001b[0m             run_dir, \u001b[39m\"\u001b[39m\u001b[39mcheckpoints\u001b[39m\u001b[39m\"\u001b[39m, \u001b[39mself\u001b[39m\u001b[39m.\u001b[39mtimestamp_id\n\u001b[1;32m    <a href='file:///home/mila/a/alexandre.duval/ocp/ocp/ocpmodels/trainers/base_trainer.py?line=136'>137</a>\u001b[0m         ),\n\u001b[1;32m    <a href='file:///home/mila/a/alexandre.duval/ocp/ocp/ocpmodels/trainers/base_trainer.py?line=137'>138</a>\u001b[0m         \u001b[39m\"\u001b[39m\u001b[39mresults_dir\u001b[39m\u001b[39m\"\u001b[39m: os\u001b[39m.\u001b[39mpath\u001b[39m.\u001b[39mjoin(run_dir, \u001b[39m\"\u001b[39m\u001b[39mresults\u001b[39m\u001b[39m\"\u001b[39m, \u001b[39mself\u001b[39m\u001b[39m.\u001b[39mtimestamp_id),\n\u001b[1;32m    <a href='file:///home/mila/a/alexandre.duval/ocp/ocp/ocpmodels/trainers/base_trainer.py?line=138'>139</a>\u001b[0m         \u001b[39m\"\u001b[39m\u001b[39mlogs_dir\u001b[39m\u001b[39m\"\u001b[39m: os\u001b[39m.\u001b[39mpath\u001b[39m.\u001b[39mjoin(\n\u001b[1;32m    <a href='file:///home/mila/a/alexandre.duval/ocp/ocp/ocpmodels/trainers/base_trainer.py?line=139'>140</a>\u001b[0m             run_dir, \u001b[39m\"\u001b[39m\u001b[39mlogs\u001b[39m\u001b[39m\"\u001b[39m, logger_name, \u001b[39mself\u001b[39m\u001b[39m.\u001b[39mtimestamp_id\n\u001b[1;32m    <a href='file:///home/mila/a/alexandre.duval/ocp/ocp/ocpmodels/trainers/base_trainer.py?line=140'>141</a>\u001b[0m         ),\n\u001b[1;32m    <a href='file:///home/mila/a/alexandre.duval/ocp/ocp/ocpmodels/trainers/base_trainer.py?line=141'>142</a>\u001b[0m     },\n\u001b[1;32m    <a href='file:///home/mila/a/alexandre.duval/ocp/ocp/ocpmodels/trainers/base_trainer.py?line=142'>143</a>\u001b[0m     \u001b[39m\"\u001b[39m\u001b[39mslurm\u001b[39m\u001b[39m\"\u001b[39m: slurm,\n\u001b[1;32m    <a href='file:///home/mila/a/alexandre.duval/ocp/ocp/ocpmodels/trainers/base_trainer.py?line=143'>144</a>\u001b[0m }\n\u001b[1;32m    <a href='file:///home/mila/a/alexandre.duval/ocp/ocp/ocpmodels/trainers/base_trainer.py?line=144'>145</a>\u001b[0m \u001b[39m# AMP Scaler\u001b[39;00m\n\u001b[1;32m    <a href='file:///home/mila/a/alexandre.duval/ocp/ocp/ocpmodels/trainers/base_trainer.py?line=145'>146</a>\u001b[0m \u001b[39mself\u001b[39m\u001b[39m.\u001b[39mscaler \u001b[39m=\u001b[39m torch\u001b[39m.\u001b[39mcuda\u001b[39m.\u001b[39mamp\u001b[39m.\u001b[39mGradScaler() \u001b[39mif\u001b[39;00m amp \u001b[39melse\u001b[39;00m \u001b[39mNone\u001b[39;00m\n",
      "\u001b[0;31mKeyError\u001b[0m: 'name'"
     ]
    }
   ],
   "source": [
    "# Load best checkpoint\n",
    "\n",
    "checkpoint_path = os.path.join(trainer.config[\"cmd\"][\"checkpoint_dir\"], \"checkpoint.pt\")\n",
    "checkpoint_path\n",
    "\n",
    "pretrained_trainer = EnergyTrainer(\n",
    "    task=task,\n",
    "    model=model,\n",
    "    dataset=dataset,\n",
    "    optimizer=optimizer,\n",
    "    identifier=\"SchNet-example-energy\",\n",
    "    run_dir=\"./\", # directory to save results if is_debug=False. Prediction files are saved here so be careful not to override!\n",
    "    is_debug=False, # if True, do not save checkpoint, logs, or results\n",
    "    #is_vis=False,\n",
    "    print_every=10,\n",
    "    seed=0, # random seed to use\n",
    "    logger=\"tensorboard\", # logger of choice (tensorboard and wandb supported)\n",
    "    local_rank=0,\n",
    "    amp=False, # use PyTorch Automatic Mixed Precision (faster training and less memory usage)\n",
    ")\n",
    "\n",
    "pretrained_trainer.load_checkpoint(checkpoint_path=checkpoint_path)"
   ]
  },
  {
   "cell_type": "code",
   "execution_count": null,
   "metadata": {},
   "outputs": [],
   "source": []
  }
 ],
 "metadata": {
  "interpreter": {
   "hash": "62c2f410add8ddd70ce2557c359212c690b78b2837723d0973dfb944799f2316"
  },
  "kernelspec": {
   "display_name": "ocp",
   "language": "python",
   "name": "python3"
  },
  "language_info": {
   "codemirror_mode": {
    "name": "ipython",
    "version": 3
   },
   "file_extension": ".py",
   "mimetype": "text/x-python",
   "name": "python",
   "nbconvert_exporter": "python",
   "pygments_lexer": "ipython3",
   "version": "3.8.2"
  }
 },
 "nbformat": 4,
 "nbformat_minor": 4
}
