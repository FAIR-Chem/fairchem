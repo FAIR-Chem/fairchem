{
 "cells": [
  {
   "cell_type": "code",
   "execution_count": 1,
   "metadata": {},
   "outputs": [
    {
     "name": "stderr",
     "output_type": "stream",
     "text": [
      "Global seed set to 42\n"
     ]
    }
   ],
   "source": [
    "import lovely_tensors as lt\n",
    "from lightning_fabric import seed_everything\n",
    "\n",
    "seed_everything(42)\n",
    "\n",
    "lt.monkey_patch()"
   ]
  },
  {
   "cell_type": "code",
   "execution_count": 2,
   "metadata": {},
   "outputs": [
    {
     "name": "stdout",
     "output_type": "stream",
     "text": [
      "{}\n",
      "{'test': {'test2': {'test3': {'x': [tensor[5, 4] n=20 x∈[-1.336, 0.962] μ=0.133 σ=0.570]},\n",
      "                    'test6': {'y': [tensor[5, 4] n=20 x∈[-1.177, 1.622] μ=0.029 σ=0.750]},\n",
      "                    'torch.randn(12, 4)': [tensor[12, 4] n=48 x∈[-2.567, 1.344] μ=-0.027 σ=0.895,\n",
      "                                           tensor[12, 4] n=48 x∈[-2.069, 3.384] μ=0.277 σ=1.142,\n",
      "                                           tensor[12, 4] n=48 x∈[-2.182, 2.326] μ=0.017 σ=0.933],\n",
      "                    'torch.randn(3, 4)': [tensor[3, 4] n=12 x∈[-1.752, 1.438] μ=-0.353 σ=0.795],\n",
      "                    'z': [tensor[5, 4] n=20 x∈[-1.692, 2.366] μ=0.028 σ=1.199]},\n",
      "          'test4': [tensor[3, 4] n=12 x∈[-2.180, 0.667] μ=-0.511 σ=0.984],\n",
      "          'w': [tensor[5, 4] n=20 x∈[-2.172, 1.094] μ=-0.341 σ=0.756,\n",
      "                tensor[5, 4] n=20 x∈[-2.172, 1.094] μ=-0.341 σ=0.756,\n",
      "                tensor[5, 4] n=20 x∈[-2.172, 1.094] μ=-0.341 σ=0.756,\n",
      "                tensor[5, 4] n=20 x∈[-2.172, 1.094] μ=-0.341 σ=0.756]}}\n"
     ]
    }
   ],
   "source": [
    "import torch\n",
    "from ll.activations import Activations\n",
    "\n",
    "\n",
    "def test(A: Activations):\n",
    "    with A.context(\"test\"):\n",
    "        A.save(torch.randn(3, 4), name=\"test4\")\n",
    "\n",
    "        with A.context(\"test2\"):\n",
    "            A.save(torch.randn(3, 4))\n",
    "\n",
    "            with A.context(\"test3\"):\n",
    "                x = torch.randn(5, 4)\n",
    "                A.save(x)\n",
    "\n",
    "            z = torch.randn(5, 4)\n",
    "            A.save(z)\n",
    "\n",
    "            with A.context(\"test6\"):\n",
    "                y = torch.randn(5, 4)\n",
    "                A.save(y)\n",
    "\n",
    "            A.save(torch.randn(12, 4))\n",
    "            A.save(torch.randn(12, 4))\n",
    "            A.save(torch.randn(12, 4))\n",
    "\n",
    "        w = torch.randn(5, 4)\n",
    "        A.save(w)\n",
    "        A.save(w)\n",
    "        A.save(w)\n",
    "        A.save(w)\n",
    "\n",
    "    print(A)\n",
    "\n",
    "\n",
    "test(Activations(enabled=False))\n",
    "\n",
    "test(Activations(enabled=True))"
   ]
  }
 ],
 "metadata": {
  "kernelspec": {
   "display_name": "base",
   "language": "python",
   "name": "python3"
  },
  "language_info": {
   "codemirror_mode": {
    "name": "ipython",
    "version": 3
   },
   "file_extension": ".py",
   "mimetype": "text/x-python",
   "name": "python",
   "nbconvert_exporter": "python",
   "pygments_lexer": "ipython3",
   "version": "3.10.9"
  },
  "orig_nbformat": 4,
  "vscode": {
   "interpreter": {
    "hash": "d4d1e4263499bec80672ea0156c357c1ee493ec2b1c70f0acce89fc37c4a6abe"
   }
  }
 },
 "nbformat": 4,
 "nbformat_minor": 2
}
