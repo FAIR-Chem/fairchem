{
 "cells": [
  {
   "cell_type": "markdown",
   "metadata": {},
   "source": [
    "# Tutorial for using Fair Chemistry models to relax NEBs"
   ]
  },
  {
   "cell_type": "code",
   "execution_count": null,
   "metadata": {},
   "outputs": [],
   "source": [
    "from ase.optimize import BFGS\n",
    "from ase.io import read\n",
    "\n",
    "from fairchem.applications.cattsunami.core.autoframe import interpolate\n",
    "from fairchem.applications.cattsunami.core import OCPNEB\n",
    "from fairchem.core.models.model_registry import model_name_to_local_file\n",
    "\n",
    "#Optional\n",
    "from x3dase.x3d import X3D\n",
    "import matplotlib.pyplot as plt"
   ]
  },
  {
   "cell_type": "markdown",
   "metadata": {},
   "source": [
    "## Set up inputs\n",
    "\n",
    "Shown here are the values used consistently throughout the paper."
   ]
  },
  {
   "cell_type": "code",
   "execution_count": null,
   "metadata": {},
   "outputs": [],
   "source": [
    "fmax = 0.05 # [eV / ang]\n",
    "delta_fmax_climb = 0.4 # this means that when the fmax is below 0.45 eV/Ang climbing image will be turned on\n",
    "k = 1 # you may adjust this value as you see fit\n",
    "cpu = True # set to False if you have a GPU\n",
    "\n",
    "\n",
    "# NOTE: Change the checkpoint path to locally downloaded files as needed\n",
    "checkpoint_path = model_name_to_local_file('EquiformerV2-31M-S2EF-OC20-All+MD', local_cache='/tmp/ocp_checkpoints/')"
   ]
  },
  {
   "cell_type": "markdown",
   "metadata": {},
   "source": [
    "## If you have your own set of NEB frames"
   ]
  },
  {
   "cell_type": "code",
   "execution_count": null,
   "metadata": {},
   "outputs": [],
   "source": [
    "\"\"\"\n",
    "Load your frames (change to the appropriate loading method)\n",
    "The approach uses ase, so you must provide a list of ase.Atoms objects\n",
    "with the appropriate constraints.\n",
    "\"\"\"\n",
    "\n",
    "frame_set = read(\"sample_traj.traj\", \":\") # Change to the path to your atoms of the frame set"
   ]
  },
  {
   "cell_type": "code",
   "execution_count": null,
   "metadata": {},
   "outputs": [],
   "source": [
    "neb = OCPNEB(\n",
    "    frame_set,\n",
    "    checkpoint_path=checkpoint_path,\n",
    "    k=k,\n",
    "    batch_size=8, # If you get a memory error, try reducing this to 4\n",
    "    cpu = cpu,\n",
    ")\n",
    "optimizer = BFGS(\n",
    "    neb,\n",
    "    trajectory=f\"your-neb.traj\",\n",
    ")\n",
    "conv = optimizer.run(fmax=fmax + delta_fmax_climb, steps=200)\n",
    "if conv:\n",
    "    neb.climb = True\n",
    "    conv = optimizer.run(fmax=fmax, steps=300)"
   ]
  },
  {
   "cell_type": "markdown",
   "metadata": {},
   "source": [
    "## If you have a proposed initial and final frame\n",
    "\n",
    "You may use the `interpolate` function we implemented which is very similar to idpp but not sensative to periodic boundary crossings. Alternatively you can adopt whatever interpolation scheme you prefer. The `interpolate` function lacks some of the extra protections implemented in the `interpolate_and_correct_frames` which is used in the CatTSunami enumeration workflow. Care should be taken to ensure the results are reasonable.\n",
    "\n",
    "IMPORTANT NOTES: \n",
    "1. Make sure the indices in the initial and final frame map to the same atoms\n",
    "2. Ensure you have the proper constraints on subsurface atoms\n"
   ]
  },
  {
   "cell_type": "code",
   "execution_count": null,
   "metadata": {},
   "outputs": [],
   "source": [
    "\"\"\"\n",
    "Load your initial and frames (change to the appropriate loading method)\n",
    "The approach uses ase, so you must provide ase.Atoms objects\n",
    "with the appropriate constraints (i.e. fixed subsurface atoms).\n",
    "\"\"\"\n",
    "initial_frame = read(\"path-to-your-initial-atoms.traj\")\n",
    "final_frame = read(\"path-to-your-final-atoms.traj\")\n",
    "num_frames = 10 # you may change this to whatever you like"
   ]
  },
  {
   "cell_type": "code",
   "execution_count": null,
   "metadata": {},
   "outputs": [],
   "source": [
    "frame_set = interpolate(initial_frame, final_frame, num_frames)\n",
    "\n",
    "neb = OCPNEB(\n",
    "    frame_set,\n",
    "    checkpoint_path=checkpoint_path,\n",
    "    k=k,\n",
    "    batch_size=8, # If you get a memory error, try reducing this to 4\n",
    "    cpu = cpu,\n",
    ")\n",
    "optimizer = BFGS(\n",
    "    neb,\n",
    "    trajectory=f\"your-neb.traj\",\n",
    ")\n",
    "conv = optimizer.run(fmax=fmax + delta_fmax_climb, steps=200)\n",
    "if conv:\n",
    "    neb.climb = True\n",
    "    conv = optimizer.run(fmax=fmax, steps=300)"
   ]
  },
  {
   "cell_type": "markdown",
   "metadata": {},
   "source": [
    "## Visualize the results"
   ]
  },
  {
   "cell_type": "code",
   "execution_count": null,
   "metadata": {},
   "outputs": [],
   "source": [
    "optimized_neb = read(f\"your-neb.traj\", \":\")[-1*nframes:]"
   ]
  },
  {
   "cell_type": "code",
   "execution_count": null,
   "metadata": {},
   "outputs": [],
   "source": [
    "es  = []\n",
    "for frame in optimized_neb:\n",
    "    frame.set_calculator(calc)\n",
    "    es.append(frame.get_potential_energy())"
   ]
  },
  {
   "cell_type": "code",
   "execution_count": null,
   "metadata": {},
   "outputs": [],
   "source": [
    "# Plot the reaction coordinate\n",
    "\n",
    "es = [e - es[0] for e in es]\n",
    "plt.plot(es)\n",
    "plt.xlabel(\"frame number\")\n",
    "plt.ylabel(\"relative energy [eV]\")\n",
    "plt.title(f\"Ea = {max(es):1.2f} eV\")\n",
    "plt.savefig(\"reaction_coordinate.png\")"
   ]
  },
  {
   "cell_type": "code",
   "execution_count": null,
   "metadata": {},
   "outputs": [],
   "source": [
    "# Make an interative html file of the optimized neb trajectory\n",
    "x3d = X3D(optimized_neb)\n",
    "x3d.write(\"your-neb.html\")"
   ]
  }
 ],
 "metadata": {
  "kernelspec": {
   "display_name": "Python 3 (ipykernel)",
   "language": "python",
   "name": "python3"
  },
  "language_info": {
   "codemirror_mode": {
    "name": "ipython",
    "version": 3
   },
   "file_extension": ".py",
   "mimetype": "text/x-python",
   "name": "python",
   "nbconvert_exporter": "python",
   "pygments_lexer": "ipython3",
   "version": "3.9.15"
  }
 },
 "nbformat": 4,
 "nbformat_minor": 2
}
